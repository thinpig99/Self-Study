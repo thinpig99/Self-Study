{
 "cells": [
  {
   "cell_type": "markdown",
   "metadata": {},
   "source": [
    "## Chapter6: Movie Review Sentimental Analysis with LSTM"
   ]
  },
  {
   "cell_type": "markdown",
   "metadata": {},
   "source": [
    "### 6.1 Library"
   ]
  },
  {
   "cell_type": "code",
   "execution_count": 1,
   "metadata": {},
   "outputs": [
    {
     "name": "stderr",
     "output_type": "stream",
     "text": [
      "Using TensorFlow backend.\n"
     ]
    }
   ],
   "source": [
    "import keras\n",
    "import matplotlib.pyplot as plt\n",
    "import seaborn as sns\n",
    "import pandas as pd\n",
    "import numpy as np"
   ]
  },
  {
   "cell_type": "markdown",
   "metadata": {},
   "source": [
    "### 6.2 Sequence"
   ]
  },
  {
   "cell_type": "markdown",
   "metadata": {},
   "source": [
    "**시퀀스 문제**는 머신러닝 문제 중 하나로, 모델에 입력할 특징 변수의 순서가 예측에 중요한 비중을 차지하는 문제다. 예는 다음과 같다.\n",
    "\n",
    "- 자연어 처리 문제: 감성 분석, 기계 번역, 다음 단어 예측\n",
    "- 시계열 예측"
   ]
  },
  {
   "cell_type": "markdown",
   "metadata": {},
   "source": [
    "### 6.4  RNN"
   ]
  },
  {
   "cell_type": "markdown",
   "metadata": {},
   "source": [
    "RNN의 원리는 인강이나 책을 찾아보기 바란다. 여기에 적기에는 너무 길다..."
   ]
  },
  {
   "cell_type": "markdown",
   "metadata": {},
   "source": [
    "### 6.5 LSTM"
   ]
  },
  {
   "cell_type": "markdown",
   "metadata": {},
   "source": [
    "아무튼 RNN의 경사소실문제를 해결하려고 나온 것이 LSTM이다. 장기 의존성을 고려한 모델이다."
   ]
  },
  {
   "cell_type": "markdown",
   "metadata": {},
   "source": [
    "### 6.6 IMDb Movie Review Dataset"
   ]
  },
  {
   "cell_type": "markdown",
   "metadata": {},
   "source": [
    "IMDb 영화 리뷰 데이터는 리뷰 말뭉치 데이터셋이며, 각 리뷰에는 레이블이 달렸고, 1은 긍정, 0은 부정을 나타낸다. 케라스에서 준다."
   ]
  },
  {
   "cell_type": "code",
   "execution_count": 2,
   "metadata": {},
   "outputs": [],
   "source": [
    "from keras.datasets import imdb"
   ]
  },
  {
   "cell_type": "code",
   "execution_count": 3,
   "metadata": {},
   "outputs": [
    {
     "name": "stdout",
     "output_type": "stream",
     "text": [
      "Downloading data from https://s3.amazonaws.com/text-datasets/imdb.npz\n",
      "17465344/17464789 [==============================] - 32s 2us/step\n"
     ]
    }
   ],
   "source": [
    "train, test = imdb.load_data(index_from=3)\n",
    "X_train, y_train = train\n",
    "X_test, y_test = test"
   ]
  },
  {
   "cell_type": "code",
   "execution_count": 4,
   "metadata": {},
   "outputs": [
    {
     "name": "stdout",
     "output_type": "stream",
     "text": [
      "[1, 14, 22, 16, 43, 530, 973, 1622, 1385, 65, 458, 4468, 66, 3941, 4, 173, 36, 256, 5, 25, 100, 43, 838, 112, 50, 670, 22665, 9, 35, 480, 284, 5, 150, 4, 172, 112, 167, 21631, 336, 385, 39, 4, 172, 4536, 1111, 17, 546, 38, 13, 447, 4, 192, 50, 16, 6, 147, 2025, 19, 14, 22, 4, 1920, 4613, 469, 4, 22, 71, 87, 12, 16, 43, 530, 38, 76, 15, 13, 1247, 4, 22, 17, 515, 17, 12, 16, 626, 18, 19193, 5, 62, 386, 12, 8, 316, 8, 106, 5, 4, 2223, 5244, 16, 480, 66, 3785, 33, 4, 130, 12, 16, 38, 619, 5, 25, 124, 51, 36, 135, 48, 25, 1415, 33, 6, 22, 12, 215, 28, 77, 52, 5, 14, 407, 16, 82, 10311, 8, 4, 107, 117, 5952, 15, 256, 4, 31050, 7, 3766, 5, 723, 36, 71, 43, 530, 476, 26, 400, 317, 46, 7, 4, 12118, 1029, 13, 104, 88, 4, 381, 15, 297, 98, 32, 2071, 56, 26, 141, 6, 194, 7486, 18, 4, 226, 22, 21, 134, 476, 26, 480, 5, 144, 30, 5535, 18, 51, 36, 28, 224, 92, 25, 104, 4, 226, 65, 16, 38, 1334, 88, 12, 16, 283, 5, 16, 4472, 113, 103, 32, 15, 16, 5345, 19, 178, 32]\n"
     ]
    }
   ],
   "source": [
    "print(X_train[0])"
   ]
  },
  {
   "cell_type": "markdown",
   "metadata": {},
   "source": [
    "단어를 숫자로 이미 인코딩해서 그렇다고 한다. 케라스에 내장된 딕셔너리를 사용해 단어로 다시 변환한다."
   ]
  },
  {
   "cell_type": "code",
   "execution_count": 5,
   "metadata": {},
   "outputs": [
    {
     "name": "stdout",
     "output_type": "stream",
     "text": [
      "Downloading data from https://s3.amazonaws.com/text-datasets/imdb_word_index.json\n",
      "1646592/1641221 [==============================] - 7s 4us/step\n"
     ]
    }
   ],
   "source": [
    "word_to_id = imdb.get_word_index()\n",
    "word_to_id = {key:(value+3) for key, value in word_to_id.items()}\n",
    "word_to_id[\"<PAD>\"] = 0\n",
    "word_to_id[\"<START>\"] = 1\n",
    "id_to_word = {value:key for key, value in word_to_id.items()}"
   ]
  },
  {
   "cell_type": "code",
   "execution_count": 6,
   "metadata": {},
   "outputs": [
    {
     "name": "stdout",
     "output_type": "stream",
     "text": [
      "<START> a rating of 1 does not begin to express how dull depressing and relentlessly bad this movie is\n"
     ]
    }
   ],
   "source": [
    "print(' '.join(id_to_word[id] for id in X_train[159]))"
   ]
  },
  {
   "cell_type": "code",
   "execution_count": 7,
   "metadata": {},
   "outputs": [
    {
     "name": "stdout",
     "output_type": "stream",
     "text": [
      "0\n"
     ]
    }
   ],
   "source": [
    "print(y_train[159])"
   ]
  },
  {
   "cell_type": "markdown",
   "metadata": {},
   "source": [
    "부정적인 리뷰가 튀어나왔다."
   ]
  },
  {
   "cell_type": "markdown",
   "metadata": {},
   "source": [
    "### 6.7 Word Embedding"
   ]
  },
  {
   "cell_type": "markdown",
   "metadata": {},
   "source": [
    "단어를 컴퓨터에 입력시키려면 단순한 방법으로는 안된다. 그림은 화소의 픽셀 값으로 이미 디지털화가 되어 있지만 단어는 그렇지 않다.\n",
    "\n",
    "이를 수학적으로 표현해주어야 한다. 인코딩을 해야하는데 단순한 인코딩은 안되고 임베딩 기법을 쓴다. 자세한 건 따로 알아보도록 하자. 암튼 좌표상에 올려놓는 것이다."
   ]
  },
  {
   "cell_type": "markdown",
   "metadata": {},
   "source": [
    "### 6.9 Modeling"
   ]
  },
  {
   "cell_type": "markdown",
   "metadata": {},
   "source": [
    "모델의 아키텍쳐는 다음과 같다.\n",
    "\n",
    "- 입력\n",
    "- 임베딩 레이어\n",
    "- LSTM 레이어\n",
    "- 덴스 레이어\n",
    "- 출력"
   ]
  },
  {
   "cell_type": "markdown",
   "metadata": {},
   "source": [
    "#### 6.9.1 DATA"
   ]
  },
  {
   "cell_type": "code",
   "execution_count": 10,
   "metadata": {},
   "outputs": [],
   "source": [
    "# num_words 인자를 통해 단어 수를 정하자. 10000개만 받자.\n",
    "\n",
    "train, test = imdb.load_data(num_words=10000)\n",
    "X_train, y_train = train\n",
    "X_test, y_test = test"
   ]
  },
  {
   "cell_type": "code",
   "execution_count": 11,
   "metadata": {},
   "outputs": [
    {
     "name": "stdout",
     "output_type": "stream",
     "text": [
      "25000\n",
      "25000\n"
     ]
    }
   ],
   "source": [
    "print(X_train.shape[0])\n",
    "print(X_test.shape[0])"
   ]
  },
  {
   "cell_type": "markdown",
   "metadata": {},
   "source": [
    "#### 6.9.2 Zero Padding"
   ]
  },
  {
   "cell_type": "markdown",
   "metadata": {},
   "source": [
    "영화 리뷰의 길이가 각각 다르므로 입력 벡터의 크기도 다르다. 신경망은 정해진 크기의 벡터만 입력받을 수 있다.\n",
    "\n",
    "영화 리뷰의 최대 길이를 maxlen 매개변수로 정의해 이 문제를 해결할 것이다.\n",
    "\n",
    "maxlen 보다 긴 리뷰는 자르고, 짧은 리뷰는 0을 채울 수 있다. 이 과정을 zero padding이라고 한다."
   ]
  },
  {
   "cell_type": "code",
   "execution_count": 12,
   "metadata": {},
   "outputs": [],
   "source": [
    "from keras.preprocessing import sequence"
   ]
  },
  {
   "cell_type": "code",
   "execution_count": 13,
   "metadata": {},
   "outputs": [],
   "source": [
    "X_train_padded = sequence.pad_sequences(X_train, maxlen=100)\n",
    "X_test_padded = sequence.pad_sequences(X_test, maxlen=100)"
   ]
  },
  {
   "cell_type": "code",
   "execution_count": 15,
   "metadata": {},
   "outputs": [
    {
     "name": "stdout",
     "output_type": "stream",
     "text": [
      "(25000, 100)\n",
      "(25000, 100)\n"
     ]
    }
   ],
   "source": [
    "print(X_train_padded.shape)\n",
    "print(X_test_padded.shape)"
   ]
  },
  {
   "cell_type": "markdown",
   "metadata": {},
   "source": [
    "100으로 길이를 맞췄다."
   ]
  },
  {
   "cell_type": "markdown",
   "metadata": {},
   "source": [
    "#### 6.9.3 Embedding Layer, LSTM Layer"
   ]
  },
  {
   "cell_type": "code",
   "execution_count": 16,
   "metadata": {},
   "outputs": [],
   "source": [
    "from keras.models import Sequential"
   ]
  },
  {
   "cell_type": "code",
   "execution_count": 17,
   "metadata": {},
   "outputs": [],
   "source": [
    "model=Sequential()"
   ]
  },
  {
   "cell_type": "code",
   "execution_count": 18,
   "metadata": {},
   "outputs": [],
   "source": [
    "from keras.layers import Embedding, Dense, LSTM"
   ]
  },
  {
   "cell_type": "markdown",
   "metadata": {},
   "source": [
    "Embedding 클래스는 다음 인자를 전달해야 한다.\n",
    "\n",
    "- input_dim: 워드 임베딩 레이어의 입력 벡터 차원. 입력 벡터의 차원 수는 데이터셋에 있는 단어의 고유 개수와 동일해야 한다. 따라서 앞서 데이터 가져올 때 쓴 num_words 값을 그대로 쓴다.\n",
    "- output_dim: 출력 벡터 차원. 이 값은 실험을 통해 신중히 결정해야 한다. 여기서는 128로 지정한다."
   ]
  },
  {
   "cell_type": "code",
   "execution_count": 20,
   "metadata": {},
   "outputs": [],
   "source": [
    "model.add(Embedding(input_dim=10000, output_dim=128))"
   ]
  },
  {
   "cell_type": "markdown",
   "metadata": {},
   "source": [
    "LSTM 클래스에는 다음 인자를 전달해야 한다.\n",
    "\n",
    "- units: LSTM레이어의 반복 유닛 수를 지정한다. 유닛이 많을수록 모델 복잡, 훈련 시간 증가, 과적합 우려. 여기선 128\n",
    "- activation: 셀 상태와 은닉 상태의 활성화 함수. 디폴트는 tanh.\n",
    "- recurrent_activation: 망각 게이트, 입력 게이트, 출력 게이트에 적용할 활성화 함수. 디폴트는 sigmoid\n",
    "\n",
    "리커런트 액티베이션을 보면 세 개의 게이트에 각기 다른 활성화 함수를 쓸 수 없다. 케라스의 한계이기도 한데, 연구결과에 따르면 다르게 해도 그닥 좋지 않다는..."
   ]
  },
  {
   "cell_type": "code",
   "execution_count": 21,
   "metadata": {},
   "outputs": [],
   "source": [
    "model.add(LSTM(units=128))"
   ]
  },
  {
   "cell_type": "markdown",
   "metadata": {},
   "source": [
    "마지막으로 Dense 레이러를 추가한다. 긍부정을 분류해야 하기 때문에 sigmoid 쓴다."
   ]
  },
  {
   "cell_type": "code",
   "execution_count": 22,
   "metadata": {},
   "outputs": [],
   "source": [
    "model.add(Dense(units=1, activation='sigmoid'))"
   ]
  },
  {
   "cell_type": "code",
   "execution_count": 23,
   "metadata": {},
   "outputs": [
    {
     "name": "stdout",
     "output_type": "stream",
     "text": [
      "Model: \"sequential_1\"\n",
      "_________________________________________________________________\n",
      "Layer (type)                 Output Shape              Param #   \n",
      "=================================================================\n",
      "embedding_1 (Embedding)      (None, None, 128)         1280000   \n",
      "_________________________________________________________________\n",
      "lstm_1 (LSTM)                (None, 128)               131584    \n",
      "_________________________________________________________________\n",
      "dense_1 (Dense)              (None, 1)                 129       \n",
      "=================================================================\n",
      "Total params: 1,411,713\n",
      "Trainable params: 1,411,713\n",
      "Non-trainable params: 0\n",
      "_________________________________________________________________\n"
     ]
    }
   ],
   "source": [
    "model.summary()"
   ]
  },
  {
   "cell_type": "markdown",
   "metadata": {},
   "source": [
    "#### 6.9.4 Compile and fit"
   ]
  },
  {
   "cell_type": "markdown",
   "metadata": {},
   "source": [
    "LSTM에는 어떤 옵티마이저가 적합한지 아직 명확한 정답이 없다. 경사 소실 문제와 경사 폭증 문제 또한 발생한다. 적당한 애들 써보며 비교하는 수 밖에 없다.\n",
    "\n",
    "여기서는 sgd, adam, RMSprop 를 비교해보겠다."
   ]
  },
  {
   "cell_type": "code",
   "execution_count": 24,
   "metadata": {},
   "outputs": [],
   "source": [
    "# sgd 부터\n",
    "Optimizer = 'SGD'"
   ]
  },
  {
   "cell_type": "code",
   "execution_count": 25,
   "metadata": {},
   "outputs": [],
   "source": [
    "model.compile(loss='binary_crossentropy', optimizer=Optimizer)"
   ]
  },
  {
   "cell_type": "code",
   "execution_count": 26,
   "metadata": {},
   "outputs": [
    {
     "name": "stderr",
     "output_type": "stream",
     "text": [
      "C:\\Users\\thinp\\anaconda3\\envs\\Wyatt37\\lib\\site-packages\\tensorflow\\python\\framework\\indexed_slices.py:434: UserWarning: Converting sparse IndexedSlices to a dense Tensor of unknown shape. This may consume a large amount of memory.\n",
      "  \"Converting sparse IndexedSlices to a dense Tensor of unknown shape. \"\n"
     ]
    },
    {
     "name": "stdout",
     "output_type": "stream",
     "text": [
      "Train on 25000 samples, validate on 25000 samples\n",
      "Epoch 1/10\n",
      "25000/25000 [==============================] - 153s 6ms/step - loss: 0.6932 - val_loss: 0.6931\n",
      "Epoch 2/10\n",
      "25000/25000 [==============================] - 164s 7ms/step - loss: 0.6932 - val_loss: 0.6931\n",
      "Epoch 3/10\n",
      "25000/25000 [==============================] - 176s 7ms/step - loss: 0.6931 - val_loss: 0.6930\n",
      "Epoch 4/10\n",
      "25000/25000 [==============================] - 210s 8ms/step - loss: 0.6930 - val_loss: 0.6930\n",
      "Epoch 5/10\n",
      "25000/25000 [==============================] - 237s 9ms/step - loss: 0.6930 - val_loss: 0.6929\n",
      "Epoch 6/10\n",
      "25000/25000 [==============================] - 226s 9ms/step - loss: 0.6929 - val_loss: 0.6928\n",
      "Epoch 7/10\n",
      "25000/25000 [==============================] - 202s 8ms/step - loss: 0.6928 - val_loss: 0.6928\n",
      "Epoch 8/10\n",
      "25000/25000 [==============================] - 165s 7ms/step - loss: 0.6928 - val_loss: 0.6927\n",
      "Epoch 9/10\n",
      "25000/25000 [==============================] - 139s 6ms/step - loss: 0.6927 - val_loss: 0.6926\n",
      "Epoch 10/10\n",
      "25000/25000 [==============================] - 125s 5ms/step - loss: 0.6926 - val_loss: 0.6926\n"
     ]
    }
   ],
   "source": [
    "# 에폭은 10 , 테스트 셋을 발리데이션으로 모델 훈련\n",
    "\n",
    "scores = model.fit(x=X_train_padded, y=y_train,\n",
    "                  batch_size=128, epochs=10,\n",
    "                  validation_data=(X_test_padded, y_test))"
   ]
  },
  {
   "cell_type": "markdown",
   "metadata": {},
   "source": [
    "옵티마이저별로 모델을 만들어 비교하기 위해 함수로 만들어 놓자."
   ]
  },
  {
   "cell_type": "code",
   "execution_count": 31,
   "metadata": {},
   "outputs": [],
   "source": [
    "def train_model(Optimizer, X_train, y_train, X_val, y_val):\n",
    "    model = Sequential()\n",
    "    model.add(Embedding(input_dim=10000, output_dim=128))\n",
    "    model.add(LSTM(units=128))\n",
    "    model.add(Dense(units=1, activation='sigmoid'))\n",
    "    model.compile(loss='binary_crossentropy', optimizer=Optimizer, metrics=['accuracy'])\n",
    "    scores = model.fit(X_train, y_train, batch_size=128, epochs=10,\n",
    "                      validation_data=(X_val, y_val),\n",
    "                      verbose=0)\n",
    "    return scores, model"
   ]
  },
  {
   "cell_type": "code",
   "execution_count": 32,
   "metadata": {},
   "outputs": [
    {
     "name": "stderr",
     "output_type": "stream",
     "text": [
      "C:\\Users\\thinp\\anaconda3\\envs\\Wyatt37\\lib\\site-packages\\tensorflow\\python\\framework\\indexed_slices.py:434: UserWarning: Converting sparse IndexedSlices to a dense Tensor of unknown shape. This may consume a large amount of memory.\n",
      "  \"Converting sparse IndexedSlices to a dense Tensor of unknown shape. \"\n"
     ]
    }
   ],
   "source": [
    "# RMSprop 로 돌리고\n",
    "RMS_score, RMS_model = train_model(Optimizer = 'RMSprop',\n",
    "                                    X_train = X_train_padded,\n",
    "                                    y_train = y_train,\n",
    "                                    X_val = X_test_padded,\n",
    "                                    y_val = y_test)"
   ]
  },
  {
   "cell_type": "code",
   "execution_count": 33,
   "metadata": {},
   "outputs": [],
   "source": [
    "# adam으로 돌리고\n",
    "adam_score, adam_model = train_model(Optimizer = 'adam',\n",
    "                                    X_train = X_train_padded,\n",
    "                                    y_train = y_train,\n",
    "                                    X_val = X_test_padded,\n",
    "                                    y_val = y_test)"
   ]
  },
  {
   "cell_type": "code",
   "execution_count": 36,
   "metadata": {},
   "outputs": [],
   "source": [
    "# adam으로 돌리고\n",
    "sgd_score, sgd_model = train_model(Optimizer = 'sgd',\n",
    "                                    X_train = X_train_padded,\n",
    "                                    y_train = y_train,\n",
    "                                    X_val = X_test_padded,\n",
    "                                    y_val = y_test)"
   ]
  },
  {
   "cell_type": "code",
   "execution_count": 39,
   "metadata": {},
   "outputs": [
    {
     "data": {
      "text/plain": [
       "{'val_loss': [0.6932626075935364,\n",
       "  0.693202345790863,\n",
       "  0.693146848487854,\n",
       "  0.6930889930725098,\n",
       "  0.6930312922477723,\n",
       "  0.6929755427742005,\n",
       "  0.6929188419723511,\n",
       "  0.6928623648452759,\n",
       "  0.6928069508171082,\n",
       "  0.6927501468849182],\n",
       " 'val_accuracy': [0.4979200065135956,\n",
       "  0.503279983997345,\n",
       "  0.5064799785614014,\n",
       "  0.5128399729728699,\n",
       "  0.5133600234985352,\n",
       "  0.5196400284767151,\n",
       "  0.5236799716949463,\n",
       "  0.5253199934959412,\n",
       "  0.5298799872398376,\n",
       "  0.533079981803894],\n",
       " 'loss': [0.6933092942428589,\n",
       "  0.6932621933937073,\n",
       "  0.6932021012687684,\n",
       "  0.6931471618652344,\n",
       "  0.6930725429344178,\n",
       "  0.6930154277801513,\n",
       "  0.6929578516578674,\n",
       "  0.692897640838623,\n",
       "  0.6928360307693482,\n",
       "  0.6927731255149842],\n",
       " 'accuracy': [0.49216,\n",
       "  0.49036,\n",
       "  0.49888,\n",
       "  0.5002,\n",
       "  0.50632,\n",
       "  0.5092,\n",
       "  0.51484,\n",
       "  0.51936,\n",
       "  0.52192,\n",
       "  0.5298]}"
      ]
     },
     "execution_count": 39,
     "metadata": {},
     "output_type": "execute_result"
    }
   ],
   "source": [
    "sgd_score.history"
   ]
  },
  {
   "cell_type": "markdown",
   "metadata": {},
   "source": [
    "## 6.10 Evaluation"
   ]
  },
  {
   "cell_type": "markdown",
   "metadata": {},
   "source": [
    "각 모델의 에폭별 검증 정확도를 차트로 그려보자."
   ]
  },
  {
   "cell_type": "code",
   "execution_count": 40,
   "metadata": {},
   "outputs": [
    {
     "data": {
      "image/png": "[encoded data removed]",
      "text/plain": [
       "<Figure size 432x288 with 1 Axes>"
      ]
     },
     "metadata": {
      "needs_background": "light"
     },
     "output_type": "display_data"
    }
   ],
   "source": [
    "plt.plot(range(1, 11), sgd_score.history['accuracy'], label=\"Training Accuracy\")\n",
    "plt.plot(range(1, 11), sgd_score.history['val_accuracy'], label=\"Validation Accuracy\")\n",
    "plt.axis([1, 10, 0, 1])\n",
    "plt.xlabel(\"Epoch\")\n",
    "plt.ylabel(\"Accuracy\")\n",
    "plt.title(\"Train and Validation Accuracy using SGD Optimizer\")\n",
    "plt.legend()\n",
    "plt.show()"
   ]
  },
  {
   "cell_type": "markdown",
   "metadata": {},
   "source": [
    "sgd는 50% 부근에서 능선을 탄다. 훈련이 제대로 되고 있지 않는다는 뜻이다."
   ]
  },
  {
   "cell_type": "code",
   "execution_count": 41,
   "metadata": {},
   "outputs": [
    {
     "data": {
      "image/png": "[encoded data removed]",
      "text/plain": [
       "<Figure size 432x288 with 1 Axes>"
      ]
     },
     "metadata": {
      "needs_background": "light"
     },
     "output_type": "display_data"
    }
   ],
   "source": [
    "plt.plot(range(1, 11), RMS_score.history['accuracy'], label=\"Training Accuracy\")\n",
    "plt.plot(range(1, 11), RMS_score.history['val_accuracy'], label=\"Validation Accuracy\")\n",
    "plt.axis([1, 10, 0, 1])\n",
    "plt.xlabel(\"Epoch\")\n",
    "plt.ylabel(\"Accuracy\")\n",
    "plt.title(\"Train and Validation Accuracy using RMSprop Optimizer\")\n",
    "plt.legend()\n",
    "plt.show()"
   ]
  },
  {
   "cell_type": "code",
   "execution_count": 42,
   "metadata": {},
   "outputs": [
    {
     "data": {
      "image/png": "[encoded data removed]",
      "text/plain": [
       "<Figure size 432x288 with 1 Axes>"
      ]
     },
     "metadata": {
      "needs_background": "light"
     },
     "output_type": "display_data"
    }
   ],
   "source": [
    "plt.plot(range(1, 11), adam_score.history['accuracy'], label=\"Training Accuracy\")\n",
    "plt.plot(range(1, 11), adam_score.history['val_accuracy'], label=\"Validation Accuracy\")\n",
    "plt.axis([1, 10, 0, 1])\n",
    "plt.xlabel(\"Epoch\")\n",
    "plt.ylabel(\"Accuracy\")\n",
    "plt.title(\"Train and Validation Accuracy using Adam Optimizer\")\n",
    "plt.legend()\n",
    "plt.show()"
   ]
  },
  {
   "cell_type": "markdown",
   "metadata": {},
   "source": [
    "adam은 매우 높은 스코어를 보였으나, val 과 격차가 크다. 과대적합의 위험이 있다."
   ]
  },
  {
   "cell_type": "markdown",
   "metadata": {},
   "source": [
    "#### RMSprop 로 확정!"
   ]
  },
  {
   "cell_type": "markdown",
   "metadata": {},
   "source": [
    "### 6.10.1 Confusion Matrix"
   ]
  },
  {
   "cell_type": "markdown",
   "metadata": {},
   "source": [
    "예, CM으로 한 번 확인하겠습니다."
   ]
  },
  {
   "cell_type": "code",
   "execution_count": 43,
   "metadata": {},
   "outputs": [],
   "source": [
    "from sklearn.metrics import confusion_matrix"
   ]
  },
  {
   "cell_type": "code",
   "execution_count": 45,
   "metadata": {},
   "outputs": [
    {
     "data": {
      "image/png": "[encoded data removed]",
      "text/plain": [
       "<Figure size 720x504 with 1 Axes>"
      ]
     },
     "metadata": {},
     "output_type": "display_data"
    }
   ],
   "source": [
    "plt.figure(figsize=(10, 7))\n",
    "sns.set(font_scale=2)\n",
    "y_test_pred = RMS_model.predict_classes(X_test_padded)\n",
    "c_matrix = confusion_matrix(y_test, y_test_pred)\n",
    "ax = sns.heatmap(c_matrix,\n",
    "                 annot=True,\n",
    "                 xticklabels=[\"Negative Sentiment\", \"Positive Sentiment\"],\n",
    "                 yticklabels=[\"Negative Sentiment\", \"Positive Sentiment\"],\n",
    "                 cbar=False,\n",
    "                 cmap=\"Blues\",\n",
    "                 fmt=\"g\")\n",
    "ax.set_xlabel(\"Prediction\")\n",
    "ax.set_ylabel(\"Actual\")\n",
    "plt.show()"
   ]
  },
  {
   "cell_type": "code",
   "execution_count": null,
   "metadata": {},
   "outputs": [],
   "source": []
  }
 ],
 "metadata": {
  "kernelspec": {
   "display_name": "Python 3",
   "language": "python",
   "name": "python3"
  },
  "language_info": {
   "codemirror_mode": {
    "name": "ipython",
    "version": 3
   },
   "file_extension": ".py",
   "mimetype": "text/x-python",
   "name": "python",
   "nbconvert_exporter": "python",
   "pygments_lexer": "ipython3",
   "version": "3.7.7"
  }
 },
 "nbformat": 4,
 "nbformat_minor": 4
}
