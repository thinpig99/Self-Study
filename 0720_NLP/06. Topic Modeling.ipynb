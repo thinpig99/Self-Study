{
 "cells": [
  {
   "cell_type": "markdown",
   "metadata": {},
   "source": [
    "# 06. 토픽 모델링(Topic Modeling)"
   ]
  },
  {
   "cell_type": "markdown",
   "metadata": {},
   "source": [
    "## 6.1. 잠재 의미 분석(Latent Semantic Analysis, LSA)"
   ]
  },
  {
   "cell_type": "markdown",
   "metadata": {},
   "source": [
    "LSA...는 LDA의 전 단계면서 토픽 모델링에 기여한 모델입니다.\n",
    "\n",
    "BoW에 기반한 DTM이나 TF-IDF는 단어의 빈도 수를 이용한 수치화 기법이기 때문에 단어나 문장의 의미를 고려하지 못한다는 문제점이 있습니다. 토픽을 고려하지 못한다고 하지요.\n",
    "\n",
    "그래서 나온 것이 DTM의 잠재된(Latent) 의미를 이끌어내는 방법으로 LSA를 쓰게 되었습니다. LSA를 이해하기 위해서는 선형대수의 특이값 분해(SVD)를 이해해야 합니다."
   ]
  },
  {
   "cell_type": "markdown",
   "metadata": {},
   "source": [
    "### 6.1.1. 특이값 분해(Singular Value Decomposition, SVD)"
   ]
  },
  {
   "cell_type": "markdown",
   "metadata": {},
   "source": [
    "SVD란 A가 m x n 행렬일 때, 다음과 같이 3개의 행렬의 곱으로 분해 되는 것을 말합니다.\n",
    "\n",
    "A=UΣVT\n",
    "\n",
    "여기서 각 3개의 행렬은\n",
    "- U:m×m 직교행렬 (AAT=U(ΣΣT)UT)\n",
    "- V:n×n 직교행렬 (ATA=V(ΣTΣ)VT)\n",
    "- Σ:m×n 직사각 대각행렬\n",
    "\n",
    "입니다."
   ]
  },
  {
   "cell_type": "markdown",
   "metadata": {},
   "source": [
    "간단히 얘기하겠습니다.\n",
    "\n",
    "1. 전치행렬 : 행렬의 주대각선을 축으로 대칭으로 뒤집은 행렬입니다.\n",
    "2. 단위행렬 : 주대각선이 0이고, 나머지 원소가 모두 0인 행렬입니다.\n",
    "3. 역행렬 : 어떤 행렬 A에 행렬 B를 곱했을 때 단위행렬이 나온다면, B는 A의 역행렬이다.\n",
    "4. 직교행렬 : 어떤 행렬 A에 A의 전치행렬을 곱했을 때, 단위행렬이 나온다면, 행렬 A는 직교행렬이다.\n",
    "5. 대각행렬 : 주대각선을 제외한 모든 원소가 0인 행렬이다."
   ]
  },
  {
   "cell_type": "markdown",
   "metadata": {},
   "source": [
    "### 6.1.2. 절단된 SVD"
   ]
  },
  {
   "cell_type": "markdown",
   "metadata": {},
   "source": [
    "그런데 위에서 설명한 SVD는 풀SVD라고 하며, LSA의 경우는 풀SVD가 아닌 절단된 SVD를 사용합니다.\n",
    "\n",
    "절단된 SVD는 대각행렬 시그마의 대각원소의 값 중에서 t개만 남깁니다. 물론 기존 행렬 A를 복구할 수 없습니다.\n",
    "\n",
    "U행렬과 V행렬의 t열까지만 남깁니다. 여기서 t는 우리가 찾고자하는 토픽의 수를 반영한 하이퍼파라미터값입니다.\n",
    "\n",
    "t를 크게 잡으면 다양한 의미를 가져갈 수 있지만, t를 작게 잡으면 노이즈를 제거할 수 있습니다."
   ]
  },
  {
   "cell_type": "markdown",
   "metadata": {},
   "source": [
    "### 6.1.3. 실습"
   ]
  },
  {
   "cell_type": "code",
   "execution_count": 1,
   "metadata": {},
   "outputs": [
    {
     "data": {
      "text/plain": [
       "(4, 9)"
      ]
     },
     "execution_count": 1,
     "metadata": {},
     "output_type": "execute_result"
    }
   ],
   "source": [
    "# 문서 4개의 DTM을 만들어 봅니다.\n",
    "\n",
    "import numpy as np\n",
    "A=np.array([[0,0,0,1,0,1,1,0,0],\n",
    "            [0,0,0,1,1,0,1,0,0],\n",
    "            [0,1,1,0,2,0,0,0,0],\n",
    "            [1,0,0,0,0,0,0,1,1]])\n",
    "np.shape(A)"
   ]
  },
  {
   "cell_type": "code",
   "execution_count": 2,
   "metadata": {},
   "outputs": [],
   "source": [
    "# 풀SVD를 수행해보겠습니다. 대각행렬은 S를 사용합니다.\n",
    "\n",
    "U, S, VT = np.linalg.svd(A, full_matrices=True)"
   ]
  },
  {
   "cell_type": "code",
   "execution_count": 3,
   "metadata": {},
   "outputs": [
    {
     "name": "stdout",
     "output_type": "stream",
     "text": [
      "[[ 0.24  0.75  0.    0.62]\n",
      " [ 0.51  0.44 -0.   -0.74]\n",
      " [ 0.83 -0.49 -0.    0.27]\n",
      " [ 0.   -0.    1.   -0.  ]]\n"
     ]
    },
    {
     "data": {
      "text/plain": [
       "(4, 4)"
      ]
     },
     "execution_count": 3,
     "metadata": {},
     "output_type": "execute_result"
    }
   ],
   "source": [
    "# A는 4 X 9 의 행렬입니다.\n",
    "# U는 4 X 4 의 직교행렬입니다.\n",
    "\n",
    "print(U.round(2))\n",
    "np.shape(U)"
   ]
  },
  {
   "cell_type": "code",
   "execution_count": 4,
   "metadata": {},
   "outputs": [
    {
     "name": "stdout",
     "output_type": "stream",
     "text": [
      "[2.69 2.05 1.73 0.77]\n"
     ]
    },
    {
     "data": {
      "text/plain": [
       "(4,)"
      ]
     },
     "execution_count": 4,
     "metadata": {},
     "output_type": "execute_result"
    }
   ],
   "source": [
    "# S는 대각행렬입니다. 그러나 Numpy의 linalg.svd()는 리스트로 반환합니다.\n",
    "\n",
    "print(S.round(2))\n",
    "np.shape(S)"
   ]
  },
  {
   "cell_type": "code",
   "execution_count": 5,
   "metadata": {},
   "outputs": [
    {
     "name": "stdout",
     "output_type": "stream",
     "text": [
      "[[2.69 0.   0.   0.   0.   0.   0.   0.   0.  ]\n",
      " [0.   2.05 0.   0.   0.   0.   0.   0.   0.  ]\n",
      " [0.   0.   1.73 0.   0.   0.   0.   0.   0.  ]\n",
      " [0.   0.   0.   0.77 0.   0.   0.   0.   0.  ]]\n"
     ]
    },
    {
     "data": {
      "text/plain": [
       "(4, 9)"
      ]
     },
     "execution_count": 5,
     "metadata": {},
     "output_type": "execute_result"
    }
   ],
   "source": [
    "# 대각행렬로 보려면 아래와 같은 방식을 취해야 합니다.\n",
    "\n",
    "S_ = np.zeros((4, 9)) # 4 X 9의 영행렬을 만듭니다.\n",
    "S_[:4, :4] = np.diag(S) # 특이값을 대각행렬에 삽입합니다.\n",
    "print(S_.round(2))\n",
    "np.shape(S_)"
   ]
  },
  {
   "cell_type": "code",
   "execution_count": 7,
   "metadata": {},
   "outputs": [
    {
     "name": "stdout",
     "output_type": "stream",
     "text": [
      "[[ 0.    0.31  0.31  0.28  0.8   0.09  0.28  0.    0.  ]\n",
      " [ 0.   -0.24 -0.24  0.58 -0.26  0.37  0.58 -0.   -0.  ]\n",
      " [ 0.58 -0.    0.    0.   -0.    0.   -0.    0.58  0.58]\n",
      " [-0.    0.35  0.35 -0.16 -0.25  0.8  -0.16  0.    0.  ]\n",
      " [-0.   -0.78 -0.01 -0.2   0.4   0.4  -0.2   0.    0.  ]\n",
      " [-0.29  0.31 -0.78 -0.24  0.23  0.23  0.01  0.14  0.14]\n",
      " [-0.29 -0.1   0.26 -0.59 -0.08 -0.08  0.66  0.14  0.14]\n",
      " [-0.5  -0.06  0.15  0.24 -0.05 -0.05 -0.19  0.75 -0.25]\n",
      " [-0.5  -0.06  0.15  0.24 -0.05 -0.05 -0.19 -0.25  0.75]]\n"
     ]
    },
    {
     "data": {
      "text/plain": [
       "(9, 9)"
      ]
     },
     "execution_count": 7,
     "metadata": {},
     "output_type": "execute_result"
    }
   ],
   "source": [
    "# VT는 9 X 9 의 직교행렬입니다. V의 전치행렬입니다.\n",
    "\n",
    "print(VT.round(2))\n",
    "np.shape(VT)"
   ]
  },
  {
   "cell_type": "code",
   "execution_count": 9,
   "metadata": {},
   "outputs": [
    {
     "data": {
      "text/plain": [
       "True"
      ]
     },
     "execution_count": 9,
     "metadata": {},
     "output_type": "execute_result"
    }
   ],
   "source": [
    "# U X S X VT = A 가 나와야 합니다.\n",
    "\n",
    "np.allclose(A, np.dot(np.dot(U, S_), VT).round(2))"
   ]
  },
  {
   "cell_type": "code",
   "execution_count": 10,
   "metadata": {},
   "outputs": [
    {
     "name": "stdout",
     "output_type": "stream",
     "text": [
      "[[2.69 0.  ]\n",
      " [0.   2.05]]\n"
     ]
    }
   ],
   "source": [
    "# 이제 t를 정하고 절단된 SVD를 수행해보도록 하겠습니다. t=2로 하겠습니다.\n",
    "\n",
    "S = S_[:2, :2] # S_ 대각행렬의 상위 2개만 남기고 제거\n",
    "print(S.round(2))"
   ]
  },
  {
   "cell_type": "code",
   "execution_count": 11,
   "metadata": {},
   "outputs": [
    {
     "name": "stdout",
     "output_type": "stream",
     "text": [
      "[[ 0.24  0.75]\n",
      " [ 0.51  0.44]\n",
      " [ 0.83 -0.49]\n",
      " [ 0.   -0.  ]]\n"
     ]
    }
   ],
   "source": [
    "# U도 상위 2개만 남기고 제거\n",
    "\n",
    "U = U[:, :2]\n",
    "print(U.round(2))"
   ]
  },
  {
   "cell_type": "code",
   "execution_count": 12,
   "metadata": {},
   "outputs": [
    {
     "name": "stdout",
     "output_type": "stream",
     "text": [
      "[[ 0.    0.31  0.31  0.28  0.8   0.09  0.28  0.    0.  ]\n",
      " [ 0.   -0.24 -0.24  0.58 -0.26  0.37  0.58 -0.   -0.  ]]\n"
     ]
    }
   ],
   "source": [
    "# VT도 마찬가지\n",
    "\n",
    "VT = VT[:2, :]\n",
    "print(VT.round(2))"
   ]
  },
  {
   "cell_type": "code",
   "execution_count": 15,
   "metadata": {},
   "outputs": [
    {
     "name": "stdout",
     "output_type": "stream",
     "text": [
      "[[0 0 0 1 0 1 1 0 0]\n",
      " [0 0 0 1 1 0 1 0 0]\n",
      " [0 1 1 0 2 0 0 0 0]\n",
      " [1 0 0 0 0 0 0 1 1]]\n",
      "[[ 0.   -0.17 -0.17  1.08  0.12  0.62  1.08 -0.   -0.  ]\n",
      " [ 0.    0.2   0.2   0.91  0.86  0.45  0.91  0.    0.  ]\n",
      " [ 0.    0.93  0.93  0.03  2.05 -0.17  0.03  0.    0.  ]\n",
      " [ 0.    0.    0.    0.    0.    0.    0.    0.    0.  ]]\n"
     ]
    }
   ],
   "source": [
    "# 이제 축소된 U, S, VT 에 대해서 연산을 하면 A와는 다른 값이 나올 겁니다.\n",
    "# 이 값을 A_ 이라고 하고 A와 비교해보겠습니다.\n",
    "\n",
    "A_ = np.dot(np.dot(U, S), VT)\n",
    "print(A)\n",
    "print(A_.round(2))"
   ]
  },
  {
   "cell_type": "markdown",
   "metadata": {},
   "source": [
    "대체적으로 기존에 0인 값들은 0에 가까운 값이 나오고, 1인 값들은 1에 가까운 값이 나옵니다.\n",
    "\n",
    "축소된 U는 4 X 2 의 크기를 가지는데, 이는 (문서의 개수 X 토픽의 수t) 의 크기입니다.\n",
    "\n",
    "마찬가지로 VT도 9 X 9 에서 2 X 9가 되었으니 이는 (토픽의 수 X 단어의 개수의 크기) 입니다."
   ]
  },
  {
   "cell_type": "markdown",
   "metadata": {},
   "source": [
    "### 6.1.4. 레알 실습"
   ]
  },
  {
   "cell_type": "markdown",
   "metadata": {},
   "source": [
    "사이킷런에서 Twenty Newsgroups 라고 불리는 20개의 다른 주제를 가진 뉴스그룹 데이터를 제공합니다."
   ]
  },
  {
   "cell_type": "code",
   "execution_count": 1,
   "metadata": {},
   "outputs": [],
   "source": [
    "import pandas as pd\n",
    "from sklearn.datasets import fetch_20newsgroups"
   ]
  },
  {
   "cell_type": "code",
   "execution_count": 2,
   "metadata": {},
   "outputs": [
    {
     "data": {
      "text/plain": [
       "11314"
      ]
     },
     "execution_count": 2,
     "metadata": {},
     "output_type": "execute_result"
    }
   ],
   "source": [
    "data = fetch_20newsgroups(shuffle=True, random_state=42, remove=('headers', 'footers', 'quotes'))\n",
    "documents = data.data\n",
    "len(documents)"
   ]
  },
  {
   "cell_type": "code",
   "execution_count": 3,
   "metadata": {},
   "outputs": [
    {
     "data": {
      "text/plain": [
       "\"A fair number of brave souls who upgraded their SI clock oscillator have\\nshared their experiences for this poll. Please send a brief message detailing\\nyour experiences with the procedure. Top speed attained, CPU rated speed,\\nadd on cards and adapters, heat sinks, hour of usage per day, floppy disk\\nfunctionality with 800 and 1.4 m floppies are especially requested.\\n\\nI will be summarizing in the next two days, so please add to the network\\nknowledge base if you have done the clock upgrade and haven't answered this\\npoll. Thanks.\""
      ]
     },
     "execution_count": 3,
     "metadata": {},
     "output_type": "execute_result"
    }
   ],
   "source": [
    "documents[1]"
   ]
  },
  {
   "cell_type": "markdown",
   "metadata": {},
   "source": [
    "뉴스그룹 데이터에는 특수문자가 포함된 다수의 영어문장으로 구성되어 있습니다. 샘플은 11,314개이며 target_name에는 본래 이 뉴스그룹 데이터가 어떤 20개의 카테고리를 갖고 있었는지가 저장되어 있습니다."
   ]
  },
  {
   "cell_type": "code",
   "execution_count": 5,
   "metadata": {},
   "outputs": [
    {
     "name": "stdout",
     "output_type": "stream",
     "text": [
      "['alt.atheism', 'comp.graphics', 'comp.os.ms-windows.misc', 'comp.sys.ibm.pc.hardware', 'comp.sys.mac.hardware', 'comp.windows.x', 'misc.forsale', 'rec.autos', 'rec.motorcycles', 'rec.sport.baseball', 'rec.sport.hockey', 'sci.crypt', 'sci.electronics', 'sci.med', 'sci.space', 'soc.religion.christian', 'talk.politics.guns', 'talk.politics.mideast', 'talk.politics.misc', 'talk.religion.misc']\n"
     ]
    }
   ],
   "source": [
    "print(data.target_names)"
   ]
  },
  {
   "cell_type": "markdown",
   "metadata": {},
   "source": [
    "#### 6.1.4.2 전처리"
   ]
  },
  {
   "cell_type": "code",
   "execution_count": 6,
   "metadata": {},
   "outputs": [],
   "source": [
    "news_df = pd.DataFrame({'document': documents})"
   ]
  },
  {
   "cell_type": "code",
   "execution_count": 7,
   "metadata": {},
   "outputs": [],
   "source": [
    "# 정규식을 통한 특수문자 제거\n",
    "news_df['clean_doc'] = news_df['document'].str.replace(\"[^a-zA-Z]\", \" \")"
   ]
  },
  {
   "cell_type": "code",
   "execution_count": 8,
   "metadata": {},
   "outputs": [],
   "source": [
    "# 길이가 3이하인 단어는 제거\n",
    "news_df['clean_doc'] = news_df['clean_doc'].apply(lambda x: ' '.join([w for w in x.split() if len(w) > 3]))"
   ]
  },
  {
   "cell_type": "code",
   "execution_count": 9,
   "metadata": {},
   "outputs": [],
   "source": [
    "# 전체 단어에 대한 소문자 변환\n",
    "news_df['clean_doc'] = news_df['clean_doc'].apply(lambda x: x.lower())"
   ]
  },
  {
   "cell_type": "code",
   "execution_count": 10,
   "metadata": {},
   "outputs": [
    {
     "data": {
      "text/plain": [
       "'fair number brave souls upgraded their clock oscillator have shared their experiences this poll please send brief message detailing your experiences with procedure speed attained rated speed cards adapters heat sinks hour usage floppy disk functionality with floppies especially requested will summarizing next days please network knowledge base have done clock upgrade haven answered this poll thanks'"
      ]
     },
     "execution_count": 10,
     "metadata": {},
     "output_type": "execute_result"
    }
   ],
   "source": [
    "news_df['clean_doc'][1]"
   ]
  },
  {
   "cell_type": "code",
   "execution_count": 11,
   "metadata": {},
   "outputs": [],
   "source": [
    "# 이제 토큰화를 시키고, 불용어를 처리합니다.\n",
    "\n",
    "# NLTK에서 불용어 사전을 받습니다.\n",
    "from nltk.corpus import stopwords\n",
    "stop_words = stopwords.words('english')"
   ]
  },
  {
   "cell_type": "code",
   "execution_count": 12,
   "metadata": {},
   "outputs": [],
   "source": [
    "# 토큰화 합니다.\n",
    "tokenized_doc = news_df['clean_doc'].apply(lambda x: x.split())"
   ]
  },
  {
   "cell_type": "code",
   "execution_count": 13,
   "metadata": {},
   "outputs": [],
   "source": [
    "# 불용어 처리합니다.\n",
    "tokenized_doc = tokenized_doc.apply(lambda x: [item for item in x if item not in stop_words])"
   ]
  },
  {
   "cell_type": "code",
   "execution_count": 14,
   "metadata": {},
   "outputs": [
    {
     "name": "stdout",
     "output_type": "stream",
     "text": [
      "['fair', 'number', 'brave', 'souls', 'upgraded', 'clock', 'oscillator', 'shared', 'experiences', 'poll', 'please', 'send', 'brief', 'message', 'detailing', 'experiences', 'procedure', 'speed', 'attained', 'rated', 'speed', 'cards', 'adapters', 'heat', 'sinks', 'hour', 'usage', 'floppy', 'disk', 'functionality', 'floppies', 'especially', 'requested', 'summarizing', 'next', 'days', 'please', 'network', 'knowledge', 'base', 'done', 'clock', 'upgrade', 'answered', 'poll', 'thanks']\n"
     ]
    }
   ],
   "source": [
    "print(tokenized_doc[1])"
   ]
  },
  {
   "cell_type": "markdown",
   "metadata": {},
   "source": [
    "#### 6.1.4.3 TF-IDF 행렬 만들기"
   ]
  },
  {
   "cell_type": "markdown",
   "metadata": {},
   "source": [
    "불용어 제거를 위해 토큰화 작업을 수행했지만, TfidfVectorizer는 기본적으로 토큰화가 되어있지 않은 텍스트 데이터를 입력 받스빈다. 따라서 역토큰화를 수행하겠습니다."
   ]
  },
  {
   "cell_type": "code",
   "execution_count": 15,
   "metadata": {},
   "outputs": [],
   "source": [
    "# 역토큰화 실시!\n",
    "detokenized_doc = []\n",
    "for i in range(len(news_df)):\n",
    "    t = ' '.join(tokenized_doc[i])\n",
    "    detokenized_doc.append(t)\n",
    "    \n",
    "news_df['clean_doc'] = detokenized_doc"
   ]
  },
  {
   "cell_type": "code",
   "execution_count": 16,
   "metadata": {},
   "outputs": [
    {
     "data": {
      "text/plain": [
       "'fair number brave souls upgraded clock oscillator shared experiences poll please send brief message detailing experiences procedure speed attained rated speed cards adapters heat sinks hour usage floppy disk functionality floppies especially requested summarizing next days please network knowledge base done clock upgrade answered poll thanks'"
      ]
     },
     "execution_count": 16,
     "metadata": {},
     "output_type": "execute_result"
    }
   ],
   "source": [
    "news_df['clean_doc'][1]"
   ]
  },
  {
   "cell_type": "code",
   "execution_count": 17,
   "metadata": {},
   "outputs": [],
   "source": [
    "from sklearn.feature_extraction.text import TfidfVectorizer"
   ]
  },
  {
   "cell_type": "code",
   "execution_count": 18,
   "metadata": {},
   "outputs": [
    {
     "data": {
      "text/plain": [
       "(11314, 1000)"
      ]
     },
     "execution_count": 18,
     "metadata": {},
     "output_type": "execute_result"
    }
   ],
   "source": [
    "vectorizer = TfidfVectorizer(stop_words='english',\n",
    "                            max_features=1000, # 상위 1000개의 단어를 보존\n",
    "                            max_df = 0.5,\n",
    "                            smooth_idf=True)\n",
    "\n",
    "X = vectorizer.fit_transform(news_df['clean_doc'])\n",
    "X.shape"
   ]
  },
  {
   "cell_type": "markdown",
   "metadata": {},
   "source": [
    "#### 6.1.4.4. 토픽 모델링(Topic Modeling)"
   ]
  },
  {
   "cell_type": "markdown",
   "metadata": {},
   "source": [
    "이제 TF-IDF 행렬을 다수의 행렬로 분해해보도록 하겠습니다. 사이킷런의 Truncated SVD를 사용합니다.\n",
    "\n",
    "원래 기존 뉴스그룹 데이터가 20개의 카테고리를 가지고 있었기 때문에, 20개의 토픽을 가졌다고 가정하고 토픽 모델링을 시도하겠습니다. n_components의 파리미터로 지정 가능합니다."
   ]
  },
  {
   "cell_type": "code",
   "execution_count": 38,
   "metadata": {},
   "outputs": [],
   "source": [
    "from sklearn.decomposition import TruncatedSVD"
   ]
  },
  {
   "cell_type": "code",
   "execution_count": 39,
   "metadata": {},
   "outputs": [
    {
     "data": {
      "text/plain": [
       "20"
      ]
     },
     "execution_count": 39,
     "metadata": {},
     "output_type": "execute_result"
    }
   ],
   "source": [
    "svd_model = TruncatedSVD(n_components=20, algorithm='randomized', n_iter=200, random_state=42)\n",
    "svd_model.fit(X)\n",
    "len(svd_model.components_)"
   ]
  },
  {
   "cell_type": "code",
   "execution_count": 40,
   "metadata": {},
   "outputs": [
    {
     "data": {
      "text/plain": [
       "(20, 1000)"
      ]
     },
     "execution_count": 40,
     "metadata": {},
     "output_type": "execute_result"
    }
   ],
   "source": [
    "# 여기서 svd_model.components_ 는 앞서 배운 LSA에서 VT에 해당됩니다.\n",
    "\n",
    "np.shape(svd_model.components_)"
   ]
  },
  {
   "cell_type": "code",
   "execution_count": 41,
   "metadata": {},
   "outputs": [
    {
     "name": "stdout",
     "output_type": "stream",
     "text": [
      "Topic 1:  [('like', 0.21386), ('know', 0.20035), ('people', 0.19307), ('think', 0.178), ('good', 0.1513)]\n",
      "Topic 2:  [('thanks', 0.32915), ('windows', 0.29086), ('card', 0.18016), ('drive', 0.1743), ('mail', 0.1513)]\n",
      "Topic 3:  [('game', 0.37139), ('team', 0.32489), ('year', 0.28171), ('games', 0.25396), ('season', 0.18455)]\n",
      "Topic 4:  [('drive', 0.53067), ('scsi', 0.20099), ('hard', 0.15546), ('disk', 0.15534), ('card', 0.14024)]\n",
      "Topic 5:  [('windows', 0.40469), ('file', 0.25534), ('window', 0.18034), ('files', 0.16132), ('program', 0.13949)]\n",
      "Topic 6:  [('chip', 0.1604), ('government', 0.15995), ('mail', 0.15641), ('space', 0.15112), ('information', 0.13587)]\n",
      "Topic 7:  [('like', 0.67312), ('bike', 0.14188), ('chip', 0.1111), ('know', 0.10726), ('sounds', 0.10386)]\n",
      "Topic 8:  [('card', 0.45931), ('video', 0.2186), ('sale', 0.21398), ('monitor', 0.15227), ('offer', 0.14739)]\n",
      "Topic 9:  [('know', 0.45849), ('card', 0.34347), ('chip', 0.17473), ('government', 0.15081), ('video', 0.14754)]\n",
      "Topic 10:  [('good', 0.42969), ('know', 0.228), ('time', 0.18826), ('bike', 0.11579), ('jesus', 0.08877)]\n",
      "Topic 11:  [('think', 0.78426), ('chip', 0.11135), ('good', 0.10218), ('thanks', 0.08707), ('clipper', 0.08124)]\n",
      "Topic 12:  [('thanks', 0.37084), ('good', 0.22524), ('right', 0.21517), ('bike', 0.20929), ('problem', 0.20921)]\n",
      "Topic 13:  [('good', 0.36592), ('people', 0.34214), ('windows', 0.28429), ('know', 0.25782), ('file', 0.18397)]\n",
      "Topic 14:  [('space', 0.40082), ('think', 0.23253), ('know', 0.18028), ('nasa', 0.15205), ('problem', 0.12838)]\n",
      "Topic 15:  [('space', 0.31434), ('good', 0.30751), ('card', 0.22387), ('people', 0.18378), ('time', 0.1452)]\n",
      "Topic 16:  [('people', 0.4774), ('problem', 0.20224), ('window', 0.15264), ('time', 0.14641), ('game', 0.13067)]\n",
      "Topic 17:  [('time', 0.34687), ('bike', 0.27012), ('right', 0.25228), ('windows', 0.20126), ('file', 0.19079)]\n",
      "Topic 18:  [('time', 0.59987), ('problem', 0.15082), ('file', 0.14292), ('think', 0.12933), ('israel', 0.10821)]\n",
      "Topic 19:  [('file', 0.44784), ('need', 0.26158), ('card', 0.186), ('files', 0.17606), ('right', 0.1484)]\n",
      "Topic 20:  [('problem', 0.32654), ('file', 0.26913), ('thanks', 0.2366), ('used', 0.19348), ('space', 0.13311)]\n"
     ]
    }
   ],
   "source": [
    "# 정확하게 토픽의 개수, 단어의 개수입니다.\n",
    "\n",
    "terms = vectorizer.get_feature_names() # 단어 집합. 1,000개의 단어가 저장됨.\n",
    "\n",
    "def get_topics(components, feature_names, n=5):\n",
    "    for idx, topic in enumerate(components):\n",
    "        print(\"Topic %d: \" % (idx+1),\n",
    "              [(feature_names[i], topic[i].round(5)) for i in topic.argsort()[:-n -1:-1]])\n",
    "        \n",
    "get_topics(svd_model.components_, terms)"
   ]
  },
  {
   "cell_type": "markdown",
   "metadata": {},
   "source": [
    "## 6.2. 잠재 디리클레 할당(Latent Dirichlet Allocation, LDA)"
   ]
  },
  {
   "cell_type": "markdown",
   "metadata": {},
   "source": [
    "토픽 모델링은 문서의 집합에서 토픽을 찾아내는 프로세스를 말하는데, 이는 검색 엔진, 고객 민원 시스템 등과 같이 문서의 주제를 알아내는 일이 중요한 곳에서 사용됩니다.\n",
    "\n",
    "LDA는 문서들은 토픽들의 혼합으로 구성되어져 있으며, 토픽들은 확률분포에 기반하여 단어들을 생성한다고 가정! LDA는 문서가 생성되던 과정을 역추적한다."
   ]
  },
  {
   "cell_type": "markdown",
   "metadata": {},
   "source": [
    "### 6.2.2. LDA의 가정"
   ]
  },
  {
   "cell_type": "markdown",
   "metadata": {},
   "source": [
    "LDA는 단어의 순서는 신경쓰지 않습니다.\n",
    "\n",
    "문서 작성자는 이런 생각을 합니다. 나는 이 문서를 작성하기 위해서 이런 주제들을 넣을거고, 이런 주제들을 위해서는 이런 단어들을 넣을 거야!\n",
    "\n",
    "1. 문서에 사용할 단어의 개수 N을 정합니다.\n",
    "2. 문서에 사용할 토픽의 혼합을 확률 분포에 기반하여 결정합니다.\n",
    "3. 문서에 사용할 각 단어를 정합니다.\n",
    "4. 토픽 분포에서 토픽 T를 확률적으로 고릅니다.\n",
    "5. 선택한 토픽 T에서 단어의 출현 확률 분포에 기반해 문서에 사용할 단어를 고릅니다.\n",
    "\n",
    "이러한 과정을 역추적합니다."
   ]
  },
  {
   "cell_type": "markdown",
   "metadata": {},
   "source": [
    "### 6.2.3. LDA 수행하기"
   ]
  },
  {
   "cell_type": "markdown",
   "metadata": {},
   "source": [
    "1. 사용자는 알고리즘에게 토픽의 개수 k를 알려줍니다.\n",
    "2. 모든 단어를 k개 중 하나의 토픽에 할당합니다.\n",
    "3. 이제 모든 문서의 모든 단어에 대해서 아래의 사항을 반복 진행합니다.\n",
    "\n",
    "- 어떤 문서의 각 단어 w는 자신은 잘못된 토픽에 할당되어져 있지만, 다른 단어들은 전부 올바른 토픽에 할당되어져 있는 상태라고 가정합니다. 이에 따라 단어 w는 두 가지 기준에 따라서 토픽이 재할당 됩니다.\n",
    "    - p(topic t | document d): 문서 d의 단어들 중 토픽 t에 해당하는 단어들의 비율; 즉 단어 w의 토픽을 할당하기 위해서 단어 w가 속해 있는 문서 d에 속한 단어들이 어떤 토픽에 속해있는지를 보고 결정한다는 것.\n",
    "    - p(word w | topic t): 단어 w를 갖고 있는 모든 문서들 중 토픽 t가 할당된 비율; 즉 단어 w의 토픽을 할당하기 위해서 모든 문서 d(i)에서 단어 w가 어떤 토픽 t(j)에 속해 있는지를 보고 결정한다는 것."
   ]
  },
  {
   "cell_type": "markdown",
   "metadata": {},
   "source": [
    "### 6.2.4. LSA & LDA"
   ]
  },
  {
   "cell_type": "markdown",
   "metadata": {},
   "source": [
    "- LSA : DTM을 차원 축소하여 축소 차원에서 근접 단어들을 토픽으로 묶는다.\n",
    "- LDA : 단어가 특정 토픽에 존재할 확률과 문서에 특정 토픽이 존재할 확률을 결합확률로 추정하여 토픽을 추출한다."
   ]
  },
  {
   "cell_type": "markdown",
   "metadata": {},
   "source": [
    "### 6.2.5. 실습 with gensim"
   ]
  },
  {
   "cell_type": "markdown",
   "metadata": {},
   "source": [
    "#### 6.2.5.1. 정수 인코딩과 단어 집합 만들기"
   ]
  },
  {
   "cell_type": "code",
   "execution_count": 19,
   "metadata": {},
   "outputs": [
    {
     "data": {
      "text/plain": [
       "0    [wondering, anyone, could, enlighten, door, sp...\n",
       "1    [fair, number, brave, souls, upgraded, clock, ...\n",
       "2    [well, folks, plus, finally, gave, ghost, week...\n",
       "3    [weitek, address, phone, number, like, informa...\n",
       "4    [article, owcb, world, tombaker, world, baker,...\n",
       "Name: clean_doc, dtype: object"
      ]
     },
     "execution_count": 19,
     "metadata": {},
     "output_type": "execute_result"
    }
   ],
   "source": [
    "tokenized_doc[:5]"
   ]
  },
  {
   "cell_type": "markdown",
   "metadata": {},
   "source": [
    "이제 각 단어에 정수 인코딩을 하는 동시에, 각 뉴스에서의 단어의 빈도수를 기록해 보겠습니다. word_id는 단어가 정수 인코딩된 값이고, word_frequency는 해당 뉴스에서의 해당 단어의 빈도수를 의미합니다. 이는 gensim의 corpora.Dictionary() 를 사용합니다."
   ]
  },
  {
   "cell_type": "code",
   "execution_count": 24,
   "metadata": {},
   "outputs": [],
   "source": [
    "from gensim import corpora"
   ]
  },
  {
   "cell_type": "code",
   "execution_count": 25,
   "metadata": {},
   "outputs": [
    {
     "name": "stdout",
     "output_type": "stream",
     "text": [
      "[(24, 2), (36, 1), (37, 1), (38, 1), (39, 1), (40, 1), (41, 1), (42, 1), (43, 2), (44, 1), (45, 1), (46, 1), (47, 1), (48, 1), (49, 2), (50, 1), (51, 1), (52, 1), (53, 1), (54, 1), (55, 1), (56, 1), (57, 1), (58, 1), (59, 1), (60, 1), (61, 1), (62, 2), (63, 1), (64, 1), (65, 1), (66, 1), (67, 1), (68, 1), (69, 1), (70, 2), (71, 1), (72, 1), (73, 1), (74, 1), (75, 1)]\n"
     ]
    }
   ],
   "source": [
    "dictionary = corpora.Dictionary(tokenized_doc)\n",
    "corpus = [dictionary.doc2bow(text) for text in tokenized_doc]\n",
    "print(corpus[1]) # 수행된 결과에서 두 번째 뉴스 출력. 첫 번째 문서의 인덱스는 0"
   ]
  },
  {
   "cell_type": "code",
   "execution_count": 27,
   "metadata": {},
   "outputs": [
    {
     "name": "stdout",
     "output_type": "stream",
     "text": [
      "please\n"
     ]
    }
   ],
   "source": [
    "print(dictionary[24])"
   ]
  },
  {
   "cell_type": "code",
   "execution_count": 28,
   "metadata": {},
   "outputs": [
    {
     "data": {
      "text/plain": [
       "64281"
      ]
     },
     "execution_count": 28,
     "metadata": {},
     "output_type": "execute_result"
    }
   ],
   "source": [
    "len(dictionary)"
   ]
  },
  {
   "cell_type": "markdown",
   "metadata": {},
   "source": [
    "#### 6.2.5.2. LDA 모델 훈련시키기"
   ]
  },
  {
   "cell_type": "markdown",
   "metadata": {},
   "source": [
    "기존의 뉴스 데이터가 총 20개의 카테고리를 가지고 있었으므로 토픽의 개수를 20으로 하여 LDA모델을 학습시켜보겠습니다."
   ]
  },
  {
   "cell_type": "code",
   "execution_count": 32,
   "metadata": {},
   "outputs": [],
   "source": [
    "import gensim\n",
    "from gensim.models.coherencemodel import CoherenceModel\n",
    "from gensim.models.ldamodel import LdaModel"
   ]
  },
  {
   "cell_type": "code",
   "execution_count": 30,
   "metadata": {},
   "outputs": [
    {
     "name": "stdout",
     "output_type": "stream",
     "text": [
      "(0, '0.017*\"drive\" + 0.013*\"card\" + 0.012*\"thanks\" + 0.011*\"system\"')\n",
      "(1, '0.015*\"like\" + 0.014*\"would\" + 0.010*\"good\" + 0.010*\"time\"')\n",
      "(2, '0.021*\"team\" + 0.020*\"game\" + 0.013*\"games\" + 0.012*\"play\"')\n",
      "(3, '0.014*\"armenian\" + 0.014*\"said\" + 0.012*\"armenians\" + 0.012*\"turkish\"')\n",
      "(4, '0.010*\"wire\" + 0.009*\"ground\" + 0.009*\"firearm\" + 0.009*\"picture\"')\n",
      "(5, '0.011*\"people\" + 0.005*\"world\" + 0.005*\"children\" + 0.005*\"government\"')\n",
      "(6, '0.013*\"government\" + 0.011*\"encryption\" + 0.010*\"public\" + 0.010*\"security\"')\n",
      "(7, '0.043*\"space\" + 0.017*\"nasa\" + 0.011*\"earth\" + 0.011*\"university\"')\n",
      "(8, '0.012*\"power\" + 0.009*\"water\" + 0.007*\"high\" + 0.007*\"model\"')\n",
      "(9, '0.016*\"president\" + 0.007*\"states\" + 0.007*\"health\" + 0.007*\"bill\"')\n",
      "(10, '0.008*\"baltimore\" + 0.008*\"nrhj\" + 0.007*\"pens\" + 0.006*\"espn\"')\n",
      "(11, '0.021*\"medical\" + 0.018*\"disease\" + 0.018*\"food\" + 0.017*\"patients\"')\n",
      "(12, '0.016*\"file\" + 0.011*\"program\" + 0.008*\"files\" + 0.008*\"window\"')\n",
      "(13, '0.013*\"mail\" + 0.011*\"list\" + 0.010*\"information\" + 0.008*\"send\"')\n",
      "(14, '0.012*\"cylinders\" + 0.010*\"suck\" + 0.008*\"ceremonial\" + 0.007*\"uucp\"')\n",
      "(15, '0.017*\"year\" + 0.017*\"runs\" + 0.013*\"cubs\" + 0.011*\"pitching\"')\n",
      "(16, '0.019*\"would\" + 0.014*\"people\" + 0.011*\"think\" + 0.009*\"know\"')\n",
      "(17, '0.025*\"slave\" + 0.008*\"revised\" + 0.007*\"dollar\" + 0.006*\"denning\"')\n",
      "(18, '0.019*\"jesus\" + 0.013*\"bible\" + 0.011*\"christian\" + 0.010*\"church\"')\n",
      "(19, '0.054*\"israel\" + 0.038*\"jews\" + 0.036*\"israeli\" + 0.020*\"arab\"')\n"
     ]
    }
   ],
   "source": [
    "NUM_TOPICS = 20 # k=20\n",
    "ldamodel = gensim.models.ldamodel.LdaModel(corpus, # 정수로 인코딩된 문서를 받는다.\n",
    "                                           num_topics=NUM_TOPICS, # 토픽의 개수를 받는다.\n",
    "                                           id2word=dictionary, # 단어를 받는다.\n",
    "                                           passes=15)# passes 는 신경망의 epochs 라고 보면 된다.\n",
    "topics = ldamodel.print_topics(num_words=4)\n",
    "for topic in topics:\n",
    "    print(topic)"
   ]
  },
  {
   "cell_type": "markdown",
   "metadata": {},
   "source": [
    "- topic : 당신이 가설로 잡은 토픽의 갯수는?\n",
    "- chunksize : 얼마나 많은 문서가 훈련 알고리즘에 사용되는가? 만약에 빠른 학습이 중요하시다면, 청크사이즈를 키워서 돌려봅시다! Hoffman의 논문에 의하면 Chunksize는 모델 품질에 영향을 미치지만 차이그 그렇게 크진 않다고 합니다!\n",
    "- passes : 패스는 모델 학습시 전체 코퍼스에서 모델을 학습시키는 빈도를 제어한다고 합니다. epochs 와 같은 용어 같다!\n",
    "- iteration : 각각 문서에 대해서 루프를 얼마나 돌리는지를 제어한다고 합니다. pass & iteration 은 최대한 많은게 좋다!\n",
    "- eval_every = 1 in LdaModel\n",
    "- alpha, eta = auto, 디리클레 분포의 감마함수에 대한 파라미터입니다!"
   ]
  },
  {
   "cell_type": "markdown",
   "metadata": {},
   "source": [
    "#### 여기서 잠깐 LDA의 평가 기준"
   ]
  },
  {
   "cell_type": "markdown",
   "metadata": {},
   "source": [
    "1. Perplexity : 혼란도. 값이 작을수록 토픽모델이 문서에 잘 반영된다고 볼 수 있다.\n",
    "2. Coherence : 주제의 일관성. 한 문서 안에 유사한 단어가 많이 모여있는 정도를 표현한다."
   ]
  },
  {
   "cell_type": "code",
   "execution_count": 34,
   "metadata": {},
   "outputs": [
    {
     "name": "stdout",
     "output_type": "stream",
     "text": [
      "Cpherence -4.769431264358465\n",
      "\n",
      "Perplexity:  -10.676955554539967\n"
     ]
    }
   ],
   "source": [
    "cm = CoherenceModel(model=ldamodel, corpus=corpus, coherence='u_mass')\n",
    "coherence = cm.get_coherence()\n",
    "print(\"Cpherence\",coherence)\n",
    "print('\\nPerplexity: ', ldamodel.log_perplexity(corpus))"
   ]
  },
  {
   "cell_type": "markdown",
   "metadata": {},
   "source": [
    "다시 분석으로 돌아가서"
   ]
  },
  {
   "cell_type": "markdown",
   "metadata": {},
   "source": [
    "#### 6.2.5.3. LDA시각화 하기"
   ]
  },
  {
   "cell_type": "code",
   "execution_count": 37,
   "metadata": {},
   "outputs": [],
   "source": [
    "import pyLDAvis.gensim"
   ]
  },
  {
   "cell_type": "code",
   "execution_count": 38,
   "metadata": {},
   "outputs": [
    {
     "data": {
      "text/html": [
       "\n",
       "<link rel=\"stylesheet\" type=\"text/css\" href=\"https://cdn.rawgit.com/bmabey/pyLDAvis/files/ldavis.v1.0.0.css\">\n",
       "\n",
       "\n",
       "<div id=\"ldavis_el1794018822024282322988393277\"></div>\n",
       "<script type=\"text/javascript\">\n",
       "\n",
       "var ldavis_el1794018822024282322988393277_data = {\"mdsDat\": {\"x\": [-0.27810781761618286, -0.2606662622083419, -0.1876876810378151, -0.14212153275028258, -0.19319473890417105, -0.09122805258288934, -0.11210947512423064, -0.13081361929140242, -0.07245734425786904, 0.004723478849214006, -0.0687127551845363, 0.030128636187943113, 0.055381476343908, 0.1173202440313774, 0.2150038155242418, 0.23779583575994315, 0.2171381414148753, 0.20848341315779956, 0.2064785259794304, 0.24464571170898824], \"y\": [0.062261882291825506, 0.06442600564269073, -0.19897776478902376, 0.1571674990129881, -0.1588274415489434, -0.18906039303893105, -0.08399952994601699, 0.14700789499444392, 0.05361725858374178, 0.112305561166184, 0.20135275088974883, -0.07034927089466461, -0.12116091618739724, -0.02299687244673759, -0.009687004457295282, -0.004160445781995577, 0.02623351972031768, 0.003479160391607954, 0.034699466025196635, -0.0033313596277391145], \"topics\": [1, 2, 3, 4, 5, 6, 7, 8, 9, 10, 11, 12, 13, 14, 15, 16, 17, 18, 19, 20], \"cluster\": [1, 1, 1, 1, 1, 1, 1, 1, 1, 1, 1, 1, 1, 1, 1, 1, 1, 1, 1, 1], \"Freq\": [18.01856803894043, 13.949073791503906, 11.155102729797363, 7.705798149108887, 6.744770050048828, 6.059078693389893, 5.548518657684326, 5.129586696624756, 4.493779182434082, 4.331061840057373, 4.185727119445801, 2.9617552757263184, 2.529869318008423, 1.8485082387924194, 1.3921067714691162, 0.9494205117225647, 0.9378573894500732, 0.9071418046951294, 0.7710604667663574, 0.3812132775783539]}, \"tinfo\": {\"Term\": [\"space\", \"people\", \"file\", \"year\", \"drive\", \"jesus\", \"program\", \"would\", \"team\", \"game\", \"like\", \"know\", \"said\", \"israel\", \"think\", \"government\", \"system\", \"mail\", \"card\", \"windows\", \"thanks\", \"good\", \"president\", \"jews\", \"files\", \"information\", \"bible\", \"anyone\", \"last\", \"armenian\", \"atheism\", \"atheists\", \"morality\", \"argue\", \"convince\", \"argument\", \"curious\", \"assumption\", \"homosexuality\", \"conclusions\", \"reasoning\", \"imply\", \"interpretations\", \"phrase\", \"liberal\", \"arguing\", \"mistakes\", \"ridiculous\", \"rational\", \"lucifer\", \"analogy\", \"insist\", \"responding\", \"subjective\", \"assertion\", \"assumptions\", \"merely\", \"theories\", \"rsaref\", \"arrogant\", \"absolute\", \"suggests\", \"objective\", \"explain\", \"honest\", \"evidence\", \"arguments\", \"exist\", \"definition\", \"sense\", \"prove\", \"question\", \"agree\", \"existence\", \"certainly\", \"tend\", \"whether\", \"mean\", \"claim\", \"reason\", \"think\", \"believe\", \"answer\", \"people\", \"moral\", \"would\", \"assume\", \"wrong\", \"point\", \"perhaps\", \"true\", \"even\", \"example\", \"something\", \"might\", \"make\", \"know\", \"rather\", \"well\", \"many\", \"like\", \"must\", \"could\", \"things\", \"much\", \"different\", \"right\", \"time\", \"fact\", \"good\", \"since\", \"find\", \"really\", \"want\", \"bike\", \"ride\", \"riding\", \"motorcycle\", \"cars\", \"metal\", \"bikes\", \"helmet\", \"tires\", \"honda\", \"wheel\", \"gear\", \"centris\", \"tire\", \"autos\", \"brake\", \"steering\", \"pioneer\", \"abortion\", \"sensor\", \"courses\", \"tired\", \"toyota\", \"candida\", \"lane\", \"diagnosed\", \"mileage\", \"suspension\", \"clutch\", \"runner\", \"rear\", \"mile\", \"engine\", \"lights\", \"ford\", \"pain\", \"front\", \"back\", \"getting\", \"driving\", \"couple\", \"little\", \"push\", \"miles\", \"good\", \"pretty\", \"like\", \"around\", \"side\", \"really\", \"weeks\", \"much\", \"time\", \"heard\", \"better\", \"enough\", \"would\", \"thing\", \"take\", \"sure\", \"going\", \"well\", \"could\", \"think\", \"know\", \"still\", \"years\", \"never\", \"also\", \"want\", \"right\", \"even\", \"anyone\", \"look\", \"work\", \"make\", \"first\", \"something\", \"files\", \"server\", \"motif\", \"ripem\", \"directory\", \"widget\", \"font\", \"client\", \"xterm\", \"echo\", \"bytes\", \"string\", \"null\", \"contrib\", \"postscript\", \"xlib\", \"formats\", \"char\", \"vesa\", \"clients\", \"widgets\", \"routines\", \"displays\", \"servers\", \"diamond\", \"pixel\", \"patch\", \"printf\", \"compile\", \"cursor\", \"file\", \"entries\", \"entry\", \"bits\", \"window\", \"display\", \"stream\", \"image\", \"output\", \"feature\", \"program\", \"format\", \"application\", \"version\", \"user\", \"code\", \"color\", \"graphics\", \"unix\", \"functions\", \"windows\", \"available\", \"line\", \"using\", \"source\", \"programs\", \"screen\", \"info\", \"data\", \"number\", \"software\", \"also\", \"information\", \"atheist\", \"murder\", \"islamic\", \"ethnic\", \"innocent\", \"iran\", \"violent\", \"palestinian\", \"violence\", \"deaths\", \"prison\", \"cult\", \"hudson\", \"britain\", \"occupation\", \"defending\", \"gays\", \"explaining\", \"treaty\", \"rape\", \"hatred\", \"sons\", \"theists\", \"territories\", \"allah\", \"racial\", \"homicides\", \"racist\", \"torture\", \"invasion\", \"greece\", \"territory\", \"crimes\", \"island\", \"hitler\", \"greek\", \"bomb\", \"criminal\", \"bodies\", \"peace\", \"muslims\", \"population\", \"serbs\", \"land\", \"killed\", \"civil\", \"rights\", \"women\", \"children\", \"death\", \"killing\", \"islam\", \"weapons\", \"country\", \"human\", \"society\", \"people\", \"world\", \"state\", \"kill\", \"government\", \"history\", \"members\", \"anti\", \"crime\", \"states\", \"self\", \"many\", \"years\", \"said\", \"fact\", \"also\", \"times\", \"would\", \"card\", \"scsi\", \"drives\", \"monitor\", \"controller\", \"modem\", \"floppy\", \"bios\", \"motherboard\", \"upgrade\", \"jumper\", \"simms\", \"ports\", \"connector\", \"adapter\", \"quadra\", \"jumpers\", \"macs\", \"svga\", \"slots\", \"nubus\", \"pins\", \"ethernet\", \"eisa\", \"clone\", \"simm\", \"megs\", \"sectors\", \"adaptec\", \"baud\", \"disk\", \"drive\", \"printer\", \"disks\", \"cards\", \"shipping\", \"video\", \"port\", \"apple\", \"external\", \"drivers\", \"board\", \"sale\", \"memory\", \"advance\", \"tape\", \"thanks\", \"driver\", \"offer\", \"windows\", \"mode\", \"hard\", \"please\", \"system\", \"anyone\", \"software\", \"problem\", \"know\", \"price\", \"mail\", \"would\", \"need\", \"computer\", \"like\", \"used\", \"also\", \"work\", \"jpeg\", \"newsgroups\", \"maria\", \"canon\", \"plaintext\", \"pointer\", \"monthly\", \"instruction\", \"rockefeller\", \"adobe\", \"sender\", \"cpsr\", \"paradox\", \"cmos\", \"quicktime\", \"proceedings\", \"digest\", \"databases\", \"hellman\", \"restraint\", \"isbn\", \"mailing\", \"steven\", \"fitted\", \"tracking\", \"publisher\", \"ciphertext\", \"formatted\", \"rows\", \"adapted\", \"addresses\", \"internet\", \"usenet\", \"utah\", \"list\", \"mail\", \"guide\", \"hawks\", \"request\", \"archive\", \"anonymous\", \"send\", \"news\", \"database\", \"address\", \"newsgroup\", \"information\", \"computing\", \"computer\", \"posting\", \"articles\", \"email\", \"group\", \"comp\", \"technical\", \"posted\", \"book\", \"available\", \"article\", \"books\", \"answers\", \"access\", \"general\", \"software\", \"please\", \"service\", \"system\", \"also\", \"name\", \"free\", \"data\", \"many\", \"encryption\", \"security\", \"clipper\", \"privacy\", \"escrow\", \"encrypted\", \"agencies\", \"militia\", \"crypto\", \"nist\", \"wiretap\", \"funding\", \"detector\", \"identity\", \"regulated\", \"authorized\", \"ncsl\", \"patent\", \"prize\", \"detectors\", \"saint\", \"launches\", \"aclu\", \"clause\", \"ammunition\", \"escrowed\", \"barbara\", \"disclosure\", \"renewal\", \"secure\", \"classified\", \"keys\", \"secret\", \"enforcement\", \"communications\", \"agency\", \"license\", \"scheme\", \"naval\", \"chip\", \"private\", \"telephone\", \"legal\", \"algorithm\", \"technology\", \"government\", \"public\", \"court\", \"amendment\", \"protect\", \"military\", \"shall\", \"state\", \"information\", \"system\", \"phone\", \"used\", \"data\", \"section\", \"right\", \"jesus\", \"bible\", \"church\", \"christ\", \"christians\", \"lord\", \"holy\", \"heaven\", \"eternal\", \"scripture\", \"catholic\", \"revelation\", \"biblical\", \"satan\", \"marriage\", \"salvation\", \"worship\", \"pope\", \"divine\", \"sabbath\", \"resurrection\", \"churches\", \"gospel\", \"pray\", \"bosnia\", \"testament\", \"mormon\", \"prayer\", \"orthodox\", \"temple\", \"christian\", \"christianity\", \"spirit\", \"matthew\", \"doctrine\", \"faith\", \"father\", \"mary\", \"love\", \"hell\", \"religion\", \"paul\", \"religions\", \"life\", \"word\", \"john\", \"belief\", \"believe\", \"truth\", \"book\", \"also\", \"name\", \"said\", \"would\", \"true\", \"clinton\", \"jobs\", \"aids\", \"senate\", \"batf\", \"taxes\", \"surveillance\", \"senator\", \"hicnet\", \"president\", \"rkba\", \"senators\", \"deficit\", \"stimulus\", \"prohibit\", \"briefing\", \"mandatory\", \"authorization\", \"clinic\", \"capitol\", \"newsletter\", \"mmwr\", \"dealership\", \"brady\", \"manhattan\", \"bone\", \"providers\", \"persian\", \"grants\", \"prevalence\", \"bush\", \"initiative\", \"firearms\", \"homicide\", \"economy\", \"congress\", \"drugs\", \"handgun\", \"health\", \"meeting\", \"bill\", \"george\", \"secretary\", \"funds\", \"rates\", \"states\", \"administration\", \"united\", \"drug\", \"rate\", \"guns\", \"american\", \"crime\", \"reported\", \"house\", \"april\", \"national\", \"control\", \"press\", \"federal\", \"washington\", \"going\", \"government\", \"year\", \"office\", \"money\", \"groups\", \"said\", \"support\", \"people\", \"number\", \"hockey\", \"players\", \"teams\", \"rangers\", \"jose\", \"montreal\", \"flyers\", \"philadelphia\", \"minnesota\", \"leafs\", \"detroit\", \"calgary\", \"playoffs\", \"scoring\", \"puck\", \"islanders\", \"coach\", \"playoff\", \"quebec\", \"blues\", \"jersey\", \"hartford\", \"winnipeg\", \"lemieux\", \"jets\", \"stanley\", \"defenseman\", \"tampa\", \"gang\", \"scorer\", \"season\", \"team\", \"game\", \"fans\", \"games\", \"league\", \"player\", \"toronto\", \"play\", \"chicago\", \"pittsburgh\", \"baseball\", \"boston\", \"played\", \"period\", \"wings\", \"division\", \"year\", \"goal\", \"first\", \"last\", \"second\", \"third\", \"points\", \"power\", \"best\", \"armenian\", \"armenians\", \"turkey\", \"armenia\", \"azerbaijan\", \"gordon\", \"apartment\", \"azerbaijani\", \"pitt\", \"surrender\", \"sumgait\", \"argic\", \"serdar\", \"ottoman\", \"shameful\", \"turkish\", \"intellect\", \"cadre\", \"mamma\", \"baku\", \"chastity\", \"azeri\", \"karabakh\", \"cyprus\", \"istanbul\", \"kurds\", \"reagan\", \"azerbaijanis\", \"azeris\", \"lyuda\", \"turks\", \"skepticism\", \"genocide\", \"daughter\", \"russian\", \"went\", \"town\", \"said\", \"banks\", \"came\", \"people\", \"told\", \"took\", \"building\", \"soviet\", \"started\", \"soon\", \"city\", \"says\", \"first\", \"know\", \"going\", \"left\", \"three\", \"could\", \"come\", \"launch\", \"orbit\", \"shuttle\", \"satellite\", \"lunar\", \"mars\", \"spacecraft\", \"planetary\", \"satellites\", \"nasa\", \"missions\", \"astronomy\", \"advertising\", \"orbital\", \"venus\", \"ames\", \"telescope\", \"propulsion\", \"ozone\", \"launched\", \"astro\", \"titan\", \"astronomical\", \"orbiter\", \"exploration\", \"aerospace\", \"delta\", \"jupiter\", \"bullock\", \"moon\", \"space\", \"probe\", \"atmosphere\", \"mission\", \"solar\", \"flight\", \"earth\", \"probes\", \"station\", \"university\", \"rocket\", \"surface\", \"center\", \"research\", \"energy\", \"science\", \"project\", \"program\", \"commercial\", \"april\", \"data\", \"international\", \"year\", \"first\", \"circuit\", \"wiring\", \"voltage\", \"battery\", \"tube\", \"circuits\", \"temperature\", \"compass\", \"aluminum\", \"tyre\", \"gfci\", \"antenna\", \"sampling\", \"midi\", \"mono\", \"samples\", \"batteries\", \"timer\", \"velocity\", \"radiation\", \"contradictions\", \"orbits\", \"sync\", \"pipes\", \"lamp\", \"symmetric\", \"atmospheric\", \"grass\", \"amps\", \"larson\", \"electric\", \"wires\", \"einstein\", \"holes\", \"analog\", \"water\", \"audio\", \"channel\", \"converter\", \"electrical\", \"removing\", \"signal\", \"storage\", \"model\", \"power\", \"distance\", \"supply\", \"ground\", \"input\", \"radio\", \"light\", \"high\", \"mass\", \"plane\", \"current\", \"nuclear\", \"heat\", \"used\", \"built\", \"design\", \"time\", \"neutral\", \"firearm\", \"outlets\", \"outlet\", \"ghost\", \"pistol\", \"republicans\", \"conductor\", \"cape\", \"revolver\", \"election\", \"morals\", \"explosive\", \"lamb\", \"riders\", \"breaker\", \"drum\", \"deletion\", \"echl\", \"grounding\", \"nixon\", \"breton\", \"fresh\", \"distorted\", \"bikers\", \"mainstream\", \"abused\", \"bagged\", \"favour\", \"wired\", \"trigger\", \"talent\", \"passenger\", \"wire\", \"muscle\", \"weapon\", \"picture\", \"semi\", \"annual\", \"cover\", \"ground\", \"safety\", \"appears\", \"panel\", \"rider\", \"fire\", \"auto\", \"copies\", \"green\", \"cable\", \"dangerous\", \"black\", \"house\", \"carry\", \"good\", \"smith\", \"issue\", \"excellent\", \"force\", \"baltimore\", \"nrhj\", \"pens\", \"espn\", \"bruins\", \"standings\", \"wwiz\", \"phillies\", \"gizw\", \"bhjn\", \"dodgers\", \"pmfq\", \"nriz\", \"pnei\", \"inning\", \"bxom\", \"stewart\", \"frames\", \"lens\", \"iranian\", \"axis\", \"sticking\", \"clemens\", \"astros\", \"tbxn\", \"wales\", \"prints\", \"thor\", \"corn\", \"seizures\", \"devils\", \"species\", \"pair\", \"siggraph\", \"colorado\", \"indiana\", \"phil\", \"surgery\", \"vision\", \"caps\", \"wing\", \"part\", \"slave\", \"revised\", \"reminds\", \"mario\", \"zrlk\", \"affair\", \"rchz\", \"tubes\", \"defects\", \"chzd\", \"pink\", \"grayscale\", \"mormons\", \"fluids\", \"seeds\", \"dorothy\", \"chzv\", \"waters\", \"connecting\", \"impaired\", \"dollar\", \"towers\", \"iqvg\", \"thereof\", \"rlhz\", \"confidential\", \"qvei\", \"sand\", \"tulsa\", \"lhzv\", \"steam\", \"cooling\", \"denning\", \"plants\", \"company\", \"israeli\", \"arab\", \"arabs\", \"nazis\", \"lebanon\", \"palestine\", \"israelis\", \"lebanese\", \"palestinians\", \"gaza\", \"weaver\", \"israel\", \"gazans\", \"perry\", \"pursuant\", \"ninja\", \"polish\", \"concentration\", \"shearson\", \"panther\", \"hamas\", \"patrol\", \"adequately\", \"attendance\", \"occupying\", \"yamaha\", \"satisfaction\", \"semitic\", \"interviewed\", \"aryan\", \"syria\", \"nazi\", \"jews\", \"jewish\", \"arrest\", \"occupied\", \"cooper\", \"germany\", \"switzerland\", \"german\", \"anti\", \"zone\", \"soldiers\", \"villages\", \"civilians\", \"citizens\", \"policy\", \"patients\", \"myers\", \"cancer\", \"diseases\", \"diet\", \"taste\", \"syndrome\", \"maxtor\", \"clinical\", \"foods\", \"infection\", \"esdi\", \"acid\", \"sugar\", \"restaurant\", \"kidney\", \"arabic\", \"fake\", \"harddisk\", \"lyme\", \"vitamin\", \"infections\", \"truetype\", \"infected\", \"treatments\", \"organism\", \"substances\", \"gehrels\", \"measurement\", \"czech\", \"disease\", \"patient\", \"symptoms\", \"chinese\", \"medical\", \"eating\", \"food\", \"shadow\", \"treatment\", \"cells\", \"medicine\", \"doctor\", \"cell\", \"effects\", \"health\", \"studies\", \"therapy\", \"cause\", \"research\", \"study\", \"test\", \"cubs\", \"pitching\", \"braves\", \"pitcher\", \"alomar\", \"hitter\", \"mets\", \"reds\", \"upenn\", \"giants\", \"innings\", \"cincinnati\", \"pitchers\", \"jays\", \"pinch\", \"hitters\", \"postage\", \"champs\", \"berryhill\", \"lacks\", \"cardinals\", \"idacom\", \"yanks\", \"syrian\", \"keller\", \"boggs\", \"quakers\", \"heterosexual\", \"royals\", \"kkeller\", \"darren\", \"morris\", \"keith\", \"olson\", \"pitch\", \"offense\", \"runs\", \"seasons\", \"davis\", \"injury\", \"ball\", \"offensive\", \"year\", \"hitting\", \"staff\", \"hits\", \"last\", \"base\", \"lost\", \"grade\", \"defense\", \"cylinders\", \"ceremonial\", \"ingr\", \"dtmedin\", \"catbyte\", \"uart\", \"spherical\", \"intergraph\", \"screws\", \"chevy\", \"perception\", \"liver\", \"trek\", \"huntsville\", \"overtime\", \"registers\", \"volvo\", \"gerald\", \"juneau\", \"dreams\", \"animated\", \"targa\", \"medin\", \"marty\", \"zionists\", \"semak\", \"samuelsson\", \"fedorov\", \"airplane\", \"roughing\", \"suck\", \"scope\", \"uucp\", \"baerga\", \"corp\", \"swedish\", \"carter\", \"uunet\", \"caps\", \"everywhere\"], \"Freq\": [1295.0, 4342.0, 1694.0, 1563.0, 1193.0, 952.0, 1499.0, 6512.0, 893.0, 875.0, 4273.0, 3683.0, 1891.0, 499.0, 3213.0, 1286.0, 2021.0, 1262.0, 820.0, 1265.0, 1327.0, 2620.0, 683.0, 477.0, 897.0, 1561.0, 632.0, 1744.0, 1417.0, 575.0, 261.406982421875, 236.134765625, 146.39781188964844, 118.56736755371094, 101.98126983642578, 429.0132751464844, 93.19365692138672, 87.9952163696289, 84.4586181640625, 81.84561157226562, 80.81169128417969, 75.50508117675781, 69.77641296386719, 69.65726470947266, 67.29634094238281, 66.01969146728516, 65.44392395019531, 64.10010528564453, 63.873329162597656, 61.60956573486328, 60.498435974121094, 56.3101806640625, 55.73551559448242, 55.57597351074219, 51.881561279296875, 50.685367584228516, 139.16233825683594, 48.85144805908203, 47.654151916503906, 45.992088317871094, 126.5733642578125, 65.99346160888672, 169.8186798095703, 248.0562286376953, 94.77009582519531, 571.6355590820312, 186.35580444335938, 363.4474792480469, 158.24261474609375, 327.0039978027344, 194.58262634277344, 896.0224609375, 416.9742431640625, 267.2331848144531, 395.06573486328125, 137.5015869140625, 514.86328125, 612.1893920898438, 383.0063781738281, 549.8043212890625, 1941.217041015625, 984.2265625, 429.3930969238281, 2431.3203125, 210.62777709960938, 3315.718994140625, 287.9886169433594, 492.830810546875, 864.1396484375, 433.7561340332031, 644.5858764648438, 1202.726806640625, 536.27783203125, 910.5758666992188, 745.9443969726562, 1061.3087158203125, 1484.8748779296875, 529.7412719726562, 1139.2628173828125, 995.87353515625, 1419.897216796875, 714.1522216796875, 1020.51806640625, 671.2252197265625, 873.9432373046875, 578.2390747070312, 759.0199584960938, 919.5640258789062, 579.0167236328125, 758.890625, 642.5775146484375, 602.8230590820312, 598.4755249023438, 589.946533203125, 372.99652099609375, 156.1796417236328, 129.70013427734375, 120.24576568603516, 299.13934326171875, 113.84443664550781, 103.14412689208984, 101.75202178955078, 96.64680480957031, 88.00559997558594, 83.49014282226562, 78.81383514404297, 75.61897277832031, 68.03524017333984, 66.07130432128906, 63.13059616088867, 59.7664909362793, 59.297401428222656, 57.91396713256836, 57.780914306640625, 55.38926315307617, 53.75750732421875, 53.589717864990234, 53.0042610168457, 52.884788513183594, 48.54842758178711, 47.498260498046875, 47.22356414794922, 45.82077407836914, 45.01029586791992, 99.34487915039062, 87.84603881835938, 245.05885314941406, 84.15418243408203, 78.2071304321289, 230.2845001220703, 271.3075866699219, 1004.2998657226562, 470.6964416503906, 147.7970733642578, 307.2088317871094, 662.1778564453125, 91.62681579589844, 165.28573608398438, 1346.7032470703125, 376.4962463378906, 1939.6080322265625, 630.161376953125, 344.0780334472656, 800.2051391601562, 207.48114013671875, 1046.6817626953125, 1307.536865234375, 383.3537902832031, 578.4201049804688, 468.3948059082031, 1845.5382080078125, 523.3206176757812, 625.2086791992188, 599.8532104492188, 655.9647827148438, 938.4769287109375, 951.2095336914062, 1057.9124755859375, 1154.38330078125, 602.744384765625, 584.3145751953125, 528.2517700195312, 888.60498046875, 642.0250854492188, 659.0543212890625, 708.760009765625, 573.2154541015625, 492.05828857421875, 564.3275146484375, 573.7636108398438, 585.9623413085938, 518.7799072265625, 896.3679809570312, 642.5064697265625, 385.1704406738281, 373.5450744628906, 359.5865783691406, 337.0080871582031, 204.50335693359375, 204.2024383544922, 199.47764587402344, 180.7024688720703, 179.11851501464844, 174.84222412109375, 162.62176513671875, 159.16685485839844, 155.71978759765625, 146.9091796875, 144.15382385253906, 140.08941650390625, 131.09451293945312, 130.03903198242188, 125.1092758178711, 123.24526977539062, 122.81608581542969, 113.75696563720703, 109.30886840820312, 108.92642974853516, 108.26359558105469, 104.49224090576172, 101.48932647705078, 99.81302642822266, 1662.5684814453125, 245.9727783203125, 572.54833984375, 261.546142578125, 809.1839599609375, 507.2566833496094, 169.58624267578125, 666.4966430664062, 466.274169921875, 165.01034545898438, 1120.22216796875, 354.9387512207031, 430.8701171875, 667.522216796875, 391.5191955566406, 605.3165893554688, 439.2523193359375, 468.3291320800781, 289.0614318847656, 199.25039672851562, 620.6702880859375, 647.5997924804688, 518.8385620117188, 684.0947875976562, 427.8233947753906, 356.600830078125, 311.70672607421875, 391.6099548339844, 483.6137390136719, 482.0717468261719, 388.35382080078125, 510.87237548828125, 355.17181396484375, 195.85704040527344, 143.2781524658203, 130.11856079101562, 123.50220489501953, 113.48391723632812, 107.12339782714844, 102.03168487548828, 100.37853240966797, 94.57014465332031, 85.12394714355469, 77.70853424072266, 69.36919403076172, 68.80854034423828, 64.50715637207031, 64.4710464477539, 60.05371856689453, 50.464508056640625, 49.63612365722656, 49.26838684082031, 48.635772705078125, 48.45340347290039, 47.00312042236328, 46.83425521850586, 46.58135986328125, 46.22880172729492, 45.61832046508789, 44.267547607421875, 42.69689178466797, 42.59843444824219, 42.328182220458984, 156.1783905029297, 69.193603515625, 107.94596099853516, 132.13938903808594, 95.38304901123047, 263.6227111816406, 80.04279327392578, 145.77090454101562, 102.1796646118164, 211.15948486328125, 130.02037048339844, 228.79714965820312, 68.72223663330078, 196.47926330566406, 271.54248046875, 155.36953735351562, 347.3560791015625, 240.12913513183594, 362.3389587402344, 251.27047729492188, 133.75851440429688, 129.63040161132812, 201.13357543945312, 243.90818786621094, 272.728271484375, 203.13209533691406, 843.4415283203125, 382.2911071777344, 343.9020080566406, 186.32437133789062, 360.6505126953125, 217.7845916748047, 176.6422119140625, 180.70098876953125, 187.41188049316406, 234.05868530273438, 189.35757446289062, 315.4286804199219, 272.4179992675781, 285.3632507324219, 228.26805114746094, 270.20953369140625, 198.05503845214844, 229.63992309570312, 819.7512817382812, 593.47998046875, 377.1751708984375, 369.498291015625, 356.8127746582031, 253.92660522460938, 223.7769775390625, 202.39016723632812, 165.5406494140625, 138.23480224609375, 137.979248046875, 117.0234603881836, 116.54203796386719, 109.94488525390625, 96.49516296386719, 88.35912322998047, 87.25605773925781, 85.2963638305664, 79.34077453613281, 75.82537078857422, 73.26195526123047, 73.11309051513672, 73.02749633789062, 67.56780242919922, 64.74356842041016, 61.67415237426758, 60.4983024597168, 59.06011199951172, 58.089664459228516, 55.53217315673828, 632.433349609375, 1083.3372802734375, 214.7157745361328, 180.71507263183594, 252.80018615722656, 237.75030517578125, 430.3000793457031, 241.28627014160156, 322.54315185546875, 164.33645629882812, 320.280517578125, 326.9343566894531, 297.30340576171875, 392.77764892578125, 309.81390380859375, 227.55494689941406, 782.6040649414062, 313.7255554199219, 267.6019592285156, 626.4156494140625, 290.9645080566406, 443.478759765625, 622.2900390625, 716.3560791015625, 578.3397827148438, 374.4296569824219, 449.40875244140625, 589.6328735351562, 310.788330078125, 371.2715148925781, 557.6424560546875, 400.3128356933594, 322.9167785644531, 425.935546875, 365.63323974609375, 369.4847412109375, 340.2591247558594, 306.0313720703125, 129.84622192382812, 93.15961456298828, 87.40036010742188, 84.2056655883789, 73.98323059082031, 68.56343078613281, 66.4152603149414, 62.85884094238281, 60.38471603393555, 59.81767272949219, 57.44084167480469, 56.92572784423828, 56.14093780517578, 56.00590515136719, 61.39632797241211, 54.81488800048828, 54.43324661254883, 53.15282440185547, 52.480064392089844, 64.52559661865234, 189.14659118652344, 48.17954635620117, 45.11009216308594, 45.08938980102539, 44.87802505493164, 42.338558197021484, 41.9627571105957, 41.30288314819336, 40.52901840209961, 110.90831756591797, 417.560791015625, 185.9947052001953, 49.93037033081055, 638.4591674804688, 739.00830078125, 141.5014190673828, 71.89228057861328, 238.46241760253906, 214.49041748046875, 236.48727416992188, 488.6791076660156, 369.89013671875, 106.46581268310547, 340.3540954589844, 178.47706604003906, 603.8745727539062, 83.35796356201172, 363.5736083984375, 278.6937255859375, 142.89439392089844, 354.60235595703125, 369.833251953125, 189.07266235351562, 170.6636505126953, 216.06419372558594, 296.8224792480469, 449.6585693359375, 280.3589172363281, 207.33168029785156, 158.40797424316406, 233.55224609375, 242.52406311035156, 235.22047424316406, 265.55303955078125, 183.95684814453125, 271.1224670410156, 293.803466796875, 220.06858825683594, 206.12326049804688, 205.2748260498047, 208.58035278320312, 558.5394897460938, 503.8460998535156, 426.34259033203125, 319.4864807128906, 227.95327758789062, 197.00772094726562, 192.91903686523438, 171.98196411132812, 143.17396545410156, 112.73660278320312, 83.88004302978516, 81.78475189208984, 72.12020111083984, 68.77603149414062, 65.50431823730469, 63.41835021972656, 57.15436553955078, 54.973487854003906, 54.95875930786133, 51.749549865722656, 45.05356216430664, 44.932674407958984, 44.881256103515625, 38.325584411621094, 37.38980484008789, 36.97786331176758, 35.9029655456543, 35.38654327392578, 35.1551513671875, 257.9815673828125, 78.16500091552734, 414.3797607421875, 222.18966674804688, 235.1936798095703, 174.3240203857422, 137.4217529296875, 191.0938720703125, 109.91556549072266, 68.68724060058594, 489.55780029296875, 271.6264343261719, 140.7758026123047, 218.95205688476562, 223.312744140625, 322.71673583984375, 671.5820922851562, 534.7268676757812, 204.6499481201172, 157.77630615234375, 165.3556671142578, 235.22434997558594, 172.89328002929688, 313.4349060058594, 332.4021301269531, 357.9645080566406, 201.3904571533203, 297.1612243652344, 267.1562805175781, 204.7424774169922, 187.19586181640625, 951.8731689453125, 631.3951416015625, 472.65789794921875, 422.8294677734375, 400.5981140136719, 251.2340087890625, 210.07266235351562, 173.1622314453125, 155.48817443847656, 148.82180786132812, 144.76539611816406, 120.53822326660156, 112.28311157226562, 106.8552017211914, 97.14755249023438, 96.5284652709961, 91.12551879882812, 90.74781799316406, 90.65538024902344, 86.74634552001953, 83.39939880371094, 81.61571502685547, 80.5783920288086, 79.0360336303711, 75.28684997558594, 73.55316162109375, 71.93610382080078, 70.9183578491211, 70.4656982421875, 69.80720520019531, 542.7396850585938, 222.53126525878906, 211.7506561279297, 132.41319274902344, 137.93658447265625, 399.22320556640625, 224.03518676757812, 128.29391479492188, 262.344482421875, 245.6995391845703, 250.10733032226562, 199.3627471923828, 114.95276641845703, 310.984375, 242.85186767578125, 232.6516571044922, 158.6892852783203, 284.043212890625, 176.12669372558594, 188.90072631835938, 275.9017028808594, 172.59744262695312, 182.29849243164062, 179.64007568359375, 151.6107177734375, 290.2244567871094, 222.22613525390625, 140.65301513671875, 114.2916488647461, 108.99678039550781, 108.6959228515625, 80.64435577392578, 78.78620147705078, 67.72498321533203, 674.1738891601562, 61.05256652832031, 60.90082931518555, 55.15884780883789, 52.89828109741211, 42.409908294677734, 42.30425262451172, 42.27703094482422, 37.1406135559082, 33.40662384033203, 33.1497917175293, 123.01271057128906, 30.44639015197754, 28.88700294494629, 27.704282760620117, 27.56728172302246, 27.06329917907715, 25.788785934448242, 25.744766235351562, 25.897790908813477, 25.521770477294922, 135.93455505371094, 70.82020568847656, 212.9946746826172, 66.40323638916016, 89.63041687011719, 244.92425537109375, 163.14846801757812, 76.92842102050781, 302.39453125, 151.90353393554688, 298.6488342285156, 139.8062286376953, 117.88964080810547, 83.05546569824219, 135.98338317871094, 309.40875244140625, 167.89898681640625, 189.7042999267578, 137.8411865234375, 207.75900268554688, 183.1527862548828, 240.52223205566406, 179.42962646484375, 137.63552856445312, 194.69223022460938, 219.15109252929688, 222.115966796875, 229.32310485839844, 183.87057495117188, 157.49661254882812, 158.89981079101562, 242.42153930664062, 205.0551300048828, 212.53794860839844, 154.48257446289062, 163.7535858154297, 158.59149169921875, 184.4698028564453, 161.31507873535156, 163.2050018310547, 159.14036560058594, 475.0296936035156, 383.1367492675781, 301.5103759765625, 159.6422882080078, 139.8177032470703, 134.3263397216797, 131.54978942871094, 129.15481567382812, 127.42594909667969, 125.55558013916016, 177.844482421875, 110.16342163085938, 107.27391815185547, 106.34629821777344, 104.96510314941406, 100.1665267944336, 97.47928619384766, 94.45733642578125, 91.05030059814453, 89.51522064208984, 89.46092987060547, 84.8345947265625, 84.0835952758789, 83.47465515136719, 81.9892807006836, 73.86009216308594, 73.05936431884766, 68.43146514892578, 66.73101043701172, 66.50350952148438, 457.02545166015625, 861.754638671875, 841.3592529296875, 144.13182067871094, 552.697509765625, 389.16485595703125, 272.7779541015625, 202.45404052734375, 496.336181640625, 228.78504943847656, 184.82647705078125, 174.86692810058594, 157.50315856933594, 162.96824645996094, 264.4619140625, 124.60928344726562, 187.90838623046875, 436.91632080078125, 169.4886016845703, 297.35546875, 230.97579956054688, 182.1105499267578, 153.221923828125, 151.3123016357422, 162.3045654296875, 147.98788452148438, 574.8411865234375, 495.9909362792969, 294.66851806640625, 225.1472930908203, 142.89291381835938, 131.8628692626953, 131.31834411621094, 122.32311248779297, 121.39353942871094, 117.81675720214844, 113.58992004394531, 103.74137878417969, 100.09645080566406, 98.7347640991211, 90.90335845947266, 480.3067932128906, 90.83944702148438, 90.66381072998047, 88.7115478515625, 87.61019134521484, 86.46601104736328, 81.3320083618164, 78.71366119384766, 77.71704864501953, 73.23951721191406, 70.41524505615234, 64.81153869628906, 59.92188262939453, 55.76199722290039, 49.73175048828125, 241.9139404296875, 92.56705474853516, 150.24716186523438, 116.02385711669922, 196.4446563720703, 311.08331298828125, 149.05886840820312, 547.0379028320312, 109.67499542236328, 228.24359130859375, 449.00469970703125, 189.4630126953125, 168.34803771972656, 143.8623504638672, 118.25322723388672, 150.661865234375, 139.1177215576172, 140.54086303710938, 153.96646118164062, 178.47372436523438, 186.87713623046875, 150.88450622558594, 135.46165466308594, 137.14376831054688, 133.2913818359375, 124.37173461914062, 284.7428894042969, 231.84034729003906, 212.6963653564453, 207.24053955078125, 186.51638793945312, 136.65829467773438, 129.0290069580078, 113.93135070800781, 110.08358001708984, 470.7802734375, 101.85587310791016, 97.78363037109375, 85.52058410644531, 78.66370391845703, 75.955078125, 78.18682098388672, 66.21142578125, 62.656002044677734, 61.89917755126953, 81.53123474121094, 55.330448150634766, 54.158573150634766, 52.82139205932617, 51.47418975830078, 51.39046859741211, 51.293949127197266, 50.969322204589844, 50.8653450012207, 47.55502700805664, 235.47079467773438, 1216.62939453125, 103.903076171875, 68.42778015136719, 176.1222686767578, 127.34371185302734, 133.17633056640625, 321.8449401855469, 70.29235076904297, 176.23468017578125, 317.9261169433594, 102.78374481201172, 140.48931884765625, 235.2503662109375, 247.1160430908203, 116.79714965820312, 191.06436157226562, 116.27291107177734, 236.798828125, 125.72868347167969, 155.8430633544922, 165.44000244140625, 117.7999267578125, 127.31967163085938, 129.16502380371094, 158.654541015625, 146.7648162841797, 110.51537322998047, 99.08589172363281, 95.93147277832031, 81.68367004394531, 73.81114196777344, 70.2663803100586, 66.96927642822266, 66.51457214355469, 63.46702575683594, 62.30290222167969, 51.159671783447266, 51.04131317138672, 48.66936111450195, 44.114986419677734, 42.45948791503906, 41.053245544433594, 40.987369537353516, 39.27894973754883, 38.40282440185547, 37.71151351928711, 36.577613830566406, 36.46734619140625, 36.197330474853516, 35.98229217529297, 35.634246826171875, 34.84487533569336, 34.58082962036133, 34.283607482910156, 48.047855377197266, 95.19310760498047, 55.11649703979492, 76.70668029785156, 69.10807800292969, 213.61801147460938, 114.81904602050781, 119.41764831542969, 82.16973114013672, 84.5691909790039, 58.374755859375, 103.31922149658203, 69.72787475585938, 163.05093383789062, 282.6758728027344, 78.95125579833984, 105.87316131591797, 131.33917236328125, 133.82461547851562, 115.30110931396484, 128.50289916992188, 169.5615234375, 89.20735931396484, 73.88533020019531, 109.29318237304688, 78.04135131835938, 74.09038543701172, 89.37484741210938, 77.91680908203125, 77.11354064941406, 78.46387481689453, 142.24212646484375, 157.3054656982422, 69.08343505859375, 54.868778228759766, 54.41476821899414, 51.212135314941406, 51.093589782714844, 49.88316345214844, 48.991241455078125, 47.07860565185547, 43.45853042602539, 41.626399993896484, 41.15626525878906, 40.385982513427734, 40.34260177612305, 38.528629302978516, 36.84056854248047, 34.52125930786133, 33.95780944824219, 46.1295166015625, 31.846651077270508, 31.716354370117188, 31.6632022857666, 30.385473251342773, 30.28841209411621, 28.56917953491211, 26.525630950927734, 26.04098129272461, 25.76253890991211, 25.633350372314453, 51.651641845703125, 60.56418991088867, 39.00334167480469, 168.51800537109375, 41.95865249633789, 128.2032928466797, 156.9960479736328, 86.62181854248047, 80.7077865600586, 151.7820281982422, 167.32139587402344, 140.17752075195312, 134.9616241455078, 83.17462158203125, 69.26557159423828, 112.52638244628906, 74.92127990722656, 77.35135650634766, 63.66172790527344, 81.702392578125, 70.20282745361328, 81.29460144042969, 80.21707153320312, 68.18092346191406, 98.75234985351562, 60.09911346435547, 64.6584701538086, 56.79145431518555, 57.10226058959961, 103.77436828613281, 99.84428405761719, 89.62571716308594, 81.50076293945312, 77.38812255859375, 69.08342742919922, 68.4698486328125, 57.220096588134766, 56.66604232788086, 55.35300827026367, 49.140342712402344, 42.18321990966797, 41.66058349609375, 41.5806999206543, 40.78390121459961, 39.63330841064453, 39.54472351074219, 38.797576904296875, 36.46609115600586, 36.34751510620117, 35.379730224609375, 34.01103591918945, 33.65488815307617, 33.21177673339844, 33.20972442626953, 32.051631927490234, 30.628324508666992, 30.199066162109375, 29.665733337402344, 28.99247932434082, 78.54145050048828, 49.5273551940918, 76.05573272705078, 38.77302169799805, 80.5623550415039, 49.396358489990234, 51.08294677734375, 39.84498977661133, 43.20418930053711, 39.557918548583984, 38.13517761230469, 39.66249465942383, 228.451904296875, 72.63526916503906, 49.3636360168457, 45.73288345336914, 40.49779510498047, 39.826934814453125, 38.84782409667969, 37.37641143798828, 37.16337203979492, 35.82716751098633, 35.61444091796875, 35.05852127075195, 34.428951263427734, 33.49563980102539, 32.781837463378906, 32.51131820678711, 32.49626159667969, 32.04984664916992, 32.01744079589844, 31.890153884887695, 62.847007751464844, 30.593698501586914, 30.56362533569336, 30.46790313720703, 30.358001708984375, 30.299863815307617, 26.943140029907227, 26.83362579345703, 25.367258071899414, 25.24431800842285, 37.28837203979492, 51.54646301269531, 54.16508483886719, 29.381139755249023, 29.582895278930664, 319.7818298339844, 181.8779296875, 100.85957336425781, 77.0630111694336, 73.30101013183594, 70.9712905883789, 70.00334930419922, 67.64845275878906, 64.48213195800781, 53.37190628051758, 52.79248809814453, 487.2126770019531, 28.346967697143555, 27.3897705078125, 25.887779235839844, 22.086544036865234, 21.76798439025879, 21.06998634338379, 18.443187713623047, 18.280315399169922, 17.99556541442871, 17.97239112854004, 17.410419464111328, 16.74888801574707, 17.723461151123047, 16.406482696533203, 16.267581939697266, 15.598501205444336, 15.432209968566895, 15.341475486755371, 40.20673370361328, 91.97823333740234, 342.6236267089844, 171.9769744873047, 37.83354949951172, 54.918556213378906, 27.430784225463867, 85.06607055664062, 36.98652648925781, 61.23515319824219, 77.66175842285156, 46.82255935668945, 53.24488067626953, 42.46585464477539, 31.692922592163086, 33.01365280151367, 29.40228271484375, 147.1026153564453, 114.30191802978516, 89.04097747802734, 79.48924255371094, 65.60353088378906, 65.46672821044922, 60.67372512817383, 55.35849380493164, 42.73879623413086, 40.95858383178711, 37.46882247924805, 37.25381851196289, 36.47319793701172, 30.826684951782227, 30.75679588317871, 30.037656784057617, 29.928136825561523, 27.29258155822754, 26.6630916595459, 25.369340896606445, 25.185302734375, 24.952693939208984, 24.10751724243164, 24.083410263061523, 24.479108810424805, 22.687923431396484, 22.535818099975586, 22.21675682067871, 22.14518928527832, 21.359355926513672, 159.0186767578125, 68.30401611328125, 55.92185592651367, 54.908939361572266, 181.94680786132812, 51.057308197021484, 157.50485229492188, 40.41861343383789, 97.9242935180664, 46.67887878417969, 69.90507507324219, 85.61624145507812, 37.14754104614258, 52.43180465698242, 65.67444610595703, 48.753204345703125, 33.060874938964844, 49.89812088012695, 49.27208709716797, 39.62858200073242, 37.487369537353516, 94.67491912841797, 78.2547607421875, 62.49666976928711, 47.93600845336914, 46.38764190673828, 41.45740509033203, 40.438114166259766, 32.95529556274414, 32.274837493896484, 30.562564849853516, 29.52572250366211, 28.8289852142334, 27.116174697875977, 26.288814544677734, 24.410669326782227, 23.080366134643555, 22.521469116210938, 21.321805953979492, 19.582683563232422, 19.46627426147461, 19.365894317626953, 18.808151245117188, 18.216415405273438, 18.1560001373291, 18.07452964782715, 17.784181594848633, 17.744958877563477, 17.4520263671875, 17.429668426513672, 17.286922454833984, 41.99332046508789, 43.54035949707031, 59.89624786376953, 31.30967140197754, 36.295738220214844, 43.136295318603516, 127.56416320800781, 26.65833854675293, 27.06297492980957, 41.01848220825195, 46.05782699584961, 33.60306167602539, 128.45310974121094, 30.03946304321289, 32.350990295410156, 31.173240661621094, 61.63007736206055, 38.38868713378906, 37.29295349121094, 29.387836456298828, 28.968647003173828, 42.07325744628906, 27.469900131225586, 24.0233097076416, 21.93403434753418, 21.93403434753418, 21.079137802124023, 19.058116912841797, 17.736745834350586, 17.68311309814453, 17.13604164123535, 17.118366241455078, 16.591144561767578, 16.441476821899414, 16.04596519470215, 15.011407852172852, 14.289107322692871, 13.64006233215332, 13.617208480834961, 13.305622100830078, 13.201034545898438, 12.875368118286133, 12.135226249694824, 10.982033729553223, 10.578224182128906, 10.55922794342041, 10.496146202087402, 10.163178443908691, 9.8720703125, 9.860153198242188, 9.84506893157959, 34.83260726928711, 25.534809112548828, 26.319583892822266, 13.624125480651855, 21.360414505004883, 14.355692863464355, 13.517006874084473, 14.956894874572754, 13.505258560180664, 13.101920127868652], \"Total\": [1295.0, 4342.0, 1694.0, 1563.0, 1193.0, 952.0, 1499.0, 6512.0, 893.0, 875.0, 4273.0, 3683.0, 1891.0, 499.0, 3213.0, 1286.0, 2021.0, 1262.0, 820.0, 1265.0, 1327.0, 2620.0, 683.0, 477.0, 897.0, 1561.0, 632.0, 1744.0, 1417.0, 575.0, 262.3786926269531, 237.1074676513672, 147.36953735351562, 119.53910827636719, 102.97499084472656, 433.4251403808594, 94.1666488647461, 88.96695709228516, 85.43038940429688, 82.81735229492188, 81.783447265625, 76.47682189941406, 70.74815368652344, 70.6290054321289, 68.26811981201172, 66.9914321899414, 66.41566467285156, 65.07185363769531, 64.84698486328125, 62.5812873840332, 61.492645263671875, 57.28190231323242, 56.7072639465332, 56.54769515991211, 52.8532829284668, 51.6570930480957, 141.88246154785156, 49.82404327392578, 48.625877380371094, 46.963809967041016, 129.8924560546875, 67.42079162597656, 177.48342895507812, 263.940185546875, 98.09966278076172, 647.2749633789062, 199.4983673095703, 411.6142272949219, 171.01644897460938, 371.7459716796875, 214.03076171875, 1126.275634765625, 500.3357849121094, 312.1137390136719, 486.2732849121094, 151.2368621826172, 672.1970825195312, 818.7660522460938, 480.8971862792969, 738.5944213867188, 3213.90625, 1469.8748779296875, 564.6139526367188, 4342.3974609375, 247.4079132080078, 6512.22412109375, 360.64813232421875, 695.2149047851562, 1404.3895263671875, 608.8265380859375, 1006.5538940429688, 2405.1220703125, 844.49462890625, 1729.2061767578125, 1320.105712890625, 2147.064208984375, 3683.515869140625, 852.8862915039062, 2651.166748046875, 2242.743408203125, 4273.52392578125, 1426.482666015625, 2719.5283203125, 1337.6361083984375, 2209.645263671875, 1056.9061279296875, 1972.5606689453125, 3194.3515625, 1092.0238037109375, 2620.734130859375, 1574.130859375, 1422.7205810546875, 1520.9779052734375, 1845.19775390625, 373.96710205078125, 157.15025329589844, 130.67074584960938, 121.21640014648438, 301.6553955078125, 114.81507110595703, 104.11476135253906, 102.72265625, 97.61743927001953, 88.97623443603516, 84.46077728271484, 79.78446960449219, 76.58960723876953, 69.00587463378906, 67.04195404052734, 64.10121154785156, 60.737098693847656, 60.26801300048828, 58.88457489013672, 58.751522064208984, 56.3598747253418, 54.72811508178711, 54.560325622558594, 53.97486877441406, 53.85540008544922, 49.51903533935547, 48.468868255615234, 48.19493865966797, 46.7913818359375, 45.98090362548828, 103.25357055664062, 91.4294662475586, 266.25628662109375, 88.29110717773438, 81.73773956298828, 255.0266876220703, 331.1075744628906, 1526.4737548828125, 662.9967041015625, 175.3844757080078, 423.1274719238281, 1065.0849609375, 101.15504455566406, 204.72705078125, 2620.734130859375, 564.2352905273438, 4273.52392578125, 1092.1357421875, 515.4581909179688, 1520.9779052734375, 276.4273986816406, 2209.645263671875, 3194.3515625, 643.7623291015625, 1219.3001708984375, 917.4736938476562, 6512.22412109375, 1076.3692626953125, 1393.2325439453125, 1313.1834716796875, 1501.4306640625, 2651.166748046875, 2719.5283203125, 3213.90625, 3683.515869140625, 1428.4007568359375, 1460.6298828125, 1227.457275390625, 3533.042724609375, 1845.19775390625, 1972.5606689453125, 2405.1220703125, 1744.6796875, 1156.7386474609375, 1679.078857421875, 2147.064208984375, 2355.560302734375, 1729.2061767578125, 897.3363037109375, 643.4745483398438, 386.13848876953125, 374.51312255859375, 360.55462646484375, 337.97613525390625, 205.47145080566406, 205.17051696777344, 200.4457244873047, 181.67059326171875, 180.0865936279297, 175.810302734375, 163.58984375, 160.1349334716797, 156.6878662109375, 147.87725830078125, 145.12374877929688, 141.0574951171875, 132.06259155273438, 131.00711059570312, 126.077392578125, 124.21338653564453, 123.7842025756836, 114.72508239746094, 110.27698516845703, 109.89454650878906, 109.2317123413086, 105.46035766601562, 102.45744323730469, 100.78114318847656, 1694.1185302734375, 249.9845428466797, 594.1347045898438, 267.1191101074219, 849.725341796875, 549.6714477539062, 174.25704956054688, 771.6905517578125, 526.3276977539062, 170.31939697265625, 1499.5982666015625, 416.8471984863281, 525.7106323242188, 888.8069458007812, 476.1846923828125, 802.7986450195312, 598.1480712890625, 657.0580444335938, 360.133544921875, 220.0558319091797, 1265.9998779296875, 1383.0072021484375, 978.7950439453125, 1558.0687255859375, 766.0849609375, 582.2501831054688, 453.4776306152344, 770.5571899414062, 1352.6790771484375, 1455.9798583984375, 998.8644409179688, 3533.042724609375, 1561.9959716796875, 196.82754516601562, 144.2516326904297, 131.0890655517578, 124.47273254394531, 114.45445251464844, 108.09392547607422, 103.0022201538086, 101.34906005859375, 95.54068756103516, 86.09447479248047, 78.67906188964844, 70.3397216796875, 69.77906799316406, 65.4776840209961, 65.44181060791016, 61.024227142333984, 51.43501663208008, 50.606632232666016, 50.24832534790039, 49.60628128051758, 49.423912048339844, 47.973628997802734, 47.80476379394531, 47.5518684387207, 47.199310302734375, 46.588829040527344, 45.23805618286133, 43.66740036010742, 43.56894302368164, 43.29869079589844, 160.83554077148438, 72.1422348022461, 115.49523162841797, 143.32412719726562, 104.40441131591797, 322.4318542480469, 86.60604858398438, 170.01260375976562, 115.44921112060547, 266.077392578125, 154.5550537109375, 300.91796875, 74.16301727294922, 255.23635864257812, 377.6813659667969, 196.89743041992188, 555.5015258789062, 358.5348205566406, 648.877685546875, 399.55694580078125, 173.23007202148438, 165.96864318847656, 318.3232116699219, 431.0697326660156, 584.0275268554688, 358.27239990234375, 4342.3974609375, 1114.648193359375, 1015.71240234375, 320.17449951171875, 1286.9229736328125, 481.0137939453125, 316.0687255859375, 333.9288330078125, 367.7580871582031, 633.380126953125, 394.21783447265625, 2242.743408203125, 1460.6298828125, 1891.6307373046875, 1092.0238037109375, 3533.042724609375, 686.3726196289062, 6512.22412109375, 820.7255249023438, 594.4542236328125, 378.1494140625, 370.4725341796875, 357.7870178222656, 254.9254913330078, 224.75125122070312, 203.3644256591797, 166.51490783691406, 139.2090606689453, 138.95350646972656, 117.99774932861328, 117.51632690429688, 110.91917419433594, 97.46945190429688, 89.33341217041016, 88.2303466796875, 86.2706527709961, 80.3385009765625, 76.7996597290039, 74.23624420166016, 74.0873794555664, 74.00178527832031, 68.5420913696289, 65.71785736083984, 62.64842224121094, 61.472572326660156, 60.03438186645508, 59.063934326171875, 56.510677337646484, 652.9620361328125, 1193.0281982421875, 226.4374542236328, 191.3144989013672, 276.44683837890625, 259.7909851074219, 491.34161376953125, 269.78515625, 371.0574951171875, 179.06837463378906, 376.2294921875, 399.71533203125, 369.86431884765625, 519.1085815429688, 401.21307373046875, 276.98345947265625, 1327.5849609375, 429.25067138671875, 365.5091247558594, 1265.9998779296875, 432.3992004394531, 884.658447265625, 1553.8929443359375, 2021.2484130859375, 1744.6796875, 998.8644409179688, 1661.389404296875, 3683.515869140625, 632.9545288085938, 1262.7052001953125, 6512.22412109375, 1768.6951904296875, 784.91943359375, 4273.52392578125, 1963.2720947265625, 3533.042724609375, 1679.078857421875, 306.9995422363281, 130.8145751953125, 94.1278305053711, 88.36857604980469, 85.17388153076172, 74.95144653320312, 69.53633117675781, 67.39247131347656, 63.856868743896484, 61.3529167175293, 60.78587341308594, 58.40904235839844, 57.89392852783203, 57.10913848876953, 56.97410583496094, 62.46706008911133, 55.78308868408203, 55.401451110839844, 54.12102508544922, 53.448265075683594, 65.75468444824219, 192.91397094726562, 49.14774703979492, 46.07829284667969, 46.05759048461914, 45.84622573852539, 43.306758880615234, 42.93095779418945, 42.27108383178711, 41.49721908569336, 115.41378784179688, 469.068115234375, 215.47557067871094, 52.29584503173828, 1058.0948486328125, 1262.7052001953125, 180.0934295654297, 80.9332504272461, 352.8548278808594, 312.030517578125, 357.8439025878906, 908.6411743164062, 652.066650390625, 130.93338012695312, 654.6651000976562, 283.494384765625, 1561.9959716796875, 98.60555267333984, 784.91943359375, 540.35791015625, 211.7557830810547, 792.9559936523438, 910.6914672851562, 332.9259948730469, 286.0860290527344, 424.3377990722656, 707.5120849609375, 1383.0072021484375, 658.8892822265625, 402.30120849609375, 264.0199279785156, 572.6170043945312, 768.9510498046875, 998.8644409179688, 1553.8929443359375, 452.3430480957031, 2021.2484130859375, 3533.042724609375, 1098.9210205078125, 781.1502075195312, 1352.6790771484375, 2242.743408203125, 559.5133666992188, 504.8199768066406, 427.31646728515625, 320.4603576660156, 228.92715454101562, 197.98167419433594, 193.89669799804688, 172.95584106445312, 144.14784240722656, 113.71051788330078, 84.85395050048828, 82.75865936279297, 73.09410858154297, 69.74995422363281, 66.47822570800781, 64.39225006103516, 58.12826156616211, 55.94738006591797, 55.93265151977539, 52.72344207763672, 46.0274543762207, 45.90656661987305, 45.85514831542969, 39.299476623535156, 38.36369705200195, 37.95175552368164, 36.87685775756836, 36.360435485839844, 36.12904357910156, 265.4181823730469, 80.85111236572266, 459.8949890136719, 252.80760192871094, 278.8949279785156, 206.16468811035156, 159.75347900390625, 230.30844116210938, 128.81613159179688, 74.96190643310547, 746.8587646484375, 373.9316101074219, 173.53988647460938, 300.1619567871094, 307.7043762207031, 485.03350830078125, 1286.9229736328125, 979.426513671875, 297.37408447265625, 216.73452758789062, 243.52365112304688, 438.6258850097656, 306.43450927734375, 1015.71240234375, 1561.9959716796875, 2021.2484130859375, 492.6216125488281, 1963.2720947265625, 1352.6790771484375, 551.0961303710938, 1972.5606689453125, 952.8463134765625, 632.3682861328125, 473.6310119628906, 423.8025817871094, 401.57293701171875, 252.2071533203125, 211.04580688476562, 174.1353759765625, 156.46246337890625, 149.79495239257812, 145.73854064941406, 121.51141357421875, 113.25628662109375, 107.82837677001953, 98.1207275390625, 97.50164031982422, 92.09869384765625, 91.72099304199219, 91.62855529785156, 87.71952056884766, 84.37257385253906, 82.5888900756836, 81.55156707763672, 80.00920867919922, 76.26002502441406, 74.52633666992188, 72.9092788696289, 71.89153289794922, 71.43887329101562, 70.78038024902344, 550.3395385742188, 226.1139678955078, 219.69879150390625, 137.01136779785156, 143.60037231445312, 442.9949645996094, 301.4563293457031, 152.39553833007812, 421.53985595703125, 396.9712219238281, 470.1070556640625, 342.8472595214844, 139.1475830078125, 876.6516723632812, 569.4522094726562, 579.7672119140625, 295.3394470214844, 1469.8748779296875, 404.2927551269531, 707.5120849609375, 3533.042724609375, 1098.9210205078125, 1891.6307373046875, 6512.22412109375, 1006.5538940429688, 291.195556640625, 223.1973114013672, 141.68875122070312, 115.2628173828125, 109.96794891357422, 109.6670913696289, 81.61552429199219, 79.75736999511719, 68.69615173339844, 683.8543090820312, 62.023719787597656, 61.87198257446289, 56.130001068115234, 53.86943435668945, 43.38106155395508, 43.27540588378906, 43.249122619628906, 38.11176681518555, 34.37888717651367, 34.12094497680664, 126.80463409423828, 31.417539596557617, 29.858152389526367, 28.675432205200195, 28.53843116760254, 28.034448623657227, 26.75993537902832, 26.71591567993164, 26.875436782836914, 26.492919921875, 141.71823120117188, 74.09014892578125, 225.3611602783203, 69.48445892333984, 94.67832946777344, 267.7315979003906, 185.83116149902344, 85.4200668334961, 375.8598327636719, 184.2437286376953, 420.88311767578125, 179.26271057128906, 152.7033233642578, 100.07982635498047, 200.6834716796875, 633.380126953125, 290.6400146484375, 360.0742492675781, 219.5219268798828, 422.1571044921875, 363.8019104003906, 596.869140625, 367.7580871582031, 233.0153350830078, 432.7531433105469, 560.772705078125, 623.1897583007812, 745.9630126953125, 479.17620849609375, 323.9440002441406, 339.32720947265625, 1501.4306640625, 1286.9229736328125, 1563.5509033203125, 381.76092529296875, 607.7296752929688, 483.444091796875, 1891.6307373046875, 832.9620361328125, 4342.3974609375, 1455.9798583984375, 475.99945068359375, 384.10650634765625, 302.4801330566406, 160.61207580566406, 140.7876739501953, 135.29611206054688, 132.51956176757812, 130.1245880126953, 128.39573669433594, 126.52537536621094, 179.2225341796875, 111.13321685791016, 108.24371337890625, 107.31609344482422, 105.93489837646484, 101.13632202148438, 98.44908142089844, 95.42713165283203, 92.02009582519531, 90.48501586914062, 90.43072509765625, 85.80438995361328, 85.05339050292969, 84.44445037841797, 82.95907592773438, 74.82988739013672, 74.02915954589844, 69.40126037597656, 67.7008056640625, 67.47330474853516, 467.3201599121094, 893.8930053710938, 875.0703125, 147.4600372314453, 584.1029663085938, 416.1890563964844, 291.1477355957031, 218.6082000732422, 594.0531005859375, 259.29888916015625, 204.48080444335938, 198.0112762451172, 179.87969970703125, 193.027587890625, 456.2061462402344, 145.35125732421875, 312.0666809082031, 1563.5509033203125, 262.7060241699219, 2355.560302734375, 1417.656005859375, 992.1295166015625, 435.460693359375, 407.5319519042969, 1092.40966796875, 1001.8323364257812, 575.8072509765625, 496.9570007324219, 295.63458251953125, 226.1133575439453, 143.85897827148438, 132.8289337158203, 132.28440856933594, 123.28919219970703, 122.359619140625, 118.7828369140625, 114.55599975585938, 104.70886993408203, 101.07025909423828, 99.70084381103516, 91.86943817138672, 485.4129333496094, 91.80552673339844, 91.62989044189453, 89.67762756347656, 88.5762710571289, 87.43209075927734, 82.29808807373047, 79.67974090576172, 78.6831283569336, 74.20559692382812, 71.3813247680664, 65.77761840820312, 60.88795471191406, 56.72806930541992, 50.69782257080078, 247.16128540039062, 99.58336639404297, 171.80328369140625, 131.3213348388672, 293.83514404296875, 589.5938110351562, 205.84608459472656, 1891.6307373046875, 147.10110473632812, 629.7925415039062, 4342.3974609375, 612.125, 462.5923767089844, 315.0071716308594, 208.85765075683594, 481.8726501464844, 393.59332275390625, 437.3324279785156, 683.9330444335938, 2355.560302734375, 3683.515869140625, 1501.4306640625, 729.8311767578125, 856.2230834960938, 2719.5283203125, 1130.4468994140625, 285.71405029296875, 232.81341552734375, 213.66754150390625, 208.21170043945312, 187.487548828125, 137.62945556640625, 130.0001678466797, 114.90252685546875, 111.05475616455078, 475.2665100097656, 102.8270492553711, 98.75483703613281, 86.49176025390625, 79.63488006591797, 76.92625427246094, 79.3321533203125, 67.18260192871094, 63.627193450927734, 62.87034606933594, 82.85200500488281, 56.301612854003906, 55.129737854003906, 53.80506896972656, 52.44535446166992, 52.36163330078125, 52.265113830566406, 51.940486907958984, 51.836509704589844, 48.52619171142578, 240.62643432617188, 1295.52978515625, 107.3219985961914, 70.12322998046875, 194.96725463867188, 141.7104949951172, 159.51980590820312, 484.6567687988281, 76.19929504394531, 260.5938415527344, 637.1824340820312, 134.8490753173828, 217.3568878173828, 518.7991943359375, 576.5485229492188, 183.65675354003906, 508.0727233886719, 220.8412628173828, 1499.5982666015625, 274.16094970703125, 560.772705078125, 1352.6790771484375, 291.5732727050781, 1563.5509033203125, 2355.560302734375, 159.62896728515625, 147.73873901367188, 111.48929595947266, 100.059814453125, 96.9053955078125, 82.65807342529297, 74.81602478027344, 71.24030303955078, 67.94319915771484, 67.48849487304688, 64.44094848632812, 63.276817321777344, 52.13358688354492, 52.015228271484375, 49.64327621459961, 45.08890151977539, 43.46609878540039, 42.02716064453125, 41.9613037109375, 40.252864837646484, 39.376739501953125, 38.685428619384766, 37.55152893066406, 37.441261291503906, 37.17124557495117, 36.956207275390625, 36.60820388793945, 35.818790435791016, 35.554744720458984, 35.25752258300781, 49.49641418457031, 100.35457611083984, 58.34457778930664, 85.12799072265625, 76.20675659179688, 276.702392578125, 139.50193786621094, 149.11968994140625, 96.66224670410156, 116.7336654663086, 70.86524963378906, 164.581787109375, 98.84461212158203, 401.49432373046875, 1092.40966796875, 123.13591766357422, 224.3311004638672, 343.1867980957031, 368.1484680175781, 290.74560546875, 371.1555480957031, 949.900634765625, 196.24293518066406, 115.84642028808594, 669.800537109375, 172.2998504638672, 129.69349670410156, 1963.2720947265625, 389.7168884277344, 309.9302062988281, 3194.3515625, 143.220947265625, 159.3733673095703, 70.06010437011719, 55.84543228149414, 55.391422271728516, 52.18878936767578, 52.07024383544922, 50.85981750488281, 49.9678955078125, 48.055259704589844, 44.435184478759766, 42.60305404663086, 42.133026123046875, 41.36263656616211, 41.31925582885742, 39.50528335571289, 37.817222595214844, 35.4979133605957, 34.93446350097656, 47.52925109863281, 32.823307037353516, 32.69300842285156, 32.63985824584961, 31.36212730407715, 31.265066146850586, 29.545833587646484, 27.50228500366211, 27.017635345458984, 26.739194869995117, 26.610034942626953, 54.21913146972656, 64.3221206665039, 42.547603607177734, 231.35711669921875, 48.008724212646484, 201.6007843017578, 270.55859375, 124.7267837524414, 118.9556655883789, 288.4571533203125, 343.1867980957031, 308.216064453125, 296.54638671875, 145.12493896484375, 114.7588882446289, 325.02447509765625, 162.96551513671875, 181.75355529785156, 127.57960510253906, 253.09971618652344, 192.21011352539062, 386.2406921386719, 432.7531433105469, 256.54119873046875, 2620.734130859375, 186.84402465820312, 592.2347412109375, 249.466552734375, 424.54193115234375, 104.74597930908203, 100.8158950805664, 90.59733581542969, 82.47237396240234, 78.35973358154297, 70.05509948730469, 69.44145965576172, 58.19169616699219, 57.63764190673828, 56.324607849121094, 50.111942291259766, 43.15481948852539, 42.63218307495117, 42.55229949951172, 41.75550079345703, 40.60490798950195, 40.51632308959961, 39.7691764831543, 37.43769073486328, 37.319114685058594, 36.3513298034668, 34.982635498046875, 34.626487731933594, 34.18337631225586, 34.18132400512695, 33.02323532104492, 31.59992218017578, 31.170663833618164, 30.637331008911133, 29.96407699584961, 83.05870819091797, 51.93931579589844, 88.61267852783203, 42.46737289428711, 173.52288818359375, 89.63539123535156, 100.25965118408203, 63.28195571899414, 92.19413757324219, 72.39248657226562, 80.1812515258789, 1135.119384765625, 229.4178924560547, 73.60125732421875, 50.32961654663086, 46.766361236572266, 41.463775634765625, 40.79291534423828, 39.813804626464844, 38.34239196777344, 38.12935256958008, 36.793148040771484, 36.580421447753906, 36.02450180053711, 35.39493179321289, 34.46162033081055, 33.74781799316406, 33.477298736572266, 33.462242126464844, 33.01582717895508, 32.983421325683594, 32.85616683959961, 64.76874542236328, 31.559677124023438, 31.529603958129883, 31.433881759643555, 31.3239803314209, 31.26584243774414, 27.90911865234375, 27.799604415893555, 26.333236694335938, 26.210296630859375, 40.22043228149414, 59.55572509765625, 67.46765899658203, 36.35298156738281, 337.7787170410156, 320.76190185546875, 182.861572265625, 101.85496520996094, 78.04301452636719, 74.28101348876953, 71.95130157470703, 70.98335266113281, 68.62845611572266, 65.4621353149414, 54.351905822753906, 53.77248764038086, 499.5116882324219, 29.326967239379883, 28.369775772094727, 26.867778778076172, 23.067293167114258, 22.747983932495117, 22.049985885620117, 19.423187255859375, 19.26031494140625, 18.97556495666504, 18.952390670776367, 18.390419006347656, 17.7288875579834, 18.76613426208496, 17.38648223876953, 17.247581481933594, 16.578500747680664, 16.412208557128906, 16.321474075317383, 44.74271011352539, 111.25181579589844, 477.8773193359375, 300.6955871582031, 48.57500457763672, 78.46073150634766, 34.61267852783203, 179.36627197265625, 58.188232421875, 143.472412109375, 333.9288330078125, 121.9920883178711, 184.92041015625, 126.5594711303711, 104.48139190673828, 255.39515686035156, 261.2331848144531, 148.0841522216797, 115.283447265625, 90.02249908447266, 80.47266387939453, 66.58503723144531, 66.44822692871094, 61.65522384643555, 56.33999252319336, 43.722190856933594, 41.94008255004883, 38.450321197509766, 38.23531723022461, 37.45469665527344, 31.808183670043945, 31.73829460144043, 31.019155502319336, 30.909635543823242, 28.274080276489258, 27.644590377807617, 26.350839614868164, 26.16680145263672, 25.934192657470703, 25.08901596069336, 25.064908981323242, 25.483854293823242, 23.669422149658203, 23.517316818237305, 23.19825553894043, 23.12668800354004, 22.34085464477539, 168.27491760253906, 74.71772003173828, 65.23516845703125, 64.08979034423828, 261.99072265625, 62.07696533203125, 248.88572692871094, 47.420310974121094, 150.13905334472656, 59.630428314208984, 115.7238998413086, 160.47930908203125, 50.83633804321289, 144.0779571533203, 375.8598327636719, 178.22525024414062, 42.59419250488281, 497.844970703125, 576.5485229492188, 328.4496765136719, 411.3436279296875, 95.6595230102539, 79.23936462402344, 63.48127365112305, 48.92061233520508, 47.37224578857422, 42.44200897216797, 41.42394256591797, 33.93989944458008, 33.25944137573242, 31.54716682434082, 30.510324478149414, 29.813587188720703, 28.10077667236328, 27.27341651916504, 25.39527130126953, 24.06496810913086, 23.506071090698242, 22.306407928466797, 20.567285537719727, 20.450876235961914, 20.350496292114258, 19.792753219604492, 19.201017379760742, 19.140602111816406, 19.059131622314453, 18.768787384033203, 18.72956085205078, 18.436628341674805, 18.414270401000977, 18.27152442932129, 46.83007049560547, 49.257083892822266, 72.57581329345703, 36.9759407043457, 46.68080139160156, 65.87350463867188, 348.33447265625, 34.09016036987305, 35.541778564453125, 80.69316864013672, 119.07374572753906, 67.96836853027344, 1563.5509033203125, 56.22932052612305, 80.46194458007812, 70.95086669921875, 1417.656005859375, 245.43846130371094, 352.24749755859375, 78.313232421875, 311.1795959472656, 43.0660514831543, 28.462696075439453, 25.01610565185547, 22.926830291748047, 22.926830291748047, 22.07193374633789, 20.050912857055664, 18.729541778564453, 18.6759090423584, 18.12883758544922, 18.111162185668945, 17.583940505981445, 17.43427276611328, 17.038761138916016, 16.00420379638672, 15.281903266906738, 14.632858276367188, 14.610004425048828, 14.298418045043945, 14.193830490112305, 13.8681640625, 13.128022193908691, 11.97482967376709, 11.571020126342773, 11.552023887634277, 11.48894214630127, 11.155974388122559, 10.864866256713867, 10.852949142456055, 10.837864875793457, 44.766849517822266, 59.06291580200195, 71.92312622070312, 20.659963607788086, 66.35968780517578, 26.728443145751953, 28.776517868041992, 117.63479614257812, 72.39248657226562, 70.28231048583984], \"Category\": [\"Default\", \"Default\", \"Default\", \"Default\", \"Default\", \"Default\", \"Default\", \"Default\", \"Default\", \"Default\", \"Default\", \"Default\", \"Default\", \"Default\", \"Default\", \"Default\", \"Default\", \"Default\", \"Default\", \"Default\", \"Default\", \"Default\", \"Default\", \"Default\", \"Default\", \"Default\", \"Default\", \"Default\", \"Default\", \"Default\", \"Topic1\", \"Topic1\", \"Topic1\", \"Topic1\", \"Topic1\", \"Topic1\", \"Topic1\", \"Topic1\", \"Topic1\", \"Topic1\", \"Topic1\", \"Topic1\", \"Topic1\", \"Topic1\", \"Topic1\", \"Topic1\", \"Topic1\", \"Topic1\", \"Topic1\", \"Topic1\", \"Topic1\", \"Topic1\", \"Topic1\", \"Topic1\", \"Topic1\", \"Topic1\", \"Topic1\", \"Topic1\", \"Topic1\", \"Topic1\", \"Topic1\", \"Topic1\", \"Topic1\", \"Topic1\", \"Topic1\", \"Topic1\", \"Topic1\", \"Topic1\", \"Topic1\", \"Topic1\", \"Topic1\", \"Topic1\", \"Topic1\", \"Topic1\", \"Topic1\", \"Topic1\", \"Topic1\", \"Topic1\", \"Topic1\", \"Topic1\", \"Topic1\", \"Topic1\", \"Topic1\", \"Topic1\", \"Topic1\", \"Topic1\", \"Topic1\", \"Topic1\", \"Topic1\", \"Topic1\", \"Topic1\", \"Topic1\", \"Topic1\", \"Topic1\", \"Topic1\", \"Topic1\", \"Topic1\", \"Topic1\", \"Topic1\", \"Topic1\", \"Topic1\", \"Topic1\", \"Topic1\", \"Topic1\", \"Topic1\", \"Topic1\", \"Topic1\", \"Topic1\", \"Topic1\", \"Topic1\", \"Topic1\", \"Topic1\", \"Topic1\", \"Topic1\", \"Topic2\", \"Topic2\", \"Topic2\", \"Topic2\", \"Topic2\", \"Topic2\", \"Topic2\", \"Topic2\", \"Topic2\", \"Topic2\", \"Topic2\", \"Topic2\", \"Topic2\", \"Topic2\", \"Topic2\", \"Topic2\", \"Topic2\", \"Topic2\", \"Topic2\", \"Topic2\", \"Topic2\", \"Topic2\", \"Topic2\", \"Topic2\", \"Topic2\", \"Topic2\", \"Topic2\", \"Topic2\", \"Topic2\", \"Topic2\", \"Topic2\", \"Topic2\", \"Topic2\", \"Topic2\", \"Topic2\", \"Topic2\", \"Topic2\", \"Topic2\", \"Topic2\", \"Topic2\", \"Topic2\", \"Topic2\", \"Topic2\", \"Topic2\", \"Topic2\", \"Topic2\", \"Topic2\", \"Topic2\", \"Topic2\", \"Topic2\", \"Topic2\", \"Topic2\", \"Topic2\", \"Topic2\", \"Topic2\", \"Topic2\", \"Topic2\", \"Topic2\", \"Topic2\", \"Topic2\", \"Topic2\", \"Topic2\", \"Topic2\", \"Topic2\", \"Topic2\", \"Topic2\", \"Topic2\", \"Topic2\", \"Topic2\", \"Topic2\", \"Topic2\", \"Topic2\", \"Topic2\", \"Topic2\", \"Topic2\", \"Topic2\", \"Topic2\", \"Topic2\", \"Topic3\", \"Topic3\", \"Topic3\", \"Topic3\", \"Topic3\", \"Topic3\", \"Topic3\", \"Topic3\", \"Topic3\", \"Topic3\", \"Topic3\", \"Topic3\", \"Topic3\", \"Topic3\", \"Topic3\", \"Topic3\", \"Topic3\", \"Topic3\", \"Topic3\", \"Topic3\", \"Topic3\", \"Topic3\", \"Topic3\", \"Topic3\", \"Topic3\", \"Topic3\", \"Topic3\", \"Topic3\", \"Topic3\", \"Topic3\", \"Topic3\", \"Topic3\", \"Topic3\", \"Topic3\", \"Topic3\", \"Topic3\", \"Topic3\", \"Topic3\", \"Topic3\", \"Topic3\", \"Topic3\", \"Topic3\", \"Topic3\", \"Topic3\", \"Topic3\", \"Topic3\", \"Topic3\", \"Topic3\", \"Topic3\", \"Topic3\", \"Topic3\", \"Topic3\", \"Topic3\", \"Topic3\", \"Topic3\", \"Topic3\", \"Topic3\", \"Topic3\", \"Topic3\", \"Topic3\", \"Topic3\", \"Topic3\", \"Topic3\", \"Topic4\", \"Topic4\", \"Topic4\", \"Topic4\", \"Topic4\", \"Topic4\", \"Topic4\", \"Topic4\", \"Topic4\", \"Topic4\", \"Topic4\", \"Topic4\", \"Topic4\", \"Topic4\", \"Topic4\", \"Topic4\", \"Topic4\", \"Topic4\", \"Topic4\", \"Topic4\", \"Topic4\", \"Topic4\", \"Topic4\", \"Topic4\", \"Topic4\", \"Topic4\", \"Topic4\", \"Topic4\", \"Topic4\", \"Topic4\", \"Topic4\", \"Topic4\", \"Topic4\", \"Topic4\", \"Topic4\", \"Topic4\", \"Topic4\", \"Topic4\", \"Topic4\", \"Topic4\", \"Topic4\", \"Topic4\", \"Topic4\", \"Topic4\", \"Topic4\", \"Topic4\", \"Topic4\", \"Topic4\", \"Topic4\", \"Topic4\", \"Topic4\", \"Topic4\", \"Topic4\", \"Topic4\", \"Topic4\", \"Topic4\", \"Topic4\", \"Topic4\", \"Topic4\", \"Topic4\", \"Topic4\", \"Topic4\", \"Topic4\", \"Topic4\", \"Topic4\", \"Topic4\", \"Topic4\", \"Topic4\", \"Topic4\", \"Topic4\", \"Topic4\", \"Topic4\", \"Topic4\", \"Topic4\", \"Topic5\", \"Topic5\", \"Topic5\", \"Topic5\", \"Topic5\", \"Topic5\", \"Topic5\", \"Topic5\", \"Topic5\", \"Topic5\", \"Topic5\", \"Topic5\", \"Topic5\", \"Topic5\", \"Topic5\", \"Topic5\", \"Topic5\", \"Topic5\", \"Topic5\", \"Topic5\", \"Topic5\", \"Topic5\", \"Topic5\", \"Topic5\", \"Topic5\", \"Topic5\", \"Topic5\", \"Topic5\", \"Topic5\", \"Topic5\", \"Topic5\", \"Topic5\", \"Topic5\", \"Topic5\", \"Topic5\", \"Topic5\", \"Topic5\", \"Topic5\", \"Topic5\", \"Topic5\", \"Topic5\", \"Topic5\", \"Topic5\", \"Topic5\", \"Topic5\", \"Topic5\", \"Topic5\", \"Topic5\", \"Topic5\", \"Topic5\", \"Topic5\", \"Topic5\", \"Topic5\", \"Topic5\", \"Topic5\", \"Topic5\", \"Topic5\", \"Topic5\", \"Topic5\", \"Topic5\", \"Topic5\", \"Topic5\", \"Topic5\", \"Topic5\", \"Topic5\", \"Topic5\", \"Topic5\", \"Topic6\", \"Topic6\", \"Topic6\", \"Topic6\", \"Topic6\", \"Topic6\", \"Topic6\", \"Topic6\", \"Topic6\", \"Topic6\", \"Topic6\", \"Topic6\", \"Topic6\", \"Topic6\", \"Topic6\", \"Topic6\", \"Topic6\", \"Topic6\", \"Topic6\", \"Topic6\", \"Topic6\", \"Topic6\", \"Topic6\", \"Topic6\", \"Topic6\", \"Topic6\", \"Topic6\", \"Topic6\", \"Topic6\", \"Topic6\", \"Topic6\", \"Topic6\", \"Topic6\", \"Topic6\", \"Topic6\", \"Topic6\", \"Topic6\", \"Topic6\", \"Topic6\", \"Topic6\", \"Topic6\", \"Topic6\", \"Topic6\", \"Topic6\", \"Topic6\", \"Topic6\", \"Topic6\", \"Topic6\", \"Topic6\", \"Topic6\", \"Topic6\", \"Topic6\", \"Topic6\", \"Topic6\", \"Topic6\", \"Topic6\", \"Topic6\", \"Topic6\", \"Topic6\", \"Topic6\", \"Topic6\", \"Topic6\", \"Topic6\", \"Topic6\", \"Topic6\", \"Topic6\", \"Topic6\", \"Topic6\", \"Topic6\", \"Topic6\", \"Topic6\", \"Topic6\", \"Topic7\", \"Topic7\", \"Topic7\", \"Topic7\", \"Topic7\", \"Topic7\", \"Topic7\", \"Topic7\", \"Topic7\", \"Topic7\", \"Topic7\", \"Topic7\", \"Topic7\", \"Topic7\", \"Topic7\", \"Topic7\", \"Topic7\", \"Topic7\", \"Topic7\", \"Topic7\", \"Topic7\", \"Topic7\", \"Topic7\", \"Topic7\", \"Topic7\", \"Topic7\", \"Topic7\", \"Topic7\", \"Topic7\", \"Topic7\", \"Topic7\", \"Topic7\", \"Topic7\", \"Topic7\", \"Topic7\", \"Topic7\", \"Topic7\", \"Topic7\", \"Topic7\", \"Topic7\", \"Topic7\", \"Topic7\", \"Topic7\", \"Topic7\", \"Topic7\", \"Topic7\", \"Topic7\", \"Topic7\", \"Topic7\", \"Topic7\", \"Topic7\", \"Topic7\", \"Topic7\", \"Topic7\", \"Topic7\", \"Topic7\", \"Topic7\", \"Topic7\", \"Topic7\", \"Topic7\", \"Topic8\", \"Topic8\", \"Topic8\", \"Topic8\", \"Topic8\", \"Topic8\", \"Topic8\", \"Topic8\", \"Topic8\", \"Topic8\", \"Topic8\", \"Topic8\", \"Topic8\", \"Topic8\", \"Topic8\", \"Topic8\", \"Topic8\", \"Topic8\", \"Topic8\", \"Topic8\", \"Topic8\", \"Topic8\", \"Topic8\", \"Topic8\", \"Topic8\", \"Topic8\", \"Topic8\", \"Topic8\", \"Topic8\", \"Topic8\", \"Topic8\", \"Topic8\", \"Topic8\", \"Topic8\", \"Topic8\", \"Topic8\", \"Topic8\", \"Topic8\", \"Topic8\", \"Topic8\", \"Topic8\", \"Topic8\", \"Topic8\", \"Topic8\", \"Topic8\", \"Topic8\", \"Topic8\", \"Topic8\", \"Topic8\", \"Topic8\", \"Topic8\", \"Topic8\", \"Topic8\", \"Topic8\", \"Topic8\", \"Topic9\", \"Topic9\", \"Topic9\", \"Topic9\", \"Topic9\", \"Topic9\", \"Topic9\", \"Topic9\", \"Topic9\", \"Topic9\", \"Topic9\", \"Topic9\", \"Topic9\", \"Topic9\", \"Topic9\", \"Topic9\", \"Topic9\", \"Topic9\", \"Topic9\", \"Topic9\", \"Topic9\", \"Topic9\", \"Topic9\", \"Topic9\", \"Topic9\", \"Topic9\", \"Topic9\", \"Topic9\", \"Topic9\", \"Topic9\", \"Topic9\", \"Topic9\", \"Topic9\", \"Topic9\", \"Topic9\", \"Topic9\", \"Topic9\", \"Topic9\", \"Topic9\", \"Topic9\", \"Topic9\", \"Topic9\", \"Topic9\", \"Topic9\", \"Topic9\", \"Topic9\", \"Topic9\", \"Topic9\", \"Topic9\", \"Topic9\", \"Topic9\", \"Topic9\", \"Topic9\", \"Topic9\", \"Topic9\", \"Topic9\", \"Topic9\", \"Topic9\", \"Topic9\", \"Topic9\", \"Topic9\", \"Topic9\", \"Topic9\", \"Topic9\", \"Topic9\", \"Topic9\", \"Topic9\", \"Topic9\", \"Topic9\", \"Topic9\", \"Topic9\", \"Topic10\", \"Topic10\", \"Topic10\", \"Topic10\", \"Topic10\", \"Topic10\", \"Topic10\", \"Topic10\", \"Topic10\", \"Topic10\", \"Topic10\", \"Topic10\", \"Topic10\", \"Topic10\", \"Topic10\", \"Topic10\", \"Topic10\", \"Topic10\", \"Topic10\", \"Topic10\", \"Topic10\", \"Topic10\", \"Topic10\", \"Topic10\", \"Topic10\", \"Topic10\", \"Topic10\", \"Topic10\", \"Topic10\", \"Topic10\", \"Topic10\", \"Topic10\", \"Topic10\", \"Topic10\", \"Topic10\", \"Topic10\", \"Topic10\", \"Topic10\", \"Topic10\", \"Topic10\", \"Topic10\", \"Topic10\", \"Topic10\", \"Topic10\", \"Topic10\", \"Topic10\", \"Topic10\", \"Topic10\", \"Topic10\", \"Topic10\", \"Topic10\", \"Topic10\", \"Topic10\", \"Topic10\", \"Topic10\", \"Topic10\", \"Topic11\", \"Topic11\", \"Topic11\", \"Topic11\", \"Topic11\", \"Topic11\", \"Topic11\", \"Topic11\", \"Topic11\", \"Topic11\", \"Topic11\", \"Topic11\", \"Topic11\", \"Topic11\", \"Topic11\", \"Topic11\", \"Topic11\", \"Topic11\", \"Topic11\", \"Topic11\", \"Topic11\", \"Topic11\", \"Topic11\", \"Topic11\", \"Topic11\", \"Topic11\", \"Topic11\", \"Topic11\", \"Topic11\", \"Topic11\", \"Topic11\", \"Topic11\", \"Topic11\", \"Topic11\", \"Topic11\", \"Topic11\", \"Topic11\", \"Topic11\", \"Topic11\", \"Topic11\", \"Topic11\", \"Topic11\", \"Topic11\", \"Topic11\", \"Topic11\", \"Topic11\", \"Topic11\", \"Topic11\", \"Topic11\", \"Topic11\", \"Topic11\", \"Topic11\", \"Topic11\", \"Topic11\", \"Topic11\", \"Topic11\", \"Topic12\", \"Topic12\", \"Topic12\", \"Topic12\", \"Topic12\", \"Topic12\", \"Topic12\", \"Topic12\", \"Topic12\", \"Topic12\", \"Topic12\", \"Topic12\", \"Topic12\", \"Topic12\", \"Topic12\", \"Topic12\", \"Topic12\", \"Topic12\", \"Topic12\", \"Topic12\", \"Topic12\", \"Topic12\", \"Topic12\", \"Topic12\", \"Topic12\", \"Topic12\", \"Topic12\", \"Topic12\", \"Topic12\", \"Topic12\", \"Topic12\", \"Topic12\", \"Topic12\", \"Topic12\", \"Topic12\", \"Topic12\", \"Topic12\", \"Topic12\", \"Topic12\", \"Topic12\", \"Topic12\", \"Topic12\", \"Topic12\", \"Topic12\", \"Topic12\", \"Topic12\", \"Topic12\", \"Topic12\", \"Topic12\", \"Topic12\", \"Topic12\", \"Topic12\", \"Topic12\", \"Topic12\", \"Topic13\", \"Topic13\", \"Topic13\", \"Topic13\", \"Topic13\", \"Topic13\", \"Topic13\", \"Topic13\", \"Topic13\", \"Topic13\", \"Topic13\", \"Topic13\", \"Topic13\", \"Topic13\", \"Topic13\", \"Topic13\", \"Topic13\", \"Topic13\", \"Topic13\", \"Topic13\", \"Topic13\", \"Topic13\", \"Topic13\", \"Topic13\", \"Topic13\", \"Topic13\", \"Topic13\", \"Topic13\", \"Topic13\", \"Topic13\", \"Topic13\", \"Topic13\", \"Topic13\", \"Topic13\", \"Topic13\", \"Topic13\", \"Topic13\", \"Topic13\", \"Topic13\", \"Topic13\", \"Topic13\", \"Topic13\", \"Topic13\", \"Topic13\", \"Topic13\", \"Topic13\", \"Topic13\", \"Topic13\", \"Topic13\", \"Topic13\", \"Topic13\", \"Topic13\", \"Topic13\", \"Topic13\", \"Topic13\", \"Topic13\", \"Topic13\", \"Topic13\", \"Topic13\", \"Topic13\", \"Topic13\", \"Topic14\", \"Topic14\", \"Topic14\", \"Topic14\", \"Topic14\", \"Topic14\", \"Topic14\", \"Topic14\", \"Topic14\", \"Topic14\", \"Topic14\", \"Topic14\", \"Topic14\", \"Topic14\", \"Topic14\", \"Topic14\", \"Topic14\", \"Topic14\", \"Topic14\", \"Topic14\", \"Topic14\", \"Topic14\", \"Topic14\", \"Topic14\", \"Topic14\", \"Topic14\", \"Topic14\", \"Topic14\", \"Topic14\", \"Topic14\", \"Topic14\", \"Topic14\", \"Topic14\", \"Topic14\", \"Topic14\", \"Topic14\", \"Topic14\", \"Topic14\", \"Topic14\", \"Topic14\", \"Topic14\", \"Topic14\", \"Topic14\", \"Topic14\", \"Topic14\", \"Topic14\", \"Topic14\", \"Topic14\", \"Topic14\", \"Topic14\", \"Topic14\", \"Topic14\", \"Topic14\", \"Topic14\", \"Topic14\", \"Topic14\", \"Topic14\", \"Topic14\", \"Topic14\", \"Topic15\", \"Topic15\", \"Topic15\", \"Topic15\", \"Topic15\", \"Topic15\", \"Topic15\", \"Topic15\", \"Topic15\", \"Topic15\", \"Topic15\", \"Topic15\", \"Topic15\", \"Topic15\", \"Topic15\", \"Topic15\", \"Topic15\", \"Topic15\", \"Topic15\", \"Topic15\", \"Topic15\", \"Topic15\", \"Topic15\", \"Topic15\", \"Topic15\", \"Topic15\", \"Topic15\", \"Topic15\", \"Topic15\", \"Topic15\", \"Topic15\", \"Topic15\", \"Topic15\", \"Topic15\", \"Topic15\", \"Topic15\", \"Topic15\", \"Topic15\", \"Topic15\", \"Topic15\", \"Topic15\", \"Topic15\", \"Topic16\", \"Topic16\", \"Topic16\", \"Topic16\", \"Topic16\", \"Topic16\", \"Topic16\", \"Topic16\", \"Topic16\", \"Topic16\", \"Topic16\", \"Topic16\", \"Topic16\", \"Topic16\", \"Topic16\", \"Topic16\", \"Topic16\", \"Topic16\", \"Topic16\", \"Topic16\", \"Topic16\", \"Topic16\", \"Topic16\", \"Topic16\", \"Topic16\", \"Topic16\", \"Topic16\", \"Topic16\", \"Topic16\", \"Topic16\", \"Topic16\", \"Topic16\", \"Topic16\", \"Topic16\", \"Topic16\", \"Topic17\", \"Topic17\", \"Topic17\", \"Topic17\", \"Topic17\", \"Topic17\", \"Topic17\", \"Topic17\", \"Topic17\", \"Topic17\", \"Topic17\", \"Topic17\", \"Topic17\", \"Topic17\", \"Topic17\", \"Topic17\", \"Topic17\", \"Topic17\", \"Topic17\", \"Topic17\", \"Topic17\", \"Topic17\", \"Topic17\", \"Topic17\", \"Topic17\", \"Topic17\", \"Topic17\", \"Topic17\", \"Topic17\", \"Topic17\", \"Topic17\", \"Topic17\", \"Topic17\", \"Topic17\", \"Topic17\", \"Topic17\", \"Topic17\", \"Topic17\", \"Topic17\", \"Topic17\", \"Topic17\", \"Topic17\", \"Topic17\", \"Topic17\", \"Topic17\", \"Topic17\", \"Topic17\", \"Topic18\", \"Topic18\", \"Topic18\", \"Topic18\", \"Topic18\", \"Topic18\", \"Topic18\", \"Topic18\", \"Topic18\", \"Topic18\", \"Topic18\", \"Topic18\", \"Topic18\", \"Topic18\", \"Topic18\", \"Topic18\", \"Topic18\", \"Topic18\", \"Topic18\", \"Topic18\", \"Topic18\", \"Topic18\", \"Topic18\", \"Topic18\", \"Topic18\", \"Topic18\", \"Topic18\", \"Topic18\", \"Topic18\", \"Topic18\", \"Topic18\", \"Topic18\", \"Topic18\", \"Topic18\", \"Topic18\", \"Topic18\", \"Topic18\", \"Topic18\", \"Topic18\", \"Topic18\", \"Topic18\", \"Topic18\", \"Topic18\", \"Topic18\", \"Topic18\", \"Topic18\", \"Topic18\", \"Topic18\", \"Topic18\", \"Topic18\", \"Topic18\", \"Topic19\", \"Topic19\", \"Topic19\", \"Topic19\", \"Topic19\", \"Topic19\", \"Topic19\", \"Topic19\", \"Topic19\", \"Topic19\", \"Topic19\", \"Topic19\", \"Topic19\", \"Topic19\", \"Topic19\", \"Topic19\", \"Topic19\", \"Topic19\", \"Topic19\", \"Topic19\", \"Topic19\", \"Topic19\", \"Topic19\", \"Topic19\", \"Topic19\", \"Topic19\", \"Topic19\", \"Topic19\", \"Topic19\", \"Topic19\", \"Topic19\", \"Topic19\", \"Topic19\", \"Topic19\", \"Topic19\", \"Topic19\", \"Topic19\", \"Topic19\", \"Topic19\", \"Topic19\", \"Topic19\", \"Topic19\", \"Topic19\", \"Topic19\", \"Topic19\", \"Topic19\", \"Topic19\", \"Topic19\", \"Topic19\", \"Topic19\", \"Topic19\", \"Topic20\", \"Topic20\", \"Topic20\", \"Topic20\", \"Topic20\", \"Topic20\", \"Topic20\", \"Topic20\", \"Topic20\", \"Topic20\", \"Topic20\", \"Topic20\", \"Topic20\", \"Topic20\", \"Topic20\", \"Topic20\", \"Topic20\", \"Topic20\", \"Topic20\", \"Topic20\", \"Topic20\", \"Topic20\", \"Topic20\", \"Topic20\", \"Topic20\", \"Topic20\", \"Topic20\", \"Topic20\", \"Topic20\", \"Topic20\", \"Topic20\", \"Topic20\", \"Topic20\", \"Topic20\", \"Topic20\", \"Topic20\", \"Topic20\", \"Topic20\", \"Topic20\", \"Topic20\"], \"logprob\": [30.0, 29.0, 28.0, 27.0, 26.0, 25.0, 24.0, 23.0, 22.0, 21.0, 20.0, 19.0, 18.0, 17.0, 16.0, 15.0, 14.0, 13.0, 12.0, 11.0, 10.0, 9.0, 8.0, 7.0, 6.0, 5.0, 4.0, 3.0, 2.0, 1.0, -6.48960018157959, -6.591300010681152, -7.069399833679199, -7.280200004577637, -7.4309000968933105, -5.994200229644775, -7.520999908447266, -7.578400135040283, -7.6194000244140625, -7.650899887084961, -7.663599967956543, -7.731500148773193, -7.810400009155273, -7.812099933624268, -7.84660005569458, -7.865799903869629, -7.874499797821045, -7.895299911499023, -7.898799896240234, -7.934899806976318, -7.953100204467773, -8.024800300598145, -8.035099983215332, -8.038000106811523, -8.10669994354248, -8.13010025024414, -7.120100021362305, -8.166899681091309, -8.191699981689453, -8.22719955444336, -7.214900016784668, -7.866099834442139, -6.921000003814697, -6.541999816894531, -7.504199981689453, -5.707200050354004, -6.828000068664551, -6.160099983215332, -6.991600036621094, -6.265699863433838, -6.784800052642822, -5.257699966430664, -6.02269983291626, -6.467599868774414, -6.076700210571289, -7.1321001052856445, -5.811800003051758, -5.638700008392334, -6.107699871063232, -5.746099948883057, -4.484600067138672, -5.16379976272583, -5.993299961090088, -4.259500026702881, -6.705599784851074, -3.9493000507354736, -6.3927998542785645, -5.855500221252441, -5.294000148773193, -5.9832000732421875, -5.587100028991699, -4.963399887084961, -5.771100044250488, -5.241600036621094, -5.441100120544434, -5.088399887084961, -4.752600193023682, -5.783299922943115, -5.017600059509277, -5.152100086212158, -4.797399997711182, -5.484600067138672, -5.127600193023682, -5.546599864959717, -5.282700061798096, -5.695700168609619, -5.423699855804443, -5.231800079345703, -5.694399833679199, -5.423799991607666, -5.590199947357178, -5.654099941253662, -5.661300182342529, -5.6757001876831055, -5.8780999183654785, -6.748700141906738, -6.934500217437744, -7.010200023651123, -6.098800182342529, -7.064899921417236, -7.163599967956543, -7.177199840545654, -7.228700160980225, -7.322299957275391, -7.375, -7.432600021362305, -7.473999977111816, -7.579699993133545, -7.609000205993652, -7.6545000076293945, -7.7093000411987305, -7.717100143432617, -7.740799903869629, -7.743100166320801, -7.785299777984619, -7.815199851989746, -7.818399906158447, -7.8292999267578125, -7.831600189208984, -7.917200088500977, -7.939000129699707, -7.944799900054932, -7.974999904632568, -7.992800235748291, -7.201099872589111, -7.324100017547607, -6.2982001304626465, -7.367099761962891, -7.440400123596191, -6.360400199890137, -6.196499824523926, -4.887700080871582, -5.645500183105469, -6.803899765014648, -6.072199821472168, -5.304200172424316, -7.2820000648498535, -6.691999912261963, -4.594299793243408, -5.868800163269043, -4.229499816894531, -5.353700160980225, -5.958799839019775, -5.114799976348877, -6.464700222015381, -4.84630012512207, -4.623799800872803, -5.850800037384033, -5.4394001960754395, -5.650400161743164, -4.279200077056885, -5.5395002365112305, -5.361599922180176, -5.4029998779296875, -5.313600063323975, -4.95550012588501, -4.941999912261963, -4.835700035095215, -4.7484002113342285, -5.398200035095215, -5.429299831390381, -5.530099868774414, -5.0100998878479, -5.335100173950195, -5.308899879455566, -5.236199855804443, -5.448500156402588, -5.601099967956543, -5.464099884033203, -5.447500228881836, -5.426499843597412, -5.5482001304626465, -4.7778000831604, -5.110799789428711, -5.622499942779541, -5.653200149536133, -5.691199779510498, -5.756100177764893, -6.2555999755859375, -6.2571001052856445, -6.2804999351501465, -6.379300117492676, -6.388199806213379, -6.412300109863281, -6.484799861907959, -6.506199836730957, -6.52810001373291, -6.586400032043457, -6.605299949645996, -6.633900165557861, -6.700300216674805, -6.708399772644043, -6.747000217437744, -6.76200008392334, -6.765500068664551, -6.842100143432617, -6.881999969482422, -6.885499954223633, -6.891600131988525, -6.92710018157959, -6.956200122833252, -6.972899913787842, -4.160099983215332, -6.071000099182129, -5.226099967956543, -6.0096001625061035, -4.880199909210205, -5.3471999168396, -6.442800045013428, -5.07420015335083, -5.431399822235107, -6.470200061798096, -4.554900169372559, -5.7042999267578125, -5.51039981842041, -5.0725998878479, -5.606200218200684, -5.170400142669678, -5.491099834442139, -5.427000045776367, -5.909599781036377, -6.281599998474121, -5.145400047302246, -5.10290002822876, -5.3246002197265625, -5.048099994659424, -5.517499923706055, -5.6996002197265625, -5.834099769592285, -5.605899810791016, -5.394899845123291, -5.398099899291992, -5.614299774169922, -5.340099811553955, -5.70359992980957, -5.928899765014648, -6.241499900817871, -6.337800025939941, -6.389999866485596, -6.474599838256836, -6.532299995422363, -6.580999851226807, -6.597300052642822, -6.656899929046631, -6.762199878692627, -6.853300094604492, -6.966800212860107, -6.974899768829346, -7.0395002365112305, -7.04010009765625, -7.111000061035156, -7.284999847412109, -7.301599979400635, -7.309000015258789, -7.321899890899658, -7.325699806213379, -7.356100082397461, -7.3597002029418945, -7.365099906921387, -7.372700214385986, -7.386000156402588, -7.415999889373779, -7.452099800109863, -7.454500198364258, -7.4608001708984375, -6.155300140380859, -6.969399929046631, -6.524600028991699, -6.322400093078613, -6.648399829864502, -5.631800174713135, -6.823699951171875, -6.2241997718811035, -6.579500198364258, -5.853700160980225, -6.338600158691406, -5.773399829864502, -6.976200103759766, -5.9257001876831055, -5.602200031280518, -6.1605000495910645, -5.355899810791016, -5.725100040435791, -5.313700199127197, -5.679699897766113, -6.310200214385986, -6.341599941253662, -5.902299880981445, -5.709499835968018, -5.597799777984619, -5.892399787902832, -4.468800067901611, -5.2600998878479, -5.365900039672852, -5.978799819946289, -5.318399906158447, -5.822800159454346, -6.032100200653076, -6.009399890899658, -5.9730000495910645, -5.750699996948242, -5.962600231170654, -5.452300071716309, -5.598899841308594, -5.552499771118164, -5.7758002281188965, -5.607100009918213, -5.917699813842773, -5.769800186157227, -4.364099979400635, -4.687099933624268, -5.140399932861328, -5.160900115966797, -5.195899963378906, -5.535999774932861, -5.662399768829346, -5.762899875640869, -5.963900089263916, -6.144100189208984, -6.145999908447266, -6.310699939727783, -6.314799785614014, -6.3730998039245605, -6.503600120544434, -6.591700077056885, -6.6041998863220215, -6.6269001960754395, -6.6992998123168945, -6.74459981918335, -6.7789998054504395, -6.781099796295166, -6.782199859619141, -6.859899997711182, -6.902599811553955, -6.951200008392334, -6.9704999923706055, -6.994500160217285, -7.011099815368652, -7.056099891662598, -4.623499870300293, -4.085299968719482, -5.703800201416016, -5.876100063323975, -5.540500164031982, -5.601799964904785, -5.008600234985352, -5.587100028991699, -5.296800136566162, -5.971199989318848, -5.303899765014648, -5.283299922943115, -5.378300189971924, -5.099800109863281, -5.337100028991699, -5.645699977874756, -4.410399913787842, -5.32450008392334, -5.48360013961792, -4.6331000328063965, -5.399899959564209, -4.978400230407715, -4.639699935913086, -4.498899936676025, -4.712900161743164, -5.14769983291626, -4.965099811553955, -4.693600177764893, -5.334000110626221, -5.156099796295166, -4.7494001388549805, -5.0808000564575195, -5.2957000732421875, -5.018799781799316, -5.17140007019043, -5.160999774932861, -5.2434000968933105, -5.242199897766113, -6.0995001792907715, -6.43149995803833, -6.4953999519348145, -6.532599925994873, -6.6620001792907715, -6.738100051879883, -6.769899845123291, -6.824999809265137, -6.865099906921387, -6.874599933624268, -6.91510009765625, -6.924099922180176, -6.938000202178955, -6.940400123596191, -6.848499774932861, -6.961900234222412, -6.968900203704834, -6.992700099945068, -7.00540018081665, -6.798799991607666, -5.723299980163574, -7.09089994430542, -7.156799793243408, -7.157199859619141, -7.161900043487549, -7.220200061798096, -7.229100227355957, -7.244900226593018, -7.263800144195557, -6.257199764251709, -4.931399822235107, -5.740099906921387, -7.055200099945068, -4.506800174713135, -4.360499858856201, -6.013500213623047, -6.690700054168701, -5.491600036621094, -5.597599983215332, -5.5, -4.774199962615967, -5.052700042724609, -6.297999858856201, -5.135900020599365, -5.781400203704834, -4.5625, -6.542699813842773, -5.069900035858154, -5.335700035095215, -6.003799915313721, -5.094900131225586, -5.052800178527832, -5.723700046539307, -5.826200008392334, -5.5903000831604, -5.27269983291626, -4.857399940490723, -5.329800128936768, -5.631499767303467, -5.900700092315674, -5.512499809265137, -5.474800109863281, -5.505300045013428, -5.383999824523926, -5.751200199127197, -5.36329984664917, -5.282899856567383, -5.571899890899658, -5.637400150299072, -5.641499996185303, -5.625500202178955, -4.552499771118164, -4.655600070953369, -4.8225998878479, -5.111100196838379, -5.448699951171875, -5.594600200653076, -5.615600109100342, -5.730400085449219, -5.91379976272583, -6.1528000831604, -6.448400020599365, -6.473700046539307, -6.5995001792907715, -6.646999835968018, -6.695700168609619, -6.728099822998047, -6.832099914550781, -6.870999813079834, -6.871200084686279, -6.931399822235107, -7.070000171661377, -7.072700023651123, -7.073800086975098, -7.2316999435424805, -7.256400108337402, -7.267499923706055, -7.296999931335449, -7.311500072479248, -7.3180999755859375, -5.324900150299072, -6.519000053405762, -4.85099983215332, -5.474299907684326, -5.417399883270264, -5.716899871826172, -5.954800128936768, -5.625100135803223, -6.178100109100342, -6.6483001708984375, -4.684299945831299, -5.273399829864502, -5.930699825286865, -5.488999843597412, -5.469299793243408, -5.101099967956543, -4.368199825286865, -4.596099853515625, -5.55649995803833, -5.816699981689453, -5.769700050354004, -5.417300224304199, -5.725200176239014, -5.130199909210205, -5.071499824523926, -4.997399806976318, -5.5725998878479, -5.183599948883057, -5.289999961853027, -5.556099891662598, -5.645699977874756, -3.9409000873565674, -4.351399898529053, -4.640999794006348, -4.752399921417236, -4.806399822235107, -5.272900104522705, -5.451900005340576, -5.645100116729736, -5.752799987792969, -5.796599864959717, -5.82420015335083, -6.007400035858154, -6.0782999992370605, -6.127900123596191, -6.223100185394287, -6.229499816894531, -6.287099838256836, -6.291200160980225, -6.292300224304199, -6.336299896240234, -6.375699996948242, -6.397299766540527, -6.410099983215332, -6.4293999671936035, -6.478000164031982, -6.501299858093262, -6.523499965667725, -6.537799835205078, -6.5441999435424805, -6.553599834442139, -4.502699851989746, -5.3942999839782715, -5.443900108337402, -5.913400173187256, -5.872499942779541, -4.809800148010254, -5.387499809265137, -5.945000171661377, -5.229700088500977, -5.295199871063232, -5.277400016784668, -5.504199981689453, -6.054800033569336, -5.059599876403809, -5.3069000244140625, -5.349800109863281, -5.732399940490723, -5.150199890136719, -5.6280999183654785, -5.55810022354126, -5.179299831390381, -5.648399829864502, -5.593699932098389, -5.608399868011475, -5.7779998779296875, -4.996300220489502, -5.263299942016602, -5.720699787139893, -5.928199768066406, -5.9756999015808105, -5.978400230407715, -6.276899814605713, -6.300300121307373, -6.451499938964844, -4.153500080108643, -6.555300235748291, -6.557700157165527, -6.656799793243408, -6.698599815368652, -6.919600009918213, -6.922100067138672, -6.922800064086914, -7.052299976348877, -7.158199787139893, -7.165999889373779, -5.854700088500977, -7.250999927520752, -7.303599834442139, -7.345399856567383, -7.350399971008301, -7.368800163269043, -7.417099952697754, -7.418799877166748, -7.412799835205078, -7.427499771118164, -5.754799842834473, -6.406899929046631, -5.305699825286865, -6.471199989318848, -6.171299934387207, -5.165999889373779, -5.572299957275391, -6.324100017547607, -4.9552998542785645, -5.643700122833252, -4.967700004577637, -5.7266998291015625, -5.897200107574463, -6.247499942779541, -5.754499912261963, -4.932300090789795, -5.543600082397461, -5.421500205993652, -5.740900039672852, -5.330599784851074, -5.456699848175049, -5.184199810028076, -5.477200031280518, -5.742400169372559, -5.395599842071533, -5.277200222015381, -5.263800144195557, -5.231900215148926, -5.4527997970581055, -5.607600212097168, -5.598700046539307, -5.176300048828125, -5.343699932098389, -5.3078999519348145, -5.6269001960754395, -5.568600177764893, -5.6006999015808105, -5.44950008392334, -5.583600044250488, -5.572000026702881, -5.5971999168396, -4.466700077056885, -4.681700229644775, -4.921299934387207, -5.557199954986572, -5.689799785614014, -5.729800224304199, -5.750699996948242, -5.769100189208984, -5.782599925994873, -5.797399997711182, -5.44920015335083, -5.928100109100342, -5.954699993133545, -5.963399887084961, -5.976500034332275, -6.0233001708984375, -6.05049991607666, -6.081999778747559, -6.11870002746582, -6.135700225830078, -6.136300086975098, -6.1894001960754395, -6.198299884796143, -6.205599784851074, -6.223499774932861, -6.327899932861328, -6.338799953460693, -6.404300212860107, -6.4293999671936035, -6.4328999519348145, -4.50540018081665, -3.8710999488830566, -3.8951001167297363, -5.65939998626709, -4.315299987792969, -4.666100025177002, -5.021500110626221, -5.3196001052856445, -4.422900199890137, -5.197299957275391, -5.410699844360352, -5.466100215911865, -5.570700168609619, -5.536600112915039, -5.0524001121521, -5.804900169372559, -5.394199848175049, -4.5503997802734375, -5.497300148010254, -4.935200214385986, -5.18779993057251, -5.42549991607666, -5.598199844360352, -5.610799789428711, -5.540599822998047, -5.632999897003174, -4.2418999671936035, -4.389400005340576, -4.910099983215332, -5.179200172424316, -5.633900165557861, -5.714200019836426, -5.718400001525879, -5.789299964904785, -5.796899795532227, -5.826900005340576, -5.863399982452393, -5.954100131988525, -5.989799976348877, -6.003499984741211, -6.08620023727417, -4.421599864959717, -6.086900234222412, -6.088799953460693, -6.110599994659424, -6.1230998039245605, -6.136199951171875, -6.197400093078613, -6.230199813842773, -6.2428998947143555, -6.302199840545654, -6.341599941253662, -6.424499988555908, -6.502900123596191, -6.574900150299072, -6.689300060272217, -5.107399940490723, -6.067999839782715, -5.583700180053711, -5.842199802398682, -5.3155999183654785, -4.855899810791016, -5.591599941253662, -4.291500091552734, -5.898499965667725, -5.165599822998047, -4.488900184631348, -5.351799964904785, -5.469900131225586, -5.627099990844727, -5.823200225830078, -5.580900192260742, -5.660699844360352, -5.6504998207092285, -5.559199810028076, -5.411499977111816, -5.365499973297119, -5.579500198364258, -5.687300205230713, -5.675000190734863, -5.703400135040283, -5.77269983291626, -4.598499774932861, -4.803999900817871, -4.890200138092041, -4.916200160980225, -5.021599769592285, -5.332600116729736, -5.389999866485596, -5.514500141143799, -5.548799991607666, -4.095699787139893, -5.626500129699707, -5.667300224304199, -5.801300048828125, -5.884900093078613, -5.919899940490723, -5.890999794006348, -6.057199954986572, -6.112400054931641, -6.124599933624268, -5.849100112915039, -6.236800193786621, -6.258200168609619, -6.283199787139893, -6.309000015258789, -6.3105998039245605, -6.3125, -6.318900108337402, -6.320899963378906, -6.388199806213379, -4.78849983215332, -3.146199941635132, -5.606599807739258, -6.0243000984191895, -5.07889986038208, -5.403200149536133, -5.358399868011475, -4.47599983215332, -5.997399806976318, -5.0782999992370605, -4.48829984664917, -5.617499828338623, -5.304999828338623, -4.789400100708008, -4.740200042724609, -5.48960018157959, -4.997499942779541, -5.494100093841553, -4.782899856567383, -5.415999889373779, -5.201200008392334, -5.141499996185303, -5.481100082397461, -5.40339994430542, -5.388999938964844, -5.025700092315674, -5.103600025177002, -5.38730001449585, -5.496500015258789, -5.528800010681152, -5.689599990844727, -5.790999889373779, -5.840199947357178, -5.888199806213379, -5.894999980926514, -5.94189977645874, -5.9604997634887695, -6.15749979019165, -6.159800052642822, -6.207399845123291, -6.305699825286865, -6.343900203704834, -6.377600193023682, -6.379199981689453, -6.421800136566162, -6.444300174713135, -6.462500095367432, -6.493000030517578, -6.496099948883057, -6.503499984741211, -6.509399890899658, -6.519199848175049, -6.541600227355957, -6.549200057983398, -6.557799816131592, -6.220300197601318, -5.536600112915039, -6.083000183105469, -5.752500057220459, -5.856800079345703, -4.728300094604492, -5.349100112915039, -5.309800148010254, -5.683700084686279, -5.654900074005127, -6.025599956512451, -5.454599857330322, -5.847899913787842, -4.9984002113342285, -4.448200225830078, -5.723599910736084, -5.430200099945068, -5.214700222015381, -5.195899963378906, -5.344900131225586, -5.236499786376953, -4.9593000411987305, -5.601500034332275, -5.789999961853027, -5.398399829864502, -5.735199928283691, -5.787199974060059, -5.599599838256836, -5.736800193786621, -5.747200012207031, -5.729800224304199, -4.821100234985352, -4.7204999923706055, -5.543399810791016, -5.77370023727417, -5.7820000648498535, -5.842700004577637, -5.84499979019165, -5.86899995803833, -5.88700008392334, -5.9268999099731445, -6.006899833679199, -6.049900054931641, -6.061299800872803, -6.0802001953125, -6.081299781799316, -6.127299785614014, -6.172100067138672, -6.237100124359131, -6.253600120544434, -5.947199821472168, -6.317699909210205, -6.321800231933594, -6.323500156402588, -6.364699840545654, -6.3678998947143555, -6.426400184631348, -6.5005998611450195, -6.519000053405762, -6.529799938201904, -6.534800052642822, -5.834199905395508, -5.675000190734863, -6.114999771118164, -4.651599884033203, -6.041999816894531, -4.925099849700928, -4.722499847412109, -5.3171000480651855, -5.387800216674805, -4.756199836730957, -4.65880012512207, -4.8358001708984375, -4.873700141906738, -5.357699871063232, -5.5406999588012695, -5.055500030517578, -5.462200164794922, -5.430300235748291, -5.625100135803223, -5.3755998611450195, -5.527299880981445, -5.3805999755859375, -5.393899917602539, -5.55649995803833, -5.186100006103516, -5.682700157165527, -5.609600067138672, -5.739299774169922, -5.733799934387207, -4.85290002822876, -4.891499996185303, -4.999499797821045, -5.0945000648498535, -5.146299839019775, -5.259799957275391, -5.268700122833252, -5.448200225830078, -5.457900047302246, -5.481400012969971, -5.600399971008301, -5.7530999183654785, -5.765600204467773, -5.767499923706055, -5.786799907684326, -5.815400123596191, -5.817699909210205, -5.8368000984191895, -5.89870023727417, -5.9019999504089355, -5.928999900817871, -5.968400001525879, -5.979000091552734, -5.992199897766113, -5.992300033569336, -6.0278000831604, -6.073200225830078, -6.087299823760986, -6.105100154876709, -6.1280999183654785, -5.131499767303467, -5.592599868774414, -5.163700103759766, -5.837399959564209, -5.106100082397461, -5.595200061798096, -5.561699867248535, -5.810100078582764, -5.7291998863220215, -5.817399978637695, -5.854000091552734, -5.814700126647949, -3.6810998916625977, -4.826900005340576, -5.213200092315674, -5.289599895477295, -5.411200046539307, -5.4278998374938965, -5.452700138092041, -5.491399765014648, -5.497099876403809, -5.533699989318848, -5.539599895477295, -5.5553998947143555, -5.573500156402588, -5.60099983215332, -5.622499942779541, -5.630799770355225, -5.63129997253418, -5.645100116729736, -5.646100044250488, -5.650100231170654, -4.971700191497803, -5.6915998458862305, -5.692599773406982, -5.695700168609619, -5.6992998123168945, -5.701300144195557, -5.818699836730957, -5.822700023651123, -5.878900051116943, -5.883800029754639, -5.49370002746582, -5.169899940490723, -5.1203999519348145, -5.73199987411499, -5.725200176239014, -3.3324999809265137, -3.8968000411987305, -4.486400127410889, -4.755499839782715, -4.805600166320801, -4.837900161743164, -4.851600170135498, -4.885799884796143, -4.933800220489502, -5.122900009155273, -5.133800029754639, -2.911400079727173, -5.7555999755859375, -5.789999961853027, -5.846399784088135, -6.005199909210205, -6.019700050354004, -6.052299976348877, -6.185400009155273, -6.194300174713135, -6.210000038146973, -6.211299896240234, -6.243100166320801, -6.281799793243408, -6.225299835205078, -6.302499771118164, -6.310999870300293, -6.353000164031982, -6.363699913024902, -6.36959981918335, -5.406099796295166, -4.57859992980957, -3.2634999752044678, -3.9528000354766846, -5.466899871826172, -5.094299793243408, -5.78849983215332, -4.656700134277344, -5.48960018157959, -4.985400199890137, -4.747799873352051, -5.253799915313721, -5.125199794769287, -5.351399898529053, -5.644000053405762, -5.6031999588012695, -5.719099998474121, -4.075699806213379, -4.328000068664551, -4.577700138092041, -4.691199779510498, -4.883200168609619, -4.885300159454346, -4.961299896240234, -5.052999973297119, -5.311699867248535, -5.354300022125244, -5.443299770355225, -5.449100017547607, -5.470300197601318, -5.638500213623047, -5.640699863433838, -5.664400100708008, -5.668000221252441, -5.760200023651123, -5.783599853515625, -5.8333001136779785, -5.84060001373291, -5.849899768829346, -5.884300231933594, -5.885300159454346, -5.86899995803833, -5.945000171661377, -5.951700210571289, -5.966000080108643, -5.969200134277344, -6.00540018081665, -3.99780011177063, -4.842899799346924, -5.042900085449219, -5.061200141906738, -3.863100051879883, -5.133900165557861, -4.007400035858154, -5.367599964141846, -4.482600212097168, -5.223599910736084, -4.819699764251709, -4.617000102996826, -5.451900005340576, -5.1072998046875, -4.8821001052856445, -5.180099964141846, -5.56850004196167, -5.156899929046631, -5.16949987411499, -5.38730001449585, -5.442800045013428, -4.353899955749512, -4.544300079345703, -4.769199848175049, -5.03439998626709, -5.067299842834473, -5.179599761962891, -5.204500198364258, -5.409200191497803, -5.429999828338623, -5.484499931335449, -5.519100189208984, -5.542900085449219, -5.6041998863220215, -5.635200023651123, -5.7093000411987305, -5.7652997970581055, -5.78980016708374, -5.844600200653076, -5.929699897766113, -5.9355998039245605, -5.940800189971924, -5.96999979019165, -6.001999855041504, -6.005300045013428, -6.009799957275391, -6.026000022888184, -6.028200149536133, -6.044899940490723, -6.04610013961792, -6.0543999671936035, -5.166800022125244, -5.1305999755859375, -4.811699867248535, -5.460400104522705, -5.312600135803223, -5.139900207519531, -4.055699825286865, -5.621200084686279, -5.606100082397461, -5.190299987792969, -5.074399948120117, -5.389699935913086, -4.048699855804443, -5.501800060272217, -5.427700042724609, -5.464799880981445, -4.783199787139893, -5.2565999031066895, -5.2855000495910645, -5.52370023727417, -5.538099765777588, -4.4604997634887695, -4.8867998123168945, -5.020899772644043, -5.1118998527526855, -5.1118998527526855, -5.151599884033203, -5.252399921417236, -5.3242998123168945, -5.327300071716309, -5.358699798583984, -5.359799861907959, -5.390999794006348, -5.400100231170654, -5.4243998527526855, -5.491099834442139, -5.54040002822876, -5.586900234222412, -5.588600158691406, -5.611700057983398, -5.61959981918335, -5.644599914550781, -5.703800201416016, -5.803599834442139, -5.841100215911865, -5.842899799346924, -5.848899841308594, -5.881100177764893, -5.910200119018555, -5.911399841308594, -5.912899971008301, -4.649400234222412, -4.95989990234375, -4.929599761962891, -5.588099956512451, -5.138400077819824, -5.535799980163574, -5.5960001945495605, -5.494699954986572, -5.596799850463867, -5.627099990844727], \"loglift\": [30.0, 29.0, 28.0, 27.0, 26.0, 25.0, 24.0, 23.0, 22.0, 21.0, 20.0, 19.0, 18.0, 17.0, 16.0, 15.0, 14.0, 13.0, 12.0, 11.0, 10.0, 9.0, 8.0, 7.0, 6.0, 5.0, 4.0, 3.0, 2.0, 1.0, 1.7101000547409058, 1.7096999883651733, 1.707200050354004, 1.7056000232696533, 1.7041000127792358, 1.7035000324249268, 1.7034000158309937, 1.7028000354766846, 1.702299952507019, 1.7020000219345093, 1.701799988746643, 1.7009999752044678, 1.6999000310897827, 1.6999000310897827, 1.6993999481201172, 1.6992000341415405, 1.6990000009536743, 1.698699951171875, 1.6986000537872314, 1.698099970817566, 1.6974999904632568, 1.6966999769210815, 1.6964999437332153, 1.6964000463485718, 1.695199966430664, 1.6948000192642212, 1.6943999528884888, 1.694100022315979, 1.693600058555603, 1.6928999423980713, 1.6878999471664429, 1.6923999786376953, 1.669600009918213, 1.6517000198364258, 1.6792000532150269, 1.5894999504089355, 1.6455999612808228, 1.5893000364303589, 1.6361000537872314, 1.5855000019073486, 1.618499994277954, 1.4851000308990479, 1.531499981880188, 1.558500051498413, 1.50600004196167, 1.6186000108718872, 1.447100043296814, 1.4229999780654907, 1.486199975013733, 1.4185999631881714, 1.2095999717712402, 1.3127000331878662, 1.440000057220459, 1.1338000297546387, 1.5528000593185425, 1.0388000011444092, 1.488800048828125, 1.3696999549865723, 1.2280999422073364, 1.3746999502182007, 1.2681000232696533, 1.020799994468689, 1.2596999406814575, 1.0723999738693237, 1.1430000066757202, 1.0091999769210815, 0.8051999807357788, 1.2374999523162842, 0.8690999746322632, 0.9018999934196472, 0.6118999719619751, 1.0219000577926636, 0.7336000204086304, 1.0241999626159668, 0.7861999869346619, 1.110700011253357, 0.7587000131607056, 0.4684999883174896, 1.079300045967102, 0.47440001368522644, 0.817799985408783, 0.8550999760627747, 0.781000018119812, 0.5734999775886536, 1.9672000408172607, 1.9636000394821167, 1.9622999429702759, 1.9616999626159668, 1.961400032043457, 1.961300015449524, 1.9603999853134155, 1.9602999687194824, 1.9598000049591064, 1.958799958229065, 1.9581999778747559, 1.9574999809265137, 1.9570000171661377, 1.9556000232696533, 1.955199956893921, 1.9544999599456787, 1.9536000490188599, 1.9535000324249268, 1.9530999660491943, 1.9530999660491943, 1.9523999691009521, 1.9519000053405762, 1.951799988746643, 1.9515999555587769, 1.9515999555587769, 1.9500000476837158, 1.9494999647140503, 1.9493999481201172, 1.948799967765808, 1.9484000205993652, 1.9312000274658203, 1.929800033569336, 1.8868000507354736, 1.9218000173568726, 1.9256000518798828, 1.8676999807357788, 1.7705999612808228, 1.5511000156402588, 1.6272000074386597, 1.7985999584197998, 1.6496000289916992, 1.4945000410079956, 1.8708000183105469, 1.7558000087738037, 1.3040000200271606, 1.5651999711990356, 1.179800033569336, 1.419800043106079, 1.565600037574768, 1.3274999856948853, 1.682800054550171, 1.222599983215332, 1.0765000581741333, 1.4514000415802002, 1.2239999771118164, 1.2973999977111816, 0.7088000178337097, 1.2486000061035156, 1.1684999465942383, 1.1862000226974487, 1.141700029373169, 0.9312999844551086, 0.9193000197410583, 0.8586000204086304, 0.809499979019165, 1.1068999767303467, 1.0535999536514282, 1.1266000270843506, 0.5895000100135803, 0.9139999747276306, 0.8734999895095825, 0.7479000091552734, 0.8567000031471252, 1.1150000095367432, 0.8794000148773193, 0.6500999927520752, 0.578499972820282, 0.7657999992370605, 2.192199945449829, 2.191800117492676, 2.1907999515533447, 2.190700054168701, 2.1905999183654785, 2.1903998851776123, 2.1886000633239746, 2.188499927520752, 2.1884000301361084, 2.1879000663757324, 2.1879000663757324, 2.1877999305725098, 2.187299966812134, 2.1872000694274902, 2.1870999336242676, 2.1867001056671143, 2.1865999698638916, 2.1863999366760254, 2.1858999729156494, 2.1858999729156494, 2.1856000423431396, 2.1854000091552734, 2.1854000091552734, 2.184799909591675, 2.184499979019165, 2.1844000816345215, 2.1844000816345215, 2.1840999126434326, 2.183799982070923, 2.1835999488830566, 2.174499988555908, 2.1770999431610107, 2.1563000679016113, 2.1721999645233154, 2.144399881362915, 2.11299991607666, 2.166100025177002, 2.0467000007629395, 2.0720999240875244, 2.161600112915039, 1.9016000032424927, 2.0325000286102295, 1.9943000078201294, 1.906999945640564, 1.997499942779541, 1.9108999967575073, 1.8845000267028809, 1.854699969291687, 1.9733999967575073, 2.0940001010894775, 1.4804999828338623, 1.434499979019165, 1.558500051498413, 1.3702000379562378, 1.610700011253357, 1.7029999494552612, 1.8184000253677368, 1.5163999795913696, 1.1647000312805176, 1.0879000425338745, 1.2486000061035156, 0.25949999690055847, 0.7121999859809875, 2.558300018310547, 2.5564000606536865, 2.555799961090088, 2.5553998947143555, 2.5546998977661133, 2.5541999340057373, 2.5536999702453613, 2.5536000728607178, 2.552999973297119, 2.5518999099731445, 2.550800085067749, 2.549299955368042, 2.5492000579833984, 2.54830002784729, 2.54830002784729, 2.5471999645233154, 2.544100046157837, 2.543800115585327, 2.5434999465942383, 2.5434000492095947, 2.5434000492095947, 2.542799949645996, 2.5427000522613525, 2.54259991645813, 2.5423998832702637, 2.542099952697754, 2.5415000915527344, 2.5406999588012695, 2.5406999588012695, 2.5404999256134033, 2.533799886703491, 2.5215001106262207, 2.4955999851226807, 2.4818999767303467, 2.4728000164031982, 2.361799955368042, 2.4844000339508057, 2.40939998626709, 2.4410998821258545, 2.3320000171661377, 2.3903000354766846, 2.2892000675201416, 2.486999988555908, 2.3015999794006348, 2.233299970626831, 2.3262999057769775, 2.0936999320983887, 2.1623001098632812, 1.9804999828338623, 2.099400043487549, 2.3046000003814697, 2.3160998821258545, 2.104099988937378, 1.9937000274658203, 1.8016999959945679, 1.9958000183105469, 0.9244999885559082, 1.4931000471115112, 1.4802000522613525, 2.0218000411987305, 1.291100025177002, 1.770799994468689, 1.9814000129699707, 1.9491000175476074, 1.8890999555587769, 1.5677000284194946, 1.8299000263214111, 0.6017000079154968, 0.883899986743927, 0.6718000173568726, 0.9979000091552734, -0.007499999832361937, 1.3202999830245972, -0.7817000150680542, 2.695199966430664, 2.6947999000549316, 2.6937999725341797, 2.6937999725341797, 2.693700075149536, 2.692500114440918, 2.6921000480651855, 2.6916000843048096, 2.690500020980835, 2.6893999576568604, 2.6893999576568604, 2.6881000995635986, 2.6881000995635986, 2.6875998973846436, 2.6863999366760254, 2.6854000091552734, 2.68530011177063, 2.684999942779541, 2.6839001178741455, 2.6835999488830566, 2.683199882507324, 2.683199882507324, 2.6830999851226807, 2.6821000576019287, 2.68149995803833, 2.6807000637054443, 2.6803998947143555, 2.680000066757202, 2.679800033569336, 2.6789000034332275, 2.6644999980926514, 2.5999999046325684, 2.643199920654297, 2.639400005340576, 2.6070001125335693, 2.6077001094818115, 2.563699960708618, 2.5848000049591064, 2.556299924850464, 2.610599994659424, 2.535399913787842, 2.4953999519348145, 2.4779999256134033, 2.4175000190734863, 2.4379000663757324, 2.499799966812134, 2.1679000854492188, 2.3828999996185303, 2.3845999240875244, 1.992799997329712, 2.300299882888794, 2.0058999061584473, 1.7812999486923218, 1.65910005569458, 1.5922000408172607, 1.7151999473571777, 1.3889000415802002, 0.864300012588501, 1.9851000308990479, 1.4723000526428223, 0.2387000024318695, 1.2107000350952148, 1.8082000017166138, 0.390500009059906, 1.0156999826431274, 0.43860000371932983, 1.100100040435791, 2.80049991607666, 2.7962000370025635, 2.793299913406372, 2.79259991645813, 2.7922000885009766, 2.790600061416626, 2.7894999980926514, 2.7890000343322754, 2.787899971008301, 2.7876999378204346, 2.787600040435791, 2.786900043487549, 2.7867000102996826, 2.7864999771118164, 2.7864999771118164, 2.78629994392395, 2.786099910736084, 2.7860000133514404, 2.785599946975708, 2.7853000164031982, 2.7846999168395996, 2.783900022506714, 2.7836999893188477, 2.782399892807007, 2.782399892807007, 2.7822999954223633, 2.7809998989105225, 2.7808001041412354, 2.780400037765503, 2.7799999713897705, 2.7637999057769775, 2.687299966812134, 2.6565001010894775, 2.7572999000549316, 2.2983999252319336, 2.267899990081787, 2.5624001026153564, 2.6851999759674072, 2.411799907684326, 2.428800106048584, 2.389400005340576, 2.1833999156951904, 2.2367000579833984, 2.5966999530792236, 2.1494998931884766, 2.34089994430542, 1.8532999753952026, 2.6356000900268555, 2.0339999198913574, 2.1414999961853027, 2.4103000164031982, 1.9988000392913818, 1.902500033378601, 2.237799882888794, 2.2869999408721924, 2.128700017929077, 1.934999942779541, 1.6800999641418457, 1.9491000175476074, 2.140700101852417, 2.292799949645996, 1.9068000316619873, 1.6497000455856323, 1.3574999570846558, 1.0369000434875488, 1.9039000272750854, 0.794700026512146, 0.3165999948978424, 1.1955000162124634, 1.4713000059127808, 0.9180999994277954, 0.4284999966621399, 2.889899969100952, 2.889699935913086, 2.889400005340576, 2.8886001110076904, 2.887399911880493, 2.886699914932251, 2.8866000175476074, 2.885999917984009, 2.8849000930786133, 2.882999897003174, 2.8801000118255615, 2.8798000812530518, 2.878200054168701, 2.8775999546051025, 2.8768999576568604, 2.8763999938964844, 2.8747000694274902, 2.8740999698638916, 2.8740999698638916, 2.872999906539917, 2.870300054550171, 2.8701999187469482, 2.8701999187469482, 2.866499900817871, 2.8659000396728516, 2.865600109100342, 2.8649001121520996, 2.864500045776367, 2.864300012588501, 2.8631999492645264, 2.8578999042510986, 2.787400007247925, 2.762500047683716, 2.7211999893188477, 2.723900079727173, 2.7411000728607178, 2.7049999237060547, 2.7330000400543213, 2.8041999340057373, 2.4693000316619873, 2.572000026702881, 2.6823999881744385, 2.576200008392334, 2.5710999965667725, 2.4842000007629395, 2.241300106048584, 2.286400079727173, 2.517899990081787, 2.5741000175476074, 2.504499912261963, 2.2685000896453857, 2.3192999362945557, 1.71589994430542, 1.3443000316619873, 1.160599946975708, 1.9970999956130981, 1.003499984741211, 1.2696000337600708, 1.9014999866485596, 0.5367000102996826, 2.969099998474121, 2.968600034713745, 2.968100070953369, 2.9677999019622803, 2.9677000045776367, 2.9663000106811523, 2.9655001163482666, 2.9644999504089355, 2.963900089263916, 2.963599920272827, 2.963399887084961, 2.962100028991699, 2.9614999294281006, 2.9611001014709473, 2.960200071334839, 2.960099935531616, 2.9595000743865967, 2.9595000743865967, 2.9595000743865967, 2.9590001106262207, 2.9584999084472656, 2.9583001136779785, 2.9581000804901123, 2.957900047302246, 2.9572999477386475, 2.9570000171661377, 2.956700086593628, 2.9565000534057617, 2.956399917602539, 2.9563000202178955, 2.956199884414673, 2.954200029373169, 2.933300018310547, 2.936000108718872, 2.9298999309539795, 2.8661000728607178, 2.67330002784729, 2.7980000972747803, 2.4958999156951904, 2.4904000759124756, 2.339099884033203, 2.427999973297119, 2.779099941253662, 1.9337999820709229, 2.1178998947143555, 2.0571000576019287, 2.3489999771118164, 1.326300024986267, 2.13919997215271, 1.6496000289916992, 0.4203000068664551, 1.11899995803833, 0.6305999755859375, -0.6202999949455261, 1.0772000551223755, 3.099100112915039, 3.098099946975708, 3.095099925994873, 3.0940001010894775, 3.093600034713745, 3.093600034713745, 3.0905001163482666, 3.0901999473571777, 3.088200092315674, 3.088200092315674, 3.086699962615967, 3.086699962615967, 3.0850000381469727, 3.0843000411987305, 3.0797998905181885, 3.0797998905181885, 3.079699993133545, 3.07669997215271, 3.0738000869750977, 3.0736000537872314, 3.0720999240875244, 3.0710999965667725, 3.0694000720977783, 3.068000078201294, 3.0678999423980713, 3.067199945449829, 3.065500020980835, 3.0653998851776123, 3.0653998851776123, 3.0650999546051025, 3.060800075531006, 3.057300090789795, 3.0460000038146973, 3.0571000576019287, 3.0476999282836914, 3.013400077819824, 2.9723000526428223, 2.99780011177063, 2.884999990463257, 2.9094998836517334, 2.759399890899658, 2.8538999557495117, 2.8436999320983887, 2.9159998893737793, 2.7132999897003174, 2.3861000537872314, 2.553800106048584, 2.4616000652313232, 2.6370999813079834, 2.3935000896453857, 2.4161999225616455, 2.1935999393463135, 2.3847999572753906, 2.5759999752044678, 2.3036999702453613, 2.162899971008301, 2.0708000659942627, 1.9228999614715576, 2.1445999145507812, 2.3812999725341797, 2.3438000679016113, 1.2790000438690186, 1.2656999826431274, 1.1068999767303467, 2.1977999210357666, 1.791100025177002, 1.9879000186920166, 0.7748000025749207, 1.460800051689148, -0.17870000004768372, 0.8888000249862671, 3.1373000144958496, 3.1368000507354736, 3.1361000537872314, 3.1333000659942627, 3.1324000358581543, 3.132200002670288, 3.131999969482422, 3.1319000720977783, 3.1317999362945557, 3.131700038909912, 3.1315999031066895, 3.1305999755859375, 3.1303999423980713, 3.1303000450134277, 3.130199909210205, 3.129699945449829, 3.129499912261963, 3.1291000843048096, 3.1287999153137207, 3.1285998821258545, 3.1285998821258545, 3.128000020980835, 3.1278998851776123, 3.1277999877929688, 3.1275999546051025, 3.126300096511841, 3.126199960708618, 3.1252999305725098, 3.1249001026153564, 3.1249001026153564, 3.1171000003814697, 3.1026999950408936, 3.100100040435791, 3.116499900817871, 3.0841000080108643, 3.072200059890747, 3.074199914932251, 3.0625998973846436, 2.9595999717712402, 3.01419997215271, 3.038300037384033, 3.0151000022888184, 3.006500005722046, 2.970099925994873, 2.594099998474121, 2.9853999614715576, 2.6321001052856445, 1.864400029182434, 2.7011001110076904, 1.0698000192642212, 1.3249000310897827, 1.444100022315979, 2.0947999954223633, 2.1486001014709473, 1.232699990272522, 1.2268999814987183, 3.171799898147583, 3.1714999675750732, 3.1702001094818115, 3.1691999435424805, 3.166800022125244, 3.1661999225616455, 3.1661999225616455, 3.165600061416626, 3.165600061416626, 3.165299892425537, 3.1649999618530273, 3.1642000675201416, 3.163800001144409, 3.163800001144409, 3.162899971008301, 3.162899971008301, 3.162899971008301, 3.162899971008301, 3.1626999378204346, 3.1624999046325684, 3.162400007247925, 3.1617000102996826, 3.16129994392395, 3.161099910736084, 3.160399913787842, 3.159899950027466, 3.1586999893188477, 3.1575000286102295, 3.1563000679016113, 3.1542999744415283, 3.1519999504089355, 3.100399971008301, 3.039400100708008, 3.0495998859405518, 2.770900011062622, 2.53410005569458, 2.8506999015808105, 1.932800054550171, 2.8798999786376953, 2.1584999561309814, 0.9042999744415283, 2.000699996948242, 2.1626999378204346, 2.3898000717163086, 2.6047000885009766, 2.0107998847961426, 2.133500099182129, 2.038300037384033, 1.6823999881744385, 0.5934000015258789, 0.1923000067472458, 0.8758000135421753, 1.489400029182434, 1.3420000076293945, 0.15780000388622284, 0.9664000272750854, 3.5160000324249268, 3.515199899673462, 3.5148000717163086, 3.514699935913086, 3.51419997215271, 3.5123000144958496, 3.511899948120117, 3.5109000205993652, 3.5106000900268555, 3.5099000930786133, 3.5099000930786133, 3.509500026702881, 3.5081000328063965, 3.5071001052856445, 3.506700038909912, 3.5048000812530518, 3.5048000812530518, 3.503999948501587, 3.5037999153137207, 3.5032999515533447, 3.502000093460083, 3.5016000270843506, 3.5009000301361084, 3.500699996948242, 3.500699996948242, 3.5006000995635986, 3.500499963760376, 3.500499963760376, 3.4992001056671143, 3.4976999759674072, 3.4565999507904053, 3.486999988555908, 3.4948999881744385, 3.4177000522613525, 3.4124999046325684, 3.338900089263916, 3.109999895095825, 3.438699960708618, 3.128200054168701, 2.824199914932251, 3.2479000091552734, 3.0829999446868896, 2.7284998893737793, 2.6721999645233154, 3.066800117492676, 2.5413999557495117, 2.8778998851776123, 1.6735999584197998, 2.739799976348877, 2.2388999462127686, 1.4182000160217285, 2.613100051879883, 1.0113999843597412, 0.6158999800682068, 3.6709001064300537, 3.6703999042510986, 3.6682000160217285, 3.6672000885009766, 3.6668999195098877, 3.66510009765625, 3.6635000705718994, 3.6631999015808105, 3.662600040435791, 3.6624999046325684, 3.661799907684326, 3.6614999771118164, 3.658099889755249, 3.658099889755249, 3.6572000980377197, 3.6552000045776367, 3.653599977493286, 3.653599977493286, 3.6535000801086426, 3.6524999141693115, 3.6519999504089355, 3.6514999866485596, 3.650700092315674, 3.650599956512451, 3.6505000591278076, 3.6503000259399414, 3.6500000953674316, 3.649399995803833, 3.649199962615967, 3.6489999294281006, 3.6473000049591064, 3.6242001056671143, 3.6201000213623047, 3.5727999210357666, 3.579200029373169, 3.4182000160217285, 3.482300043106079, 3.454900026321411, 3.5146000385284424, 3.3547000885009766, 3.483099937438965, 3.211400032043457, 3.3280999660491943, 2.775899887084961, 2.325200080871582, 3.2325000762939453, 2.926100015640259, 2.7165000438690186, 2.6649999618530273, 2.7520999908447266, 2.616300106048584, 1.9538999795913696, 2.8886001110076904, 3.227299928665161, 1.8640999794006348, 2.884999990463257, 3.1171000003814697, 0.5874999761581421, 2.067199945449829, 2.285900115966797, -0.029500000178813934, 3.9839000701904297, 3.9776999950408936, 3.976799964904785, 3.973099946975708, 3.9730000495910645, 3.97189998626709, 3.97189998626709, 3.971400022506714, 3.971100091934204, 3.9702999591827393, 3.968600034713745, 3.967600107192993, 3.9672999382019043, 3.966900110244751, 3.966900110244751, 3.9658000469207764, 3.964600086212158, 3.962899923324585, 3.962399959564209, 3.960900068283081, 3.960599899291992, 3.9605000019073486, 3.960400104522705, 3.959199905395508, 3.9591000080108643, 3.957200050354004, 3.9546000957489014, 3.9539999961853027, 3.9535999298095703, 3.953399896621704, 3.9423000812530518, 3.9305999279022217, 3.9038000106811523, 3.6738998889923096, 3.856100082397461, 3.538100004196167, 3.446500062942505, 3.626199960708618, 3.6029000282287598, 3.3487000465393066, 3.27239990234375, 3.202899932861328, 3.2035999298095703, 3.4340999126434326, 3.4858999252319336, 2.9300999641418457, 3.21370005607605, 3.1364998817443848, 3.295599937438965, 2.860100030899048, 2.983599901199341, 2.4323999881744385, 2.3053998947143555, 2.6656999588012695, 0.7121999859809875, 2.8564999103546143, 1.7760000228881836, 2.5109000205993652, 1.9845999479293823, 4.264999866485596, 4.264699935913086, 4.263599872589111, 4.262499809265137, 4.261899948120117, 4.26039981842041, 4.260300159454346, 4.257500171661377, 4.257400035858154, 4.256999969482422, 4.254799842834473, 4.2515997886657715, 4.251299858093262, 4.251299858093262, 4.250800132751465, 4.250100135803223, 4.250100135803223, 4.249599933624268, 4.2480998039245605, 4.248000144958496, 4.247300148010254, 4.246200084686279, 4.2459001541137695, 4.245500087738037, 4.245500087738037, 4.244500160217285, 4.243100166320801, 4.242700099945068, 4.242099761962891, 4.241399765014648, 4.218400001525879, 4.226799964904785, 4.121500015258789, 4.183300018310547, 3.5071001052856445, 3.678499937057495, 3.5999999046325684, 3.8117001056671143, 3.516400098800659, 3.6700000762939453, 3.5311999320983887, 0.9203000068664551, 4.652900218963623, 4.643899917602539, 4.637700080871582, 4.634699821472168, 4.633500099182129, 4.6331000328063965, 4.632500171661377, 4.6315999031066895, 4.631400108337402, 4.630499839782715, 4.630300045013428, 4.629899978637695, 4.62939977645874, 4.628600120544434, 4.627999782562256, 4.627799987792969, 4.627799987792969, 4.627399921417236, 4.627299785614014, 4.627200126647949, 4.626999855041504, 4.625999927520752, 4.625999927520752, 4.625899791717529, 4.625800132751465, 4.625699996948242, 4.621799945831299, 4.621699810028076, 4.619699954986572, 4.619500160217285, 4.581399917602539, 4.512599945068359, 4.4375, 4.444200038909912, 2.22189998626709, 4.666299819946289, 4.663899898529053, 4.6595001220703125, 4.656700134277344, 4.656000137329102, 4.655600070953369, 4.655399799346924, 4.654900074005127, 4.654200077056885, 4.651100158691406, 4.650899887084961, 4.644400119781494, 4.635300159454346, 4.634200096130371, 4.632199764251709, 4.625899791717529, 4.62529993057251, 4.623899936676025, 4.617599964141846, 4.617099761962891, 4.616300106048584, 4.616199970245361, 4.61460018157959, 4.612500190734863, 4.612199783325195, 4.611299991607666, 4.610799789428711, 4.608399868011475, 4.607800006866455, 4.607399940490723, 4.562399864196777, 4.479100227355957, 4.336599826812744, 4.110599994659424, 4.419400215148926, 4.312600135803223, 4.436800003051758, 3.92330002784729, 4.21619987487793, 3.8178999423980713, 3.2107999324798584, 3.711699962615967, 3.424299955368042, 3.5773000717163086, 3.4763998985290527, 2.6233999729156494, 2.484999895095825, 4.696000099182129, 4.6940999031066895, 4.691699981689453, 4.690299987792969, 4.68779993057251, 4.687699794769287, 4.686600208282471, 4.685100078582764, 4.679900169372559, 4.678899765014648, 4.676799774169922, 4.676599979400635, 4.67609977722168, 4.671299934387207, 4.671199798583984, 4.670499801635742, 4.670400142669678, 4.667300224304199, 4.666500091552734, 4.664700031280518, 4.664400100708008, 4.664000034332275, 4.662700176239014, 4.662700176239014, 4.662399768829346, 4.660299777984619, 4.659999847412109, 4.65939998626709, 4.659299850463867, 4.657700061798096, 4.645999908447266, 4.6128997802734375, 4.548600196838379, 4.547999858856201, 4.3379998207092285, 4.507199764251709, 4.245100021362305, 4.542900085449219, 4.275300025939941, 4.457799911499023, 4.198599815368652, 4.0742998123168945, 4.388899803161621, 3.691800117492676, 2.9581000804901123, 3.4063000679016113, 4.4492998123168945, 2.4022998809814453, 2.2428998947143555, 2.5878000259399414, 2.3071999549865723, 4.854800224304199, 4.852700233459473, 4.8495001792907715, 4.844799995422363, 4.844200134277344, 4.841700077056885, 4.841100215911865, 4.835700035095215, 4.835100173950195, 4.833499908447266, 4.832399845123291, 4.831600189208984, 4.829500198364258, 4.828400135040283, 4.8256001472473145, 4.823400020599365, 4.822400093078613, 4.820000171661377, 4.816100120544434, 4.815800189971924, 4.8155999183654785, 4.8140997886657715, 4.8125, 4.812300205230713, 4.812099933624268, 4.811299800872803, 4.811200141906738, 4.810299873352051, 4.810200214385986, 4.809800148010254, 4.756100177764893, 4.741799831390381, 4.673099994659424, 4.698800086975098, 4.613500118255615, 4.441800117492676, 3.860599994659424, 4.61929988861084, 4.592599868774414, 4.188499927520752, 3.915299892425537, 4.160699844360352, 2.365999937057495, 4.2382001876831055, 3.9539999961853027, 4.042699813842773, 1.7295000553131104, 3.0099000930786133, 2.6196000576019287, 3.884999990463257, 2.490999937057495, 5.546199798583984, 5.53410005569458, 5.529099941253662, 5.525300025939941, 5.525300025939941, 5.523499965667725, 5.518799781799316, 5.515100002288818, 5.514900207519531, 5.513199806213379, 5.513199806213379, 5.51140022277832, 5.510900020599365, 5.509500026702881, 5.505499839782715, 5.502399921417236, 5.499300003051758, 5.499199867248535, 5.497600078582764, 5.497099876403809, 5.495299816131592, 5.490900039672852, 5.482999801635742, 5.479899883270264, 5.479700088500977, 5.4791998863220215, 5.476399898529053, 5.473700046539307, 5.473599910736084, 5.473499774932861, 5.318699836730957, 4.730999946594238, 4.564300060272217, 5.153200149536133, 4.435999870300293, 4.947999954223633, 4.814000129699707, 3.507200002670288, 3.890500068664551, 3.8898000717163086]}, \"token.table\": {\"Topic\": [2, 1, 4, 13, 14, 1, 3, 5, 6, 7, 9, 18, 7, 5, 6, 5, 1, 3, 4, 5, 6, 7, 8, 9, 12, 3, 6, 7, 17, 7, 9, 11, 6, 1, 2, 3, 5, 11, 12, 12, 16, 7, 7, 8, 12, 1, 2, 4, 7, 8, 9, 20, 3, 7, 4, 19, 1, 2, 3, 4, 5, 6, 7, 8, 9, 10, 11, 12, 13, 14, 13, 7, 9, 2, 4, 6, 7, 9, 10, 12, 12, 7, 13, 5, 13, 1, 20, 3, 7, 9, 14, 3, 6, 7, 1, 2, 3, 4, 5, 8, 11, 12, 1, 2, 3, 6, 9, 13, 1, 2, 4, 9, 11, 17, 1, 2, 3, 4, 5, 8, 11, 1, 3, 6, 7, 8, 14, 3, 5, 14, 1, 3, 5, 6, 7, 12, 14, 4, 6, 7, 9, 10, 11, 12, 17, 18, 17, 3, 6, 11, 11, 1, 1, 1, 3, 1, 3, 11, 11, 11, 1, 2, 3, 4, 5, 6, 8, 9, 10, 11, 12, 13, 20, 7, 9, 17, 1, 1, 2, 3, 4, 5, 6, 7, 9, 1, 4, 6, 9, 17, 1, 1, 2, 3, 5, 7, 8, 1, 1, 12, 12, 12, 15, 1, 4, 1, 4, 12, 13, 17, 5, 6, 13, 9, 7, 2, 5, 14, 2, 2, 3, 5, 6, 7, 9, 12, 15, 11, 11, 11, 11, 11, 1, 2, 3, 4, 5, 7, 8, 9, 10, 11, 14, 10, 20, 14, 11, 2, 3, 10, 12, 19, 15, 5, 7, 11, 7, 1, 2, 5, 7, 12, 19, 10, 19, 9, 13, 13, 5, 1, 8, 1, 2, 4, 5, 8, 9, 19, 1, 2, 3, 5, 6, 8, 10, 1, 2, 3, 5, 10, 19, 15, 8, 8, 2, 14, 2, 1, 3, 7, 9, 10, 5, 3, 13, 1, 2, 3, 4, 6, 8, 10, 11, 13, 14, 15, 10, 2, 5, 10, 11, 12, 4, 6, 19, 4, 7, 9, 1, 2, 3, 4, 5, 6, 8, 13, 14, 1, 4, 6, 8, 13, 8, 9, 10, 11, 15, 9, 2, 19, 14, 14, 9, 4, 15, 2, 3, 4, 9, 11, 12, 14, 1, 2, 3, 4, 5, 7, 13, 12, 8, 9, 15, 3, 5, 14, 11, 10, 1, 2, 4, 5, 8, 9, 10, 11, 16, 18, 2, 6, 14, 9, 11, 15, 20, 5, 19, 5, 17, 19, 1, 2, 7, 9, 10, 11, 12, 14, 2, 11, 12, 15, 20, 20, 8, 1, 2, 3, 4, 5, 13, 18, 13, 14, 18, 3, 18, 2, 4, 6, 7, 9, 10, 12, 2, 20, 1, 2, 4, 8, 19, 3, 10, 13, 3, 11, 20, 9, 10, 4, 8, 9, 11, 6, 18, 5, 7, 8, 8, 10, 1, 8, 8, 8, 8, 16, 16, 19, 6, 13, 13, 4, 7, 9, 17, 4, 6, 7, 8, 9, 10, 11, 14, 4, 7, 9, 4, 17, 1, 4, 8, 3, 7, 7, 15, 3, 3, 9, 18, 9, 7, 5, 2, 6, 10, 1, 3, 6, 7, 14, 1, 3, 5, 15, 3, 5, 7, 9, 15, 19, 1, 2, 4, 5, 6, 8, 9, 10, 11, 14, 3, 6, 7, 12, 5, 7, 12, 3, 6, 2, 3, 5, 7, 16, 13, 3, 3, 5, 6, 7, 6, 7, 17, 1, 14, 16, 7, 9, 11, 16, 5, 13, 3, 2, 3, 4, 5, 7, 9, 12, 13, 14, 5, 6, 13, 1, 2, 16, 10, 17, 3, 4, 5, 6, 8, 14, 15, 3, 7, 20, 1, 2, 3, 4, 5, 7, 8, 9, 10, 11, 1, 2, 3, 4, 9, 17, 1, 2, 3, 4, 5, 6, 8, 9, 10, 2, 1, 4, 7, 17, 1, 2, 4, 6, 7, 14, 6, 4, 9, 4, 9, 4, 7, 9, 7, 19, 4, 1, 1, 2, 3, 5, 6, 7, 8, 9, 12, 13, 14, 16, 3, 20, 11, 18, 1, 2, 4, 7, 14, 17, 1, 19, 3, 5, 6, 7, 12, 13, 3, 6, 6, 4, 11, 8, 9, 19, 9, 4, 8, 11, 4, 16, 4, 1, 4, 7, 9, 10, 12, 14, 17, 19, 10, 9, 1, 3, 4, 9, 14, 12, 3, 16, 1, 2, 3, 5, 6, 7, 12, 13, 7, 7, 10, 15, 20, 2, 3, 18, 1, 2, 3, 4, 5, 6, 8, 11, 6, 3, 7, 9, 17, 18, 18, 3, 5, 5, 6, 3, 5, 14, 3, 6, 7, 11, 13, 14, 14, 8, 7, 10, 11, 2, 11, 18, 1, 8, 15, 10, 16, 16, 20, 2, 5, 11, 2, 5, 10, 2, 5, 6, 5, 2, 4, 1, 7, 9, 18, 2, 9, 14, 20, 1, 8, 12, 13, 4, 8, 18, 14, 3, 7, 9, 1, 2, 3, 4, 7, 13, 14, 18, 7, 13, 5, 14, 2, 13, 12, 13, 14, 16, 3, 5, 6, 12, 7, 7, 2, 3, 6, 8, 12, 13, 7, 9, 2, 6, 13, 1, 2, 3, 4, 7, 8, 13, 14, 3, 10, 3, 10, 12, 7, 7, 18, 15, 8, 5, 4, 1, 2, 3, 4, 5, 6, 7, 8, 10, 11, 2, 3, 4, 8, 11, 20, 1, 4, 1, 2, 3, 4, 6, 7, 8, 1, 2, 5, 6, 10, 12, 14, 1, 3, 5, 14, 1, 4, 1, 4, 8, 13, 4, 12, 14, 3, 5, 14, 1, 2, 4, 7, 8, 9, 11, 1, 8, 18, 10, 20, 8, 11, 14, 3, 14, 7, 9, 20, 3, 9, 11, 3, 1, 2, 3, 4, 5, 6, 7, 8, 11, 4, 8, 11, 13, 14, 7, 14, 9, 14, 1, 2, 3, 4, 5, 6, 7, 8, 9, 10, 11, 12, 13, 14, 6, 12, 13, 14, 5, 16, 10, 3, 4, 8, 9, 11, 18, 18, 1, 2, 4, 6, 7, 9, 14, 2, 7, 3, 5, 6, 3, 6, 15, 1, 2, 3, 4, 5, 6, 7, 8, 9, 10, 14, 14, 2, 3, 4, 10, 11, 3, 6, 13, 7, 9, 12, 1, 3, 5, 10, 19, 5, 10, 10, 4, 17, 17, 2, 18, 1, 2, 3, 4, 6, 7, 8, 9, 11, 12, 13, 4, 11, 4, 6, 9, 10, 12, 19, 20, 3, 4, 6, 17, 4, 9, 11, 12, 17, 1, 2, 3, 5, 10, 13, 14, 19, 15, 1, 4, 7, 9, 10, 12, 1, 2, 5, 8, 9, 10, 11, 1, 2, 3, 5, 6, 8, 10, 14, 19, 11, 8, 4, 7, 9, 11, 2, 8, 11, 12, 19, 9, 3, 5, 6, 13, 16, 4, 11, 4, 8, 2, 3, 10, 14, 2, 8, 11, 13, 14, 14, 1, 3, 4, 5, 6, 7, 8, 9, 11, 12, 1, 3, 4, 6, 8, 9, 11, 3, 6, 8, 4, 9, 14, 17, 9, 14, 1, 2, 4, 5, 8, 10, 11, 18, 10, 4, 6, 9, 9, 11, 18, 1, 2, 3, 4, 5, 8, 11, 2, 13, 8, 1, 2, 8, 6, 2, 19, 9, 2, 3, 4, 5, 6, 7, 8, 9, 10, 12, 13, 18, 1, 4, 6, 8, 10, 11, 12, 4, 17, 2, 10, 19, 19, 19, 2, 11, 19, 10, 3, 13, 8, 4, 9, 4, 1, 2, 1, 4, 7, 8, 9, 11, 13, 14, 4, 1, 3, 4, 8, 18, 20, 19, 7, 3, 6, 8, 16, 1, 2, 15, 18, 18, 18, 1, 2, 3, 5, 6, 1, 2, 3, 4, 5, 6, 7, 9, 11, 12, 20, 9, 12, 6, 10, 14, 19, 15, 19, 4, 3, 13, 1, 6, 11, 20, 3, 4, 9, 11, 12, 3, 5, 6, 7, 9, 12, 20, 1, 17, 4, 16, 4, 15, 6, 4, 8, 4, 4, 7, 10, 8, 17, 17, 17, 1, 3, 4, 6, 7, 8, 9, 14, 11, 19, 10, 8, 10, 4, 8, 17, 4, 8, 17, 9, 1, 5, 6, 8, 9, 10, 12, 14, 15, 10, 6, 5, 5, 20, 12, 11, 3, 19, 19, 3, 7, 18, 1, 2, 3, 4, 8, 11, 4, 11, 4, 8, 10, 11, 19, 1, 2, 3, 4, 5, 8, 9, 11, 11, 19, 14, 13, 2, 4, 7, 12, 2, 13, 1, 2, 3, 4, 5, 6, 7, 8, 9, 10, 11, 12, 19, 12, 12, 7, 10, 1, 10, 17, 19, 17, 17, 1, 2, 3, 4, 5, 8, 10, 11, 14, 1, 4, 7, 9, 14, 10, 15, 16, 1, 3, 7, 9, 14, 1, 2, 4, 8, 12, 2, 4, 5, 7, 8, 11, 13, 2, 11, 1, 2, 3, 4, 5, 6, 7, 8, 10, 11, 14, 1, 2, 3, 4, 5, 8, 9, 10, 11, 13, 1, 2, 3, 4, 5, 6, 7, 8, 9, 10, 11, 13, 1, 2, 4, 5, 7, 8, 10, 11, 20, 1, 2, 3, 5, 6, 8, 9, 10, 11, 13, 14, 20, 8, 1, 2, 3, 4, 5, 7, 8, 10, 11, 15, 19, 1, 2, 4, 8, 1, 12, 18, 11, 5, 2, 3, 5, 6, 7, 10, 19, 6, 10, 14, 1, 2, 3, 4, 5, 7, 8, 9, 10, 11, 13, 11, 9, 9, 1, 2, 3, 4, 5, 6, 7, 8, 9, 11, 14, 6, 16, 8, 12, 20, 8, 14, 4, 6, 7, 8, 12, 13, 6, 8, 18, 1, 2, 4, 5, 8, 9, 11, 13, 18, 6, 9, 11, 18, 9, 18, 20, 4, 8, 9, 12, 5, 1, 4, 6, 7, 9, 12, 1, 2, 3, 5, 8, 11, 1, 4, 2, 19, 13, 1, 2, 3, 4, 5, 6, 7, 8, 10, 11, 2, 4, 2, 2, 11, 12, 4, 7, 11, 7, 10, 8, 12, 12, 1, 9, 3, 5, 20, 1, 2, 5, 7, 13, 5, 1, 2, 5, 7, 8, 9, 12, 5, 13, 6, 10, 8, 12, 1, 4, 8, 1, 14, 8, 16, 15, 19, 5, 3, 2, 1, 2, 3, 4, 5, 6, 8, 10, 11, 4, 12, 14, 4, 8, 11, 1, 2, 3, 4, 5, 7, 8, 11, 13, 14, 18, 1, 2, 3, 4, 6, 7, 8, 10, 11, 12, 6, 12, 4, 6, 7, 9, 10, 12, 19, 4, 7, 4, 17, 17, 7, 1, 2, 3, 5, 7, 8, 9, 11, 13, 14, 1, 2, 4, 5, 8, 11, 1, 3, 4, 5, 6, 9, 10, 12, 14, 1, 3, 5, 6, 6, 3, 9, 17, 7, 14, 15, 15, 5, 3, 7, 9, 13, 16, 3, 1, 2, 3, 4, 5, 6, 7, 9, 10, 1, 7, 18, 4, 4, 17, 17, 4, 10, 19, 1, 10, 19, 1, 2, 3, 5, 8, 12, 14, 1, 2, 3, 5, 6, 7, 9, 10, 11, 12, 20, 6, 11, 19, 12, 12, 12, 13, 18, 8, 11, 14, 14, 3, 13, 20, 12, 1, 2, 11, 1, 15, 17, 4, 17, 2, 3, 5, 7, 12, 14, 17, 6, 1, 2, 3, 4, 5, 6, 7, 8, 9, 11, 15, 16, 11, 14, 3, 7, 8, 11, 18, 18, 17, 3, 6, 8, 9, 10, 14, 4, 8, 15, 1, 2, 3, 4, 6, 7, 8, 9, 11, 20, 1, 2, 3, 4, 7, 8, 1, 2, 3, 4, 6, 7, 8, 9, 10, 12, 13, 17, 9, 6, 15, 10, 15, 2, 3, 5, 6, 7, 11, 12, 20, 1, 1, 3, 8, 11, 13, 14, 19, 16, 5, 2, 13, 14, 5, 19, 19, 19, 19, 11, 10, 12, 3, 6, 1, 3, 7, 13, 12, 2, 16, 1, 5, 7, 10, 13, 4, 8, 10, 11, 2, 10, 19, 10, 10, 10, 1, 2, 3, 4, 5, 6, 8, 12, 15, 15, 1, 2, 3, 4, 5, 6, 7, 8, 9, 10, 13, 6, 1, 3, 10, 13, 4, 7, 9, 17, 17, 8, 4, 9, 11, 3, 5, 5, 19, 1, 2, 3, 6, 10, 14, 1, 3, 4, 6, 8, 3, 1, 2, 4, 5, 7, 8, 9, 10, 11, 12, 13, 14, 8, 8, 9, 11, 3, 4, 6, 7, 9, 10, 11, 12, 1, 2, 3, 5, 9, 2, 5, 6, 7, 8, 11, 3, 5, 3, 15, 4, 7, 1, 7, 9, 7, 12, 13, 12, 13, 1, 2, 3, 4, 5, 8, 9, 6, 3, 9, 12, 3, 5, 6, 9, 12, 15, 9, 1, 2, 3, 6, 12, 13, 12, 4, 5, 7, 9, 11, 14, 1, 3, 4, 8, 9, 1, 3, 4, 6, 7, 9, 6, 10, 17, 1, 2, 11, 5, 19, 10, 1, 2, 3, 4, 5, 7, 8, 9, 6, 16, 4, 4, 13, 2, 4, 7, 8, 9, 10, 12, 13, 10, 4, 1, 2, 5, 6, 7, 9, 10, 13, 2, 5, 7, 9, 1, 2, 3, 6, 7, 8, 9, 14, 1, 16, 11, 1, 2, 3, 4, 5, 8, 2, 11, 1, 2, 3, 4, 5, 8, 1, 19, 20, 7, 1, 4, 8, 1, 8, 16, 7, 13, 17, 7, 4, 5, 7, 9, 15, 18, 14, 3, 6, 7, 1, 4, 6, 7, 8, 9, 12, 18, 1, 18, 6, 8, 8, 16, 14, 2, 2, 14, 14, 1, 2, 1, 2, 3, 4, 5, 7, 8, 9, 10, 11, 1, 3, 4, 7, 9, 3, 9, 16, 6, 4, 7, 12, 13, 20, 3, 6, 19, 1, 2, 1, 2, 3, 5, 6, 13, 19, 9, 11, 12, 8, 7, 9, 14, 1, 2, 4, 5, 8, 9, 10, 11, 7, 5, 6, 9, 14, 8, 13, 13, 20, 16, 8, 12, 12, 17, 1, 2, 5, 7, 8, 9, 11, 3, 7, 1, 12, 1, 7, 13, 20, 10, 10, 2, 3, 5, 20, 8, 5, 10, 19, 15, 19, 1, 2, 3, 4, 5, 7, 8, 9, 10, 11, 13, 1, 4, 7, 14, 9, 11, 3, 7, 11, 15, 5, 7, 8, 7, 16, 15, 1, 2, 3, 4, 5, 7, 14, 20, 3, 5, 9, 10, 13, 14, 17, 9, 9, 9, 2, 3, 4, 5, 6, 7, 8, 10, 12, 6, 1, 4, 5, 8, 13, 2, 4, 8, 11, 3, 3, 2, 4, 5, 6, 7, 8, 9, 11, 12, 14, 7, 10, 18, 3, 4, 7, 8, 11, 17, 3, 5, 6, 14, 12, 1, 2, 3, 4, 5, 8, 10, 11, 14, 15, 2, 3, 5, 12, 13, 5, 5, 1, 2, 3, 4, 5, 7, 8, 9, 10, 11, 12, 1, 11, 16, 5, 1, 3, 10, 12, 14, 1, 4, 6, 9, 12, 3, 5, 6, 12, 13, 4, 11, 17, 1, 2, 3, 5, 9, 11, 4, 1, 2, 3, 5, 7, 8, 9, 11, 12, 14, 1, 3, 4, 5, 6, 7, 8, 11, 12, 13, 4, 11, 12, 3, 6, 12, 12, 15, 16, 20, 7, 8, 6, 7, 10, 11, 19, 15, 10, 2, 3, 4, 6, 10, 11, 1, 2, 3, 4, 6, 7, 8, 9, 12, 4, 5, 7, 9, 12, 5, 7, 11, 12, 14, 15, 2, 16, 2, 6, 15, 15, 1, 2, 3, 4, 5, 6, 8, 9, 10, 11, 13, 19, 9, 3, 7, 13, 3, 4, 3, 1, 4, 12, 18, 1, 4, 8, 9, 12, 18, 1, 18, 15, 20, 18, 1, 7, 11, 4, 5, 9, 11, 13, 1, 2, 3, 4, 5, 6, 9, 12, 1, 2, 3, 5, 7, 8, 9, 11, 1, 2, 3, 7, 12, 13, 6, 11, 15, 11, 9, 2, 5, 6, 11, 20, 6, 17, 13, 2, 18, 13, 18, 8, 17, 19, 1, 2, 3, 5, 6, 7, 9, 12, 1, 2, 3, 4, 5, 7, 8, 9, 10, 11, 6, 14, 10, 3, 5, 11, 13, 17, 20, 18, 9, 15, 7, 10, 12, 10, 1, 3, 5, 6, 7, 12, 5, 6, 7, 12, 5, 7, 11, 13, 12, 13, 8, 1, 3, 4, 4, 4, 7, 1, 2, 3, 5, 6, 8, 12, 13, 18, 8, 1, 2, 3, 5, 8, 10, 4, 1, 2, 4, 18, 16, 1, 2, 5, 8, 14, 1, 2, 3, 5, 8, 9, 11, 1, 2, 4, 5, 8, 9, 10, 11, 1, 3, 4, 5, 6, 7, 8, 10, 11, 12, 19, 15, 1, 2, 3, 4, 5, 6, 7, 8, 9, 10, 11, 12, 13, 19, 1, 2, 3, 4, 5, 6, 7, 8, 9, 10, 11, 12, 13, 13, 1, 2, 3, 4, 5, 6, 8, 9, 10, 13, 2, 2, 2, 12, 1, 2, 4, 5, 7, 8, 9, 11, 1, 2, 4, 8, 10, 11, 3, 4, 10, 4, 16, 4, 10, 11, 2, 6, 2, 4, 9, 18, 18, 4, 20, 14, 20, 1, 2, 3, 4, 5, 8, 10, 18, 1, 4, 8, 13, 16, 16, 11, 4, 11, 4, 11, 13, 20, 4, 7, 9, 12, 3, 4, 6, 9, 11, 12, 15, 3, 5, 6, 19, 5, 1, 2, 3, 4, 5, 6, 7, 8, 9, 13, 14, 1, 3, 6, 3, 5, 6, 7, 1, 2, 3, 4, 5, 6, 7, 9, 13, 6, 15, 1, 3, 5, 20, 3, 6, 20, 13, 12, 1, 2, 3, 5, 6, 8, 11, 3, 3, 5, 11, 11, 17, 4, 4, 1, 5, 6, 15, 18, 13, 20, 15, 1, 2, 3, 4, 5, 6, 8, 9, 11, 13, 4, 6, 9, 10, 12, 4, 8, 9, 11, 13, 16, 16, 4, 7, 9, 14, 17, 4, 7, 9, 17, 2, 4, 6, 9, 11, 15, 1, 2, 3, 4, 5, 6, 7, 8, 9, 10, 11, 2, 4, 8, 10, 11, 2, 1, 2, 3, 4, 5, 8, 9, 3, 3, 3, 11, 3, 5, 6, 11, 5, 11, 14, 15, 1, 10, 10, 13, 14, 14, 13, 16, 7, 13, 2, 4, 11, 1, 3, 4, 5, 6, 8, 12, 1, 2, 3, 4, 5, 6, 7, 8, 9, 11, 12, 13, 1, 2, 3, 4, 5, 6, 8, 10, 11, 12, 8, 1, 2, 3, 4, 5, 7, 8, 9, 10, 11, 12, 1, 2, 3, 4, 5, 8, 15, 3, 3, 17, 19, 2, 3, 4, 5, 7, 9, 10, 11, 12, 19, 1, 2, 4, 7, 8, 9, 10, 11, 12, 13, 19, 20, 3, 5, 10, 11, 17, 16], \"Freq\": [0.9849778413772583, 0.9777319431304932, 0.00769867654889822, 0.00769867654889822, 0.9817366003990173, 0.0034927360247820616, 0.09605024009943008, 0.2060714215040207, 0.40865010023117065, 0.26894065737724304, 0.01746368035674095, 0.961161196231842, 0.9813510775566101, 0.9819867610931396, 0.9880180358886719, 0.9849239587783813, 0.03818746283650398, 0.19704730808734894, 0.0015274985926225781, 0.13900236785411835, 0.5193495154380798, 0.029022471979260445, 0.03360496833920479, 0.03818746283650398, 0.0030549971852451563, 0.025993427261710167, 0.9617568254470825, 0.008664475753903389, 0.9243943691253662, 0.39567849040031433, 0.5780346393585205, 0.024084776639938354, 0.9779486060142517, 0.03738661855459213, 0.029909294098615646, 0.1296069473028183, 0.7726567983627319, 0.027416853234171867, 0.9943143725395203, 0.9757943153381348, 0.9805624485015869, 0.995375394821167, 0.8575713038444519, 0.018778933212161064, 0.11267360299825668, 0.8334403038024902, 0.08194496482610703, 0.019986577332019806, 0.003997315652668476, 0.057961076498031616, 0.9951390027999878, 0.9214085340499878, 0.26973941922187805, 0.7247215509414673, 0.974590539932251, 0.9710326790809631, 0.1610509753227234, 0.2516244649887085, 0.14463452994823456, 0.07642138004302979, 0.1044425517320633, 0.08321439474821091, 0.037644606083631516, 0.07811963558197021, 0.018963823094964027, 0.005660843104124069, 0.005660843104124069, 0.0294363833963871, 0.0014152107760310173, 0.0016982528613880277, 0.9861178398132324, 0.7290024161338806, 0.26760849356651306, 0.038534410297870636, 0.2814687192440033, 0.051937684416770935, 0.1072261855006218, 0.40377360582351685, 0.09717372804880142, 0.0201049093157053, 0.9832078814506531, 0.9644534587860107, 0.9843974709510803, 0.0787331759929657, 0.9054315090179443, 0.9757264256477356, 0.9373987913131714, 0.033625971525907516, 0.050438959151506424, 0.22697532176971436, 0.6809259653091431, 0.290629506111145, 0.6595054268836975, 0.04750674590468407, 0.7598111629486084, 0.003542243270203471, 0.11158066242933273, 0.0017711216351017356, 0.05313364788889885, 0.04959140717983246, 0.012397851794958115, 0.008855608291924, 0.2954322397708893, 0.015150371938943863, 0.07196426391601562, 0.5984396934509277, 0.018937963992357254, 0.9798217415809631, 0.10181809961795807, 0.08085554838180542, 0.5420316457748413, 0.023957200348377228, 0.01796790026128292, 0.23358270525932312, 0.2395855188369751, 0.3284270465373993, 0.08253663778305054, 0.005158539861440659, 0.33129289746284485, 0.01260976493358612, 0.9902905225753784, 0.28326091170310974, 0.17535199224948883, 0.013488614931702614, 0.030349383130669594, 0.04046584293246269, 0.45524075627326965, 0.09702000766992569, 0.8704850673675537, 0.029645001515746117, 0.011413122527301311, 0.8198426365852356, 0.026630619540810585, 0.011413122527301311, 0.10842466354370117, 0.007608748506754637, 0.015217497013509274, 0.016049282625317574, 0.08024641871452332, 0.02674880623817444, 0.39053255319595337, 0.15157656371593475, 0.055280864238739014, 0.2781875729560852, 0.9952883720397949, 0.9705711603164673, 0.9916060566902161, 0.288433313369751, 0.6858303546905518, 0.022433703765273094, 0.9932301044464111, 0.9954901337623596, 0.9852005839347839, 0.9897903203964233, 0.006921610329300165, 0.9323384761810303, 0.0601508691906929, 0.9950761198997498, 0.998598039150238, 0.9980742931365967, 0.1272735595703125, 0.5768513679504395, 0.06592587381601334, 0.007325096987187862, 0.03754112124443054, 0.011903282254934311, 0.028384750708937645, 0.011903282254934311, 0.021059652790427208, 0.0686727836728096, 0.010987645015120506, 0.023806564509868622, 0.006409459747374058, 0.14410704374313354, 0.061760157346725464, 0.7822953462600708, 0.97947758436203, 0.2686339020729065, 0.07284986972808838, 0.004553116858005524, 0.14114663004875183, 0.006070822477340698, 0.4249575734138489, 0.03642493486404419, 0.04401346296072006, 0.05666905269026756, 0.2172313779592514, 0.6753062605857849, 0.04722421243786812, 0.9190346598625183, 0.9838556051254272, 0.7985622882843018, 0.07209242880344391, 0.06654685735702515, 0.02495507150888443, 0.005545571446418762, 0.030500642955303192, 0.9891312718391418, 0.9872797131538391, 0.9768814444541931, 0.9850373268127441, 0.9923564791679382, 0.9653815031051636, 0.9947454333305359, 0.9957956075668335, 0.9953292608261108, 0.0142606096342206, 0.9697214365005493, 0.9833861589431763, 0.9588870406150818, 0.12186210602521896, 0.050178512930870056, 0.8243613243103027, 0.9708287715911865, 0.9783785939216614, 0.42340245842933655, 0.1104528158903122, 0.460220068693161, 0.9844582080841064, 0.04338372126221657, 0.4685441851615906, 0.04844515770673752, 0.3253779113292694, 0.05856802314519882, 0.017353488132357597, 0.03904534876346588, 0.9628258347511292, 0.9940290451049805, 0.9895433187484741, 0.98541659116745, 0.9842270016670227, 0.987165629863739, 0.09367995709180832, 0.6577250361442566, 0.027514394372701645, 0.012446987442672253, 0.053718578070402145, 0.01834292896091938, 0.021618451923131943, 0.02096334844827652, 0.04127158969640732, 0.05044305697083473, 0.0019653139170259237, 0.29041677713394165, 0.6776391267776489, 0.962334394454956, 0.9934940934181213, 0.47029680013656616, 0.050388939678668976, 0.025194469839334488, 0.06718525290489197, 0.3863152265548706, 0.9928781986236572, 0.04758631810545921, 0.20394136011600494, 0.7477850317955017, 0.9762219786643982, 0.22001442313194275, 0.23223744332790375, 0.13852760195732117, 0.13037891685962677, 0.12223023176193237, 0.15482495725154877, 0.8837880492210388, 0.11110478639602661, 0.9911978840827942, 0.9662702679634094, 0.9894081950187683, 0.9909631609916687, 0.4604870676994324, 0.5383635759353638, 0.669444739818573, 0.10477082431316376, 0.006122970022261143, 0.012245940044522285, 0.19321373105049133, 0.012926270253956318, 0.9724180698394775, 0.23856286704540253, 0.290467768907547, 0.10181344300508499, 0.18166711926460266, 0.01896524988114834, 0.020961591973900795, 0.1477293074131012, 0.3674238920211792, 0.4740424156188965, 0.05002869665622711, 0.04674812778830528, 0.04510784149169922, 0.016402851790189743, 0.976482629776001, 0.9978362321853638, 0.9889075756072998, 0.9974139332771301, 0.9595373868942261, 0.9892929792404175, 0.11879782378673553, 0.00950382649898529, 0.023759566247463226, 0.710411012172699, 0.1354295164346695, 0.9932907223701477, 0.9808358550071716, 0.018718240782618523, 0.01035623624920845, 0.2977418005466461, 0.08026083558797836, 0.21748097240924835, 0.007767177652567625, 0.007767177652567625, 0.01035623624920845, 0.012945295311510563, 0.11391860246658325, 0.20971378684043884, 0.03365777060389519, 0.9946398138999939, 0.005003560800105333, 0.8180822134017944, 0.022516023367643356, 0.022516023367643356, 0.1300925761461258, 0.8835054039955139, 0.10394181311130524, 0.959039032459259, 0.9237229824066162, 0.06927922368049622, 0.963100790977478, 0.08197739720344543, 0.05794953927397728, 0.0070670172572135925, 0.10317844897508621, 0.04522890970110893, 0.41978082060813904, 0.2671332359313965, 0.0070670172572135925, 0.011307227425277233, 0.06462819129228592, 0.04225689545273781, 0.5145398378372192, 0.29828396439552307, 0.07457099109888077, 0.9834772348403931, 0.022237084805965424, 0.8783648014068604, 0.04447416961193085, 0.05559270828962326, 0.9764456152915955, 0.9828207492828369, 0.9766659736633301, 0.9872097373008728, 0.9788025617599487, 0.9705281853675842, 0.9927046298980713, 0.9826475381851196, 0.13967935740947723, 0.15555201470851898, 0.04761796444654465, 0.03809437155723572, 0.4571324586868286, 0.10475952178239822, 0.05714155733585358, 0.005131930578500032, 0.1385621279478073, 0.2591624855995178, 0.028225617483258247, 0.3002179265022278, 0.06671509891748428, 0.20014528930187225, 0.9891565442085266, 0.03528127446770668, 0.9596506953239441, 0.9851025938987732, 0.993966281414032, 0.6716720461845398, 0.32398298382759094, 0.9931257367134094, 0.9898030757904053, 0.1508433222770691, 0.1571946144104004, 0.01587824523448944, 0.09526946395635605, 0.13496507704257965, 0.0015878244303166866, 0.07145210355520248, 0.3620239794254303, 0.00793912261724472, 0.9886417388916016, 0.9819384813308716, 0.9845128655433655, 0.9806296229362488, 0.9671478867530823, 0.24864459037780762, 0.5525435209274292, 0.19339023530483246, 0.9991160035133362, 0.9336381554603577, 0.9151849746704102, 0.04340798407793045, 0.036173321306705475, 0.04677611216902733, 0.10524625331163406, 0.23777857422828674, 0.24167658388614655, 0.019490046426653862, 0.058470141142606735, 0.019490046426653862, 0.26506462693214417, 0.9911972284317017, 0.00663008214905858, 0.1042516678571701, 0.3822561204433441, 0.486507773399353, 0.9595744013786316, 0.9949324131011963, 0.4860951006412506, 0.24907352030277252, 0.03012986108660698, 0.10846750438213348, 0.010043286718428135, 0.014060601592063904, 0.1004328727722168, 0.23605161905288696, 0.019670968875288963, 0.7278258204460144, 0.20123954117298126, 0.7881882190704346, 0.009637639857828617, 0.10023146122694016, 0.16576741635799408, 0.005782584194093943, 0.12528932094573975, 0.13685448467731476, 0.45296910405158997, 0.9923017621040344, 0.9486100673675537, 0.812300443649292, 0.09870992600917816, 0.0390726774930954, 0.04935496300458908, 0.9414334893226624, 0.13412044942378998, 0.06035420298576355, 0.7980166673660278, 0.9925031065940857, 0.9836205244064331, 0.9377325177192688, 0.11569660156965256, 0.8831506967544556, 0.5578863620758057, 0.18031133711338043, 0.13870102167129517, 0.1217486783862114, 0.1248248741030693, 0.8581709861755371, 0.34276896715164185, 0.6560811996459961, 0.9981062412261963, 0.9866636395454407, 0.012719420716166496, 0.013267645612359047, 0.986228346824646, 0.9985732436180115, 0.9986677169799805, 0.9928696155548096, 0.9784430265426636, 0.956301748752594, 0.9727108478546143, 0.9698255062103271, 0.9960598349571228, 0.9920386075973511, 0.37197259068489075, 0.3758881092071533, 0.11746503412723541, 0.12921153008937836, 0.10060996562242508, 0.03201226145029068, 0.006859770510345697, 0.0022865901701152325, 0.18978698551654816, 0.32698237895965576, 0.3224092125892639, 0.01829272136092186, 0.7872118949890137, 0.16759994626045227, 0.040630292147397995, 0.6891179084777832, 0.3062746226787567, 0.7964280247688293, 0.1621968299150467, 0.03950948640704155, 0.024736827239394188, 0.96473628282547, 0.9669340252876282, 0.9819072484970093, 0.9942948818206787, 0.9923125505447388, 0.9598914384841919, 0.983482301235199, 0.9958943128585815, 0.9969192147254944, 0.9890766739845276, 0.9830870032310486, 0.980578601360321, 0.9852809309959412, 0.041106197983026505, 0.7536136507987976, 0.04359748214483261, 0.12830115854740143, 0.03114105947315693, 0.015046441927552223, 0.7339319586753845, 0.2373994141817093, 0.013374614529311657, 0.057629283517599106, 0.057629283517599106, 0.023051714524626732, 0.3573015630245209, 0.46679720282554626, 0.03457757085561752, 0.37949591875076294, 0.27511245012283325, 0.02211514674127102, 0.0398072674870491, 0.006192241329699755, 0.12826785445213318, 0.029191995039582253, 0.006192241329699755, 0.10969113558530807, 0.0026538176462054253, 0.291799396276474, 0.014589970000088215, 0.2297920286655426, 0.4595840573310852, 0.1309632658958435, 0.8439854383468628, 0.01940196380019188, 0.42952489852905273, 0.5676937103271484, 0.39966994524002075, 0.0710524320602417, 0.0917760580778122, 0.34934112429618835, 0.08881554007530212, 0.982589840888977, 0.9857751131057739, 0.002548032207414508, 0.41150718927383423, 0.46374186873435974, 0.12230554968118668, 0.8417375683784485, 0.14197982847690582, 0.9523815512657166, 0.9901306629180908, 0.9830943942070007, 0.9595135450363159, 0.07096659392118454, 0.9150955677032471, 0.011205252259969711, 0.9701843857765198, 0.9917131066322327, 0.9650367498397827, 0.9929126501083374, 0.095178984105587, 0.08445458859205246, 0.15818478167057037, 0.13271436095237732, 0.12064941227436066, 0.3069857358932495, 0.013405490666627884, 0.07641129195690155, 0.009383843280375004, 0.9978002905845642, 0.14483420550823212, 0.848314642906189, 0.9905317425727844, 0.11753697693347931, 0.8731318712234497, 0.1733468919992447, 0.7800610065460205, 0.14305084943771362, 0.00550195574760437, 0.07702738046646118, 0.30260756611824036, 0.04401564598083496, 0.4236505925655365, 0.9791975617408752, 0.3013877868652344, 0.36166536808013916, 0.31645718216896057, 0.3754327595233917, 0.3496930003166199, 0.02978457696735859, 0.023165781050920486, 0.09891421347856522, 0.0400804802775383, 0.021327227354049683, 0.010663613677024841, 0.0018385541625320911, 0.04890554025769234, 0.08815278857946396, 0.030157534405589104, 0.011599051766097546, 0.5660337209701538, 0.2830168604850769, 0.018558481708168983, 0.08508074283599854, 0.7255496978759766, 0.004726707935333252, 0.007090061902999878, 0.030723601579666138, 0.018906831741333008, 0.06853726506233215, 0.04017701745033264, 0.014180123805999756, 0.9758715629577637, 0.03362767770886421, 0.24884481728076935, 0.689367413520813, 0.023539375513792038, 0.024267036467790604, 0.1594690978527069, 0.15253564715385437, 0.045067351311445236, 0.09360142052173615, 0.5269413590431213, 0.9758762717247009, 0.5084864497184753, 0.48673301935195923, 0.9351035356521606, 0.06060856208205223, 0.858759880065918, 0.11175642162561417, 0.029409583657979965, 0.9920370578765869, 0.9931055307388306, 0.980953574180603, 0.9876108169555664, 0.11645258218050003, 0.14780519902706146, 0.2821735441684723, 0.038817524909973145, 0.06569119542837143, 0.05524032562971115, 0.01194385439157486, 0.04180349037051201, 0.002985963597893715, 0.1627350151538849, 0.050761379301548004, 0.022394726052880287, 0.9922491312026978, 0.9752461314201355, 0.9913179874420166, 0.9399819374084473, 0.20290295779705048, 0.05202639847993851, 0.17168711125850677, 0.17688976228237152, 0.36418479681015015, 0.026013199239969254, 0.08541520684957504, 0.8968596458435059, 0.3578084409236908, 0.1611616611480713, 0.15155109763145447, 0.19738607108592987, 0.12198015302419662, 0.008871283382177353, 0.18329931795597076, 0.8095720410346985, 0.9747037291526794, 0.10660872608423233, 0.883329451084137, 0.11254360526800156, 0.11254360526800156, 0.7596693634986877, 0.9712589979171753, 0.6281958222389221, 0.3428797721862793, 0.025027722120285034, 0.9872875213623047, 0.9703810214996338, 0.9832160472869873, 0.0032135783694684505, 0.3856293857097626, 0.03213578462600708, 0.15103818476200104, 0.25387269258499146, 0.07391230016946793, 0.0032135783694684505, 0.0032135783694684505, 0.09319376945495605, 0.9860979318618774, 0.9798681735992432, 0.9238877296447754, 0.023389562964439392, 0.023389562964439392, 0.023389562964439392, 0.9859734177589417, 0.981893002986908, 0.1778630018234253, 0.8003835082054138, 0.032265327870845795, 0.1387409120798111, 0.04194492846727371, 0.025812262669205666, 0.25812262296676636, 0.08066332340240479, 0.17423278093338013, 0.24844303727149963, 0.9850314855575562, 0.9862785339355469, 0.99317866563797, 0.951134443283081, 0.048158708959817886, 0.9895184636116028, 0.9884201884269714, 0.9912136793136597, 0.546879231929779, 0.18166230618953705, 0.12489283084869385, 0.004730788990855217, 0.08136957138776779, 0.018923155963420868, 0.03879247233271599, 0.0018923156894743443, 0.9859619140625, 0.9984617233276367, 0.9625847339630127, 0.041598595678806305, 0.005942656192928553, 0.944882333278656, 0.9816998243331909, 0.030629651620984077, 0.9678969979286194, 0.9460861682891846, 0.05226995423436165, 0.9223691821098328, 0.06913220882415771, 0.005457805935293436, 0.9936647415161133, 0.20302768051624298, 0.016242215409874916, 0.11369550228118896, 0.6415674686431885, 0.0243633221834898, 0.9565677642822266, 0.9931401610374451, 0.3909420967102051, 0.6024353504180908, 0.003204443259164691, 0.15578332543373108, 0.30533531308174133, 0.5358946323394775, 0.034818850457668304, 0.9610003232955933, 0.9778108596801758, 0.01543954573571682, 0.9726913571357727, 0.9857426285743713, 0.9158908724784851, 0.08801133185625076, 0.907774031162262, 0.00335281272418797, 0.22364553809165955, 0.7315073013305664, 0.041933540254831314, 0.12226580083370209, 0.8505446910858154, 0.02392156980931759, 0.9969604015350342, 0.8438603281974792, 0.15394748747348785, 0.0865517184138298, 0.1548820286989212, 0.6286388039588928, 0.1275499016046524, 0.11838703602552414, 0.8771402835845947, 0.9783902168273926, 0.9595744013786316, 0.11348237097263336, 0.20426827669143677, 0.6643877029418945, 0.014443211257457733, 0.06443613767623901, 0.11276324093341827, 0.821560800075531, 0.9732509851455688, 0.9963087439537048, 0.04224831610918045, 0.9505870938301086, 0.08328824490308762, 0.23598335683345795, 0.06246618181467056, 0.05552549660205841, 0.027762748301029205, 0.11799167841672897, 0.04858480766415596, 0.3609157204627991, 0.03427910804748535, 0.9426754117012024, 0.9920911192893982, 0.9677016139030457, 0.0202034842222929, 0.9697672128677368, 0.05996556207537651, 0.7281532883644104, 0.18846319615840912, 0.02569952793419361, 0.28374841809272766, 0.2673540413379669, 0.4476919174194336, 0.0012611040147021413, 0.9950416088104248, 0.9990825057029724, 0.043559521436691284, 0.010889880359172821, 0.0054449401795864105, 0.03266964107751846, 0.6370579600334167, 0.2668020725250244, 0.8426112532615662, 0.15417993068695068, 0.9201660752296448, 0.03380201756954193, 0.04131357744336128, 0.41309085488319397, 0.5100963711738586, 0.03596833348274231, 0.0076296464540064335, 0.0021798990201205015, 0.017439192160964012, 0.004359798040241003, 0.0076296464540064335, 0.9840608239173889, 0.012000742368400097, 0.9644277691841125, 0.018514320254325867, 0.015148079954087734, 0.9959499835968018, 0.9749219417572021, 0.9676917195320129, 0.9942723512649536, 0.9906529188156128, 0.9864627122879028, 0.9962021112442017, 0.5001825094223022, 0.29478752613067627, 0.007899806834757328, 0.06319845467805862, 0.03035189025104046, 0.004157793242484331, 0.00956292450428009, 0.045319944620132446, 0.002910455223172903, 0.04199371114373207, 0.31302329897880554, 0.014228330925107002, 0.07114166021347046, 0.14228332042694092, 0.2703382968902588, 0.18496830761432648, 0.8837048411369324, 0.1158703863620758, 0.6346991062164307, 0.036708343774080276, 0.209592804312706, 0.014209682121872902, 0.03789248317480087, 0.0296035036444664, 0.036708343774080276, 0.0721539631485939, 0.08417962491512299, 0.3206842839717865, 0.15232503414154053, 0.12025660276412964, 0.024051319807767868, 0.2284875512123108, 0.8818936944007874, 0.06559540331363678, 0.04615972563624382, 0.0024294592440128326, 0.8554573655128479, 0.1409742534160614, 0.9396068453788757, 0.003788737114518881, 0.015154948458075523, 0.03788737207651138, 0.9880127906799316, 0.973995566368103, 0.9731083512306213, 0.022337835282087326, 0.9158512949943542, 0.055844590067863464, 0.5302082300186157, 0.08791017532348633, 0.20878665149211884, 0.04944946989417076, 0.0979832112789154, 0.00915730930864811, 0.016483157873153687, 0.09706656634807587, 0.9006874561309814, 0.9549382328987122, 0.9765357375144958, 0.013562996871769428, 0.743059515953064, 0.25542670488357544, 0.9723553657531738, 0.9687681198120117, 0.02348528802394867, 0.5124342441558838, 0.484651654958725, 0.9203978776931763, 0.9816314578056335, 0.012986104004085064, 0.005312497261911631, 0.9985108375549316, 0.4238358736038208, 0.19750891625881195, 0.1518218070268631, 0.017571967095136642, 0.08715695887804031, 0.03022378496825695, 0.02178923971951008, 0.04568711668252945, 0.02460075542330742, 0.4461202621459961, 0.0276902224868536, 0.1138375774025917, 0.06153382733464241, 0.3476661145687103, 0.0062745739705860615, 0.9851081371307373, 0.9451495409011841, 0.04881054162979126, 0.18806566298007965, 0.24877308309078217, 0.07896210253238678, 0.06070742383599281, 0.019952790811657906, 0.005094329360872507, 0.05688667669892311, 0.054339513182640076, 0.025047119706869125, 0.12608465552330017, 0.0755658820271492, 0.0547640398144722, 0.0012735823402181268, 0.00466980179771781, 0.9765986800193787, 0.8337522745132446, 0.09403221309185028, 0.06268814206123352, 0.9966574311256409, 0.9575870037078857, 0.9960793852806091, 0.9977055191993713, 0.03616117313504219, 0.052232805639505386, 0.13660888373851776, 0.13660888373851776, 0.6348295211791992, 0.9775850772857666, 0.23319251835346222, 0.07537535578012466, 0.2355479896068573, 0.01648836024105549, 0.1648835986852646, 0.13661783933639526, 0.134262353181839, 0.9542715549468994, 0.036702752113342285, 0.8516309857368469, 0.07916569709777832, 0.0671708956360817, 0.9922566413879395, 0.978314995765686, 0.980659008026123, 0.2905971109867096, 0.11777504533529282, 0.16258077323436737, 0.09217177331447601, 0.020482616499066353, 0.26371368765830994, 0.0064008175395429134, 0.007680980954319239, 0.016642125323414803, 0.005120654124766588, 0.015361961908638477, 0.9803963899612427, 0.8184651136398315, 0.009060499258339405, 0.07550416141748428, 0.021141165867447853, 0.07248399406671524, 0.9043159484863281, 0.08179742097854614, 0.009088602848351002, 0.9908328652381897, 0.8293379545211792, 0.1598723828792572, 0.004571061115711927, 0.006856591906398535, 0.014855949208140373, 0.9610656499862671, 0.011427653022110462, 0.051360808312892914, 0.9467508792877197, 0.9896484613418579, 0.9721003770828247, 0.9751268029212952, 0.9547526836395264, 0.9901676177978516, 0.9483471512794495, 0.25099125504493713, 0.016906147822737694, 0.031211350113153458, 0.005201891530305147, 0.3160149157047272, 0.13785012066364288, 0.0013004728825762868, 0.11184067279100418, 0.07282648235559464, 0.048117496073246, 0.00910331029444933, 0.1222328245639801, 0.8730915784835815, 0.02789202518761158, 0.0892544835805893, 0.7809767127037048, 0.016735214740037918, 0.022313620895147324, 0.061362456530332565, 0.9582474827766418, 0.013939961791038513, 0.42516884207725525, 0.13242964446544647, 0.42516884207725525, 0.11707887053489685, 0.09477812796831131, 0.033451106399297714, 0.2787592113018036, 0.47389066219329834, 0.17496316134929657, 0.7104107737541199, 0.01809963770210743, 0.09502309560775757, 0.0015083031030371785, 0.9776392579078674, 0.9748801589012146, 0.9826555848121643, 0.9889370799064636, 0.20935949683189392, 0.007613072637468576, 0.05329150706529617, 0.026645753532648087, 0.6433046460151672, 0.05709804221987724, 0.27373892068862915, 0.43691661953926086, 0.014652690850198269, 0.004662219900637865, 0.16117960214614868, 0.0073263454250991344, 0.10057074576616287, 0.2896135151386261, 0.513978123664856, 0.010684029199182987, 0.04693341255187988, 0.02709164470434189, 0.040065109729766846, 0.032052088528871536, 0.0377756729722023, 0.0019078623736277223, 0.9937593936920166, 0.9932366013526917, 0.28051406145095825, 0.5221757888793945, 0.15929469466209412, 0.038075316697359085, 0.2426154464483261, 0.10215387493371964, 0.07661540806293488, 0.1787692755460739, 0.3703078031539917, 0.9674261212348938, 0.7122658491134644, 0.09436000138521194, 0.1902419477701187, 0.9771407842636108, 0.9715609550476074, 0.96993488073349, 0.024870125576853752, 0.8187776803970337, 0.1798829734325409, 0.12541189789772034, 0.21947081387043, 0.14108838140964508, 0.5016475915908813, 0.05536343529820442, 0.023310920223593712, 0.049535706639289856, 0.3817163109779358, 0.48661544919013977, 0.9678250551223755, 0.3052625358104706, 0.06149173527956009, 0.15372934937477112, 0.0010980666847899556, 0.4062846899032593, 0.0043922667391598225, 0.007686466909945011, 0.02086326852440834, 0.02635360136628151, 0.012078734114766121, 0.12824647128582, 0.03516435623168945, 0.13238345086574554, 0.3102737367153168, 0.04550681263208389, 0.3288901448249817, 0.01861642301082611, 0.11660613864660263, 0.7884796261787415, 0.09439545124769211, 0.4562922716140747, 0.5030210018157959, 0.03848247975111008, 0.9485883712768555, 0.9014275074005127, 0.0936548113822937, 0.2260759472846985, 0.2260759472846985, 0.010173417627811432, 0.5007582306861877, 0.007912658154964447, 0.015825316309928894, 0.011303797364234924, 0.9766829609870911, 0.9906253218650818, 0.9711897969245911, 0.8896219730377197, 0.09884689003229141, 0.8034909963607788, 0.018623964861035347, 0.17559736967086792, 0.10252230614423752, 0.5949400663375854, 0.009320209734141827, 0.020193787291646004, 0.08543525636196136, 0.07611504942178726, 0.11028914898633957, 0.42407676577568054, 0.570576012134552, 0.9934799075126648, 0.1234346404671669, 0.25694558024406433, 0.6196922659873962, 0.9792866706848145, 0.9929649829864502, 0.922077476978302, 0.9898661971092224, 0.2863457500934601, 0.012632899917662144, 0.03368773311376572, 0.14843657612800598, 0.012632899917662144, 0.11895981431007385, 0.014738383702933788, 0.08948304504156113, 0.04526789113879204, 0.053689826279878616, 0.17896609008312225, 0.003158224979415536, 0.2515520453453064, 0.45320945978164673, 0.05197356268763542, 0.054052505642175674, 0.027026252821087837, 0.12265760451555252, 0.04157884791493416, 0.909923255443573, 0.07662511616945267, 0.4510163366794586, 0.09865982085466385, 0.4369220733642578, 0.9660240411758423, 0.9557461142539978, 0.37347063422203064, 0.08892157673835754, 0.5335294604301453, 0.9979003071784973, 0.09397614002227783, 0.9045203328132629, 0.9950446486473083, 0.028783414512872696, 0.949852705001831, 0.9726324081420898, 0.9832566380500793, 0.9890281558036804, 0.9684029221534729, 0.020387429744005203, 0.12478245794773102, 0.03928336501121521, 0.45060330629348755, 0.1617550402879715, 0.03466179221868515, 0.1848628968000412, 0.9888352155685425, 0.44860899448394775, 0.008561240509152412, 0.4674437344074249, 0.04794294387102127, 0.02739596925675869, 0.9390354156494141, 0.9599472880363464, 0.9892479777336121, 0.8630402684211731, 0.10107678174972534, 0.033692263066768646, 0.97394198179245, 0.993765115737915, 0.43509599566459656, 0.5466590523719788, 0.9575139284133911, 0.9622806310653687, 0.9639783501625061, 0.0051910486072301865, 0.05450601130723953, 0.5087227821350098, 0.22451286017894745, 0.20634418725967407, 0.04097321629524231, 0.0019206195138394833, 0.22727331519126892, 0.014084543101489544, 0.06594127416610718, 0.38668474555015564, 0.21254856884479523, 0.012163924053311348, 0.0012804130092263222, 0.036491770297288895, 0.9593819379806519, 0.9582920670509338, 0.026994142681360245, 0.17349672317504883, 0.11153360456228256, 0.1858893483877182, 0.5080975294113159, 0.981906533241272, 0.9832736849784851, 0.9872922897338867, 0.6328968405723572, 0.3639836013317108, 0.9776211380958557, 0.9793378710746765, 0.9912257194519043, 0.9610486030578613, 0.17491315305233002, 0.3875526785850525, 0.013718678615987301, 0.013718678615987301, 0.40470102429389954, 0.010659432969987392, 0.046901505440473557, 0.8911285996437073, 0.017055092379450798, 0.010659432969987392, 0.0021318865474313498, 0.021318865939974785, 0.9894251227378845, 0.9139537811279297, 0.9700062274932861, 0.9832029342651367, 0.989879846572876, 0.9646531343460083, 0.9885227084159851, 0.7832804918289185, 0.2108832150697708, 0.9916921854019165, 0.9209893941879272, 0.06977192312479019, 0.9887644648551941, 0.02202150598168373, 0.9749521613121033, 0.9976246953010559, 0.9861466884613037, 0.430572509765625, 0.040524471551179886, 0.09962265938520432, 0.07767190039157867, 0.006754078436642885, 0.07936042547225952, 0.15534380078315735, 0.10975378006696701, 0.9837532639503479, 0.9533092379570007, 0.9841787815093994, 0.9991118311882019, 0.98843914270401, 0.02660498023033142, 0.3990747034549713, 0.5720070600509644, 0.05231468379497528, 0.2280920147895813, 0.7177574634552002, 0.9946356415748596, 0.008624151349067688, 0.018973132595419884, 0.23112724721431732, 0.401885449886322, 0.025872452184557915, 0.24147622287273407, 0.0017248302465304732, 0.02932211384177208, 0.04139592498540878, 0.994405210018158, 0.9967441558837891, 0.9931379556655884, 0.986055314540863, 0.9091914892196655, 0.9838625192642212, 0.9914690852165222, 0.16534434258937836, 0.826721727848053, 0.9444291591644287, 0.09784842282533646, 0.9002054929733276, 0.9671443104743958, 0.02810967154800892, 0.13430176675319672, 0.024986375123262405, 0.5809332132339478, 0.02810967154800892, 0.19989100098609924, 0.720183789730072, 0.27801212668418884, 0.7735377550125122, 0.06349936872720718, 0.03463601693511009, 0.12699873745441437, 0.9304094910621643, 0.403147429227829, 0.3132876455783844, 0.030405733734369278, 0.00027147974469698966, 0.16017305850982666, 0.02959129400551319, 0.012216589413583279, 0.0507667139172554, 0.9806486368179321, 0.9290555715560913, 0.9670563340187073, 0.9684905409812927, 0.14888161420822144, 0.767915666103363, 0.0078358743339777, 0.07052286714315414, 0.9841167330741882, 0.9643332362174988, 0.06066351756453514, 0.3301224112510681, 0.04443955421447754, 0.0705389752984047, 0.017634743824601173, 0.07970903813838959, 0.004937728401273489, 0.033153317868709564, 0.06630663573741913, 0.16294503211975098, 0.06912819296121597, 0.016929354518651962, 0.04373416304588318, 0.9975008368492126, 0.9897165298461914, 0.9802519083023071, 0.9958476424217224, 0.009611017070710659, 0.9346714019775391, 0.019222034141421318, 0.03363855928182602, 0.9908426403999329, 0.9827544689178467, 0.043845757842063904, 0.4494189918041229, 0.005480719730257988, 0.08769151568412781, 0.041105397045612335, 0.019182518124580383, 0.11783546954393387, 0.1849742829799652, 0.05069665610790253, 0.13659292459487915, 0.07995683699846268, 0.7296060919761658, 0.0499730221927166, 0.0033315347973257303, 0.9828946590423584, 0.9615978002548218, 0.9538236260414124, 0.9814244508743286, 0.11289208382368088, 0.8293226361274719, 0.043420031666755676, 0.00868400651961565, 0.3216785192489624, 0.13460306823253632, 0.1722462922334671, 0.3547589182853699, 0.014829151332378387, 0.406837522983551, 0.02424859255552292, 0.03502574563026428, 0.010777153074741364, 0.1454915553331375, 0.02694288082420826, 0.3475631773471832, 0.9513981938362122, 0.03397850692272186, 0.33227846026420593, 0.4539579153060913, 0.0697316825389862, 0.010997949168086052, 0.09968353807926178, 0.0025739881675690413, 0.0037439828738570213, 0.004211980849504471, 0.00023399892961606383, 0.02222989685833454, 0.00023399892961606383, 0.11646973341703415, 0.1471196711063385, 0.5302438139915466, 0.022476615384221077, 0.03269325941801071, 0.00510832155123353, 0.00510832155123353, 0.06742984801530838, 0.0071516502648591995, 0.0664081797003746, 0.01701170764863491, 0.04063908010721207, 0.2306031435728073, 0.0009450948564335704, 0.0009450948564335704, 0.602970540523529, 0.0009450948564335704, 0.01039604377001524, 0.01701170764863491, 0.039693985134363174, 0.03402341529726982, 0.0037803794257342815, 0.232845276594162, 0.6215466856956482, 0.006572245620191097, 0.03473901376128197, 0.02347230538725853, 0.051639072597026825, 0.005633353255689144, 0.022533413022756577, 0.9667912721633911, 0.25934985280036926, 0.42533376812934875, 0.18673188984394073, 0.013831992633640766, 0.008644995279610157, 0.03457998111844063, 0.006915996316820383, 0.0008644995396025479, 0.04754747450351715, 0.0008644995396025479, 0.006915996316820383, 0.007780495565384626, 0.9952136278152466, 0.07097282260656357, 0.13058999180793762, 0.017033478245139122, 0.14194564521312714, 0.04826151952147484, 0.04258369654417038, 0.05110043287277222, 0.3066025972366333, 0.031228043138980865, 0.053939346224069595, 0.10503978282213211, 0.06642314046621323, 0.2941596210002899, 0.014233529567718506, 0.6215307712554932, 0.990711510181427, 0.9973995685577393, 0.9487363696098328, 0.9862356781959534, 0.9852713346481323, 0.018214860931038857, 0.0681077390909195, 0.29381364583969116, 0.5852513909339905, 0.011087306775152683, 0.014255109243094921, 0.00791950523853302, 0.9797112941741943, 0.015550972893834114, 0.9815258979797363, 0.4941631555557251, 0.2673417925834656, 0.08942443132400513, 0.01676708087325096, 0.06986283510923386, 0.007452036254107952, 0.011178053915500641, 0.03493141755461693, 0.005123274866491556, 0.000931504531763494, 0.0013972567394375801, 0.9924437403678894, 0.9711179733276367, 0.9811331033706665, 0.44409894943237305, 0.15918004512786865, 0.06599060446023941, 0.14045298099517822, 0.009363532066345215, 0.09318944066762924, 0.012930591590702534, 0.04949295520782471, 0.012038826942443848, 0.013376474380493164, 0.0004458824696484953, 0.9880180954933167, 0.9836129546165466, 0.9885780811309814, 0.9954264760017395, 0.9506508111953735, 0.8399196267127991, 0.15092305839061737, 0.2344033420085907, 0.08662731945514679, 0.020382899791002274, 0.17325463891029358, 0.03057434968650341, 0.4535195231437683, 0.029194658622145653, 0.9634237289428711, 0.9762159585952759, 0.7474662661552429, 0.15511146187782288, 0.0012213500449433923, 0.015877550467848778, 0.06351020187139511, 0.0012213500449433923, 0.007328100502490997, 0.007328100502490997, 0.9512819051742554, 0.0267185028642416, 0.18321259319782257, 0.09160629659891129, 0.6946811079978943, 0.38885658979415894, 0.6048880219459534, 0.9185934662818909, 0.05427592992782593, 0.02171037346124649, 0.8249941468238831, 0.09226908534765244, 0.9760450720787048, 0.01898321323096752, 0.5600047707557678, 0.14553797245025635, 0.09491606801748276, 0.158193439245224, 0.01898321323096752, 0.023116551339626312, 0.009631896391510963, 0.19456429779529572, 0.7570670247077942, 0.009631896391510963, 0.005779137834906578, 0.9796841740608215, 0.014096175320446491, 0.9929010272026062, 0.9656251072883606, 0.9804821014404297, 0.5651062726974487, 0.3098236620426178, 0.04166333004832268, 0.024997998028993607, 0.030300604179501534, 0.014392786659300327, 0.0022725453600287437, 0.0045450907200574875, 0.003030060324817896, 0.003030060324817896, 0.9624905586242676, 0.03281217813491821, 0.9696946144104004, 0.8059511184692383, 0.1367674618959427, 0.0537300743162632, 0.41949188709259033, 0.5357640981674194, 0.043317098170518875, 0.9944735169410706, 0.9891294240951538, 0.0923231989145279, 0.9027156829833984, 0.991956889629364, 0.9786847829818726, 0.9548806548118591, 0.30989882349967957, 0.6729891896247864, 0.013876066543161869, 0.08219294250011444, 0.09713711589574814, 0.3511880338191986, 0.06226738169789314, 0.4059833288192749, 0.9963695406913757, 0.1563194990158081, 0.5314863324165344, 0.021391090005636215, 0.003290936816483736, 0.003290936816483736, 0.2698568105697632, 0.013163747265934944, 0.9960252642631531, 0.9870420098304749, 0.9922870397567749, 0.9904201626777649, 0.016623277217149734, 0.9766175746917725, 0.8528425693511963, 0.09700579196214676, 0.04446098580956459, 0.9907068014144897, 0.9858447909355164, 0.9875286221504211, 0.9605895280838013, 0.1015082448720932, 0.8932725191116333, 0.9969077110290527, 0.9970515966415405, 0.9899650812149048, 0.3955385982990265, 0.4738317131996155, 0.023533189669251442, 0.007693542633205652, 0.06969444453716278, 0.018102454021573067, 0.008146104402840137, 0.0013576840283349156, 0.0018102453323081136, 0.9913232922554016, 0.10414773970842361, 0.8748409748077393, 0.8411242365837097, 0.01941055990755558, 0.1358739137649536, 0.5005318522453308, 0.04837072268128395, 0.15843164920806885, 0.060989174991846085, 0.06028814986348152, 0.07290659844875336, 0.08061787486076355, 0.0007010250119492412, 0.01261844951659441, 0.004206149838864803, 0.9888670444488525, 0.11010800302028656, 0.028209488838911057, 0.321224182844162, 0.030029455199837685, 0.20019637048244476, 0.03548935800790787, 0.15742714703083038, 0.03639933839440346, 0.0737086609005928, 0.006369884591549635, 0.008416330441832542, 0.9910228848457336, 0.11553463339805603, 0.04172084107995033, 0.2358832061290741, 0.35623177886009216, 0.057767316699028015, 0.17330195009708405, 0.01925577223300934, 0.06670054793357849, 0.9204674959182739, 0.16179510951042175, 0.8269528150558472, 0.9866353869438171, 0.9805901646614075, 0.23746319115161896, 0.2747788429260254, 0.16848579049110413, 0.22615541517734528, 0.05427730083465576, 0.007915440015494823, 0.019788598641753197, 0.007915440015494823, 0.0022615541238337755, 0.9914751052856445, 0.3169153034687042, 0.43015754222869873, 0.1205744594335556, 0.04073461517691612, 0.0676194578409195, 0.02281138487160206, 0.04140681028366089, 0.01533585600554943, 0.18403026461601257, 0.027604540809988976, 0.5674266815185547, 0.10581740736961365, 0.05520908161997795, 0.001533585600554943, 0.001533585600554943, 0.30688437819480896, 0.017637033015489578, 0.04232887923717499, 0.6278783679008484, 0.9937730431556702, 0.02365844137966633, 0.9699960947036743, 0.9537312984466553, 0.9937515258789062, 0.9749169945716858, 0.9919070601463318, 0.9851711988449097, 0.9833471775054932, 0.011607671156525612, 0.4526991844177246, 0.040626849979162216, 0.4526991844177246, 0.040626849979162216, 0.9963943958282471, 0.09890246391296387, 0.06524815410375595, 0.33104854822158813, 0.09890246391296387, 0.05906675010919571, 0.1098916307091713, 0.10302340239286423, 0.10920480638742447, 0.02403879351913929, 0.9578359127044678, 0.011268657632172108, 0.022537315264344215, 0.9779680371284485, 0.2931402623653412, 0.7009875774383545, 0.959174633026123, 0.2884315848350525, 0.045541830360889435, 0.652766227722168, 0.2648290693759918, 0.2354036271572113, 0.5002326965332031, 0.09575684368610382, 0.07660547643899918, 0.013679549098014832, 0.7332238554954529, 0.027359098196029663, 0.041038647294044495, 0.01094363909214735, 0.007858321070671082, 0.013097202405333519, 0.023574963212013245, 0.0419110469520092, 0.07596377283334732, 0.07072488963603973, 0.40339383482933044, 0.03929160535335541, 0.10739705711603165, 0.17812195420265198, 0.031433284282684326, 0.08113383501768112, 0.054089225828647614, 0.8383830189704895, 0.9965061545372009, 0.9920276403427124, 0.972440779209137, 0.9822819828987122, 0.9717178344726562, 0.9798586964607239, 0.9929705262184143, 0.9848611950874329, 0.9848686456680298, 0.8853799700737, 0.11209746450185776, 0.9372537732124329, 0.9861564636230469, 0.05881737545132637, 0.9018663763999939, 0.03136926516890526, 0.1354207992553711, 0.8576650619506836, 0.9867785573005676, 0.9866889715194702, 0.9776644110679626, 0.020671842619776726, 0.0275624580681324, 0.20671842992305756, 0.0826873704791069, 0.0826873704791069, 0.5719209909439087, 0.9345641732215881, 0.984559178352356, 0.3312426805496216, 0.12773986160755157, 0.11452540010213852, 0.07047716528177261, 0.018500257283449173, 0.100429967045784, 0.07752488553524017, 0.05109594762325287, 0.030833760276436806, 0.025547973811626434, 0.03523858264088631, 0.016738327220082283, 0.07050926238298416, 0.9166203737258911, 0.988723874092102, 0.9830665588378906, 0.040151119232177734, 0.026767412200570107, 0.9100919961929321, 0.9926788210868835, 0.9497482776641846, 0.029167506843805313, 0.14000403881072998, 0.5804333686828613, 0.035001009702682495, 0.15167103707790375, 0.061251766979694366, 0.7930023670196533, 0.2029484659433365, 0.9934067130088806, 0.5598289966583252, 0.05642044544219971, 0.00184230029117316, 0.19413238763809204, 0.010593226179480553, 0.005066325888037682, 0.03085852973163128, 0.0375368669629097, 0.10339910537004471, 0.9386476874351501, 0.7128466963768005, 0.15603788197040558, 0.022995054721832275, 0.07884018868207932, 0.009855023585259914, 0.01971004717051983, 0.04822381213307381, 0.03726385533809662, 0.015343940816819668, 0.12055953592061996, 0.024111906066536903, 0.015343940816819668, 0.015343940816819668, 0.09644762426614761, 0.5786857604980469, 0.004383983090519905, 0.04164784029126167, 0.9517170786857605, 0.973202645778656, 0.4787569046020508, 0.508679211139679, 0.9913576245307922, 0.9795212149620056, 0.08728808909654617, 0.05277884379029274, 0.18269599974155426, 0.23141494393348694, 0.40802106261253357, 0.004059911239892244, 0.004059911239892244, 0.02638942189514637, 0.9910942316055298, 0.10718565434217453, 0.23285159468650818, 0.007392114028334618, 0.014784228056669235, 0.05544085428118706, 0.5802809596061707, 0.9450578093528748, 0.9841330051422119, 0.9853230118751526, 0.9789604544639587, 0.9615060687065125, 0.9772213697433472, 0.19279874861240387, 0.7711949944496155, 0.9811815023422241, 0.9608275294303894, 0.9843592047691345, 0.9888883233070374, 0.9047303795814514, 0.09291825443506241, 0.9918599724769592, 0.9862177968025208, 0.025896355509757996, 0.12948177754878998, 0.18990659713745117, 0.6387767791748047, 0.992145299911499, 0.16504836082458496, 0.797733724117279, 0.09258431941270828, 0.018516862764954567, 0.03030032105743885, 0.8349422216415405, 0.023566916584968567, 0.11397334933280945, 0.005180606618523598, 0.8444388508796692, 0.03626424819231033, 0.030912142246961594, 0.9376682639122009, 0.027477459982037544, 0.9971192479133606, 0.9850447773933411, 0.9885100722312927, 0.2007860392332077, 0.0804431214928627, 0.12356063723564148, 0.0038612699136137962, 0.4002849757671356, 0.17118296027183533, 0.01608862355351448, 0.0038612699136137962, 0.973240077495575, 0.9870206713676453, 0.615213930606842, 0.15451553463935852, 0.0583883598446846, 0.03417855128645897, 0.014953115954995155, 0.002848212607204914, 0.009968744590878487, 0.05269193276762962, 0.011392850428819656, 0.017801329493522644, 0.02705802023410797, 0.9873058199882507, 0.4539521336555481, 0.15458910167217255, 0.3705230951309204, 0.017176566645503044, 0.2603038251399994, 0.4440477192401886, 0.1799158900976181, 0.11101192981004715, 0.9671186804771423, 0.9921392798423767, 0.7610047459602356, 0.06646329909563065, 0.16948141157627106, 0.10378628969192505, 0.893303394317627, 0.9956063628196716, 0.9784706234931946, 0.21916501224040985, 0.08012484759092331, 0.16024969518184662, 0.509028434753418, 0.004713226109743118, 0.02356613054871559, 0.3941831886768341, 0.05551875755190849, 0.014805002138018608, 0.5163244605064392, 0.020356878638267517, 0.9956099390983582, 0.0942869707942009, 0.10984890162944794, 0.08787912130355835, 0.1885739415884018, 0.014646519906818867, 0.028377631679177284, 0.021969780325889587, 0.14829601347446442, 0.012815704569220543, 0.028377631679177284, 0.2590603232383728, 0.004577037412673235, 0.9873863458633423, 0.9875988960266113, 0.9855900406837463, 0.013160698115825653, 0.08973734080791473, 0.14399713277816772, 0.16486628353595734, 0.025042979046702385, 0.38399234414100647, 0.006260744761675596, 0.1460840404033661, 0.037564467638731, 0.27293577790260315, 0.6663886904716492, 0.03012927435338497, 0.028356963768601418, 0.9813942909240723, 0.4060323238372803, 0.4913465082645416, 0.08215440064668655, 0.006319569423794746, 0.00473967706784606, 0.00947935413569212, 0.04857853427529335, 0.9494895935058594, 0.9861525297164917, 0.9810150861740112, 0.9913691878318787, 0.9954429268836975, 0.03744000196456909, 0.7274057269096375, 0.23533715307712555, 0.9833254814147949, 0.969046413898468, 0.01863550767302513, 0.9186436533927917, 0.0656174048781395, 0.24377186596393585, 0.27085763216018677, 0.17033936083316803, 0.021668611094355583, 0.2702557146549225, 0.008426682092249393, 0.013843834400177002, 0.9765146374702454, 0.7468667030334473, 0.09469202905893326, 0.1580423265695572, 0.6131384968757629, 0.09102616459131241, 0.020609697327017784, 0.21124939620494843, 0.058394141495227814, 0.003434949554502964, 0.9681643843650818, 0.031696975231170654, 0.027168836444616318, 0.07697837054729462, 0.28074464201927185, 0.5252641439437866, 0.054337672889232635, 0.9901427030563354, 0.15604233741760254, 0.03695739433169365, 0.6775522828102112, 0.0739147886633873, 0.02053188718855381, 0.03285101801156998, 0.911083996295929, 0.02803335338830948, 0.009344451129436493, 0.05139448121190071, 0.9716017246246338, 0.02552514150738716, 0.11231061816215515, 0.08065944910049438, 0.08168045431375504, 0.5462380051612854, 0.15315084159374237, 0.9815421104431152, 0.9911747574806213, 0.9677018523216248, 0.05931488797068596, 0.909494936466217, 0.02965744398534298, 0.9850737452507019, 0.9610476493835449, 0.988914430141449, 0.7955423593521118, 0.07724574208259583, 0.024860698729753494, 0.009766703471541405, 0.06659115850925446, 0.007103057112544775, 0.009766703471541405, 0.00887882150709629, 0.9829026460647583, 0.9674257636070251, 0.9873611330986023, 0.9847162961959839, 0.9688751101493835, 0.1272590160369873, 0.030954895541071892, 0.061909791082143784, 0.013757731765508652, 0.09286468476057053, 0.11694072186946869, 0.15821391344070435, 0.39553478360176086, 0.9961891174316406, 0.9877781271934509, 0.028425436466932297, 0.07343237847089767, 0.25819772481918335, 0.021319078281521797, 0.002368786372244358, 0.49270758032798767, 0.007106359116733074, 0.11607053130865097, 0.11460833996534348, 0.19931885600090027, 0.004982971586287022, 0.6776841282844543, 0.6214193105697632, 0.17939084768295288, 0.03869214653968811, 0.01993231661617756, 0.059796951711177826, 0.07972926646471024, 0.0011724892538040876, 0.0011724892538040876, 0.9869387149810791, 0.9795597195625305, 0.9881780743598938, 0.3931680917739868, 0.525977373123169, 0.007232189178466797, 0.002629887079820037, 0.02564139850437641, 0.044050607830286026, 0.9588046073913574, 0.029054684564471245, 0.7446576952934265, 0.1584089994430542, 0.029786307364702225, 0.01218530721962452, 0.01218530721962452, 0.04332553595304489, 0.9904204607009888, 0.9723069667816162, 0.9161162376403809, 0.9928062558174133, 0.2084631621837616, 0.257388174533844, 0.5317937731742859, 0.16529212892055511, 0.8264606595039368, 0.973581850528717, 0.14111289381980896, 0.8184547424316406, 0.028222577646374702, 0.9687497019767761, 0.24032753705978394, 0.11158064007759094, 0.021457815542817116, 0.5922356843948364, 0.021457815542817116, 0.01287468895316124, 0.9794461727142334, 0.2777346074581146, 0.6744983792304993, 0.04534442722797394, 0.02601689100265503, 0.09712972491979599, 0.220276340842247, 0.024282431229948997, 0.00867229700088501, 0.10753647983074188, 0.42841148376464844, 0.08498851209878922, 0.9875277876853943, 0.9767380356788635, 0.9729034304618835, 0.9837319850921631, 0.9957912564277649, 0.9918308854103088, 0.9780406951904297, 0.992680549621582, 0.39212650060653687, 0.6012606024742126, 0.9680716395378113, 0.9835281372070312, 0.9948669075965881, 0.38477903604507446, 0.33408352732658386, 0.018757345154881477, 0.07604328542947769, 0.016222568228840828, 0.09480063617229462, 0.009632149711251259, 0.006083462852984667, 0.037007734179496765, 0.022306030616164207, 0.005400525406002998, 0.019801925867795944, 0.6246607303619385, 0.29702889919281006, 0.052205078303813934, 0.9986298680305481, 0.9834946990013123, 0.9577326774597168, 0.9865814447402954, 0.1705610454082489, 0.04449418559670448, 0.7638168931007385, 0.01483139581978321, 0.9226909875869751, 0.990231454372406, 0.9699301719665527, 0.9231970310211182, 0.987128734588623, 0.978667140007019, 0.0028708039317280054, 0.12057376652956009, 0.28133878111839294, 0.13779859244823456, 0.05167447030544281, 0.03732045367360115, 0.3674629032611847, 0.13953402638435364, 0.6670407056808472, 0.19058305025100708, 0.9917975068092346, 0.16222386062145233, 0.3796038329601288, 0.4542268216609955, 0.2008848786354065, 0.14167669415473938, 0.15066365897655487, 0.0010572888422757387, 0.09621328115463257, 0.09727057069540024, 0.02220306545495987, 0.28916847705841064, 0.9776773452758789, 0.8029971718788147, 0.07029604911804199, 0.035148024559020996, 0.08922190964221954, 0.9948550462722778, 0.9758499264717102, 0.978256106376648, 0.8963806629180908, 0.9712368249893188, 0.9923176169395447, 0.99418044090271, 0.9905023574829102, 0.9276663064956665, 0.3114340007305145, 0.12866756319999695, 0.0657959133386612, 0.005848525557667017, 0.21785758435726166, 0.045326072722673416, 0.22516824305057526, 0.13973404467105865, 0.8539302945137024, 0.6219581961631775, 0.37593042850494385, 0.1185176819562912, 0.2370353639125824, 0.2031731754541397, 0.4402085542678833, 0.9929853081703186, 0.9877362847328186, 0.0154362628236413, 0.6880162954330444, 0.2954941689968109, 0.9638084769248962, 0.9946930408477783, 0.9975537061691284, 0.9779163002967834, 0.01925874501466751, 0.20533783733844757, 0.79201740026474, 0.20662625133991241, 0.20461037755012512, 0.03930938243865967, 0.011087262071669102, 0.0735791027545929, 0.1451423466205597, 0.03225385397672653, 0.03628558665513992, 0.18344378471374512, 0.050396647304296494, 0.017134860157966614, 0.0039555770345032215, 0.10680058598518372, 0.8781381249427795, 0.007911154069006443, 0.7727402448654175, 0.22265395522117615, 0.582475483417511, 0.37198591232299805, 0.041735004633665085, 0.0036291310098022223, 0.9827702045440674, 0.9720509648323059, 0.026373475790023804, 0.9983757138252258, 0.9778410196304321, 0.9678255915641785, 0.3703536093235016, 0.038050029426813126, 0.04566003382205963, 0.4794303774833679, 0.04566003382205963, 0.002536668675020337, 0.015220011584460735, 0.8704021573066711, 0.01603504829108715, 0.0320700965821743, 0.16836801171302795, 0.008017524145543575, 0.07215771824121475, 0.6975246071815491, 0.9651053547859192, 0.9890440106391907, 0.9905040860176086, 0.9859066605567932, 0.022010888904333115, 0.2146061658859253, 0.025312522426247597, 0.1529756784439087, 0.5381662249565125, 0.00220108893699944, 0.01760871149599552, 0.009904899634420872, 0.01650816760957241, 0.9870714545249939, 0.8796329498291016, 0.04573015123605728, 0.005380018148571253, 0.026900090277194977, 0.040350135415792465, 0.9872084856033325, 0.9303828477859497, 0.06741904467344284, 0.9894107580184937, 0.9992625117301941, 0.9936798214912415, 0.2011747509241104, 0.004421423189342022, 0.037582095712423325, 0.4067709147930145, 0.15696051716804504, 0.006632134784013033, 0.11053557693958282, 0.004421423189342022, 0.02873924933373928, 0.04200351983308792, 0.0843520388007164, 0.0421760194003582, 0.8435204029083252, 0.006526680197566748, 0.0685301423072815, 0.5645578503608704, 0.35570406913757324, 0.9905361533164978, 0.9267274141311646, 0.019246241077780724, 0.9161210656166077, 0.03849248215556145, 0.026944737881422043, 0.9968758225440979, 0.11058122664690018, 0.6673673987388611, 0.015520172193646431, 0.0950610563158989, 0.015520172193646431, 0.005820064805448055, 0.02716030180454254, 0.06014066934585571, 0.07064246386289597, 0.9183520674705505, 0.18228019773960114, 0.09721609950065613, 0.05468405783176422, 0.03038003295660019, 0.6258286833763123, 0.9896498322486877, 0.9915443062782288, 0.40847939252853394, 0.29603639245033264, 0.04573952779173851, 0.038116272538900375, 0.0736914575099945, 0.07623254507780075, 0.0127054238691926, 0.00381162716075778, 0.026681389659643173, 0.013340694829821587, 0.004446898587048054, 0.06025102734565735, 0.9338908791542053, 0.9938195943832397, 0.9895877242088318, 0.04816851764917374, 0.00535205751657486, 0.561966061592102, 0.06422469019889832, 0.3211234509944916, 0.25399667024612427, 0.5666079521179199, 0.011164689436554909, 0.005582344718277454, 0.159096822142601, 0.3884410858154297, 0.37442517280578613, 0.23526716232299805, 0.8961933255195618, 0.0917363241314888, 0.1406010240316391, 0.5678118467330933, 0.28660979866981506, 0.526831328868866, 0.3001377284526825, 0.0537819042801857, 0.051468703895807266, 0.006361300591379404, 0.06129980459809303, 0.9797049164772034, 0.07368011027574539, 0.3404529392719269, 0.05843595042824745, 0.0787614956498146, 0.06605803221464157, 0.005081387236714363, 0.015244160778820515, 0.3531563878059387, 0.0025406936183571815, 0.007622080389410257, 0.139671191573143, 0.558684766292572, 0.031328119337558746, 0.028717441484332085, 0.022190749645233154, 0.0013053382281213999, 0.03654947131872177, 0.07962563633918762, 0.03002277947962284, 0.07179360091686249, 0.16279029846191406, 0.5649781227111816, 0.26333725452423096, 0.05634760484099388, 0.003859424963593483, 0.9393840432167053, 0.9923064112663269, 0.962661862373352, 0.019253237172961235, 0.947587788105011, 0.0318618044257164, 0.9649575352668762, 0.1242823526263237, 0.3231341242790222, 0.07456941157579422, 0.04971294105052948, 0.39770352840423584, 0.9849389791488647, 0.9889096617698669, 0.36731696128845215, 0.033203791826963425, 0.14734183251857758, 0.06848282366991043, 0.07055806368589401, 0.3133608102798462, 0.08466963469982147, 0.048242002725601196, 0.048242002725601196, 0.3386785387992859, 0.0019690613262355328, 0.30815809965133667, 0.0019690613262355328, 0.15358678996562958, 0.013783428817987442, 0.36944639682769775, 0.00947298388928175, 0.131042942404747, 0.48785868287086487, 0.0015788307646289468, 0.057560838758945465, 0.026861725375056267, 0.11512167751789093, 0.675380527973175, 0.019186945632100105, 0.09977211803197861, 0.0497259683907032, 0.9199304580688477, 0.9878641366958618, 0.9766470193862915, 0.9872564077377319, 0.9719107747077942, 0.2926349639892578, 0.4221504330635071, 0.030103595927357674, 0.07140853255987167, 0.07490894943475723, 0.0028003344777971506, 0.02520301192998886, 0.004200501833111048, 0.023102760314941406, 0.04760568588972092, 0.0014001672388985753, 0.004200501833111048, 0.9838603138923645, 0.18210400640964508, 0.11128578335046768, 0.7081822752952576, 0.9755702614784241, 0.02295459434390068, 0.9953910112380981, 0.29737648367881775, 0.09538491070270538, 0.33104175329208374, 0.27493298053741455, 0.2770591974258423, 0.14309650659561157, 0.08220437169075012, 0.2374792993068695, 0.13700729608535767, 0.1217842549085617, 0.9903144836425781, 0.9780027270317078, 0.20104162395000458, 0.7818285226821899, 0.9745919704437256, 0.9789264798164368, 0.014832220040261745, 0.9951464533805847, 0.049034662544727325, 0.3967350125312805, 0.044576965272426605, 0.031203877180814743, 0.47251585125923157, 0.16567382216453552, 0.0060026743449270725, 0.24971126019954681, 0.09124065190553665, 0.24731019139289856, 0.0060026743449270725, 0.19328612089157104, 0.038417115807533264, 0.35562434792518616, 0.45690491795539856, 0.11574924737215042, 0.037313900887966156, 0.0007615081849507987, 0.002284524729475379, 0.015230163931846619, 0.015230163931846619, 0.05520873889327049, 0.04140655696392059, 0.08741383999586105, 0.013802184723317623, 0.6441019773483276, 0.15642476081848145, 0.205429807305336, 0.1422206312417984, 0.6320917010307312, 0.9934095144271851, 0.9924582242965698, 0.9752061367034912, 0.983339250087738, 0.26189330220222473, 0.14965331554412842, 0.5237866044044495, 0.34371212124824524, 0.6358674168586731, 0.9741259217262268, 0.12263324111700058, 0.8584326505661011, 0.9853127598762512, 0.9893727898597717, 0.0894000381231308, 0.8940004110336304, 0.9404093027114868, 0.16227594017982483, 0.014842311851680279, 0.11626477539539337, 0.35423651337623596, 0.13407555222511292, 0.17711825668811798, 0.0004947437555529177, 0.04056898504495621, 0.38328132033348083, 0.4485970437526703, 0.016508370637893677, 0.04808960482478142, 0.024403678253293037, 0.0035887763369828463, 0.02081490308046341, 0.01507286075502634, 0.00789530761539936, 0.030863476917147636, 0.04664025455713272, 0.9483518004417419, 0.9798092842102051, 0.09386841952800751, 0.8231538534164429, 0.014441295526921749, 0.054154857993125916, 0.010830971412360668, 0.9140752553939819, 0.9782052040100098, 0.9939171075820923, 0.96543949842453, 0.00447480846196413, 0.9643212556838989, 0.030204957351088524, 0.9984126687049866, 0.006990903988480568, 0.04544087499380112, 0.07340449094772339, 0.5977222919464111, 0.10486356168985367, 0.17127715051174164, 0.05772797018289566, 0.043295979499816895, 0.66593337059021, 0.23091188073158264, 0.04609891399741173, 0.8124933242797852, 0.057623639702796936, 0.08067309856414795, 0.982397198677063, 0.9890928864479065, 0.9889746308326721, 0.9124759435653687, 0.05289715528488159, 0.033060722053050995, 0.9883943796157837, 0.9564439058303833, 0.027723010629415512, 0.0534832626581192, 0.2309504598379135, 0.24310575425624847, 0.04619009047746658, 0.04375903308391571, 0.04619009047746658, 0.16288085281848907, 0.08265595138072968, 0.0899491235613823, 0.9929375648498535, 0.005272732116281986, 0.20036382973194122, 0.1883118599653244, 0.589792788028717, 0.009038969874382019, 0.006779226940125227, 0.9831656217575073, 0.9834609031677246, 0.16434165835380554, 0.023477379232645035, 0.7747535109519958, 0.9543842077255249, 0.4440855085849762, 0.48589274287223816, 0.04459436237812042, 0.014864787459373474, 0.009290492162108421, 0.5016312003135681, 0.3192198574542999, 0.03289384767413139, 0.022427624091506004, 0.09494361281394958, 0.001495174947194755, 0.026165561750531197, 0.6039379835128784, 0.32919442653656006, 0.0003111478581558913, 0.014312800951302052, 0.01742427982389927, 0.020535757765173912, 0.009645583108067513, 0.004667217843234539, 0.09415315836668015, 0.018371347337961197, 0.10104241222143173, 0.08726390451192856, 0.02066776715219021, 0.062003299593925476, 0.06889255344867706, 0.3513520359992981, 0.16074930131435394, 0.018371347337961197, 0.016074929386377335, 0.9624434113502502, 0.037373438477516174, 0.20905767381191254, 0.01635087840259075, 0.030365917831659317, 0.04438095539808273, 0.12029575556516647, 0.03970927745103836, 0.09460151195526123, 0.029197998344898224, 0.09693735092878342, 0.16000503301620483, 0.057228077203035355, 0.06189975515007973, 0.0035037598572671413, 0.28800836205482483, 0.4094727635383606, 0.07450651377439499, 0.025670312345027924, 0.025044206529855728, 0.028174731880426407, 0.010956840589642525, 0.03819241374731064, 0.016278734430670738, 0.01909620687365532, 0.037253256887197495, 0.0025044206995517015, 0.024418100714683533, 0.9755595922470093, 0.07721753418445587, 0.40939861536026, 0.023310953751206398, 0.2884730398654938, 0.03642336279153824, 0.046621907502412796, 0.021854018792510033, 0.06993286311626434, 0.010198541916906834, 0.014569345861673355, 0.9854233264923096, 0.9866957664489746, 0.9936749339103699, 0.9795076251029968, 0.0702470913529396, 0.36430466175079346, 0.035940371453762054, 0.04410863667726517, 0.01960383914411068, 0.11925669014453888, 0.03430671989917755, 0.30876046419143677, 0.09727786481380463, 0.41072878241539, 0.03674941509962082, 0.030264224857091904, 0.06052844971418381, 0.36317071318626404, 0.05489272624254227, 0.013723181560635567, 0.9240275621414185, 0.9869415760040283, 0.9822660684585571, 0.19917795062065125, 0.07286997884511948, 0.7238417863845825, 0.989730179309845, 0.9770376682281494, 0.013320984318852425, 0.29306164383888245, 0.03330245986580849, 0.652728259563446, 0.9417727589607239, 0.9751569032669067, 0.9177325963973999, 0.9590710401535034, 0.03688734769821167, 0.6408002376556396, 0.07451166212558746, 0.07053770124912262, 0.028811175376176834, 0.028811175376176834, 0.15101028978824615, 0.005960932467132807, 0.956593930721283, 0.4996379315853119, 0.06183638051152229, 0.43532809615135193, 0.9906569123268127, 0.9649893641471863, 0.9493705630302429, 0.9978535175323486, 0.008240406401455402, 0.9888488054275513, 0.0161837637424469, 0.979117751121521, 0.9927617907524109, 0.9514345526695251, 0.3110469579696655, 0.127751424908638, 0.5276689529418945, 0.03332645818591118, 0.028249366208910942, 0.001569409272633493, 0.21971729397773743, 0.11770569533109665, 0.07376223802566528, 0.4990721344947815, 0.05806814134120941, 0.8024801015853882, 0.061088450253009796, 0.13328388333320618, 0.9621328115463257, 0.9913147687911987, 0.19151701033115387, 0.21494728326797485, 0.1660493165254593, 0.022411564365029335, 0.18642346560955048, 0.0030561224557459354, 0.1512780636548996, 0.01731802709400654, 0.0010187075240537524, 0.04533248394727707, 0.0010187075240537524, 0.07889525592327118, 0.05104986950755119, 0.8632069230079651, 0.8232100009918213, 0.03780045732855797, 0.08610104769468307, 0.052500639110803604, 0.10076577216386795, 0.0783020630478859, 0.4390050172805786, 0.01925460621714592, 0.19768062233924866, 0.023105528205633163, 0.10269123315811157, 0.005776382051408291, 0.032732829451560974, 0.9560989141464233, 0.01912197843194008, 0.11122986674308777, 0.3893045485019684, 0.12513360381126404, 0.36149707436561584, 0.6800708770751953, 0.1870194971561432, 0.12751328945159912, 0.9770907163619995, 0.9879592061042786, 0.051754772663116455, 0.004500414710491896, 0.7515692710876465, 0.09675891697406769, 0.07988236099481583, 0.012376140803098679, 0.0033753111492842436, 0.9919538497924805, 0.11397365480661392, 0.8751548528671265, 0.010176219046115875, 0.6558181643486023, 0.3318597972393036, 0.9943407773971558, 0.9902698993682861, 0.19524018466472626, 0.06508006155490875, 0.260320246219635, 0.46640709042549133, 0.9554091095924377, 0.9956112504005432, 0.9567508697509766, 0.9690147042274475, 0.3197489380836487, 0.3479301929473877, 0.11706062406301498, 0.03305878862738609, 0.09755051881074905, 0.00541947316378355, 0.010296999476850033, 0.02980710379779339, 0.03739436715841293, 0.00108389463275671, 0.1090392991900444, 0.11788032203912735, 0.46857428550720215, 0.2239726036787033, 0.07662221044301987, 0.0216839462518692, 0.0216839462518692, 0.05059587582945824, 0.07950780540704727, 0.7733941078186035, 0.05059587582945824, 0.9692321419715881, 0.09424566477537155, 0.15376923978328705, 0.09920596331357956, 0.6349181532859802, 0.014880894683301449, 0.6314336657524109, 0.056546300649642944, 0.3078632056713104, 0.9856341481208801, 0.7488403916358948, 0.09767483174800873, 0.014470345340669155, 0.11214517802000046, 0.018087932839989662, 0.0036175863351672888, 0.42962217330932617, 0.3538064956665039, 0.041868358850479126, 0.027157854288816452, 0.02564908377826214, 0.0075438483618199825, 0.013578927144408226, 0.004149116575717926, 0.023763122037053108, 0.02640346996486187, 0.04639466851949692, 0.3493930697441101, 0.006784331519156694, 0.03052949346601963, 0.08480414748191833, 0.5274817943572998, 0.9827046394348145, 0.766144335269928, 0.034216154366731644, 0.03272849693894386, 0.049092743545770645, 0.053555723279714584, 0.026777861639857292, 0.03570381551980972, 0.9971117973327637, 0.991454541683197, 0.9520723223686218, 0.04707403481006622, 0.4905213713645935, 0.49447083473205566, 0.0031595579348504543, 0.011058452539145947, 0.09977395087480545, 0.1995479017496109, 0.2120196372270584, 0.47392624616622925, 0.1375977098941803, 0.8599857091903687, 0.9876149296760559, 0.26798397302627563, 0.7304724454879761, 0.9770749807357788, 0.9466434121131897, 0.03985866904258728, 0.9899362325668335, 0.9949997067451477, 0.03625868260860443, 0.6693910360336304, 0.2928585708141327, 0.2634110450744629, 0.06146257743239403, 0.07551116496324539, 0.11590085923671722, 0.02458503097295761, 0.4267258942127228, 0.029853250831365585, 0.15961132943630219, 0.3358984589576721, 0.15782463550567627, 0.003573387861251831, 0.20249198377132416, 0.011911292560398579, 0.008337904699146748, 0.033947184681892395, 0.06729880720376968, 0.01548468042165041, 0.0017866939306259155, 0.001191129325889051, 0.2727317810058594, 0.01884002424776554, 0.02063431404531002, 0.3427090346813202, 0.02422288991510868, 0.08253725618124008, 0.12201159447431564, 0.04844577983021736, 0.006280008237808943, 0.06100579723715782, 0.9880704879760742, 0.5091962218284607, 0.2834669053554535, 0.0144343925639987, 0.035318195819854736, 0.08568501472473145, 0.018887557089328766, 0.027640325948596, 0.012131032533943653, 0.003838934237137437, 0.009366999380290508, 0.0003071147366426885, 0.7091332674026489, 0.18843095004558563, 0.02732967957854271, 0.002876808401197195, 0.03883691132068634, 0.03452169895172119, 0.9792420864105225, 0.9940676689147949, 0.9927874803543091, 0.920255184173584, 0.9374503493309021, 0.24175739288330078, 0.09401676803827286, 0.06395698338747025, 0.0070352680049836636, 0.0070352680049836636, 0.13622838258743286, 0.27949202060699463, 0.007674837950617075, 0.08122537285089493, 0.08186493813991547, 0.11501887440681458, 0.3998275101184845, 0.18622103333473206, 0.029439354315400124, 0.012323450297117233, 0.09516442567110062, 0.04176280274987221, 0.045870620757341385, 0.06435579806566238, 0.006846361327916384, 0.0020539083052426577, 0.9522141218185425, 0.01639450527727604, 0.15574780106544495, 0.4262571632862091, 0.00819725263863802, 0.385270893573761, 0.9646974802017212], \"Term\": [\"abortion\", \"absolute\", \"absolute\", \"absolute\", \"abused\", \"access\", \"access\", \"access\", \"access\", \"access\", \"access\", \"acid\", \"aclu\", \"adaptec\", \"adapted\", \"adapter\", \"address\", \"address\", \"address\", \"address\", \"address\", \"address\", \"address\", \"address\", \"address\", \"addresses\", \"addresses\", \"addresses\", \"adequately\", \"administration\", \"administration\", \"administration\", \"adobe\", \"advance\", \"advance\", \"advance\", \"advance\", \"advance\", \"advertising\", \"aerospace\", \"affair\", \"agencies\", \"agency\", \"agency\", \"agency\", \"agree\", \"agree\", \"agree\", \"agree\", \"agree\", \"aids\", \"airplane\", \"algorithm\", \"algorithm\", \"allah\", \"alomar\", \"also\", \"also\", \"also\", \"also\", \"also\", \"also\", \"also\", \"also\", \"also\", \"also\", \"also\", \"also\", \"also\", \"also\", \"aluminum\", \"amendment\", \"amendment\", \"american\", \"american\", \"american\", \"american\", \"american\", \"american\", \"american\", \"ames\", \"ammunition\", \"amps\", \"analog\", \"analog\", \"analogy\", \"animated\", \"annual\", \"annual\", \"annual\", \"annual\", \"anonymous\", \"anonymous\", \"anonymous\", \"answer\", \"answer\", \"answer\", \"answer\", \"answer\", \"answer\", \"answer\", \"answer\", \"answers\", \"answers\", \"answers\", \"answers\", \"answers\", \"antenna\", \"anti\", \"anti\", \"anti\", \"anti\", \"anti\", \"anti\", \"anyone\", \"anyone\", \"anyone\", \"anyone\", \"anyone\", \"anyone\", \"apartment\", \"appears\", \"appears\", \"appears\", \"appears\", \"appears\", \"appears\", \"apple\", \"apple\", \"apple\", \"application\", \"application\", \"application\", \"application\", \"application\", \"application\", \"application\", \"april\", \"april\", \"april\", \"april\", \"april\", \"april\", \"april\", \"arab\", \"arabic\", \"arabs\", \"archive\", \"archive\", \"archive\", \"argic\", \"argue\", \"arguing\", \"argument\", \"argument\", \"arguments\", \"arguments\", \"armenia\", \"armenian\", \"armenians\", \"around\", \"around\", \"around\", \"around\", \"around\", \"around\", \"around\", \"around\", \"around\", \"around\", \"around\", \"around\", \"around\", \"arrest\", \"arrest\", \"arrest\", \"arrogant\", \"article\", \"article\", \"article\", \"article\", \"article\", \"article\", \"article\", \"article\", \"articles\", \"articles\", \"articles\", \"articles\", \"aryan\", \"assertion\", \"assume\", \"assume\", \"assume\", \"assume\", \"assume\", \"assume\", \"assumption\", \"assumptions\", \"astro\", \"astronomical\", \"astronomy\", \"astros\", \"atheism\", \"atheist\", \"atheists\", \"atmosphere\", \"atmosphere\", \"atmospheric\", \"attendance\", \"audio\", \"audio\", \"audio\", \"authorization\", \"authorized\", \"auto\", \"auto\", \"auto\", \"autos\", \"available\", \"available\", \"available\", \"available\", \"available\", \"available\", \"available\", \"axis\", \"azerbaijan\", \"azerbaijani\", \"azerbaijanis\", \"azeri\", \"azeris\", \"back\", \"back\", \"back\", \"back\", \"back\", \"back\", \"back\", \"back\", \"back\", \"back\", \"back\", \"baerga\", \"baerga\", \"bagged\", \"baku\", \"ball\", \"ball\", \"ball\", \"ball\", \"ball\", \"baltimore\", \"banks\", \"banks\", \"banks\", \"barbara\", \"base\", \"base\", \"base\", \"base\", \"base\", \"base\", \"baseball\", \"baseball\", \"batf\", \"batteries\", \"battery\", \"baud\", \"belief\", \"belief\", \"believe\", \"believe\", \"believe\", \"believe\", \"believe\", \"believe\", \"berryhill\", \"best\", \"best\", \"best\", \"best\", \"best\", \"best\", \"best\", \"better\", \"better\", \"better\", \"better\", \"better\", \"better\", \"bhjn\", \"bible\", \"biblical\", \"bike\", \"bikers\", \"bikes\", \"bill\", \"bill\", \"bill\", \"bill\", \"bill\", \"bios\", \"bits\", \"bits\", \"black\", \"black\", \"black\", \"black\", \"black\", \"black\", \"black\", \"black\", \"black\", \"black\", \"black\", \"blues\", \"board\", \"board\", \"board\", \"board\", \"board\", \"bodies\", \"bodies\", \"boggs\", \"bomb\", \"bomb\", \"bone\", \"book\", \"book\", \"book\", \"book\", \"book\", \"book\", \"book\", \"book\", \"book\", \"books\", \"books\", \"books\", \"books\", \"books\", \"bosnia\", \"boston\", \"boston\", \"boston\", \"boston\", \"brady\", \"brake\", \"braves\", \"breaker\", \"breton\", \"briefing\", \"britain\", \"bruins\", \"building\", \"building\", \"building\", \"building\", \"building\", \"building\", \"building\", \"built\", \"built\", \"built\", \"built\", \"built\", \"built\", \"built\", \"bullock\", \"bush\", \"bush\", \"bxom\", \"bytes\", \"cable\", \"cable\", \"cadre\", \"calgary\", \"came\", \"came\", \"came\", \"came\", \"came\", \"came\", \"came\", \"came\", \"came\", \"cancer\", \"candida\", \"canon\", \"cape\", \"capitol\", \"caps\", \"caps\", \"caps\", \"card\", \"cardinals\", \"cards\", \"cards\", \"cards\", \"carry\", \"carry\", \"carry\", \"carry\", \"carry\", \"carry\", \"carry\", \"carry\", \"cars\", \"cars\", \"carter\", \"carter\", \"carter\", \"catbyte\", \"catholic\", \"cause\", \"cause\", \"cause\", \"cause\", \"cause\", \"cause\", \"cause\", \"cell\", \"cell\", \"cell\", \"cells\", \"cells\", \"center\", \"center\", \"center\", \"center\", \"center\", \"center\", \"center\", \"centris\", \"ceremonial\", \"certainly\", \"certainly\", \"certainly\", \"certainly\", \"champs\", \"channel\", \"channel\", \"channel\", \"char\", \"chastity\", \"chevy\", \"chicago\", \"chicago\", \"children\", \"children\", \"children\", \"children\", \"chinese\", \"chinese\", \"chip\", \"chip\", \"christ\", \"christian\", \"christian\", \"christianity\", \"christianity\", \"christians\", \"church\", \"churches\", \"chzd\", \"chzv\", \"cincinnati\", \"ciphertext\", \"circuit\", \"circuits\", \"citizens\", \"citizens\", \"citizens\", \"citizens\", \"city\", \"city\", \"city\", \"city\", \"city\", \"city\", \"city\", \"city\", \"civil\", \"civil\", \"civil\", \"civilians\", \"civilians\", \"claim\", \"claim\", \"claim\", \"classified\", \"classified\", \"clause\", \"clemens\", \"client\", \"clients\", \"clinic\", \"clinical\", \"clinton\", \"clipper\", \"clone\", \"clutch\", \"cmos\", \"coach\", \"code\", \"code\", \"code\", \"code\", \"code\", \"color\", \"color\", \"color\", \"color\", \"colorado\", \"colorado\", \"colorado\", \"colorado\", \"colorado\", \"colorado\", \"come\", \"come\", \"come\", \"come\", \"come\", \"come\", \"come\", \"come\", \"come\", \"come\", \"commercial\", \"commercial\", \"commercial\", \"commercial\", \"communications\", \"communications\", \"communications\", \"comp\", \"comp\", \"company\", \"company\", \"company\", \"company\", \"company\", \"compass\", \"compile\", \"computer\", \"computer\", \"computer\", \"computer\", \"computing\", \"computing\", \"concentration\", \"conclusions\", \"conductor\", \"confidential\", \"congress\", \"congress\", \"congress\", \"connecting\", \"connector\", \"contradictions\", \"contrib\", \"control\", \"control\", \"control\", \"control\", \"control\", \"control\", \"control\", \"control\", \"control\", \"controller\", \"converter\", \"converter\", \"convince\", \"cooling\", \"cooling\", \"cooper\", \"cooper\", \"copies\", \"copies\", \"copies\", \"copies\", \"copies\", \"copies\", \"corn\", \"corp\", \"corp\", \"corp\", \"could\", \"could\", \"could\", \"could\", \"could\", \"could\", \"could\", \"could\", \"could\", \"could\", \"country\", \"country\", \"country\", \"country\", \"country\", \"country\", \"couple\", \"couple\", \"couple\", \"couple\", \"couple\", \"couple\", \"couple\", \"couple\", \"couple\", \"courses\", \"court\", \"court\", \"court\", \"court\", \"cover\", \"cover\", \"cover\", \"cover\", \"cover\", \"cover\", \"cpsr\", \"crime\", \"crime\", \"crimes\", \"crimes\", \"criminal\", \"criminal\", \"criminal\", \"crypto\", \"cubs\", \"cult\", \"curious\", \"current\", \"current\", \"current\", \"current\", \"current\", \"current\", \"current\", \"current\", \"current\", \"current\", \"current\", \"current\", \"cursor\", \"cylinders\", \"cyprus\", \"czech\", \"dangerous\", \"dangerous\", \"dangerous\", \"dangerous\", \"dangerous\", \"dangerous\", \"darren\", \"darren\", \"data\", \"data\", \"data\", \"data\", \"data\", \"data\", \"database\", \"database\", \"databases\", \"daughter\", \"daughter\", \"davis\", \"davis\", \"davis\", \"dealership\", \"death\", \"death\", \"death\", \"deaths\", \"defects\", \"defending\", \"defense\", \"defense\", \"defense\", \"defense\", \"defense\", \"defense\", \"defense\", \"defense\", \"defense\", \"defenseman\", \"deficit\", \"definition\", \"definition\", \"definition\", \"definition\", \"deletion\", \"delta\", \"denning\", \"denning\", \"design\", \"design\", \"design\", \"design\", \"design\", \"design\", \"design\", \"design\", \"detector\", \"detectors\", \"detroit\", \"devils\", \"devils\", \"diagnosed\", \"diamond\", \"diet\", \"different\", \"different\", \"different\", \"different\", \"different\", \"different\", \"different\", \"different\", \"digest\", \"directory\", \"disclosure\", \"disease\", \"disease\", \"disease\", \"diseases\", \"disk\", \"disk\", \"disks\", \"disks\", \"display\", \"display\", \"display\", \"displays\", \"distance\", \"distance\", \"distance\", \"distance\", \"distance\", \"distorted\", \"divine\", \"division\", \"division\", \"division\", \"doctor\", \"doctor\", \"doctor\", \"doctrine\", \"doctrine\", \"dodgers\", \"dollar\", \"dollar\", \"dorothy\", \"dreams\", \"drive\", \"drive\", \"drive\", \"driver\", \"driver\", \"driver\", \"drivers\", \"drivers\", \"drivers\", \"drives\", \"driving\", \"driving\", \"drug\", \"drug\", \"drug\", \"drug\", \"drugs\", \"drugs\", \"drum\", \"dtmedin\", \"earth\", \"earth\", \"earth\", \"earth\", \"eating\", \"eating\", \"eating\", \"echl\", \"echo\", \"economy\", \"economy\", \"effects\", \"effects\", \"effects\", \"effects\", \"effects\", \"effects\", \"effects\", \"effects\", \"einstein\", \"einstein\", \"eisa\", \"election\", \"electric\", \"electric\", \"electrical\", \"electrical\", \"electrical\", \"electrical\", \"email\", \"email\", \"email\", \"email\", \"encrypted\", \"encryption\", \"energy\", \"energy\", \"energy\", \"energy\", \"energy\", \"energy\", \"enforcement\", \"enforcement\", \"engine\", \"engine\", \"engine\", \"enough\", \"enough\", \"enough\", \"enough\", \"enough\", \"enough\", \"enough\", \"enough\", \"entries\", \"entries\", \"entry\", \"entry\", \"entry\", \"escrow\", \"escrowed\", \"esdi\", \"espn\", \"eternal\", \"ethernet\", \"ethnic\", \"even\", \"even\", \"even\", \"even\", \"even\", \"even\", \"even\", \"even\", \"even\", \"even\", \"everywhere\", \"everywhere\", \"everywhere\", \"everywhere\", \"everywhere\", \"everywhere\", \"evidence\", \"evidence\", \"example\", \"example\", \"example\", \"example\", \"example\", \"example\", \"example\", \"excellent\", \"excellent\", \"excellent\", \"excellent\", \"excellent\", \"excellent\", \"excellent\", \"exist\", \"exist\", \"exist\", \"exist\", \"existence\", \"existence\", \"explain\", \"explain\", \"explain\", \"explain\", \"explaining\", \"exploration\", \"explosive\", \"external\", \"external\", \"external\", \"fact\", \"fact\", \"fact\", \"fact\", \"fact\", \"fact\", \"fact\", \"faith\", \"faith\", \"fake\", \"fans\", \"fans\", \"father\", \"father\", \"favour\", \"feature\", \"feature\", \"federal\", \"federal\", \"fedorov\", \"file\", \"file\", \"file\", \"files\", \"find\", \"find\", \"find\", \"find\", \"find\", \"find\", \"find\", \"find\", \"find\", \"fire\", \"fire\", \"fire\", \"fire\", \"fire\", \"firearm\", \"firearm\", \"firearms\", \"firearms\", \"first\", \"first\", \"first\", \"first\", \"first\", \"first\", \"first\", \"first\", \"first\", \"first\", \"first\", \"first\", \"first\", \"first\", \"fitted\", \"flight\", \"flight\", \"flight\", \"floppy\", \"fluids\", \"flyers\", \"font\", \"food\", \"food\", \"food\", \"food\", \"food\", \"foods\", \"force\", \"force\", \"force\", \"force\", \"force\", \"force\", \"force\", \"ford\", \"ford\", \"format\", \"format\", \"format\", \"formats\", \"formatted\", \"frames\", \"free\", \"free\", \"free\", \"free\", \"free\", \"free\", \"free\", \"free\", \"free\", \"free\", \"free\", \"fresh\", \"front\", \"front\", \"front\", \"front\", \"front\", \"functions\", \"functions\", \"functions\", \"funding\", \"funds\", \"funds\", \"game\", \"game\", \"game\", \"game\", \"game\", \"games\", \"games\", \"gang\", \"gays\", \"gaza\", \"gazans\", \"gear\", \"gehrels\", \"general\", \"general\", \"general\", \"general\", \"general\", \"general\", \"general\", \"general\", \"general\", \"general\", \"general\", \"genocide\", \"genocide\", \"george\", \"george\", \"george\", \"george\", \"george\", \"george\", \"gerald\", \"german\", \"german\", \"german\", \"german\", \"germany\", \"germany\", \"germany\", \"germany\", \"germany\", \"getting\", \"getting\", \"getting\", \"getting\", \"getting\", \"gfci\", \"ghost\", \"giants\", \"gizw\", \"goal\", \"goal\", \"goal\", \"goal\", \"goal\", \"goal\", \"going\", \"going\", \"going\", \"going\", \"going\", \"going\", \"going\", \"good\", \"good\", \"good\", \"good\", \"good\", \"good\", \"good\", \"good\", \"good\", \"gordon\", \"gospel\", \"government\", \"government\", \"government\", \"government\", \"grade\", \"grade\", \"grade\", \"grade\", \"grade\", \"grants\", \"graphics\", \"graphics\", \"graphics\", \"grass\", \"grayscale\", \"greece\", \"greece\", \"greek\", \"greek\", \"green\", \"green\", \"green\", \"green\", \"ground\", \"ground\", \"ground\", \"ground\", \"ground\", \"grounding\", \"group\", \"group\", \"group\", \"group\", \"group\", \"group\", \"group\", \"group\", \"group\", \"group\", \"groups\", \"groups\", \"groups\", \"groups\", \"groups\", \"groups\", \"groups\", \"guide\", \"guide\", \"guide\", \"guns\", \"guns\", \"guns\", \"hamas\", \"handgun\", \"handgun\", \"hard\", \"hard\", \"hard\", \"hard\", \"hard\", \"hard\", \"hard\", \"harddisk\", \"hartford\", \"hatred\", \"hawks\", \"hawks\", \"health\", \"health\", \"health\", \"heard\", \"heard\", \"heard\", \"heard\", \"heard\", \"heard\", \"heard\", \"heat\", \"heat\", \"heaven\", \"hell\", \"hell\", \"hell\", \"hellman\", \"helmet\", \"heterosexual\", \"hicnet\", \"high\", \"high\", \"high\", \"high\", \"high\", \"high\", \"high\", \"high\", \"high\", \"high\", \"high\", \"high\", \"history\", \"history\", \"history\", \"history\", \"history\", \"history\", \"history\", \"hitler\", \"hitler\", \"hits\", \"hits\", \"hits\", \"hitter\", \"hitters\", \"hitting\", \"hitting\", \"hitting\", \"hockey\", \"holes\", \"holes\", \"holy\", \"homicide\", \"homicide\", \"homicides\", \"homosexuality\", \"honda\", \"honest\", \"honest\", \"house\", \"house\", \"house\", \"house\", \"house\", \"house\", \"hudson\", \"human\", \"human\", \"human\", \"human\", \"human\", \"huntsville\", \"idacom\", \"identity\", \"image\", \"image\", \"image\", \"impaired\", \"imply\", \"indiana\", \"indiana\", \"infected\", \"infection\", \"infections\", \"info\", \"info\", \"info\", \"info\", \"info\", \"information\", \"information\", \"information\", \"information\", \"information\", \"information\", \"information\", \"information\", \"information\", \"information\", \"ingr\", \"initiative\", \"initiative\", \"injury\", \"injury\", \"injury\", \"injury\", \"inning\", \"innings\", \"innocent\", \"input\", \"input\", \"insist\", \"instruction\", \"intellect\", \"intergraph\", \"international\", \"international\", \"international\", \"international\", \"international\", \"internet\", \"internet\", \"internet\", \"internet\", \"internet\", \"internet\", \"internet\", \"interpretations\", \"interviewed\", \"invasion\", \"iqvg\", \"iran\", \"iranian\", \"isbn\", \"islam\", \"islam\", \"islamic\", \"island\", \"island\", \"islanders\", \"israel\", \"israel\", \"israeli\", \"israelis\", \"issue\", \"issue\", \"issue\", \"issue\", \"issue\", \"issue\", \"issue\", \"issue\", \"istanbul\", \"jays\", \"jersey\", \"jesus\", \"jets\", \"jewish\", \"jewish\", \"jewish\", \"jews\", \"jews\", \"jews\", \"jobs\", \"john\", \"john\", \"john\", \"john\", \"john\", \"john\", \"john\", \"john\", \"john\", \"jose\", \"jpeg\", \"jumper\", \"jumpers\", \"juneau\", \"jupiter\", \"karabakh\", \"keith\", \"keith\", \"keller\", \"keys\", \"keys\", \"kidney\", \"kill\", \"kill\", \"kill\", \"kill\", \"kill\", \"kill\", \"killed\", \"killed\", \"killing\", \"killing\", \"killing\", \"killing\", \"kkeller\", \"know\", \"know\", \"know\", \"know\", \"know\", \"know\", \"know\", \"know\", \"kurds\", \"lacks\", \"lamb\", \"lamp\", \"land\", \"land\", \"land\", \"land\", \"lane\", \"larson\", \"last\", \"last\", \"last\", \"last\", \"last\", \"last\", \"last\", \"last\", \"last\", \"last\", \"last\", \"last\", \"last\", \"launch\", \"launched\", \"launches\", \"leafs\", \"league\", \"league\", \"league\", \"league\", \"lebanese\", \"lebanon\", \"left\", \"left\", \"left\", \"left\", \"left\", \"left\", \"left\", \"left\", \"left\", \"legal\", \"legal\", \"legal\", \"legal\", \"legal\", \"lemieux\", \"lens\", \"lhzv\", \"liberal\", \"license\", \"license\", \"license\", \"license\", \"life\", \"life\", \"life\", \"life\", \"life\", \"light\", \"light\", \"light\", \"light\", \"light\", \"light\", \"light\", \"lights\", \"lights\", \"like\", \"like\", \"like\", \"like\", \"like\", \"like\", \"like\", \"like\", \"like\", \"like\", \"like\", \"line\", \"line\", \"line\", \"line\", \"line\", \"line\", \"line\", \"line\", \"line\", \"line\", \"list\", \"list\", \"list\", \"list\", \"list\", \"list\", \"list\", \"list\", \"list\", \"list\", \"list\", \"list\", \"little\", \"little\", \"little\", \"little\", \"little\", \"little\", \"little\", \"little\", \"liver\", \"look\", \"look\", \"look\", \"look\", \"look\", \"look\", \"look\", \"look\", \"look\", \"look\", \"look\", \"look\", \"lord\", \"lost\", \"lost\", \"lost\", \"lost\", \"lost\", \"lost\", \"lost\", \"lost\", \"lost\", \"lost\", \"lost\", \"love\", \"love\", \"love\", \"love\", \"lucifer\", \"lunar\", \"lyme\", \"lyuda\", \"macs\", \"mail\", \"mail\", \"mail\", \"mail\", \"mail\", \"mail\", \"mail\", \"mailing\", \"mailing\", \"mainstream\", \"make\", \"make\", \"make\", \"make\", \"make\", \"make\", \"make\", \"make\", \"make\", \"make\", \"make\", \"mamma\", \"mandatory\", \"manhattan\", \"many\", \"many\", \"many\", \"many\", \"many\", \"many\", \"many\", \"many\", \"many\", \"many\", \"many\", \"maria\", \"mario\", \"marriage\", \"mars\", \"marty\", \"mary\", \"mary\", \"mass\", \"mass\", \"mass\", \"mass\", \"mass\", \"mass\", \"matthew\", \"matthew\", \"maxtor\", \"mean\", \"mean\", \"mean\", \"mean\", \"mean\", \"mean\", \"mean\", \"mean\", \"measurement\", \"medical\", \"medical\", \"medical\", \"medical\", \"medicine\", \"medicine\", \"medin\", \"meeting\", \"meeting\", \"meeting\", \"meeting\", \"megs\", \"members\", \"members\", \"members\", \"members\", \"members\", \"members\", \"memory\", \"memory\", \"memory\", \"memory\", \"memory\", \"memory\", \"merely\", \"merely\", \"metal\", \"mets\", \"midi\", \"might\", \"might\", \"might\", \"might\", \"might\", \"might\", \"might\", \"might\", \"might\", \"might\", \"mile\", \"mile\", \"mileage\", \"miles\", \"miles\", \"miles\", \"military\", \"military\", \"military\", \"militia\", \"minnesota\", \"mission\", \"mission\", \"missions\", \"mistakes\", \"mmwr\", \"mode\", \"mode\", \"mode\", \"model\", \"model\", \"model\", \"model\", \"model\", \"modem\", \"money\", \"money\", \"money\", \"money\", \"money\", \"money\", \"money\", \"monitor\", \"mono\", \"monthly\", \"montreal\", \"moon\", \"moon\", \"moral\", \"moral\", \"moral\", \"morality\", \"morals\", \"mormon\", \"mormons\", \"morris\", \"morris\", \"motherboard\", \"motif\", \"motorcycle\", \"much\", \"much\", \"much\", \"much\", \"much\", \"much\", \"much\", \"much\", \"much\", \"murder\", \"muscle\", \"muscle\", \"muslims\", \"muslims\", \"muslims\", \"must\", \"must\", \"must\", \"must\", \"must\", \"must\", \"must\", \"must\", \"must\", \"must\", \"myers\", \"name\", \"name\", \"name\", \"name\", \"name\", \"name\", \"name\", \"name\", \"name\", \"name\", \"nasa\", \"nasa\", \"national\", \"national\", \"national\", \"national\", \"national\", \"national\", \"national\", \"naval\", \"naval\", \"nazi\", \"nazi\", \"nazis\", \"ncsl\", \"need\", \"need\", \"need\", \"need\", \"need\", \"need\", \"need\", \"need\", \"need\", \"neutral\", \"never\", \"never\", \"never\", \"never\", \"never\", \"never\", \"news\", \"news\", \"news\", \"news\", \"news\", \"news\", \"news\", \"news\", \"news\", \"newsgroup\", \"newsgroup\", \"newsgroup\", \"newsgroup\", \"newsgroups\", \"newsletter\", \"newsletter\", \"ninja\", \"nist\", \"nixon\", \"nrhj\", \"nriz\", \"nubus\", \"nuclear\", \"nuclear\", \"nuclear\", \"nuclear\", \"nuclear\", \"null\", \"number\", \"number\", \"number\", \"number\", \"number\", \"number\", \"number\", \"number\", \"number\", \"objective\", \"objective\", \"objective\", \"occupation\", \"occupied\", \"occupied\", \"occupying\", \"offense\", \"offense\", \"offense\", \"offensive\", \"offensive\", \"offensive\", \"offer\", \"offer\", \"offer\", \"offer\", \"offer\", \"offer\", \"offer\", \"office\", \"office\", \"office\", \"office\", \"office\", \"office\", \"office\", \"office\", \"office\", \"office\", \"office\", \"olson\", \"olson\", \"olson\", \"orbit\", \"orbital\", \"orbiter\", \"orbits\", \"organism\", \"orthodox\", \"ottoman\", \"outlet\", \"outlets\", \"output\", \"output\", \"overtime\", \"ozone\", \"pain\", \"pain\", \"pain\", \"pair\", \"pair\", \"palestine\", \"palestinian\", \"palestinians\", \"panel\", \"panel\", \"panel\", \"panel\", \"panel\", \"panel\", \"panther\", \"paradox\", \"part\", \"part\", \"part\", \"part\", \"part\", \"part\", \"part\", \"part\", \"part\", \"part\", \"part\", \"part\", \"passenger\", \"passenger\", \"patch\", \"patent\", \"patient\", \"patient\", \"patient\", \"patients\", \"patrol\", \"paul\", \"paul\", \"paul\", \"paul\", \"paul\", \"paul\", \"peace\", \"peace\", \"pens\", \"people\", \"people\", \"people\", \"people\", \"people\", \"people\", \"people\", \"people\", \"people\", \"perception\", \"perhaps\", \"perhaps\", \"perhaps\", \"perhaps\", \"perhaps\", \"perhaps\", \"period\", \"period\", \"period\", \"period\", \"period\", \"period\", \"period\", \"period\", \"period\", \"period\", \"period\", \"perry\", \"persian\", \"phil\", \"phil\", \"philadelphia\", \"phillies\", \"phone\", \"phone\", \"phone\", \"phone\", \"phone\", \"phone\", \"phone\", \"phone\", \"phrase\", \"picture\", \"picture\", \"picture\", \"picture\", \"picture\", \"picture\", \"pinch\", \"pink\", \"pins\", \"pioneer\", \"pipes\", \"pistol\", \"pitch\", \"pitch\", \"pitcher\", \"pitchers\", \"pitching\", \"pitt\", \"pittsburgh\", \"pittsburgh\", \"pixel\", \"plaintext\", \"plane\", \"plane\", \"plane\", \"plane\", \"planetary\", \"plants\", \"plants\", \"play\", \"play\", \"play\", \"play\", \"play\", \"played\", \"played\", \"played\", \"played\", \"player\", \"player\", \"player\", \"players\", \"playoff\", \"playoffs\", \"please\", \"please\", \"please\", \"please\", \"please\", \"please\", \"please\", \"please\", \"pmfq\", \"pnei\", \"point\", \"point\", \"point\", \"point\", \"point\", \"point\", \"point\", \"point\", \"point\", \"point\", \"point\", \"pointer\", \"points\", \"points\", \"points\", \"points\", \"policy\", \"policy\", \"policy\", \"policy\", \"polish\", \"pope\", \"population\", \"population\", \"population\", \"port\", \"port\", \"ports\", \"postage\", \"posted\", \"posted\", \"posted\", \"posted\", \"posted\", \"posted\", \"posting\", \"posting\", \"posting\", \"posting\", \"posting\", \"postscript\", \"power\", \"power\", \"power\", \"power\", \"power\", \"power\", \"power\", \"power\", \"power\", \"power\", \"power\", \"power\", \"pray\", \"prayer\", \"president\", \"president\", \"press\", \"press\", \"press\", \"press\", \"press\", \"press\", \"press\", \"press\", \"pretty\", \"pretty\", \"pretty\", \"pretty\", \"prevalence\", \"price\", \"price\", \"price\", \"price\", \"price\", \"price\", \"printer\", \"printer\", \"printf\", \"prints\", \"prison\", \"privacy\", \"private\", \"private\", \"private\", \"prize\", \"probe\", \"probe\", \"probes\", \"probes\", \"problem\", \"problem\", \"problem\", \"problem\", \"problem\", \"problem\", \"problem\", \"proceedings\", \"program\", \"program\", \"program\", \"programs\", \"programs\", \"programs\", \"programs\", \"programs\", \"programs\", \"prohibit\", \"project\", \"project\", \"project\", \"project\", \"project\", \"project\", \"propulsion\", \"protect\", \"protect\", \"protect\", \"protect\", \"protect\", \"protect\", \"prove\", \"prove\", \"prove\", \"prove\", \"providers\", \"public\", \"public\", \"public\", \"public\", \"public\", \"public\", \"publisher\", \"puck\", \"pursuant\", \"push\", \"push\", \"push\", \"quadra\", \"quakers\", \"quebec\", \"question\", \"question\", \"question\", \"question\", \"question\", \"question\", \"question\", \"question\", \"quicktime\", \"qvei\", \"racial\", \"racist\", \"radiation\", \"radio\", \"radio\", \"radio\", \"radio\", \"radio\", \"radio\", \"radio\", \"radio\", \"rangers\", \"rape\", \"rate\", \"rate\", \"rate\", \"rate\", \"rate\", \"rate\", \"rate\", \"rate\", \"rates\", \"rates\", \"rates\", \"rates\", \"rather\", \"rather\", \"rather\", \"rather\", \"rather\", \"rather\", \"rather\", \"rather\", \"rational\", \"rchz\", \"reagan\", \"really\", \"really\", \"really\", \"really\", \"really\", \"really\", \"rear\", \"rear\", \"reason\", \"reason\", \"reason\", \"reason\", \"reason\", \"reason\", \"reasoning\", \"reds\", \"registers\", \"regulated\", \"religion\", \"religion\", \"religion\", \"religions\", \"religions\", \"reminds\", \"removing\", \"removing\", \"removing\", \"renewal\", \"reported\", \"reported\", \"reported\", \"reported\", \"reported\", \"reported\", \"republicans\", \"request\", \"request\", \"request\", \"research\", \"research\", \"research\", \"research\", \"research\", \"research\", \"research\", \"research\", \"responding\", \"restaurant\", \"restraint\", \"resurrection\", \"revelation\", \"revised\", \"revolver\", \"ride\", \"rider\", \"rider\", \"riders\", \"ridiculous\", \"riding\", \"right\", \"right\", \"right\", \"right\", \"right\", \"right\", \"right\", \"right\", \"right\", \"right\", \"rights\", \"rights\", \"rights\", \"rights\", \"rights\", \"ripem\", \"rkba\", \"rlhz\", \"rockefeller\", \"rocket\", \"rocket\", \"rocket\", \"rocket\", \"roughing\", \"routines\", \"rows\", \"royals\", \"rsaref\", \"runner\", \"runs\", \"runs\", \"runs\", \"runs\", \"runs\", \"runs\", \"runs\", \"russian\", \"russian\", \"russian\", \"sabbath\", \"safety\", \"safety\", \"safety\", \"said\", \"said\", \"said\", \"said\", \"said\", \"said\", \"said\", \"said\", \"saint\", \"sale\", \"sale\", \"sale\", \"sale\", \"salvation\", \"samples\", \"sampling\", \"samuelsson\", \"sand\", \"satan\", \"satellite\", \"satellites\", \"satisfaction\", \"says\", \"says\", \"says\", \"says\", \"says\", \"says\", \"says\", \"scheme\", \"scheme\", \"science\", \"science\", \"scope\", \"scope\", \"scope\", \"scope\", \"scorer\", \"scoring\", \"screen\", \"screen\", \"screen\", \"screws\", \"scripture\", \"scsi\", \"season\", \"season\", \"seasons\", \"seasons\", \"second\", \"second\", \"second\", \"second\", \"second\", \"second\", \"second\", \"second\", \"second\", \"second\", \"second\", \"secret\", \"secret\", \"secret\", \"secret\", \"secretary\", \"secretary\", \"section\", \"section\", \"section\", \"section\", \"sectors\", \"secure\", \"secure\", \"security\", \"seeds\", \"seizures\", \"self\", \"self\", \"self\", \"self\", \"self\", \"self\", \"self\", \"semak\", \"semi\", \"semi\", \"semi\", \"semi\", \"semi\", \"semi\", \"semitic\", \"senate\", \"senator\", \"senators\", \"send\", \"send\", \"send\", \"send\", \"send\", \"send\", \"send\", \"send\", \"send\", \"sender\", \"sense\", \"sense\", \"sense\", \"sense\", \"sense\", \"sensor\", \"serbs\", \"serbs\", \"serdar\", \"server\", \"servers\", \"service\", \"service\", \"service\", \"service\", \"service\", \"service\", \"service\", \"service\", \"service\", \"service\", \"shadow\", \"shadow\", \"shadow\", \"shall\", \"shall\", \"shall\", \"shall\", \"shameful\", \"shearson\", \"shipping\", \"shipping\", \"shipping\", \"shipping\", \"shuttle\", \"side\", \"side\", \"side\", \"side\", \"side\", \"side\", \"side\", \"side\", \"siggraph\", \"siggraph\", \"signal\", \"signal\", \"signal\", \"signal\", \"signal\", \"simm\", \"simms\", \"since\", \"since\", \"since\", \"since\", \"since\", \"since\", \"since\", \"since\", \"since\", \"since\", \"since\", \"skepticism\", \"skepticism\", \"slave\", \"slots\", \"smith\", \"smith\", \"smith\", \"smith\", \"smith\", \"society\", \"society\", \"society\", \"society\", \"society\", \"software\", \"software\", \"software\", \"solar\", \"solar\", \"soldiers\", \"soldiers\", \"soldiers\", \"something\", \"something\", \"something\", \"something\", \"something\", \"something\", \"sons\", \"soon\", \"soon\", \"soon\", \"soon\", \"soon\", \"soon\", \"soon\", \"soon\", \"soon\", \"soon\", \"source\", \"source\", \"source\", \"source\", \"source\", \"source\", \"source\", \"source\", \"source\", \"source\", \"soviet\", \"soviet\", \"soviet\", \"space\", \"space\", \"space\", \"spacecraft\", \"species\", \"species\", \"spherical\", \"spirit\", \"spirit\", \"staff\", \"staff\", \"staff\", \"staff\", \"staff\", \"standings\", \"stanley\", \"started\", \"started\", \"started\", \"started\", \"started\", \"started\", \"state\", \"state\", \"state\", \"state\", \"state\", \"state\", \"state\", \"state\", \"state\", \"states\", \"states\", \"states\", \"states\", \"states\", \"station\", \"station\", \"station\", \"station\", \"station\", \"station\", \"steam\", \"steam\", \"steering\", \"steven\", \"stewart\", \"sticking\", \"still\", \"still\", \"still\", \"still\", \"still\", \"still\", \"still\", \"still\", \"still\", \"still\", \"still\", \"still\", \"stimulus\", \"storage\", \"storage\", \"storage\", \"stream\", \"stream\", \"string\", \"studies\", \"studies\", \"studies\", \"studies\", \"study\", \"study\", \"study\", \"study\", \"study\", \"study\", \"subjective\", \"substances\", \"suck\", \"suck\", \"sugar\", \"suggests\", \"suggests\", \"sumgait\", \"supply\", \"supply\", \"supply\", \"supply\", \"supply\", \"support\", \"support\", \"support\", \"support\", \"support\", \"support\", \"support\", \"support\", \"sure\", \"sure\", \"sure\", \"sure\", \"sure\", \"sure\", \"sure\", \"sure\", \"surface\", \"surface\", \"surface\", \"surface\", \"surface\", \"surface\", \"surgery\", \"surgery\", \"surgery\", \"surrender\", \"surveillance\", \"suspension\", \"svga\", \"swedish\", \"swedish\", \"swedish\", \"switzerland\", \"switzerland\", \"symmetric\", \"symptoms\", \"symptoms\", \"sync\", \"syndrome\", \"syria\", \"syria\", \"syrian\", \"system\", \"system\", \"system\", \"system\", \"system\", \"system\", \"system\", \"system\", \"take\", \"take\", \"take\", \"take\", \"take\", \"take\", \"take\", \"take\", \"take\", \"take\", \"talent\", \"talent\", \"tampa\", \"tape\", \"tape\", \"tape\", \"tape\", \"tape\", \"targa\", \"taste\", \"taxes\", \"tbxn\", \"team\", \"team\", \"team\", \"teams\", \"technical\", \"technical\", \"technical\", \"technical\", \"technical\", \"technical\", \"technology\", \"technology\", \"technology\", \"technology\", \"telephone\", \"telephone\", \"telephone\", \"telephone\", \"telescope\", \"temperature\", \"temple\", \"tend\", \"tend\", \"tend\", \"territories\", \"territory\", \"territory\", \"test\", \"test\", \"test\", \"test\", \"test\", \"test\", \"test\", \"test\", \"test\", \"testament\", \"thanks\", \"thanks\", \"thanks\", \"thanks\", \"thanks\", \"thanks\", \"theists\", \"theories\", \"therapy\", \"therapy\", \"therapy\", \"thereof\", \"thing\", \"thing\", \"thing\", \"thing\", \"thing\", \"things\", \"things\", \"things\", \"things\", \"things\", \"things\", \"things\", \"think\", \"think\", \"think\", \"think\", \"think\", \"think\", \"think\", \"think\", \"third\", \"third\", \"third\", \"third\", \"third\", \"third\", \"third\", \"third\", \"third\", \"third\", \"third\", \"thor\", \"three\", \"three\", \"three\", \"three\", \"three\", \"three\", \"three\", \"three\", \"three\", \"three\", \"three\", \"three\", \"three\", \"three\", \"time\", \"time\", \"time\", \"time\", \"time\", \"time\", \"time\", \"time\", \"time\", \"time\", \"time\", \"time\", \"time\", \"timer\", \"times\", \"times\", \"times\", \"times\", \"times\", \"times\", \"times\", \"times\", \"times\", \"times\", \"tire\", \"tired\", \"tires\", \"titan\", \"told\", \"told\", \"told\", \"told\", \"told\", \"told\", \"told\", \"told\", \"took\", \"took\", \"took\", \"took\", \"took\", \"took\", \"toronto\", \"toronto\", \"toronto\", \"torture\", \"towers\", \"town\", \"town\", \"town\", \"toyota\", \"tracking\", \"treatment\", \"treatment\", \"treatment\", \"treatment\", \"treatments\", \"treaty\", \"trek\", \"trigger\", \"trigger\", \"true\", \"true\", \"true\", \"true\", \"true\", \"true\", \"true\", \"truetype\", \"truth\", \"truth\", \"truth\", \"tube\", \"tubes\", \"tulsa\", \"turkey\", \"turkish\", \"turkish\", \"turks\", \"turks\", \"tyre\", \"uart\", \"united\", \"united\", \"united\", \"united\", \"university\", \"university\", \"university\", \"university\", \"university\", \"university\", \"university\", \"unix\", \"unix\", \"unix\", \"upenn\", \"upgrade\", \"used\", \"used\", \"used\", \"used\", \"used\", \"used\", \"used\", \"used\", \"used\", \"used\", \"used\", \"usenet\", \"usenet\", \"usenet\", \"user\", \"user\", \"user\", \"user\", \"using\", \"using\", \"using\", \"using\", \"using\", \"using\", \"using\", \"using\", \"using\", \"utah\", \"utah\", \"uucp\", \"uucp\", \"uucp\", \"uucp\", \"uunet\", \"uunet\", \"uunet\", \"velocity\", \"venus\", \"version\", \"version\", \"version\", \"version\", \"version\", \"version\", \"version\", \"vesa\", \"video\", \"video\", \"video\", \"villages\", \"villages\", \"violence\", \"violent\", \"vision\", \"vision\", \"vision\", \"vision\", \"vitamin\", \"voltage\", \"volvo\", \"wales\", \"want\", \"want\", \"want\", \"want\", \"want\", \"want\", \"want\", \"want\", \"want\", \"want\", \"washington\", \"washington\", \"washington\", \"washington\", \"washington\", \"water\", \"water\", \"water\", \"water\", \"water\", \"water\", \"waters\", \"weapon\", \"weapon\", \"weapon\", \"weapon\", \"weapon\", \"weapons\", \"weapons\", \"weapons\", \"weaver\", \"weeks\", \"weeks\", \"weeks\", \"weeks\", \"weeks\", \"weeks\", \"well\", \"well\", \"well\", \"well\", \"well\", \"well\", \"well\", \"well\", \"well\", \"well\", \"well\", \"went\", \"went\", \"went\", \"went\", \"went\", \"wheel\", \"whether\", \"whether\", \"whether\", \"whether\", \"whether\", \"whether\", \"whether\", \"widget\", \"widgets\", \"window\", \"window\", \"windows\", \"windows\", \"windows\", \"windows\", \"wing\", \"wing\", \"wing\", \"wing\", \"wings\", \"wings\", \"winnipeg\", \"wire\", \"wire\", \"wired\", \"wires\", \"wires\", \"wiretap\", \"wiring\", \"women\", \"women\", \"women\", \"word\", \"word\", \"word\", \"word\", \"word\", \"word\", \"word\", \"work\", \"work\", \"work\", \"work\", \"work\", \"work\", \"work\", \"work\", \"work\", \"work\", \"work\", \"work\", \"world\", \"world\", \"world\", \"world\", \"world\", \"world\", \"world\", \"world\", \"world\", \"world\", \"worship\", \"would\", \"would\", \"would\", \"would\", \"would\", \"would\", \"would\", \"would\", \"would\", \"would\", \"would\", \"wrong\", \"wrong\", \"wrong\", \"wrong\", \"wrong\", \"wrong\", \"wwiz\", \"xlib\", \"xterm\", \"yamaha\", \"yanks\", \"year\", \"year\", \"year\", \"year\", \"year\", \"year\", \"year\", \"year\", \"year\", \"year\", \"years\", \"years\", \"years\", \"years\", \"years\", \"years\", \"years\", \"years\", \"years\", \"years\", \"years\", \"zionists\", \"zone\", \"zone\", \"zone\", \"zone\", \"zone\", \"zrlk\"]}, \"R\": 30, \"lambda.step\": 0.01, \"plot.opts\": {\"xlab\": \"PC1\", \"ylab\": \"PC2\"}, \"topic.order\": [17, 2, 13, 6, 1, 14, 7, 19, 10, 3, 4, 8, 9, 5, 11, 18, 20, 12, 16, 15]};\n",
       "\n",
       "function LDAvis_load_lib(url, callback){\n",
       "  var s = document.createElement('script');\n",
       "  s.src = url;\n",
       "  s.async = true;\n",
       "  s.onreadystatechange = s.onload = callback;\n",
       "  s.onerror = function(){console.warn(\"failed to load library \" + url);};\n",
       "  document.getElementsByTagName(\"head\")[0].appendChild(s);\n",
       "}\n",
       "\n",
       "if(typeof(LDAvis) !== \"undefined\"){\n",
       "   // already loaded: just create the visualization\n",
       "   !function(LDAvis){\n",
       "       new LDAvis(\"#\" + \"ldavis_el1794018822024282322988393277\", ldavis_el1794018822024282322988393277_data);\n",
       "   }(LDAvis);\n",
       "}else if(typeof define === \"function\" && define.amd){\n",
       "   // require.js is available: use it to load d3/LDAvis\n",
       "   require.config({paths: {d3: \"https://cdnjs.cloudflare.com/ajax/libs/d3/3.5.5/d3.min\"}});\n",
       "   require([\"d3\"], function(d3){\n",
       "      window.d3 = d3;\n",
       "      LDAvis_load_lib(\"https://cdn.rawgit.com/bmabey/pyLDAvis/files/ldavis.v1.0.0.js\", function(){\n",
       "        new LDAvis(\"#\" + \"ldavis_el1794018822024282322988393277\", ldavis_el1794018822024282322988393277_data);\n",
       "      });\n",
       "    });\n",
       "}else{\n",
       "    // require.js not available: dynamically load d3 & LDAvis\n",
       "    LDAvis_load_lib(\"https://cdnjs.cloudflare.com/ajax/libs/d3/3.5.5/d3.min.js\", function(){\n",
       "         LDAvis_load_lib(\"https://cdn.rawgit.com/bmabey/pyLDAvis/files/ldavis.v1.0.0.js\", function(){\n",
       "                 new LDAvis(\"#\" + \"ldavis_el1794018822024282322988393277\", ldavis_el1794018822024282322988393277_data);\n",
       "            })\n",
       "         });\n",
       "}\n",
       "</script>"
      ],
      "text/plain": [
       "<IPython.core.display.HTML object>"
      ]
     },
     "execution_count": 38,
     "metadata": {},
     "output_type": "execute_result"
    }
   ],
   "source": [
    "pyLDAvis.enable_notebook()\n",
    "vis = pyLDAvis.gensim.prepare(ldamodel, corpus, dictionary)\n",
    "pyLDAvis.display(vis)"
   ]
  },
  {
   "cell_type": "markdown",
   "metadata": {},
   "source": [
    "#### 6.2.5.4. 문서 별 토픽 분포 보기"
   ]
  },
  {
   "cell_type": "markdown",
   "metadata": {},
   "source": [
    "위에서 토픽 별 단어 분포는 확인하였으나, 아직 문서 별 토픽 분포에 대해선 확인하지 못했습니다.\n",
    "\n",
    "각 문서의 토픽 분포는 이미 훈련된 LDA 모델에서 전체 데이터가 정수 인코딩 된 결과를 넣은 후에 확인이 가능합니다."
   ]
  },
  {
   "cell_type": "code",
   "execution_count": 39,
   "metadata": {},
   "outputs": [
    {
     "name": "stdout",
     "output_type": "stream",
     "text": [
      "0  번째 문서의 topic 비율은 [(0, 0.1286175), (1, 0.7059573), (16, 0.14229512)]\n",
      "1  번째 문서의 topic 비율은 [(0, 0.2841038), (1, 0.39486736), (12, 0.1759603), (13, 0.04642022), (16, 0.082651585)]\n",
      "2  번째 문서의 topic 비율은 [(0, 0.29667747), (1, 0.48274583), (2, 0.036661465), (4, 0.020794887), (10, 0.03121134), (16, 0.12628786)]\n",
      "3  번째 문서의 topic 비율은 [(6, 0.39452332), (12, 0.49292785)]\n",
      "4  번째 문서의 topic 비율은 [(7, 0.04274679), (12, 0.33658442), (13, 0.109933175), (16, 0.3882941), (17, 0.098224804)]\n"
     ]
    }
   ],
   "source": [
    "for i, topic_list in enumerate(ldamodel[corpus]):\n",
    "    if i ==5:\n",
    "        break\n",
    "    print(i, ' 번째 문서의 topic 비율은', topic_list)"
   ]
  },
  {
   "cell_type": "markdown",
   "metadata": {},
   "source": [
    "위의 출력 결과에서 (숫자, 확률)은 각각 토픽 번호와 해당 토픽이 해당 문서에서 차지하는 분포도를 의미합니다."
   ]
  },
  {
   "cell_type": "markdown",
   "metadata": {},
   "source": [
    "위의 코드를 좀 더 깔끔한 형태인 데이터프레임 형식으로 출력해보겠습니다."
   ]
  },
  {
   "cell_type": "code",
   "execution_count": 40,
   "metadata": {},
   "outputs": [],
   "source": [
    "def make_topictable_per_doc(ldamodel, corpus):\n",
    "    topic_table = pd.DataFrame()\n",
    "\n",
    "    # 몇 번째 문서인지를 의미하는 문서 번호와 해당 문서의 토픽 비중을 한 줄씩 꺼내온다.\n",
    "    for i, topic_list in enumerate(ldamodel[corpus]):\n",
    "        doc = topic_list[0] if ldamodel.per_word_topics else topic_list            \n",
    "        doc = sorted(doc, key=lambda x: (x[1]), reverse=True)\n",
    "        # 각 문서에 대해서 비중이 높은 토픽순으로 토픽을 정렬한다.\n",
    "        # EX) 정렬 전 0번 문서 : (2번 토픽, 48.5%), (8번 토픽, 25%), (10번 토픽, 5%), (12번 토픽, 21.5%), \n",
    "        # Ex) 정렬 후 0번 문서 : (2번 토픽, 48.5%), (8번 토픽, 25%), (12번 토픽, 21.5%), (10번 토픽, 5%)\n",
    "        # 48 > 25 > 21 > 5 순으로 정렬이 된 것.\n",
    "\n",
    "        # 모든 문서에 대해서 각각 아래를 수행\n",
    "        for j, (topic_num, prop_topic) in enumerate(doc): #  몇 번 토픽인지와 비중을 나눠서 저장한다.\n",
    "            if j == 0:  # 정렬을 한 상태이므로 가장 앞에 있는 것이 가장 비중이 높은 토픽\n",
    "                topic_table = topic_table.append(pd.Series([int(topic_num), round(prop_topic,4), topic_list]), ignore_index=True)\n",
    "                # 가장 비중이 높은 토픽과, 가장 비중이 높은 토픽의 비중과, 전체 토픽의 비중을 저장한다.\n",
    "            else:\n",
    "                break\n",
    "    return(topic_table)"
   ]
  },
  {
   "cell_type": "code",
   "execution_count": 41,
   "metadata": {},
   "outputs": [
    {
     "data": {
      "text/html": [
       "<div>\n",
       "<style scoped>\n",
       "    .dataframe tbody tr th:only-of-type {\n",
       "        vertical-align: middle;\n",
       "    }\n",
       "\n",
       "    .dataframe tbody tr th {\n",
       "        vertical-align: top;\n",
       "    }\n",
       "\n",
       "    .dataframe thead th {\n",
       "        text-align: right;\n",
       "    }\n",
       "</style>\n",
       "<table border=\"1\" class=\"dataframe\">\n",
       "  <thead>\n",
       "    <tr style=\"text-align: right;\">\n",
       "      <th></th>\n",
       "      <th>문서 번호</th>\n",
       "      <th>가장 비중이 높은 토픽</th>\n",
       "      <th>가장 높은 토픽의 비중</th>\n",
       "      <th>각 토픽의 비중</th>\n",
       "    </tr>\n",
       "  </thead>\n",
       "  <tbody>\n",
       "    <tr>\n",
       "      <th>0</th>\n",
       "      <td>0</td>\n",
       "      <td>1.0</td>\n",
       "      <td>0.7064</td>\n",
       "      <td>[(0, 0.12822452), (1, 0.7064364), (16, 0.14220...</td>\n",
       "    </tr>\n",
       "    <tr>\n",
       "      <th>1</th>\n",
       "      <td>1</td>\n",
       "      <td>1.0</td>\n",
       "      <td>0.3948</td>\n",
       "      <td>[(0, 0.2841266), (1, 0.39477527), (12, 0.17595...</td>\n",
       "    </tr>\n",
       "    <tr>\n",
       "      <th>2</th>\n",
       "      <td>2</td>\n",
       "      <td>1.0</td>\n",
       "      <td>0.4828</td>\n",
       "      <td>[(0, 0.2966694), (1, 0.4827575), (2, 0.0366607...</td>\n",
       "    </tr>\n",
       "    <tr>\n",
       "      <th>3</th>\n",
       "      <td>3</td>\n",
       "      <td>12.0</td>\n",
       "      <td>0.4930</td>\n",
       "      <td>[(6, 0.39444745), (12, 0.49300376)]</td>\n",
       "    </tr>\n",
       "    <tr>\n",
       "      <th>4</th>\n",
       "      <td>4</td>\n",
       "      <td>16.0</td>\n",
       "      <td>0.3883</td>\n",
       "      <td>[(7, 0.042748228), (12, 0.33659917), (13, 0.10...</td>\n",
       "    </tr>\n",
       "    <tr>\n",
       "      <th>5</th>\n",
       "      <td>5</td>\n",
       "      <td>16.0</td>\n",
       "      <td>0.6884</td>\n",
       "      <td>[(4, 0.05945181), (5, 0.13433759), (13, 0.0972...</td>\n",
       "    </tr>\n",
       "    <tr>\n",
       "      <th>6</th>\n",
       "      <td>6</td>\n",
       "      <td>5.0</td>\n",
       "      <td>0.2687</td>\n",
       "      <td>[(0, 0.10795893), (1, 0.26712227), (2, 0.05132...</td>\n",
       "    </tr>\n",
       "    <tr>\n",
       "      <th>7</th>\n",
       "      <td>7</td>\n",
       "      <td>0.0</td>\n",
       "      <td>0.7820</td>\n",
       "      <td>[(0, 0.7819813), (1, 0.08642423), (2, 0.061065...</td>\n",
       "    </tr>\n",
       "    <tr>\n",
       "      <th>8</th>\n",
       "      <td>8</td>\n",
       "      <td>12.0</td>\n",
       "      <td>0.5867</td>\n",
       "      <td>[(0, 0.25087175), (12, 0.58666867), (13, 0.091...</td>\n",
       "    </tr>\n",
       "    <tr>\n",
       "      <th>9</th>\n",
       "      <td>9</td>\n",
       "      <td>0.0</td>\n",
       "      <td>0.4684</td>\n",
       "      <td>[(0, 0.4684366), (6, 0.085227855), (7, 0.07909...</td>\n",
       "    </tr>\n",
       "  </tbody>\n",
       "</table>\n",
       "</div>"
      ],
      "text/plain": [
       "   문서 번호  가장 비중이 높은 토픽  가장 높은 토픽의 비중  \\\n",
       "0      0           1.0        0.7064   \n",
       "1      1           1.0        0.3948   \n",
       "2      2           1.0        0.4828   \n",
       "3      3          12.0        0.4930   \n",
       "4      4          16.0        0.3883   \n",
       "5      5          16.0        0.6884   \n",
       "6      6           5.0        0.2687   \n",
       "7      7           0.0        0.7820   \n",
       "8      8          12.0        0.5867   \n",
       "9      9           0.0        0.4684   \n",
       "\n",
       "                                            각 토픽의 비중  \n",
       "0  [(0, 0.12822452), (1, 0.7064364), (16, 0.14220...  \n",
       "1  [(0, 0.2841266), (1, 0.39477527), (12, 0.17595...  \n",
       "2  [(0, 0.2966694), (1, 0.4827575), (2, 0.0366607...  \n",
       "3                [(6, 0.39444745), (12, 0.49300376)]  \n",
       "4  [(7, 0.042748228), (12, 0.33659917), (13, 0.10...  \n",
       "5  [(4, 0.05945181), (5, 0.13433759), (13, 0.0972...  \n",
       "6  [(0, 0.10795893), (1, 0.26712227), (2, 0.05132...  \n",
       "7  [(0, 0.7819813), (1, 0.08642423), (2, 0.061065...  \n",
       "8  [(0, 0.25087175), (12, 0.58666867), (13, 0.091...  \n",
       "9  [(0, 0.4684366), (6, 0.085227855), (7, 0.07909...  "
      ]
     },
     "execution_count": 41,
     "metadata": {},
     "output_type": "execute_result"
    }
   ],
   "source": [
    "topictable = make_topictable_per_doc(ldamodel, corpus)\n",
    "topictable = topictable.reset_index() # 문서 번호을 의미하는 열(column)로 사용하기 위해서 인덱스 열을 하나 더 만든다.\n",
    "topictable.columns = ['문서 번호', '가장 비중이 높은 토픽', '가장 높은 토픽의 비중', '각 토픽의 비중']\n",
    "topictable[:10]"
   ]
  },
  {
   "cell_type": "markdown",
   "metadata": {},
   "source": [
    "## 6.3. LDA 실습2"
   ]
  },
  {
   "cell_type": "markdown",
   "metadata": {},
   "source": [
    "앞서 gensim 을 통해 실습했지만, 이번에는 사이킷런을 통해 실습해보겠습니다."
   ]
  },
  {
   "cell_type": "markdown",
   "metadata": {},
   "source": [
    "### 6.3.1. 뉴스 기사 제목 데이터에 대한 이해"
   ]
  },
  {
   "cell_type": "markdown",
   "metadata": {},
   "source": [
    "링크 : https://www.kaggle.com/therohk/million-headlines"
   ]
  },
  {
   "cell_type": "code",
   "execution_count": 42,
   "metadata": {},
   "outputs": [],
   "source": [
    "import pandas as pd\n",
    "import urllib.request"
   ]
  },
  {
   "cell_type": "code",
   "execution_count": 43,
   "metadata": {},
   "outputs": [],
   "source": [
    "urllib.request.urlretrieve(\"https://raw.githubusercontent.com/franciscadias/data/master/abcnews-date-text.csv\", filename=\"abcnews-date-text.csv\")\n",
    "data = pd.read_csv('abcnews-date-text.csv', error_bad_lines=False)"
   ]
  },
  {
   "cell_type": "code",
   "execution_count": 44,
   "metadata": {},
   "outputs": [
    {
     "name": "stdout",
     "output_type": "stream",
     "text": [
      "1082168\n"
     ]
    }
   ],
   "source": [
    "print(len(data))"
   ]
  },
  {
   "cell_type": "markdown",
   "metadata": {},
   "source": [
    "해당 데이터는 약 100만개의 샘플을 가지고 있으며, 상위 5개의 샘플만 출력해봅시다."
   ]
  },
  {
   "cell_type": "code",
   "execution_count": 45,
   "metadata": {},
   "outputs": [
    {
     "name": "stdout",
     "output_type": "stream",
     "text": [
      "   publish_date                                      headline_text\n",
      "0      20030219  aba decides against community broadcasting lic...\n",
      "1      20030219     act fire witnesses must be aware of defamation\n",
      "2      20030219     a g calls for infrastructure protection summit\n",
      "3      20030219           air nz staff in aust strike for pay rise\n",
      "4      20030219      air nz strike to affect australian travellers\n"
     ]
    }
   ],
   "source": [
    "print(data.head(5))"
   ]
  },
  {
   "cell_type": "markdown",
   "metadata": {},
   "source": [
    "이 데이터는 publish_data와 headline_text라는 두 개의 열을 갖고 있습니다. 각각 뉴스가 나온 날짜와 뉴스 기사 제목을 의미합니다."
   ]
  },
  {
   "cell_type": "code",
   "execution_count": 46,
   "metadata": {},
   "outputs": [
    {
     "data": {
      "text/html": [
       "<div>\n",
       "<style scoped>\n",
       "    .dataframe tbody tr th:only-of-type {\n",
       "        vertical-align: middle;\n",
       "    }\n",
       "\n",
       "    .dataframe tbody tr th {\n",
       "        vertical-align: top;\n",
       "    }\n",
       "\n",
       "    .dataframe thead th {\n",
       "        text-align: right;\n",
       "    }\n",
       "</style>\n",
       "<table border=\"1\" class=\"dataframe\">\n",
       "  <thead>\n",
       "    <tr style=\"text-align: right;\">\n",
       "      <th></th>\n",
       "      <th>headline_text</th>\n",
       "    </tr>\n",
       "  </thead>\n",
       "  <tbody>\n",
       "    <tr>\n",
       "      <th>0</th>\n",
       "      <td>aba decides against community broadcasting lic...</td>\n",
       "    </tr>\n",
       "    <tr>\n",
       "      <th>1</th>\n",
       "      <td>act fire witnesses must be aware of defamation</td>\n",
       "    </tr>\n",
       "    <tr>\n",
       "      <th>2</th>\n",
       "      <td>a g calls for infrastructure protection summit</td>\n",
       "    </tr>\n",
       "    <tr>\n",
       "      <th>3</th>\n",
       "      <td>air nz staff in aust strike for pay rise</td>\n",
       "    </tr>\n",
       "    <tr>\n",
       "      <th>4</th>\n",
       "      <td>air nz strike to affect australian travellers</td>\n",
       "    </tr>\n",
       "  </tbody>\n",
       "</table>\n",
       "</div>"
      ],
      "text/plain": [
       "                                       headline_text\n",
       "0  aba decides against community broadcasting lic...\n",
       "1     act fire witnesses must be aware of defamation\n",
       "2     a g calls for infrastructure protection summit\n",
       "3           air nz staff in aust strike for pay rise\n",
       "4      air nz strike to affect australian travellers"
      ]
     },
     "execution_count": 46,
     "metadata": {},
     "output_type": "execute_result"
    }
   ],
   "source": [
    "# 데이터는 날리고 뉴스 제목만 남깁니다.\n",
    "\n",
    "text = data[['headline_text']]\n",
    "text.head()"
   ]
  },
  {
   "cell_type": "markdown",
   "metadata": {},
   "source": [
    "### 6.3.2. 텍스트 전처리"
   ]
  },
  {
   "cell_type": "markdown",
   "metadata": {},
   "source": [
    "이번 챕터에서는 불용어 제거, 표제어 추출, 길이가 짧은 단어 제거 라는 세 가지 전처리 기법을 사용합니다."
   ]
  },
  {
   "cell_type": "code",
   "execution_count": 47,
   "metadata": {},
   "outputs": [],
   "source": [
    "import nltk"
   ]
  },
  {
   "cell_type": "code",
   "execution_count": 48,
   "metadata": {},
   "outputs": [
    {
     "name": "stderr",
     "output_type": "stream",
     "text": [
      "C:\\Users\\thinp\\anaconda3\\envs\\Wyatt37\\lib\\site-packages\\ipykernel_launcher.py:1: SettingWithCopyWarning: \n",
      "A value is trying to be set on a copy of a slice from a DataFrame.\n",
      "Try using .loc[row_indexer,col_indexer] = value instead\n",
      "\n",
      "See the caveats in the documentation: https://pandas.pydata.org/pandas-docs/stable/user_guide/indexing.html#returning-a-view-versus-a-copy\n",
      "  \"\"\"Entry point for launching an IPython kernel.\n"
     ]
    }
   ],
   "source": [
    "# 토큰화\n",
    "\n",
    "text['headline_text'] = text.apply(lambda row: nltk.word_tokenize(row['headline_text']), axis=1)"
   ]
  },
  {
   "cell_type": "code",
   "execution_count": 49,
   "metadata": {},
   "outputs": [
    {
     "name": "stdout",
     "output_type": "stream",
     "text": [
      "                                       headline_text\n",
      "0  [aba, decides, against, community, broadcastin...\n",
      "1  [act, fire, witnesses, must, be, aware, of, de...\n",
      "2  [a, g, calls, for, infrastructure, protection,...\n",
      "3  [air, nz, staff, in, aust, strike, for, pay, r...\n",
      "4  [air, nz, strike, to, affect, australian, trav...\n"
     ]
    }
   ],
   "source": [
    "print(text.head(5))"
   ]
  },
  {
   "cell_type": "code",
   "execution_count": 50,
   "metadata": {},
   "outputs": [],
   "source": [
    "from nltk.corpus import stopwords"
   ]
  },
  {
   "cell_type": "code",
   "execution_count": 51,
   "metadata": {},
   "outputs": [
    {
     "name": "stderr",
     "output_type": "stream",
     "text": [
      "C:\\Users\\thinp\\anaconda3\\envs\\Wyatt37\\lib\\site-packages\\ipykernel_launcher.py:4: SettingWithCopyWarning: \n",
      "A value is trying to be set on a copy of a slice from a DataFrame.\n",
      "Try using .loc[row_indexer,col_indexer] = value instead\n",
      "\n",
      "See the caveats in the documentation: https://pandas.pydata.org/pandas-docs/stable/user_guide/indexing.html#returning-a-view-versus-a-copy\n",
      "  after removing the cwd from sys.path.\n"
     ]
    }
   ],
   "source": [
    "# 불용어 처리\n",
    "\n",
    "stop = stopwords.words('english')\n",
    "text['headline_text'] = text['headline_text'].apply(lambda x: [word for word in x if word not in (stop)])"
   ]
  },
  {
   "cell_type": "code",
   "execution_count": 52,
   "metadata": {},
   "outputs": [
    {
     "name": "stdout",
     "output_type": "stream",
     "text": [
      "                                       headline_text\n",
      "0   [aba, decides, community, broadcasting, licence]\n",
      "1    [act, fire, witnesses, must, aware, defamation]\n",
      "2     [g, calls, infrastructure, protection, summit]\n",
      "3          [air, nz, staff, aust, strike, pay, rise]\n",
      "4  [air, nz, strike, affect, australian, travellers]\n"
     ]
    }
   ],
   "source": [
    "print(text.head(5))"
   ]
  },
  {
   "cell_type": "code",
   "execution_count": 53,
   "metadata": {},
   "outputs": [],
   "source": [
    "# 표제어 추출 -> 3인칭 단수 표현을 1인칭으로 바꾸고, 과거형을 현재형으로 바꾼다.\n",
    "\n",
    "from nltk.stem import WordNetLemmatizer"
   ]
  },
  {
   "cell_type": "code",
   "execution_count": 55,
   "metadata": {},
   "outputs": [
    {
     "name": "stderr",
     "output_type": "stream",
     "text": [
      "C:\\Users\\thinp\\anaconda3\\envs\\Wyatt37\\lib\\site-packages\\ipykernel_launcher.py:1: SettingWithCopyWarning: \n",
      "A value is trying to be set on a copy of a slice from a DataFrame.\n",
      "Try using .loc[row_indexer,col_indexer] = value instead\n",
      "\n",
      "See the caveats in the documentation: https://pandas.pydata.org/pandas-docs/stable/user_guide/indexing.html#returning-a-view-versus-a-copy\n",
      "  \"\"\"Entry point for launching an IPython kernel.\n"
     ]
    }
   ],
   "source": [
    "text['headline_text'] = text['headline_text'].apply(lambda x: [WordNetLemmatizer().lemmatize(word, pos='v') for word in x])"
   ]
  },
  {
   "cell_type": "code",
   "execution_count": 56,
   "metadata": {},
   "outputs": [
    {
     "name": "stdout",
     "output_type": "stream",
     "text": [
      "                                       headline_text\n",
      "0       [aba, decide, community, broadcast, licence]\n",
      "1      [act, fire, witness, must, aware, defamation]\n",
      "2      [g, call, infrastructure, protection, summit]\n",
      "3          [air, nz, staff, aust, strike, pay, rise]\n",
      "4  [air, nz, strike, affect, australian, travellers]\n"
     ]
    }
   ],
   "source": [
    "print(text.head())"
   ]
  },
  {
   "cell_type": "code",
   "execution_count": 57,
   "metadata": {},
   "outputs": [],
   "source": [
    "# 길이가 3 이하인 단어 삭제\n",
    "\n",
    "tokenized_doc = text['headline_text'].apply(lambda x: [word for word in x if len(word) > 3])"
   ]
  },
  {
   "cell_type": "code",
   "execution_count": 58,
   "metadata": {},
   "outputs": [
    {
     "name": "stdout",
     "output_type": "stream",
     "text": [
      "0       [decide, community, broadcast, licence]\n",
      "1      [fire, witness, must, aware, defamation]\n",
      "2    [call, infrastructure, protection, summit]\n",
      "3                   [staff, aust, strike, rise]\n",
      "4      [strike, affect, australian, travellers]\n",
      "Name: headline_text, dtype: object\n"
     ]
    }
   ],
   "source": [
    "print(tokenized_doc[:5])"
   ]
  },
  {
   "cell_type": "markdown",
   "metadata": {},
   "source": [
    "### 6.3.3. TF-IDF 행렬 만들기"
   ]
  },
  {
   "cell_type": "code",
   "execution_count": 59,
   "metadata": {},
   "outputs": [
    {
     "name": "stderr",
     "output_type": "stream",
     "text": [
      "C:\\Users\\thinp\\anaconda3\\envs\\Wyatt37\\lib\\site-packages\\ipykernel_launcher.py:8: SettingWithCopyWarning: \n",
      "A value is trying to be set on a copy of a slice from a DataFrame.\n",
      "Try using .loc[row_indexer,col_indexer] = value instead\n",
      "\n",
      "See the caveats in the documentation: https://pandas.pydata.org/pandas-docs/stable/user_guide/indexing.html#returning-a-view-versus-a-copy\n",
      "  \n"
     ]
    }
   ],
   "source": [
    "# 일단 TF-IDF 행렬을 만들기 위해 역토큰화를 시켜야 합니다.\n",
    "\n",
    "detokenized_doc = []\n",
    "for i in range(len(text)):\n",
    "    t = ' '.join(tokenized_doc[i])\n",
    "    detokenized_doc.append(t)\n",
    "    \n",
    "text['headline_text'] = detokenized_doc # 다시 text['headline_text'] 에 재저장"
   ]
  },
  {
   "cell_type": "code",
   "execution_count": 60,
   "metadata": {},
   "outputs": [
    {
     "data": {
      "text/plain": [
       "0       decide community broadcast licence\n",
       "1       fire witness must aware defamation\n",
       "2    call infrastructure protection summit\n",
       "3                   staff aust strike rise\n",
       "4      strike affect australian travellers\n",
       "Name: headline_text, dtype: object"
      ]
     },
     "execution_count": 60,
     "metadata": {},
     "output_type": "execute_result"
    }
   ],
   "source": [
    "text['headline_text'][:5]"
   ]
  },
  {
   "cell_type": "code",
   "execution_count": 61,
   "metadata": {},
   "outputs": [],
   "source": [
    "# TF-IDF 행렬 만들기\n",
    "\n",
    "from sklearn.feature_extraction.text import TfidfVectorizer"
   ]
  },
  {
   "cell_type": "code",
   "execution_count": 62,
   "metadata": {},
   "outputs": [
    {
     "data": {
      "text/plain": [
       "(1082168, 1000)"
      ]
     },
     "execution_count": 62,
     "metadata": {},
     "output_type": "execute_result"
    }
   ],
   "source": [
    "vectorizer = TfidfVectorizer(stop_words='english',\n",
    "                            max_features=1000) # 상위 1,000개의 단어를 보존\n",
    "X = vectorizer.fit_transform(text['headline_text'])\n",
    "X.shape"
   ]
  },
  {
   "cell_type": "markdown",
   "metadata": {},
   "source": [
    "### 6.3.4. 토픽 모델링"
   ]
  },
  {
   "cell_type": "code",
   "execution_count": 64,
   "metadata": {},
   "outputs": [],
   "source": [
    "from sklearn.decomposition import LatentDirichletAllocation"
   ]
  },
  {
   "cell_type": "code",
   "execution_count": 65,
   "metadata": {},
   "outputs": [],
   "source": [
    "lda_model = LatentDirichletAllocation(n_components=10,\n",
    "                                     learning_method='online',\n",
    "                                     random_state=42,\n",
    "                                     max_iter=1)\n",
    "\n",
    "lda_top = lda_model.fit_transform(X)"
   ]
  },
  {
   "cell_type": "code",
   "execution_count": 66,
   "metadata": {},
   "outputs": [
    {
     "name": "stdout",
     "output_type": "stream",
     "text": [
      "[[1.00001578e-01 1.00001244e-01 3.50170827e+03 ... 1.00004257e-01\n",
      "  1.00001722e-01 1.00003979e-01]\n",
      " [1.00001847e-01 1.00001158e-01 1.00002229e-01 ... 1.00005861e-01\n",
      "  1.00006065e-01 1.00002605e-01]\n",
      " [1.00002307e-01 1.00001528e-01 1.00007348e-01 ... 1.00005637e-01\n",
      "  1.00002505e-01 1.00005427e-01]\n",
      " ...\n",
      " [3.51600411e+02 1.00001057e-01 1.00003859e-01 ... 1.00003895e-01\n",
      "  1.00005142e-01 1.00004596e-01]\n",
      " [1.00001062e-01 1.00001649e-01 1.00006522e-01 ... 1.77619511e+03\n",
      "  1.50652738e+02 7.53381835e+02]\n",
      " [1.00004033e-01 1.13513398e+03 1.00030595e-01 ... 1.00009276e-01\n",
      "  1.00003667e-01 1.00003605e-01]]\n",
      "(10, 1000)\n"
     ]
    }
   ],
   "source": [
    "print(lda_model.components_)\n",
    "print(lda_model.components_.shape)"
   ]
  },
  {
   "cell_type": "code",
   "execution_count": 67,
   "metadata": {},
   "outputs": [
    {
     "name": "stdout",
     "output_type": "stream",
     "text": [
      "Topic 1:  [('queensland', 7720.12), ('house', 6113.49), ('leave', 3849.71), ('2015', 3501.71), ('federal', 3120.93)]\n",
      "Topic 2:  [('police', 12092.44), ('sydney', 8393.29), ('melbourne', 7528.43), ('south', 6677.03), ('open', 5663.0)]\n",
      "Topic 3:  [('plan', 6033.16), ('change', 5874.27), ('year', 5586.42), ('school', 5465.06), ('coast', 5429.41)]\n",
      "Topic 4:  [('kill', 5851.6), ('woman', 5456.76), ('help', 5225.56), ('minister', 3973.22), ('child', 3838.44)]\n",
      "Topic 5:  [('death', 5935.06), ('women', 4232.53), ('indigenous', 4223.4), ('price', 3818.24), ('need', 3708.86)]\n",
      "Topic 6:  [('interview', 5924.98), ('record', 3987.87), ('league', 3911.12), ('fight', 3872.94), ('dead', 3503.84)]\n",
      "Topic 7:  [('charge', 8428.8), ('court', 7542.74), ('perth', 6456.53), ('murder', 6268.13), ('face', 5193.63)]\n",
      "Topic 8:  [('trump', 11966.41), ('australian', 11088.95), ('election', 7561.63), ('adelaide', 6758.36), ('canberra', 6112.23)]\n",
      "Topic 9:  [('home', 5674.38), ('market', 5545.86), ('north', 5142.38), ('warn', 5115.01), ('state', 4923.41)]\n",
      "Topic 10:  [('australia', 13691.08), ('government', 8725.19), ('attack', 6959.64), ('world', 6707.7), ('2016', 5488.19)]\n"
     ]
    }
   ],
   "source": [
    "terms = vectorizer.get_feature_names() # 단어 집합. 1,000개의 단어가 저장됨\n",
    "\n",
    "def get_topics(components, feature_names, n=5):\n",
    "    for idx, topic in enumerate(components):\n",
    "        print(\"Topic %d: \" %(idx+1),\n",
    "              [(feature_names[i], topic[i].round(2)) for i in topic.argsort()[:-n-1:-1]])\n",
    "get_topics(lda_model.components_, terms)"
   ]
  },
  {
   "cell_type": "code",
   "execution_count": null,
   "metadata": {},
   "outputs": [],
   "source": []
  }
 ],
 "metadata": {
  "kernelspec": {
   "display_name": "Python 3",
   "language": "python",
   "name": "python3"
  },
  "language_info": {
   "codemirror_mode": {
    "name": "ipython",
    "version": 3
   },
   "file_extension": ".py",
   "mimetype": "text/x-python",
   "name": "python",
   "nbconvert_exporter": "python",
   "pygments_lexer": "ipython3",
   "version": "3.7.7"
  }
 },
 "nbformat": 4,
 "nbformat_minor": 4
}
