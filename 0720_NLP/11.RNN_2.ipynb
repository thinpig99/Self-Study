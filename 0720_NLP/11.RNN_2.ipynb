{
 "cells": [
  {
   "cell_type": "markdown",
   "metadata": {},
   "source": [
    "# 11. RNN을 이용한 텍스트 분류"
   ]
  },
  {
   "cell_type": "markdown",
   "metadata": {},
   "source": [
    "우리가 명심해야할 것은 이정도입니다.\n",
    "\n",
    "1. 워드 임베딩의 방법\n",
    "    - 덴스 벡터로 하는 방법이 있다.\n",
    "    - 빈도순 인덱싱 방법이 있다.(빈도수가 적은 단어를 쳐낼 수 있다.)\n",
    "    \n",
    "2. RNN의 개념\n",
    "    - hidden_size = 출력의 크기(output_dim)\n",
    "    - timesteps = 시점의 수 = 각 문서에서의 단어 수.\n",
    "    - input_dim = 입력의 크기 = 각 단어의 벡터 표현의 차원 수"
   ]
  },
  {
   "cell_type": "markdown",
   "metadata": {},
   "source": [
    "## 11.2. 스팸 메일 분류하기"
   ]
  },
  {
   "cell_type": "markdown",
   "metadata": {},
   "source": [
    "케글에서 제공하는 데이터를 가지고 바닐라RNN을 이용한 스팸 메일 분류기를 구현해보겠습니다."
   ]
  },
  {
   "cell_type": "markdown",
   "metadata": {},
   "source": [
    "다운로드 링크 : https://www.kaggle.com/uciml/sms-spam-collection-dataset"
   ]
  },
  {
   "cell_type": "code",
   "execution_count": 1,
   "metadata": {},
   "outputs": [
    {
     "name": "stderr",
     "output_type": "stream",
     "text": [
      "Using TensorFlow backend.\n"
     ]
    }
   ],
   "source": [
    "import numpy as np\n",
    "import pandas as pd\n",
    "%matplotlib inline\n",
    "import matplotlib.pyplot as plt\n",
    "import urllib.request\n",
    "import seaborn as sns\n",
    "\n",
    "import keras"
   ]
  },
  {
   "cell_type": "code",
   "execution_count": 2,
   "metadata": {},
   "outputs": [],
   "source": [
    "from keras.preprocessing.text import Tokenizer\n",
    "from keras.preprocessing.sequence import pad_sequences"
   ]
  },
  {
   "cell_type": "markdown",
   "metadata": {},
   "source": [
    "### 11.2.1. Data Understanding"
   ]
  },
  {
   "cell_type": "code",
   "execution_count": 3,
   "metadata": {},
   "outputs": [],
   "source": [
    "urllib.request.urlretrieve(\"https://raw.githubusercontent.com/mohitgupta-omg/Kaggle-SMS-Spam-Collection-Dataset-/master/spam.csv\",\n",
    "                           filename=\"spam.csv\")\n",
    "data = pd.read_csv('spam.csv',\n",
    "                   encoding='latin1')"
   ]
  },
  {
   "cell_type": "code",
   "execution_count": 4,
   "metadata": {},
   "outputs": [
    {
     "data": {
      "text/plain": [
       "(5572, 5)"
      ]
     },
     "execution_count": 4,
     "metadata": {},
     "output_type": "execute_result"
    }
   ],
   "source": [
    "data.shape"
   ]
  },
  {
   "cell_type": "code",
   "execution_count": 5,
   "metadata": {},
   "outputs": [
    {
     "data": {
      "text/html": [
       "<div>\n",
       "<style scoped>\n",
       "    .dataframe tbody tr th:only-of-type {\n",
       "        vertical-align: middle;\n",
       "    }\n",
       "\n",
       "    .dataframe tbody tr th {\n",
       "        vertical-align: top;\n",
       "    }\n",
       "\n",
       "    .dataframe thead th {\n",
       "        text-align: right;\n",
       "    }\n",
       "</style>\n",
       "<table border=\"1\" class=\"dataframe\">\n",
       "  <thead>\n",
       "    <tr style=\"text-align: right;\">\n",
       "      <th></th>\n",
       "      <th>v1</th>\n",
       "      <th>v2</th>\n",
       "      <th>Unnamed: 2</th>\n",
       "      <th>Unnamed: 3</th>\n",
       "      <th>Unnamed: 4</th>\n",
       "    </tr>\n",
       "  </thead>\n",
       "  <tbody>\n",
       "    <tr>\n",
       "      <th>0</th>\n",
       "      <td>ham</td>\n",
       "      <td>Go until jurong point, crazy.. Available only ...</td>\n",
       "      <td>NaN</td>\n",
       "      <td>NaN</td>\n",
       "      <td>NaN</td>\n",
       "    </tr>\n",
       "    <tr>\n",
       "      <th>1</th>\n",
       "      <td>ham</td>\n",
       "      <td>Ok lar... Joking wif u oni...</td>\n",
       "      <td>NaN</td>\n",
       "      <td>NaN</td>\n",
       "      <td>NaN</td>\n",
       "    </tr>\n",
       "    <tr>\n",
       "      <th>2</th>\n",
       "      <td>spam</td>\n",
       "      <td>Free entry in 2 a wkly comp to win FA Cup fina...</td>\n",
       "      <td>NaN</td>\n",
       "      <td>NaN</td>\n",
       "      <td>NaN</td>\n",
       "    </tr>\n",
       "    <tr>\n",
       "      <th>3</th>\n",
       "      <td>ham</td>\n",
       "      <td>U dun say so early hor... U c already then say...</td>\n",
       "      <td>NaN</td>\n",
       "      <td>NaN</td>\n",
       "      <td>NaN</td>\n",
       "    </tr>\n",
       "    <tr>\n",
       "      <th>4</th>\n",
       "      <td>ham</td>\n",
       "      <td>Nah I don't think he goes to usf, he lives aro...</td>\n",
       "      <td>NaN</td>\n",
       "      <td>NaN</td>\n",
       "      <td>NaN</td>\n",
       "    </tr>\n",
       "  </tbody>\n",
       "</table>\n",
       "</div>"
      ],
      "text/plain": [
       "     v1                                                 v2 Unnamed: 2  \\\n",
       "0   ham  Go until jurong point, crazy.. Available only ...        NaN   \n",
       "1   ham                      Ok lar... Joking wif u oni...        NaN   \n",
       "2  spam  Free entry in 2 a wkly comp to win FA Cup fina...        NaN   \n",
       "3   ham  U dun say so early hor... U c already then say...        NaN   \n",
       "4   ham  Nah I don't think he goes to usf, he lives aro...        NaN   \n",
       "\n",
       "  Unnamed: 3 Unnamed: 4  \n",
       "0        NaN        NaN  \n",
       "1        NaN        NaN  \n",
       "2        NaN        NaN  \n",
       "3        NaN        NaN  \n",
       "4        NaN        NaN  "
      ]
     },
     "execution_count": 5,
     "metadata": {},
     "output_type": "execute_result"
    }
   ],
   "source": [
    "data.head()"
   ]
  },
  {
   "cell_type": "markdown",
   "metadata": {},
   "source": [
    "첫 번째 칼럼은 레이블입니다. 두 번째 칼럼은 내용이고, 세 번째 부터는 의미가 없습니다. 날려버립니다."
   ]
  },
  {
   "cell_type": "code",
   "execution_count": 6,
   "metadata": {},
   "outputs": [],
   "source": [
    "del data['Unnamed: 2']\n",
    "del data['Unnamed: 3']\n",
    "del data['Unnamed: 4']"
   ]
  },
  {
   "cell_type": "code",
   "execution_count": 9,
   "metadata": {},
   "outputs": [
    {
     "data": {
      "text/html": [
       "<div>\n",
       "<style scoped>\n",
       "    .dataframe tbody tr th:only-of-type {\n",
       "        vertical-align: middle;\n",
       "    }\n",
       "\n",
       "    .dataframe tbody tr th {\n",
       "        vertical-align: top;\n",
       "    }\n",
       "\n",
       "    .dataframe thead th {\n",
       "        text-align: right;\n",
       "    }\n",
       "</style>\n",
       "<table border=\"1\" class=\"dataframe\">\n",
       "  <thead>\n",
       "    <tr style=\"text-align: right;\">\n",
       "      <th></th>\n",
       "      <th>v1</th>\n",
       "      <th>v2</th>\n",
       "    </tr>\n",
       "  </thead>\n",
       "  <tbody>\n",
       "    <tr>\n",
       "      <th>0</th>\n",
       "      <td>0</td>\n",
       "      <td>Go until jurong point, crazy.. Available only ...</td>\n",
       "    </tr>\n",
       "    <tr>\n",
       "      <th>1</th>\n",
       "      <td>0</td>\n",
       "      <td>Ok lar... Joking wif u oni...</td>\n",
       "    </tr>\n",
       "    <tr>\n",
       "      <th>2</th>\n",
       "      <td>1</td>\n",
       "      <td>Free entry in 2 a wkly comp to win FA Cup fina...</td>\n",
       "    </tr>\n",
       "    <tr>\n",
       "      <th>3</th>\n",
       "      <td>0</td>\n",
       "      <td>U dun say so early hor... U c already then say...</td>\n",
       "    </tr>\n",
       "    <tr>\n",
       "      <th>4</th>\n",
       "      <td>0</td>\n",
       "      <td>Nah I don't think he goes to usf, he lives aro...</td>\n",
       "    </tr>\n",
       "  </tbody>\n",
       "</table>\n",
       "</div>"
      ],
      "text/plain": [
       "   v1                                                 v2\n",
       "0   0  Go until jurong point, crazy.. Available only ...\n",
       "1   0                      Ok lar... Joking wif u oni...\n",
       "2   1  Free entry in 2 a wkly comp to win FA Cup fina...\n",
       "3   0  U dun say so early hor... U c already then say...\n",
       "4   0  Nah I don't think he goes to usf, he lives aro..."
      ]
     },
     "execution_count": 9,
     "metadata": {},
     "output_type": "execute_result"
    }
   ],
   "source": [
    "# 레이블 값 인코딩\n",
    "data['v1'] = data['v1'].replace(['ham', 'spam'],[0, 1])\n",
    "data.head()"
   ]
  },
  {
   "cell_type": "code",
   "execution_count": 10,
   "metadata": {},
   "outputs": [
    {
     "data": {
      "text/plain": [
       "False"
      ]
     },
     "execution_count": 10,
     "metadata": {},
     "output_type": "execute_result"
    }
   ],
   "source": [
    "# 결측값 확인\n",
    "data.isnull().values.any()"
   ]
  },
  {
   "cell_type": "code",
   "execution_count": 13,
   "metadata": {},
   "outputs": [
    {
     "data": {
      "text/plain": [
       "(5169, 2)"
      ]
     },
     "execution_count": 13,
     "metadata": {},
     "output_type": "execute_result"
    }
   ],
   "source": [
    "# 중복값 확인\n",
    "data['v2'].nunique(), data['v1'].nunique()\n",
    "#nunique()는 유니크한 값의 개수를 반환한다.\n",
    "# unique()는 밸류 자체를 반환한다."
   ]
  },
  {
   "cell_type": "markdown",
   "metadata": {},
   "source": [
    "shape이 5572였는데 유니크값은 5169입니다. 중복 값이 약 400개 존재합니다. 제거해줍니다."
   ]
  },
  {
   "cell_type": "code",
   "execution_count": 14,
   "metadata": {},
   "outputs": [],
   "source": [
    "data.drop_duplicates(subset=['v2'], inplace=True)"
   ]
  },
  {
   "cell_type": "code",
   "execution_count": 15,
   "metadata": {},
   "outputs": [
    {
     "data": {
      "text/plain": [
       "(5169, 2)"
      ]
     },
     "execution_count": 15,
     "metadata": {},
     "output_type": "execute_result"
    }
   ],
   "source": [
    "data.shape"
   ]
  },
  {
   "cell_type": "code",
   "execution_count": 18,
   "metadata": {},
   "outputs": [
    {
     "data": {
      "image/png": "[encoded data removed]",
      "text/plain": [
       "<Figure size 432x288 with 1 Axes>"
      ]
     },
     "metadata": {
      "needs_background": "light"
     },
     "output_type": "display_data"
    }
   ],
   "source": [
    "# 레이블 분포 확인\n",
    "data['v1'].value_counts().plot(kind='bar');"
   ]
  },
  {
   "cell_type": "code",
   "execution_count": 19,
   "metadata": {},
   "outputs": [
    {
     "name": "stdout",
     "output_type": "stream",
     "text": [
      "   v1  count\n",
      "0   0   4516\n",
      "1   1    653\n"
     ]
    }
   ],
   "source": [
    "print(data.groupby('v1').size().reset_index(name='count'))"
   ]
  },
  {
   "cell_type": "code",
   "execution_count": 20,
   "metadata": {},
   "outputs": [],
   "source": [
    "# feature와 label을 분리해줍니다.\n",
    "\n",
    "X_data = data['v2']\n",
    "y_data = data['v1']"
   ]
  },
  {
   "cell_type": "markdown",
   "metadata": {},
   "source": [
    "### 11.2.2. Preprocessing"
   ]
  },
  {
   "cell_type": "code",
   "execution_count": 22,
   "metadata": {},
   "outputs": [],
   "source": [
    "tokenizer = Tokenizer()\n",
    "tokenizer.fit_on_texts(X_data) # 토큰화를 진행합니다.\n",
    "sequences = tokenizer.texts_to_sequences(X_data) # 단어를 인덱스로 변환"
   ]
  },
  {
   "cell_type": "code",
   "execution_count": 25,
   "metadata": {},
   "outputs": [
    {
     "name": "stdout",
     "output_type": "stream",
     "text": [
      "[[47, 433, 4013, 780, 705, 662, 64, 8, 1202, 94, 121, 434, 1203, 142, 2712, 1204, 68, 57, 4014, 137], [49, 306, 1364, 435, 6, 1767], [53, 537, 8, 20, 4, 1016, 934, 2, 220, 2713, 1365, 706, 2714, 2715, 267, 2716, 70, 2713, 2, 2717, 2, 359, 537, 604, 1205, 82, 436, 185, 707, 437, 4015], [6, 226, 152, 23, 347, 2718, 6, 138, 145, 56, 152], [935, 1, 97, 96, 69, 453, 2, 877, 69, 1768, 198, 105, 438]]\n"
     ]
    }
   ],
   "source": [
    "print(sequences[:5])"
   ]
  },
  {
   "cell_type": "code",
   "execution_count": 29,
   "metadata": {
    "collapsed": true,
    "jupyter": {
     "outputs_hidden": true
    }
   },
   "outputs": [
    {
     "name": "stdout",
     "output_type": "stream",
     "text": [
      "{'i': 1, 'to': 2, 'you': 3, 'a': 4, 'the': 5, 'u': 6, 'and': 7, 'in': 8, 'is': 9, 'me': 10, 'my': 11, 'for': 12, 'your': 13, 'it': 14, 'of': 15, 'have': 16, 'call': 17, 'that': 18, 'on': 19, '2': 20, 'are': 21, 'now': 22, 'so': 23, 'but': 24, 'not': 25, 'can': 26, 'at': 27, 'or': 28, \"i'm\": 29, 'do': 30, 'be': 31, 'get': 32, 'will': 33, 'just': 34, 'if': 35, 'with': 36, 'we': 37, 'no': 38, 'this': 39, 'ur': 40, 'up': 41, 'gt': 42, 'lt': 43, '4': 44, 'how': 45, 'when': 46, 'go': 47, 'from': 48, 'ok': 49, 'out': 50, 'all': 51, 'what': 52, 'free': 53, 'know': 54, 'like': 55, 'then': 56, 'got': 57, 'good': 58, 'come': 59, 'am': 60, 'was': 61, 'time': 62, 'its': 63, 'only': 64, 'day': 65, 'want': 66, 'love': 67, 'there': 68, 'he': 69, 'text': 70, 'send': 71, 'going': 72, 'one': 73, 'need': 74, 'by': 75, 'lor': 76, 'home': 77, 'as': 78, 'about': 79, 'still': 80, 'see': 81, 'txt': 82, 'back': 83, 'r': 84, 'stop': 85, 'da': 86, 'k': 87, 'today': 88, 'our': 89, \"i'll\": 90, 'dont': 91, 'reply': 92, 'take': 93, 'n': 94, 'hi': 95, 'think': 96, \"don't\": 97, 'tell': 98, 'any': 99, 'sorry': 100, 'new': 101, 'please': 102, 'mobile': 103, 'she': 104, 'here': 105, 'ì': 106, 'her': 107, 'been': 108, 'they': 109, 'some': 110, 'did': 111, 'well': 112, 'hey': 113, 'much': 114, 'phone': 115, 'oh': 116, 'hope': 117, 'night': 118, 'too': 119, 'him': 120, 'great': 121, 'week': 122, 'where': 123, 'an': 124, 'has': 125, 'more': 126, 'dear': 127, 'later': 128, 'pls': 129, '1': 130, 'make': 131, 'msg': 132, 'give': 133, 'claim': 134, 'way': 135, 'happy': 136, 'wat': 137, 'c': 138, 'had': 139, 'should': 140, \"it's\": 141, 'e': 142, 'yes': 143, 'who': 144, 'already': 145, 'number': 146, 'ask': 147, 'work': 148, 'yeah': 149, 'www': 150, 'really': 151, 'say': 152, 'after': 153, 'prize': 154, 'doing': 155, 'tomorrow': 156, 'im': 157, 'right': 158, 'meet': 159, 'babe': 160, 'why': 161, 'cash': 162, 'thanks': 163, 'message': 164, 'said': 165, 'cos': 166, 'find': 167, '3': 168, 'lol': 169, 'them': 170, 'would': 171, 'last': 172, 'b': 173, 'very': 174, 'miss': 175, 'life': 176, 'also': 177, 'let': 178, 'sure': 179, 'anything': 180, 'morning': 181, 'something': 182, 'd': 183, 'keep': 184, 't': 185, \"i've\": 186, 'every': 187, '150p': 188, 'again': 189, 'before': 190, 'urgent': 191, 'wait': 192, 'care': 193, 'next': 194, 'over': 195, 'us': 196, 'buy': 197, 'around': 198, 'first': 199, 'contact': 200, 'min': 201, 'sent': 202, 'thing': 203, 'were': 204, 'pick': 205, 'money': 206, 'off': 207, 's': 208, 'tonight': 209, 'won': 210, 'com': 211, 'could': 212, 'gonna': 213, 'soon': 214, 'his': 215, 'feel': 216, 'amp': 217, 'nokia': 218, \"can't\": 219, 'win': 220, 'even': 221, 'ya': 222, 'which': 223, 'late': 224, 'sleep': 225, 'dun': 226, 'down': 227, \"that's\": 228, 'uk': 229, 'someone': 230, 'leave': 231, 'wan': 232, 'many': 233, 'v': 234, 'always': 235, 'place': 236, 'service': 237, 'ìï': 238, 'cant': 239, 'other': 240, \"you're\": 241, 'things': 242, 'haha': 243, '5': 244, 'chat': 245, 'told': 246, 'per': 247, 'getting': 248, 'x': 249, 'nice': 250, 'waiting': 251, 'same': 252, 'yet': 253, 'thk': 254, 'coming': 255, 'help': 256, 'went': 257, '50': 258, 'customer': 259, 'done': 260, 'hello': 261, 'thought': 262, 'friend': 263, 'fine': 264, 'try': 265, 'sms': 266, 'may': 267, 'stuff': 268, 'class': 269, 'year': 270, 'mins': 271, 'wish': 272, 'tone': 273, 'co': 274, 'talk': 275, 'use': 276, \"didn't\": 277, 'gud': 278, '18': 279, 'y': 280, 'better': 281, 'friends': 282, 'name': 283, 'finish': 284, 'trying': 285, 'bit': 286, 'best': 287, 'cool': 288, 'guaranteed': 289, 'long': 290, 'ill': 291, 'yup': 292, '6': 293, 'people': 294, '16': 295, 'being': 296, 'never': 297, 'ready': 298, 'few': 299, 'lunch': 300, 'car': 301, 'end': 302, 'yo': 303, 'draw': 304, 'enjoy': 305, 'lar': 306, 'eat': 307, 'meeting': 308, 'wanna': 309, 'thats': 310, 'job': 311, 'nothing': 312, 'holiday': 313, 'house': 314, 'than': 315, 'line': 316, 'having': 317, 'live': 318, 'check': 319, 'guess': 320, 'liao': 321, 'cs': 322, 'days': 323, 'dinner': 324, 'man': 325, 'half': 326, 'wk': 327, 'because': 328, 'shit': 329, 'problem': 330, '7': 331, 'month': 332, 'special': 333, 'ah': 334, 'real': 335, 'another': 336, 'account': 337, 'jus': 338, 'big': 339, 'might': 340, 'quite': 341, 'mind': 342, 'smile': 343, 'lot': 344, 'shows': 345, 'dat': 346, 'early': 347, 'word': 348, 'å£1': 349, 'room': 350, 'once': 351, 'aight': 352, 'sir': 353, 'guys': 354, 'person': 355, 'video': 356, 'heart': 357, 'probably': 358, 'receive': 359, 'xxx': 360, 'latest': 361, 'wont': 362, 'remember': 363, 'maybe': 364, 'bed': 365, 'll': 366, 'start': 367, 'into': 368, 'watch': 369, 'chance': 370, 'den': 371, 'watching': 372, 'pay': 373, 'left': 374, 'does': 375, 'weekend': 376, 'play': 377, 'awarded': 378, 'hear': 379, 'offer': 380, 'thanx': 381, 'baby': 382, 'box': 383, 'dunno': 384, 'ever': 385, 'sat': 386, 'actually': 387, 'bad': 388, 'princess': 389, 'kiss': 390, 'fun': 391, 'speak': 392, 'cost': 393, 'look': 394, \"he's\": 395, 'landline': 396, 'little': 397, 'luv': 398, 'leh': 399, 'reach': 400, 'face': 401, 'shopping': 402, 'shall': 403, 'minutes': 404, 'code': 405, 'thank': 406, \"how's\": 407, '10': 408, 'pa': 409, 'forgot': 410, '150ppm': 411, 'anyway': 412, 'm': 413, 'called': 414, 'two': 415, 'camera': 416, 'bus': 417, 'sweet': 418, 'å£1000': 419, 'girl': 420, 'tv': 421, 'working': 422, 'tmr': 423, 'everything': 424, 'didnt': 425, 'plan': 426, 'hour': 427, 'texts': 428, 'god': 429, '1st': 430, 'fuck': 431, 'dad': 432, 'until': 433, 'world': 434, 'wif': 435, 'rate': 436, 'apply': 437, 'though': 438, 'enough': 439, \"there's\": 440, 'since': 441, 'looking': 442, 'okay': 443, 'join': 444, 'those': 445, 'boy': 446, 'po': 447, 'orange': 448, 'office': 449, 'put': 450, 'while': 451, 'town': 452, 'goes': 453, 'network': 454, 'ringtone': 455, '2nd': 456, 'wanted': 457, 'abt': 458, 'says': 459, 'birthday': 460, 'must': 461, 'bt': 462, 'mail': 463, 'able': 464, 'collect': 465, 'wot': 466, 'bring': 467, '9': 468, '000': 469, 'times': 470, 'most': 471, 'part': 472, 'dis': 473, 'afternoon': 474, 'show': 475, 'juz': 476, 'school': 477, 'award': 478, 'evening': 479, 'easy': 480, 'important': 481, 'g': 482, 'asked': 483, 'wake': 484, 'tones': 485, 'made': 486, 'details': 487, 'plus': 488, 'selected': 489, 'alright': 490, 're': 491, 'saw': 492, 'hair': 493, 'came': 494, 'havent': 495, 'else': 496, 'worry': 497, 'away': 498, 'guy': 499, 'missed': 500, 'yesterday': 501, 'pain': 502, 'price': 503, 'making': 504, 'haf': 505, 'sexy': 506, 'without': 507, 'years': 508, 'til': 509, 'xmas': 510, 'oso': 511, 'book': 512, 'dude': 513, 'stay': 514, '8': 515, 'attempt': 516, 'online': 517, 'gift': 518, 'collection': 519, 'lei': 520, 'valid': 521, 'ard': 522, \"we're\": 523, 'messages': 524, \"haven't\": 525, 'driving': 526, 'food': 527, 'missing': 528, 'hav': 529, \"what's\": 530, 'nite': 531, '10p': 532, 'true': 533, 'bored': 534, 'sch': 535, 'goin': 536, 'entry': 537, 'update': 538, 'net': 539, 'till': 540, \"won't\": 541, 'tried': 542, 'calls': 543, 'means': 544, 'between': 545, 'movie': 546, 'run': 547, 'test': 548, 'address': 549, 'busy': 550, 'order': 551, 'change': 552, 'tot': 553, 'feeling': 554, 'together': 555, 'de': 556, 'wants': 557, 'makes': 558, 'words': 559, 'http': 560, 'yourself': 561, 'mob': 562, 'trip': 563, 'mean': 564, 'old': 565, 'believe': 566, 'decimal': 567, 'id': 568, 'both': 569, 'noe': 570, 'happen': 571, '500': 572, 'ring': 573, 'hot': 574, 'club': 575, 'full': 576, 'hurt': 577, 'weekly': 578, \"we'll\": 579, 'chikku': 580, 'huh': 581, 'these': 582, 'family': 583, 'drive': 584, 'colour': 585, 'å£100': 586, 'date': 587, 'national': 588, 'aft': 589, 'tomo': 590, 'delivery': 591, 'yours': 592, 'finished': 593, 'wen': 594, 'points': 595, 'top': 596, 'awesome': 597, 'shop': 598, 'beautiful': 599, 'thinking': 600, 'saying': 601, 'rite': 602, '8007': 603, 'question': 604, 'hours': 605, 'tho': 606, 'second': 607, 'double': 608, 'comes': 609, 'started': 610, 'cause': 611, 'å£2000': 612, 'taking': 613, 'leaving': 614, 'walk': 615, 'charge': 616, 'lets': 617, 'plz': 618, 'calling': 619, 'drink': 620, 'head': 621, 'eve': 622, 'gd': 623, 'sae': 624, 'either': 625, 'neva': 626, 'game': 627, 'pub': 628, \"she's\": 629, 'sad': 630, 'brother': 631, 'set': 632, 'lesson': 633, 'took': 634, 'bonus': 635, 'lucky': 636, 'xx': 637, 'private': 638, 'todays': 639, 'services': 640, 'open': 641, 'lots': 642, 'smoke': 643, 'gr8': 644, 'sis': 645, 'break': 646, 'sounds': 647, 'wil': 648, 'music': 649, '750': 650, 'w': 651, 'poly': 652, 'pics': 653, 'whatever': 654, 'wife': 655, 'email': 656, 'await': 657, 'loving': 658, 'pic': 659, 'alone': 660, 'auction': 661, 'available': 662, 'treat': 663, 'pounds': 664, 'news': 665, 'ha': 666, 'smth': 667, 'forget': 668, '08000930705': 669, 'girls': 670, 'gone': 671, '12hrs': 672, 'happened': 673, 'statement': 674, 'expires': 675, 'answer': 676, 'nt': 677, 'coz': 678, 'everyone': 679, 'needs': 680, 'carlos': 681, 'boytoy': 682, 'minute': 683, 'touch': 684, 'college': 685, 'sleeping': 686, 'company': 687, 'anytime': 688, 'unsubscribe': 689, 'choose': 690, 'far': 691, 'card': 692, 'games': 693, 'row': 694, 'pm': 695, 'dating': 696, 'land': 697, 'å£500': 698, 'kind': 699, 'mine': 700, 'mum': 701, 'voucher': 702, 'sun': 703, 'drop': 704, 'crazy': 705, 'final': 706, \"c's\": 707, '11': 708, 'wonderful': 709, \"doesn't\": 710, 'decided': 711, 'camcorder': 712, 'used': 713, 'close': 714, 'smiling': 715, 'identifier': 716, 'msgs': 717, 'each': 718, 'content': 719, 'wit': 720, 'found': 721, 'darlin': 722, 'oredi': 723, 'sister': 724, 'bout': 725, 'fucking': 726, 'nope': 727, 'outside': 728, 'fri': 729, 'pretty': 730, 'fast': 731, 'weeks': 732, '\\x89û': 733, 'anyone': 734, 'don': 735, 'hows': 736, '30': 737, 'freemsg': 738, '100': 739, 'credit': 740, 'hungry': 741, 'telling': 742, 'whole': 743, 'congrats': 744, 'å£5000': 745, 'prob': 746, 'search': 747, 'hit': 748, 'friday': 749, 'hmm': 750, 'mu': 751, \"you'll\": 752, 'yr': 753, 'ltd': 754, 'hard': 755, 'frnd': 756, 'fancy': 757, 'bank': 758, 'finally': 759, 'goodmorning': 760, 'tel': 761, 'meant': 762, 'vouchers': 763, 'takes': 764, 'unlimited': 765, '86688': 766, 'okie': 767, 'friendship': 768, 'post': 769, 'simple': 770, 'sea': 771, 'listen': 772, 'o': 773, 'snow': 774, 'mate': 775, 'earlier': 776, 'party': 777, 'chennai': 778, 'dreams': 779, 'point': 780, 'winner': 781, 'info': 782, 'saturday': 783, 'almost': 784, 'cut': 785, 'hee': 786, 'download': 787, 'mah': 788, 'caller': 789, '03': 790, 'player': 791, 'age': 792, 'type': 793, 'whats': 794, 'hmmm': 795, \"you've\": 796, 'log': 797, 'course': 798, 'side': 799, 'fr': 800, 'congratulations': 801, 'fone': 802, 'lost': 803, 'christmas': 804, 'read': 805, 'ago': 806, 'mobileupd8': 807, 'talking': 808, 'project': 809, 'couple': 810, 'india': 811, 'å£250': 812, 'opt': 813, 'visit': 814, 'park': 815, 'å£2': 816, '2003': 817, '800': 818, 'un': 819, 'yar': 820, 'area': 821, 'knw': 822, 'b4': 823, 'mayb': 824, 'least': 825, 'luck': 826, 'gas': 827, \"i'd\": 828, 'eh': 829, 'charged': 830, 'seeing': 831, 'wow': 832, 'etc': 833, 'gotta': 834, 'computer': 835, 'mom': 836, 'uncle': 837, 'numbers': 838, 'sending': 839, 'direct': 840, 'tired': 841, 'their': 842, 'mr': 843, 'worth': 844, 'balance': 845, 'rs': 846, 'march': 847, 'case': 848, 'hold': 849, 'wid': 850, 'swing': 851, 'light': 852, 'currently': 853, 'suite342': 854, '2lands': 855, '08000839402': 856, 'seen': 857, 'reason': 858, 'ass': 859, 'supposed': 860, 'welcome': 861, 'cum': 862, 'lose': 863, 'redeemed': 864, '04': 865, 'through': 866, 'gym': 867, 'darren': 868, 'sex': 869, 'lovely': 870, 'ugh': 871, 'wrong': 872, 'support': 873, 'grins': 874, 'difficult': 875, \"wasn't\": 876, 'usf': 877, '20': 878, 'pobox': 879, 'eg': 880, 'comin': 881, 'confirm': 882, 'abiola': 883, 'crave': 884, 'gets': 885, 'ac': 886, 'pass': 887, 'complimentary': 888, 'loads': 889, 'shower': 890, 'operator': 891, 'match': 892, 'quiz': 893, 'dogging': 894, 'ni8': 895, 'safe': 896, 'muz': 897, 'bath': 898, 'story': 899, 'orchard': 900, 'kate': 901, 'exam': 902, 'secret': 903, 'thinks': 904, 'laptop': 905, 'angry': 906, 'own': 907, 'wana': 908, 'die': 909, 'somebody': 910, 'rest': 911, 'txts': 912, 'jay': 913, 'ex': 914, 'st': 915, 'motorola': 916, 'slow': 917, 'rental': 918, 'asking': 919, 'monday': 920, 'frm': 921, 'å£3': 922, 'sound': 923, 'wonder': 924, 'extra': 925, 'understand': 926, 'whenever': 927, 'sort': 928, 'asap': 929, 'heard': 930, 'na': 931, 'information': 932, 'enter': 933, 'comp': 934, 'nah': 935, 'reward': 936, '12': 937, 'sunday': 938, 'wap': 939, 'link': 940, 'myself': 941, 'worried': 942, 'oops': 943, 'red': 944, 'correct': 945, 'move': 946, 'song': 947, 'frnds': 948, 'save': 949, 'tickets': 950, 'il': 951, 'gave': 952, \"isn't\": 953, 'felt': 954, 'pray': 955, 'wine': 956, 'dream': 957, 'parents': 958, 'spend': 959, 'bathe': 960, 'bill': 961, 'semester': 962, 'study': 963, 'tc': 964, '87066': 965, 'blue': 966, 'tonite': 967, 'stupid': 968, 'ends': 969, 'normal': 970, 'pete': 971, 'plans': 972, 'via': 973, 'small': 974, 'figure': 975, 'met': 976, 'rakhesh': 977, 'moment': 978, 'call2optout': 979, 'woke': 980, 'phones': 981, 'mm': 982, 'yep': 983, 'voice': 984, 'booked': 985, 'th': 986, 'ten': 987, 'different': 988, 'water': 989, 'ipod': 990, 'offers': 991, 'hoping': 992, 'across': 993, 'warm': 994, 'em': 995, 'happiness': 996, 'å£350': 997, 'drugs': 998, 'laugh': 999, 'ans': 1000, 'fantastic': 1001, 'sell': 1002, 'glad': 1003, 'store': 1004, 'picking': 1005, 'mates': 1006, 'knew': 1007, 'nyt': 1008, 'p': 1009, 'surprise': 1010, 'film': 1011, '2nite': 1012, 'fact': 1013, 'loved': 1014, 'doin': 1015, 'wkly': 1016, 'valued': 1017, 'months': 1018, 'mobiles': 1019, 'promise': 1020, 'knows': 1021, 'sick': 1022, 'catch': 1023, 'hospital': 1024, 'ice': 1025, 'reached': 1026, 'checking': 1027, 'forever': 1028, '0800': 1029, 'men': 1030, \"''\": 1031, 'invited': 1032, 'rates': 1033, 'buying': 1034, 'lazy': 1035, 'lect': 1036, 'hand': 1037, 'f': 1038, 'staying': 1039, 'doesnt': 1040, 'especially': 1041, 'studying': 1042, 'trust': 1043, 'using': 1044, 'deal': 1045, 'itself': 1046, 'dead': 1047, 'mrt': 1048, 'ive': 1049, 'lessons': 1050, 'street': 1051, 'disturb': 1052, 'questions': 1053, 'unless': 1054, 'somewhere': 1055, 'å£200': 1056, '2day': 1057, 'reading': 1058, 'access': 1059, 'custcare': 1060, 'weed': 1061, 'w1j6hl': 1062, 'brings': 1063, 'rock': 1064, 'al': 1065, 'kinda': 1066, 'remove': 1067, 'meh': 1068, 'rent': 1069, 'less': 1070, 'savamob': 1071, 'within': 1072, 'cheap': 1073, '150': 1074, 'train': 1075, '\\x89ûò': 1076, 'ts': 1077, 'paper': 1078, 'xy': 1079, 'å£10': 1080, 'ones': 1081, 'gettin': 1082, 'charity': 1083, 'poor': 1084, 'user': 1085, 'truth': 1086, 'hiya': 1087, 'doctor': 1088, 'gal': 1089, 'nobody': 1090, 'mon': 1091, 'wondering': 1092, 'others': 1093, 'ringtones': 1094, 'tht': 1095, 'reaching': 1096, 'excellent': 1097, 'sitting': 1098, 'anymore': 1099, 'england': 1100, '87077': 1101, 'mark': 1102, 'pizza': 1103, 'cheers': 1104, 'quick': 1105, 'decide': 1106, \"you'd\": 1107, 'nigeria': 1108, 'short': 1109, 'rply': 1110, 'stand': 1111, 'spent': 1112, 'rain': 1113, 'planning': 1114, 'umma': 1115, 'weekends': 1116, 'weight': 1117, 'entered': 1118, 'specially': 1119, 'paying': 1120, 'ending': 1121, 'bak': 1122, 'txting': 1123, 'sometimes': 1124, \"where's\": 1125, 'joined': 1126, 'however': 1127, 'mrng': 1128, 'slept': 1129, 'bcoz': 1130, 'road': 1131, 'reveal': 1132, 'goodnight': 1133, 'cd': 1134, 'lemme': 1135, 'credits': 1136, 'usual': 1137, 'bslvyl': 1138, 'coffee': 1139, '4u': 1140, 'immediately': 1141, 'fixed': 1142, 'valentines': 1143, 'wiv': 1144, 'interested': 1145, 'round': 1146, 'urself': 1147, 'hg': 1148, 'discount': 1149, 'mistake': 1150, 'facebook': 1151, 'yahoo': 1152, 'aha': 1153, 'funny': 1154, 'giving': 1155, 'din': 1156, 'terms': 1157, 'near': 1158, '02': 1159, 'age16': 1160, 'workin': 1161, 'daddy': 1162, 'clean': 1163, 'door': 1164, 'ar': 1165, 'noon': 1166, 'valentine': 1167, 'longer': 1168, 'pc': 1169, 'starting': 1170, 'tuesday': 1171, 'king': 1172, 'seems': 1173, 'add': 1174, 'eyes': 1175, 'library': 1176, 'wishing': 1177, 'slave': 1178, 'omg': 1179, 'polys': 1180, 'tampa': 1181, 'yrs': 1182, 'training': 1183, 'sale': 1184, 'gay': 1185, '08712460324': 1186, 'mo': 1187, 'medical': 1188, 'black': 1189, 'awaiting': 1190, 'cancel': 1191, 'honey': 1192, 'bb': 1193, 'vl': 1194, 'frens': 1195, 'write': 1196, '06': 1197, 'john': 1198, 'father': 1199, 'wednesday': 1200, 'thinkin': 1201, 'bugis': 1202, 'la': 1203, 'cine': 1204, 'std': 1205, \"'\": 1206, 'press': 1207, 'click': 1208, 'naughty': 1209, 'sucks': 1210, 'tea': 1211, 'eating': 1212, 'replying': 1213, 'liked': 1214, 'cinema': 1215, 'situation': 1216, 'wun': 1217, 'trouble': 1218, 'ave': 1219, 'changed': 1220, 'cuz': 1221, 'page': 1222, 'eatin': 1223, 'inc': 1224, '2004': 1225, 'bother': 1226, 'del': 1227, 'sony': 1228, 'yijue': 1229, 'goto': 1230, 'internet': 1231, 'completely': 1232, 'hop': 1233, 'bucks': 1234, 'past': 1235, 'biz': 1236, 'appreciate': 1237, 'sign': 1238, 'battery': 1239, 'flirt': 1240, 'admirer': 1241, 'ldew': 1242, 'dnt': 1243, 'deep': 1244, 'lover': 1245, 'horny': 1246, 'quality': 1247, 'worries': 1248, 'ge': 1249, 'sense': 1250, 'high': 1251, 'imagine': 1252, 'kb': 1253, 'power': 1254, 'yoga': 1255, '11mths': 1256, 'merry': 1257, '08718720201': 1258, 'fault': 1259, 'insurance': 1260, 'maximize': 1261, 'cold': 1262, 'forward': 1263, 'bluetooth': 1264, 'reference': 1265, 'happening': 1266, 'starts': 1267, 'logo': 1268, '3030': 1269, 'ldn': 1270, 'ticket': 1271, 'loan': 1272, 'thru': 1273, 'notice': 1274, 'tenerife': 1275, '8th': 1276, 'depends': 1277, 'mp3': 1278, '00': 1279, 'sub': 1280, 'single': 1281, 'fat': 1282, '50p': 1283, 'rather': 1284, 'hotel': 1285, 'omw': 1286, 'hurry': 1287, 'gee': 1288, 'izzit': 1289, 'kids': 1290, \"t's\": 1291, 'pound': 1292, 'present': 1293, 'imma': 1294, 'future': 1295, 'shuhui': 1296, 'alex': 1297, 'paid': 1298, '25p': 1299, 'matches': 1300, 'forwarded': 1301, 'ho': 1302, 'awake': 1303, 'torch': 1304, 'bold': 1305, 'looks': 1306, 'idea': 1307, '7pm': 1308, 'running': 1309, 'holla': 1310, 'possible': 1311, 'yest': 1312, 'summer': 1313, \"they're\": 1314, 'getzed': 1315, 'bid': 1316, 'model': 1317, 'comuk': 1318, 'mother': 1319, 'hai': 1320, 'otherwise': 1321, 'ntt': 1322, 'midnight': 1323, 'photo': 1324, 'registered': 1325, 'recently': 1326, 'feels': 1327, 'å£800': 1328, 'nxt': 1329, 'j': 1330, 'during': 1331, 'movies': 1332, 'onto': 1333, 'cute': 1334, 'energy': 1335, 'strong': 1336, 'complete': 1337, 'picked': 1338, 'cell': 1339, 'mode': 1340, 'dog': 1341, 'alrite': 1342, 'shd': 1343, '20p': 1344, 'walking': 1345, 'players': 1346, 'lmao': 1347, 'arrive': 1348, 'south': 1349, 'instead': 1350, 'buzz': 1351, 'inside': 1352, 'slowly': 1353, 'hw': 1354, 'excuse': 1355, \"wat's\": 1356, 'vikky': 1357, 'pix': 1358, 'sofa': 1359, \"god's\": 1360, 'happens': 1361, 'behind': 1362, 'planned': 1363, 'joking': 1364, 'cup': 1365, 'copy': 1366, 'å£900': 1367, 'entitled': 1368, 'team': 1369, 'seriously': 1370, 'learn': 1371, 'texting': 1372, 'ahead': 1373, 'kept': 1374, 'usually': 1375, 'fyi': 1376, 'joke': 1377, 'following': 1378, 'kano': 1379, 'don\\x89û÷t': 1380, 'pleasure': 1381, 'hurts': 1382, 'loves': 1383, 'representative': 1384, '10am': 1385, 'boss': 1386, 'askd': 1387, 'directly': 1388, '08712300220': 1389, 'standard': 1390, 'app': 1391, 'sunshine': 1392, 'dvd': 1393, 'sp': 1394, \"uk's\": 1395, 'swt': 1396, 'local': 1397, 'qatar': 1398, 'become': 1399, 'arrange': 1400, 'waste': 1401, 'hell': 1402, 'turns': 1403, 'bye': 1404, 'towards': 1405, 'personal': 1406, 'straight': 1407, 'nights': 1408, 'system': 1409, 'died': 1410, '25': 1411, 'kick': 1412, \"u've\": 1413, 'website': 1414, 'kallis': 1415, 'cal': 1416, 'handset': 1417, 'dint': 1418, 'leaves': 1419, 'sim': 1420, 'loyalty': 1421, 'rose': 1422, 'babes': 1423, 'sport': 1424, 'definitely': 1425, 'track': 1426, 'return': 1427, 'report': 1428, 'rcvd': 1429, 'ta': 1430, 'num': 1431, 'ish': 1432, 'cc': 1433, 'posted': 1434, 'air': 1435, 'willing': 1436, 'pilates': 1437, 'putting': 1438, 'none': 1439, 'askin': 1440, 'tough': 1441, 'group': 1442, 'isnt': 1443, 'moan': 1444, 'fb': 1445, 'silent': 1446, 'realy': 1447, 'jst': 1448, 'tat': 1449, '40gb': 1450, 'children': 1451, 'campus': 1452, \"today's\": 1453, 'å£150': 1454, 'member': 1455, 'lady': 1456, 'l8r': 1457, 'fingers': 1458, 'self': 1459, 'blood': 1460, 'aiyo': 1461, 'barely': 1462, 'scream': 1463, 'spree': 1464, 'ladies': 1465, 'weather': 1466, 'holder': 1467, 'login': 1468, 'under': 1469, 'fetch': 1470, \"u're\": 1471, 'law': 1472, 'sit': 1473, 'dey': 1474, 'yay': 1475, 'damn': 1476, 'wats': 1477, 'space': 1478, 'bag': 1479, 'boo': 1480, 'teasing': 1481, 'zed': 1482, 'surely': 1483, 'five': 1484, 'wed': 1485, 'matter': 1486, 'mid': 1487, 'sup': 1488, 'due': 1489, 'teach': 1490, 'ate': 1491, 'expensive': 1492, 'against': 1493, \"u'll\": 1494, 'brand': 1495, 'contract': 1496, 'loverboy': 1497, 'serious': 1498, 'april': 1499, 'process': 1500, 'works': 1501, 'aiyah': 1502, 'o2': 1503, 'urawinner': 1504, 'raining': 1505, 'station': 1506, 'thts': 1507, 'super': 1508, 'problems': 1509, '0870': 1510, 'cover': 1511, 'cafe': 1512, 'keeping': 1513, 'except': 1514, 'london': 1515, 'lookin': 1516, 'boys': 1517, 'list': 1518, 'gn': 1519, 'ahmad': 1520, 'empty': 1521, 'role': 1522, 'worse': 1523, 'pussy': 1524, 'budget': 1525, 'random': 1526, 'plenty': 1527, 'hr': 1528, 'hrs': 1529, 'cancer': 1530, 'feb': 1531, 'tick': 1532, 'å£400': 1533, 'darling': 1534, 'request': 1535, 'wet': 1536, 'thatåõs': 1537, 'i\\x89û÷m': 1538, 'stock': 1539, 'subscription': 1540, 'hopefully': 1541, 'tyler': 1542, 'weak': 1543, 'ride': 1544, 'ip4': 1545, '5we': 1546, 'pleased': 1547, 'review': 1548, 'respect': 1549, '530': 1550, 'simply': 1551, 'password': 1552, 'boston': 1553, 'scared': 1554, 'flights': 1555, 'informed': 1556, 'voda': 1557, 'quoting': 1558, \"shouldn't\": 1559, 'country': 1560, '82277': 1561, 'laid': 1562, 'locations': 1563, 'ec2a': 1564, 'lovable': 1565, 'replied': 1566, 'begin': 1567, 'shirt': 1568, 'inviting': 1569, '434': 1570, '62468': 1571, 'discuss': 1572, 'cannot': 1573, 'connection': 1574, 'romantic': 1575, '2optout': 1576, 'partner': 1577, 'fix': 1578, 'tncs': 1579, 'naked': 1580, 'bf': 1581, '21': 1582, 'themob': 1583, \"aren't\": 1584, 'accept': 1585, \"he'll\": 1586, 'advance': 1587, 'cake': 1588, 'allah': 1589, 'sonyericsson': 1590, 'geeee': 1591, \"did't\": 1592, 'sighs': 1593, 'body': 1594, 'guide': 1595, 'relax': 1596, 'intro': 1597, 'current': 1598, 'pictures': 1599, 'yan': 1600, 'jiu': 1601, 'pobox36504w45wq': 1602, 'contacted': 1603, 'hostel': 1604, \"she'll\": 1605, 'lift': 1606, 'respond': 1607, 'dollars': 1608, 'acc': 1609, 'woman': 1610, 'donåõt': 1611, 'ttyl': 1612, 'gives': 1613, 'style': 1614, 'flat': 1615, 'charges': 1616, 'sec': 1617, 'activate': 1618, 'village': 1619, 'opinion': 1620, '83355': 1621, 'pin': 1622, 'unsub': 1623, 'english': 1624, 'btw': 1625, '2mrw': 1626, 'smiles': 1627, 'marriage': 1628, 'jazz': 1629, 'yogasana': 1630, 'announcement': 1631, 'stopped': 1632, 'indian': 1633, 'somethin': 1634, 'daily': 1635, 'vodafone': 1636, '80062': 1637, 'gentle': 1638, 'drug': 1639, 'earth': 1640, 'belly': 1641, 'lonely': 1642, 'bedroom': 1643, 'aftr': 1644, 'timing': 1645, 'mad': 1646, 'twice': 1647, 'opportunity': 1648, 'txtauction': 1649, 'gals': 1650, 'city': 1651, 'sing': 1652, \"couldn't\": 1653, 'living': 1654, 'no1': 1655, 'green': 1656, 'ages': 1657, 'sura': 1658, 'playing': 1659, 'fall': 1660, 'records': 1661, 'birds': 1662, 'lead': 1663, 'unsold': 1664, 'white': 1665, 'january': 1666, 'cheaper': 1667, 'ym': 1668, 'pissed': 1669, 'wherever': 1670, 'wear': 1671, 'places': 1672, 'photos': 1673, 'heavy': 1674, 'site': 1675, 'ad': 1676, 'boring': 1677, 'salary': 1678, '3g': 1679, 'dropped': 1680, 'yun': 1681, 'kerala': 1682, 'asleep': 1683, 'bitch': 1684, 'xchat': 1685, 'digital': 1686, 'receipt': 1687, 'uni': 1688, 'italian': 1689, 'horrible': 1690, 'nw': 1691, 'tuition': 1692, 'chinese': 1693, 'hun': 1694, 'cbe': 1695, 'callså£1': 1696, '80488': 1697, 'tour': 1698, 'broke': 1699, 'married': 1700, 'pple': 1701, 'marry': 1702, '1327': 1703, 'croydon': 1704, 'cr9': 1705, '5wb': 1706, 'share': 1707, 'vote': 1708, 'tells': 1709, 'totally': 1710, 'rem': 1711, 'exams': 1712, 'bought': 1713, 'google': 1714, 'aint': 1715, 'airport': 1716, '86021': 1717, 'costs': 1718, 'eerie': 1719, 'waking': 1720, 'sight': 1721, 'rd': 1722, 'hook': 1723, 'bin': 1724, '05': 1725, 'social': 1726, 'selling': 1727, 'buns': 1728, 'holding': 1729, 'hate': 1730, 'thnk': 1731, 'season': 1732, 'nvm': 1733, 'moms': 1734, 'obviously': 1735, \"who's\": 1736, 'flag': 1737, 'armand': 1738, 'looked': 1739, 'expecting': 1740, 'mood': 1741, 'checked': 1742, 'unable': 1743, 'remind': 1744, 'tear': 1745, 'whether': 1746, 'spook': 1747, 'added': 1748, 'police': 1749, 'ru': 1750, 'cars': 1751, 'er': 1752, 'deliver': 1753, 'amount': 1754, 'advice': 1755, 'amazing': 1756, 'issues': 1757, 'tariffs': 1758, 'thurs': 1759, \"wouldn't\": 1760, 'lik': 1761, '3510i': 1762, '300': 1763, 'meds': 1764, 'mths': 1765, 'common': 1766, 'oni': 1767, 'lives': 1768, 'tb': 1769, 'callertune': 1770, 'searching': 1771, 'str': 1772, 'sooner': 1773, 'turn': 1774, 'egg': 1775, \"mom's\": 1776, 'letter': 1777, 'inches': 1778, 'embarassed': 1779, 'seemed': 1780, 'bx420': 1781, '150pm': 1782, 'series': 1783, 'wah': 1784, 'machan': 1785, 'coins': 1786, 'appointment': 1787, 'legal': 1788, 'nyc': 1789, 'wishes': 1790, 'truly': 1791, 'considering': 1792, 'research': 1793, 'tt': 1794, \"b'day\": 1795, 'apartment': 1796, 'needed': 1797, 'yetunde': 1798, \"hasn't\": 1799, 'q': 1800, 'largest': 1801, 'netcollex': 1802, 'deleted': 1803, 'interview': 1804, 'menu': 1805, 'bloody': 1806, 'spoke': 1807, 'experience': 1808, 'anyways': 1809, 'freephone': 1810, 'radio': 1811, 'unique': 1812, 'shoot': 1813, 'sen': 1814, 'atm': 1815, 'files': 1816, 'followed': 1817, 'teaches': 1818, 'cross': 1819, 'sam': 1820, 'closer': 1821, 'showing': 1822, 'expect': 1823, 'mmm': 1824, 'singles': 1825, 'ended': 1826, 'sunny': 1827, 'hmv': 1828, 'passed': 1829, 'anybody': 1830, 'throw': 1831, 'cam': 1832, 'accidentally': 1833, 'cry': 1834, 'def': 1835, 'meal': 1836, 'dates': 1837, 'hanging': 1838, 'selection': 1839, 'smart': 1840, 'pongal': 1841, 'afraid': 1842, 'december': 1843, 'kisses': 1844, 'cud': 1845, 'ppl': 1846, 'waitin': 1847, '85': 1848, '83600': 1849, '1000s': 1850, 'basically': 1851, 'wtf': 1852, '1000': 1853, 'further': 1854, 'sometime': 1855, '87131': 1856, 'cream': 1857, 'fullonsms': 1858, 'competition': 1859, 'esplanade': 1860, 'fifteen': 1861, 'vary': 1862, 'journey': 1863, 'gorgeous': 1864, 'si': 1865, 'ure': 1866, 'intelligent': 1867, 'result': 1868, 'reasons': 1869, 'receiving': 1870, '5000': 1871, 'cw25wx': 1872, 'conditions': 1873, 'dry': 1874, 'bringing': 1875, 'mtmsgrcvd18': 1876, 'cha': 1877, 'bday': 1878, '85023': 1879, 'pg': 1880, 'malaria': 1881, 'passionate': 1882, 'three': 1883, 'milk': 1884, 'i\\x89û÷ll': 1885, 'lab': 1886, 'quit': 1887, '1x150p': 1888, '24': 1889, 'grand': 1890, 'pie': 1891, '28': 1892, 'paris': 1893, 'results': 1894, 'answers': 1895, 'often': 1896, 'bud': 1897, 'drinks': 1898, 'thursday': 1899, 'taken': 1900, 'bet': 1901, 'hella': 1902, 'evng': 1903, 'prepare': 1904, 'seem': 1905, 'explain': 1906, 'gap': 1907, 'weird': 1908, 'drivin': 1909, 'students': 1910, 'upset': 1911, 'assume': 1912, 'exactly': 1913, 'faster': 1914, \"we've\": 1915, 'spoken': 1916, '88039': 1917, 'skilgme': 1918, 'meetin': 1919, 'closed': 1920, 'apparently': 1921, 'smokes': 1922, 'perfect': 1923, 'polyphonic': 1924, 'enjoyed': 1925, 'pobox84': 1926, 'appt': 1927, '36504': 1928, '3d': 1929, \"ain't\": 1930, 'hunny': 1931, 'ache': 1932, 'profit': 1933, 'ibiza': 1934, 'ppm': 1935, 'meanwhile': 1936, 'suite': 1937, 'version': 1938, 'careful': 1939, 'spk': 1940, 'vip': 1941, 'cds': 1942, 'travel': 1943, 'wanting': 1944, 'derek': 1945, 'greet': 1946, 'pig': 1947, 'iam': 1948, 'ma': 1949, 'attend': 1950, 'diet': 1951, 'sk38xh': 1952, 'fever': 1953, 'w1': 1954, 'bowl': 1955, 'sore': 1956, 'jesus': 1957, 'regret': 1958, 'throat': 1959, 'lecture': 1960, 'raise': 1961, 'june': 1962, 'flower': 1963, 'technical': 1964, 'revealed': 1965, 'bathing': 1966, 'convey': 1967, 'regards': 1968, 'fight': 1969, 'clock': 1970, 'hands': 1971, 'subscriber': 1972, 'aiyar': 1973, 'howz': 1974, 'wearing': 1975, \"let's\": 1976, 'adult': 1977, 'oz': 1978, 'shame': 1979, 'jordan': 1980, 'choice': 1981, 'delivered': 1982, 'arms': 1983, 'mite': 1984, 'easier': 1985, '08712405020': 1986, 'songs': 1987, 'exact': 1988, 'jamster': 1989, 'original': 1990, 'idiot': 1991, 'february': 1992, 'rush': 1993, '6hrs': 1994, 'blackberry': 1995, 'moji': 1996, 'fantasies': 1997, '08707509020': 1998, 'fill': 1999, 'linerental': 2000, 'meaning': 2001, 'moral': 2002, 'moon': 2003, 'msgrcvdhg': 2004, 'aiya': 2005, 'bright': 2006, 'textpod': 2007, 'optout': 2008, 'vomit': 2009, 'sha': 2010, 'centre': 2011, 'total': 2012, 'along': 2013, 'shortly': 2014, 'screaming': 2015, 'bishan': 2016, 'pack': 2017, 'idk': 2018, 'whom': 2019, 'laughing': 2020, '250': 2021, 'title': 2022, 'brought': 2023, 'surprised': 2024, 'comedy': 2025, 'moby': 2026, 'action': 2027, 'received': 2028, 'ran': 2029, 'ordered': 2030, 'queen': 2031, 'fren': 2032, '60p': 2033, 'iåõm': 2034, 'schedule': 2035, \"joy's\": 2036, 'arcade': 2037, 'alert': 2038, 'created': 2039, 'takin': 2040, 'exciting': 2041, 'answering': 2042, 'beer': 2043, 'jess': 2044, 'dirty': 2045, 'package': 2046, 'upto': 2047, '08001950382': 2048, 'skype': 2049, 'masters': 2050, 'cleaning': 2051, 'costa': 2052, 'sol': 2053, 'cat': 2054, 'hip': 2055, '87239': 2056, 'theatre': 2057, 'infernal': 2058, 'including': 2059, 'giv': 2060, 'official': 2061, 'inclusive': 2062, 'feet': 2063, 'colleagues': 2064, 'ntwk': 2065, 'pages': 2066, 'freak': 2067, 'ref': 2068, 'å£4': 2069, 'wkend': 2070, 'letters': 2071, 'fantasy': 2072, 'sky': 2073, 'sugar': 2074, 'thangam': 2075, 'roger': 2076, 'key': 2077, 'released': 2078, 'spending': 2079, 'sept': 2080, 'ignore': 2081, 'dare': 2082, 'teeth': 2083, 'porn': 2084, 'celebrate': 2085, 'tm': 2086, 'abi': 2087, 'hill': 2088, 'grl': 2089, 'relation': 2090, 'hug': 2091, 'wylie': 2092, 'basic': 2093, 'outta': 2094, 'inform': 2095, 'blank': 2096, 'texted': 2097, '26': 2098, 'born': 2099, 'doc': 2100, 'taunton': 2101, 'santa': 2102, 'step': 2103, \"week's\": 2104, 'six': 2105, 'hl': 2106, 'membership': 2107, 'spell': 2108, 'wales': 2109, 'scotland': 2110, 'frying': 2111, 'clear': 2112, 'child': 2113, 'caught': 2114, 'xuhui': 2115, 'invite': 2116, 'yummy': 2117, 'fair': 2118, 'gram': 2119, 'runs': 2120, 'realized': 2121, 'url': 2122, 'burger': 2123, 'roommates': 2124, 'dresser': 2125, 'plane': 2126, 'gentleman': 2127, 'dignity': 2128, 'shy': 2129, 'urgnt': 2130, 'requests': 2131, 'sheets': 2132, 'becoz': 2133, '9pm': 2134, 'lido': 2135, 'fml': 2136, 'hols': 2137, 'four': 2138, 'vava': 2139, 'loud': 2140, 'k52': 2141, 'wa': 2142, 'anythin': 2143, '786': 2144, 'unredeemed': 2145, \"'ll\": 2146, 'apologise': 2147, 'rooms': 2148, 'hardcore': 2149, 'persons': 2150, 'biggest': 2151, 'staff': 2152, 'female': 2153, 'birla': 2154, 'soft': 2155, 'floor': 2156, 'joy': 2157, 'escape': 2158, 'spanish': 2159, 'mall': 2160, 'mummy': 2161, 'finishes': 2162, 'august': 2163, 'suggest': 2164, 'settled': 2165, 'transaction': 2166, '89545': 2167, '087187262701': 2168, '50gbp': 2169, 'mtmsg18': 2170, 'career': 2171, 'teacher': 2172, 'recd': 2173, 'pence': 2174, 'argument': 2175, 'wins': 2176, 'tomarrow': 2177, 'avent': 2178, 'slippers': 2179, 'bat': 2180, 'innings': 2181, 'dearly': 2182, 'com1win150ppmx3age16': 2183, 'childish': 2184, 'shipping': 2185, 'networks': 2186, 'parked': 2187, 'mini': 2188, 'flash': 2189, 'jealous': 2190, 'sorting': 2191, 'rays': 2192, 'handed': 2193, 'gautham': 2194, 'upgrade': 2195, '0845': 2196, 'scary': 2197, 'newest': 2198, 'gossip': 2199, 'fit': 2200, 'garage': 2201, 'keys': 2202, 'm26': 2203, '3uz': 2204, \"friend's\": 2205, '08002986906': 2206, 'gona': 2207, 'flight': 2208, 'record': 2209, 'women': 2210, 'germany': 2211, 'supervisor': 2212, 'lifetime': 2213, 'surfing': 2214, 'favourite': 2215, 'bless': 2216, 'stranger': 2217, 'cleared': 2218, 'practice': 2219, 'alcohol': 2220, 'remembered': 2221, 'insha': 2222, 'alive': 2223, 'gbp': 2224, 'ptbo': 2225, 'tests': 2226, 'shut': 2227, 'period': 2228, 'business': 2229, 'picture': 2230, 'quickly': 2231, 'chechi': 2232, 'tree': 2233, 'skip': 2234, 'blah': 2235, 'l': 2236, 'goal': 2237, 'names': 2238, 'ful': 2239, 'irritating': 2240, 'wnt': 2241, 'vry': 2242, '3mins': 2243, 'wc1n3xx': 2244, 'iouri': 2245, 'oic': 2246, 'transfer': 2247, '0207': 2248, 'july': 2249, 'railway': 2250, 'doggy': 2251, 'fave': 2252, 'roads': 2253, 'dave': 2254, 'tcs': 2255, 'transfered': 2256, 'banks': 2257, '9ja': 2258, 'boye': 2259, 'center': 2260, 'fighting': 2261, 'some1': 2262, 'fish': 2263, 'fees': 2264, 'character': 2265, 'prabha': 2266, 'ibhltd': 2267, 'ldnw15h': 2268, 'mono': 2269, 'booking': 2270, 'behave': 2271, 'elsewhere': 2272, 'rude': 2273, '09': 2274, '0871': 2275, 'box95qu': 2276, 'returns': 2277, 'tirupur': 2278, 'quote': 2279, 'losing': 2280, 'confidence': 2281, 'cock': 2282, 'generally': 2283, 'it\\x89û÷s': 2284, 'that\\x89û÷s': 2285, 'likely': 2286, 'essential': 2287, 'american': 2288, 'callin': 2289, 'dick': 2290, 'snake': 2291, 'bite': 2292, 'headache': 2293, '08715705022': 2294, '2000': 2295, 'lines': 2296, '542': 2297, 'exhausted': 2298, \"mum's\": 2299, 'swimming': 2300, '2morow': 2301, 'nichols': 2302, 'euro2004': 2303, 'leona': 2304, 'market': 2305, 'pop': 2306, 'postcode': 2307, 'seven': 2308, 'tlp': 2309, 'thanksgiving': 2310, 'we\\x89û÷re': 2311, 'listening': 2312, '31': 2313, 'envelope': 2314, '89555': 2315, 'textoperator': 2316, 'building': 2317, 'map': 2318, 'accordingly': 2319, 'farm': 2320, 'purchase': 2321, 'height': 2322, 'wer': 2323, 'stress': 2324, 'csbcm4235wc1n3xx': 2325, 'maxå£7': 2326, 'low': 2327, '81151': 2328, '4t': 2329, 'shorter': 2330, 'subscribed': 2331, 'realize': 2332, 'gimme': 2333, 'mt': 2334, 'tscs087147403231winawk': 2335, '50perwksub': 2336, 'tis': 2337, 'anywhere': 2338, 'diff': 2339, 'community': 2340, '08718727870': 2341, 'bein': 2342, 'jan': 2343, 'pieces': 2344, 'w45wq': 2345, 'norm150p': 2346, 'hint': 2347, 'responding': 2348, '2u': 2349, 'xxxx': 2350, '3qxj9': 2351, '08702840625': 2352, '9ae': 2353, 'alfie': 2354, \"moon's\": 2355, 'm8s': 2356, 'nokias': 2357, '08701417012': 2358, 'cust': 2359, \"month's\": 2360, '2morrow': 2361, 'sk3': 2362, '8wp': 2363, 'xavier': 2364, 'seconds': 2365, \"jay's\": 2366, 'stomach': 2367, 'sn': 2368, 'returned': 2369, 'walls': 2370, 'saved': 2371, 'cuddle': 2372, 'nap': 2373, 'shesil': 2374, 'played': 2375, 'reminder': 2376, \"'til\": 2377, 'failed': 2378, 'outstanding': 2379, 'male': 2380, '5p': 2381, '88600': 2382, 'moments': 2383, '114': 2384, '14': 2385, 'tcr': 2386, 'decision': 2387, 'welp': 2388, '15': 2389, 'chicken': 2390, 'videophones': 2391, 'videochat': 2392, 'java': 2393, 'dload': 2394, 'noline': 2395, 'rentl': 2396, 'fuckin': 2397, 'ubi': 2398, 'butt': 2399, 'miracle': 2400, 'terrible': 2401, 'exe': 2402, 'prey': 2403, 'fancies': 2404, 'foreign': 2405, 'stamps': 2406, 'fool': 2407, 'roast': 2408, 'chatting': 2409, 'walked': 2410, 'drunk': 2411, 'networking': 2412, 'juicy': 2413, 'vijay': 2414, 'sipix': 2415, 'ne': 2416, 'interesting': 2417, 'ground': 2418, 'speed': 2419, 'catching': 2420, 'falls': 2421, 'whos': 2422, 'roommate': 2423, 'bigger': 2424, 'islands': 2425, '2go': 2426, 'credited': 2427, 'understanding': 2428, 'walmart': 2429, 'score': 2430, 'apps': 2431, 'rofl': 2432, 'anti': 2433, 'various': 2434, 'ph': 2435, '84128': 2436, 'textcomp': 2437, 'morn': 2438, 'docs': 2439, 'havin': 2440, 'rang': 2441, 'sorted': 2442, '2moro': 2443, 'jane': 2444, 'fran': 2445, 'knackered': 2446, 'software': 2447, '3gbp': 2448, 'whenevr': 2449, 'among': 2450, 'chill': 2451, 'chillin': 2452, 'chain': 2453, 'arrested': 2454, 'suntec': 2455, 'messenger': 2456, 'tom': 2457, 'upload': 2458, 'shot': 2459, 'popped': 2460, 'shld': 2461, 'caring': 2462, 'option': 2463, 'arsenal': 2464, 'painful': 2465, 'everybody': 2466, 've': 2467, 'missin': 2468, 'guilty': 2469, 'cardiff': 2470, 'addie': 2471, 'pod': 2472, 'certainly': 2473, 'claire': 2474, 'twelve': 2475, 'aah': 2476, '09066362231': 2477, '07xxxxxxxxx': 2478, 'minmobsmorelkpobox177hp51fl': 2479, '4th': 2480, 'nature': 2481, \"blake's\": 2482, 'lotr': 2483, 'stars': 2484, 'karaoke': 2485, 'eight': 2486, 'file': 2487, 'ron': 2488, '7250i': 2489, 'w1jhl': 2490, 'prospects': 2491, 'buff': 2492, 'preferably': 2493, 'gang': 2494, 'tablets': 2495, 'finishing': 2496, 'doors': 2497, 'brothas': 2498, 'chasing': 2499, 'freezing': 2500, 'ringtoneking': 2501, 'winning': 2502, '6pm': 2503, 'titles': 2504, '82242': 2505, 'switch': 2506, 'monthly': 2507, 'ideas': 2508, 'remain': 2509, 'cramps': 2510, 'nan': 2511, '81303': 2512, 'likes': 2513, 'dislikes': 2514, 'promises': 2515, 'album': 2516, 'connect': 2517, 'standing': 2518, 'james': 2519, '29': 2520, 'follow': 2521, 'stuck': 2522, 'regarding': 2523, 'adore': 2524, '0': 2525, 'settings': 2526, 'philosophy': 2527, 'husband': 2528, 'norm': 2529, 'toa': 2530, 'payoh': 2531, 'fathima': 2532, 'mmmm': 2533, 'nearly': 2534, 'beyond': 2535, '18yrs': 2536, 'abta': 2537, 'ikea': 2538, 'kadeem': 2539, 'se': 2540, 'wud': 2541, 'carry': 2542, 'avatar': 2543, 'stops': 2544, 'constantly': 2545, '09050090044': 2546, 'toclaim': 2547, 'pobox334': 2548, 'stockport': 2549, 'costå£1': 2550, 'max10mins': 2551, 'lousy': 2552, 'ic': 2553, 'boat': 2554, 'proof': 2555, 'provided': 2556, 'yeh': 2557, 'downloads': 2558, 'members': 2559, 'major': 2560, 'birth': 2561, 'rule': 2562, 'freefone': 2563, 'natural': 2564, 'onwards': 2565, 'eggs': 2566, 'lie': 2567, 'boost': 2568, 'calicut': 2569, 'box97n7qp': 2570, 'pink': 2571, 'normally': 2572, 'rich': 2573, 'eng': 2574, 'yor': 2575, 'jason': 2576, 'subs': 2577, 'art': 2578, 'med': 2579, 'argh': 2580, 'term': 2581, 'china': 2582, 'morphine': 2583, 'prefer': 2584, 'kindly': 2585, 'miles': 2586, 'sed': 2587, 'pending': 2588, 'frndship': 2589, 'legs': 2590, 'distance': 2591, 'display': 2592, 'soup': 2593, 'management': 2594, 'include': 2595, 'regular': 2596, 'lounge': 2597, '88066': 2598, '900': 2599, 'cornwall': 2600, 'bags': 2601, 'iscoming': 2602, '80082': 2603, 'halloween': 2604, 'issue': 2605, 'football': 2606, 'measure': 2607, 'impossible': 2608, 'okey': 2609, 'murdered': 2610, 'maid': 2611, 'murderer': 2612, 'brilliant': 2613, 'science': 2614, 'madam': 2615, 'settle': 2616, 'bloo': 2617, 'indians': 2618, 'citizen': 2619, 'sry': 2620, '09066612661': 2621, 'greetings': 2622, 'dai': 2623, 'maga': 2624, 'medicine': 2625, 'incident': 2626, 'violence': 2627, 'erm': 2628, 'instructions': 2629, '3lp': 2630, 'death': 2631, 'wrk': 2632, 'reality': 2633, 'usc': 2634, 'booty': 2635, 'lil': 2636, \"when's\": 2637, 'response': 2638, 'pouts': 2639, 'stomps': 2640, 'sports': 2641, 'shirts': 2642, 'petrol': 2643, 'uks': 2644, 'ben': 2645, 'middle': 2646, 'dark': 2647, 'enuff': 2648, 'contents': 2649, 'iz': 2650, 'handle': 2651, 'note': 2652, 'moved': 2653, 'seat': 2654, 'dress': 2655, 'collecting': 2656, 'flaked': 2657, 'gary': 2658, 'history': 2659, 'bell': 2660, 'understood': 2661, 'bottom': 2662, 'crab': 2663, 'footprints': 2664, 'changes': 2665, 'books': 2666, 'knowing': 2667, 'challenge': 2668, 'randomly': 2669, 'tape': 2670, 'films': 2671, 'lick': 2672, 'auto': 2673, 'asks': 2674, 'deliveredtomorrow': 2675, 'smoking': 2676, 'in2': 2677, 'billed': 2678, 'callback': 2679, 'wedding': 2680, 'accident': 2681, \"cann't\": 2682, 'symbol': 2683, 'prolly': 2684, 'åð': 2685, 'confirmed': 2686, '200': 2687, 'dubsack': 2688, 'macho': 2689, 'audition': 2690, 'fell': 2691, 'senthil': 2692, 'eaten': 2693, 'nat': 2694, 'possession': 2695, 'concert': 2696, 'affairs': 2697, 'university': 2698, 'california': 2699, 'value': 2700, 'mnth': 2701, 'tog': 2702, 'haiz': 2703, 'loss': 2704, 'previous': 2705, 'captain': 2706, \"dsn't\": 2707, 'ì©': 2708, 'warner': 2709, 'wallpaper': 2710, 'bottle': 2711, 'buffet': 2712, 'fa': 2713, 'tkts': 2714, '21st': 2715, '2005': 2716, '87121': 2717, 'hor': 2718, 'rcv': 2719, 'oru': 2720, 'callers': 2721, '87575': 2722, 'blessing': 2723, 'xxxmobilemovieclub': 2724, 'goals': 2725, '4txt': 2726, 'slice': 2727, 'convincing': 2728, 'sarcastic': 2729, 'fear': 2730, 'å£5': 2731, '8am': 2732, \"roommate's\": 2733, 'mmmmmm': 2734, 'burns': 2735, 'hospitals': 2736, 'eighth': 2737, 'sptv': 2738, 'detroit': 2739, 'hockey': 2740, '09061209465': 2741, 'suprman': 2742, 'matrix3': 2743, 'starwars3': 2744, 'odi': 2745, 'killing': 2746, 'iq': 2747, 'advise': 2748, 'recent': 2749, 'å£1500': 2750, 'valuable': 2751, 'divorce': 2752, 'earn': 2753, 'jacket': 2754, 'nitros': 2755, 'ela': 2756, 'sum1': 2757, 'collected': 2758, 'mix': 2759, 'verify': 2760, 'telugu': 2761, 'loans': 2762, '\\rham': 2763, 'location': 2764, 'jokes': 2765, 'noun': 2766, 'gent': 2767, '09064012160': 2768, 'sentence': 2769, 'puttin': 2770, 'cabin': 2771, 'goodo': 2772, 'potato': 2773, 'tortilla': 2774, '45239': 2775, '350': 2776, 'sum': 2777, 'ansr': 2778, 'tyrone': 2779, '69888': 2780, '31p': 2781, 'msn': 2782, 'befor': 2783, 'activities': 2784, 'pouch': 2785, 'somtimes': 2786, 'occupy': 2787, 'hearts': 2788, 'dot': 2789, 'randy': 2790, '08700621170150p': 2791, 'flowing': 2792, 'plaza': 2793, 'everywhere': 2794, 'windows': 2795, 'mouth': 2796, 'bootydelious': 2797, 'module': 2798, 'avoid': 2799, 'beloved': 2800, \"we'd\": 2801, '9am': 2802, 'completed': 2803, 'stays': 2804, 'hamster': 2805, 'successfully': 2806, 'ericsson': 2807, 'bruv': 2808, 'rewarding': 2809, 'heading': 2810, 'register': 2811, 'os': 2812, 'installing': 2813, 'repair': 2814, 'horo': 2815, 'star': 2816, 'conducts': 2817, 'printed': 2818, 'upstairs': 2819, 'theory': 2820, 'argue': 2821, 'shining': 2822, 'signing': 2823, 'although': 2824, 'touched': 2825, 'commercial': 2826, '125gift': 2827, 'ranjith': 2828, '5min': 2829, '2wks': 2830, 'lag': 2831, 'necessarily': 2832, 'headin': 2833, 'jolt': 2834, 'suzy': 2835, 'h': 2836, '69698': 2837, 'chart': 2838, 'bay': 2839, 'gf': 2840, 'tool': 2841, \"guy's\": 2842, 'jenny': 2843, '021': 2844, '3680': 2845, 'tease': 2846, 'shocking': 2847, 'crash': 2848, 'taxi': 2849, 'actor': 2850, 'blind': 2851, 'hide': 2852, 'thread': 2853, 'funky': 2854, '82468': 2855, 'belovd': 2856, 'enemy': 2857, 'tahan': 2858, 'anot': 2859, 'lo': 2860, 'buses': 2861, 'bristol': 2862, 'apo': 2863, '0844': 2864, '861': 2865, 'prepayment': 2866, 'violated': 2867, 'privacy': 2868, 'paperwork': 2869, 'caroline': 2870, 'gudnite': 2871, 'slap': 2872, 'tissco': 2873, 'tayseer': 2874, 'unemployed': 2875, 'status': 2876, 'breathe': 2877, 'cuddling': 2878, 'agree': 2879, 'recognise': 2880, 'hes': 2881, 'ovulation': 2882, '6months': 2883, 'licks': 2884, '4mths': 2885, 'mobilesdirect': 2886, '08000938767': 2887, 'or2stoptxt': 2888, '30ish': 2889, 'salam': 2890, 'sharing': 2891, 'grace': 2892, 'inshah': 2893, 'field': 2894, 'administrator': 2895, 'shipped': 2896, 'loxahatchee': 2897, 'burning': 2898, 'slightly': 2899, 'fav': 2900, 'darlings': 2901, 'wld': 2902, 'sender': 2903, 'box334sk38ch': 2904, '80086': 2905, 'txttowin': 2906, 'name1': 2907, 'name2': 2908, 'mobno': 2909, 'adam': 2910, '07123456789': 2911, 'txtno': 2912, 'ads': 2913, 'siva': 2914, 'speaking': 2915, 'expression': 2916, 'aathi': 2917, 'hv': 2918, 'lacs': 2919, 'amt': 2920, 'applebees': 2921, 'sachin': 2922, 'improve': 2923, 'purpose': 2924, 'tenants': 2925, 'refused': 2926, \"'help'\": 2927, 'oreo': 2928, 'truffles': 2929, 'amy': 2930, 'decisions': 2931, 'coping': 2932, 'individual': 2933, '153': 2934, '26th': 2935, 'position': 2936, 'language': 2937, '09061743806': 2938, 'box326': 2939, 'screamed': 2940, 'removed': 2941, 'differ': 2942, 'broken': 2943, 'infront': 2944, 'wise': 2945, '9t': 2946, 'tension': 2947, 'taste': 2948, 'trade': 2949, 'rec': 2950, '7ish': 2951, '123': 2952, 'å£1450': 2953, \"dat's\": 2954, 'hyde': 2955, 'anthony': 2956, 'spl': 2957, 'stylish': 2958, 'scrounge': 2959, 'forgiven': 2960, 'slide': 2961, 'renewal': 2962, 'transport': 2963, 'definite': 2964, 'nos': 2965, 'ebay': 2966, 'tacos': 2967, '872': 2968, '08717898035': 2969, '24hrs': 2970, 'channel': 2971, '08718738001': 2972, 'web': 2973, '2stop': 2974, 'develop': 2975, 'ability': 2976, 'recovery': 2977, 'cutting': 2978, 'reminding': 2979, 'owns': 2980, 'faggy': 2981, 'demand': 2982, 'fo': 2983, 'loose': 2984, 'pan': 2985, 'perhaps': 2986, 'geeeee': 2987, 'jen': 2988, 'oooh': 2989, 'ey': 2990, 'call09050000327': 2991, 'claims': 2992, 'dancing': 2993, 'hardly': 2994, '80878': 2995, '08712402050': 2996, '10ppm': 2997, 'ag': 2998, 'promo': 2999, 'tsunamis': 3000, 'soiree': 3001, '22': 3002, '83222': 3003, 'ques': 3004, 'suits': 3005, 'uncles': 3006, 'shock': 3007, 'reaction': 3008, 'grow': 3009, 'useful': 3010, 'officially': 3011, 'textbuddy': 3012, 'gaytextbuddy': 3013, '89693': 3014, 'hundred': 3015, 'expressoffer': 3016, 'sweetheart': 3017, 'effects': 3018, 'wee': 3019, 'trains': 3020, 'jolly': 3021, 'cartoon': 3022, 'temple': 3023, 'church': 3024, '40533': 3025, 'rstm': 3026, 'sw7': 3027, '3ss': 3028, 'panic': 3029, 'impatient': 3030, 'river': 3031, 'premium': 3032, 'en': 3033, 'posts': 3034, 'peace': 3035, 'yelling': 3036, 'sue': 3037, 'cochin': 3038, '4d': 3039, 'poop': 3040, 'gpu': 3041, 'ws': 3042, 'dorm': 3043, 'å£1250': 3044, '09071512433': 3045, '050703': 3046, 'callcost': 3047, 'mobilesvary': 3048, 'cookies': 3049, 'admit': 3050, 'correction': 3051, 'ba': 3052, 'spring': 3053, 'nokia6650': 3054, 'ctxt': 3055, 'mtmsg': 3056, 'attached': 3057, 'shouted': 3058, '930': 3059, 'helpline': 3060, '08706091795': 3061, 'gist': 3062, '40': 3063, 'thousands': 3064, 'premier': 3065, 'lip': 3066, 'confused': 3067, 'spare': 3068, 'faith': 3069, 'schools': 3070, 'inch': 3071, 'begging': 3072, '0578': 3073, 'opening': 3074, 'subpoly': 3075, '81618': 3076, 'pole': 3077, 'thot': 3078, 'dictionary': 3079, 'petey': 3080, 'nic': 3081, 'm263uz': 3082, 'cashto': 3083, '08000407165': 3084, 'getstop': 3085, '88222': 3086, 'php': 3087, 'imp': 3088, 'bec': 3089, 'nervous': 3090, 'borrow': 3091, 'galileo': 3092, 'loveme': 3093, 'cappuccino': 3094, '220': 3095, 'cm2': 3096, 'mojibiola': 3097, 'hol': 3098, 'havenåõt': 3099, 'skyped': 3100, 'kz': 3101, 'given': 3102, 'ultimatum': 3103, 'countin': 3104, 'aburo': 3105, 'successful': 3106, '08002888812': 3107, 'inconsiderate': 3108, 'nag': 3109, 'recession': 3110, 'hence': 3111, 'soo': 3112, '09066350750': 3113, 'warning': 3114, 'shoes': 3115, 'worlds': 3116, 'discreet': 3117, 'named': 3118, 'genius': 3119, 'connections': 3120, 'lotta': 3121, 'lately': 3122, 'supply': 3123, 'virgin': 3124, 'mystery': 3125, 'smsco': 3126, 'approx': 3127, 'consider': 3128, 'peaceful': 3129, '41685': 3130, '07': 3131, '10k': 3132, 'castor': 3133, 'liverpool': 3134, '09058094565': 3135, '09065171142': 3136, 'stopsms': 3137, '08': 3138, 'downloaded': 3139, 'ear': 3140, 'oil': 3141, 'mac': 3142, 'usb': 3143, 'gibbs': 3144, 'unbelievable': 3145, 'murder': 3146, 'superb': 3147, 'several': 3148, 'taylor': 3149, 'worst': 3150, 'charles': 3151, 'stores': 3152, '08709222922': 3153, '8p': 3154, 'peak': 3155, 'sweets': 3156, 'chip': 3157, 'addicted': 3158, 'msging': 3159, \"'t\": 3160, 'yck': 3161, 'lux': 3162, 'jeans': 3163, 'bleh': 3164, 'tons': 3165, 'scores': 3166, 'application': 3167, 'ms': 3168, 'gravity': 3169, 'carefully': 3170, 'filthy': 3171, 'magical': 3172, 'valid12hrs': 3173, 'necklace': 3174, 'racing': 3175, 'rice': 3176, 'closes': 3177, 'crap': 3178, 'borin': 3179, 'chocolate': 3180, 'potential': 3181, 'talent': 3182, 'reckon': 3183, '09063458130': 3184, 'polyph': 3185, '65': 3186, 'tech': 3187, 'quiet': 3188, 'aunts': 3189, 'helen': 3190, 'fan': 3191, 'lovers': 3192, 'drove': 3193, 'anniversary': 3194, 'pen': 3195, 'secretly': 3196, 'datebox1282essexcm61xn': 3197, 'pattern': 3198, 'plm': 3199, 'sheffield': 3200, 'zoe': 3201, 'setting': 3202, 'filling': 3203, 'sufficient': 3204, 'thx': 3205, 'speechless': 3206, 'gm': 3207, 'ls15hb': 3208, 'concentrate': 3209, \"1000's\": 3210, 'flirting': 3211, 'bloke': 3212, 'euro': 3213, '3rd': 3214, 'sells': 3215, 'thesis': 3216, 'sends': 3217, 'deciding': 3218, '84025': 3219, 'prepared': 3220, '09050003091': 3221, 'c52': 3222, 'oi': 3223, 'dem': 3224, 'thoughts': 3225, 'breath': 3226, 'craziest': 3227, 'planet': 3228, 'singing': 3229, 'curry': 3230, 'evn': 3231, 'itz': 3232, 'alwys': 3233, '09061790121': 3234, 'fret': 3235, 'depressed': 3236, 'wind': 3237, 'math': 3238, 'dhoni': 3239, 'rocks': 3240, 'durban': 3241, 'speedchat': 3242, '08000776320': 3243, 'survey': 3244, 'difficulties': 3245, 'sar': 3246, 'tank': 3247, '4fil': 3248, 'silently': 3249, 'drms': 3250, 'wrc': 3251, 'rally': 3252, 'lucozade': 3253, 'le': 3254, 'toot': 3255, 'annoying': 3256, 'makin': 3257, 'popcorn': 3258, 'celeb': 3259, 'pocketbabe': 3260, 'voicemail': 3261, 'appreciated': 3262, 'apart': 3263, 'creepy': 3264, '87021': 3265, 'txtin': 3266, '4info': 3267, 'invest': 3268, '1hr': 3269, 'delay': 3270, \"1's\": 3271, 'purse': 3272, 'europe': 3273, 'flip': 3274, 'executive': 3275, \"parents'\": 3276, 'weirdest': 3277, 'minmoremobsemspobox45po139wa': 3278, 'tee': 3279, 'dough': 3280, 'control': 3281, 'express': 3282, 'drinkin': 3283, '5pm': 3284, 'birthdate': 3285, 'nydc': 3286, 'favour': 3287, 'ola': 3288, 'garbage': 3289, 'items': 3290, 'gold': 3291, 'logos': 3292, 'lions': 3293, 'lionm': 3294, 'lionp': 3295, 'jokin': 3296, 'colours': 3297, 'remembr': 3298, 'potter': 3299, 'phoenix': 3300, 'harry': 3301, 'readers': 3302, 'canada': 3303, 'cares': 3304, 'goodnoon': 3305, 'interest': 3306, 'saucy': 3307, 'theres': 3308, 'tmrw': 3309, 'soul': 3310, 'ned': 3311, 'hurting': 3312, 'main': 3313, 'sweetie': 3314, '4a': 3315, 'whn': 3316, 'dance': 3317, 'bar': 3318, 'gently': 3319, 'bears': 3320, '08718730666': 3321, 'juan': 3322, 'ideal': 3323, 'front': 3324, 'arm': 3325, 'tirunelvali': 3326, '4get': 3327, 'effect': 3328, 'kidding': 3329, 'stretch': 3330, 'urn': 3331, 'beware': 3332, 'kaiez': 3333, 'practicing': 3334, 'babies': 3335, 'goodnite': 3336, 'silver': 3337, 'silence': 3338, 'revision': 3339, 'exeter': 3340, 'whose': 3341, 'condition': 3342, 'coat': 3343, 'tues': 3344, 'restaurant': 3345, 'desperate': 3346, 'monkeys': 3347, 'practical': 3348, 'mails': 3349, 'costing': 3350, 'lyfu': 3351, 'lyf': 3352, 'ali': 3353, 'ke': 3354, 'program': 3355, 'meow': 3356, 'lucy': 3357, 'hubby': 3358, 'modules': 3359, 'purity': 3360, 'jsco': 3361, 'testing': 3362, 'nit': 3363, 'format': 3364, 'sarcasm': 3365, 'forum': 3366, 'aunt': 3367, 'unfortunately': 3368, 'yuo': 3369, 'ese': 3370, 'tihs': 3371, 'ow': 3372, 'joining': 3373, 'finance': 3374, 'filled': 3375, 'jia': 3376, 'sux': 3377, 'rhythm': 3378, 'adventure': 3379, 'wifi': 3380, '7250': 3381, 'boyfriend': 3382, 'driver': 3383, 'kicks': 3384, 'dime': 3385, 'force': 3386, 'fire': 3387, 'flame': 3388, 'propose': 3389, 'blame': 3390, 'blessings': 3391, 'batch': 3392, 'flaky': 3393, 'sooooo': 3394, 'tooo': 3395, \"'simple'\": 3396, 'confuses': 3397, 'british': 3398, 'hotels': 3399, 'sw73ss': 3400, 'adoring': 3401, 'dracula': 3402, 'ghost': 3403, 'addamsfa': 3404, 'munsters': 3405, 'exorcist': 3406, 'twilight': 3407, 'constant': 3408, 'cared': 3409, 'allow': 3410, 'feelin': 3411, 'msg150p': 3412, '2rcv': 3413, 'hlp': 3414, '08712317606': 3415, 'fly': 3416, 'event': 3417, '80608': 3418, 'movietrivia': 3419, '08712405022': 3420, 'partnership': 3421, 'mostly': 3422, 'å£6': 3423, 'maintain': 3424, 'sh': 3425, 'poker': 3426, 'messy': 3427, 'traffic': 3428, 'moves': 3429, 'slip': 3430, 'wkg': 3431, 'nus': 3432, 'keeps': 3433, 'gotten': 3434, 'unknown': 3435, '121': 3436, '2007': 3437, 'pre': 3438, 'stick': 3439, 'indeed': 3440, 'chosen': 3441, 'easter': 3442, 'telephone': 3443, 'di': 3444, 'bahamas': 3445, 'cruise': 3446, 'calm': 3447, 'up4': 3448, 'becomes': 3449, 'habit': 3450, 'contacts': 3451, 'forgets': 3452, 'atlanta': 3453, 'recharge': 3454, 'fills': 3455, 'gaps': 3456, 'arun': 3457, 'didnåõt': 3458, 'eye': 3459, 'desparate': 3460, 'fake': 3461, '3100': 3462, 'combine': 3463, 'sian': 3464, 'g696ga': 3465, 'joanna': 3466, 'replacement': 3467, 'telly': 3468, '12mths': 3469, 'mth': 3470, 'wipro': 3471, 'delete': 3472, 'laundry': 3473, 'underwear': 3474, 'waheed': 3475, 'pushes': 3476, 'avoiding': 3477, '0776xxxxxxx': 3478, '326': 3479, 'uh': 3480, 'heads': 3481, 'vday': 3482, '80182': 3483, '08452810073': 3484, \"there're\": 3485, 'table': 3486, 'build': 3487, 'snowman': 3488, 'fights': 3489, 'ofice': 3490, 'cn': 3491, 'prescription': 3492, 'cook': 3493, 'electricity': 3494, 'fujitsu': 3495, 'scold': 3496, '09066358152': 3497, 'prompts': 3498, 'disturbing': 3499, 'flies': 3500, 'woken': 3501, 'aka': 3502, 'delhi': 3503, 'held': 3504, 'fringe': 3505, 'distract': 3506, '61610': 3507, '08712400602450p': 3508, 'tones2you': 3509, 'mel': 3510, 'responsibility': 3511, 'tscs': 3512, 'skillgame': 3513, '1winaweek': 3514, '150ppermesssubscription': 3515, 'kid': 3516, 'affair': 3517, 'aom': 3518, 'nd': 3519, 'parco': 3520, 'nb': 3521, 'hallaq': 3522, 'lyk': 3523, 'bck': 3524, 'color': 3525, 'gender': 3526, 'mca': 3527, 'yer': 3528, '84199': 3529, 'box39822': 3530, 'w111wx': 3531, 'vomiting': 3532, 'rub': 3533, 'clever': 3534, 'manage': 3535, 'shitload': 3536, 'diamonds': 3537, 'nimya': 3538, 'aunty': 3539, 'mcat': 3540, '27': 3541, 'sacrifice': 3542, 'beg': 3543, 'stayin': 3544, 'satisfy': 3545, 'cld': 3546, 'killed': 3547, \"did'nt\": 3548, \"''ok''\": 3549, 'minuts': 3550, 'latr': 3551, 'kidz': 3552, 'smashed': 3553, \"everybody's\": 3554, 'ps': 3555, 'tok': 3556, 'specific': 3557, 'figures': 3558, 'cousin': 3559, 'excuses': 3560, 'neck': 3561, 'continue': 3562, 'holy': 3563, 'billion': 3564, 'classes': 3565, 'youre': 3566, 'turning': 3567, 'belive': 3568, 'slots': 3569, 'discussed': 3570, 'temp': 3571, 'prem': 3572, '2morro': 3573, 'spoiled': 3574, 'threats': 3575, 'sales': 3576, 'complaint': 3577, 'lk': 3578, 'lov': 3579, '300p': 3580, 'u4': 3581, '8552': 3582, '88877': 3583, '700': 3584, 'bedrm': 3585, 'waited': 3586, 'huge': 3587, 'mids': 3588, 'oranges': 3589, 'upd8': 3590, 'annie': 3591, '21870000': 3592, 'mailbox': 3593, 'messaging': 3594, '09056242159': 3595, 'retrieve': 3596, 'hrishi': 3597, 'nothin': 3598, 'cheer': 3599, \"that'll\": 3600, 'duchess': 3601, '008704050406': 3602, 'nahi': 3603, 'zindgi': 3604, 'wo': 3605, 'jo': 3606, 'dan': 3607, 'aww': 3608, 'staring': 3609, 'cm': 3610, 'unnecessarily': 3611, '08701417012150p': 3612, 'weigh': 3613, 'expired': 3614, 'opinions': 3615, 'thm': 3616, 'wn': 3617, 'instantly': 3618, 'drinking': 3619, 'paragon': 3620, 'arent': 3621, 'bluff': 3622, 'sary': 3623, 'happend': 3624, 'piece': 3625, 'vodka': 3626, 'kg': 3627, 'dumb': 3628, 'dressed': 3629, 'kay': 3630, 'nasty': 3631, 'slo': 3632, 'wasted': 3633, 'christ': 3634, 'solve': 3635, 'cooking': 3636, 'push': 3637, 'answered': 3638, 'rgds': 3639, '8pm': 3640, 'wrote': 3641, 'swiss': 3642, 'crore': 3643, 'jobs': 3644, 'lane': 3645, 'politicians': 3646, 'rights': 3647, 'donno': 3648, 'properly': 3649, '630': 3650, 'furniture': 3651, 'lock': 3652, 'shoving': 3653, 'papers': 3654, 'strange': 3655, 'acl03530150pm': 3656, 'indyarocks': 3657, 'resume': 3658, 'bids': 3659, 'whr': 3660, 'yunny': 3661, '83383': 3662, 'mmmmm': 3663, 'relatives': 3664, 'benefits': 3665, 'txt82228': 3666, 'dr': 3667, 'superior': 3668, 'picsfree1': 3669, 'vid': 3670, 'ruin': 3671, 'department': 3672, 'conform': 3673, 'bc': 3674, 'toshiba': 3675, 'knock': 3676, 'innocent': 3677, 'mental': 3678, 'hoped': 3679, 'bills': 3680, '2marrow': 3681, 'hon': 3682, 'treated': 3683, 'fab': 3684, 'wks': 3685, 'tiwary': 3686, 'bang': 3687, 'pap': 3688, 'arts': 3689, 'pandy': 3690, 'edu': 3691, 'secretary': 3692, 'dollar': 3693, 'pull': 3694, 'remains': 3695, 'bro': 3696, 'bros': 3697, '69696': 3698, 'nalla': 3699, 'northampton': 3700, 'abj': 3701, 'serving': 3702, 'smith': 3703, 'neither': 3704, 'hugs': 3705, 'snogs': 3706, 'west': 3707, 'fastest': 3708, 'growing': 3709, 'chase': 3710, '2stoptxt': 3711, 'steam': 3712, 'reg': 3713, 'public': 3714, 'govt': 3715, 'instituitions': 3716, 'luxury': 3717, 'canary': 3718, 'sleepy': 3719, 'mag': 3720, 'diwali': 3721, 'onion': 3722, 'thgt': 3723, 'lower': 3724, 'exhaust': 3725, 'pee': 3726, 'success': 3727, 'å£50': 3728, 'division': 3729, 'creep': 3730, 'lies': 3731, 'property': 3732, 'interflora': 3733, 'bbd': 3734, 'pimples': 3735, 'yellow': 3736, 'frog': 3737, '88888': 3738, 'doubt': 3739, 'strike': 3740, 'coin': 3741, 'freedom': 3742, 'twenty': 3743, 'painting': 3744, 'nowadays': 3745, 'talks': 3746, 'probs': 3747, 'swatch': 3748, 'ganesh': 3749, 'trips': 3750, '2geva': 3751, 'wuld': 3752, 'solved': 3753, 'sake': 3754, 'bruce': 3755, 'teaching': 3756, 'chest': 3757, 'covers': 3758, 'brief': 3759, 'hang': 3760, 'reboot': 3761, 'phoned': 3762, 'improved': 3763, 'hm': 3764, 'salon': 3765, 'evenings': 3766, 'raj': 3767, 'payment': 3768, 'shore': 3769, 'waves': 3770, 'clearing': 3771, 'å£33': 3772, 'range': 3773, 'topic': 3774, 'admin': 3775, 'visionsms': 3776, 'andros': 3777, 'meets': 3778, 'foot': 3779, 'penis': 3780, 'sigh': 3781, 'vth': 3782, 'eveb': 3783, 'window': 3784, 'removal': 3785, '08708034412': 3786, 'blow': 3787, 'cancelled': 3788, 'lookatme': 3789, 'agalla': 3790, 'xxxxx': 3791, 'count': 3792, 'otside': 3793, 'size': 3794, 'itåõs': 3795, 'tight': 3796, 'av': 3797, 'everyday': 3798, 'curious': 3799, 'postcard': 3800, 'bread': 3801, 'mahal': 3802, 'praying': 3803, 'ding': 3804, 'allowed': 3805, 'necessary': 3806, 'messaged': 3807, 'deus': 3808, 'tap': 3809, 'spile': 3810, 'broad': 3811, 'canal': 3812, 'engin': 3813, 'edge': 3814, 'east': 3815, 'howard': 3816, 'cooked': 3817, 'cheat': 3818, 'block': 3819, '09061221066': 3820, 'fromm': 3821, 'ruining': 3822, 'ee': 3823, 'easily': 3824, 'selfish': 3825, 'custom': 3826, 'sac': 3827, 'jiayin': 3828, 'pobox45w2tg150p': 3829, 'forgotten': 3830, '2waxsto': 3831, 'minimum': 3832, 'elaine': 3833, 'drunken': 3834, 'mess': 3835, 'crisis': 3836, 'ths': 3837, 'mb': 3838, 'desires': 3839, '1030': 3840, 'bloomberg': 3841, \"priscilla's\": 3842, 'wisdom': 3843, 'kent': 3844, 'vale': 3845, 'prince': 3846, 'granite': 3847, 'explosive': 3848, 'nasdaq': 3849, 'cdgt': 3850, 'base': 3851, 'placement': 3852, 'didn\\x89û÷t': 3853, 'sumthin': 3854, 'lion': 3855, 'devouring': 3856, 'airtel': 3857, 'processed': 3858, '69669': 3859, 'forums': 3860, 'mumtaz': 3861, \"mumtaz's\": 3862, 'ship': 3863, 'causing': 3864, 'lib': 3865, 'difference': 3866, 'despite': 3867, 'swoop': 3868, 'langport': 3869, 'forevr': 3870, 'mistakes': 3871, 'vegas': 3872, 'lou': 3873, 'båõday': 3874, 'vewy': 3875, 'pool': 3876, 'x49': 3877, '09065989182': 3878, 'stayed': 3879, 'stones': 3880, 'atlast': 3881, 'desert': 3882, \"weekend's\": 3883, 'funeral': 3884, 'vivek': 3885, 'tnc': 3886, 'brah': 3887, 'blu': 3888, 'ipad': 3889, 'bird': 3890, 'cheese': 3891, 'tms': 3892, 'widelive': 3893, 'index': 3894, 'wml': 3895, 'hsbc': 3896, 'wave': 3897, 'asp': 3898, '09061702893': 3899, 'melt': 3900, 'eek': 3901, '09061743386': 3902, 'heater': 3903, '674': 3904, 'eta': 3905, 'dial': 3906, 'literally': 3907, 'kothi': 3908, 'prof': 3909, 'sem': 3910, 'student': 3911, 'actual': 3912, 'sathya': 3913, 'dealing': 3914, 'reasonable': 3915, 'kappa': 3916, 'piss': 3917, 'guessing': 3918, 'royal': 3919, 'sticky': 3920, 'indicate': 3921, 'repeat': 3922, 'calculation': 3923, 'blur': 3924, 'clothes': 3925, 'lush': 3926, '2find': 3927, 'fucked': 3928, 'beauty': 3929, '440': 3930, 'moving': 3931, 'sunlight': 3932, 'jogging': 3933, 'mokka': 3934, 'bone': 3935, 'steve': 3936, 'epsilon': 3937, 'lst': 3938, 'evry': 3939, 'massive': 3940, 'forms': 3941, 'polo': 3942, '373': 3943, 'w1j': 3944, '6hl': 3945, 'academic': 3946, 'convinced': 3947, 'coast': 3948, 'suppose': 3949, 'explicit': 3950, 'secs': 3951, '02073162414': 3952, 'clearly': 3953, 'gain': 3954, '89070': 3955, 'realise': 3956, 'mnths': 3957, '86888': 3958, 'subscribe6gbp': 3959, '3hrs': 3960, 'txtstop': 3961, 'managed': 3962, 'capital': 3963, 'acted': 3964, 'mis': 3965, 'loyal': 3966, 'customers': 3967, '09066380611': 3968, 'print': 3969, 'dokey': 3970, 'error': 3971, 'sleepin': 3972, 'minor': 3973, 'cashbin': 3974, 'denis': 3975, 'woulda': 3976, 'miserable': 3977, 'shoppin': 3978, '08718726270': 3979, 'celebration': 3980, 'nuther': 3981, '910': 3982, 'infections': 3983, 'kiosk': 3984, 'henry': 3985, 'parent': 3986, 'select': 3987, 'woot': 3988, 'dining': 3989, 'donate': 3990, 'cme': 3991, 'parking': 3992, 'goldviking': 3993, '762': 3994, 'sarasota': 3995, '13': 3996, 'cherish': 3997, '165': 3998, '4eva': 3999, '09061213237': 4000, '177': 4001, 'm227xy': 4002, 'favorite': 4003, 'pride': 4004, 'respectful': 4005, 'amused': 4006, 'gr8prizes': 4007, 'mega': 4008, 'shu': 4009, 'island': 4010, '2p': 4011, 'spider': 4012, 'jurong': 4013, 'amore': 4014, \"08452810075over18's\": 4015, 'chgs': 4016, 'aids': 4017, 'patent': 4018, \"'melle\": 4019, 'melle': 4020, 'minnaminunginte': 4021, 'nurungu': 4022, 'vettam': 4023, 'receivea': 4024, '09061701461': 4025, 'kl341': 4026, '08002986030': 4027, 'cried': 4028, 'chances': 4029, 'csh11': 4030, '6days': 4031, 'tsandcs': 4032, 'jackpot': 4033, '81010': 4034, 'dbuk': 4035, 'lccltd': 4036, '4403ldnw1a7rw18': 4037, 'breather': 4038, 'granted': 4039, 'fulfil': 4040, 'qjkgighjjgcbl': 4041, 'gota': 4042, 'macedonia': 4043, 'ì¼1': 4044, 'poboxox36504w45wq': 4045, 'ffffffffff': 4046, 'forced': 4047, 'packing': 4048, 'ahhh': 4049, 'vaguely': 4050, 'apologetic': 4051, 'fallen': 4052, 'actin': 4053, 'spoilt': 4054, 'badly': 4055, 'fainting': 4056, 'housework': 4057, 'cuppa': 4058, 'timings': 4059, 'watts': 4060, 'arabian': 4061, 'steed': 4062, '07732584351': 4063, 'rodger': 4064, 'endowed': 4065, 'hep': 4066, 'immunisation': 4067, 'stubborn': 4068, 'sucker': 4069, 'suckers': 4070, 'thinked': 4071, 'smarter': 4072, 'crashing': 4073, 'accomodations': 4074, 'cave': 4075, 'offered': 4076, 'embarassing': 4077, 'jersey': 4078, 'devils': 4079, 'wings': 4080, 'incorrect': 4081, 'mallika': 4082, 'sherawat': 4083, 'gauti': 4084, 'sehwag': 4085, 'seekers': 4086, '09066364589': 4087, 'dedicated': 4088, 'dedicate': 4089, 'eurodisinc': 4090, 'trav': 4091, 'aco': 4092, 'entry41': 4093, 'morefrmmob': 4094, 'shracomorsglsuplt': 4095, 'ls1': 4096, '3aj': 4097, 'barbie': 4098, \"ken's\": 4099, 'performed': 4100, 'peoples': 4101, 'operate': 4102, \"ta's\": 4103, 'multis': 4104, 'factory': 4105, 'you\\x89û÷ll': 4106, 'casualty': 4107, 'stuff42moro': 4108, 'includes': 4109, 'pours': 4110, '169': 4111, '6031': 4112, '85069': 4113, 'usher': 4114, 'britney': 4115, 'hairdressers': 4116, 'beforehand': 4117, 'ams': 4118, '4the': 4119, 'signin': 4120, 'memorable': 4121, 'ip': 4122, 'minecraft': 4123, 'server': 4124, 'grumpy': 4125, 'lying': 4126, 'plural': 4127, 'openin': 4128, 'formal': 4129, '0871277810910p': 4130, 'ratio': 4131, '07742676969': 4132, '08719180248': 4133, '09064019788': 4134, 'box42wr29c': 4135, 'apples': 4136, 'pairs': 4137, 'malarky': 4138, '7548': 4139, '4041': 4140, 'sao': 4141, 'predict': 4142, 'involve': 4143, 'imposed': 4144, 'lucyxx': 4145, 'tmorrow': 4146, 'accomodate': 4147, 'algarve': 4148, 'gravel': 4149, 'hotmail': 4150, 'svc': 4151, '69988': 4152, 'nver': 4153, 'ummma': 4154, 'sindu': 4155, 'nevering': 4156, 'typical': 4157, 'dirt': 4158, 'chores': 4159, 'exist': 4160, 'hail': 4161, 'mist': 4162, 'aaooooright': 4163, 'annoncement': 4164, '07046744435': 4165, '0871277810810': 4166, 'envy': 4167, \"see's\": 4168, 'excited': 4169, '32': 4170, 'bangbabes': 4171, 'bangb': 4172, 'cultures': 4173, '09061701939': 4174, 's89': 4175, 'missunderstding': 4176, \"one's\": 4177, 'bridge': 4178, 'lager': 4179, 'form': 4180, 'clark': 4181, 'utter': 4182, 'axis': 4183, 'surname': 4184, 'clue': 4185, 'begins': 4186, 'maneesha': 4187, 'satisfied': 4188, 'toll': 4189, 'lifted': 4190, 'hopes': 4191, 'approaches': 4192, 'handsome': 4193, 'finding': 4194, '0808': 4195, '145': 4196, '4742': 4197, '11pm': 4198, '30th': 4199, 'areyouunique': 4200, 'league': 4201, 'ors': 4202, 'stool': 4203, 'wishin': 4204, '1pm': 4205, 'babyjontet': 4206, 'enc': 4207, 'refilled': 4208, 'inr': 4209, 'keralacircle': 4210, 'prepaid': 4211, 'kr': 4212, 'ga': 4213, 'alter': 4214, 'dats': 4215, 'dogg': 4216, 'refund': 4217, 'prediction': 4218, 'ubandu': 4219, 'disk': 4220, 'scenery': 4221, 'flyng': 4222, 'aries': 4223, 'elama': 4224, 'mudyadhu': 4225, 'strict': 4226, 'gandhipuram': 4227, 'rubber': 4228, 'thirtyeight': 4229, 'loses': 4230, '447801259231': 4231, '09058094597': 4232, 'hearing': 4233, 'pleassssssseeeeee': 4234, 'sportsx': 4235, 'baig': 4236, 'watches': 4237, 'drpd': 4238, 'deeraj': 4239, 'deepak': 4240, 'bcums': 4241, 'affection': 4242, 'kettoda': 4243, 'manda': 4244, 'ups': 4245, '3days': 4246, 'usps': 4247, 'bribe': 4248, 'nipost': 4249, 'luton': 4250, '0125698789': 4251, 'sometme': 4252, 'club4mobiles': 4253, '87070': 4254, 'club4': 4255, 'box1146': 4256, 'mk45': 4257, '2wt': 4258, 'evo': 4259, 'narcotics': 4260, 'genuine': 4261, '100percent': 4262, 'objection': 4263, 'rob': 4264, 'mack': 4265, 'theater': 4266, 'celebrations': 4267, 'ahold': 4268, 'cruisin': 4269, 'varunnathu': 4270, 'edukkukayee': 4271, 'raksha': 4272, 'ollu': 4273, 'buzy': 4274, 'resend': 4275, '28thfeb': 4276, 'gurl': 4277, 'appropriate': 4278, 'grave': 4279, 'diesel': 4280, 'fridge': 4281, 'womdarfull': 4282, 'rodds1': 4283, 'aberdeen': 4284, 'united': 4285, 'kingdom': 4286, 'img': 4287, 'icmb3cktz8r7': 4288, 'remb': 4289, 'jos': 4290, 'bookshelf': 4291, 'dear1': 4292, 'best1': 4293, 'clos1': 4294, 'lvblefrnd': 4295, 'jstfrnd': 4296, 'cutefrnd': 4297, 'lifpartnr': 4298, 'swtheart': 4299, 'bstfrnd': 4300, '85222': 4301, 'winnersclub': 4302, '84': 4303, 'gbp1': 4304, 'mylife': 4305, 'l8': 4306, 'gon': 4307, 'guild': 4308, 'evaporated': 4309, 'stealing': 4310, \"employer's\": 4311, 'daaaaa': 4312, 'wined': 4313, 'dined': 4314, 'hiding': 4315, 'huiming': 4316, 'prestige': 4317, 'shag': 4318, 'sextextuk': 4319, 'xxuk': 4320, '69876': 4321, 'jeremiah': 4322, 'iphone': 4323, 'apeshit': 4324, 'misbehaved': 4325, 'safely': 4326, 'onam': 4327, 'sirji': 4328, 'tata': 4329, 'aig': 4330, '08708800282': 4331, 'andrews': 4332, 'db': 4333, \"audrey's\": 4334, 'dawns': 4335, 'refreshed': 4336, 'z': 4337, 'f4q': 4338, 'rp176781': 4339, 'regalportfolio': 4340, '08717205546': 4341, 'uniform': 4342, 'spoil': 4343, 't91': 4344, '09057039994': 4345, 'lindsay': 4346, 'bars': 4347, 'heron': 4348, 'payasam': 4349, 'rinu': 4350, 'taught': 4351, 'becaus': 4352, 'verifying': 4353, 'prabu': 4354, 'repairs': 4355, 'followin': 4356, 'wallet': 4357, '945': 4358, 'n9dx': 4359, 'owl': 4360, 'kickboxing': 4361, 'lap': 4362, 'performance': 4363, 'calculated': 4364, 'wahleykkum': 4365, 'visitor': 4366, '2814032': 4367, '3xå£150pw': 4368, 'eå£nd': 4369, 'stoners': 4370, 'disastrous': 4371, 'busetop': 4372, 'iron': 4373, 'okies': 4374, 'wendy': 4375, '09064012103': 4376, 'whatsup': 4377, '09111032124': 4378, 'pobox12n146tf150p': 4379, '09058094455': 4380, 'sentiment': 4381, 'rowdy': 4382, 'attitude': 4383, 'attractive': 4384, 'urination': 4385, 'bmw': 4386, 'urgently': 4387, 'shortage': 4388, 'source': 4389, 'arng': 4390, '3650': 4391, '09066382422': 4392, '300603': 4393, 'bcm4284': 4394, 'hillsborough': 4395, 'shoul': 4396, 'hasnt': 4397, 'bhaji': 4398, 'cricketer': 4399, 'werethe': 4400, 'monkeespeople': 4401, 'monkeyaround': 4402, 'howdy': 4403, 'blimey': 4404, 'exercise': 4405, 'concentration': 4406, 'hanks': 4407, 'lotsly': 4408, 'detail': 4409, 'optimistic': 4410, 'å£75': 4411, 'homeowners': 4412, 'previously': 4413, '1956669': 4414, 'consistently': 4415, 'practicum': 4416, 'links': 4417, 'ears': 4418, 'wavering': 4419, 'heal': 4420, 'upgrdcentre': 4421, '9153': 4422, 'oral': 4423, 'slippery': 4424, 'bike': 4425, 'okmail': 4426, 'enters': 4427, '69888nyt': 4428, 'machi': 4429, \"when're\": 4430, 'mcr': 4431, 'jaykwon': 4432, 'thuglyfe': 4433, 'falconerf': 4434, '07781482378': 4435, 'faded': 4436, 'glory': 4437, 'ralphs': 4438, \"account's\": 4439, 'reunion': 4440, 'accenture': 4441, 'jackson': 4442, 'reache': 4443, 'fightng': 4444, 'dificult': 4445, 'nuerologist': 4446, 'lolnice': 4447, '09050002311': 4448, 'b4280703': 4449, '08718727868': 4450, 'westshore': 4451, 'significance': 4452, 'jada': 4453, 'kusruthi': 4454, 'matured': 4455, \"g's\": 4456, 'ammo': 4457, 'ak': 4458, 'soryda': 4459, 'sory': 4460, 'boltblue': 4461, 'poly3': 4462, 'jamz': 4463, 'toxic': 4464, 'topped': 4465, 'bubbletext': 4466, 'tgxxrz': 4467, 'problematic': 4468, 'unconscious': 4469, 'adults': 4470, 'abnormally': 4471, 'pickle': 4472, '9755': 4473, \"x'mas\": 4474, 'recieve': 4475, 'teletext': 4476, 'faggot': 4477, '07815296484': 4478, '41782': 4479, 'bani': 4480, 'leads': 4481, 'buttons': 4482, 'ummmmmaah': 4483, 'applausestore': 4484, 'monthlysubscription': 4485, 'max6': 4486, 'csc': 4487, 'famous': 4488, \"'anything'\": 4489, 'unconditionally': 4490, 'temper': 4491, \"'married'\": 4492, 'oclock': 4493, 'bash': 4494, 'cooped': 4495, 'invitation': 4496, 'cali': 4497, \"bloke's\": 4498, 'weddin': 4499, 'alibi': 4500, 'sink': 4501, 'paces': 4502, 'cage': 4503, 'surrounded': 4504, 'cuck': 4505, 'deficient': 4506, 'acknowledgement': 4507, 'astoundingly': 4508, 'tactless': 4509, 'oath': 4510, 'magic': 4511, 'silly': 4512, 'isn\\x89û÷t': 4513, 'uv': 4514, 'causes': 4515, 'mutations': 4516, 'sunscreen': 4517, 'thesedays': 4518, 'mei': 4519, 'haven': 4520, 'bao': 4521, 'sugardad': 4522, 'brownie': 4523, 'ninish': 4524, 'icky': 4525, 'freek': 4526, 'ridden': 4527, 'missy': 4528, 'goggles': 4529, 'arguing': 4530, '09050005321': 4531, 'arngd': 4532, 'walkin': 4533, 'unfortuntly': 4534, 'bites': 4535, 'frnt': 4536, 'sayin': 4537, 'textand': 4538, '08002988890': 4539, 'jjc': 4540, 'tendencies': 4541, 'meive': 4542, 'gotany': 4543, 'srsly': 4544, 'yi': 4545, '07753741225': 4546, '08715203677': 4547, '42478': 4548, 'prix': 4549, 'stands': 4550, 'nitz': 4551, '0825': 4552, 'blastin': 4553, 'occur': 4554, 'rajnikant': 4555, 'ocean': 4556, 'xclusive': 4557, 'clubsaisai': 4558, 'speciale': 4559, 'zouk': 4560, 'roses': 4561, '07946746291': 4562, '07880867867': 4563, 'bridgwater': 4564, 'banter': 4565, 'dependents': 4566, 'thanx4': 4567, 'cer': 4568, 'hundreds': 4569, 'handsomes': 4570, 'beauties': 4571, 'aunties': 4572, 'friendships': 4573, 'dismay': 4574, 'concerned': 4575, 'tootsie': 4576, '4882': 4577, '09064019014': 4578, 'seventeen': 4579, 'ml': 4580, 'biola': 4581, 'fetching': 4582, 'restock': 4583, 'brighten': 4584, 'allo': 4585, 'braved': 4586, 'triumphed': 4587, 'b\\x89û÷ham': 4588, 'uncomfortable': 4589, '08715203694': 4590, 'sonetimes': 4591, 'rough': 4592, 'wesleys': 4593, \"dealer's\": 4594, 'cloud': 4595, 'wikipedia': 4596, '88800': 4597, '89034': 4598, '08718711108': 4599, 'lays': 4600, 'repent': 4601, 'positions': 4602, 'kama': 4603, 'sutra': 4604, 'nange': 4605, 'bakra': 4606, 'kalstiya': 4607, \"carlos'll\": 4608, 'lakhs': 4609, 'sun0819': 4610, '08452810071': 4611, 'ditto': 4612, 'wetherspoons': 4613, 'piggy': 4614, 'freaky': 4615, 'scrappy': 4616, \"'hex'\": 4617, 'sdryb8i': 4618, 'lapdancer': 4619, 'g2': 4620, '1da': 4621, '150ppmsg': 4622, 'crying': 4623, 'imprtant': 4624, 'tomorw': 4625, 'cherthala': 4626, 'bfore': 4627, 'tmorow': 4628, 'engaged': 4629, '448712404000': 4630, '08712404000': 4631, '1405': 4632, '1680': 4633, '1843': 4634, 'entrepreneurs': 4635, \"alex's\": 4636, 'corporation': 4637, 'prevent': 4638, 'dehydration': 4639, 'fluids': 4640, \"sms'd\": 4641, 'trek': 4642, 'harri': 4643, 'gage': 4644, 'deck': 4645, 'cnupdates': 4646, 'newsletter': 4647, 'alerts': 4648, 'aeronautics': 4649, 'professors': 4650, 'calld': 4651, 'aeroplane': 4652, 'hurried': 4653, 'shitstorm': 4654, 'attributed': 4655, '08714712388': 4656, '449071512431': 4657, 'sth': 4658, 'specs': 4659, 'px3748': 4660, '08714712394': 4661, 'macha': 4662, 'mindset': 4663, \"s'fine\": 4664, 'wondar': 4665, 'flim': 4666, 'jelly': 4667, 'scrumptious': 4668, 'dao': 4669, 'half8th': 4670, 'jide': 4671, 'visiting': 4672, 'alertfrom': 4673, 'jeri': 4674, 'stewartsize': 4675, '2kbsubject': 4676, 'prescripiton': 4677, 'drvgsto': 4678, 'steak': 4679, 'neglect': 4680, 'prayers': 4681, \"hadn't\": 4682, 'clocks': 4683, 'realised': 4684, 'wahay': 4685, 'gaze': 4686, '82324': 4687, 'tattoos': 4688, 'caveboy': 4689, \"phone's\": 4690, 'vibrate': 4691, 'acting': 4692, 'å£79': 4693, '08704439680ts': 4694, 'grandmas': 4695, 'hungover': 4696, 'unclaimed': 4697, '09066368327': 4698, 'closingdate04': 4699, 'claimcode': 4700, 'm39m51': 4701, '50pmmorefrommobile2bremoved': 4702, 'mobypobox734ls27yf': 4703, 'gua': 4704, 'faber': 4705, 'mas': 4706, 'dramatic': 4707, 'hunting': 4708, 'drunkard': 4709, 'idc': 4710, 'weaseling': 4711, 'trash': 4712, 'punish': 4713, 'beerage': 4714, 'randomlly': 4715, 'fixes': 4716, 'spelling': 4717, '100p': 4718, '087018728737': 4719, 'toppoly': 4720, 'tune': 4721, 'fondly': 4722, 'dogbreath': 4723, 'sounding': 4724, 'weighed': 4725, 'woohoo': 4726, 'uncountable': 4727, '9996': 4728, '14thmarch': 4729, 'availa': 4730, 'whereare': 4731, 'friendsare': 4732, 'thekingshead': 4733, 'canlove': 4734, '8077': 4735, 'rg21': 4736, '4jx': 4737, 'dled': 4738, 'smokin': 4739, 'boooo': 4740, 'costumes': 4741, 'yowifes': 4742, 'outbid': 4743, 'simonwatson5120': 4744, 'shinco': 4745, 'plyr': 4746, 'smsrewards': 4747, 'notifications': 4748, 'youi': 4749, 'dobby': 4750, 'enjoyin': 4751, 'yourjob': 4752, 'iåõllspeak': 4753, 'soonlots': 4754, 'starshine': 4755, 'sips': 4756, 'smsservices': 4757, 'yourinclusive': 4758, 'bits': 4759, 'hahaha': 4760, 'brain': 4761, 'turned': 4762, 'burial': 4763, '09065174042': 4764, '07821230901': 4765, 'rv': 4766, 'rvx': 4767, 'comprehensive': 4768, \"prashanthettan's\": 4769, 'samantha': 4770, 'guitar': 4771, 'impress': 4772, 'doug': 4773, 'realizes': 4774, 'trauma': 4775, 'swear': 4776, 'inner': 4777, 'tigress': 4778, 'urfeeling': 4779, 'bettersn': 4780, 'probthat': 4781, 'overdose': 4782, 'lovejen': 4783, '83110': 4784, 'ana': 4785, 'sathy': 4786, 'rto': 4787, 'spoons': 4788, 'corvettes': 4789, '09061104283': 4790, '50pm': 4791, 'bunkers': 4792, '07808': 4793, 'xxxxxx': 4794, '08719899217': 4795, 'posh': 4796, 'chaps': 4797, 'trial': 4798, 'prods': 4799, 'champneys': 4800, 'dob': 4801, '0721072': 4802, 'philosophical': 4803, 'hole': 4804, 'atleast': 4805, 'shakespeare': 4806, '5k': 4807, '09064011000': 4808, 'cr01327bt': 4809, 'fixedline': 4810, 'doit': 4811, 'mymoby': 4812, 'woul': 4813, 'curfew': 4814, 'gibe': 4815, 'getsleep': 4816, 'studdying': 4817, 'massages': 4818, 'yoyyooo': 4819, 'permissions': 4820, 'mike': 4821, 'hussey': 4822, 'faglord': 4823, 'nutter': 4824, 'cutter': 4825, 'ctter': 4826, 'cttergg': 4827, 'cttargg': 4828, 'ctargg': 4829, 'ctagg': 4830, 'ie': 4831, 'thus': 4832, 'grateful': 4833, 'happier': 4834, 'agents': 4835, 'experiment': 4836, 'invoices': 4837, 'smell': 4838, 'tobacco': 4839, 'assumed': 4840, 'lastest': 4841, 'stereophonics': 4842, 'marley': 4843, 'dizzee': 4844, 'racal': 4845, 'libertines': 4846, 'strokes': 4847, 'nookii': 4848, 'bookmark': 4849, 'grinule': 4850, 'fudge': 4851, 'oreos': 4852, \"zaher's\": 4853, 'nauseous': 4854, 'dieting': 4855, \"ashley's\": 4856, 'avalarr': 4857, 'hollalater': 4858, 'rounds': 4859, 'blogging': 4860, 'magicalsongs': 4861, 'blogspot': 4862, 'slices': 4863, 'kvb': 4864, 'å£1million': 4865, 'ppt150x3': 4866, 'box403': 4867, 'w1t1jy': 4868, 'alternative': 4869, \"term's\": 4870, 'ore': 4871, 'owo': 4872, 'fro': 4873, 'samus': 4874, 'shoulders': 4875, 'matthew': 4876, '09063440451': 4877, 'ppm150': 4878, 'box334': 4879, 'vomitin': 4880, '09061749602': 4881, '528': 4882, 'hp20': 4883, '1yf': 4884, 'stuffed': 4885, 'writhing': 4886, 'paypal': 4887, 'voila': 4888, 'pockets': 4889, 'theyre': 4890, 'folks': 4891, 'sorta': 4892, 'blown': 4893, 'sophas': 4894, 'secondary': 4895, 'applying': 4896, 'ogunrinde': 4897, 'lodging': 4898, 'chk': 4899, 'dict': 4900, 'shb': 4901, \"dobby's\": 4902, 'stories': 4903, 'simpler': 4904, 'retired': 4905, 'natwest': 4906, '09050001808': 4907, 'm95': 4908, 'chad': 4909, 'gymnastics': 4910, 'christians': 4911, 'token': 4912, 'liking': 4913, 'aptitude': 4914, 'horse': 4915, 'wrongly': 4916, 'boggy': 4917, 'biatch': 4918, 'hesitate': 4919, 'weakness': 4920, 'notebook': 4921, 'eightish': 4922, 'carpark': 4923, '67441233': 4924, 'irene': 4925, 'ere': 4926, 'bus8': 4927, '61': 4928, '66': 4929, '382': 4930, 'cres': 4931, '6ph': 4932, '5wkg': 4933, 'ì¬n': 4934, 'sd': 4935, 'relaxing': 4936, '7am': 4937, '5ish': 4938, 'stripes': 4939, 'skirt': 4940, 'blessed': 4941, 'escalator': 4942, 'beth': 4943, 'charlie': 4944, 'syllabus': 4945, 'panasonic': 4946, 'bluetoothhdset': 4947, 'doublemins': 4948, 'doubletxt': 4949, '30pm': 4950, 'poyyarikatur': 4951, 'kolathupalayam': 4952, 'unjalur': 4953, 'erode': 4954, 'hero': 4955, 'apt': 4956, 'meat': 4957, 'supreme': 4958, 'cudnt': 4959, 'ctla': 4960, 'ente': 4961, 'ishtamayoo': 4962, 'bakrid': 4963, 'glorious': 4964, 'finds': 4965, 'coaxing': 4966, 'images': 4967, 'fond': 4968, 'souveniers': 4969, 'cougar': 4970, '09065394514': 4971, 'scratches': 4972, 'nanny': 4973, 'shitin': 4974, 'defo': 4975, 'hardest': 4976, 'millions': 4977, 'lekdog': 4978, 'blankets': 4979, \"'its\": 4980, 'edison': 4981, 'rightly': 4982, 'viva': 4983, 'atten': 4984, 'iåõd': 4985, '09058097218': 4986, 'educational': 4987, 'doesnåõt': 4988, 'kickoff': 4989, 'data': 4990, 'analysis': 4991, 'belligerent': 4992, 'les': 4993, 'rudi': 4994, 'snoring': 4995, 'ink': 4996, '515': 4997, \"how're\": 4998, 'throwing': 4999, 'eastenders': 5000, 'compare': 5001, 'herself': 5002, 'violet': 5003, 'tulip': 5004, 'lily': 5005, 'wkent': 5006, '150p16': 5007, 'finalise': 5008, 'flirtparty': 5009, 'replys150': 5010, 'dentist': 5011, '09058091854': 5012, 'box385': 5013, 'm6': 5014, '6wu': 5015, 'lul': 5016, 'nurses': 5017, 'shes': 5018, 'obese': 5019, 'oyea': 5020, 'ami': 5021, 'parchi': 5022, 'kicchu': 5023, 'kaaj': 5024, 'korte': 5025, 'iccha': 5026, 'korche': 5027, 'tul': 5028, 'copies': 5029, 'sculpture': 5030, 'surya': 5031, 'pokkiri': 5032, 'dearer': 5033, 'attraction': 5034, 'sorrows': 5035, 'proove': 5036, 'praises': 5037, 'makiing': 5038, 'sambar': 5039, \"fr'ndship\": 5040, 'needle': 5041, '4few': 5042, 'conected': 5043, 'spatula': 5044, '09061221061': 5045, '28days': 5046, 'box177': 5047, 'm221bp': 5048, '2yr': 5049, 'warranty': 5050, 'på£3': 5051, '99': 5052, \"cali's\": 5053, 'complexities': 5054, 'freely': 5055, 'taxes': 5056, 'outrageous': 5057, 'tomorro': 5058, 'ryder': 5059, 'elvis': 5060, 'presleys': 5061, 'strips': 5062, 'postal': 5063, 'gifts': 5064, 'cliff': 5065, 'wrking': 5066, 'sittin': 5067, 'drops': 5068, 'hen': 5069, 'smoked': 5070, 'teju': 5071, 'hourish': 5072, 'amla': 5073, 'convenience': 5074, 'evaluation': 5075, '449050000301': 5076, '09050000301': 5077, '80155': 5078, 'swap': 5079, 'chatter': 5080, 'chat80155': 5081, 'rcd': 5082, 'cheyyamo': 5083, '80160': 5084, 'txt43': 5085, 'throws': 5086, 'brothers': 5087, 'hmv1': 5088, 'errors': 5089, 'tau': 5090, 'piah': 5091, '1stchoice': 5092, '08707808226': 5093, \"shade's\": 5094, 'copied': 5095, 'notified': 5096, 'marketing': 5097, '84122': 5098, '08450542832': 5099, 'virgins': 5100, 'sexual': 5101, 'theirs': 5102, '69911': 5103, 'sitter': 5104, 'kaitlyn': 5105, 'danger': 5106, 'peeps': 5107, 'comment': 5108, 'veggie': 5109, 'neighbors': 5110, 'computerless': 5111, 'balloon': 5112, '61200': 5113, 'packs': 5114, 'itcould': 5115, 'melody': 5116, 'macs': 5117, 'hme': 5118, 'velachery': 5119, 'flippin': 5120, 'breaking': 5121, 'cstore': 5122, 'hangin': 5123, 'lodge': 5124, 'worrying': 5125, 'quizzes': 5126, '087016248': 5127, '08719181503': 5128, 'thin': 5129, 'arguments': 5130, 'fed': 5131, 'himso': 5132, 'neft': 5133, 'beneficiary': 5134, 'subs16': 5135, '1win150ppmx3': 5136, 'semi': 5137, 'exp': 5138, '30apr': 5139, 'maaaan': 5140, 'guessin': 5141, 'ilol': 5142, 'personally': 5143, 'wuldnt': 5144, 'lunchtime': 5145, 'organise': 5146, '08719181513': 5147, 'passable': 5148, 'phd': 5149, '5years': 5150, 'nok': 5151, 'prakesh': 5152, 'betta': 5153, 'aging': 5154, 'products': 5155, 'accommodation': 5156, 'global': 5157, 'phb1': 5158, '08700435505150p': 5159, 'submitting': 5160, 'snatch': 5161, 'drivby': 5162, '0quit': 5163, 'edrunk': 5164, 'iff': 5165, 'pthis': 5166, 'senrd': 5167, 'dnot': 5168, 'dancce': 5169, 'drum': 5170, 'basq': 5171, 'ihave': 5172, '2nhite': 5173, 'ros': 5174, 'xxxxxxx': 5175, 'relieved': 5176, 'westonzoyland': 5177, 'greatness': 5178, 'goin2bed': 5179, 'only1more': 5180, 'mc': 5181, 'every1': 5182, 'ava': 5183, 'goodtime': 5184, 'oli': 5185, 'melnite': 5186, 'ifink': 5187, 'everythin': 5188, 'l8rs': 5189, '08712402779': 5190, 'shun': 5191, 'bian': 5192, 'glass': 5193, 'exhibition': 5194, 'el': 5195, 'nino': 5196, 'himself': 5197, 'jd': 5198, 'accounts': 5199, 'downstem': 5200, '08718730555': 5201, 'wahala': 5202, 'inperialmusic': 5203, 'listening2the': 5204, 'byåóleafcutter': 5205, 'johnåó': 5206, 'insects': 5207, 'molested': 5208, 'plumbing': 5209, 'remixed': 5210, 'evil': 5211, 'acid': 5212, 'didntgive': 5213, 'bellearlier': 5214, '09096102316': 5215, 'cheery': 5216, 'weirdo': 5217, 'stalk': 5218, 'profiles': 5219, 'jerry': 5220, 'irritates': 5221, 'fails': 5222, '95': 5223, 'pax': 5224, 'deposit': 5225, 'jap': 5226, 'disappeared': 5227, 'certificate': 5228, 'publish': 5229, 'wheellock': 5230, 'destination': 5231, 'fifty': 5232, 'settling': 5233, 'happenin': 5234, 'cocksuckers': 5235, 'ipads': 5236, 'worthless': 5237, 'novelty': 5238, 'janx': 5239, 'dads': 5240, 'designation': 5241, 'developer': 5242, 'videosound': 5243, 'videosounds': 5244, 'musicnews': 5245, '09701213186': 5246, 'spirit': 5247, 'shattered': 5248, 'girlie': 5249, 'darker': 5250, 'styling': 5251, 'gray': 5252, 'listn': 5253, 'watevr': 5254, '\\x89ûïharry': 5255, 'minus': 5256, 'paragraphs': 5257, 'coveragd': 5258, 'vasai': 5259, \"4'o\": 5260, 'retard': 5261, 'bathroom': 5262, 'sang': 5263, \"'uptown\": 5264, \"girl'\": 5265, \"80's\": 5266, 'icic': 5267, 'syria': 5268, 'gauge': 5269, \"patty's\": 5270, 'completing': 5271, 'ax': 5272, 'surgical': 5273, 'emergency': 5274, 'unfolds': 5275, 'korean': 5276, \"leona's\": 5277, 'fredericksburg': 5278, 'que': 5279, 'pases': 5280, 'buen': 5281, 'tiempo': 5282, 'free2day': 5283, \"george's\": 5284, '89080': 5285, '0870241182716': 5286, 'compass': 5287, 'gnun': 5288, 'way2sms': 5289, 'baaaaabe': 5290, 'misss': 5291, 'youuuuu': 5292, 'convince': 5293, 'witot': 5294, 'buyer': 5295, 'becz': 5296, 'undrstndng': 5297, 'avoids': 5298, 'suffer': 5299, 'steamboat': 5300, 'forgive': 5301, 'tp': 5302, 'bbq': 5303, '6ish': 5304, 'everyso': 5305, 'panicks': 5306, 'screen': 5307, 'nick': 5308, 'types': 5309, 'auntie': 5310, 'huai': 5311, 'lf56': 5312, 'tlk': 5313, 'path': 5314, 'appear': 5315, 'paths': 5316, 'reserve': 5317, 'thirunelvali': 5318, 'tackle': 5319, 'storming': 5320, 'phne': 5321, 'wt': 5322, 'margaret': 5323, 'girlfrnd': 5324, 'grahmbell': 5325, 'invnted': 5326, 'telphone': 5327, 'tonght': 5328, 'ploughing': 5329, 'pile': 5330, 'ironing': 5331, 'chinky': 5332, 'wi': 5333, 'nz': 5334, 'aust': 5335, 'bk': 5336, 'recharged': 5337, 'papa': 5338, 'detailed': 5339, 'sinco': 5340, 'payee': 5341, 'icicibank': 5342, 'frauds': 5343, 'disclose': 5344, 'losers': 5345, 'beta': 5346, 'noncomittal': 5347, 'beneath': 5348, 'pale': 5349, 'snickering': 5350, 'chords': 5351, 'win150ppmx3age16': 5352, 'boyf': 5353, 'interviw': 5354, 'spreadsheet': 5355, 'determine': 5356, 'entire': 5357, 'dartboard': 5358, 'doubles': 5359, 'trebles': 5360, 'recognises': 5361, 'wisheds': 5362, 'intrepid': 5363, 'duo': 5364, 'breeze': 5365, 'fresh': 5366, 'twittering': 5367, 'ducking': 5368, 'chinchillas': 5369, 'function': 5370, 'headstart': 5371, 'rummer': 5372, 'flying': 5373, 'optin': 5374, 'bbc': 5375, 'charts': 5376, 'thanks2': 5377, 'rajini': 5378, 'summers': 5379, 'matched': 5380, 'help08714742804': 5381, 'spys': 5382, '09099725823': 5383, 'offering': 5384, 'yalru': 5385, 'astne': 5386, 'innu': 5387, 'mundhe': 5388, 'halla': 5389, 'bilo': 5390, 'edhae': 5391, 'ovr': 5392, 'vargu': 5393, 'prone': 5394, '07801543489': 5395, 'latests': 5396, 'llc': 5397, 'ny': 5398, 'usa': 5399, 'msgrcvd18': 5400, 'permission': 5401, 'meetins': 5402, 'cumin': 5403, '09099726395': 5404, 'wonders': 5405, '7th': 5406, '6th': 5407, '5th': 5408, 'personality': 5409, 'dose': 5410, 'tablet': 5411, 'incomm': 5412, 'doesn': 5413, 'maps': 5414, 'tiring': 5415, 'concentrating': 5416, 'browsin': 5417, 'compulsory': 5418, 'musthu': 5419, 'investigate': 5420, 'vitamin': 5421, 'crucial': 5422, \"someone's\": 5423, '2channel': 5424, 'leadership': 5425, 'skills': 5426, 'psychic': 5427, 'host': 5428, 'based': 5429, 'idps': 5430, 'linux': 5431, 'systems': 5432, 'converter': 5433, 'sayy': 5434, 'leanne': 5435, 'disc': 5436, 'champ': 5437, 'glasgow': 5438, 'lovin': 5439, 'install': 5440, 'browse': 5441, 'artists': 5442, 'corect': 5443, 'speling': 5444, '4719': 5445, '523': 5446, 'cts': 5447, 'employee': 5448, 'nike': 5449, 'sooo': 5450, 'shouting': 5451, 'dang': 5452, 'earliest': 5453, 'nordstrom': 5454, 'konw': 5455, 'waht': 5456, 'rael': 5457, 'gving': 5458, 'exmpel': 5459, 'jsut': 5460, 'evrey': 5461, 'splleing': 5462, 'wrnog': 5463, 'sitll': 5464, 'raed': 5465, 'wihtuot': 5466, 'ayn': 5467, 'mitsake': 5468, 'conference': 5469, 'degree': 5470, 'bleak': 5471, 'shant': 5472, 'nearer': 5473, 'raiden': 5474, 'kegger': 5475, 'totes': 5476, 'pierre': 5477, 'cardin': 5478, 'establish': 5479, 'truro': 5480, 'ext': 5481, 'cloth': 5482, 'sunroof': 5483, 'blanked': 5484, 'image': 5485, 'rumour': 5486, 'kalainar': 5487, 'thenampet': 5488, 'nosy': 5489, 'reacting': 5490, 'freaked': 5491, 'satanic': 5492, 'imposter': 5493, 'destiny': 5494, 'companion': 5495, 'chef': 5496, 'listener': 5497, 'organizer': 5498, 'sympathetic': 5499, 'athletic': 5500, 'courageous': 5501, 'determined': 5502, 'dependable': 5503, 'psychologist': 5504, 'pest': 5505, 'exterminator': 5506, 'psychiatrist': 5507, 'healer': 5508, 'stylist': 5509, 'aaniye': 5510, 'pudunga': 5511, 'venaam': 5512, 'chez': 5513, 'jules': 5514, 'hhahhaahahah': 5515, 'nig': 5516, 'leonardo': 5517, \"derek's\": 5518, '2years': 5519, 'strain': 5520, 'withdraw': 5521, 'anyhow': 5522, 'falling': 5523, 'smeone': 5524, 'millers': 5525, 'spark': 5526, 'rawring': 5527, 'xoxo': 5528, 'somewhr': 5529, 'crushes': 5530, 'honeymoon': 5531, 'outfit': 5532, '08719899230': 5533, 'gods': 5534, 'cheque': 5535, 'olympics': 5536, 'leo': 5537, 'patty': 5538, 'haul': 5539, 'wildlife': 5540, 'want2come': 5541, 'that2worzels': 5542, 'wizzle': 5543, 'dippeditinadew': 5544, 'lovingly': 5545, 'itwhichturnedinto': 5546, 'gifted': 5547, 'tomeandsaid': 5548, 'shanghai': 5549, 'cya': 5550, '645': 5551, 'rt': 5552, 'pro': 5553, '08701237397': 5554, 'redeemable': 5555, 'thnx': 5556, 'sef': 5557, 'anjie': 5558, 'fring': 5559, 'nte': 5560, '09058094599': 5561, 'doesn\\x89û÷t': 5562, 'wating': 5563, '02072069400': 5564, 'bx': 5565, '526': 5566, 'talents': 5567, 'animal': 5568, 'shiny': 5569, 'warming': 5570, 'french': 5571, 'fooled': 5572, '0a': 5573, 'companies': 5574, 'responsible': 5575, 'suppliers': 5576, 'lnly': 5577, 'keen': 5578, 'dammit': 5579, 'wright': 5580, 'somewhat': 5581, 'laden': 5582, 'wrecked': 5583, 'spontaneously': 5584, 'goodevening': 5585, 'rgent': 5586, 'daytime': 5587, 'busty': 5588, '09099726429': 5589, 'janinexx': 5590, 'spageddies': 5591, 'phasing': 5592, 'fourth': 5593, 'dimension': 5594, 'meaningful': 5595, 'compromised': 5596, '09050001295': 5597, 'a21': 5598, 'mobsi': 5599, '391784': 5600, 'dub': 5601, 'je': 5602, 'toughest': 5603, 'jas': 5604, 'squatting': 5605, '0089': 5606, 'digits': 5607, '09063442151': 5608, 'sonathaya': 5609, 'soladha': 5610, 'raping': 5611, 'dudes': 5612, 'weightloss': 5613, 'mushy': 5614, 'embarrassed': 5615, 'stash': 5616, 'priya': 5617, 'kilos': 5618, 'accidant': 5619, 'tookplace': 5620, 'ghodbandar': 5621, 'slovely': 5622, 'sc': 5623, 'specialise': 5624, 'wad': 5625, 'desparately': 5626, 'stereo': 5627, 'mi': 5628, '09094646899': 5629, 'vu': 5630, 'bcm1896wc1n3xx': 5631, 'classmates': 5632, 'fires': 5633, 'trackmarque': 5634, 'vipclub4u': 5635, 'missionary': 5636, 'entertaining': 5637, 'hugh': 5638, 'laurie': 5639, 'praps': 5640, 'jon': 5641, 'spain': 5642, 'dinero': 5643, 'åôrents': 5644, '000pes': 5645, 'å£48': 5646, \"'maangalyam\": 5647, 'alaipayuthe': 5648, 'complaining': 5649, 'mandy': 5650, 'sullivan': 5651, 'hotmix': 5652, 'fm': 5653, '09041940223': 5654, 'transferred': 5655, \"finn's\": 5656, 'callfreefone': 5657, '08081560665': 5658, 'ofå£2000': 5659, '07786200117': 5660, 'downon': 5661, 'theacusations': 5662, 'itxt': 5663, 'iwana': 5664, 'wotu': 5665, 'thew': 5666, 'haventcn': 5667, 'nething': 5668, 'dine': 5669, 'conacted': 5670, '09111030116': 5671, 'pobox12n146tf15': 5672, 'inspection': 5673, 'nursery': 5674, 'panren': 5675, 'paru': 5676, 'chuckin': 5677, 'trainners': 5678, 'carryin': 5679, 'bac': 5680, 'dhanush': 5681, 'needing': 5682, 'habba': 5683, 'dileep': 5684, 'muchand': 5685, 'venugopal': 5686, 'mentioned': 5687, 'remembrs': 5688, 'everytime': 5689, 'mandan': 5690, '07734396839': 5691, 'ibh': 5692, 'nokia6600': 5693, '3230': 5694, 'textbook': 5695, 'algorithms': 5696, 'edition': 5697, 'invaders': 5698, 'orig': 5699, 'console': 5700, '09064018838': 5701, 'cro1327': 5702, 'transfr': 5703, 'intend': 5704, 'iwas': 5705, 'marine': 5706, 'itried2tell': 5707, 'urmom': 5708, 'careabout': 5709, 'foley': 5710, 'prizes': 5711, '82050': 5712, 'learned': 5713, 'iraq': 5714, 'afghanistan': 5715, 'stable': 5716, 'honest': 5717, 'traveling': 5718, '1225': 5719, 'å£50award': 5720, 'pai': 5721, 'seh': 5722, 'parts': 5723, 'walsall': 5724, 'tue': 5725, 'terry': 5726, 'ccna': 5727, 'shrek': 5728, 'fellow': 5729, \"something's\": 5730, 'dying': 5731, 'lifting': 5732, 'teresa': 5733, 'dec': 5734, \"you'ld\": 5735, 'bam': 5736, 'aid': 5737, 'usmle': 5738, 'squishy': 5739, 'mwahs': 5740, 'hottest': 5741, 'prominent': 5742, 'cheek': 5743, 'september': 5744, 'hack': 5745, 'backdoor': 5746, 'fraction': 5747, 'neo69': 5748, '09050280520': 5749, 'subscribe': 5750, 'dps': 5751, 'bcm': 5752, '8027': 5753, 'comingdown': 5754, 'murali': 5755, 'sts': 5756, 'engalnd': 5757, 'mia': 5758, 'elliot': 5759, 'kissing': 5760, '2price': 5761, '100txt': 5762, \"b'tooth\": 5763, 'd3wv': 5764, 'matric': 5765, '850': 5766, '650': 5767, '08718726970': 5768, 'payments': 5769, 'fedex': 5770, 'reception': 5771, 'consensus': 5772, 'entertain': 5773, 'tag': 5774, 'bras': 5775, 'strewn': 5776, 'pillows': 5777, 'weaknesses': 5778, \"knee's\": 5779, 'exposes': 5780, 'pulls': 5781, 'wicked': 5782, 'supports': 5783, 'srt': 5784, 'ps3': 5785, 'jontin': 5786, 'banned': 5787, 'biro': 5788, '09058094594': 5789, 'shell': 5790, 'unconsciously': 5791, 'unhappy': 5792, 'jog': 5793, '09061743811': 5794, 'lark': 5795, \"station's\": 5796, '09090900040': 5797, 'extreme': 5798, 'sic': 5799, '7mp': 5800, '0870753331018': 5801, 'fones': 5802, 'wild': 5803, 'stop2stop': 5804, 'lim': 5805, 'parachute': 5806, 'placed': 5807, 'lambda': 5808, 'angels': 5809, 'snowball': 5810, 'ello': 5811, 'duffer': 5812, 'grr': 5813, 'pharmacy': 5814, '08715500022': 5815, 'rpl': 5816, 'cnl': 5817, 'nor': 5818, 'fffff': 5819, 'lifebook': 5820, 'zhong': 5821, 'qing': 5822, 'act': 5823, 'hypertension': 5824, 'annoyin': 5825, '08702490080': 5826, 'vpod': 5827, 'nigro': 5828, 'scratching': 5829, \"idea's\": 5830, 'anyplaces': 5831, 'priority': 5832, 'ecstasy': 5833, '09090204448': 5834, 'minded': 5835, 'aå£1': 5836, 'minapn': 5837, 'ls278bb': 5838, 'hittng': 5839, 'reflex': 5840, 'adewale': 5841, 'egbon': 5842, 'mary': 5843, 'deduct': 5844, 'wrks': 5845, 'monkey': 5846, 'asshole': 5847, 'grab': 5848, 'sliding': 5849, '09065394973': 5850, 'payback': 5851, 'honeybee': 5852, 'sweetest': 5853, 'laughed': 5854, 'havnt': 5855, 'crack': 5856, 'tescos': 5857, 'feathery': 5858, 'bowa': 5859, 'infra': 5860, 'gep': 5861, '2006': 5862, 'fifa': 5863, 'shhhhh': 5864, 'related': 5865, 'arul': 5866, 'amk': 5867, '09061743810': 5868, 'length': 5869, 'antha': 5870, 'corrct': 5871, 'dane': 5872, \"basket's\": 5873, 'rupaul': 5874, 'practising': 5875, 'curtsey': 5876, 'memory': 5877, 'converted': 5878, 'african': 5879, 'soil': 5880, 'roles': 5881, 'outreach': 5882, '8lb': 5883, '7oz': 5884, 'brilliantly': 5885, 'forwarding': 5886, 'intention': 5887, 'visitors': 5888, 'rules': 5889, 'bend': 5890, 'thia': 5891, 'inlude': 5892, 'previews': 5893, '08006344447': 5894, 'ambrith': 5895, 'madurai': 5896, 'dha': 5897, 'marrge': 5898, 'kitty': 5899, 'shaved': 5900, \"anybody's\": 5901, 'tactful': 5902, 'pert': 5903, 'head\\x89û': 5904, 'crammed': 5905, 'satsgettin': 5906, '47per': 5907, 'apologize': 5908, 'pei': 5909, 'subtoitles': 5910, 'jot': 5911, 'cereals': 5912, 'gari': 5913, 'bold2': 5914, '09094100151': 5915, 'cast': 5916, 'gbp5': 5917, 'box61': 5918, 'm60': 5919, '1er': 5920, 'thkin': 5921, 'resubbing': 5922, 'shadow': 5923, 'breadstick': 5924, 'saeed': 5925, '09066362220': 5926, 'purple': 5927, 'yelow': 5928, 'brown': 5929, 'arranging': 5930, 'eldest': 5931, 'drugdealer': 5932, 'wither': 5933, '23f': 5934, '23g': 5935, 'sleepwell': 5936, 'wondarfull': 5937, 'web2mobile': 5938, 'txt250': 5939, 'box139': 5940, 'la32wu': 5941, 'txtx': 5942, 'onbus': 5943, 'donyt': 5944, 'latelyxxx': 5945, '85233': 5946, 'stressed': 5947, 'soooo': 5948, 'provider': 5949, 'tming': 5950, 'cutest': 5951, 'dice': 5952, '08700469649': 5953, 'box420': 5954, 'howda': 5955, 'mathe': 5956, 'samachara': 5957, 'audrie': 5958, 'autocorrect': 5959, 'simulate': 5960, 'readiness': 5961, 'lara': 5962, 'supplies': 5963, 'guesses': 5964, 'attach': 5965, '087123002209am': 5966, 'stamped': 5967, '113': 5968, 'bray': 5969, 'wicklow': 5970, 'eire': 5971, 'washob': 5972, 'nobbing': 5973, 'nickey': 5974, 'platt': 5975, 'ryan': 5976, 'idew': 5977, 'spotty': 5978, 'province': 5979, 'sterling': 5980, 'xam': 5981, 'hall': 5982, 'hesitation': 5983, 'intha': 5984, 'ponnungale': 5985, 'ipaditan': 5986, 'rejected': 5987, 'tessy': 5988, 'favor': 5989, 'shijas': 5990, 'noisy': 5991, 'needa': 5992, 'manual': 5993, 'reset': 5994, 'troubleshooting': 5995, 'b4u': 5996, 'marsms': 5997, 'b4utele': 5998, '08717168528': 5999, 'strongly': 6000, 'creativity': 6001, 'stifled': 6002, 'requirements': 6003, 'heåõs': 6004, '2getha': 6005, 'buffy': 6006, 'qlynnbv': 6007, 'help08700621170150p': 6008, 'nosh': 6009, 'waaaat': 6010, 'lololo': 6011, \"table's\": 6012, 'occupied': 6013, 'documents': 6014, 'submitted': 6015, 'stapati': 6016, 'cutie': 6017, 'hills': 6018, 'honesty': 6019, 'specialisation': 6020, 'labor': 6021, 'shakara': 6022, 'beggar': 6023, 'dent': 6024, 'crickiting': 6025, 'imin': 6026, 'dontmatter': 6027, 'urgoin': 6028, 'outl8r': 6029, 'yavnt': 6030, 'popping': 6031, 'ibuprofens': 6032, 'sip': 6033, 'grown': 6034, 'chinatown': 6035, 'porridge': 6036, 'claypot': 6037, 'yam': 6038, 'fishhead': 6039, 'beehoon': 6040, 'jaklin': 6041, 'nearby': 6042, 'cliffs': 6043, '49': 6044, 'bundle': 6045, 'deals': 6046, 'avble': 6047, 'mf': 6048, 'ooh': 6049, '4got': 6050, 'moseley': 6051, 'weds': 6052, 'thankyou': 6053, 'aluable': 6054, 'ffectionate': 6055, 'oveable': 6056, 'ternal': 6057, 'oble': 6058, 'ruthful': 6059, 'ntimate': 6060, 'atural': 6061, 'namous': 6062, \"textin'\": 6063, 'raji': 6064, 'amigos': 6065, 'burn': 6066, 'progress': 6067, \"weren't\": 6068, 'arty': 6069, 'collages': 6070, 'tryin': 6071, '2hrs': 6072, 'waliking': 6073, 'cartons': 6074, 'shelves': 6075, '08714712379': 6076, 'mirror': 6077, 'k718': 6078, '09065069120': 6079, 'jod': 6080, 'keris': 6081, 'smidgin': 6082, 'intentions': 6083, 'accordin': 6084, \"no's\": 6085, 'knocking': 6086, 'como': 6087, 'listened2the': 6088, 'plaid': 6089, 'air1': 6090, 'hilarious': 6091, 'boughtåóbraindanceåóa': 6092, 'ofstuff': 6093, 'aphexåõs': 6094, 'abel': 6095, 'nelson': 6096, \"bb's\": 6097, 'unmits': 6098, 'newspapers': 6099, 'yummmm': 6100, 'puzzeles': 6101, '4goten': 6102, 'scammers': 6103, 'passion': 6104, '09099726481': 6105, 'dena': 6106, 'r836': 6107, '09065069154': 6108, 'shifad': 6109, 'raised': 6110, \"'doctors'\": 6111, 'reminds': 6112, 'splashmobile': 6113, 'subscrition': 6114, 'dust': 6115, '01223585334': 6116, '2c': 6117, 'shagged': 6118, '2end': 6119, '3pound': 6120, 'watchin': 6121, 'meaningless': 6122, \"all's\": 6123, 'brdget': 6124, 'jones': 6125, 'inever': 6126, 'hype': 6127, 'studio': 6128, 'velly': 6129, 'marking': 6130, '2stoptx': 6131, '08718738034': 6132, 'va': 6133, 'hanger': 6134, 'poem': 6135, 'arrow': 6136, 'blanket': 6137, '08718726971': 6138, 'tddnewsletter': 6139, 'emc1': 6140, 'thedailydraw': 6141, 'dozens': 6142, 'prizeswith': 6143, 'significant': 6144, 'waqt': 6145, 'pehle': 6146, 'naseeb': 6147, 'zyada': 6148, 'kisi': 6149, 'ko': 6150, 'kuch': 6151, 'milta': 6152, 'hum': 6153, 'sochte': 6154, 'ham': 6155, 'jeetey': 6156, 'stalking': 6157, 'reminded': 6158, 'varaya': 6159, 'elaya': 6160, '09066368753': 6161, '97n7qp': 6162, 'anand': 6163, 'beach': 6164, 'expected': 6165, 'jez': 6166, 'todo': 6167, 'workand': 6168, 'whilltake': 6169, 'zogtorius': 6170, 'iåõve': 6171, 'financial': 6172, 'alian': 6173, 'tooth': 6174, 'or2optout': 6175, 'hv9d': 6176, 'posible': 6177, 'century': 6178, 'frwd': 6179, 'affectionate': 6180, 'sorts': 6181, 'restrictions': 6182, 'buddys': 6183, '08712402902': 6184, 'owned': 6185, 'possessive': 6186, 'clarification': 6187, 'gamestar': 6188, 'active': 6189, 'å£250k': 6190, 'scoring': 6191, '88088': 6192, 'coimbatore': 6193, 'monoc': 6194, 'monos': 6195, 'polyc': 6196, 'stream': 6197, '0871212025016': 6198, 'categories': 6199, 'ethnicity': 6200, 'census': 6201, 'transcribing': 6202, 'propsd': 6203, 'gv': 6204, 'lv': 6205, 'lttrs': 6206, 'threw': 6207, 'aproach': 6208, 'dt': 6209, 'truck': 6210, 'speeding': 6211, \"'hw\": 6212, 'thy': 6213, 'lived': 6214, 'happily': 6215, '2gthr': 6216, 'evrydy': 6217, 'cakes': 6218, 'draws': 6219, 'goodmate': 6220, 'asusual': 6221, 'cheered': 6222, 'franyxxxxx': 6223, 'batt': 6224, 'becausethey': 6225, '09058098002': 6226, 'pobox1': 6227, 'w14rg': 6228, 'responce': 6229, 'wiskey': 6230, 'brandy': 6231, 'rum': 6232, 'gin': 6233, 'scotch': 6234, 'shampain': 6235, 'kudi': 6236, 'yarasu': 6237, 'dhina': 6238, 'vaazhthukkal': 6239, 'gained': 6240, 'pressure': 6241, 'limits': 6242, 'doke': 6243, 'laying': 6244, 'kills': 6245, 'neshanth': 6246, 'byatch': 6247, 'whassup': 6248, 'cl': 6249, 'filthyguys': 6250, '4msgs': 6251, 'chiong': 6252, 'dialogue': 6253, 'reltnship': 6254, 'questioned': 6255, 'gardener': 6256, 'vegetables': 6257, 'neighbour': 6258, 'pose': 6259, 'comb': 6260, 'dryer': 6261, 'fps': 6262, 'computational': 6263, 'disturbance': 6264, 'dlf': 6265, 'premarica': 6266, 'gotto': 6267, '220cm2': 6268, 'err': 6269, 'hitter': 6270, 'offline': 6271, \"anjola's\": 6272, 'asjesus': 6273, 'directors': 6274, 'lac': 6275, 'deposited': 6276, \"'taxless'\": 6277, 'suply': 6278, 'projects': 6279, 'imf': 6280, 'blocked': 6281, 'corrupt': 6282, 'itna': 6283, 'karo': 6284, 'ki': 6285, 'pura': 6286, 'padhe': 6287, 'torrents': 6288, 'particularly': 6289, 'slowing': 6290, 'commit': 6291, '83370': 6292, 'trivia': 6293, 'rightio': 6294, '48': 6295, 'brum': 6296, 'scorable': 6297, 'paranoid': 6298, 'brin': 6299, 'sheet': 6300, 'complain': 6301, 'bettr': 6302, 'bsnl': 6303, 'offc': 6304, 'payed': 6305, 'suganya': 6306, 'dessert': 6307, 'abeg': 6308, 'sponsors': 6309, 'onum': 6310, 'poet': 6311, 'imagination': 6312, 'rr': 6313, 'famamus': 6314, 'locks': 6315, 'jenne': 6316, 'easiest': 6317, 'barcelona': 6318, 'sppok': 6319, 'complementary': 6320, 'wa14': 6321, '2px': 6322, 'pansy': 6323, 'jungle': 6324, 'kanji': 6325, 'srs': 6326, 'drizzling': 6327, 'appointments': 6328, 'excused': 6329, 'drama': 6330, 'struggling': 6331, 'ego': 6332, \"'if\": 6333, \"invited'\": 6334, 'necessity': 6335, 'reppurcussions': 6336, 'cosign': 6337, 'hvae': 6338, '09061701444': 6339, 'hcl': 6340, 'requires': 6341, 'freshers': 6342, 'suman': 6343, 'telephonic': 6344, 'reliant': 6345, 'fwiw': 6346, 'afford': 6347, 'sq825': 6348, 'arrival': 6349, 'citylink': 6350, 'props': 6351, 'pleasant': 6352, 'statements': 6353, '6230': 6354, 'pobox114': 6355, '14tcr': 6356, 'bognor': 6357, 'splendid': 6358, 'ktv': 6359, 'misplaced': 6360, 'computers': 6361, 'begun': 6362, 'registration': 6363, 'permanent': 6364, 'residency': 6365, 'risks': 6366, 'predicting': 6367, 'accumulation': 6368, 'programs': 6369, 'belongs': 6370, 'fated': 6371, 'shoranur': 6372, 'fuelled': 6373, 'concern': 6374, 'prior': 6375, 'grief': 6376, 'environment': 6377, 'terrific': 6378, 'text82228': 6379, 'honestly': 6380, 'promptly': 6381, 'burnt': 6382, 'snap': 6383, 'quizclub': 6384, '80122300p': 6385, 'rwm': 6386, '08704050406': 6387, 'gmw': 6388, 'connected': 6389, 'someplace': 6390, 'goods': 6391, 'pressies': 6392, 'ultimately': 6393, 'tor': 6394, 'motive': 6395, 'tui': 6396, 'achieve': 6397, 'korli': 6398, 'we\\x89û÷ll': 6399, 'dock': 6400, 'rolled': 6401, 'newscaster': 6402, 'dabbles': 6403, 'flute': 6404, 'wheel': 6405, 'keyword': 6406, 'the4th': 6407, 'october': 6408, '83435': 6409, 'elaborating': 6410, 'safety': 6411, 'aspects': 6412, 'tarot': 6413, '85555': 6414, 'ours': 6415, 'horniest': 6416, 'flow': 6417, 'developed': 6418, 'ovarian': 6419, 'cysts': 6420, 'shrink': 6421, 'upping': 6422, 'grams': 6423, 'timin': 6424, 'apes': 6425, 'ibm': 6426, 'hp': 6427, 'gosh': 6428, 'spose': 6429, 'rimac': 6430, 'arestaurant': 6431, 'squid': 6432, 'dosomething': 6433, 'dabooks': 6434, 'eachother': 6435, 'luckily': 6436, 'starring': 6437, 'restocked': 6438, 'tkls': 6439, 'stoptxtstopå£1': 6440, 'smoothly': 6441, 'challenging': 6442, 'breakfast': 6443, 'hamper': 6444, 'cc100p': 6445, 'above': 6446, '0870737910216yrs': 6447, 'unni': 6448, 'lacking': 6449, 'particular': 6450, \"dramastorm's\": 6451, 'forfeit': 6452, 'digi': 6453, 'coupla': 6454, '077xxx': 6455, '09066362206': 6456, 'sundayish': 6457, 'prasad': 6458, 'rcb': 6459, 'battle': 6460, 'kochi': 6461, 'checkup': 6462, 'smear': 6463, 'gobi': 6464, '4w': 6465, 'technologies': 6466, 'olowoyey': 6467, 'argentina': 6468, 'taxt': 6469, 'massage': 6470, 'tie': 6471, 'pos': 6472, 'lool': 6473, \"taylor's\": 6474, 'shaking': 6475, 'scarcasim': 6476, 'naal': 6477, 'eruku': 6478, 'w4': 6479, '5wq': 6480, 'amongst': 6481, 'impressively': 6482, 'sensible': 6483, 'obedient': 6484, 'ft': 6485, 'combination': 6486, 'needy': 6487, 'playng': 6488, 'mcfly': 6489, 'ab': 6490, 'sara': 6491, 'jorge': 6492, 'anna': 6493, 'nagar': 6494, 'yupz': 6495, 'ericson': 6496, 'der': 6497, 'luks': 6498, 'modl': 6499, 'cheesy': 6500, 'frosty': 6501, 'witin': 6502, 'fans': 6503, '0870141701216': 6504, '120p': 6505, '10th': 6506, '09050000555': 6507, 'ba128nnfwfly150ppm': 6508, 'nudist': 6509, 'themed': 6510, 'pump': 6511, 'å£12': 6512, 'evr': 6513, 'signal': 6514, 'unusual': 6515, 'palm': 6516, 'printing': 6517, 'handing': 6518, '83021': 6519, 'stated': 6520, 'perpetual': 6521, 'dd': 6522, 'pract': 6523, 'flung': 6524, 'justbeen': 6525, 'overa': 6526, 'brains': 6527, 'mush': 6528, 'tunde': 6529, 'missions': 6530, '20m12aq': 6531, '\\x89ûï': 6532, 'eh74rr': 6533, 'avo': 6534, 'crashed': 6535, 'cuddled': 6536, 'chachi': 6537, 'pl': 6538, 'tiz': 6539, 'kanagu': 6540, 'prices': 6541, 'ringing': 6542, 'houseful': 6543, 'brats': 6544, 'pulling': 6545, 'derp': 6546, 'abusers': 6547, 'lipo': 6548, 'netflix': 6549, 'clash': 6550, 'arr': 6551, 'oscar': 6552, 'rebtel': 6553, 'firefox': 6554, '69969': 6555, 'bcmsfwc1n3xx': 6556, 'impressed': 6557, 'funs': 6558, 'footy': 6559, 'stadium': 6560, 'large': 6561, 'coca': 6562, 'cola': 6563, 'teenager': 6564, 'replacing': 6565, 'mittelschmertz': 6566, 'paracetamol': 6567, 'arrived': 6568, 'cthen': 6569, 'conclusion': 6570, 'references': 6571, 'u\\x89ûªve': 6572, 'instant': 6573, '08715203028': 6574, '9th': 6575, 'rugby': 6576, 'affidavit': 6577, 'twiggs': 6578, 'courtroom': 6579, 'showers': 6580, 'possessiveness': 6581, 'poured': 6582, 'golden': 6583, 'lasting': 6584, 'mobs': 6585, 'breathe1': 6586, 'crazyin': 6587, 'sleepingwith': 6588, 'finest': 6589, 'ymca': 6590, 'pobox365o4w45wq': 6591, 'wtc': 6592, 'weiyi': 6593, \"åòit's\": 6594, 'flowers': 6595, '505060': 6596, 'paining': 6597, 'romcapspam': 6598, 'presence': 6599, 'outgoing': 6600, 'maggi': 6601, 'mee': 6602, '08712103738': 6603, 'cough': 6604, '09058099801': 6605, 'b4190604': 6606, '7876150ppm': 6607, 'pooja': 6608, 'sweatter': 6609, 'ambitious': 6610, 'miiiiiiissssssssss': 6611, 'tunji': 6612, 'misscall': 6613, 'frndz': 6614, '6missed': 6615, 'mad1': 6616, 'mad2': 6617, 'tall': 6618, 'robs': 6619, 'avenge': 6620, 'japanese': 6621, 'proverb': 6622, \"fren's\": 6623, 'choices': 6624, 'toss': 6625, 'gudni8': 6626, 'dancin': 6627, 'explicitly': 6628, 'nora': 6629, 'gayle': 6630, 'crucify': 6631, 'butting': 6632, 'vs': 6633, 'cedar': 6634, 'durham': 6635, 'reserved': 6636, '69855': 6637, 'stopbcm': 6638, 'sf': 6639, 'wall': 6640, 'printer': 6641, 'groovy': 6642, 'groovying': 6643, \"harish's\": 6644, 'transfred': 6645, 'acnt': 6646, 'showrooms': 6647, 'shaping': 6648, 'attending': 6649, 'doinat': 6650, 'callon': 6651, \"ron's\": 6652, 'pdate': 6653, 'yhl': 6654, 'configure': 6655, 'i\\x89ûªm': 6656, 'isn\\x89ûªt': 6657, 'anal': 6658, 'pears': 6659, 'helloooo': 6660, 'welcomes': 6661, 'such': 6662, 'oooooh': 6663, '09058094454': 6664, '54': 6665, 'resubmit': 6666, 'expiry': 6667, 'weåõve': 6668, 'mint': 6669, 'humans': 6670, 'studyn': 6671, 'everyboy': 6672, 'xxxxxxxx': 6673, \"hi'\": 6674, \"'xam\": 6675, '1thing': 6676, 'answr': 6677, 'liquor': 6678, 'loko': 6679, '730': 6680, 'lined': 6681, \"tm'ing\": 6682, 'laughs': 6683, 'fireplace': 6684, 'icon': 6685, '08712400200': 6686, 'fifth': 6687, 'woozles': 6688, 'weasels': 6689, '08718723815': 6690, 'machines': 6691, 'fucks': 6692, 'ignorant': 6693, 'mys': 6694, 'downs': 6695, 'fletcher': 6696, '08714714011': 6697, 'bowls': 6698, 'cozy': 6699, 'buzzzz': 6700, 'vibrator': 6701, 'shake': 6702, 'trends': 6703, 'pros': 6704, 'cons': 6705, 'description': 6706, 'nuclear': 6707, 'fusion': 6708, 'iter': 6709, 'jet': 6710, 'nowhere': 6711, 'ikno': 6712, 'doesdiscount': 6713, 'shitinnit': 6714, 'jabo': 6715, 'slower': 6716, 'maniac': 6717, 'sapna': 6718, 'manege': 6719, \"y'day\": 6720, 'hogidhe': 6721, 'chinnu': 6722, 'swalpa': 6723, 'agidhane': 6724, 'footbl': 6725, 'crckt': 6726, 'swell': 6727, 'tim': 6728, 'bollox': 6729, 'tol': 6730, 'ingredients': 6731, 'pocy': 6732, 'non': 6733, '4qf2': 6734, 'senor': 6735, 'giggle': 6736, 'possibly': 6737, 'person2die': 6738, 'nvq': 6739, 'professional': 6740, 'tiger': 6741, 'woods': 6742, 'grinder': 6743, 'pt2': 6744, 'buyers': 6745, 'figuring': 6746, 'entirely': 6747, 'disconnected': 6748, 'onluy': 6749, 'matters': 6750, 'offcampus': 6751, \"riley's\": 6752, 'ew': 6753, 'wesley': 6754, \"how've\": 6755, 'lingo': 6756, '400mins': 6757, 'j5q': 6758, \"l'm\": 6759, '69200': 6760, 'chrgd': 6761, '2exit': 6762, 'approaching': 6763, 'sankranti': 6764, 'republic': 6765, 'shivratri': 6766, 'ugadi': 6767, 'fools': 6768, 'independence': 6769, 'teachers': 6770, 'childrens': 6771, 'festival': 6772, 'dasara': 6773, 'mornings': 6774, 'afternoons': 6775, 'rememberi': 6776, \"your's\": 6777, 'joys': 6778, 'lifeis': 6779, 'daywith': 6780, 'somewheresomeone': 6781, 'tosend': 6782, 'greeting': 6783, 'selflessness': 6784, 'initiate': 6785, 'tallent': 6786, 'wasting': 6787, 'portal': 6788, \"don't4get2text\": 6789, 'lennon': 6790, 'bothering': 6791, 'fox': 6792, 'frndsship': 6793, 'dwn': 6794, 'slaaaaave': 6795, 'summon': 6796, 'appendix': 6797, 'slob': 6798, 'smiled': 6799, 'webpage': 6800, 'yeesh': 6801, 'unsubscribed': 6802, 'hunks': 6803, 'gotbabes': 6804, 'subscriptions': 6805, 'gopalettan': 6806, 'participate': 6807, 'abroad': 6808, 'xxsp': 6809, 'stopcost': 6810, '08712400603': 6811, 'agent': 6812, 'goodies': 6813, 'mat': 6814, 'ay': 6815, 'steal': 6816, 'isaiah': 6817, 'expert': 6818, 'thinl': 6819, 'importantly': 6820, 'tightly': 6821, \"'wnevr\": 6822, 'fal': 6823, 'fals': 6824, 'yen': 6825, 'madodu': 6826, 'nav': 6827, 'pretsorginta': 6828, 'nammanna': 6829, 'pretsovru': 6830, 'alwa': 6831, 'lord': 6832, 'rings': 6833, 'soundtrack': 6834, 'stdtxtrate': 6835, 'sg': 6836, 'phyhcmk': 6837, 'pc1323': 6838, 'emigrated': 6839, 'hopeful': 6840, 'olol': 6841, 'stagwood': 6842, 'winterstone': 6843, 'victors': 6844, 'jp': 6845, 'mofo': 6846, 'pathaya': 6847, 'enketa': 6848, 'maraikara': 6849, \"pa'\": 6850, 'priest': 6851, 'reserves': 6852, 'intrude': 6853, 'walkabout': 6854, 'cashed': 6855, 'announced': 6856, 'blog': 6857, '28th': 6858, 'footie': 6859, 'phil': 6860, 'neville': 6861, 'abbey': 6862, 'returning': 6863, 'punj': 6864, 'str8': 6865, 'classic': 6866, '200p': 6867, 'sacked': 6868, 'clip': 6869, '35p': 6870, 'mmsto': 6871, '32323': 6872, 'barred': 6873, 'twat': 6874, 'dungerees': 6875, 'decking': 6876, 'punch': 6877, 'mentionned': 6878, 'vat': 6879, 'hogolo': 6880, 'kodstini': 6881, 'madstini': 6882, 'hogli': 6883, 'mutai': 6884, 'eerulli': 6885, 'kodthini': 6886, 'thasa': 6887, 'messed': 6888, 'tex': 6889, 'mecause': 6890, 'werebored': 6891, 'okden': 6892, 'uin': 6893, 'soundåõs': 6894, 'likeyour': 6895, 'gr8fun': 6896, 'updat': 6897, 'countinlots': 6898, 'tagged': 6899, 'hdd': 6900, 'casing': 6901, 'opened': 6902, 'describe': 6903, '09053750005': 6904, '310303': 6905, '08718725756': 6906, '140ppm': 6907, 'asus': 6908, 'reformat': 6909, 'plumbers': 6910, 'wrench': 6911, 'bcum': 6912, 'appeal': 6913, 'thriller': 6914, 'director': 6915, 'elephant': 6916, 'shove': 6917, 'um': 6918, 'cr': 6919, 'pookie': 6920, 'nri': 6921, '08712101358': 6922, 'x2': 6923, 'deserve': 6924, 'diddy': 6925, 'neighbor': 6926, 'toothpaste': 6927, 'poking': 6928, 'coccooning': 6929, 'mus': 6930, 'newquay': 6931, '1im': 6932, 'talkin': 6933, 'windy': 6934, '09066358361': 6935, 'y87': 6936, 'tirunelvai': 6937, 'dusk': 6938, 'puzzles': 6939, 'x29': 6940, '09065989180': 6941, 'stairs': 6942, 'phews': 6943, 'luvs': 6944, 'recycling': 6945, 'earning': 6946, 'toledo': 6947, 'tai': 6948, 'feng': 6949, 'reservations': 6950, 'swimsuit': 6951, 'squeeeeeze': 6952, 'frndshp': 6953, 'luvd': 6954, 'volcanoes': 6955, 'erupt': 6956, 'arise': 6957, 'hurricanes': 6958, 'sway': 6959, 'aroundn': 6960, 'disasters': 6961, 'lighters': 6962, 'lasagna': 6963, 'chickened': 6964, 'woould': 6965, '08718726978': 6966, '44': 6967, '7732584351': 6968, 'raviyog': 6969, 'peripherals': 6970, 'bhayandar': 6971, 'sunoco': 6972, 'musical': 6973, 'plate': 6974, 'leftovers': 6975, 'starving': 6976, 'fatty': 6977, 'badrith': 6978, 'owe': 6979, 'checkin': 6980, 'armenia': 6981, 'swann': 6982, '09058097189': 6983, '330': 6984, '1120': 6985, '1205': 6986, 'justify': 6987, 'hunt': 6988, '5226': 6989, 'hava': 6990, '1131': 6991, \"rct'\": 6992, 'thnq': 6993, 'adrian': 6994, 'vatian': 6995, 'everyones': 6996, 'babysitting': 6997, \"it'll\": 6998, 'gonnamissu': 6999, 'buttheres': 7000, 'aboutas': 7001, 'merememberin': 7002, 'asthere': 7003, 'ofsi': 7004, 'breakin': 7005, 'yaxx': 7006, 'poortiyagi': 7007, 'odalebeku': 7008, 'hanumanji': 7009, 'hanuman': 7010, 'bajarangabali': 7011, 'maruti': 7012, 'pavanaputra': 7013, 'sankatmochan': 7014, 'ramaduth': 7015, 'mahaveer': 7016, 'janarige': 7017, 'ivatte': 7018, 'kalisidare': 7019, 'olage': 7020, 'ondu': 7021, 'keluviri': 7022, 'maretare': 7023, 'inde': 7024, 'dodda': 7025, 'problum': 7026, 'nalli': 7027, 'siguviri': 7028, 'idu': 7029, 'matra': 7030, 'neglet': 7031, 'ijust': 7032, 'talked': 7033, 'opps': 7034, \"tt's\": 7035, 'gei': 7036, 'tron': 7037, 'dl': 7038, 'spiffing': 7039, 'workage': 7040, 'craving': 7041, 'supose': 7042, 'babysit': 7043, 'spaces': 7044, 'embassy': 7045, 'lightly': 7046, 'checkboxes': 7047, 'batsman': 7048, \"yetty's\": 7049, '09050000928': 7050, 'reverse': 7051, 'cheating': 7052, 'mathematics': 7053, 'emailed': 7054, 'yifeng': 7055, \"they'll\": 7056, 'slurp': 7057, '3miles': 7058, 'ing': 7059, 'brainless': 7060, 'doll': 7061, 'vehicle': 7062, 'sariyag': 7063, 'madoke': 7064, 'barolla': 7065, '07090201529': 7066, 'postponed': 7067, 'stocked': 7068, 'tiime': 7069, 'tears': 7070, 'afternon': 7071, 'interviews': 7072, 'resizing': 7073, '09066364349': 7074, 'box434sk38wp150ppm18': 7075, 'opposed': 7076, 'shortcode': 7077, '83332': 7078, '08081263000': 7079, 'refunded': 7080, 'somerset': 7081, 'overtime': 7082, 'nigpun': 7083, 'dismissial': 7084, 'screwd': 7085, '08712402972': 7086, 'bull': 7087, 'floating': 7088, '09058095201': 7089, 'heehee': 7090, 'arithmetic': 7091, 'percentages': 7092, \"'an\": 7093, \"quote''\": 7094, 'chillaxin': 7095, 'das': 7096, 'iknow': 7097, 'wellda': 7098, 'peril': 7099, 'studentfinancial': 7100, 'monster': 7101, 'ias': 7102, 'obey': 7103, 'uhhhhrmm': 7104, '600': 7105, '400': 7106, 'deltomorrow': 7107, '09066368470': 7108, '24m': 7109, 'smartcall': 7110, '68866': 7111, 'subscriptn3gbp': 7112, '08448714184': 7113, 'landlineonly': 7114, 'å£s': 7115, 'orno': 7116, 'fink': 7117, '09099726553': 7118, 'promised': 7119, 'carlie': 7120, 'minmobsmore': 7121, 'lkpobox177hp51fl': 7122, 'youphone': 7123, 'athome': 7124, 'youwanna': 7125, 'jack': 7126, 'helpful': 7127, 'pretend': 7128, 'hypotheticalhuagauahahuagahyuhagga': 7129, 'brainy': 7130, 'occasion': 7131, 'celebrated': 7132, 'reflection': 7133, 'values': 7134, 'affections': 7135, 'traditions': 7136, 'cantdo': 7137, 'anythingtomorrow': 7138, 'myparents': 7139, 'aretaking': 7140, 'outfor': 7141, 'katexxx': 7142, 'level': 7143, 'gate': 7144, '89105': 7145, 'lingerie': 7146, 'bridal': 7147, 'petticoatdreams': 7148, 'weddingfriend': 7149, 'board': 7150, 'overheating': 7151, 'reslove': 7152, 'inst': 7153, \"8'o\": 7154, 'western': 7155, 'notixiquating': 7156, 'laxinorficated': 7157, 'bambling': 7158, 'entropication': 7159, 'oblisingately': 7160, 'opted': 7161, 'masteriastering': 7162, 'amplikater': 7163, 'fidalfication': 7164, 'champlaxigating': 7165, 'atrocious': 7166, 'wotz': 7167, 'junna': 7168, 'knickers': 7169, '01223585236': 7170, 'nikiyu4': 7171, 'a30': 7172, 'divert': 7173, 'wadebridge': 7174, 'vill': 7175, 'orc': 7176, '447797706009': 7177, 'careers': 7178, 'seeking': 7179, \"wherre's\": 7180, 'phone750': 7181, 'resolution': 7182, 'frank': 7183, 'logoff': 7184, 'parkin': 7185, 'asa': 7186, '09050000878': 7187, 'wan2': 7188, 'westlife': 7189, 'm8': 7190, 'unbreakable': 7191, 'untamed': 7192, 'unkempt': 7193, '83049': 7194, 'charming': 7195, 'mention': 7196, 'served': 7197, 'arnt': 7198, 'xxxxxxxxxxxxxx': 7199, 'dorothy': 7200, 'kiefer': 7201, 'alle': 7202, 'mone': 7203, 'eppolum': 7204, 'allalo': 7205, 'fundamentals': 7206, '1mega': 7207, 'pixels': 7208, '3optical': 7209, '5digital': 7210, 'dooms': 7211, 'noiåõm': 7212, 'js': 7213, 'burgundy': 7214, 'captaining': 7215, 'amrita': 7216, 'profile': 7217, 'bpo': 7218, 'nighters': 7219, 'persevered': 7220, 'regretted': 7221, 'wasnåõt': 7222, 'spouse': 7223, 'pmt': 7224, '4give': 7225, 'shldxxxx': 7226, \"that'd\": 7227, 'scenario': 7228, 'spun': 7229, 'wrld': 7230, '09071517866': 7231, '150ppmpobox10183bhamb64xe': 7232, 'pounded': 7233, 'broadband': 7234, 'installation': 7235, 'tensed': 7236, 'coughing': 7237, 'warned': 7238, 'sprint': 7239, 'gower': 7240, 'åômorrow': 7241, 'chik': 7242, \"100's\": 7243, 'filth': 7244, 'saristar': 7245, 'e14': 7246, '9yt': 7247, '08701752560': 7248, '450p': 7249, 'stop2': 7250, '420': 7251, '9061100010': 7252, 'wire3': 7253, '1st4terms': 7254, 'mobcudb': 7255, 'sabarish': 7256, 'jaya': 7257, '09050000460': 7258, 'j89': 7259, 'box245c2150pm': 7260, 'inpersonation': 7261, 'flea': 7262, 'banneduk': 7263, 'highest': 7264, 'å£54': 7265, 'maximum': 7266, 'å£71': 7267, \"ny's\": 7268, 'taj': 7269, 'lesser': 7270, 'known': 7271, 'facts': 7272, \"shahjahan's\": 7273, 'wifes': 7274, 'shahjahan': 7275, 'arises': 7276, 'hari': 7277, \"valentine's\": 7278, '69101': 7279, 'rtf': 7280, 'sphosting': 7281, 'webadres': 7282, 'geting': 7283, 'incredible': 7284, 'o2fwd': 7285, '18p': 7286, 'maturity': 7287, 'passport': 7288, 'multiply': 7289, 'independently': 7290, 'showed': 7291, 'twins': 7292, 'strt': 7293, 'ltdhelpdesk': 7294, '02085076972': 7295, 'equally': 7296, 'uneventful': 7297, 'pesky': 7298, 'cyclists': 7299, 'adi': 7300, 'entey': 7301, 'nattil': 7302, 'kittum': 7303, 'kavalan': 7304, 'hire': 7305, 'hitman': 7306, '09066660100': 7307, '2309': 7308, 'cps': 7309, 'outages': 7310, 'conserve': 7311, 'voted': 7312, 'epi': 7313, 'bare': 7314, 'bhaskar': 7315, 'gong': 7316, 'kaypoh': 7317, 'basketball': 7318, 'outdoors': 7319, 'interfued': 7320, 'listed': 7321, 'apology': 7322, 'hustle': 7323, 'forth': 7324, 'harlem': 7325, 'workout': 7326, 'fats': 7327, 'zac': 7328, 'tonights': 7329, 'hui': 7330, 'xin': 7331, 'versus': 7332, 'underdtand': 7333, 'muchxxlove': 7334, 'locaxx': 7335, '07090298926': 7336, '9307622': 7337, 'skateboarding': 7338, 'thrown': 7339, 'winds': 7340, 'bandages': 7341, 'html': 7342, 'gbp4': 7343, 'mfl': 7344, 'hectic': 7345, 'wamma': 7346, 'doggin': 7347, 'dogs': 7348, 'virtual': 7349, 'apnt': 7350, 'pants': 7351, 'go2sri': 7352, 'lanka': 7353, 'merely': 7354, 'relationship': 7355, 'wherevr': 7356, 'gudnyt': 7357, 'plum': 7358, 'smacks': 7359, '50s': 7360, 'alot': 7361, 'formatting': 7362, 'attracts': 7363, 'promotion': 7364, '8714714': 7365, 'lancaster': 7366, 'neway': 7367, 'couldnåõt': 7368, 'soc': 7369, 'bsn': 7370, 'advising': 7371, 'lobby': 7372, 'showered': 7373, \"er'ything\": 7374, 'lubly': 7375, '087147123779am': 7376, 'catches': 7377, 'specify': 7378, 'domain': 7379, 'nusstu': 7380, 'bari': 7381, 'hudgi': 7382, 'yorge': 7383, 'pataistha': 7384, 'ertini': 7385, 'hasbro': 7386, 'jump': 7387, 'hoops': 7388, 'ummifying': 7389, 'associate': 7390, 'rip': 7391, 'uterus': 7392, 'jacuzzi': 7393, 'txtstar': 7394, '2nights': 7395, 'uve': 7396, 'wildest': 7397, 'aldrine': 7398, 'rtm': 7399, 'sources': 7400, 'unhappiness': 7401, 'necesity': 7402, 'witout': 7403, \"hw'd\": 7404, 'colleg': 7405, \"wat'll\": 7406, 'wth': 7407, 'functions': 7408, 'events': 7409, \"espe'll\": 7410, 'irritated': 7411, '4wrd': 7412, 'wthout': 7413, 'takecare': 7414, 'univ': 7415, 'rajas': 7416, 'burrito': 7417, 'disconnect': 7418, \"'terrorist'\": 7419, 'confirmd': 7420, 'verified': 7421, 'cnn': 7422, 'ibn': 7423, 'stitch': 7424, 'trouser': 7425, '146tf150p': 7426, 'cheetos': 7427, 'synced': 7428, 'shangela': 7429, 'hppnss': 7430, 'sorrow': 7431, 'goodfriend': 7432, 'passes': 7433, '08704439680': 7434, 'poo': 7435, 'gloucesterroad': 7436, 'uup': 7437, 'ouch': 7438, 'forgiveness': 7439, 'glo': 7440, '09058095107': 7441, 's3xy': 7442, 'wlcome': 7443, 'timi': 7444, 'mila': 7445, 'age23': 7446, 'blonde': 7447, 'mtalk': 7448, '69866': 7449, '30pp': 7450, '5free': 7451, 'increments': 7452, 'help08718728876': 7453, 'fishrman': 7454, 'sack': 7455, 'strtd': 7456, 'throwin': 7457, '1stone': 7458, \"mrng''\": 7459, '08717895698': 7460, 'mobstorequiz10ppm': 7461, 'physics': 7462, 'praveesh': 7463, 'delicious': 7464, 'salad': 7465, 'beers': 7466, 'whore': 7467, 'funk': 7468, 'tones2u': 7469, 'twinks': 7470, 'scallies': 7471, 'skins': 7472, 'jocks': 7473, '08712466669': 7474, 'flood': 7475, 'beads': 7476, 'wishlist': 7477, 'section': 7478, 'nitro': 7479, \"'need'\": 7480, \"'comfort'\": 7481, \"'luxury'\": 7482, 'sold': 7483, \"armand's\": 7484, 'creative': 7485, 'reffering': 7486, 'getiing': 7487, 'weirdy': 7488, 'brownies': 7489, '09061701851': 7490, 'k61': 7491, '12hours': 7492, 'restrict': 7493, 'audrey': 7494, '74355': 7495, 'greece': 7496, 'protect': 7497, 'sib': 7498, 'sensitive': 7499, 'passwords': 7500, 'recorded': 7501, 'someday': 7502, 'grandfather': 7503, 'november': 7504, '09061104276': 7505, 'costå£3': 7506, '75max': 7507, 'yuou': 7508, 'spot': 7509, 'bunch': 7510, 'lotto': 7511, 'purchases': 7512, 'authorise': 7513, '45pm': 7514, 'gimmi': 7515, 'goss': 7516, 'ystrday': 7517, 'chile': 7518, 'subletting': 7519, 'ammae': 7520, 'steering': 7521, \"anything's\": 7522, 'sleeps': 7523, 'rounder': 7524, 'required': 7525, 'lambu': 7526, 'ji': 7527, 'batchlor': 7528, 'zoom': 7529, '62220cncl': 7530, 'stopcs': 7531, '08717890890å£1': 7532, 'åòharry': 7533, '1b6a5ecef91ff9': 7534, '37819': 7535, 'true18': 7536, '0430': 7537, 'jul': 7538, 'xafter': 7539, 'cst': 7540, 'chg': 7541, 'pure': 7542, 'hearted': 7543, 'enemies': 7544, 'smiley': 7545, 'gail': 7546, 'l8tr': 7547, 'yaxxx': 7548, 'theoretically': 7549, 'hooked': 7550, 'formally': 7551, 'multimedia': 7552, 'vague': 7553, 'accounting': 7554, 'delayed': 7555, 'housing': 7556, 'agency': 7557, 'renting': 7558, 'presents': 7559, 'nicky': 7560, \"gumby's\": 7561, 'alto18': 7562, '44345': 7563, 'sized': 7564, 'tarpon': 7565, 'springs': 7566, 'cab': 7567, 'steps': 7568, 'limited': 7569, 'hf8': 7570, '08719181259': 7571, 'radiator': 7572, 'proper': 7573, 'tongued': 7574, 'shorts': 7575, 'qi': 7576, 'suddenly': 7577, 'flurries': 7578, 'real1': 7579, 'pushbutton': 7580, 'dontcha': 7581, 'babygoodbye': 7582, 'golddigger': 7583, 'webeburnin': 7584, 'perform': 7585, 'cards': 7586, 'rebooting': 7587, 'nigh': 7588, 'nooooooo': 7589, 'cable': 7590, 'outage': 7591, 'sos': 7592, 'playin': 7593, 'guoyang': 7594, 'rahul': 7595, 'dengra': 7596, 'antelope': 7597, 'toplay': 7598, 'fieldof': 7599, 'selfindependence': 7600, 'contention': 7601, 'gnarls': 7602, 'barkleys': 7603, 'borderline': 7604, '545': 7605, 'nightnight': 7606, 'possibility': 7607, 'grooved': 7608, 'mising': 7609, 'secured': 7610, 'unsecured': 7611, '195': 7612, '6669': 7613, 'lanre': 7614, \"fakeye's\": 7615, 'eckankar': 7616, '3000': 7617, 'degrees': 7618, 'dodgey': 7619, 'seing': 7620, 'asssssholeeee': 7621, 'ceri': 7622, 'rebel': 7623, 'dreamz': 7624, 'buddy': 7625, 'blokes': 7626, '84484': 7627, 'nationwide': 7628, 'newport': 7629, 'juliana': 7630, 'nachos': 7631, 'dizzamn': 7632, 'suitemates': 7633, 'nimbomsons': 7634, 'continent': 7635, 'housewives': 7636, '0871750': 7637, '77': 7638, 'landlines': 7639, '087104711148': 7640, 'emerging': 7641, 'fiend': 7642, 'impede': 7643, 'hesitant': 7644, '60': 7645, '400thousad': 7646, 'nose': 7647, 'essay': 7648, 'tram': 7649, 'vic': 7650, 'coherently': 7651, 'triple': 7652, 'echo': 7653, 'gran': 7654, 'onlyfound': 7655, 'afew': 7656, 'cusoon': 7657, 'honi': 7658, 'bx526': 7659, 'southern': 7660, 'rayan': 7661, 'macleran': 7662, 'balls': 7663, 'olave': 7664, 'mandara': 7665, 'trishul': 7666, 'woo': 7667, 'hoo': 7668, 'panties': 7669, 'thout': 7670, '09066364311': 7671, 'flatter': 7672, 'pints': 7673, 'carlin': 7674, 'ciao': 7675, 'starve': 7676, 'impression': 7677, 'motivate': 7678, 'darkness': 7679, 'wknd': 7680, 'yalrigu': 7681, 'heltini': 7682, 'iyo': 7683, 'shared': 7684, 'uttered': 7685, 'trusting': 7686, 'noice': 7687, 'esaplanade': 7688, 'accessible': 7689, '08709501522': 7690, '139': 7691, 'la3': 7692, '2wu': 7693, 'occurs': 7694, 'enna': 7695, 'kalaachutaarama': 7696, 'coco': 7697, 'sporadically': 7698, '09064017305': 7699, 'pobox75ldns7': 7700, 'tbs': 7701, 'persolvo': 7702, 'forå£38': 7703, 'kath': 7704, 'manchester': 7705, 'youåõre': 7706, 'burden': 7707, 'noworriesloans': 7708, '08717111821': 7709, 'harder': 7710, 'nbme': 7711, 'sickness': 7712, 'villa': 7713, 'gam': 7714, 'smash': 7715, 'religiously': 7716, 'heroes': 7717, 'tips': 7718, '07973788240': 7719, '08715203649': 7720, 'muhommad': 7721, 'penny': 7722, 'fiting': 7723, 'load': 7724, 'mj': 7725, 'unconvinced': 7726, 'elaborate': 7727, 'willpower': 7728, 'absence': 7729, 'answerin': 7730, 'åè10': 7731, 'evey': 7732, 'prin': 7733, 'gsoh': 7734, 'spam': 7735, 'gigolo': 7736, 'mens': 7737, 'oncall': 7738, 'mjzgroup': 7739, '08714342399': 7740, '50rcvd': 7741, 'ashwini': 7742, '08707500020': 7743, 'ukp': 7744, '09061790125': 7745, 'thet': 7746, 'skinny': 7747, 'casting': 7748, 'elections': 7749, 'shouldn\\x89û÷t': 7750, '116': 7751, 'hlday': 7752, 'camp': 7753, 'amrca': 7754, 'serena': 7755, 'prescribed': 7756, 'meatballs': 7757, 'approve': 7758, 'panalam': 7759, 'spjanuary': 7760, 'fortune': 7761, 'allday': 7762, 'perf': 7763, 'outsider': 7764, 'receipts\\x89ûówell': 7765, 'what\\x89û÷s': 7766, '98321561': 7767, 'familiar': 7768, 'depression': 7769, 'infact': 7770, 'simpsons': 7771, 'band': 7772, 'canåõt': 7773, 'isnåõt': 7774, 'shite': 7775, 'kip': 7776, 'hont': 7777, 'amanda': 7778, 'regard': 7779, 'renewing': 7780, 'upgrading': 7781, 'subject': 7782, 'nannys': 7783, 'puts': 7784, 'perspective': 7785, 'conveying': 7786, 'debating': 7787, 'wtlp': 7788, 'jb': 7789, \"joke's\": 7790, 'florida': 7791, 'hidden': 7792, 'teams': 7793, 'swhrt': 7794, '0906346330': 7795, '47': 7796, 'po19': 7797, '2ez': 7798, 'general': 7799, 'jetton': 7800, 'cmon': 7801, 'replies': 7802, 'dealer': 7803, 'lunsford': 7804, 'enjoying': 7805, '0796xxxxxx': 7806, 'prizeawaiting': 7807, 'kfc': 7808, 'meals': 7809, 'gravy': 7810, '07008009200': 7811, 'attended': 7812, 'mw': 7813, 'tuth': 7814, \"mine's\": 7815, 'eviction': 7816, 'spiral': 7817, 'michael': 7818, 'riddance': 7819, 'suffers': 7820, 'raglan': 7821, 'edward': 7822, 'cricket': 7823, 'closeby': 7824, 'skye': 7825, 'bookedthe': 7826, 'hut': 7827, 'drastic': 7828, '3750': 7829, 'garments': 7830, 'sez': 7831, 'arab': 7832, 'evry1': 7833, 'eshxxxxxxxxxxx': 7834, 'lay': 7835, 'bimbo': 7836, \"ugo's\": 7837, '3lions': 7838, 'portege': 7839, 'm100': 7840, 'semiobscure': 7841, 'gprs': 7842, 'loosu': 7843, 'careless': 7844, 'freaking': 7845, 'myspace': 7846, 'logged': 7847, \"partner's\": 7848, 'method': 7849, 'jewelry': 7850, 'breaker': 7851, 'deluxe': 7852, 'features': 7853, 'graphics': 7854, 'bbdeluxe': 7855, 'fumbling': 7856, 'stone': 7857, 'weekdays': 7858, 'nails': 7859, \"nobody's\": 7860, 'asia': 7861, 'greatest': 7862, 'courage': 7863, 'bear': 7864, 'defeat': 7865, 'stil': 7866, 'tobed': 7867, '430': 7868, 'natalja': 7869, 'nat27081980': 7870, 'asthma': 7871, 'attack': 7872, 'ball': 7873, 'spin': 7874, 'haiyoh': 7875, 'million': 7876, \"aunty's\": 7877, 'prsn': 7878, 'saves': 7879, 'audiitions': 7880, 'relocate': 7881, 'pocked': 7882, 'motivating': 7883, 'brison': 7884, 'spelled': 7885, 'caps': 7886, 'bullshit': 7887, 'motherfucker': 7888, 'kit': 7889, 'strip': 7890, '1013': 7891, 'ig11': 7892, 'oja': 7893, '08712402578': 7894, 'thesmszone': 7895, 'anonymous': 7896, 'masked': 7897, 'abuse': 7898, 'woodland': 7899, 'avenue': 7900, 'parish': 7901, 'magazine': 7902, 'billy': 7903, 'awww': 7904, 'useless': 7905, 'loo': 7906, 'ed': 7907, 'shelf': 7908, 'swollen': 7909, 'glands': 7910, 'bcaz': 7911, 'stu': 7912, 'truble': 7913, 'evone': 7914, 'hates': 7915, 'view': 7916, 'gays': 7917, 'dual': 7918, 'hostile': 7919, 'haircut': 7920, 'breezy': 7921, '09061744553': 7922, 'polyh': 7923, '1apple': 7924, '1tulsi': 7925, 'leaf': 7926, '1lemon': 7927, '1cup': 7928, 'problms': 7929, 'litres': 7930, 'watr': 7931, 'diseases': 7932, 'snd': 7933, 'lavender': 7934, 'manky': 7935, 'scouse': 7936, 'travelling': 7937, 'inmind': 7938, 'recreation': 7939, 'mesages': 7940, 'judgemental': 7941, 'fridays': 7942, 'waheeda': 7943, 'bot': 7944, 'notes': 7945, 'eventually': 7946, 'tolerance': 7947, 'hits': 7948, '0789xxxxxxx': 7949, 'hellogorgeous': 7950, 'nitw': 7951, 'texd': 7952, 'hopeu': 7953, '4ward': 7954, 'jaz': 7955, '09058091870': 7956, 'exorcism': 7957, 'emily': 7958, 'emotion': 7959, 'prayrs': 7960, 'othrwise': 7961, 'ujhhhhhhh': 7962, 'sandiago': 7963, 'parantella': 7964, 'hugging': 7965, 'sweater': 7966, 'mango': 7967, 'involved': 7968, 'å£600': 7969, 'landmark': 7970, 'bob': 7971, 'barry': 7972, '83738': 7973, 'absolutly': 7974, 'consent': 7975, 'tonexs': 7976, 'renewed': 7977, 'clubzed': 7978, 'billing': 7979, 'can\\x89û÷t': 7980, 'mathews': 7981, 'tait': 7982, 'edwards': 7983, 'anderson': 7984, 'haunt': 7985, 'promoting': 7986, 'hex': 7987, 'crowd': 7988, '8000930705': 7989, 'snowboarding': 7990, 'christmassy': 7991, 'recpt': 7992, 'baaaaaaaabe': 7993, 'ignoring': 7994, 'shola': 7995, 'sagamu': 7996, 'lautech': 7997, 'vital': 7998, 'completes': 7999, 'education': 8000, 'zealand': 8001, 'qet': 8002, 'browser': 8003, 'surf': 8004, 'subscribers': 8005, 'conversations': 8006, 'senses': 8007, 'overemphasise': 8008, 'headset': 8009, 'adp': 8010, 'internal': 8011, 'extract': 8012, 'immed': 8013, 'skint': 8014, 'fancied': 8015, 'bevies': 8016, 'waz': 8017, 'othrs': 8018, 'spoon': 8019, 'watchng': 8020, 'comfey': 8021, 'quitting': 8022, 'least5times': 8023, \"wudn't\": 8024, \"ìï'll\": 8025, \"i'ma\": 8026, 'frequently': 8027, 'cupboard': 8028, 'route': 8029, '2mro': 8030, 'floppy': 8031, 'snappy': 8032, 'risk': 8033, 'grasp': 8034, 'flavour': 8035, 'laready': 8036, 'denying': 8037, 'dom': 8038, 'ffffuuuuuuu': 8039, 'julianaland': 8040, 'oblivious': 8041, 'dehydrated': 8042, 'mapquest': 8043, 'dogwood': 8044, 'archive': 8045, '08719839835': 8046, 'mgs': 8047, '89123': 8048, 'lengths': 8049, 'behalf': 8050, 'stunning': 8051, 'visa': 8052, 'gucci': 8053, \"shit's\": 8054, 'sozi': 8055, 'culdnt': 8056, 'talkbut': 8057, 'wannatell': 8058, 'wenwecan': 8059, 'smsing': 8060, 'efficient': 8061, '15pm': 8062, 'erutupalam': 8063, 'thandiyachu': 8064, 'invention': 8065, 'lyrics': 8066, 'nevr': 8067, 'unrecognized': 8068, 'somone': 8069, 'valuing': 8070, 'definitly': 8071, 'undrstnd': 8072, 'ger': 8073, 'toking': 8074, 'syd': 8075, 'khelate': 8076, 'kintu': 8077, 'opponenter': 8078, 'dhorte': 8079, 'lage': 8080, 'fried': 8081, 'spares': 8082, 'looovvve': 8083, 'warwick': 8084, 'tmw': 8085, 'canceled': 8086, \"havn't\": 8087, 'tops': 8088, 'grandma': 8089, 'parade': 8090, 'proze': 8091, 'norcorp': 8092, 'posting': 8093, '7cfca1a': 8094, 'grumble': 8095, 'linear': 8096, 'algebra': 8097, 'decorating': 8098, 'wining': 8099, '946': 8100, 'roomate': 8101, 'graduated': 8102, 'adjustable': 8103, 'cooperative': 8104, 'allows': 8105, 'nottingham': 8106, '63miles': 8107, '40mph': 8108, 'mornin': 8109, 'thanku': 8110, 'guessed': 8111, \"hubby's\": 8112, '89938': 8113, 'strings': 8114, '50ea': 8115, 'otbox': 8116, '731': 8117, 'la1': 8118, '7ws': 8119, 'beside': 8120, 'brisk': 8121, 'walks': 8122, 'sexiest': 8123, 'dirtiest': 8124, 'tellmiss': 8125, \"party's\": 8126, 'contribute': 8127, 'greatly': 8128, 'urgh': 8129, 'coach': 8130, 'smells': 8131, 'duvet': 8132, 'predictive': 8133, 'w8in': 8134, '4utxt': 8135, '24th': 8136, 'beverage': 8137, 'pist': 8138, 'surrender': 8139, 'symptoms': 8140, 'rdy': 8141, 'backwards': 8142, 'abstract': 8143, 'africa': 8144, 'avin': 8145, 'chit': 8146, 'logon': 8147, '8883': 8148, '4217': 8149, 'w1a': 8150, '6zf': 8151, '118p': 8152, 'quiteamuzing': 8153, 'thatåõscool': 8154, 'å£1000call': 8155, '09071512432': 8156, '300603t': 8157, 'callcost150ppmmobilesvary': 8158, 'rows': 8159, 'engagement': 8160, 'fixd': 8161, 'njan': 8162, 'vilikkam': 8163, 'sudn': 8164, 'maths': 8165, 'chapter': 8166, 'chop': 8167, 'noooooooo': 8168, '08718727870150ppm': 8169, 'firsg': 8170, 'split': 8171, 'wasnt': 8172, 'heat': 8173, 'applyed': 8174, 'sumfing': 8175, 'hiphop': 8176, 'oxygen': 8177, 'resort': 8178, 'roller': 8179, 'recorder': 8180, 'canname': 8181, 'australia': 8182, 'mquiz': 8183, 'showr': 8184, 'upon': 8185, 'ceiling': 8186, 'presnts': 8187, 'bcz': 8188, 'jeevithathile': 8189, 'irulinae': 8190, 'neekunna': 8191, 'prakasamanu': 8192, 'sneham': 8193, 'prakasam': 8194, 'ennal': 8195, \"'that\": 8196, 'mns': 8197, \"is'love'\": 8198, 'blowing': 8199, '7634': 8200, '7684': 8201, 'firmware': 8202, 'vijaykanth': 8203, 'anythiing': 8204, 'ripped': 8205, 'clubmoby': 8206, '08717509990': 8207, 'keypad': 8208, 'btwn': 8209, 'decades': 8210, 'goverment': 8211, 'expects': 8212, 'spice': 8213, 'prasanth': 8214, 'ettans': 8215, '08718738002': 8216, '48922': 8217, 'appy': 8218, 'fizz': 8219, 'contains': 8220, 'genus': 8221, 'robinson': 8222, 'outs': 8223, 'soz': 8224, 'imat': 8225, 'mums': 8226, 'sometext': 8227, '07099833605': 8228, '9280114': 8229, 'chloe': 8230, 'wewa': 8231, '130': 8232, 'iriver': 8233, '255': 8234, '128': 8235, 'bw': 8236, 'surly': 8237, '07808726822': 8238, '9758': 8239, 'mmmmmmm': 8240, 'snuggles': 8241, 'contented': 8242, 'whispers': 8243, 'healthy': 8244, '2bold': 8245, 'brother\\x89û÷s': 8246, 'scraped': 8247, 'barrel': 8248, 'misfits': 8249, 'sections': 8250, 'clearer': 8251, 'peach': 8252, 'tasts': 8253, 'rayman': 8254, 'golf': 8255, 'activ8': 8256, 'termsapply': 8257, \"there'll\": 8258, 'shindig': 8259, 'phonebook': 8260, 'rocking': 8261, 'ashes': 8262, \"xin's\": 8263, 'shijutta': 8264, 'offense': 8265, 'dvg': 8266, 'vinobanagar': 8267, 'ovulate': 8268, '3wks': 8269, 'woah': 8270, 'realising': 8271, 'orh': 8272, 'hides': 8273, 'secrets': 8274, 'n8': 8275, 'axel': 8276, 'akon': 8277, 'eyed': 8278, 'canteen': 8279, 'stressfull': 8280, 'adds': 8281, 'continued': 8282, 'president': 8283, '140': 8284, 'ìä': 8285, '180': 8286, 'pleasured': 8287, 'providing': 8288, 'assistance': 8289, 'whens': 8290, '1172': 8291, 'watever': 8292, 'built': 8293, 'lonlines': 8294, 'lotz': 8295, 'memories': 8296, 'gailxx': 8297, 'complacent': 8298, 'mina': 8299, 'miwa': 8300, '09066649731from': 8301, 'opposite': 8302, 'heavily': 8303, 'dolls': 8304, 'patrick': 8305, 'swayze': 8306, '09077818151': 8307, 'calls1': 8308, '50ppm': 8309, '30s': 8310, 'santacalling': 8311, 'quarter': 8312, 'fired': 8313, 'limping': 8314, 'aa': 8315, '078498': 8316, '08719180219': 8317, 'oga': 8318, 'poorly': 8319, 'punishment': 8320, 'brb': 8321, 'kill': 8322, 'predicte': 8323, 'situations': 8324, 'loosing': 8325, 'smaller': 8326, 'capacity': 8327, 'videos': 8328, 'shsex': 8329, 'netun': 8330, 'fgkslpopw': 8331, 'fgkslpo': 8332, '0871277810710p': 8333, 'defer': 8334, 'admission': 8335, 'checkmate': 8336, 'chess': 8337, 'persian': 8338, 'phrase': 8339, 'shah': 8340, 'maat': 8341, 'rats': 8342, 'themes': 8343, 'photoshop': 8344, 'manageable': 8345, '08715203652': 8346, '42810': 8347, 'ashley': 8348, 'increase': 8349, 'north': 8350, 'carolina': 8351, 'texas': 8352, 'gre': 8353, 'bomb': 8354, 'breathing': 8355, 'powerful': 8356, 'weapon': 8357, \"'heart'\": 8358, 'lovly': 8359, 'msgrcvd': 8360, 'customercare': 8361, 'clas': 8362, 'lit': 8363, 'loooooool': 8364, 'couch': 8365, 'rents': 8366, 'swashbuckling': 8367, 'terror': 8368, 'cruel': 8369, 'decent': 8370, 'joker': 8371, \"dip's\": 8372, 'gek1510': 8373, 'lyricalladie': 8374, 'hmmross': 8375, \"world's\": 8376, 'happiest': 8377, 'characters': 8378, 'differences': 8379, 'lists': 8380, \"tyler's\": 8381, 'antibiotic': 8382, 'abdomen': 8383, 'gynae': 8384, '6times': 8385, 'exposed': 8386, 'chastity': 8387, 'device': 8388, 'beatings': 8389, 'uses': 8390, 'gut': 8391, 'wrenching': 8392, \"fuck's\": 8393, 'tallahassee': 8394, 'ou': 8395, 'taka': 8396, 'pobox202': 8397, 'nr31': 8398, '7zs': 8399, '450pw': 8400, 'ritten': 8401, 'fold': 8402, '83118': 8403, 'colin': 8404, 'farrell': 8405, 'swat': 8406, 'mre': 8407, 'solihull': 8408, 'nhs': 8409, '2b': 8410, 'terminated': 8411, 'inconvenience': 8412, 'dentists': 8413, 'yards': 8414, 'bergkamp': 8415, 'margin': 8416, '78': 8417, \"it'snot\": 8418, \"child's\": 8419, 'unintentional': 8420, 'nonetheless': 8421, 'hooch': 8422, 'toaday': 8423, 'splat': 8424, 'grazed': 8425, 'knees': 8426, 'deny': 8427, 'hearin': 8428, 'yah': 8429, 'torture': 8430, 'hopeing': 8431, 'wasn\\x89û÷t': 8432, 'sisters': 8433, 'sexychat': 8434, 'lips': 8435, 'congratulation': 8436, 'court': 8437, 'chapel': 8438, 'frontierville': 8439, 'mountain': 8440, 'deer': 8441, 'mailed': 8442, 'varma': 8443, 'secure': 8444, 'parties': 8445, 'farting': 8446, 'ortxt': 8447, 'trained': 8448, 'advisors': 8449, 'dialling': 8450, '402': 8451, 'stuffing': 8452, 'ahhhh': 8453, 'experiencehttp': 8454, 'vouch4me': 8455, 'etlp': 8456, 'kaila': 8457, '09058094507': 8458, \"unicef's\": 8459, 'asian': 8460, 'tsunami': 8461, 'disaster': 8462, 'fund': 8463, '864233': 8464, 'hos': 8465, 'collapsed': 8466, 'cumming': 8467, 'jade': 8468, 'paul': 8469, 'barmed': 8470, 'thinkthis': 8471, 'dangerous': 8472, 'rushing': 8473, 'coulda': 8474, 'phony': 8475, 'okday': 8476, 'hmph': 8477, 'baller': 8478, 'punto': 8479, 'ayo': 8480, 'travelled': 8481, 'å£125': 8482, 'freeentry': 8483, 'xt': 8484, 'toyota': 8485, 'camry': 8486, \"olayiwola's\": 8487, 'mileage': 8488, 'landing': 8489, 'clover': 8490, 'achan': 8491, 'amma': 8492, \"'rencontre'\": 8493, 'mountains': 8494, '08714712412': 8495, 'nìâte': 8496, 'puppy': 8497, 'noise': 8498, 'meg': 8499, '08715203685': 8500, '4xx26': 8501, 'crossing': 8502, 'deepest': 8503, 'darkest': 8504, '09094646631': 8505, 'inconvenient': 8506, 'adsense': 8507, 'approved': 8508, 'dudette': 8509, 'perumbavoor': 8510, 'stage': 8511, 'clarify': 8512, 'preponed': 8513, 'natalie': 8514, 'natalie2k9': 8515, 'younger': 8516, '08701213186': 8517, 'liver': 8518, 'opener': 8519, 'guides': 8520, 'watched': 8521, 'loneliness': 8522, 'skyving': 8523, \"dad's\": 8524, 'onwords': 8525, 'mtnl': 8526, 'mumbai': 8527, '83039': 8528, '62735': 8529, 'å£450': 8530, 'accommodationvouchers': 8531, 'mustprovide': 8532, '15541': 8533, 'rajitha': 8534, 'ranju': 8535, 'styles': 8536, 'tscs08714740323': 8537, '1winawk': 8538, '50perweeksub': 8539, 'slp': 8540, 'muah': 8541, '09066361921': 8542, 'disagreeable': 8543, 'afterwards': 8544, 'uawake': 8545, 'feellikw': 8546, 'justfound': 8547, 'aletter': 8548, 'thatmum': 8549, 'gotmarried': 8550, '4thnov': 8551, 'ourbacks': 8552, 'fuckinnice': 8553, 'rearrange': 8554, 'dormitory': 8555, 'astronomer': 8556, 'starer': 8557, 'election': 8558, 'recount': 8559, 'hitler': 8560, 'eleven': 8561, 'worms': 8562, 'suffering': 8563, 'dysentry': 8564, 'andre': 8565, \"virgil's\": 8566, 'gokila': 8567, 'shanil': 8568, 'exchanged': 8569, 'uncut': 8570, 'diamond': 8571, 'dino': 8572, 'kotees': 8573, 'panther': 8574, 'sugababes': 8575, 'zebra': 8576, 'animation': 8577, 'badass': 8578, 'hoody': 8579, 'resent': 8580, 'queries': 8581, 'customersqueries': 8582, 'netvision': 8583, 'hassling': 8584, 'andres': 8585, 'haughaighgtujhyguj': 8586, 'fassyole': 8587, 'blacko': 8588, 'londn': 8589, 'responsibilities': 8590, '08715205273': 8591, 'vco': 8592, 'humanities': 8593, 'reassurance': 8594, 'aslamalaikkum': 8595, 'tohar': 8596, 'beeen': 8597, 'muht': 8598, 'albi': 8599, 'mufti': 8600, 'mahfuuz': 8601, '078': 8602, 'enufcredeit': 8603, 'tocall': 8604, 'ileave': 8605, 'treats': 8606, 'okors': 8607, 'ibored': 8608, 'adding': 8609, 'zeros': 8610, 'savings': 8611, 'goigng': 8612, 'perfume': 8613, 'sday': 8614, 'grocers': 8615, 'pubs': 8616, 'frankie': 8617, 'bennys': 8618, 'changing': 8619, 'diapers': 8620, 'owed': 8621, 'unlike': 8622, 'patients': 8623, 'turkeys': 8624, 'helens': 8625, 'princes': 8626, 'unintentionally': 8627, 'garden': 8628, 'bulbs': 8629, 'seeds': 8630, 'scotsman': 8631, 'go2': 8632, 'notxt': 8633, 'wenever': 8634, 'stability': 8635, 'tranquility': 8636, 'vibrant': 8637, 'colourful': 8638, 'bawling': 8639, 'failure': 8640, 'failing': 8641, 'velusamy': 8642, \"sir's\": 8643, 'facilities': 8644, 'karnan': 8645, 'bluray': 8646, 'i\\x89û÷ve': 8647, 'salt': 8648, 'wounds': 8649, 'logging': 8650, 'geoenvironmental': 8651, 'implications': 8652, 'fuuuuck': 8653, 'salmon': 8654, 'uploaded': 8655, 'wrkin': 8656, 'ree': 8657, 'compensation': 8658, 'awkward': 8659, 'splash': 8660, 'leg': 8661, 'musta': 8662, 'overdid': 8663, 'telediscount': 8664, 'gastroenteritis': 8665, 'replace': 8666, 'reduce': 8667, 'limiting': 8668, 'illness': 8669, 'foned': 8670, 'chuck': 8671, 'port': 8672, 'stuffs': 8673, 'juswoke': 8674, 'boatin': 8675, 'docks': 8676, 'spinout': 8677, '08715203656': 8678, '42049': 8679, 'uworld': 8680, 'qbank': 8681, 'assessment': 8682, 'someonone': 8683, '09064015307': 8684, 'tke': 8685, 'temales': 8686, 'finishd': 8687, 'dull': 8688, 'studies': 8689, 'anyones': 8690, 'treadmill': 8691, 'craigslist': 8692, 'absolutely': 8693, 'swan': 8694, 'lamp': 8695, 'foward': 8696, '09061790126': 8697, 'misundrstud': 8698, '2u2': 8699, 'genes': 8700, 'com1win150ppmx3age16subscription': 8701, 'resuming': 8702, 'reapply': 8703, \"treatin'\": 8704, 'treacle': 8705, 'mumhas': 8706, 'beendropping': 8707, 'theplace': 8708, 'adress': 8709, 'oyster': 8710, 'sashimi': 8711, 'rumbling': 8712, 'marandratha': 8713, 'correctly': 8714, 'alaikkum': 8715, 'heaven': 8716, 'pisces': 8717, 'aquarius': 8718, '2yrs': 8719, 'steyn': 8720, 'wicket': 8721, 'sterm': 8722, 'resolved': 8723, 'jam': 8724, 'hannaford': 8725, 'wheat': 8726, 'chex': 8727, 'grownup': 8728, 'costume': 8729, 'jerk': 8730, 'stink': 8731, 'follows': 8732, 'subsequent': 8733, 'openings': 8734, 'upcharge': 8735, 'guai': 8736, 'astrology': 8737, \"ryan's\": 8738, 'slacking': 8739, 'mentor': 8740, 'percent': 8741, '09095350301': 8742, 'erotic': 8743, 'ecstacy': 8744, 'dept': 8745, '08717507382': 8746, 'coincidence': 8747, 'sane': 8748, 'helping': 8749, 'leading': 8750, '151': 8751, 'pause': 8752, '8800': 8753, 'psp': 8754, 'spacebucks': 8755, \"weather's\": 8756, '083': 8757, '6089': 8758, 'squeezed': 8759, 'maintaining': 8760, 'dreading': 8761, 'thou': 8762, 'suggestion': 8763, 'lands': 8764, 'helps': 8765, 'forgt': 8766, 'ajith': 8767, 'ooooooh': 8768, 'yoville': 8769, 'asda': 8770, 'counts': 8771, 'officer': 8772, 'bffs': 8773, 'carly': 8774, 'seperated': 8775, '\\x8eö´\\x89ó': 8776, '\\x8bû¬ud': 8777, 'brolly': 8778, 'franxx': 8779, 'prometazine': 8780, 'syrup': 8781, '5mls': 8782, 'feed': 8783, 'singapore': 8784, 'victoria': 8785, 'pocay': 8786, 'wocay': 8787, '2morrowxxxx': 8788, 'broth': 8789, 'ramen': 8790, 'fowler': 8791, 'tats': 8792, 'flew': 8793, '09058094583': 8794, 'attention': 8795, 'tix': 8796, \"biola's\": 8797, 'fne': 8798, 'youdoing': 8799, 'worc': 8800, 'foregate': 8801, 'shrub': 8802, 'get4an18th': 8803, '32000': 8804, 'legitimat': 8805, 'efreefone': 8806, 'receipts': 8807, 'pendent': 8808, 'toilet': 8809, 'stolen': 8810, 'cops': 8811, 'hu': 8812, 'navigate': 8813, 'choosing': 8814, 'require': 8815, 'guidance': 8816, 'chick': 8817, 'boobs': 8818, 'revealing': 8819, 'sparkling': 8820, 'breaks': 8821, '45': 8822, '0121': 8823, '2025050': 8824, 'shortbreaks': 8825, 'org': 8826, 'gyno': 8827, 'belong': 8828, 'gamb': 8829, 'treasure': 8830, '820554ad0a1705572711': 8831, 'trueåác': 8832, 'ringtoneåá': 8833, '09050000332': 8834, \"mummy's\": 8835, 'positive': 8836, 'negative': 8837, 'hmmmm': 8838, 'command': 8839, 'stressful': 8840, 'holby': 8841, '09064017295': 8842, 'li': 8843, 'lecturer': 8844, 'repeating': 8845, 'yeovil': 8846, 'motor': 8847, 'max': 8848, 'rhode': 8849, 'bong': 8850, 'ofcourse': 8851, '08448350055': 8852, 'planettalkinstant': 8853, 'marvel': 8854, 'ultimate': 8855, '83338': 8856, '8ball': 8857, 'tamilnadu': 8858, 'tip': 8859, '07808247860': 8860, '08719899229': 8861, '40411': 8862, 'identification': 8863, 'limit': 8864, 'boundaries': 8865, 'endless': 8866, 'reassuring': 8867, 'young': 8868, 'referin': 8869, \"mei's\": 8870, 'saibaba': 8871, 'colany': 8872, 'chic': 8873, 'declare': 8874, '49557': 8875, 'disappointment': 8876, 'irritation': 8877, \"tantrum's\": 8878, 'compliments': 8879, 'adventuring': 8880, 'chief': 8881, 'gsex': 8882, '2667': 8883, 'wc1n': 8884, '3xx': 8885, '3mobile': 8886, 'chatlines': 8887, 'inclu': 8888, 'servs': 8889, 'l8er': 8890, 'bailiff': 8891, 'mouse': 8892, 'desk': 8893, 'childporn': 8894, 'jumpers': 8895, 'hat': 8896, 'belt': 8897, 'cribbs': 8898, 'spiritual': 8899, 'barring': 8900, 'sudden': 8901, 'influx': 8902, 'kane': 8903, 'shud': 8904, 'pshew': 8905, 'units': 8906, 'accent': 8907, '4years': 8908, 'dental': 8909, 'nmde': 8910, 'dump': 8911, 'heap': 8912, 'lowes': 8913, 'salesman': 8914, 'å£750': 8915, '087187272008': 8916, 'now1': 8917, 'pity': 8918, 'suggestions': 8919, 'bitching': 8920}\n"
     ]
    }
   ],
   "source": [
    "# 각 단어에 대한 인덱싱 참고\n",
    "word_to_index = tokenizer.word_index\n",
    "print(word_to_index)"
   ]
  },
  {
   "cell_type": "code",
   "execution_count": 30,
   "metadata": {
    "collapsed": true,
    "jupyter": {
     "outputs_hidden": true
    }
   },
   "outputs": [
    {
     "data": {
      "text/plain": [
       "odict_items([('go', 271), ('until', 27), ('jurong', 1), ('point', 13), ('crazy', 15), ('available', 16), ('only', 199), ('in', 826), ('bugis', 7), ('n', 131), ('great', 106), ('world', 27), ('la', 7), ('e', 92), ('buffet', 2), ('cine', 7), ('there', 185), ('got', 232), ('amore', 1), ('wat', 95), ('ok', 258), ('lar', 38), ('joking', 6), ('wif', 27), ('u', 1043), ('oni', 4), ('free', 251), ('entry', 21), ('2', 473), ('a', 1293), ('wkly', 9), ('comp', 10), ('to', 2070), ('win', 57), ('fa', 2), ('cup', 6), ('final', 15), ('tkts', 2), ('21st', 2), ('may', 45), ('2005', 2), ('text', 175), ('87121', 2), ('receive', 32), ('question', 18), ('std', 7), ('txt', 148), ('rate', 27), ('t', 65), (\"c's\", 15), ('apply', 27), (\"08452810075over18's\", 1), ('dun', 55), ('say', 83), ('so', 439), ('early', 33), ('hor', 2), ('c', 95), ('already', 91), ('then', 233), ('nah', 10), ('i', 2229), (\"don't\", 129), ('think', 130), ('he', 184), ('goes', 26), ('usf', 11), ('lives', 4), ('around', 61), ('here', 120), ('though', 27), ('freemsg', 14), ('hey', 112), ('darling', 5), (\"it's\", 93), ('been', 118), ('3', 74), (\"week's\", 3), ('now', 449), ('and', 929), ('no', 333), ('word', 33), ('back', 147), (\"i'd\", 12), ('like', 234), ('some', 113), ('fun', 30), ('you', 2055), ('up', 303), ('for', 660), ('it', 588), ('still', 150), ('tb', 4), ('xxx', 32), ('chgs', 1), ('send', 170), ('å£1', 33), ('50', 48), ('rcv', 2), ('even', 57), ('my', 687), ('brother', 17), ('is', 792), ('not', 412), ('speak', 30), ('with', 341), ('me', 753), ('they', 118), ('treat', 16), ('aids', 1), ('patent', 1), ('as', 157), ('per', 50), ('your', 622), ('request', 5), (\"'melle\", 1), ('melle', 1), ('oru', 2), ('minnaminunginte', 1), ('nurungu', 1), ('vettam', 1), (\"'\", 7), ('has', 102), ('set', 17), ('callertune', 4), ('all', 255), ('callers', 2), ('press', 7), ('9', 25), ('copy', 6), ('friends', 42), ('winner', 13), ('valued', 9), ('network', 26), ('customer', 48), ('have', 538), ('selected', 24), ('receivea', 1), ('å£900', 6), ('prize', 82), ('reward', 10), ('claim', 96), ('call', 499), ('09061701461', 1), ('code', 29), ('kl341', 1), ('valid', 22), ('12', 10), ('hours', 18), ('had', 95), ('mobile', 122), ('11', 15), ('months', 9), ('or', 383), ('more', 101), ('r', 145), ('entitled', 6), ('update', 21), ('the', 1234), ('latest', 32), ('colour', 19), ('mobiles', 9), ('camera', 28), ('co', 44), ('on', 493), ('08002986030', 1), (\"i'm\", 378), ('gonna', 58), ('be', 371), ('home', 158), ('soon', 58), ('want', 189), ('talk', 44), ('about', 153), ('this', 318), ('stuff', 45), ('anymore', 8), ('tonight', 59), ('k', 139), (\"i've\", 65), ('cried', 1), ('enough', 27), ('today', 139), ('six', 3), ('chances', 1), ('cash', 77), ('from', 271), ('100', 14), ('20', 11), ('000', 25), ('pounds', 16), ('csh11', 1), ('87575', 2), ('cost', 30), ('150p', 64), ('day', 195), ('6days', 1), ('16', 40), ('tsandcs', 1), ('reply', 132), ('hl', 3), ('4', 280), ('info', 13), ('urgent', 63), ('won', 59), ('1', 98), ('week', 105), ('membership', 3), ('our', 138), ('å£100', 19), ('jackpot', 1), ('81010', 1), ('www', 84), ('dbuk', 1), ('net', 21), ('lccltd', 1), ('pobox', 11), ('4403ldnw1a7rw18', 1), ('searching', 4), ('right', 81), ('words', 20), ('thank', 29), ('breather', 1), ('promise', 9), ('wont', 32), ('take', 132), ('help', 49), ('granted', 1), ('will', 356), ('fulfil', 1), ('wonderful', 15), ('blessing', 2), ('at', 385), ('times', 25), ('date', 19), ('sunday', 10), ('xxxmobilemovieclub', 2), ('use', 44), ('credit', 14), ('click', 7), ('wap', 10), ('link', 10), ('next', 62), ('message', 76), ('http', 20), ('com', 59), ('qjkgighjjgcbl', 1), ('oh', 111), ('watching', 31), ('eh', 12), ('remember', 32), ('how', 275), ('spell', 3), ('his', 58), ('name', 42), ('yes', 92), ('did', 113), ('v', 52), ('naughty', 7), ('make', 97), ('wet', 5), ('fine', 46), ('if', 344), ('thatåõs', 5), ('way', 96), ('feel', 58), ('its', 207), ('gota', 1), ('b', 72), ('england', 8), ('macedonia', 1), ('dont', 133), ('miss', 71), ('goals', 2), ('team', 6), ('news', 16), ('ur', 317), ('national', 19), ('87077', 8), ('eg', 11), ('try', 46), ('wales', 3), ('scotland', 3), ('4txt', 2), ('ì¼1', 1), ('poboxox36504w45wq', 1), ('that', 498), ('seriously', 6), ('i\\x89û÷m', 5), ('going', 167), ('ha', 16), ('ì', 120), ('pay', 31), ('first', 61), ('when', 273), ('da', 142), ('stock', 5), ('comin', 11), ('aft', 19), ('finish', 42), ('lunch', 39), ('str', 4), ('down', 55), ('lor', 159), ('ard', 22), ('smth', 16), ('ffffffffff', 1), ('alright', 24), ('can', 386), ('meet', 79), ('sooner', 4), ('just', 345), ('forced', 1), ('myself', 10), ('eat', 38), ('slice', 2), ('really', 84), ('hungry', 14), ('tho', 18), ('sucks', 7), ('mark', 8), ('getting', 50), ('worried', 10), ('knows', 9), ('sick', 9), ('turn', 4), ('pizza', 8), ('lol', 74), ('always', 52), ('convincing', 2), ('catch', 9), ('bus', 28), ('are', 466), ('frying', 3), ('an', 103), ('egg', 4), ('tea', 7), ('eating', 7), (\"mom's\", 4), ('left', 31), ('over', 62), ('dinner', 36), ('do', 374), ('love', 189), ('amp', 58), (\"we're\", 22), ('packing', 1), ('car', 39), (\"i'll\", 136), ('let', 70), ('know', 243), (\"there's\", 27), ('room', 33), ('ahhh', 1), ('work', 87), ('vaguely', 1), ('what', 253), ('does', 31), ('wait', 63), (\"that's\", 55), ('clear', 3), ('were', 60), ('sure', 70), ('being', 40), ('sarcastic', 2), ('why', 78), ('x', 50), (\"doesn't\", 15), ('live', 37), ('us', 62), ('yeah', 87), ('was', 210), ('apologetic', 1), ('fallen', 1), ('out', 258), ('she', 121), ('actin', 1), ('spoilt', 1), ('child', 3), ('caught', 3), ('till', 21), ('but', 420), ('we', 335), (\"won't\", 21), ('doing', 82), ('too', 108), ('badly', 1), ('cheers', 8), ('tell', 128), ('anything', 70), ('fear', 2), ('of', 559), ('fainting', 1), ('housework', 1), ('quick', 8), ('cuppa', 1), ('thanks', 77), ('subscription', 5), ('ringtone', 26), ('uk', 55), ('charged', 12), ('å£5', 2), ('month', 35), ('please', 123), ('confirm', 11), ('by', 161), ('replying', 7), ('yup', 41), ('look', 30), ('timings', 1), ('msg', 97), ('again', 64), ('xuhui', 3), ('learn', 6), ('2nd', 26), ('her', 119), ('lesson', 17), ('8am', 2), ('oops', 10), (\"roommate's\", 2), ('done', 48), ('see', 150), ('letter', 4), ('decide', 8), ('hello', 47), (\"how's\", 29), ('saturday', 13), ('texting', 6), (\"you'd\", 8), ('decided', 15), ('tomo', 19), ('trying', 42), ('invite', 3), ('pls', 99), ('ahead', 6), ('watts', 1), ('wanted', 26), ('weekend', 31), ('abiola', 11), ('forget', 16), ('need', 163), ('crave', 11), ('most', 25), ('sweet', 28), ('arabian', 1), ('steed', 1), ('mmmmmm', 2), ('yummy', 3), ('07732584351', 1), ('rodger', 1), ('burns', 2), ('tried', 21), ('re', 24), ('sms', 46), ('nokia', 58), ('camcorder', 15), ('08000930705', 16), ('delivery', 19), ('tomorrow', 82), ('who', 92), ('seeing', 12), ('hope', 110), ('man', 36), ('well', 113), ('endowed', 1), ('am', 212), ('lt', 287), ('gt', 288), ('inches', 4), ('calls', 21), ('messages', 22), ('missed', 23), (\"didn't\", 44), ('get', 368), ('hep', 1), ('immunisation', 1), ('nigeria', 8), ('fair', 3), ('hopefully', 5), ('tyler', 5), (\"can't\", 58), ('could', 59), ('maybe', 32), ('ask', 88), ('bit', 42), ('stubborn', 1), ('hospital', 9), ('kept', 6), ('telling', 14), ('weak', 5), ('sucker', 1), ('hospitals', 2), ('suckers', 1), ('thinked', 1), ('time', 210), ('saw', 24), ('class', 45), ('gram', 3), ('usually', 6), ('runs', 3), ('half', 36), ('eighth', 2), ('smarter', 1), ('gets', 11), ('almost', 13), ('whole', 14), ('second', 18), ('fyi', 6), ('ride', 5), ('morning', 68), (\"he's\", 30), ('crashing', 1), ('place', 52), ('wow', 12), ('never', 40), ('realized', 3), ('embarassed', 4), ('accomodations', 1), ('thought', 47), ('liked', 7), ('since', 27), ('best', 42), ('seemed', 4), ('happy', 96), ('cave', 1), ('sorry', 125), ('give', 97), ('offered', 1), ('embarassing', 1), ('ac', 11), ('sptv', 2), ('new', 125), ('jersey', 1), ('devils', 1), ('detroit', 2), ('red', 10), ('wings', 1), ('play', 31), ('ice', 9), ('hockey', 2), ('correct', 10), ('incorrect', 1), ('end', 39), ('mallika', 1), ('sherawat', 1), ('yesterday', 23), ('find', 75), ('url', 3), ('congrats', 14), ('year', 45), ('special', 35), ('cinema', 7), ('pass', 11), ('yours', 19), ('09061209465', 2), ('suprman', 2), ('matrix3', 2), ('starwars3', 2), ('etc', 12), ('bx420', 4), ('ip4', 5), ('5we', 5), ('150pm', 4), ('later', 100), ('meeting', 38), ('where', 105), ('reached', 9), ('gauti', 1), ('sehwag', 1), ('odi', 2), ('series', 4), ('pick', 60), ('burger', 3), ('yourself', 20), ('move', 10), ('pain', 23), ('killing', 2), ('good', 227), ('joke', 6), ('girls', 16), ('situation', 7), ('seekers', 1), ('part', 25), ('checking', 9), ('iq', 2), ('roommates', 3), ('took', 17), ('forever', 9), ('come', 213), ('double', 18), ('check', 37), ('hair', 24), ('dresser', 3), ('said', 76), ('wun', 7), ('cut', 13), ('short', 8), ('nice', 50), ('pleased', 5), ('advise', 2), ('following', 6), ('recent', 2), ('review', 5), ('mob', 20), ('awarded', 31), ('å£1500', 2), ('bonus', 17), ('09066364589', 1), ('song', 10), ('dedicated', 1), ('which', 56), ('dedicate', 1), ('valuable', 2), ('frnds', 10), ('rply', 8), ('complimentary', 11), ('trip', 20), ('eurodisinc', 1), ('trav', 1), ('aco', 1), ('entry41', 1), ('å£1000', 28), ('dis', 25), ('18', 43), ('6', 41), ('morefrmmob', 1), ('shracomorsglsuplt', 1), ('10', 29), ('ls1', 1), ('3aj', 1), ('hear', 31), ('divorce', 2), ('barbie', 1), ('comes', 18), (\"ken's\", 1), ('plane', 3), ('wah', 4), ('lucky', 17), ('save', 10), ('money', 60), ('hee', 13), ('finished', 19), ('hi', 131), ('babe', 79), ('im', 82), ('wanna', 38), ('something', 68), ('xx', 17), ('performed', 1), ('waiting', 50), ('machan', 4), ('once', 33), ('thats', 38), ('cool', 42), ('gentleman', 3), ('dignity', 3), ('respect', 5), ('peoples', 1), ('very', 72), ('much', 112), ('shy', 3), ('pa', 29), ('operate', 1), ('after', 83), ('same', 50), ('looking', 27), ('job', 38), (\"ta's\", 1), ('earn', 2), ('ah', 35), ('stop', 143), ('urgnt', 3), ('real', 35), ('yo', 39), ('tickets', 10), ('one', 165), ('jacket', 2), ('used', 15), ('multis', 1), ('started', 18), ('requests', 3), ('came', 24), ('bed', 32), ('coins', 4), ('factory', 1), ('gotta', 12), ('nitros', 2), ('ela', 2), ('kano', 6), ('il', 10), ('download', 13), ('wen', 19), ('don\\x89û÷t', 6), ('stand', 8), ('close', 15), ('you\\x89û÷ll', 1), ('another', 35), ('night', 109), ('spent', 8), ('late', 56), ('afternoon', 25), ('casualty', 1), ('means', 21), (\"haven't\", 22), ('any', 128), ('y', 43), ('stuff42moro', 1), ('includes', 1), ('sheets', 3), ('smile', 34), ('pleasure', 6), ('trouble', 7), ('pours', 1), ('rain', 8), ('sum1', 2), ('hurts', 6), ('becoz', 3), ('someone', 54), ('loves', 6), ('smiling', 15), ('service', 52), ('representative', 6), ('0800', 9), ('169', 1), ('6031', 1), ('between', 21), ('10am', 6), ('9pm', 3), ('guaranteed', 42), ('å£5000', 14), ('havent', 24), ('planning', 8), ('buy', 62), ('lido', 3), ('530', 5), ('show', 25), ('collected', 2), ('simply', 5), ('password', 5), ('mix', 2), ('85069', 1), ('verify', 2), ('usher', 1), ('britney', 1), ('fml', 3), ('telugu', 2), ('movie', 21), ('abt', 26), ('loads', 11), ('loans', 2), ('wk', 36), ('hols', 3), ('run', 21), ('forgot', 29), ('hairdressers', 1), ('appointment', 4), ('four', 3), ('shower', 11), ('beforehand', 1), ('cause', 18), ('prob', 14), ('\\rham', 2), ('nothing', 38), ('else', 24), ('okay', 27), ('price', 23), ('long', 42), ('legal', 4), ('them', 74), ('ave', 7), ('ams', 1), ('gone', 16), ('4the', 1), ('driving', 22), ('test', 21), ('yet', 50), (\"you're\", 51), ('mean', 20), ('guess', 37), ('gave', 10), ('boston', 5), ('men', 9), ('changed', 7), ('search', 14), ('location', 2), ('nyc', 4), ('cuz', 7), ('signin', 1), ('page', 7), ('says', 26), ('umma', 8), ('life', 71), ('vava', 3), ('lot', 34), ('dear', 101), ('wishes', 4), ('birthday', 26), ('making', 23), ('truly', 4), ('memorable', 1), ('aight', 33), ('hit', 14), ('would', 74), ('ip', 1), ('address', 21), ('considering', 4), ('computer', 12), (\"isn't\", 10), ('minecraft', 1), ('server', 1), ('grumpy', 1), ('old', 20), ('people', 41), ('mom', 12), ('better', 43), ('lying', 1), ('jokes', 2), ('worry', 24), ('busy', 21), ('plural', 1), ('noun', 2), ('research', 4), ('cos', 76), ('things', 51), ('scared', 5), ('mah', 13), ('loud', 3), ('gent', 2), ('contact', 61), ('last', 73), ('weekends', 8), ('draw', 39), ('shows', 34), ('09064012160', 2), ('k52', 3), ('12hrs', 16), ('150ppm', 29), ('wa', 3), ('openin', 1), ('sentence', 2), ('formal', 1), ('anyway', 29), ('juz', 25), ('tt', 4), ('eatin', 7), ('puttin', 2), ('weight', 8), ('haha', 51), ('anythin', 3), ('happened', 16), ('entered', 8), ('cabin', 2), (\"''\", 9), (\"b'day\", 4), ('boss', 6), ('felt', 10), ('askd', 6), ('invited', 9), ('apartment', 4), ('went', 49), ('specially', 8), ('holiday', 38), ('flights', 5), ('inc', 7), ('operator', 11), ('0871277810910p', 1), ('min', 61), ('goodo', 2), ('must', 26), ('friday', 14), ('potato', 2), ('ratio', 1), ('tortilla', 2), ('needed', 4), ('hmm', 14), ('uncle', 12), ('informed', 5), ('paying', 8), ('school', 25), ('directly', 6), ('food', 22), ('private', 17), ('2004', 7), ('account', 35), ('statement', 16), ('07742676969', 1), ('786', 3), ('unredeemed', 3), ('points', 19), ('08719180248', 1), ('identifier', 15), ('45239', 2), ('expires', 16), ('å£2000', 18), ('caller', 13), ('5', 51), ('03', 13), ('landline', 30), ('09064019788', 1), ('box42wr29c', 1), ('apples', 1), ('pairs', 1), ('malarky', 1), ('todays', 17), ('voda', 5), ('numbers', 12), ('ending', 8), ('7548', 1), ('350', 2), ('award', 25), ('match', 11), ('08712300220', 6), ('quoting', 5), ('4041', 1), ('standard', 6), ('rates', 9), ('app', 6), ('sao', 1), ('mu', 14), ('ìï', 52), ('predict', 1), (\"'ll\", 3), ('buying', 9), ('yetunde', 4), (\"hasn't\", 4), ('sent', 61), ('bother', 7), ('sending', 12), ('involve', 1), (\"shouldn't\", 5), ('imposed', 1), ('apologise', 3), ('girl', 28), ('del', 7), ('bak', 8), ('sum', 2), ('lucyxx', 1), ('tmorrow', 1), ('accomodate', 1), ('answer', 16), ('sunshine', 6), ('quiz', 11), ('q', 4), ('top', 19), ('sony', 7), ('dvd', 6), ('player', 13), ('country', 5), ('algarve', 1), ('ansr', 2), ('82277', 5), ('sp', 6), ('tyrone', 2), ('laid', 5), ('dogging', 11), ('locations', 5), ('direct', 12), ('join', 27), (\"uk's\", 6), ('largest', 4), ('bt', 26), ('txting', 8), ('gravel', 1), ('69888', 2), ('nt', 16), ('ec2a', 5), ('31p', 2), ('haf', 23), ('msn', 2), ('yijue', 7), ('hotmail', 1), ('him', 107), ('rooms', 3), ('befor', 2), ('activities', 2), (\"you'll\", 14), ('msgs', 15), ('chat', 51), ('svc', 1), ('hardcore', 3), ('services', 17), ('69988', 1), ('age', 13), ('yr', 14), ('lazy', 9), ('type', 13), ('lect', 9), ('pouch', 2), ('sir', 33), ('mail', 26), ('swt', 6), ('nver', 1), ('tired', 12), ('little', 30), ('lovable', 5), ('persons', 3), ('coz', 16), ('somtimes', 2), ('those', 27), ('occupy', 2), ('d', 66), ('biggest', 3), ('their', 12), ('hearts', 2), ('gud', 44), ('ni8', 11), ('open', 17), ('ya', 57), ('dot', 2), ('whats', 13), ('staff', 3), ('taking', 18), ('replied', 5), ('randy', 2), ('sexy', 23), ('female', 3), ('local', 6), ('luv', 30), ('netcollex', 4), ('ltd', 14), ('08700621170150p', 2), ('ummma', 1), ('begin', 5), ('qatar', 6), ('pray', 10), ('hard', 14), ('deleted', 4), ('sindu', 1), ('birla', 3), ('soft', 3), ('wine', 10), ('flowing', 2), ('nevering', 1), ('thk', 50), ('plaza', 2), ('typical', 1), ('everywhere', 2), ('dirt', 1), ('floor', 3), ('windows', 2), ('shirt', 5), ('sometimes', 8), ('mouth', 2), ('dream', 10), ('without', 23), ('chores', 1), ('joy', 3), ('lots', 17), ('tv', 28), ('ll', 32), ('exist', 1), ('hail', 1), ('mist', 1), ('become', 6), ('aaooooright', 1), ('leaving', 18), ('house', 38), ('interview', 4), ('boy', 27), ('missing', 22), ('annoncement', 1), ('years', 23), ('07046744435', 1), ('arrange', 6), ('0871277810810', 1), ('keep', 66), ('safe', 11), ('because', 36), ('envy', 1), ('everyone', 16), (\"see's\", 1), ('parents', 10), ('hand', 9), ('excited', 1), ('each', 15), ('spend', 10), ('bootydelious', 2), ('32', 1), ('f', 9), ('inviting', 5), ('friend', 47), ('434', 5), ('frnd', 14), ('62468', 5), ('bangbabes', 1), ('order', 21), ('should', 95), ('content', 15), ('goto', 7), ('bangb', 1), ('internet', 7), ('menu', 4), ('cultures', 1), ('module', 2), ('09061701939', 1), ('s89', 1), ('avoid', 2), ('missunderstding', 1), ('wit', 15), ('beloved', 2), (\"one's\", 1), ('escape', 3), ('fancy', 14), ('bridge', 1), ('needs', 16), ('lager', 1), ('completely', 7), ('form', 1), ('clark', 1), ('also', 71), ('utter', 1), ('waste', 6), ('axis', 1), ('bank', 14), ('hmmm', 13), ('hop', 7), ('muz', 11), ('discuss', 5), ('liao', 37), ('coming', 50), ('bloody', 4), ('hell', 6), ('cant', 52), ('believe', 20), ('surname', 1), ('mr', 12), ('ill', 42), ('clue', 1), ('spanish', 3), ('begins', 1), ('m', 29), ('bath', 11), (\"you've\", 13), ('carlos', 16), ('mall', 3), ('turns', 6), ('staying', 9), ('til', 23), ('smoke', 17), ('worth', 12), ('doesnt', 9), ('log', 13), ('spoke', 4), ('maneesha', 1), (\"we'd\", 2), ('satisfied', 1), ('experience', 4), ('toll', 1), ('lifted', 1), ('hopes', 1), ('offer', 31), ('especially', 9), ('approaches', 1), ('studying', 9), ('anyways', 4), ('gr8', 17), ('trust', 9), ('guys', 33), ('bye', 6), ('handsome', 1), ('finding', 1), ('working', 28), ('towards', 6), ('mummy', 3), (\"where's\", 8), ('boytoy', 16), ('awesome', 19), ('minute', 16), ('freephone', 4), ('0808', 1), ('145', 1), ('4742', 1), ('9am', 2), ('11pm', 1), ('xmas', 23), ('radio', 4), ('jus', 35), ('bathe', 10), ('sis', 17), ('using', 9), ('finishes', 3), ('unique', 4), ('30th', 1), ('august', 3), ('areyouunique', 1), ('joined', 8), ('league', 1), ('touch', 16), ('deal', 9), ('personal', 6), ('finally', 14), ('completed', 2), ('course', 13), ('itself', 9), ('however', 8), ('suggest', 3), ('stays', 2), ('able', 26), ('ors', 1), ('every', 65), ('stool', 1), ('settled', 3), ('wishin', 1), ('mrng', 8), ('hav', 22), ('story', 11), ('hamster', 2), ('dead', 9), ('tmr', 28), ('1pm', 1), ('orchard', 11), ('mrt', 9), ('kate', 11), ('evening', 25), ('babyjontet', 1), ('found', 15), ('enc', 1), ('bucks', 7), ('darlin', 15), ('ive', 9), ('college', 16), ('refilled', 1), ('successfully', 2), ('inr', 1), ('decimal', 20), ('keralacircle', 1), ('prepaid', 1), ('balance', 12), ('rs', 12), ('transaction', 3), ('id', 20), ('kr', 1), ('goodmorning', 14), ('sleeping', 16), ('ga', 1), ('alter', 1), ('dat', 34), ('ericsson', 2), ('oso', 23), ('cannot', 5), ('oredi', 15), ('dats', 1), ('straight', 6), ('dogg', 1), ('connection', 5), ('before', 64), ('refund', 1), ('bill', 10), ('both', 20), ('shoot', 4), ('big', 35), ('ready', 40), (\"what's\", 22), ('bruv', 2), ('break', 17), ('rewarding', 2), ('semester', 10), ('study', 10), ('noe', 20), ('leh', 30), ('sounds', 17), ('heading', 2), ('prediction', 1), ('slept', 8), ('past', 7), ('few', 40), ('nights', 6), ('easy', 25), ('sen', 4), ('exam', 11), ('march', 12), ('atm', 4), ('register', 2), ('os', 2), ('called', 29), ('ubandu', 1), ('installing', 2), ('disk', 1), ('important', 25), ('files', 4), ('system', 6), ('repair', 2), ('shop', 19), ('happen', 20), ('romantic', 5), ('nite', 22), ('scenery', 1), ('500', 20), ('89545', 3), ('collect', 26), ('tc', 10), ('biz', 7), ('2optout', 5), ('087187262701', 3), ('50gbp', 3), ('mtmsg18', 3), ('appreciate', 7), ('partner', 5), ('career', 3), ('off', 60), ('flyng', 1), ('start', 32), ('horo', 2), ('followed', 4), ('star', 2), ('sign', 7), ('g', 25), ('aries', 1), ('company', 16), ('elama', 1), ('po', 27), ('mudyadhu', 1), ('strict', 1), ('than', 38), ('teacher', 3), ('bcoz', 8), ('teaches', 4), ('conducts', 2), ('lessons', 9), ('gandhipuram', 1), ('walk', 18), ('cross', 4), ('road', 8), ('side', 13), ('street', 9), ('rubber', 1), ('battery', 7), ('died', 6), ('flirt', 7), ('10p', 22), ('sam', 4), ('25', 6), ('recd', 3), ('thirtyeight', 1), ('pence', 3), ('printed', 2), ('upstairs', 2), ('closer', 4), ('wil', 17), ('reach', 30), ('theory', 2), ('argument', 3), ('wins', 3), ('loses', 1), ('person', 33), ('argue', 2), ('kick', 6), ('447801259231', 1), ('secret', 11), ('admirer', 7), ('reveal', 8), ('thinks', 11), ('09058094597', 1), ('tomarrow', 3), ('hearing', 1), ('laptop', 11), ('case', 12), ('pleassssssseeeeee', 1), ('tel', 14), ('avent', 3), ('sportsx', 1), ('shining', 2), ('meant', 14), ('signing', 2), ('although', 2), ('told', 51), ('into', 32), ('baig', 1), ('face', 30), ('watches', 1), ('watch', 32), ('fr', 13), ('thanx', 31), ('everything', 28), (\"u've\", 6), ('touched', 2), ('commercial', 2), ('website', 6), ('slippers', 3), ('asked', 25), ('kallis', 6), ('bat', 3), ('innings', 3), ('didnt', 28), ('goodnight', 8), ('fix', 5), ('wake', 25), ('dearly', 3), ('sleep', 56), ('congratulations', 13), ('cd', 8), ('vouchers', 14), ('125gift', 2), ('music', 17), ('87066', 10), ('tncs', 5), ('ldew', 7), ('com1win150ppmx3age16', 3), ('ranjith', 2), ('cal', 6), ('drpd', 1), ('deeraj', 1), ('deepak', 1), ('5min', 2), ('hold', 12), ('bcums', 1), ('angry', 11), ('wid', 12), ('dnt', 7), ('childish', 3), ('true', 22), ('showing', 4), ('deep', 7), ('affection', 1), ('care', 63), ('kettoda', 1), ('manda', 1), ('ups', 1), ('3days', 1), ('shipping', 3), ('takes', 14), ('2wks', 2), ('other', 52), ('usps', 1), ('lag', 2), ('bribe', 1), ('nipost', 1), ('lemme', 8), ('necessarily', 2), ('expect', 4), ('headin', 2), ('mmm', 4), ('jolt', 2), ('suzy', 2), ('lover', 7), ('video', 33), ('handset', 6), ('750', 17), ('anytime', 16), ('networks', 3), ('mins', 45), ('unlimited', 14), ('parked', 3), ('mini', 3), ('shopping', 30), ('own', 11), ('disturb', 9), ('luton', 1), ('0125698789', 1), ('ring', 20), ('h', 2), ('horny', 7), ('naked', 5), ('hot', 20), ('69698', 2), ('unsubscribe', 16), ('dint', 6), ('wana', 11), ('plan', 28), ('sometme', 1), ('credits', 8), ('club4mobiles', 1), ('choose', 16), ('club', 20), ('87070', 1), ('club4', 1), ('box1146', 1), ('mk45', 1), ('2wt', 1), ('evo', 1), ('flash', 3), ('jealous', 3), ('singles', 4), ('chart', 2), ('quality', 7), ('charge', 18), ('sorting', 3), ('narcotics', 1), ('ended', 4), ('sunny', 4), ('rays', 3), ('leaves', 6), ('worries', 7), ('blue', 10), ('bay', 2), ('hmv', 4), ('genuine', 1), ('questions', 9), ('86688', 14), ('100percent', 1), ('might', 35), ('objection', 1), ('bf', 5), ('rob', 1), ('mack', 1), ('gf', 2), ('theater', 1), ('handed', 3), ('celebrations', 1), ('full', 20), ('swing', 12), ('tool', 2), ('far', 16), ('okie', 14), ('usual', 8), (\"guy's\", 2), ('passed', 4), ('ahold', 1), ('anybody', 4), ('throw', 4), ('lets', 18), ('baby', 31), ('cruisin', 1), ('hour', 28), ('fone', 13), ('jenny', 2), ('ge', 7), ('shall', 30), ('tonite', 10), ('varunnathu', 1), ('edukkukayee', 1), ('raksha', 1), ('ollu', 1), ('sense', 7), ('gautham', 3), ('stupid', 10), ('cam', 4), ('buzy', 1), ('accidentally', 4), ('resend', 1), ('phone', 112), ('upgrade', 3), ('sim', 6), ('card', 16), ('loyalty', 6), ('0845', 3), ('021', 2), ('3680', 2), ('ends', 10), ('28thfeb', 1), ('unless', 9), ('gurl', 1), ('appropriate', 1), ('hurt', 20), ('tease', 2), ('cry', 4), ('die', 11), ('plz', 18), ('rose', 6), ('grave', 1), ('bslvyl', 8), ('coffee', 8), ('somebody', 11), ('high', 7), ('diesel', 1), ('shit', 36), ('shocking', 2), ('scary', 3), ('imagine', 7), ('def', 4), ('somewhere', 9), ('crash', 2), ('taxi', 2), ('fridge', 1), ('meal', 4), ('womdarfull', 1), ('actor', 2), ('blind', 2), ('4u', 8), ('rodds1', 1), ('21', 5), ('aberdeen', 1), ('united', 1), ('kingdom', 1), ('img', 1), ('w', 17), ('icmb3cktz8r7', 1), ('dates', 4), ('hide', 2), ('remb', 1), ('book', 23), ('jos', 1), ('friendship', 14), ('hanging', 4), ('thread', 2), ('themob', 5), ('newest', 3), ('selection', 4), ('games', 16), ('tones', 25), ('gossip', 3), ('babes', 6), ('sport', 6), ('fit', 3), ('funky', 2), ('82468', 2), ('garage', 3), ('keys', 3), (\"aren't\", 5), ('bookshelf', 1), ('accept', 5), ('sister', 15), ('dear1', 1), ('best1', 1), ('clos1', 1), ('lvblefrnd', 1), ('jstfrnd', 1), ('cutefrnd', 1), ('lifpartnr', 1), ('belovd', 2), ('swtheart', 1), ('bstfrnd', 1), ('enemy', 2), ('smart', 4), ('å£200', 9), ('weekly', 20), ('85222', 1), ('cs', 37), ('winnersclub', 1), ('box', 31), ('84', 1), ('m26', 3), ('3uz', 3), ('gbp1', 1), (\"he'll\", 5), (\"friend's\", 3), ('definitely', 6), ('2day', 9), ('normal', 10), ('rest', 11), ('mylife', 1), ('wot', 26), ('lost', 13), ('made', 25), ('advance', 5), ('pongal', 4), ('kb', 7), ('power', 7), ('yoga', 7), ('dunno', 31), ('tahan', 2), ('anot', 2), ('lo', 2), ('dude', 23), ('afraid', 4), ('december', 4), ('11mths', 7), ('08002986906', 3), ('cake', 5), ('merry', 7), ('christmas', 13), ('kisses', 4), ('cud', 4), ('ppl', 4), ('gona', 3), ('l8', 1), ('buses', 2), ('gon', 1), ('waitin', 4), ('pete', 10), (\"we'll\", 20), ('guild', 1), ('bristol', 2), ('plans', 10), ('flight', 3), ('problem', 36), ('track', 6), ('record', 3), ('reading', 9), ('women', 3), ('read', 13), ('light', 12), ('apo', 2), ('return', 6), ('immediately', 8), ('germany', 3), ('fixed', 8), ('line', 38), ('via', 10), ('access', 9), ('number', 90), ('0844', 2), ('861', 2), ('85', 4), ('prepayment', 2), ('chance', 32), ('evaporated', 1), ('violated', 2), ('privacy', 2), ('stealing', 1), (\"employer's\", 1), ('paperwork', 2), ('report', 6), ('supervisor', 3), ('valentines', 8), ('lifetime', 3), ('83600', 4), ('rcvd', 6), ('custcare', 9), ('08718720201', 7), ('ta', 6), ('daaaaa', 1), ('wined', 1), ('dined', 1), ('surfing', 3), ('calling', 18), ('post', 14), ('1000s', 4), ('texts', 28), ('wiv', 8), ('caroline', 2), ('favourite', 3), ('bless', 3), ('hiding', 1), ('stranger', 3), ('interested', 8), ('cleared', 3), ('two', 29), ('round', 8), ('gudnite', 2), ('practice', 3), ('huiming', 1), ('num', 6), ('small', 10), ('prestige', 1), ('shag', 1), ('sextextuk', 1), ('xxuk', 1), ('69876', 1), ('txts', 11), ('jeremiah', 1), ('iphone', 1), ('apeshit', 1), ('ever', 31), ('misbehaved', 1), ('slap', 2), ('urself', 8), ('fault', 7), ('basically', 4), ('figure', 10), ('alcohol', 3), ('jay', 11), ('safely', 1), ('weed', 9), ('ish', 6), ('minutes', 30), ('ago', 13), ('wtf', 4), ('onam', 1), ('sirji', 1), ('remembered', 3), ('met', 10), ('insurance', 7), ('insha', 3), ('allah', 5), ('rakhesh', 10), ('ex', 11), ('tata', 1), ('aig', 1), ('tissco', 2), ('tayseer', 2), ('currently', 12), ('maximize', 7), ('cc', 6), ('08708800282', 1), ('hg', 8), ('suite342', 12), ('2lands', 12), ('row', 16), ('w1j6hl', 9), ('unemployed', 2), ('moment', 10), ('st', 11), ('andrews', 1), ('cold', 7), ('posted', 6), ('chikku', 20), ('db', 1), (\"audrey's\", 1), ('status', 2), ('forward', 7), ('dawns', 1), ('refreshed', 1), ('alive', 3), ('breathe', 2), ('air', 6), ('z', 1), ('motorola', 11), ('sonyericsson', 5), ('bluetooth', 7), ('1000', 4), ('orange', 27), ('mobileupd8', 13), ('08000839402', 12), ('call2optout', 10), ('f4q', 1), ('discount', 8), ('rp176781', 1), ('further', 4), ('regalportfolio', 1), ('08717205546', 1), ('uniform', 1), ('geeee', 5), ('woke', 10), ('wish', 45), ('cuddling', 2), ('spoil', 1), ('talking', 13), ('agree', 2), ('willing', 6), ('reference', 7), ('t91', 1), ('gbp', 3), ('09057039994', 1), ('seen', 12), (\"did't\", 5), ('recognise', 2), ('happening', 7), ('lindsay', 1), ('sighs', 5), ('bars', 1), ('ptbo', 3), ('heron', 1), ('payasam', 1), ('rinu', 1), ('brings', 9), ('taught', 1), ('becaus', 1), ('hes', 2), ('verifying', 1), ('project', 13), ('prabu', 1), ('mistake', 8), ('body', 5), ('repairs', 1), ('quite', 35), ('slow', 11), ('tests', 3), ('guide', 5), ('ovulation', 2), ('relax', 5), ('reason', 12), ('followin', 1), ('couple', 13), ('wallet', 1), ('leave', 54), ('945', 1), ('6months', 2), ('phones', 10), ('n9dx', 1), ('owl', 1), ('licks', 2), ('mm', 10), ('4mths', 2), ('rental', 11), ('mobilesdirect', 2), ('08000938767', 2), ('or2stoptxt', 2), ('having', 38), ('huh', 20), ('sat', 31), ('intro', 5), ('pilates', 6), ('kickboxing', 1), ('office', 27), ('lap', 1), ('days', 37), ('shut', 3), ('bout', 15), ('7', 36), ('30ish', 2), ('performance', 1), ('calculated', 1), ('current', 5), ('period', 3), ('actually', 31), ('rock', 9), ('putting', 6), ('business', 3), ('put', 27), ('pictures', 5), ('ass', 12), ('facebook', 8), ('picture', 3), ('al', 9), ('salam', 2), ('wahleykkum', 1), ('sharing', 2), ('grace', 2), ('god', 28), ('inshah', 2), ('sometime', 4), ('visitor', 1), ('india', 13), ('change', 21), ('field', 2), ('quickly', 3), ('administrator', 2), ('87131', 4), ('poly', 17), ('tone', 45), ('2814032', 1), ('1st', 28), ('3xå£150pw', 1), ('eå£nd', 1), ('chechi', 3), ('cream', 4), ('shipped', 2), ('none', 6), ('yep', 10), ('loxahatchee', 2), ('tree', 3), ('burning', 2), ('starts', 7), ('stoners', 1), ('slightly', 2), ('disastrous', 1), ('pm', 16), ('fav', 2), ('darlings', 2), ('wld', 2), ('stay', 23), ('drink', 18), ('busetop', 1), ('sender', 2), ('fullonsms', 4), ('iron', 1), ('thing', 61), ('okies', 1), ('yan', 5), ('jiu', 5), ('skip', 3), ('den', 32), ('blah', 3), ('bring', 26), ('wendy', 1), ('dating', 16), ('l', 3), ('09064012103', 1), ('box334sk38ch', 2), ('whatsup', 1), ('goal', 3), ('å£250', 13), ('competition', 4), ('80086', 2), ('txttowin', 2), ('head', 18), ('logo', 7), ('names', 3), ('heart', 33), ('name1', 2), ('name2', 2), ('mobno', 2), ('adam', 2), ('eve', 18), ('07123456789', 2), ('yahoo', 8), ('pobox36504w45wq', 5), ('txtno', 2), ('ads', 2), ('contacted', 5), ('09111032124', 1), ('pobox12n146tf150p', 1), ('siva', 2), ('hostel', 5), ('aha', 8), ('09058094455', 1), ('land', 16), ('3030', 7), ('voice', 10), ('speaking', 2), ('expression', 2), ('sentiment', 1), ('rowdy', 1), ('ful', 3), ('attitude', 1), ('8', 23), ('attractive', 1), ('funny', 8), ('irritating', 3), (\"she'll\", 5), ('aathi', 2), ('urination', 1), ('esplanade', 4), ('mind', 35), ('giving', 8), ('lift', 5), ('wnt', 3), ('bmw', 1), ('urgently', 1), ('vry', 3), ('hv', 2), ('shortage', 1), ('lacs', 2), ('source', 1), ('arng', 1), ('amt', 2), ('fifteen', 4), ('fucking', 15), ('respond', 5), ('3650', 1), ('09066382422', 1), ('3mins', 3), ('vary', 4), ('300603', 1), ('bcm4284', 1), ('ldn', 7), ('wc1n3xx', 3), ('booked', 10), ('ticket', 7), ('hillsborough', 1), ('th', 10), ('askin', 6), ('dollars', 5), ('shoul', 1), ('iouri', 3), ('ten', 10), ('applebees', 2), ('journey', 4), ('hasnt', 1), ('gd', 18), ('bhaji', 1), ('cricketer', 1), ('sachin', 2), ('tough', 6), ('supposed', 12), ('oic', 3), ('tot', 21), ('din', 8), ('group', 6), ('werethe', 1), ('monkeespeople', 1), ('monkeyaround', 1), ('howdy', 1), ('gorgeous', 4), ('blimey', 1), ('exercise', 1), ('kinda', 9), ('concentration', 1), ('hanks', 1), ('lotsly', 1), ('detail', 1), ('transfer', 3), ('acc', 5), ('optimistic', 1), ('improve', 2), ('loan', 7), ('purpose', 2), ('å£500', 16), ('å£75', 1), ('homeowners', 1), ('tenants', 2), ('welcome', 12), ('previously', 1), ('refused', 2), ('1956669', 1), (\"'help'\", 2), ('si', 4), ('oreo', 2), ('truffles', 2), ('amy', 2), ('ure', 4), ('beautiful', 19), ('intelligent', 4), ('woman', 5), ('donåõt', 5), ('result', 4), ('consistently', 1), ('kind', 16), ('asking', 11), ('practicum', 1), ('links', 1), ('ears', 1), ('ttyl', 5), ('isnt', 6), ('bad', 31), ('thru', 7), ('different', 10), ('feeling', 21), ('wavering', 1), ('decisions', 2), ('coping', 2), ('individual', 2), ('heal', 1), ('gives', 5), ('reasons', 4), ('upgrdcentre', 1), ('0207', 3), ('153', 2), ('9153', 1), ('26th', 2), ('july', 3), ('opt', 13), ('railway', 3), ('princess', 31), ('receiving', 4), ('oral', 1), ('doggy', 3), ('style', 5), ('fave', 3), ('position', 2), ('enjoy', 39), ('roads', 3), ('slippery', 1), ('bike', 1), ('many', 53), ('language', 2), ('okmail', 1), ('dave', 3), ('notice', 7), ('tenerife', 7), ('5000', 4), ('09061743806', 2), ('tcs', 3), ('sae', 18), ('box326', 2), ('cw25wx', 4), ('screamed', 2), ('enters', 1), ('remove', 9), ('flat', 5), ('transfered', 3), ('removed', 2), ('banks', 3), ('differ', 2), ('charges', 5), ('9ja', 3), ('details', 25), ('moan', 6), ('69888nyt', 1), ('broken', 2), ('cum', 12), ('infront', 2), ('wise', 2), ('9t', 2), ('tension', 2), ('machi', 1), ('8th', 7), (\"when're\", 1), ('thinking', 19), ('mcr', 1), ('sec', 5), ('taste', 2), ('fb', 6), ('jaykwon', 1), ('thuglyfe', 1), ('falconerf', 1), ('activate', 5), ('terms', 8), ('conditions', 4), ('visit', 13), ('07781482378', 1), ('depends', 7), ('boye', 3), ('faded', 1), ('glory', 1), ('ralphs', 1), (\"account's\", 1), ('dry', 4), ('trade', 2), ('reunion', 1), ('meh', 9), ('nope', 15), ('monday', 11), ('accenture', 1), ('jackson', 1), ('rec', 2), ('center', 3), ('7ish', 2), ('reache', 1), ('fighting', 3), ('either', 18), ('lose', 12), ('fightng', 1), ('some1', 3), ('dificult', 1), ('nuerologist', 1), ('lolnice', 1), ('fish', 3), ('water', 10), ('123', 2), ('å£1450', 2), ('09050002311', 1), ('b4280703', 1), ('08718727868', 1), (\"dat's\", 2), ('bored', 22), ('outside', 15), ('westshore', 1), ('hyde', 2), ('park', 13), ('village', 5), ('near', 8), ('anthony', 2), ('bringing', 4), ('fees', 3), ('rent', 9), ('significance', 1), ('opinion', 5), ('jada', 1), ('kusruthi', 1), ('silent', 6), ('spl', 2), ('character', 3), ('matured', 1), ('stylish', 2), ('simple', 14), (\"g's\", 1), ('scrounge', 2), ('ammo', 1), ('ak', 1), ('prabha', 3), ('soryda', 1), ('realy', 6), ('frm', 11), ('sory', 1), ('forgiven', 2), ('jst', 6), ('tat', 6), ('40gb', 6), ('ipod', 10), ('mp3', 7), ('83355', 5), ('ibhltd', 3), ('ldnw15h', 3), ('mtmsgrcvd18', 4), ('s', 60), ('boltblue', 1), ('mono', 3), ('poly3', 1), ('cha', 4), ('slide', 2), ('jamz', 1), ('toxic', 1), ('topped', 1), ('bubbletext', 1), ('renewal', 2), ('pin', 5), ('tgxxrz', 1), ('transport', 2), ('less', 9), ('problematic', 1), ('bday', 4), ('definite', 2), ('nos', 2), ('booking', 3), ('fri', 15), ('unconscious', 1), ('children', 6), ('adults', 1), ('behave', 3), ('abnormally', 1), ('ebay', 2), ('elsewhere', 3), ('pickle', 1), ('tacos', 2), ('rude', 3), ('campus', 6), ('å£2', 13), ('02', 8), ('09', 3), ('attempt', 23), ('0871', 3), ('872', 2), ('9755', 1), ('box95qu', 3), (\"x'mas\", 1), (\"today's\", 6), ('å£150', 6), ('85023', 4), ('savamob', 9), ('member', 6), ('offers', 10), ('08717898035', 2), ('å£3', 11), ('00', 7), ('sub', 7), ('unsub', 5), ('pretty', 15), ('lady', 6), ('single', 7), ('recieve', 1), ('within', 9), ('24hrs', 2), ('channel', 2), ('teletext', 1), ('pg', 4), ('faggot', 1), ('2003', 13), ('07815296484', 1), ('800', 13), ('un', 13), ('redeemed', 12), ('08718738001', 2), ('41782', 1), ('04', 12), ('while', 27), ('hoping', 10), ('l8r', 6), ('malaria', 4), ('bani', 1), ('leads', 1), ('passionate', 4), ('kiss', 31), ('across', 10), ('sea', 14), ('probably', 33), ('fat', 7), ('fingers', 6), ('these', 20), ('buttons', 1), ('ummmmmaah', 1), ('returns', 3), ('tirupur', 3), ('applausestore', 1), ('monthlysubscription', 1), ('50p', 7), ('max6', 1), ('csc', 1), ('web', 2), ('age16', 8), ('2stop', 2), ('famous', 1), ('quote', 3), ('develop', 2), ('ability', 2), ('listen', 14), (\"'anything'\", 1), ('unconditionally', 1), ('losing', 3), ('temper', 1), ('self', 6), ('confidence', 3), (\"'married'\", 1), ('oclock', 1), ('mine', 16), ('bash', 1), ('recovery', 2), ('rather', 7), ('cooped', 1), ('hotel', 7), ('invitation', 1), ('cali', 1), ('english', 5), (\"bloke's\", 1), ('weddin', 1), ('omw', 7), ('btw', 5), ('alibi', 1), ('cutting', 2), ('sink', 1), ('through', 12), ('paces', 1), ('cage', 1), ('cock', 3), ('surrounded', 1), ('reminding', 2), ('owns', 2), ('cuck', 1), ('hurry', 7), ('deficient', 1), ('three', 4), ('acknowledgement', 1), ('astoundingly', 1), ('tactless', 1), ('generally', 3), ('faggy', 2), ('demand', 2), ('blood', 6), ('oath', 1), ('fo', 2), ('warm', 10), ('milk', 4), ('magic', 1), ('loose', 2), ('i\\x89û÷ll', 4), ('pan', 2), ('it\\x89û÷s', 3), ('cheap', 9), ('perhaps', 2), ('that\\x89û÷s', 3), ('silly', 1), ('isn\\x89û÷t', 1), ('likely', 3), ('o', 14), ('uv', 1), ('causes', 1), ('mutations', 1), ('sunscreen', 1), ('essential', 3), ('thesedays', 1), ('online', 23), ('pics', 17), ('aiyo', 6), ('mei', 1), ('haven', 1), ('fast', 15), ('workin', 8), ('bao', 1), ('sugardad', 1), ('gee', 7), ('brownie', 1), ('geeeee', 2), ('barely', 6), ('fuck', 28), ('2mrw', 5), ('ninish', 1), ('icky', 1), ('american', 3), ('freek', 1), ('callin', 3), ('jen', 2), ('oooh', 2), ('ridden', 1), ('ey', 2), ('gym', 12), ('whatever', 17), ('smiles', 5), ('daddy', 8), ('scream', 6), ('dick', 3), ('missy', 1), ('yar', 13), ('mum', 16), ('sch', 22), ('clean', 8), ('lab', 4), ('goggles', 1), ('door', 8), ('call09050000327', 2), ('arguing', 1), ('claims', 2), ('09050005321', 1), ('arngd', 1), ('marriage', 5), ('walkin', 1), ('unfortuntly', 1), ('snake', 3), ('bites', 1), ('dancing', 2), ('frnt', 1), ('sayin', 1), ('bite', 3), ('izzit', 7), ('150', 9), ('textand', 1), ('08002988890', 1), ('wife', 17), ('kids', 7), ('jjc', 1), ('tendencies', 1), ('headache', 3), ('quit', 4), ('jazz', 5), ('yogasana', 5), ('em', 10), ('meive', 1), ('hardly', 2), ('gotany', 1), ('srsly', 1), ('yi', 1), ('spree', 6), ('80878', 2), (\"t's\", 7), ('08715705022', 3), ('1x150p', 4), ('2000', 3), ('pound', 7), ('08712402050', 2), ('lines', 3), ('10ppm', 2), ('ag', 2), ('promo', 2), ('07753741225', 1), ('08715203677', 1), ('42478', 1), ('24', 4), ('grand', 4), ('prix', 1), ('stands', 1), ('nitz', 1), ('announcement', 5), ('542', 3), ('0825', 1), ('exhausted', 3), ('train', 9), ('pie', 4), (\"mum's\", 3), ('present', 7), ('ar', 8), ('blastin', 1), ('tsunamis', 2), ('occur', 1), ('rajnikant', 1), ('stopped', 5), ('swimming', 3), ('indian', 5), ('ocean', 1), ('noon', 8), ('xclusive', 1), ('clubsaisai', 1), ('2morow', 3), ('28', 4), ('soiree', 2), ('speciale', 1), ('zouk', 1), ('nichols', 3), ('paris', 4), ('roses', 1), ('ladies', 6), ('07946746291', 1), ('07880867867', 1), ('bridgwater', 1), ('banter', 1), ('neva', 18), ('imma', 7), ('somethin', 5), ('22', 2), ('euro2004', 3), ('results', 4), ('daily', 5), ('83222', 2), ('valentine', 8), ('game', 18), ('answers', 4), ('ques', 2), ('suits', 2), ('dependents', 1), ('thanx4', 1), ('cer', 1), ('often', 4), ('future', 7), ('hundreds', 1), ('handsomes', 1), ('beauties', 1), ('aunties', 1), ('uncles', 2), ('shock', 2), ('shuhui', 7), ('leona', 3), ('reaction', 2), ('family', 20), ('happiness', 10), ('snow', 14), ('weather', 6), ('together', 21), ('friendships', 1), ('grow', 2), ('dismay', 1), ('alex', 7), ('concerned', 1), ('pub', 18), ('bud', 4), ('drinks', 4), ('useful', 2), ('officially', 2), ('paid', 7), ('market', 3), ('tootsie', 1), ('pop', 3), ('longer', 8), ('darren', 12), ('textbuddy', 2), ('area', 13), ('25p', 7), ('postcode', 3), ('gaytextbuddy', 2), ('89693', 2), ('vodafone', 5), ('4882', 1), ('å£350', 10), ('matches', 7), ('09064019014', 1), ('forwarded', 7), ('seventeen', 1), ('seven', 3), ('hundred', 2), ('ml', 1), ('\\x89ûò', 9), ('voucher', 16), ('holder', 6), ('weeks', 15), ('pc', 8), ('tlp', 3), ('expressoffer', 2), ('ts', 9), ('80062', 5), ('sweetheart', 2), ('biola', 1), ('login', 6), ('dad', 28), ('fetching', 1), ('restock', 1), ('thanksgiving', 3), ('sound', 11), ('effects', 2), ('brighten', 1), ('wee', 2), ('thursday', 4), ('allo', 1), ('braved', 1), ('taken', 4), ('trains', 2), ('triumphed', 1), ('we\\x89û÷re', 3), ('b\\x89û÷ham', 1), ('jolly', 2), ('cartoon', 2), ('listening', 3), ('temple', 2), ('church', 2), ('uncomfortable', 1), ('08715203694', 1), ('40533', 2), ('31', 3), ('email', 17), ('rstm', 2), ('sw7', 2), ('3ss', 2), ('gentle', 5), ('sonetimes', 1), ('rough', 1), ('starting', 8), ('panic', 2), ('tuesday', 8), ('wesleys', 1), ('town', 27), ('bet', 4), ('hella', 4), ('drugs', 10), ('drug', 5), (\"dealer's\", 1), ('impatient', 2), ('sun', 16), ('earth', 5), ('cloud', 1), ('river', 2), ('evng', 4), ('wikipedia', 1), ('88800', 1), ('89034', 1), ('premium', 2), ('08718711108', 1), ('under', 6), ('lays', 1), ('envelope', 3), ('paper', 9), ('repent', 1), ('fetch', 6), ('de', 21), ('prepare', 4), ('positions', 1), ('kama', 1), ('sutra', 1), ('en', 2), ('nange', 1), ('bakra', 1), ('kalstiya', 1), (\"carlos'll\", 1), ('lakhs', 1), ('ho', 7), ('belly', 5), ('laugh', 10), ('sun0819', 1), ('posts', 2), ('seem', 4), ('08452810071', 1), ('ditto', 1), ('saying', 19), ('peace', 2), ('knw', 13), ('wetherspoons', 1), ('piggy', 1), ('awake', 7), (\"u're\", 6), ('freaky', 1), ('yelling', 2), ('scrappy', 1), ('lonely', 5), (\"'hex'\", 1), ('explain', 4), ('sdryb8i', 1), ('xy', 9), ('sue', 2), ('lapdancer', 1), ('sex', 12), ('bedroom', 5), ('89555', 3), ('textoperator', 3), ('g2', 1), ('1da', 1), ('150ppmsg', 1), ('king', 8), ('crying', 1), ('building', 3), ('map', 3), ('imprtant', 1), ('tomorw', 1), ('cherthala', 1), ('cochin', 2), ('bfore', 1), ('accordingly', 3), ('tmorow', 1), ('engaged', 1), ('ans', 10), ('torch', 7), ('bold', 7), ('448712404000', 1), ('08712404000', 1), ('farm', 3), ('4d', 2), ('1405', 1), ('1680', 1), ('1843', 1), ('law', 6), ('purchase', 3), ('poop', 2), ('looks', 7), ('gpu', 2), ('entrepreneurs', 1), (\"alex's\", 1), ('corporation', 1), ('gap', 4), ('\\x89û', 15), ('prevent', 1), ('dehydration', 1), ('fluids', 1), ('weird', 4), ('idea', 7), (\"sms'd\", 1), ('away', 24), ('trek', 1), ('harri', 1), ('drivin', 4), ('fantastic', 10), ('gage', 1), ('deck', 1), ('cnupdates', 1), ('newsletter', 1), ('alerts', 1), ('height', 3), ('aeronautics', 1), ('professors', 1), ('wer', 3), ('calld', 1), ('sit', 6), ('aeroplane', 1), ('aftr', 5), ('ws', 2), ('students', 4), ('dey', 6), ('hurried', 1), ('seems', 8), ('timing', 5), ('shitstorm', 1), ('attributed', 1), ('08714712388', 1), ('7pm', 7), ('stress', 3), ('dorm', 2), ('sell', 10), ('449071512431', 1), ('å£1250', 2), ('09071512433', 2), ('b4', 13), ('050703', 2), ('csbcm4235wc1n3xx', 3), ('callcost', 2), ('mobilesvary', 2), ('maxå£7', 3), ('sth', 1), ('specs', 1), ('px3748', 1), ('08714712394', 1), ('macha', 1), ('upset', 4), ('assume', 4), ('mindset', 1), (\"s'fine\", 1), ('wondar', 1), ('flim', 1), ('cookies', 2), ('jelly', 1), ('running', 7), ('admit', 2), ('mad', 5), ('correction', 2), ('scrumptious', 1), ('wants', 21), ('ba', 2), ('dao', 1), ('half8th', 1), ('exactly', 4), ('jide', 1), ('visiting', 1), ('alertfrom', 1), ('jeri', 1), ('stewartsize', 1), ('2kbsubject', 1), ('low', 3), ('prescripiton', 1), ('drvgsto', 1), ('spring', 2), ('yay', 6), ('steak', 1), ('twice', 5), ('neglect', 1), ('opportunity', 5), ('add', 8), ('prayers', 1), ('nokia6650', 2), ('å£10', 9), ('txtauction', 5), ('81151', 3), ('4t', 3), ('ctxt', 2), ('mtmsg', 2), ('mayb', 13), ('rite', 19), ('faster', 4), ('gals', 5), ('attached', 2), ('glad', 10), (\"hadn't\", 1), ('clocks', 1), ('shouted', 2), ('realised', 1), ('wahay', 1), ('shorter', 3), ('gaze', 1), ('eyes', 8), ('930', 2), ('subscribed', 3), ('82324', 1), ('helpline', 2), ('08706091795', 2), (\"we've\", 4), ('spoken', 4), ('gist', 2), ('realize', 3), ('40', 2), ('thousands', 2), ('tattoos', 1), ('premier', 2), ('gimme', 3), ('lip', 2), ('caveboy', 1), ('library', 8), ('confused', 2), ('holla', 7), ('anyone', 15), ('spare', 2), ('faith', 2), ('makes', 21), ('possible', 7), (\"phone's\", 1), ('vibrate', 1), ('acting', 1), ('å£79', 1), ('08704439680ts', 1), ('grandmas', 1), ('hungover', 1), ('unclaimed', 1), ('09066368327', 1), ('closingdate04', 1), ('claimcode', 1), ('m39m51', 1), ('50pmmorefrommobile2bremoved', 1), ('mobypobox734ls27yf', 1), ('gua', 1), ('mt', 3), ('faber', 1), ('yest', 7), ('wishing', 8), ('mas', 1), ('city', 5), ('summer', 7), ('store', 10), ('88039', 4), ('skilgme', 4), ('tscs087147403231winawk', 3), ('50perwksub', 3), ('goin', 22), ('meetin', 4), ('wonder', 11), ('tis', 3), (\"they're\", 7), ('dramatic', 1), ('schools', 2), ('closed', 4), ('apparently', 4), ('drive', 20), ('inch', 2), ('anywhere', 3), ('damn', 6), ('hunting', 1), ('drunkard', 1), ('wats', 6), ('idc', 1), ('weaseling', 1), ('space', 6), ('picking', 10), ('trash', 1), ('smokes', 4), ('begging', 2), ('lovely', 12), ('sing', 5), ('guy', 24), ('slave', 8), ('punish', 1), ('beerage', 1), ('0578', 2), ('randomlly', 1), ('opening', 2), (\"couldn't\", 5), (\"she's\", 18), ('fixes', 1), ('spelling', 1), ('diff', 3), ('living', 5), ('perfect', 4), ('community', 3), ('100p', 1), ('polyphonic', 4), ('087018728737', 1), ('toppoly', 1), ('tune', 1), ('subpoly', 2), ('81618', 2), ('pole', 2), ('08718727870', 3), ('enjoyed', 4), ('fondly', 1), ('bein', 3), ('thot', 2), ('dogbreath', 1), ('sounding', 1), ('jan', 3), ('omg', 8), ('weighed', 1), ('woohoo', 1), ('uncountable', 1), ('dictionary', 2), ('pieces', 3), ('9996', 1), ('14thmarch', 1), ('availa', 1), ('petey', 2), ('whereare', 1), ('friendsare', 1), ('thekingshead', 1), ('canlove', 1), ('nic', 2), ('pobox84', 4), ('m263uz', 2), ('appt', 4), ('no1', 5), ('8077', 1), ('mates', 10), ('getzed', 7), ('36504', 4), ('w45wq', 3), ('norm150p', 3), ('cashto', 2), ('08000407165', 2), ('getstop', 2), ('88222', 2), ('php', 2), ('rg21', 1), ('4jx', 1), ('dled', 1), ('3d', 4), ('imp', 2), (\"ain't\", 4), ('smokin', 1), ('boooo', 1), ('bec', 2), ('ugh', 12), ('nervous', 2), ('costumes', 1), ('gift', 23), ('yowifes', 1), ('hint', 3), ('borrow', 2), ('bag', 6), ('outbid', 1), ('simonwatson5120', 1), ('shinco', 1), ('plyr', 1), ('bid', 7), ('smsrewards', 1), ('notifications', 1), ('ones', 9), ('model', 7), ('youi', 1), ('galileo', 2), ('dobby', 1), ('responding', 3), ('boo', 6), ('enjoyin', 1), ('yourjob', 1), ('gettin', 9), ('hunny', 4), ('iåõllspeak', 1), ('2u', 3), ('soonlots', 1), ('loveme', 2), ('xxxx', 3), ('starshine', 1), ('ache', 4), ('sips', 1), ('cappuccino', 2), ('teasing', 6), ('smsservices', 1), ('yourinclusive', 1), ('comuk', 7), ('3qxj9', 3), ('extra', 11), ('08702840625', 3), ('220', 2), ('cm2', 2), ('9ae', 3), ('alfie', 3), (\"moon's\", 3), ('m8s', 3), ('charity', 9), ('8007', 19), ('nokias', 3), ('polys', 8), ('zed', 6), ('08701417012', 3), ('profit', 4), ('bits', 1), ('hahaha', 1), ('brain', 1), ('turned', 1), ('green', 5), ('burial', 1), ('mojibiola', 2), ('09065174042', 1), ('cust', 3), ('07821230901', 1), ('mate', 14), ('rv', 1), ('hol', 2), ('havenåõt', 2), ('ages', 5), ('rvx', 1), ('skyped', 2), ('kz', 2), ('sura', 5), ('given', 2), ('ultimatum', 2), ('countin', 2), ('aburo', 2), ('surely', 6), ('successful', 2), ('five', 6), ('08002888812', 2), ('inconsiderate', 2), ('nag', 2), ('recession', 2), ('hence', 2), (\"month's\", 3), ('wed', 6), ('soo', 2), ('understand', 11), ('2morrow', 3), ('comprehensive', 1), (\"prashanthettan's\", 1), ('mother', 7), ('09066350750', 2), ('ibiza', 4), ('await', 17), ('collection', 23), ('sk3', 3), ('8wp', 3), ('ppm', 4), ('meanwhile', 4), ('suite', 4), ('xavier', 3), ('seconds', 3), ('warning', 2), ('samantha', 1), ('playing', 5), (\"jay's\", 3), ('guitar', 1), ('impress', 1), ('doug', 1), ('realizes', 1), ('stomach', 3), ('trauma', 1), ('swear', 1), ('matter', 6), ('shoes', 2), ('wan', 54), ('inner', 1), ('tigress', 1), ('version', 4), ('poor', 9), ('urfeeling', 1), ('bettersn', 1), ('probthat', 1), ('overdose', 1), ('careful', 4), ('spk', 4), ('sn', 3), ('lovejen', 1), ('returned', 3), ('fall', 5), ('worlds', 2), ('discreet', 2), ('vip', 4), ('83110', 1), ('hai', 7), ('ana', 1), ('sathy', 1), ('rto', 1), ('spoons', 1), ('named', 2), ('tampa', 8), ('genius', 2), ('whenever', 11), ('connections', 2), ('sort', 11), ('lotta', 2), ('corvettes', 1), ('lately', 2), ('yrs', 8), ('supply', 2), ('cds', 4), ('virgin', 2), ('records', 5), ('mystery', 2), ('09061104283', 1), ('smsco', 2), ('50pm', 1), ('approx', 2), ('consider', 2), ('walls', 3), ('bunkers', 1), ('peaceful', 2), ('07808', 1), ('xxxxxx', 1), ('08719899217', 1), ('41685', 2), ('07', 2), ('posh', 1), ('birds', 5), ('chaps', 1), ('user', 9), ('trial', 1), ('prods', 1), ('champneys', 1), ('dob', 1), ('asap', 11), ('0721072', 1), ('philosophical', 1), ('hole', 1), ('saved', 3), ('drop', 16), ('cuddle', 3), ('nap', 3), ('atleast', 1), ('otherwise', 7), ('shakespeare', 1), ('shesil', 3), ('10k', 2), ('5k', 1), ('travel', 4), ('09064011000', 1), ('ntt', 7), ('cr01327bt', 1), ('fixedline', 1), ('castor', 2), ('liverpool', 2), ('played', 3), ('mid', 6), ('09058094565', 2), ('09065171142', 2), ('stopsms', 2), ('08', 2), ('reminder', 3), ('downloaded', 2), ('doit', 1), ('mymoby', 1), ('knew', 10), ('woul', 1), ('lead', 5), ('wanting', 4), ('curfew', 1), ('gibe', 1), (\"'til\", 3), ('midnight', 7), ('getsleep', 1), ('studdying', 1), ('ear', 2), ('training', 8), ('massages', 1), ('oil', 2), ('sup', 6), ('yoyyooo', 1), ('permissions', 1), ('mac', 2), ('usb', 2), ('gibbs', 2), ('unsold', 5), ('mike', 1), ('hussey', 1), ('failed', 3), ('sad', 18), ('unbelievable', 2), ('faglord', 1), ('murder', 2), ('nutter', 1), ('cutter', 1), ('ctter', 1), ('cttergg', 1), ('cttargg', 1), ('ctargg', 1), ('ctagg', 1), ('ie', 1), ('thus', 1), ('superb', 2), ('grateful', 1), ('happier', 1), ('agents', 1), ('experiment', 1), ('due', 6), ('several', 2), ('outstanding', 3), ('invoices', 1), ('teach', 6), ('smell', 1), ('tobacco', 1), ('derek', 4), ('taylor', 2), ('assumed', 1), ('worst', 2), ('charles', 2), ('lastest', 1), ('stereophonics', 1), ('marley', 1), ('dizzee', 1), ('racal', 1), ('libertines', 1), ('strokes', 1), ('nookii', 1), ('bookmark', 1), ('plus', 25), ('grinule', 1), ('greet', 4), ('white', 5), ('fudge', 1), ('oreos', 1), ('stores', 2), ('january', 5), ('male', 3), ('sale', 8), ('gay', 8), ('cheaper', 5), ('08709222922', 2), ('5p', 3), ('8p', 2), ('peak', 2), ('08712460324', 8), (\"zaher's\", 1), ('ym', 5), ('nauseous', 1), ('pissed', 5), ('sweets', 2), ('pig', 4), ('dieting', 1), ('chip', 2), ('iam', 4), ('addicted', 2), ('msging', 2), ('wrong', 12), ('don', 15), (\"'t\", 2), ('photo', 7), ('registered', 7), ('yck', 2), ('ma', 4), (\"ashley's\", 1), ('avalarr', 1), ('hollalater', 1), ('attend', 4), ('rounds', 1), ('blogging', 1), ('magicalsongs', 1), ('blogspot', 1), ('diet', 4), ('ate', 6), ('slices', 1), ('kvb', 1), ('88600', 3), ('å£1million', 1), ('ppt150x3', 1), ('box403', 1), ('w1t1jy', 1), ('alternative', 1), (\"term's\", 1), ('ore', 1), ('mo', 8), ('owo', 1), ('moments', 3), ('fro', 1), ('wherever', 5), ('samus', 1), ('shoulders', 1), ('matthew', 1), ('09063440451', 1), ('lux', 2), ('ppm150', 1), ('box334', 1), ('sk38xh', 4), ('wear', 5), ('jeans', 2), ('fever', 4), ('vomitin', 1), ('09061749602', 1), ('528', 1), ('hp20', 1), ('1yf', 1), ('stuffed', 1), ('bleh', 2), ('least', 13), ('writhing', 1), ('tons', 2), ('paypal', 1), ('voila', 1), ('pockets', 1), ('theyre', 1), ('places', 5), ('medical', 8), ('folks', 1), ('sorta', 1), ('blown', 1), ('recently', 7), ('scores', 2), ('sophas', 1), ('secondary', 1), ('application', 2), ('applying', 1), ('ogunrinde', 1), ('expensive', 6), ('photos', 5), ('114', 3), ('14', 3), ('tcr', 3), ('w1', 4), ('lodging', 1), ('chk', 1), ('ms', 2), ('dict', 1), ('shb', 1), ('truth', 9), ('against', 6), ('gravity', 2), ('carefully', 2), ('feels', 7), ('heavy', 5), (\"dobby's\", 1), ('bowl', 4), ('filthy', 2), ('stories', 1), (\"u'll\", 6), ('brand', 6), ('decision', 3), ('simpler', 1), ('magical', 2), ('welp', 3), ('retired', 1), ('natwest', 1), ('å£800', 7), ('09050001808', 1), ('m95', 1), ('valid12hrs', 2), ('chad', 1), ('gymnastics', 1), ('site', 5), ('christians', 1), ('necklace', 2), ('token', 1), ('liking', 1), ('aptitude', 1), ('15', 3), ('horse', 1), ('racing', 2), ('earlier', 14), ('chicken', 3), ('rice', 2), ('closes', 2), ('wrongly', 1), ('ad', 5), ('crap', 2), ('borin', 2), ('boggy', 1), ('boring', 5), ('biatch', 1), ('nxt', 7), ('hesitate', 1), ('weakness', 1), ('notebook', 1), ('salary', 5), ('chocolate', 2), ('potential', 2), ('talent', 2), ('reckon', 2), ('eightish', 1), ('carpark', 1), ('3g', 5), ('videophones', 3), ('09063458130', 2), ('videochat', 3), ('java', 3), ('dload', 3), ('polyph', 2), ('noline', 3), ('rentl', 3), ('fuckin', 3), ('dropped', 5), ('loving', 17), ('yun', 5), ('ubi', 3), ('67441233', 1), ('irene', 1), ('ere', 1), ('bus8', 1), ('65', 2), ('61', 1), ('66', 1), ('382', 1), ('cres', 1), ('tech', 2), ('6ph', 1), ('5wkg', 1), ('ì¬n', 1), ('sd', 1), ('butt', 3), ('sore', 4), ('relaxing', 1), ('7am', 1), ('party', 14), ('5ish', 1), ('stripes', 1), ('skirt', 1), ('miracle', 3), ('jesus', 4), ('blessed', 1), ('escalator', 1), ('quiet', 2), ('beth', 1), ('aunts', 2), ('charlie', 1), ('helen', 2), ('heard', 11), ('syllabus', 1), ('panasonic', 1), ('bluetoothhdset', 1), ('doublemins', 1), ('doubletxt', 1), ('contract', 6), ('30pm', 1), ('poyyarikatur', 1), ('kolathupalayam', 1), ('unjalur', 1), ('erode', 1), ('hero', 1), ('apt', 1), ('kerala', 5), ('terrible', 3), ('fan', 2), ('meat', 1), ('lovers', 2), ('supreme', 1), ('regret', 4), ('cudnt', 1), ('drove', 2), ('ctla', 1), ('ente', 1), ('ishtamayoo', 1), ('bakrid', 1), ('exe', 3), ('glorious', 1), ('anniversary', 2), ('j', 7), ('finds', 1), ('prey', 3), ('coaxing', 1), ('images', 1), ('fond', 1), ('souveniers', 1), ('cougar', 1), ('pen', 2), ('secretly', 2), ('fancies', 3), ('09065394514', 1), ('datebox1282essexcm61xn', 2), ('pattern', 2), ('throat', 4), ('scratches', 1), ('plm', 2), ('asleep', 5), ('foreign', 3), ('stamps', 3), ('lecture', 4), ('sheffield', 2), ('nanny', 1), ('raise', 4), ('zoe', 2), ('shitin', 1), ('defo', 1), ('hardest', 1), ('millions', 1), ('lekdog', 1), ('setting', 2), ('filling', 2), ('loverboy', 6), ('blankets', 1), ('sufficient', 2), ('thx', 2), (\"'its\", 1), ('nyt', 10), ('edison', 1), ('rightly', 1), ('fool', 3), ('speechless', 2), ('during', 7), ('viva', 1), ('gm', 2), ('atten', 1), ('roast', 3), ('iåõd', 1), ('09058097218', 1), ('ls15hb', 2), ('concentrate', 2), ('educational', 1), (\"1000's\", 2), ('flirting', 2), ('bloke', 2), ('chatting', 3), ('walked', 3), ('doesnåõt', 1), ('serious', 6), ('kickoff', 1), ('euro', 2), ('june', 4), ('3rd', 2), ('sells', 2), ('data', 1), ('analysis', 1), ('thesis', 2), ('belligerent', 1), ('hiya', 9), ('april', 6), ('les', 1), ('rudi', 1), ('snoring', 1), ('drunk', 3), ('sends', 2), ('ink', 1), ('515', 1), (\"how're\", 1), ('throwing', 1), ('deciding', 2), ('eastenders', 1), ('flower', 4), ('compare', 1), ('herself', 1), ('violet', 1), ('tulip', 1), ('lily', 1), ('84025', 2), ('wkent', 1), ('150p16', 1), ('technical', 4), ('support', 12), ('process', 6), ('networking', 3), ('prepared', 2), ('finalise', 1), ('works', 6), ('flirtparty', 1), ('replys150', 1), ('bitch', 5), ('dentist', 1), ('09058091854', 1), ('revealed', 4), ('box385', 1), ('m6', 1), ('6wu', 1), ('bathing', 4), ('09050003091', 2), ('c52', 2), ('xchat', 5), ('lul', 1), ('juicy', 3), ('nurses', 1), ('shes', 1), ('obese', 1), ('oyea', 1), ('oi', 2), ('ami', 1), ('parchi', 1), ('na', 11), ('kicchu', 1), ('kaaj', 1), ('korte', 1), ('iccha', 1), ('korche', 1), ('tul', 1), ('movies', 7), ('copies', 1), ('sculpture', 1), ('convey', 4), ('regards', 4), ('surya', 1), ('vijay', 3), ('pokkiri', 1), ('pic', 17), ('dearer', 1), ('dem', 2), ('attraction', 1), ('thoughts', 2), ('breath', 2), ('sorrows', 1), ('fight', 4), ('craziest', 2), ('proove', 1), ('planet', 2), ('singing', 2), ('praises', 1), ('curry', 2), ('makiing', 1), ('sambar', 1), (\"fr'ndship\", 1), ('needle', 1), ('clock', 4), ('evn', 2), ('itz', 2), ('4few', 1), ('alwys', 2), ('conected', 1), ('spatula', 1), ('hands', 4), ('sipix', 3), ('digital', 5), ('09061221061', 1), ('28days', 1), ('box177', 1), ('m221bp', 1), ('2yr', 1), ('warranty', 1), ('p', 10), ('på£3', 1), ('99', 1), ('09061790121', 2), ('doctor', 9), (\"cali's\", 1), ('complexities', 1), ('freely', 1), ('taxes', 1), ('outrageous', 1), ('tomorro', 1), ('ryder', 1), ('subscriber', 4), ('receipt', 5), ('elvis', 1), ('presleys', 1), ('fret', 2), ('strips', 1), ('postal', 1), ('gifts', 1), ('cliff', 1), ('ne', 3), ('interesting', 3), ('wrking', 1), ('uni', 5), ('depressed', 2), ('sittin', 1), ('wind', 2), ('drops', 1), ('black', 8), ('aiyah', 6), ('information', 11), ('o2', 6), ('onto', 7), ('urawinner', 6), ('surprise', 10), ('awaiting', 8), ('hen', 1), ('italian', 5), ('grins', 12), ('smoked', 1), ('math', 2), ('dhoni', 2), ('rocks', 2), ('teju', 1), ('hourish', 1), ('ground', 3), ('amla', 1), ('durban', 2), ('convenience', 1), ('evaluation', 1), ('449050000301', 1), ('09050000301', 1), ('speed', 3), ('speedchat', 2), ('80155', 1), ('swap', 1), ('chatter', 1), ('chat80155', 1), ('rcd', 1), ('cancel', 8), ('cheyyamo', 1), ('08000776320', 2), ('aiyar', 4), ('survey', 2), ('80160', 1), ('txt43', 1), ('catching', 3), ('throws', 1), ('gal', 9), ('falls', 3), ('brothers', 1), ('whos', 3), ('hmv1', 1), ('errors', 1), ('difficulties', 2), ('howz', 4), ('tau', 1), ('sar', 2), ('piah', 1), ('1stchoice', 1), ('08707808226', 1), ('wearing', 4), ('film', 10), (\"let's\", 4), (\"shade's\", 1), ('copied', 1), ('notified', 1), ('luck', 13), ('marketing', 1), ('84122', 1), ('08450542832', 1), ('raining', 6), ('station', 6), ('tank', 2), ('virgins', 1), ('4fil', 2), ('sexual', 1), ('theirs', 1), ('cute', 7), ('69911', 1), ('sitter', 1), ('kaitlyn', 1), ('adult', 4), ('danger', 1), ('peeps', 1), ('comment', 1), ('veggie', 1), ('neighbors', 1), ('computerless', 1), ('balloon', 1), ('silently', 2), ('drms', 2), ('roommate', 3), ('wrc', 2), ('rally', 2), ('oz', 4), ('lucozade', 2), ('energy', 7), ('le', 2), ('61200', 1), ('packs', 1), ('itcould', 1), ('melody', 1), ('horrible', 5), ('macs', 1), ('toot', 2), ('bigger', 3), ('nw', 5), ('hme', 1), ('islands', 3), ('chennai', 14), ('velachery', 1), ('flippin', 1), ('breaking', 1), ('cstore', 1), ('annoying', 2), ('hangin', 1), ('makin', 2), ('lodge', 1), ('worrying', 1), ('shame', 4), ('quizzes', 1), ('popcorn', 2), ('jordan', 4), ('celeb', 2), ('pocketbabe', 2), ('087016248', 1), ('voicemail', 2), ('08719181503', 1), ('thin', 1), ('arguments', 1), ('fed', 1), ('himso', 1), ('2go', 3), ('neft', 1), ('credited', 3), ('beneficiary', 1), ('tuition', 5), ('understanding', 3), ('choice', 4), ('enter', 11), ('subs16', 1), ('1win150ppmx3', 1), ('appreciated', 2), ('semi', 1), ('apart', 2), ('delivered', 4), ('exp', 1), ('30apr', 1), ('strong', 7), ('arms', 4), ('maaaan', 1), ('guessin', 1), ('walmart', 3), ('ilol', 1), ('personally', 1), ('wuldnt', 1), ('mite', 4), ('creepy', 2), ('lunchtime', 1), ('organise', 1), ('08719181513', 1), ('complete', 7), ('passable', 1), ('score', 3), ('phd', 1), ('5years', 1), ('easier', 4), ('nok', 1), ('87021', 2), ('txtin', 2), ('4info', 2), ('prakesh', 1), ('apps', 3), ('rofl', 3), ('betta', 1), ('invest', 2), ('anti', 3), ('aging', 1), ('products', 1), ('1hr', 2), ('delay', 2), ('accommodation', 1), ('various', 3), ('global', 1), ('phb1', 1), ('ph', 3), ('08700435505150p', 1), ('submitting', 1), ('84128', 3), ('textcomp', 3), ('08712405020', 4), (\"1's\", 2), ('snatch', 1), ('purse', 2), ('drivby', 1), ('0quit', 1), ('edrunk', 1), ('iff', 1), ('pthis', 1), ('senrd', 1), ('dnot', 1), ('dancce', 1), ('drum', 1), ('basq', 1), ('ihave', 1), ('2nhite', 1), ('ros', 1), ('xxxxxxx', 1), ('morn', 3), ('relieved', 1), ('westonzoyland', 1), ('greatness', 1), ('europe', 2), ('nobody', 9), ('chinese', 5), ('docs', 3), ('songs', 4), ('havin', 3), ('goin2bed', 1), ('only1more', 1), ('mc', 1), ('hun', 5), ('2nite', 10), ('every1', 1), ('ava', 1), ('goodtime', 1), ('oli', 1), ('rang', 3), ('melnite', 1), ('ifink', 1), ('sorted', 3), ('everythin', 1), ('mon', 9), ('l8rs', 1), ('08712402779', 1), ('flip', 2), ('shun', 1), ('bian', 1), ('glass', 1), ('exhibition', 1), ('el', 1), ('nino', 1), ('himself', 1), ('cbe', 5), ('honey', 8), ('jd', 1), ('accounts', 1), ('executive', 2), (\"parents'\", 2), ('picked', 7), ('downstem', 1), ('08718730555', 1), ('wahala', 1), ('inperialmusic', 1), ('listening2the', 1), ('weirdest', 2), ('byåóleafcutter', 1), ('johnåó', 1), ('insects', 1), ('molested', 1), ('plumbing', 1), ('remixed', 1), ('evil', 1), ('acid', 1), ('didntgive', 1), ('bellearlier', 1), ('exact', 4), ('09096102316', 1), ('2moro', 3), ('jane', 3), ('callså£1', 5), ('minmoremobsemspobox45po139wa', 2), ('tee', 2), ('cheery', 1), ('cell', 7), ('thts', 6), ('dough', 2), ('control', 2), ('80488', 5), ('weirdo', 1), ('mode', 7), ('stalk', 1), ('profiles', 1), ('jerry', 1), ('irritates', 1), ('fails', 1), ('express', 2), ('drinkin', 2), ('wondering', 9), ('others', 9), ('dog', 7), ('tour', 5), ('5pm', 2), ('95', 1), ('pax', 1), ('deposit', 1), ('jap', 1), ('disappeared', 1), ('birthdate', 2), ('certificate', 1), ('publish', 1), ('dreams', 14), ('nydc', 2), ('wheellock', 1), ('destination', 1), ('fifty', 1), ('favour', 2), ('settling', 1), ('happenin', 1), ('ola', 2), ('cocksuckers', 1), ('ipads', 1), ('worthless', 1), ('garbage', 2), ('novelty', 1), ('items', 2), ('fran', 3), ('broke', 5), ('knackered', 3), ('janx', 1), ('dads', 1), ('designation', 1), ('software', 3), ('developer', 1), ('jamster', 4), ('videosound', 1), ('gold', 2), ('videosounds', 1), ('logos', 2), ('musicnews', 1), ('09701213186', 1), ('lions', 2), ('lionm', 2), ('lionp', 2), ('ringtones', 9), ('original', 4), ('3gbp', 3), ('jokin', 2), ('spirit', 1), ('bb', 8), ('shattered', 1), ('alrite', 7), ('idiot', 4), ('girlie', 1), ('colours', 2), ('darker', 1), ('styling', 1), ('whenevr', 3), ('gray', 1), ('remembr', 2), ('listn', 1), ('watevr', 1), ('\\x89ûïharry', 1), ('potter', 2), ('phoenix', 2), ('harry', 2), ('among', 3), ('readers', 2), ('shd', 7), ('minus', 1), ('paragraphs', 1), ('coveragd', 1), ('vasai', 1), (\"4'o\", 1), ('retard', 1), ('bathroom', 1), ('sang', 1), (\"'uptown\", 1), (\"girl'\", 1), (\"80's\", 1), ('february', 4), ('rush', 4), ('icic', 1), ('syria', 1), ('canada', 2), ('cares', 2), ('goodnoon', 2), ('gauge', 1), (\"patty's\", 1), ('interest', 2), ('vl', 8), ('completing', 1), ('ax', 1), ('chill', 3), ('6hrs', 4), ('surgical', 1), ('emergency', 1), ('unfolds', 1), ('married', 5), ('frens', 8), ('korean', 1), (\"leona's\", 1), ('fredericksburg', 1), ('que', 1), ('pases', 1), ('buen', 1), ('tiempo', 1), ('chillin', 3), ('super', 6), ('free2day', 1), (\"george's\", 1), ('89080', 1), ('saucy', 2), ('0870241182716', 1), ('theres', 2), ('tmrw', 2), ('compass', 1), ('soul', 2), ('gnun', 1), ('way2sms', 1), ('baaaaabe', 1), ('misss', 1), ('youuuuu', 1), ('ned', 2), ('convince', 1), ('tht', 9), ('witot', 1), ('hurting', 2), ('main', 2), ('sweetie', 2), ('blackberry', 4), ('buyer', 1), ('4a', 2), ('pple', 5), ('marry', 5), ('becz', 1), ('undrstndng', 1), ('avoids', 1), ('problems', 6), ('chain', 3), ('suffer', 1), ('whn', 2), ('arrested', 3), ('suntec', 3), ('steamboat', 1), ('dance', 2), ('moji', 4), ('forgive', 1), ('messenger', 3), ('reaching', 9), ('tp', 1), ('fantasies', 4), ('08707509020', 4), ('20p', 7), ('1327', 5), ('croydon', 5), ('cr9', 5), ('5wb', 5), ('0870', 6), ('bbq', 1), ('6ish', 1), ('everyso', 1), ('panicks', 1), ('fill', 4), ('bar', 2), ('write', 8), ('cover', 6), ('screen', 1), ('gently', 2), ('bears', 2), ('nick', 1), ('tom', 3), ('fact', 10), ('types', 1), ('upload', 3), ('08718730666', 2), ('auntie', 1), ('huai', 1), ('juan', 2), ('linerental', 4), ('lf56', 1), ('tlk', 1), ('ideal', 2), ('path', 1), ('appear', 1), ('front', 2), ('paths', 1), ('walking', 7), ('arm', 2), ('shot', 3), ('reserve', 1), ('thirunelvali', 1), ('tirunelvali', 2), ('tackle', 1), ('storming', 1), ('phne', 1), ('wt', 1), ('meaning', 4), ('margaret', 1), ('girlfrnd', 1), ('grahmbell', 1), ('invnted', 1), ('telphone', 1), ('moral', 4), ('4get', 2), ('popped', 3), ('tonght', 1), ('ploughing', 1), ('pile', 1), ('ironing', 1), ('chinky', 1), ('wi', 1), ('nz', 1), ('players', 7), ('effect', 2), ('aust', 1), ('bk', 1), ('cafe', 6), ('recharged', 1), ('kidding', 2), ('papa', 1), ('shld', 3), ('stretch', 2), ('detailed', 1), ('sinco', 1), ('payee', 1), ('icicibank', 1), ('urn', 2), ('beware', 2), ('frauds', 1), ('share', 5), ('disclose', 1), ('vote', 5), ('caring', 3), ('losers', 1), ('kaiez', 2), ('option', 3), ('beta', 1), ('practicing', 2), ('babies', 2), ('noncomittal', 1), ('beneath', 1), ('pale', 1), ('moon', 4), ('goodnite', 2), ('msgrcvdhg', 4), ('snickering', 1), ('tells', 5), ('totally', 5), ('chords', 1), ('rem', 5), ('silver', 2), ('lmao', 7), ('silence', 2), ('win150ppmx3age16', 1), ('exams', 5), ('revision', 2), ('boyf', 1), ('interviw', 1), ('exeter', 2), ('spreadsheet', 1), ('whose', 2), ('determine', 1), ('entire', 1), ('arsenal', 3), ('dartboard', 1), ('condition', 2), ('doubles', 1), ('trebles', 1), ('coat', 2), ('painful', 3), ('everybody', 3), ('recognises', 1), ('alone', 17), ('ve', 3), ('wisheds', 1), ('intrepid', 1), ('duo', 1), ('missin', 3), ('guilty', 3), ('aiya', 4), ('cardiff', 3), ('addie', 3), ('tues', 2), ('breeze', 1), ('bright', 4), ('fresh', 1), ('twittering', 1), ('restaurant', 2), ('textpod', 4), ('pod', 3), ('ducking', 1), ('chinchillas', 1), ('function', 1), ('headstart', 1), ('desperate', 2), ('rummer', 1), ('flying', 1), ('monkeys', 2), ('certainly', 3), ('optin', 1), ('bbc', 1), ('charts', 1), ('thanks2', 1), ('rajini', 1), ('practical', 2), ('summers', 1), ('matched', 1), ('optout', 4), ('help08714742804', 1), ('spys', 1), ('mails', 2), ('claire', 3), ('09099725823', 1), ('bought', 5), ('costing', 2), ('offering', 1), ('yalru', 1), ('lyfu', 2), ('astne', 1), ('innu', 1), ('mundhe', 1), ('lyf', 2), ('ali', 2), ('halla', 1), ('ke', 2), ('bilo', 1), ('program', 2), ('edhae', 1), ('ovr', 1), ('vargu', 1), ('meow', 2), ('twelve', 3), ('aah', 3), ('09066362231', 3), ('07xxxxxxxxx', 3), ('06', 8), ('prone', 1), ('07801543489', 1), ('latests', 1), ('llc', 1), ('ny', 1), ('usa', 1), ('msgrcvd18', 1), ('permission', 1), ('lucy', 2), ('hubby', 2), ('meetins', 1), ('cumin', 1), ('09099726395', 1), ('minmobsmorelkpobox177hp51fl', 3), ('wonders', 1), ('7th', 1), ('6th', 1), ('5th', 1), ('4th', 3), ('personality', 1), ('nature', 3), ('dose', 1), ('tablet', 1), ('incomm', 1), (\"blake's\", 3), ('doesn', 1), ('lotr', 3), ('keeping', 6), ('google', 5), ('maps', 1), ('tiring', 1), ('modules', 2), ('concentrating', 1), ('browsin', 1), ('compulsory', 1), ('purity', 2), ('musthu', 1), ('investigate', 1), ('vomit', 4), ('aint', 5), ('sha', 4), ('vitamin', 1), ('centre', 4), ('crucial', 1), (\"someone's\", 1), ('jsco', 2), ('2channel', 1), ('leadership', 1), ('skills', 1), ('psychic', 1), ('host', 1), ('based', 1), ('idps', 1), ('linux', 1), ('systems', 1), ('total', 4), ('converter', 1), ('along', 4), ('stars', 3), ('karaoke', 3), ('testing', 2), ('sayy', 1), ('loved', 10), ('except', 6), ('nit', 2), ('leanne', 1), ('eight', 3), ('file', 3), ('format', 2), ('disc', 1), ('hows', 15), ('champ', 1), ('glasgow', 1), ('lovin', 1), ('arrive', 7), ('shortly', 4), ('install', 1), ('browse', 1), ('artists', 1), ('corect', 1), ('speling', 1), ('sarcasm', 2), ('4719', 1), ('523', 1), ('forum', 2), ('ron', 3), ('cts', 1), ('employee', 1), ('aunt', 2), ('nike', 1), ('sooo', 1), ('screaming', 4), ('shouting', 1), ('dang', 1), ('unfortunately', 2), ('airport', 5), ('7250i', 3), ('auction', 17), ('86021', 5), ('w1jhl', 3), ('difficult', 12), ('earliest', 1), ('nordstrom', 1), ('konw', 1), ('waht', 1), ('rael', 1), ('gving', 1), ('yuo', 2), ('exmpel', 1), ('jsut', 1), ('ese', 2), ('tihs', 2), ('evrey', 1), ('splleing', 1), ('wrnog', 1), ('sitll', 1), ('raed', 1), ('wihtuot', 1), ('ayn', 1), ('mitsake', 1), ('conference', 1), ('ow', 2), ('degree', 1), ('joining', 2), ('finance', 2), ('prospects', 3), ('bleak', 1), ('filled', 2), ('shant', 1), ('jia', 2), ('bishan', 4), ('nearer', 1), ('sux', 2), ('raiden', 1), ('buff', 3), ('south', 7), ('preferably', 3), ('kegger', 1), ('totes', 1), ('pierre', 1), ('cardin', 1), ('costs', 5), ('rhythm', 2), ('establish', 1), ('truro', 1), ('ext', 1), ('gas', 13), ('gang', 3), ('adventure', 2), ('cloth', 1), ('pack', 4), ('tablets', 3), ('sunroof', 1), ('excellent', 9), ('finishing', 3), ('doors', 3), ('wifi', 2), ('blanked', 1), ('image', 1), ('rumour', 1), ('kalainar', 1), ('thenampet', 1), ('7250', 2), ('nosy', 1), ('idk', 4), ('reacting', 1), ('freaked', 1), ('whom', 4), ('satanic', 1), ('imposter', 1), ('destiny', 1), ('companion', 1), ('chef', 1), ('listener', 1), ('organizer', 1), ('boyfriend', 2), ('sympathetic', 1), ('athletic', 1), ('courageous', 1), ('determined', 1), ('dependable', 1), ('psychologist', 1), ('pest', 1), ('exterminator', 1), ('psychiatrist', 1), ('healer', 1), ('stylist', 1), ('driver', 2), ('aaniye', 1), ('pudunga', 1), ('venaam', 1), ('brothas', 3), ('chasing', 3), ('chez', 1), ('jules', 1), ('hhahhaahahah', 1), ('nig', 1), ('leonardo', 1), (\"derek's\", 1), ('kicks', 2), ('john', 8), ('2years', 1), ('strain', 1), ('dime', 2), ('withdraw', 1), ('anyhow', 1), ('falling', 1), ('force', 2), ('smeone', 1), ('millers', 1), ('fire', 2), ('spark', 1), ('flame', 2), ('rawring', 1), ('xoxo', 1), ('somewhr', 1), ('crushes', 1), ('honeymoon', 1), ('outfit', 1), ('propose', 2), ('08719899230', 1), ('blame', 2), ('gods', 1), ('blessings', 2), ('cheque', 1), ('olympics', 1), ('leo', 1), ('patty', 1), ('haul', 1), ('wildlife', 1), ('want2come', 1), ('that2worzels', 1), ('wizzle', 1), ('dippeditinadew', 1), ('lovingly', 1), ('itwhichturnedinto', 1), ('gifted', 1), ('tomeandsaid', 1), ('shanghai', 1), ('instead', 7), ('cya', 1), ('freezing', 3), ('645', 1), ('rt', 1), ('pro', 1), ('ringtoneking', 3), ('08701237397', 1), ('redeemable', 1), ('thnx', 1), ('sef', 1), ('anjie', 1), ('batch', 2), ('fring', 1), ('flaky', 2), ('sooooo', 2), ('laughing', 4), ('winning', 3), ('tooo', 2), (\"'simple'\", 2), ('nte', 1), ('09058094599', 1), ('confuses', 2), ('doesn\\x89û÷t', 1), ('wating', 1), ('250', 4), ('british', 2), ('hotels', 2), ('london', 6), ('02072069400', 1), ('bx', 1), ('526', 1), ('sw73ss', 2), ('talents', 1), ('6pm', 3), ('animal', 1), ('buzz', 7), ('adoring', 2), ('eerie', 5), ('title', 4), ('dracula', 2), ('titles', 3), ('ghost', 2), ('addamsfa', 2), ('munsters', 2), ('exorcist', 2), ('twilight', 2), ('brought', 4), ('shiny', 1), ('warming', 1), ('constant', 2), ('cared', 2), (\"wasn't\", 12), ('surprised', 4), ('french', 1), ('fooled', 1), ('0a', 1), ('allow', 2), ('companies', 1), ('responsible', 1), ('suppliers', 1), ('comedy', 4), ('feelin', 2), ('lnly', 1), ('moby', 4), ('82242', 3), ('msg150p', 2), ('2rcv', 2), ('hlp', 2), ('08712317606', 2), ('keen', 1), ('switch', 3), ('dammit', 1), ('wright', 1), ('fly', 2), ('somewhat', 1), ('event', 2), ('laden', 1), ('wrecked', 1), ('spontaneously', 1), ('goodevening', 1), ('lei', 23), ('action', 4), ('80608', 2), ('movietrivia', 2), ('08712405022', 2), ('waking', 5), ('partnership', 2), ('rgent', 1), ('lookin', 6), ('daytime', 1), ('busty', 1), ('09099726429', 1), ('janinexx', 1), ('mostly', 2), ('inside', 7), ('spageddies', 1), ('phasing', 1), ('fourth', 1), ('dimension', 1), ('meaningful', 1), ('compromised', 1), ('09050001295', 1), ('a21', 1), ('monthly', 3), ('mobsi', 1), ('391784', 1), ('dub', 1), ('je', 1), ('toughest', 1), ('å£6', 2), ('ideas', 3), ('sight', 5), ('remain', 3), ('maintain', 2), ('sh', 2), ('jas', 1), ('squatting', 1), ('cramps', 3), ('0089', 1), ('digits', 1), ('received', 4), ('09063442151', 1), ('nan', 3), ('sonathaya', 1), ('soladha', 1), ('raping', 1), ('dudes', 1), ('poker', 2), ('weightloss', 1), ('mushy', 1), ('embarrassed', 1), ('stash', 1), ('ran', 4), ('priya', 1), ('ordered', 4), ('81303', 3), ('father', 8), ('messy', 2), ('kilos', 1), ('accidant', 1), ('tookplace', 1), ('ghodbandar', 1), ('rd', 5), ('traffic', 2), ('moves', 2), ('slovely', 1), ('slip', 2), ('wkg', 2), ('nus', 2), ('sc', 1), ('specialise', 1), ('wad', 1), ('likes', 3), ('dislikes', 3), ('keeps', 2), ('queen', 4), ('desparately', 1), ('fren', 4), ('promises', 3), ('gotten', 2), ('stereo', 1), ('mi', 1), ('unknown', 2), ('album', 3), ('121', 2), ('60p', 4), ('connect', 3), ('09094646899', 1), ('vu', 1), ('bcm1896wc1n3xx', 1), ('classmates', 1), ('fires', 1), ('boys', 6), ('2007', 2), ('pre', 2), ('trackmarque', 1), ('vipclub4u', 1), ('missionary', 1), ('hook', 5), ('standing', 3), ('entertaining', 1), ('hugh', 1), ('laurie', 1), ('stick', 2), ('indeed', 2), ('praps', 1), ('jon', 1), ('bin', 5), ('spain', 1), ('dinero', 1), ('åôrents', 1), ('000pes', 1), ('å£48', 1), ('james', 3), (\"'maangalyam\", 1), ('alaipayuthe', 1), ('complaining', 1), ('mandy', 1), ('sullivan', 1), ('hotmix', 1), ('fm', 1), ('chosen', 2), ('easter', 2), ('telephone', 2), ('09041940223', 1), ('29', 3), ('05', 5), ('transferred', 1), (\"finn's\", 1), ('di', 2), ('bahamas', 2), ('callfreefone', 1), ('08081560665', 1), ('cruise', 2), ('ofå£2000', 1), ('07786200117', 1), ('calm', 2), ('downon', 1), ('theacusations', 1), ('itxt', 1), ('iwana', 1), ('wotu', 1), ('doin', 10), ('thew', 1), ('haventcn', 1), ('up4', 2), ('nething', 1), ('dine', 1), ('conacted', 1), ('09111030116', 1), ('pobox12n146tf15', 1), ('iåõm', 4), ('social', 5), ('inspection', 1), ('nursery', 1), ('slowly', 7), ('becomes', 2), ('habit', 2), ('follow', 3), ('panren', 1), ('paru', 1), ('chuckin', 1), ('trainners', 1), ('carryin', 1), ('bac', 1), ('schedule', 4), ('dhanush', 1), ('needing', 1), ('stuck', 3), ('habba', 1), ('hw', 7), ('dileep', 1), ('muchand', 1), ('contacts', 2), ('venugopal', 1), ('mentioned', 1), ('remembrs', 1), ('forgets', 2), ('everytime', 1), (\"joy's\", 4), ('mandan', 1), ('07734396839', 1), ('ibh', 1), ('nokia6600', 1), ('regarding', 3), ('3230', 1), ('textbook', 1), ('algorithms', 1), ('edition', 1), ('selling', 5), ('buns', 5), ('adore', 3), ('invaders', 1), ('orig', 1), ('arcade', 4), ('console', 1), ('0', 3), ('settings', 3), ('alert', 4), ('09064018838', 1), ('cro1327', 1), ('atlanta', 2), ('recharge', 2), ('created', 4), ('fills', 2), ('gaps', 2), ('holding', 5), ('arun', 2), ('transfr', 1), ('takin', 4), ('philosophy', 3), ('didnåõt', 2), ('intend', 1), ('iwas', 1), ('marine', 1), ('itried2tell', 1), ('urmom', 1), ('careabout', 1), ('foley', 1), ('exciting', 4), ('prizes', 1), ('eye', 2), ('82050', 1), ('desparate', 2), ('learned', 1), ('fake', 2), ('answering', 4), ('iraq', 1), ('afghanistan', 1), ('stable', 1), ('honest', 1), ('traveling', 1), ('1225', 1), ('å£50award', 1), ('3100', 2), ('pai', 1), ('seh', 1), ('beer', 4), ('combine', 2), ('parts', 1), ('walsall', 1), ('tue', 1), ('terry', 1), ('jess', 4), ('sian', 2), ('ccna', 1), ('shrek', 1), ('dirty', 4), ('fellow', 1), (\"something's\", 1), ('dying', 1), ('lifting', 1), ('teresa', 1), ('package', 4), ('dec', 1), (\"you'ld\", 1), ('bam', 1), ('aid', 1), ('usmle', 1), ('squishy', 1), ('mwahs', 1), ('hottest', 1), ('g696ga', 2), ('prominent', 1), ('cheek', 1), ('september', 1), ('husband', 3), ('hack', 1), ('backdoor', 1), ('fraction', 1), ('neo69', 1), ('09050280520', 1), ('subscribe', 1), ('dps', 1), ('bcm', 1), ('8027', 1), ('norm', 3), ('list', 6), ('joanna', 2), ('comingdown', 1), ('replacement', 2), ('murali', 1), ('sts', 1), ('engalnd', 1), ('telly', 2), ('mia', 1), ('elliot', 1), ('kissing', 1), ('upto', 4), ('12mths', 2), ('2price', 1), ('100txt', 1), ('mth', 2), (\"b'tooth\", 1), ('08001950382', 4), ('d3wv', 1), ('wipro', 2), ('matric', 1), ('850', 1), ('toa', 3), ('payoh', 3), ('650', 1), ('08718726970', 1), ('payments', 1), ('fedex', 1), ('reception', 1), ('hate', 5), ('consensus', 1), ('entertain', 1), ('delete', 2), ('tag', 1), ('wednesday', 8), ('skype', 4), ('laundry', 2), ('underwear', 2), ('bras', 1), ('strewn', 1), ('pillows', 1), ('waheed', 2), ('fathima', 3), ('mmmm', 3), ('weaknesses', 1), ('pushes', 2), (\"knee's\", 1), ('exposes', 1), ('pulls', 1), ('wicked', 1), ('supports', 1), ('srt', 1), ('thnk', 5), ('ps3', 1), ('jontin', 1), ('nearly', 3), ('banned', 1), ('beyond', 3), ('biro', 1), ('masters', 4), ('09058094594', 1), ('shell', 1), ('unconsciously', 1), ('avoiding', 2), ('unhappy', 1), ('excuse', 7), ('jog', 1), ('0776xxxxxxx', 2), ('18yrs', 3), ('09061743811', 1), ('abta', 3), ('326', 2), ('season', 5), ('lark', 1), (\"station's\", 1), ('09090900040', 1), ('extreme', 1), ('sic', 1), ('7mp', 1), ('0870753331018', 1), ('fones', 1), ('wild', 1), ('stop2stop', 1), ('uh', 2), ('heads', 2), ('lim', 1), ('vday', 2), ('parachute', 1), ('placed', 1), ('80182', 2), ('08452810073', 2), (\"there're\", 2), ('table', 2), ('lambda', 1), ('build', 2), ('snowman', 2), ('angels', 1), ('snowball', 1), ('fights', 2), ('ello', 1), ('ikea', 3), ('ofice', 2), ('cn', 2), ('duffer', 1), ('grr', 1), ('prescription', 2), ('pharmacy', 1), ('cook', 2), ('electricity', 2), ('08715500022', 1), ('rpl', 1), ('cnl', 1), ('nor', 1), ('fffff', 1), ('kadeem', 3), ('fujitsu', 2), ('lifebook', 1), ('scold', 2), ('zhong', 1), ('se', 3), ('qing', 1), ('act', 1), ('hypertension', 1), ('wud', 3), ('annoyin', 1), ('08702490080', 1), ('09066358152', 2), ('prompts', 2), ('vpod', 1), ('carry', 3), ('disturbing', 2), ('avatar', 3), ('nigro', 1), ('scratching', 1), (\"idea's\", 1), ('anyplaces', 1), ('stops', 3), ('cleaning', 4), ('priority', 1), ('constantly', 3), ('ecstasy', 1), ('09090204448', 1), ('minded', 1), ('aå£1', 1), ('minapn', 1), ('ls278bb', 1), ('flies', 2), ('hittng', 1), ('reflex', 1), ('costa', 4), ('sol', 4), ('09050090044', 3), ('toclaim', 3), ('pobox334', 3), ('stockport', 3), ('costå£1', 3), ('max10mins', 3), ('lousy', 3), ('cat', 4), ('woken', 2), ('hip', 4), ('adewale', 1), ('aka', 2), ('egbon', 1), ('ic', 3), ('mary', 1), ('deduct', 1), ('wrks', 1), ('monkey', 1), ('asshole', 1), ('grab', 1), ('sliding', 1), ('09065394973', 1), ('payback', 1), ('honeybee', 1), ('sweetest', 1), ('laughed', 1), ('havnt', 1), ('crack', 1), ('gn', 6), ('tescos', 1), ('feathery', 1), ('bowa', 1), ('infra', 1), ('nvm', 5), ('gep', 1), ('delhi', 2), ('thinkin', 8), ('2006', 1), ('fifa', 1), ('held', 2), ('87239', 4), ('boat', 3), ('moms', 5), ('shhhhh', 1), ('related', 1), ('arul', 1), ('amk', 1), ('09061743810', 1), ('length', 1), ('fringe', 2), ('distract', 2), ('antha', 1), ('corrct', 1), ('dane', 1), (\"basket's\", 1), ('proof', 3), ('rupaul', 1), ('61610', 2), ('08712400602450p', 2), ('provided', 3), ('tones2you', 2), ('practising', 1), ('curtsey', 1), ('yeh', 3), ('memory', 1), ('converted', 1), ('downloads', 3), ('members', 3), ('african', 1), ('soil', 1), ('major', 3), ('roles', 1), ('outreach', 1), ('mel', 2), ('birth', 3), ('8lb', 1), ('7oz', 1), ('brilliantly', 1), ('forwarding', 1), ('intention', 1), ('visitors', 1), ('rules', 1), ('responsibility', 2), ('bend', 1), ('rule', 3), ('thia', 1), ('inlude', 1), ('previews', 1), ('freefone', 3), ('08006344447', 1), ('ambrith', 1), ('madurai', 1), ('dha', 1), ('marrge', 1), ('kitty', 1), ('shaved', 1), ('natural', 3), ('onwards', 3), (\"anybody's\", 1), ('tactful', 1), ('tscs', 2), ('skillgame', 2), ('1winaweek', 2), ('150ppermesssubscription', 2), ('theatre', 4), ('obviously', 5), ('eggs', 3), ('pert', 1), ('head\\x89û', 1), ('crammed', 1), ('satsgettin', 1), ('47per', 1), ('lie', 3), ('apologize', 1), ('pei', 1), ('kid', 2), ('boost', 3), ('subtoitles', 1), ('sitting', 9), ('jot', 1), ('cereals', 1), ('gari', 1), ('infernal', 4), ('affair', 2), ('including', 4), ('bold2', 1), ('calicut', 3), ('09094100151', 1), ('cast', 1), ('aom', 2), ('gbp5', 1), ('box61', 1), ('m60', 1), ('1er', 1), ('thkin', 1), ('nd', 2), ('parco', 2), ('nb', 2), ('resubbing', 1), ('shadow', 1), ('breadstick', 1), ('ahmad', 6), ('saeed', 1), ('hallaq', 2), ('09066362220', 1), ('box97n7qp', 3), ('purple', 1), ('pink', 3), ('lyk', 2), ('yelow', 1), ('bck', 2), ('brown', 1), ('giv', 4), ('color', 2), ('arranging', 1), ('eldest', 1), (\"who's\", 5), ('drugdealer', 1), ('gender', 2), ('wither', 1), ('23f', 1), ('23g', 1), ('sleepwell', 1), ('wondarfull', 1), ('web2mobile', 1), ('txt250', 1), ('box139', 1), ('la32wu', 1), ('txtx', 1), ('normally', 3), ('onbus', 1), ('donyt', 1), ('latelyxxx', 1), ('85233', 1), ('mca', 2), (\"wat's\", 7), ('rich', 3), ('official', 4), ('flag', 5), ('yer', 2), ('84199', 2), ('eng', 3), ('box39822', 2), ('w111wx', 2), ('yor', 3), ('stressed', 1), ('jason', 3), ('soooo', 1), ('provider', 1), ('tming', 1), ('subs', 3), ('cutest', 1), ('dice', 1), ('art', 3), ('inclusive', 4), ('08700469649', 1), ('box420', 1), ('howda', 1), ('mathe', 1), ('samachara', 1), ('audrie', 1), ('autocorrect', 1), ('simulate', 1), ('readiness', 1), ('armand', 5), ('vomiting', 2), ('rub', 2), ('feet', 4), ('lara', 1), ('supplies', 1), ('clever', 2), ('guesses', 1), ('attach', 1), ('087123002209am', 1), ('med', 3), ('stamped', 1), ('113', 1), ('bray', 1), ('wicklow', 1), ('eire', 1), ('washob', 1), ('nobbing', 1), ('nickey', 1), ('platt', 1), ('ryan', 1), ('vikky', 7), ('idew', 1), ('argh', 3), ('spotty', 1), ('province', 1), ('sterling', 1), ('looked', 5), ('xam', 1), ('hall', 1), ('term', 3), ('manage', 2), ('hesitation', 1), ('intha', 1), ('ponnungale', 1), ('ipaditan', 1), ('rejected', 1), ('shitload', 2), ('diamonds', 2), ('tessy', 1), ('favor', 1), ('nimya', 2), ('shijas', 1), ('aunty', 2), ('china', 3), ('noisy', 1), ('needa', 1), ('mcat', 2), ('manual', 1), ('reset', 1), ('troubleshooting', 1), ('b4u', 1), ('27', 2), ('marsms', 1), ('b4utele', 1), ('08717168528', 1), ('strongly', 1), ('sacrifice', 2), ('beg', 2), ('expecting', 5), ('creativity', 1), ('stifled', 1), ('morphine', 3), ('requirements', 1), ('stayin', 2), ('heåõs', 1), ('2getha', 1), ('buffy', 1), ('satisfy', 2), ('pix', 7), ('qlynnbv', 1), ('help08700621170150p', 1), ('30', 15), ('cld', 2), ('prefer', 3), ('nosh', 1), ('waaaat', 1), ('lololo', 1), (\"table's\", 1), ('occupied', 1), ('kindly', 3), ('documents', 1), ('submitted', 1), ('stapati', 1), ('miles', 3), ('cutie', 1), ('hills', 1), ('killed', 2), (\"did'nt\", 2), ('colleagues', 4), (\"''ok''\", 2), ('sed', 3), ('mood', 5), ('minuts', 2), ('latr', 2), ('kidz', 2), ('sofa', 7), ('honesty', 1), ('specialisation', 1), ('labor', 1), ('shakara', 1), ('beggar', 1), ('smashed', 2), ('dent', 1), (\"everybody's\", 2), ('crickiting', 1), ('imin', 1), ('dontmatter', 1), ('urgoin', 1), ('outl8r', 1), ('yavnt', 1), ('popping', 1), ('ibuprofens', 1), ('sip', 1), ('ps', 2), ('grown', 1), ('chinatown', 1), ('porridge', 1), ('claypot', 1), ('yam', 1), ('fishhead', 1), ('beehoon', 1), ('tok', 2), ('specific', 2), ('jaklin', 1), ('nearby', 1), ('cliffs', 1), ('49', 1), ('ntwk', 4), ('bundle', 1), ('deals', 1), ('avble', 1), ('mf', 1), ('pages', 4), ('figures', 2), ('ooh', 1), ('4got', 1), ('moseley', 1), ('weds', 1), ('thankyou', 1), ('pending', 3), ('aluable', 1), ('ffectionate', 1), ('oveable', 1), ('ternal', 1), ('oble', 1), ('ruthful', 1), ('ntimate', 1), ('atural', 1), ('namous', 1), (\"textin'\", 1), ('cousin', 2), ('frndship', 3), ('excuses', 2), ('raji', 1), ('legs', 3), ('neck', 2), ('amigos', 1), ('burn', 1), ('progress', 1), ('continue', 2), ('holy', 2), (\"weren't\", 1), ('arty', 1), ('collages', 1), ('tryin', 1), ('billion', 2), ('classes', 2), ('2hrs', 1), ('waliking', 1), ('cartons', 1), ('shelves', 1), ('08714712379', 1), ('distance', 3), ('mirror', 1), ('youre', 2), ('turning', 2), ('freak', 4), (\"god's\", 7), ('ref', 4), ('k718', 1), ('å£4', 4), ('09065069120', 1), ('jod', 1), ('keris', 1), ('smidgin', 1), ('belive', 2), ('intentions', 1), ('empty', 6), ('slots', 2), ('accordin', 1), ('discussed', 2), (\"no's\", 1), ('knocking', 1), ('como', 1), ('listened2the', 1), ('plaid', 1), ('air1', 1), ('hilarious', 1), ('boughtåóbraindanceåóa', 1), ('ofstuff', 1), ('aphexåõs', 1), ('abel', 1), ('nelson', 1), (\"bb's\", 1), ('temp', 2), ('unmits', 1), ('display', 3), ('newspapers', 1), ('soup', 3), ('yummmm', 1), ('management', 3), ('puzzeles', 1), ('include', 3), ('4goten', 1), ('scammers', 1), ('regular', 3), ('prem', 2), ('2morro', 2), ('passion', 1), ('09099726481', 1), ('dena', 1), ('spoiled', 2), ('r836', 1), ('09065069154', 1), ('threats', 2), ('sales', 2), ('shifad', 1), ('raised', 1), ('complaint', 2), (\"'doctors'\", 1), ('reminds', 1), ('lounge', 3), ('lk', 2), ('role', 6), ('lov', 2), ('checked', 5), ('splashmobile', 1), ('subscrition', 1), ('300p', 2), ('dust', 1), ('u4', 2), ('01223585334', 1), ('2c', 1), ('shagged', 1), ('8552', 2), ('2end', 1), ('88877', 2), ('88066', 3), ('3pound', 1), ('watchin', 1), ('meaningless', 1), (\"all's\", 1), ('brdget', 1), ('jones', 1), ('inever', 1), ('hype', 1), ('700', 2), ('studio', 1), ('bedrm', 2), ('900', 3), ('unable', 5), ('waited', 2), ('velly', 1), ('wkend', 4), ('huge', 2), ('marking', 1), ('letters', 4), ('mids', 2), ('oranges', 2), ('upd8', 2), ('2stoptx', 1), ('annie', 2), ('remind', 5), ('08718738034', 1), ('21870000', 2), ('mailbox', 2), ('messaging', 2), ('09056242159', 2), ('retrieve', 2), ('va', 1), ('hrishi', 2), ('nothin', 2), ('hanger', 1), ('poem', 1), ('cheer', 2), ('tear', 5), (\"that'll\", 2), ('duchess', 2), ('cornwall', 3), ('008704050406', 2), ('arrow', 1), ('bags', 3), ('blanket', 1), ('08718726971', 1), ('tddnewsletter', 1), ('emc1', 1), ('thedailydraw', 1), ('dozens', 1), ('prizeswith', 1), ('significant', 1), ('waqt', 1), ('pehle', 1), ('naseeb', 1), ('zyada', 1), ('kisi', 1), ('ko', 1), ('kuch', 1), ('nahi', 2), ('milta', 1), ('zindgi', 2), ('wo', 2), ('jo', 2), ('hum', 1), ('sochte', 1), ('ham', 1), ('jeetey', 1), ('worse', 6), ('stalking', 1), ('dan', 2), ('reminded', 1), ('varaya', 1), ('elaya', 1), ('09066368753', 1), ('97n7qp', 1), ('anand', 1), ('beach', 1), ('expected', 1), ('aww', 2), ('jez', 1), ('iscoming', 3), ('todo', 1), ('workand', 1), ('whilltake', 1), ('zogtorius', 1), ('iåõve', 1), ('staring', 2), ('whether', 5), ('financial', 1), ('alian', 1), ('tooth', 1), ('or2optout', 1), ('hv9d', 1), ('posible', 1), ('century', 1), ('cm', 2), ('frwd', 1), ('unnecessarily', 2), ('affectionate', 1), ('sorts', 1), ('restrictions', 1), ('buddys', 1), ('80082', 3), ('08712402902', 1), ('owned', 1), ('possessive', 1), ('clarification', 1), ('spook', 5), ('halloween', 3), ('08701417012150p', 2), ('issue', 3), ('weigh', 2), ('fantasy', 4), ('football', 3), ('sky', 4), ('gamestar', 1), ('active', 1), ('å£250k', 1), ('scoring', 1), ('88088', 1), ('coimbatore', 1), ('expired', 2), ('monoc', 1), ('monos', 1), ('polyc', 1), ('stream', 1), ('0871212025016', 1), ('opinions', 2), ('categories', 1), ('measure', 3), ('ethnicity', 1), ('census', 1), ('transcribing', 1), ('propsd', 1), ('gv', 1), ('lv', 1), ('lttrs', 1), ('threw', 1), ('thm', 2), ('aproach', 1), ('dt', 1), ('truck', 1), ('speeding', 1), ('wn', 2), (\"'hw\", 1), ('instantly', 2), ('thy', 1), ('lived', 1), ('happily', 1), ('2gthr', 1), ('drinking', 2), ('evrydy', 1), ('paragon', 2), ('arent', 2), ('cakes', 1), ('bluff', 2), ('impossible', 3), ('draws', 1), ('goodmate', 1), ('sary', 2), ('asusual', 1), ('cheered', 1), ('franyxxxxx', 1), ('batt', 1), ('added', 5), ('pussy', 6), ('becausethey', 1), ('09058098002', 1), ('pobox1', 1), ('w14rg', 1), ('responce', 1), ('happend', 2), ('piece', 2), ('wiskey', 1), ('brandy', 1), ('rum', 1), ('gin', 1), ('vodka', 2), ('scotch', 1), ('shampain', 1), ('kudi', 1), ('yarasu', 1), ('dhina', 1), ('vaazhthukkal', 1), ('gained', 1), ('kg', 2), ('sugar', 4), ('pressure', 1), ('limits', 1), ('dumb', 2), ('thangam', 4), ('okey', 3), ('doke', 1), ('dressed', 2), ('laying', 1), ('kills', 1), ('neshanth', 1), ('byatch', 1), ('whassup', 1), ('kay', 2), ('roger', 4), ('cl', 1), ('nasty', 2), ('filthyguys', 1), ('slo', 2), ('4msgs', 1), ('wasted', 2), ('chiong', 1), ('christ', 2), ('dialogue', 1), ('reltnship', 1), ('solve', 2), ('murdered', 3), ('police', 5), ('questioned', 1), ('cooking', 2), ('gardener', 1), ('vegetables', 1), ('maid', 3), ('neighbour', 1), ('murderer', 3), ('brilliant', 3), ('pose', 1), ('comb', 1), ('dryer', 1), ('fps', 1), ('computational', 1), ('science', 3), ('push', 2), ('answered', 2), ('madam', 3), ('disturbance', 1), ('dlf', 1), ('premarica', 1), ('rgds', 2), ('gotto', 1), ('220cm2', 1), ('settle', 3), ('err', 1), ('8pm', 2), ('bloo', 3), ('hitter', 1), ('offline', 1), (\"anjola's\", 1), ('asjesus', 1), ('wrote', 2), ('indians', 3), ('swiss', 2), ('directors', 1), ('lac', 1), ('crore', 2), ('deposited', 1), (\"'taxless'\", 1), ('budget', 6), ('jobs', 2), ('lane', 2), ('suply', 1), ('projects', 1), ('citizen', 3), ('imf', 1), ('blocked', 1), ('politicians', 2), ('rights', 2), ('corrupt', 1), ('itna', 1), ('karo', 1), ('ki', 1), ('pura', 1), ('padhe', 1), ('torrents', 1), ('particularly', 1), ('slowing', 1), ('commit', 1), ('random', 6), ('83370', 1), ('trivia', 1), ('rightio', 1), ('48', 1), ('brum', 1), ('donno', 2), ('scorable', 1), ('paranoid', 1), ('brin', 1), ('properly', 2), ('sheet', 1), ('complain', 1), ('bettr', 1), ('bsnl', 1), ('offc', 1), ('payed', 1), ('suganya', 1), ('dessert', 1), ('abeg', 1), ('sponsors', 1), ('onum', 1), ('poet', 1), ('imagination', 1), ('rr', 1), ('famamus', 1), ('630', 2), ('sry', 3), ('furniture', 2), ('lock', 2), ('locks', 1), ('key', 4), ('jenne', 1), ('easiest', 1), ('barcelona', 1), ('ru', 5), ('sppok', 1), ('09066612661', 3), ('complementary', 1), ('wa14', 1), ('2px', 1), ('pansy', 1), ('jungle', 1), ('kanji', 1), ('srs', 1), ('drizzling', 1), ('appointments', 1), ('shoving', 2), ('papers', 2), ('greetings', 3), ('excused', 1), ('drama', 1), ('struggling', 1), ('strange', 2), ('ego', 1), (\"'if\", 1), (\"invited'\", 1), ('necessity', 1), ('reppurcussions', 1), ('released', 4), ('cosign', 1), ('hvae', 1), ('09061701444', 1), ('acl03530150pm', 2), ('hcl', 1), ('requires', 1), ('freshers', 1), ('suman', 1), ('telephonic', 1), ('indyarocks', 2), ('dai', 3), ('resume', 2), ('cars', 5), ('bids', 2), ('reliant', 1), ('fwiw', 1), ('afford', 1), ('happens', 7), ('whr', 2), ('maga', 3), ('sq825', 1), ('arrival', 1), ('yunny', 2), ('citylink', 1), ('er', 5), ('props', 1), ('pleasant', 1), ('statements', 1), ('6230', 1), ('83383', 2), ('pobox114', 1), ('14tcr', 1), ('bognor', 1), ('splendid', 1), ('ktv', 1), ('misplaced', 1), ('computers', 1), ('mmmmm', 2), ('medicine', 3), ('begun', 1), ('registration', 1), ('permanent', 1), ('residency', 1), ('plenty', 6), ('relatives', 2), ('deliver', 5), ('risks', 1), ('benefits', 2), ('amount', 5), ('predicting', 1), ('accumulation', 1), ('programs', 1), ('belongs', 1), ('fated', 1), ('shoranur', 1), ('incident', 3), ('fuelled', 1), ('concern', 1), ('prior', 1), ('grief', 1), ('violence', 3), ('environment', 1), ('terrific', 1), ('text82228', 1), ('txt82228', 2), ('honestly', 1), ('promptly', 1), ('burnt', 1), ('advice', 5), ('snap', 1), ('quizclub', 1), ('80122300p', 1), ('rwm', 1), ('08704050406', 1), ('gmw', 1), ('connected', 1), ('someplace', 1), ('goods', 1), ('pressies', 1), ('dr', 2), ('superior', 2), ('ultimately', 1), ('tor', 1), ('motive', 1), ('tui', 1), ('achieve', 1), ('korli', 1), ('we\\x89û÷ll', 1), ('dock', 1), ('rolled', 1), ('newscaster', 1), ('dabbles', 1), ('flute', 1), ('behind', 7), ('wheel', 1), ('amazing', 5), ('picsfree1', 2), ('vid', 2), ('keyword', 1), ('ruin', 2), ('erm', 3), ('the4th', 1), ('october', 1), ('83435', 1), ('elaborating', 1), ('safety', 1), ('aspects', 1), ('issues', 5), ('tarot', 1), ('85555', 1), ('department', 2), ('ours', 1), ('hr', 6), ('conform', 2), ('horniest', 1), ('instructions', 3), ('3lp', 3), ('flow', 1), ('developed', 1), ('ovarian', 1), ('cysts', 1), ('bc', 2), ('shrink', 1), ('upping', 1), ('grams', 1), ('timin', 1), ('apes', 1), ('death', 3), ('ibm', 1), ('hp', 1), ('toshiba', 2), ('gosh', 1), ('spose', 1), ('rimac', 1), ('arestaurant', 1), ('squid', 1), ('dosomething', 1), ('wrk', 3), ('dabooks', 1), ('hrs', 6), ('eachother', 1), ('luckily', 1), ('starring', 1), ('restocked', 1), ('knock', 2), ('tkls', 1), ('stoptxtstopå£1', 1), ('innocent', 2), ('mental', 2), ('smoothly', 1), ('hoped', 2), ('bills', 2), ('challenging', 1), ('2marrow', 2), ('hon', 2), ('breakfast', 1), ('hamper', 1), ('cc100p', 1), ('reality', 3), ('above', 1), ('0870737910216yrs', 1), ('unni', 1), ('lacking', 1), ('particular', 1), (\"dramastorm's\", 1), ('forfeit', 1), ('treated', 2), ('digi', 1), ('fab', 2), ('coupla', 1), ('wks', 2), ('077xxx', 1), ('09066362206', 1), ('sundayish', 1), ('prasad', 1), ('tiwary', 2), ('rcb', 1), ('battle', 1), ('bang', 2), ('kochi', 1), ('cancer', 6), ('checkup', 1), ('pap', 2), ('smear', 1), ('gobi', 1), ('arts', 2), ('pandy', 2), ('4w', 1), ('technologies', 1), ('olowoyey', 1), ('usc', 3), ('edu', 2), ('argentina', 1), ('secretary', 2), ('taxt', 1), ('massage', 1), ('tie', 1), ('pos', 1), ('lool', 1), ('dollar', 2), ('pull', 2), ('spending', 4), (\"taylor's\", 1), ('shaking', 1), ('booty', 3), ('lil', 3), ('scarcasim', 1), ('naal', 1), ('eruku', 1), ('w4', 1), ('5wq', 1), ('remains', 2), ('bro', 2), ('amongst', 1), ('bros', 2), ('impressively', 1), ('sensible', 1), (\"when's\", 3), ('69696', 2), ('response', 3), ('nalla', 2), ('obedient', 1), ('ft', 1), ('combination', 1), ('needy', 1), ('pouts', 3), ('stomps', 3), ('northampton', 2), ('abj', 2), ('serving', 2), ('playng', 1), ('mcfly', 1), ('ab', 1), ('sara', 1), ('jorge', 1), ('smith', 2), ('anna', 1), ('nagar', 1), ('yupz', 1), ('ericson', 1), ('der', 1), ('luks', 1), ('modl', 1), ('cheesy', 1), ('frosty', 1), ('witin', 1), ('sports', 3), ('fans', 1), ('0870141701216', 1), ('120p', 1), ('10th', 1), ('sept', 4), ('09050000555', 1), ('ba128nnfwfly150ppm', 1), ('shirts', 3), ('nudist', 1), ('themed', 1), ('pump', 1), ('petrol', 3), ('å£12', 1), ('feb', 6), ('ignore', 4), ('evr', 1), ('signal', 1), ('neither', 2), ('unusual', 1), ('hugs', 2), ('snogs', 2), ('west', 2), ('palm', 1), ('printing', 1), ('handing', 1), ('uks', 3), ('fastest', 2), ('growing', 2), ('83021', 1), ('chase', 2), ('stated', 1), ('tariffs', 5), ('2stoptxt', 2), ('perpetual', 1), ('dd', 1), ('steam', 2), ('reg', 2), ('pract', 1), ('flung', 1), ('public', 2), ('govt', 2), ('instituitions', 2), ('justbeen', 1), ('overa', 1), ('brains', 1), ('mush', 1), ('tunde', 1), ('missions', 1), ('luxury', 2), ('canary', 2), ('20m12aq', 1), ('\\x89ûï', 1), ('eh74rr', 1), ('sleepy', 2), ('dare', 4), ('ben', 3), ('mag', 2), ('avo', 1), ('middle', 3), ('crashed', 1), ('cuddled', 1), ('chachi', 1), ('pl', 1), ('tiz', 1), ('kanagu', 1), ('prices', 1), ('ringing', 1), ('houseful', 1), ('brats', 1), ('pulling', 1), ('diwali', 2), ('tick', 6), ('onion', 2), ('derp', 1), ('abusers', 1), ('lipo', 1), ('netflix', 1), ('thgt', 2), ('clash', 1), ('arr', 1), ('oscar', 1), ('rebtel', 1), ('firefox', 1), ('lower', 2), ('69969', 1), ('bcmsfwc1n3xx', 1), ('impressed', 1), ('funs', 1), ('footy', 1), ('stadium', 1), ('large', 1), ('coca', 1), ('cola', 1), ('dark', 3), ('teenager', 1), ('exhaust', 2), ('replacing', 1), ('mittelschmertz', 1), ('paracetamol', 1), ('pee', 2), ('arrived', 1), ('cthen', 1), ('enuff', 3), ('conclusion', 1), ('contents', 3), ('references', 1), ('success', 2), ('u\\x89ûªve', 1), ('å£50', 2), ('instant', 1), ('08715203028', 1), ('9th', 1), ('rugby', 1), ('affidavit', 1), ('twiggs', 1), ('division', 2), ('courtroom', 1), ('creep', 2), ('showers', 1), ('possessiveness', 1), ('poured', 1), ('lies', 2), ('golden', 1), ('lasting', 1), ('mobs', 1), ('breathe1', 1), ('crazyin', 1), ('sleepingwith', 1), ('finest', 1), ('ymca', 1), ('pobox365o4w45wq', 1), ('wtc', 1), ('weiyi', 1), ('property', 2), ('interflora', 2), (\"åòit's\", 1), ('flowers', 1), ('505060', 1), ('teeth', 4), ('paining', 1), ('romcapspam', 1), ('presence', 1), ('outgoing', 1), ('maggi', 1), ('mee', 1), ('08712103738', 1), ('cough', 1), ('09058099801', 1), ('b4190604', 1), ('7876150ppm', 1), ('bbd', 2), ('pooja', 1), ('pimples', 2), ('sweatter', 1), ('ambitious', 1), ('miiiiiiissssssssss', 1), ('tunji', 1), ('iz', 3), ('yellow', 2), ('misscall', 1), ('frndz', 1), ('6missed', 1), ('frog', 2), ('mad1', 1), ('mad2', 1), ('88888', 2), ('tall', 1), ('doubt', 2), ('handle', 3), ('note', 3), ('robs', 1), ('avenge', 1), ('japanese', 1), ('proverb', 1), ('strike', 2), (\"fren's\", 1), ('choices', 1), ('toss', 1), ('coin', 2), ('gudni8', 1), ('dancin', 1), ('explicitly', 1), ('nora', 1), ('gayle', 1), ('crucify', 1), ('moved', 3), ('butting', 1), ('freedom', 2), ('vs', 1), ('cedar', 1), ('twenty', 2), ('durham', 1), ('reserved', 1), ('seat', 3), ('porn', 4), ('69855', 1), ('stopbcm', 1), ('sf', 1), ('painting', 2), ('wall', 1), ('printer', 1), ('groovy', 1), ('groovying', 1), (\"harish's\", 1), ('transfred', 1), ('acnt', 1), ('nowadays', 2), ('showrooms', 1), ('shaping', 1), ('attending', 1), ('talks', 2), ('probs', 2), ('doinat', 1), ('callon', 1), (\"ron's\", 1), ('swatch', 2), ('ganesh', 2), ('dress', 3), ('pdate', 1), ('yhl', 1), ('collecting', 3), ('configure', 1), ('trips', 2), ('i\\x89ûªm', 1), ('isn\\x89ûªt', 1), ('anal', 1), ('pears', 1), ('helloooo', 1), ('welcomes', 1), ('celebrate', 4), ('such', 1), ('oooooh', 1), ('09058094454', 1), ('54', 1), ('resubmit', 1), ('expiry', 1), ('weåõve', 1), ('2geva', 2), ('mint', 1), ('humans', 1), ('studyn', 1), ('wuld', 2), ('everyboy', 1), ('xxxxxxxx', 1), (\"hi'\", 1), ('solved', 2), (\"'xam\", 1), ('1thing', 1), ('answr', 1), ('liquor', 1), ('flaked', 3), ('loko', 1), ('730', 1), ('lined', 1), (\"tm'ing\", 1), ('tm', 4), ('laughs', 1), ('fireplace', 1), ('icon', 1), ('08712400200', 1), ('fifth', 1), ('woozles', 1), ('weasels', 1), ('08718723815', 1), ('gary', 3), ('machines', 1), ('fucks', 1), ('sake', 2), ('ignorant', 1), ('mys', 1), ('bruce', 2), ('downs', 1), ('fletcher', 1), ('08714714011', 1), ('teaching', 2), ('bowls', 1), ('cozy', 1), ('buzzzz', 1), ('chest', 2), ('vibrator', 1), ('shake', 1), ('covers', 2), ('trends', 1), ('pros', 1), ('cons', 1), ('brief', 2), ('description', 1), ('nuclear', 1), ('fusion', 1), ('history', 3), ('iter', 1), ('jet', 1), ('nowhere', 1), ('ikno', 1), ('doesdiscount', 1), ('shitinnit', 1), ('jabo', 1), ('abi', 4), ('slower', 1), ('maniac', 1), ('sapna', 1), ('manege', 1), (\"y'day\", 1), ('hogidhe', 1), ('chinnu', 1), ('swalpa', 1), ('agidhane', 1), ('footbl', 1), ('crckt', 1), ('swell', 1), ('tim', 1), ('bollox', 1), ('tol', 1), ('hang', 2), ('ingredients', 1), ('pocy', 1), ('bell', 3), ('non', 1), ('4qf2', 1), ('senor', 1), ('giggle', 1), ('possibly', 1), ('person2die', 1), ('nvq', 1), ('professional', 1), ('tiger', 1), ('woods', 1), ('reboot', 2), ('grinder', 1), ('pt2', 1), ('buyers', 1), ('figuring', 1), ('entirely', 1), ('understood', 3), ('bottom', 3), ('phoned', 2), ('disconnected', 1), ('onluy', 1), ('matters', 1), ('offcampus', 1), ('improved', 2), (\"riley's\", 1), ('ew', 1), ('wesley', 1), (\"how've\", 1), ('lingo', 1), ('400mins', 1), ('j5q', 1), (\"l'm\", 1), ('hm', 2), ('69200', 1), ('chrgd', 1), ('2exit', 1), ('salon', 2), ('approaching', 1), ('sankranti', 1), ('republic', 1), ('shivratri', 1), ('ugadi', 1), ('fools', 1), ('independence', 1), ('teachers', 1), ('childrens', 1), ('festival', 1), ('dasara', 1), ('mornings', 1), ('afternoons', 1), ('evenings', 2), ('rememberi', 1), (\"your's\", 1), ('raj', 2), ('joys', 1), ('lifeis', 1), ('daywith', 1), ('somewheresomeone', 1), ('tosend', 1), ('greeting', 1), ('selflessness', 1), ('initiate', 1), ('tallent', 1), ('wasting', 1), ('payment', 2), ('portal', 1), (\"don't4get2text\", 1), ('lennon', 1), ('bothering', 1), ('crab', 3), ('shore', 2), ('waves', 2), ('footprints', 3), ('clearing', 2), ('fox', 1), ('frndsship', 1), ('dwn', 1), ('slaaaaave', 1), ('summon', 1), ('å£33', 2), ('changes', 3), ('appendix', 1), ('range', 2), ('slob', 1), ('smiled', 1), ('topic', 2), ('webpage', 1), ('yeesh', 1), ('unsubscribed', 1), ('hunks', 1), ('gotbabes', 1), ('subscriptions', 1), ('gopalettan', 1), ('participate', 1), ('admin', 2), ('abroad', 1), ('xxsp', 1), ('visionsms', 2), ('stopcost', 1), ('08712400603', 1), ('agent', 1), ('goodies', 1), ('mat', 1), ('ay', 1), ('andros', 2), ('steal', 1), ('isaiah', 1), ('meets', 2), ('foot', 2), ('penis', 2), ('expert', 1), ('sigh', 2), ('thinl', 1), ('importantly', 1), ('tightly', 1), (\"'wnevr\", 1), ('fal', 1), ('vth', 2), ('books', 3), ('fals', 1), ('yen', 1), ('madodu', 1), ('nav', 1), ('pretsorginta', 1), ('nammanna', 1), ('pretsovru', 1), ('alwa', 1), ('eveb', 2), ('window', 2), ('lord', 1), ('rings', 1), ('soundtrack', 1), ('stdtxtrate', 1), ('sg', 1), ('phyhcmk', 1), ('pc1323', 1), ('emigrated', 1), ('hopeful', 1), ('olol', 1), ('stagwood', 1), ('winterstone', 1), ('victors', 1), ('hill', 4), ('jp', 1), ('mofo', 1), ('pathaya', 1), ('enketa', 1), ('maraikara', 1), (\"pa'\", 1), ('priest', 1), ('reserves', 1), ('intrude', 1), ('walkabout', 1), ('cashed', 1), ('announced', 1), ('blog', 1), ('28th', 1), ('removal', 2), ('08708034412', 2), ('footie', 1), ('blow', 2), ('phil', 1), ('neville', 1), ('abbey', 1), ('returning', 1), ('knowing', 3), ('punj', 1), ('str8', 1), ('classic', 1), ('200p', 1), ('thurs', 5), ('cancelled', 2), ('sacked', 1), ('lookatme', 2), ('clip', 1), ('35p', 1), ('mmsto', 1), ('32323', 1), ('barred', 1), ('twat', 1), ('dungerees', 1), ('decking', 1), ('punch', 1), ('mentionned', 1), ('vat', 1), ('planned', 7), ('grl', 4), ('hogolo', 1), ('kodstini', 1), ('agalla', 2), ('madstini', 1), ('hogli', 1), ('mutai', 1), ('eerulli', 1), ('kodthini', 1), ('thasa', 1), ('messed', 1), ('tex', 1), ('mecause', 1), ('werebored', 1), ('okden', 1), ('uin', 1), ('soundåõs', 1), ('likeyour', 1), ('gr8fun', 1), ('updat', 1), ('countinlots', 1), ('xxxxx', 2), ('tagged', 1), ('count', 2), ('challenge', 3), ('hdd', 1), ('casing', 1), ('opened', 1), ('describe', 1), ('09053750005', 1), ('310303', 1), ('08718725756', 1), ('140ppm', 1), ('asus', 1), ('randomly', 3), ('reformat', 1), ('otside', 2), ('plumbers', 1), ('tape', 3), ('wrench', 1), ('bcum', 1), ('films', 3), ('appeal', 1), ('thriller', 1), ('director', 1), ('size', 2), ('elephant', 1), ('shove', 1), ('um', 1), ('cr', 1), ('pookie', 1), (\"wouldn't\", 5), ('nri', 1), ('08712101358', 1), ('x2', 1), ('itåõs', 2), ('deserve', 1), ('tight', 2), ('lick', 3), ('diddy', 1), ('neighbor', 1), ('toothpaste', 1), ('av', 2), ('poking', 1), ('everyday', 2), ('curious', 2), ('coccooning', 1), ('auto', 3), ('mus', 1), ('newquay', 1), ('postcard', 2), ('1im', 1), ('talkin', 1), ('bread', 2), ('windy', 1), ('09066358361', 1), ('y87', 1), ('mahal', 2), ('tirunelvai', 1), ('dusk', 1), ('puzzles', 1), ('x29', 1), ('09065989180', 1), ('stairs', 1), ('phews', 1), ('relation', 4), ('luvs', 1), ('praying', 2), ('recycling', 1), ('earning', 1), ('toledo', 1), ('ding', 2), ('tai', 1), ('feng', 1), ('reservations', 1), ('swimsuit', 1), ('allowed', 2), ('necessary', 2), ('squeeeeeze', 1), ('hug', 4), ('lik', 5), ('frndshp', 1), ('luvd', 1), ('asks', 3), ('volcanoes', 1), ('erupt', 1), ('arise', 1), ('hurricanes', 1), ('sway', 1), ('aroundn', 1), ('disasters', 1), ('lighters', 1), ('lasagna', 1), ('chickened', 1), ('messaged', 2), ('woould', 1), ('08718726978', 1), ('deus', 2), ('44', 1), ('7732584351', 1), ('3510i', 5), ('deliveredtomorrow', 3), ('300', 5), ('tap', 2), ('spile', 2), ('broad', 2), ('canal', 2), ('engin', 2), ('edge', 2), ('raviyog', 1), ('peripherals', 1), ('bhayandar', 1), ('east', 2), ('sunoco', 1), ('howard', 2), ('musical', 1), ('plate', 1), ('leftovers', 1), ('starving', 1), ('cooked', 2), ('cheat', 2), ('fatty', 1), ('badrith', 1), ('owe', 1), ('checkin', 1), ('block', 2), ('armenia', 1), ('swann', 1), ('09058097189', 1), ('09061221066', 2), ('fromm', 2), ('330', 1), ('1120', 1), ('1205', 1), ('smoking', 3), ('wylie', 4), ('justify', 1), ('ruining', 2), ('meds', 5), ('hunt', 1), ('in2', 3), ('5226', 1), ('hava', 1), ('1131', 1), (\"rct'\", 1), ('thnq', 1), ('adrian', 1), ('vatian', 1), ('everyones', 1), ('babysitting', 1), (\"it'll\", 1), ('gonnamissu', 1), ('buttheres', 1), ('aboutas', 1), ('merememberin', 1), ('asthere', 1), ('ofsi', 1), ('breakin', 1), ('yaxx', 1), ('ee', 2), ('poortiyagi', 1), ('odalebeku', 1), ('hanumanji', 1), ('hanuman', 1), ('bajarangabali', 1), ('maruti', 1), ('pavanaputra', 1), ('sankatmochan', 1), ('ramaduth', 1), ('mahaveer', 1), ('janarige', 1), ('ivatte', 1), ('kalisidare', 1), ('olage', 1), ('ondu', 1), ('keluviri', 1), ('maretare', 1), ('inde', 1), ('dodda', 1), ('problum', 1), ('nalli', 1), ('siguviri', 1), ('idu', 1), ('matra', 1), ('neglet', 1), ('easily', 2), ('ijust', 1), ('talked', 1), ('opps', 1), (\"tt's\", 1), ('gei', 1), ('tron', 1), ('dl', 1), ('selfish', 2), ('spiffing', 1), ('workage', 1), ('craving', 1), ('supose', 1), ('babysit', 1), ('spaces', 1), ('embassy', 1), ('lightly', 1), ('custom', 2), ('checkboxes', 1), ('sac', 2), ('batsman', 1), (\"yetty's\", 1), ('jiayin', 2), ('09050000928', 1), ('pobox45w2tg150p', 2), ('forgotten', 2), ('reverse', 1), ('cheating', 1), ('mathematics', 1), ('2waxsto', 2), ('basic', 4), ('emailed', 1), ('yifeng', 1), (\"they'll\", 1), ('slurp', 1), ('minimum', 2), ('3miles', 1), ('ing', 1), ('brainless', 1), ('doll', 1), ('vehicle', 1), ('sariyag', 1), ('madoke', 1), ('barolla', 1), ('07090201529', 1), ('postponed', 1), ('stocked', 1), ('elaine', 2), ('tiime', 1), ('tears', 1), ('afternon', 1), ('interviews', 1), ('resizing', 1), ('09066364349', 1), ('box434sk38wp150ppm18', 1), ('opposed', 1), ('drunken', 2), ('billed', 3), ('shortcode', 1), ('83332', 1), ('08081263000', 1), ('refunded', 1), ('somerset', 1), ('overtime', 1), ('nigpun', 1), ('dismissial', 1), ('screwd', 1), ('08712402972', 1), ('bull', 1), ('floating', 1), ('mess', 2), ('09058095201', 1), ('heehee', 1), ('arithmetic', 1), ('percentages', 1), (\"'an\", 1), (\"quote''\", 1), ('chillaxin', 1), ('das', 1), ('iknow', 1), ('wellda', 1), ('peril', 1), ('studentfinancial', 1), ('crisis', 2), ('monster', 1), ('ths', 2), ('ias', 1), ('obey', 1), ('uhhhhrmm', 1), ('mb', 2), ('600', 1), ('400', 1), ('deltomorrow', 1), ('09066368470', 1), ('24m', 1), ('smartcall', 1), ('68866', 1), ('subscriptn3gbp', 1), ('08448714184', 1), ('landlineonly', 1), ('mths', 5), ('å£s', 1), ('callback', 3), ('orno', 1), ('fink', 1), ('09099726553', 1), ('promised', 1), ('carlie', 1), ('minmobsmore', 1), ('lkpobox177hp51fl', 1), ('youphone', 1), ('athome', 1), ('youwanna', 1), ('jack', 1), ('helpful', 1), ('pretend', 1), ('hypotheticalhuagauahahuagahyuhagga', 1), ('brainy', 1), ('occasion', 1), ('celebrated', 1), ('reflection', 1), ('values', 1), ('desires', 2), ('affections', 1), ('traditions', 1), ('cantdo', 1), ('anythingtomorrow', 1), ('myparents', 1), ('aretaking', 1), ('outfor', 1), ('katexxx', 1), ('level', 1), ('gate', 1), ('89105', 1), ('wedding', 3), ('lingerie', 1), ('bridal', 1), ('petticoatdreams', 1), ('weddingfriend', 1), ('board', 1), ('overheating', 1), ('reslove', 1), ('inst', 1), (\"8'o\", 1), ('western', 1), ('outta', 4), ('notixiquating', 1), ('laxinorficated', 1), ('bambling', 1), ('entropication', 1), ('oblisingately', 1), ('opted', 1), ('masteriastering', 1), ('amplikater', 1), ('fidalfication', 1), ('champlaxigating', 1), ('atrocious', 1), ('wotz', 1), ('junna', 1), ('knickers', 1), ('01223585236', 1), ('nikiyu4', 1), ('accident', 3), ('a30', 1), ('divert', 1), ('wadebridge', 1), ('vill', 1), ('1030', 2), ('orc', 1), ('bloomberg', 2), ('447797706009', 1), ('careers', 1), ('seeking', 1), (\"priscilla's\", 2), ('wisdom', 2), ('inform', 4), (\"wherre's\", 1), ('phone750', 1), ('resolution', 1), ('frank', 1), ('logoff', 1), ('parkin', 1), ('kent', 2), ('vale', 2), (\"cann't\", 3), ('asa', 1), ('09050000878', 1), ('wan2', 1), ('westlife', 1), ('m8', 1), ('unbreakable', 1), ('untamed', 1), ('unkempt', 1), ('83049', 1), ('prince', 2), ('charming', 1), ('mention', 1), ('served', 1), ('arnt', 1), ('xxxxxxxxxxxxxx', 1), ('dorothy', 1), ('kiefer', 1), ('granite', 2), ('explosive', 2), ('nasdaq', 2), ('symbol', 3), ('cdgt', 2), ('alle', 1), ('mone', 1), ('eppolum', 1), ('allalo', 1), ('fundamentals', 1), ('1mega', 1), ('pixels', 1), ('3optical', 1), ('5digital', 1), ('dooms', 1), ('noiåõm', 1), ('js', 1), ('burgundy', 1), ('captaining', 1), ('base', 2), ('placement', 2), ('amrita', 1), ('profile', 1), ('bpo', 1), ('didn\\x89û÷t', 2), ('nighters', 1), ('persevered', 1), ('regretted', 1), ('wasnåõt', 1), ('spouse', 1), ('pmt', 1), ('sumthin', 2), ('4give', 1), ('shldxxxx', 1), (\"that'd\", 1), ('scenario', 1), ('spun', 1), ('wrld', 1), ('09071517866', 1), ('150ppmpobox10183bhamb64xe', 1), ('pounded', 1), ('lion', 2), ('devouring', 2), ('airtel', 2), ('broadband', 1), ('processed', 2), ('installation', 1), ('tensed', 1), ('coughing', 1), ('warned', 1), ('sprint', 1), ('prolly', 3), ('gower', 1), ('åômorrow', 1), ('åð', 3), ('chik', 1), (\"100's\", 1), ('filth', 1), ('69669', 2), ('saristar', 1), ('e14', 1), ('9yt', 1), ('08701752560', 1), ('450p', 1), ('stop2', 1), ('420', 1), ('9061100010', 1), ('wire3', 1), ('1st4terms', 1), ('mobcudb', 1), ('sabarish', 1), ('jaya', 1), ('09050000460', 1), ('j89', 1), ('box245c2150pm', 1), ('inpersonation', 1), ('flea', 1), ('forums', 2), ('banneduk', 1), ('highest', 1), ('å£54', 1), ('maximum', 1), ('å£71', 1), (\"ny's\", 1), ('taj', 1), ('lesser', 1), ('known', 1), ('facts', 1), ('mumtaz', 2), (\"shahjahan's\", 1), ('wifes', 1), ('shahjahan', 1), (\"mumtaz's\", 2), ('arises', 1), ('hari', 1), (\"valentine's\", 1), ('69101', 1), ('rtf', 1), ('sphosting', 1), ('webadres', 1), ('geting', 1), ('incredible', 1), ('o2fwd', 1), ('18p', 1), ('ship', 2), ('maturity', 1), ('confirmed', 3), ('passport', 1), ('multiply', 1), ('independently', 1), ('showed', 1), ('twins', 1), ('strt', 1), ('ltdhelpdesk', 1), ('02085076972', 1), ('equally', 1), ('uneventful', 1), ('pesky', 1), ('cyclists', 1), ('adi', 1), ('entey', 1), ('nattil', 1), ('kittum', 1), ('kavalan', 1), ('hire', 1), ('hitman', 1), ('200', 3), ('09066660100', 1), ('2309', 1), ('cps', 1), ('causing', 2), ('outages', 1), ('conserve', 1), ('voted', 1), ('epi', 1), ('bare', 1), ('bhaskar', 1), ('dubsack', 3), ('gong', 1), ('kaypoh', 1), ('basketball', 1), ('outdoors', 1), ('macho', 3), ('interfued', 1), ('blank', 4), ('listed', 1), ('apology', 1), ('hustle', 1), ('forth', 1), ('audition', 3), ('harlem', 1), ('workout', 1), ('fats', 1), ('zac', 1), ('tonights', 1), ('hui', 1), ('xin', 1), ('lib', 2), ('difference', 2), ('versus', 1), ('underdtand', 1), ('muchxxlove', 1), ('locaxx', 1), ('07090298926', 1), ('9307622', 1), ('skateboarding', 1), ('despite', 2), ('thrown', 1), ('winds', 1), ('bandages', 1), ('html', 1), ('gbp4', 1), ('mfl', 1), ('hectic', 1), ('fell', 3), ('swoop', 2), ('wamma', 1), ('doggin', 1), ('dogs', 1), ('langport', 2), ('virtual', 1), ('senthil', 3), ('apnt', 1), ('pants', 1), ('go2sri', 1), ('lanka', 1), ('merely', 1), ('relationship', 1), ('wherevr', 1), ('forevr', 2), ('gudnyt', 1), ('mistakes', 2), ('plum', 1), ('smacks', 1), ('50s', 1), ('alot', 1), ('formatting', 1), ('attracts', 1), ('promotion', 1), ('8714714', 1), ('vegas', 2), ('lou', 2), ('lancaster', 1), ('neway', 1), ('couldnåõt', 1), ('båõday', 2), ('soc', 1), ('bsn', 1), ('advising', 1), ('lobby', 1), ('texted', 4), ('showered', 1), (\"er'ything\", 1), ('vewy', 2), ('lubly', 1), ('087147123779am', 1), ('catches', 1), ('specify', 1), ('domain', 1), ('nusstu', 1), ('bari', 1), ('hudgi', 1), ('yorge', 1), ('pataistha', 1), ('ertini', 1), ('hasbro', 1), ('jump', 1), ('hoops', 1), ('ummifying', 1), ('associate', 1), ('rip', 1), ('uterus', 1), ('pool', 2), ('jacuzzi', 1), ('x49', 2), ('09065989182', 2), ('txtstar', 1), ('2nights', 1), ('uve', 1), ('wildest', 1), ('aldrine', 1), ('rtm', 1), ('sources', 1), ('unhappiness', 1), ('necesity', 1), ('witout', 1), (\"hw'd\", 1), ('colleg', 1), (\"wat'll\", 1), ('wth', 1), ('functions', 1), ('events', 1), (\"espe'll\", 1), ('irritated', 1), ('4wrd', 1), ('wthout', 1), ('takecare', 1), ('univ', 1), ('rajas', 1), ('burrito', 1), ('disconnect', 1), (\"'terrorist'\", 1), ('confirmd', 1), ('verified', 1), ('cnn', 1), ('ibn', 1), ('stitch', 1), ('trouser', 1), ('146tf150p', 1), ('cheetos', 1), ('synced', 1), ('shangela', 1), ('hppnss', 1), ('sorrow', 1), ('goodfriend', 1), ('passes', 1), ('08704439680', 1), ('poo', 1), ('gloucesterroad', 1), ('uup', 1), ('ouch', 1), ('stayed', 2), ('forgiveness', 1), ('glo', 1), ('09058095107', 1), ('s3xy', 1), ('wlcome', 1), ('eaten', 3), ('timi', 1), ('mila', 1), ('age23', 1), ('blonde', 1), ('mtalk', 1), ('69866', 1), ('30pp', 1), ('5free', 1), ('increments', 1), ('help08718728876', 1), ('fishrman', 1), ('sack', 1), ('stones', 2), ('strtd', 1), ('throwin', 1), ('atlast', 2), ('1stone', 1), (\"mrng''\", 1), ('08717895698', 1), ('mobstorequiz10ppm', 1), ('physics', 1), ('praveesh', 1), ('delicious', 1), ('salad', 1), ('desert', 2), ('beers', 1), ('whore', 1), ('funk', 1), ('tones2u', 1), ('twinks', 1), ('scallies', 1), ('skins', 1), ('jocks', 1), (\"weekend's\", 2), ('08712466669', 1), ('nat', 3), ('flood', 1), ('beads', 1), ('wishlist', 1), ('section', 1), ('nitro', 1), (\"'need'\", 1), (\"'comfort'\", 1), (\"'luxury'\", 1), ('sold', 1), (\"armand's\", 1), ('creative', 1), ('reffering', 1), ('getiing', 1), ('weirdy', 1), ('brownies', 1), ('09061701851', 1), ('k61', 1), ('12hours', 1), ('restrict', 1), ('funeral', 2), ('audrey', 1), ('vivek', 2), ('74355', 1), ('tnc', 2), ('brah', 2), ('possession', 3), ('greece', 1), ('protect', 1), ('sib', 1), ('sensitive', 1), ('passwords', 1), ('recorded', 1), ('someday', 1), ('grandfather', 1), ('blu', 2), ('concert', 3), ('november', 1), ('09061104276', 1), ('costå£3', 1), ('75max', 1), ('yuou', 1), ('spot', 1), ('ipad', 2), ('bunch', 1), ('lotto', 1), ('bird', 2), ('purchases', 1), ('authorise', 1), ('45pm', 1), ('gimmi', 1), ('goss', 1), ('ystrday', 1), ('chile', 1), ('subletting', 1), ('ammae', 1), ('steering', 1), (\"anything's\", 1), ('sleeps', 1), ('rounder', 1), ('required', 1), ('lambu', 1), ('ji', 1), ('batchlor', 1), ('zoom', 1), ('62220cncl', 1), ('stopcs', 1), ('08717890890å£1', 1), ('cheese', 2), ('åòharry', 1), ('tms', 2), ('widelive', 2), ('index', 2), ('wml', 2), ('1b6a5ecef91ff9', 1), ('37819', 1), ('true18', 1), ('0430', 1), ('jul', 1), ('xafter', 1), ('cst', 1), ('chg', 1), ('pure', 1), ('hearted', 1), ('enemies', 1), ('smiley', 1), ('gail', 1), ('l8tr', 1), ('yaxxx', 1), ('theoretically', 1), ('hooked', 1), ('formally', 1), ('multimedia', 1), ('hsbc', 2), ('vague', 1), ('accounting', 1), ('delayed', 1), ('housing', 1), ('agency', 1), ('renting', 1), ('presents', 1), ('nicky', 1), (\"gumby's\", 1), ('alto18', 1), ('wave', 2), ('asp', 2), ('44345', 1), ('sized', 1), ('tarpon', 1), ('springs', 1), ('cab', 1), ('steps', 1), ('limited', 1), ('hf8', 1), ('09061702893', 2), ('08719181259', 1), ('26', 4), ('radiator', 1), ('proper', 1), ('tongued', 1), ('shorts', 1), ('qi', 1), ('suddenly', 1), ('flurries', 1), ('melt', 2), ('eek', 2), ('born', 4), ('real1', 1), ('pushbutton', 1), ('dontcha', 1), ('babygoodbye', 1), ('golddigger', 1), ('webeburnin', 1), ('perform', 1), ('cards', 1), ('rebooting', 1), ('nigh', 1), ('nooooooo', 1), ('cable', 1), ('outage', 1), ('sos', 1), ('playin', 1), ('guoyang', 1), ('rahul', 1), ('dengra', 1), ('antelope', 1), ('toplay', 1), ('fieldof', 1), ('selfindependence', 1), ('contention', 1), ('gnarls', 1), ('barkleys', 1), ('borderline', 1), ('545', 1), ('nightnight', 1), ('possibility', 1), ('grooved', 1), ('affairs', 3), ('mising', 1), ('secured', 1), ('unsecured', 1), ('195', 1), ('6669', 1), ('lanre', 1), (\"fakeye's\", 1), ('eckankar', 1), ('3000', 1), ('09061743386', 2), ('heater', 2), ('degrees', 1), ('dodgey', 1), ('674', 2), ('seing', 1), ('asssssholeeee', 1), ('ceri', 1), ('rebel', 1), ('dreamz', 1), ('buddy', 1), ('blokes', 1), ('84484', 1), ('nationwide', 1), ('newport', 1), ('juliana', 1), ('nachos', 1), ('eta', 2), ('dizzamn', 1), ('suitemates', 1), ('nimbomsons', 1), ('continent', 1), ('housewives', 1), ('0871750', 1), ('77', 1), ('landlines', 1), ('å£400', 6), ('087104711148', 1), ('emerging', 1), ('fiend', 1), ('impede', 1), ('hesitant', 1), ('60', 1), ('400thousad', 1), ('nose', 1), ('essay', 1), ('tram', 1), ('vic', 1), ('coherently', 1), ('triple', 1), ('echo', 1), ('gran', 1), ('onlyfound', 1), ('afew', 1), ('cusoon', 1), ('honi', 1), ('dial', 2), ('bx526', 1), ('university', 3), ('southern', 1), ('california', 3), ('rayan', 1), ('macleran', 1), ('balls', 1), ('olave', 1), ('mandara', 1), ('trishul', 1), ('woo', 1), ('hoo', 1), ('panties', 1), ('thout', 1), ('09066364311', 1), ('flatter', 1), ('pints', 1), ('carlin', 1), ('literally', 2), ('ciao', 1), ('starve', 1), ('impression', 1), ('motivate', 1), ('darkness', 1), ('wknd', 1), ('yalrigu', 1), ('heltini', 1), ('iyo', 1), ('kothi', 2), ('shared', 1), ('uttered', 1), ('trusting', 1), ('noice', 1), ('esaplanade', 1), ('accessible', 1), ('08709501522', 1), ('139', 1), ('la3', 1), ('2wu', 1), ('occurs', 1), ('prof', 2), ('sem', 2), ('student', 2), ('enna', 1), ('kalaachutaarama', 1), ('coco', 1), ('sporadically', 1), ('09064017305', 1), ('pobox75ldns7', 1), ('tbs', 1), ('persolvo', 1), ('forå£38', 1), ('kath', 1), ('manchester', 1), ('youåõre', 1), ('burden', 1), ('noworriesloans', 1), ('08717111821', 1), ('actual', 2), ('harder', 1), ('nbme', 1), ('sickness', 1), ('villa', 1), ('sathya', 2), ('gam', 1), ('smash', 1), ('religiously', 1), ('heroes', 1), ('tips', 1), ('07973788240', 1), ('08715203649', 1), ('dealing', 2), ('muhommad', 1), ('penny', 1), ('doc', 4), ('fiting', 1), ('load', 1), ('mj', 1), ('unconvinced', 1), ('elaborate', 1), ('willpower', 1), ('value', 3), ('absence', 1), ('answerin', 1), ('reasonable', 2), ('åè10', 1), ('evey', 1), ('mnth', 3), ('prin', 1), ('gsoh', 1), ('spam', 1), ('gigolo', 1), ('mens', 1), ('oncall', 1), ('mjzgroup', 1), ('08714342399', 1), ('50rcvd', 1), ('ashwini', 1), ('08707500020', 1), ('ukp', 1), ('09061790125', 1), ('thet', 1), ('skinny', 1), ('casting', 1), ('elections', 1), ('shouldn\\x89û÷t', 1), ('116', 1), ('hlday', 1), ('camp', 1), ('amrca', 1), ('serena', 1), ('prescribed', 1), ('kappa', 2), ('meatballs', 1), ('approve', 1), ('panalam', 1), ('spjanuary', 1), ('fortune', 1), ('allday', 1), ('piss', 2), ('perf', 1), ('outsider', 1), ('receipts\\x89ûówell', 1), ('what\\x89û÷s', 1), ('98321561', 1), ('familiar', 1), ('depression', 1), ('infact', 1), ('simpsons', 1), ('band', 1), ('canåõt', 1), ('isnåõt', 1), ('shite', 1), ('kip', 1), ('hont', 1), ('amanda', 1), ('regard', 1), ('renewing', 1), ('upgrading', 1), ('subject', 1), ('nannys', 1), ('puts', 1), ('perspective', 1), ('conveying', 1), ('debating', 1), ('wtlp', 1), ('guessing', 2), ('jb', 1), (\"joke's\", 1), ('florida', 1), ('hidden', 1), ('royal', 2), ('tog', 3), ('teams', 1), ('swhrt', 1), ('0906346330', 1), ('47', 1), ('po19', 1), ('2ez', 1), ('general', 1), ('jetton', 1), ('cmon', 1), ('sticky', 2), ('replies', 1), ('dealer', 1), ('lunsford', 1), ('enjoying', 1), ('0796xxxxxx', 1), ('prizeawaiting', 1), ('kfc', 1), ('meals', 1), ('gravy', 1), ('07008009200', 1), ('attended', 1), ('mw', 1), ('tuth', 1), (\"mine's\", 1), ('eviction', 1), ('spiral', 1), ('michael', 1), ('riddance', 1), ('suffers', 1), ('raglan', 1), ('edward', 1), ('cricket', 1), ('closeby', 1), ('skye', 1), ('bookedthe', 1), ('hut', 1), ('drastic', 1), ('indicate', 2), ('3750', 1), ('garments', 1), ('sez', 1), ('arab', 1), ('evry1', 1), ('eshxxxxxxxxxxx', 1), ('lay', 1), ('bimbo', 1), (\"ugo's\", 1), ('3lions', 1), ('portege', 1), ('m100', 1), ('semiobscure', 1), ('gprs', 1), ('repeat', 2), ('loosu', 1), ('careless', 1), ('freaking', 1), ('myspace', 1), ('logged', 1), (\"partner's\", 1), ('method', 1), ('calculation', 2), ('blur', 2), ('clothes', 2), ('jewelry', 1), ('breaker', 1), ('deluxe', 1), ('features', 1), ('graphics', 1), ('bbdeluxe', 1), ('lush', 2), ('fumbling', 1), ('2find', 2), ('stone', 1), ('taunton', 4), ('weekdays', 1), ('haiz', 3), ('nails', 1), (\"nobody's\", 1), ('common', 5), ('asia', 1), ('greatest', 1), ('courage', 1), ('bear', 1), ('defeat', 1), ('stil', 1), ('fucked', 2), ('tobed', 1), ('430', 1), ('beauty', 2), ('natalja', 1), ('440', 2), ('nat27081980', 1), ('asthma', 1), ('attack', 1), ('ball', 1), ('moving', 2), ('spin', 1), ('haiyoh', 1), ('million', 1), (\"aunty's\", 1), ('prsn', 1), ('saves', 1), ('sunlight', 2), ('loss', 3), ('audiitions', 1), ('relocate', 1), ('pocked', 1), ('motivating', 1), ('brison', 1), ('spelled', 1), ('caps', 1), ('bullshit', 1), ('motherfucker', 1), ('kit', 1), ('strip', 1), ('1013', 1), ('ig11', 1), ('oja', 1), ('08712402578', 1), ('thesmszone', 1), ('anonymous', 1), ('masked', 1), ('abuse', 1), ('woodland', 1), ('avenue', 1), ('parish', 1), ('magazine', 1), ('billy', 1), ('jogging', 2), ('awww', 1), ('useless', 1), ('loo', 1), ('ed', 1), ('shelf', 1), ('swollen', 1), ('glands', 1), ('previous', 3), ('captain', 3), ('bcaz', 1), ('stu', 1), ('truble', 1), ('evone', 1), ('hates', 1), ('mokka', 2), ('view', 1), ('gays', 1), ('dual', 1), ('hostile', 1), ('haircut', 1), ('breezy', 1), ('09061744553', 1), ('polyh', 1), ('1apple', 1), ('1tulsi', 1), ('leaf', 1), ('1lemon', 1), ('1cup', 1), ('bone', 2), ('problms', 1), ('litres', 1), ('watr', 1), ('diseases', 1), ('snd', 1), ('lavender', 1), ('manky', 1), ('scouse', 1), ('steve', 2), ('travelling', 1), ('inmind', 1), ('recreation', 1), ('epsilon', 2), ('mesages', 1), ('judgemental', 1), ('fridays', 1), ('waheeda', 1), ('bot', 1), ('notes', 1), ('eventually', 1), ('tolerance', 1), ('hits', 1), ('0789xxxxxxx', 1), ('hellogorgeous', 1), ('lst', 2), ('nitw', 1), ('texd', 1), ('hopeu', 1), ('4ward', 1), ('jaz', 1), ('09058091870', 1), ('exorcism', 1), ('emily', 1), ('evry', 2), ('emotion', 1), (\"dsn't\", 3), ('prayrs', 1), ('othrwise', 1), ('ujhhhhhhh', 1), ('sandiago', 1), ('parantella', 1), ('hugging', 1), ('sweater', 1), ('mango', 1), ('massive', 2), ('involved', 1), ('å£600', 1), ('landmark', 1), ('bob', 1), ('barry', 1), ('83738', 1), ('absolutly', 1), ('consent', 1), ('forms', 2), ('tonexs', 1), ('renewed', 1), ('clubzed', 1), ('billing', 1), ('polo', 2), ('373', 2), ('w1j', 2), ('6hl', 2), ('can\\x89û÷t', 1), ('mathews', 1), ('tait', 1), ('edwards', 1), ('anderson', 1), ('haunt', 1), ('promoting', 1), ('hex', 1), ('crowd', 1), ('8000930705', 1), ('snowboarding', 1), ('christmassy', 1), ('recpt', 1), ('baaaaaaaabe', 1), ('ignoring', 1), ('shola', 1), ('academic', 2), ('sagamu', 1), ('lautech', 1), ('vital', 1), ('completes', 1), ('education', 1), ('zealand', 1), ('qet', 1), ('browser', 1), ('surf', 1), ('subscribers', 1), ('convinced', 2), ('conversations', 1), ('senses', 1), ('overemphasise', 1), ('headset', 1), ('adp', 1), ('internal', 1), ('extract', 1), ('immed', 1), ('skint', 1), ('fancied', 1), ('bevies', 1), ('waz', 1), ('othrs', 1), ('spoon', 1), ('watchng', 1), ('comfey', 1), ('quitting', 1), ('least5times', 1), (\"wudn't\", 1), ('coast', 2), (\"ìï'll\", 1), (\"i'ma\", 1), ('frequently', 1), ('cupboard', 1), ('route', 1), ('2mro', 1), ('floppy', 1), ('snappy', 1), ('risk', 1), ('grasp', 1), ('flavour', 1), ('laready', 1), ('denying', 1), ('dom', 1), ('ffffuuuuuuu', 1), ('julianaland', 1), ('oblivious', 1), ('dehydrated', 1), ('mapquest', 1), ('dogwood', 1), ('suppose', 2), ('archive', 1), ('08719839835', 1), ('mgs', 1), ('89123', 1), ('lengths', 1), ('behalf', 1), ('stunning', 1), ('visa', 1), ('gucci', 1), (\"shit's\", 1), ('sozi', 1), ('culdnt', 1), ('talkbut', 1), ('wannatell', 1), ('wenwecan', 1), ('smsing', 1), ('efficient', 1), ('explicit', 2), ('secs', 2), ('02073162414', 2), ('15pm', 1), ('erutupalam', 1), ('thandiyachu', 1), ('invention', 1), ('lyrics', 1), ('nevr', 1), ('unrecognized', 1), ('somone', 1), ('valuing', 1), ('definitly', 1), ('undrstnd', 1), ('ger', 1), ('toking', 1), ('syd', 1), ('khelate', 1), ('kintu', 1), ('opponenter', 1), ('dhorte', 1), ('lage', 1), ('fried', 1), ('spares', 1), ('looovvve', 1), ('warwick', 1), ('tmw', 1), ('canceled', 1), (\"havn't\", 1), ('tops', 1), ('grandma', 1), ('parade', 1), ('proze', 1), ('norcorp', 1), ('posting', 1), ('7cfca1a', 1), ('grumble', 1), ('linear', 1), ('algebra', 1), ('decorating', 1), ('wining', 1), ('946', 1), ('roomate', 1), ('graduated', 1), ('adjustable', 1), ('cooperative', 1), ('allows', 1), ('nottingham', 1), ('63miles', 1), ('40mph', 1), ('clearly', 2), ('mornin', 1), ('thanku', 1), ('guessed', 1), (\"hubby's\", 1), ('89938', 1), ('strings', 1), ('50ea', 1), ('otbox', 1), ('731', 1), ('la1', 1), ('7ws', 1), ('gain', 2), ('beside', 1), ('brisk', 1), ('walks', 1), ('sexiest', 1), ('dirtiest', 1), ('89070', 2), ('tellmiss', 1), (\"party's\", 1), ('contribute', 1), ('greatly', 1), ('urgh', 1), ('coach', 1), ('smells', 1), ('duvet', 1), ('predictive', 1), ('w8in', 1), ('4utxt', 1), ('24th', 1), ('beverage', 1), ('pist', 1), ('surrender', 1), ('symptoms', 1), ('rdy', 1), ('realise', 2), ('backwards', 1), ('abstract', 1), ('africa', 1), ('avin', 1), ('chit', 1), ('logon', 1), ('8883', 1), ('4217', 1), ('w1a', 1), ('6zf', 1), ('118p', 1), ('quiteamuzing', 1), ('thatåõscool', 1), ('å£1000call', 1), ('09071512432', 1), ('300603t', 1), ('callcost150ppmmobilesvary', 1), ('rows', 1), ('mnths', 2), ('engagement', 1), ('fixd', 1), ('njan', 1), ('vilikkam', 1), ('sudn', 1), ('maths', 1), ('chapter', 1), ('chop', 1), ('noooooooo', 1), ('08718727870150ppm', 1), ('firsg', 1), ('split', 1), ('wasnt', 1), ('heat', 1), ('applyed', 1), ('sumfing', 1), ('86888', 2), ('subscribe6gbp', 2), ('3hrs', 2), ('txtstop', 2), ('hiphop', 1), ('managed', 2), ('oxygen', 1), ('resort', 1), ('roller', 1), ('recorder', 1), ('canname', 1), ('capital', 2), ('australia', 1), ('mquiz', 1), ('showr', 1), ('acted', 2), ('upon', 1), ('ceiling', 1), ('presnts', 1), ('bcz', 1), ('mis', 2), ('jeevithathile', 1), ('irulinae', 1), ('neekunna', 1), ('prakasamanu', 1), ('sneham', 1), ('prakasam', 1), ('ennal', 1), (\"'that\", 1), ('mns', 1), (\"is'love'\", 1), ('blowing', 1), ('7634', 1), ('7684', 1), ('firmware', 1), ('vijaykanth', 1), ('anythiing', 1), ('ripped', 1), ('clubmoby', 1), ('08717509990', 1), ('keypad', 1), ('btwn', 1), ('decades', 1), ('goverment', 1), ('expects', 1), ('loyal', 2), ('customers', 2), ('09066380611', 2), ('spice', 1), ('prasanth', 1), ('ettans', 1), ('08718738002', 1), ('48922', 1), ('appy', 1), ('fizz', 1), ('contains', 1), ('genus', 1), ('robinson', 1), ('print', 2), ('outs', 1), ('soz', 1), ('imat', 1), ('mums', 1), ('sometext', 1), ('07099833605', 1), ('9280114', 1), ('chloe', 1), ('wewa', 1), ('130', 1), ('iriver', 1), ('255', 1), ('128', 1), ('bw', 1), ('surly', 1), ('07808726822', 1), ('9758', 1), ('dokey', 2), ('mmmmmmm', 1), ('snuggles', 1), ('contented', 1), ('whispers', 1), ('error', 2), ('healthy', 1), ('2bold', 1), ('brother\\x89û÷s', 1), ('scraped', 1), ('barrel', 1), ('misfits', 1), ('sleepin', 2), ('sections', 1), ('clearer', 1), ('peach', 1), ('tasts', 1), ('rayman', 1), ('golf', 1), ('activ8', 1), ('termsapply', 1), (\"there'll\", 1), ('minor', 2), ('shindig', 1), ('phonebook', 1), ('rocking', 1), ('ashes', 1), (\"xin's\", 1), ('shijutta', 1), ('offense', 1), ('dvg', 1), ('vinobanagar', 1), ('ovulate', 1), ('3wks', 1), ('woah', 1), ('realising', 1), ('orh', 1), ('hides', 1), ('secrets', 1), ('n8', 1), ('axel', 1), ('akon', 1), ('eyed', 1), ('cashbin', 2), ('canteen', 1), ('stressfull', 1), ('adds', 1), ('continued', 1), ('president', 1), ('ì©', 3), ('140', 1), ('ìä', 1), ('180', 1), ('pleasured', 1), ('providing', 1), ('assistance', 1), ('whens', 1), ('1172', 1), ('watever', 1), ('built', 1), ('lonlines', 1), ('lotz', 1), ('memories', 1), ('gailxx', 1), ('complacent', 1), ('denis', 2), ('mina', 1), ('miwa', 1), ('woulda', 2), ('09066649731from', 1), ('opposite', 1), ('heavily', 1), ('dolls', 1), ('patrick', 1), ('swayze', 1), ('santa', 4), ('09077818151', 1), ('calls1', 1), ('50ppm', 1), ('30s', 1), ('santacalling', 1), ('miserable', 2), ('quarter', 1), ('fired', 1), ('limping', 1), ('aa', 1), ('078498', 1), ('08719180219', 1), ('oga', 1), ('poorly', 1), ('punishment', 1), ('brb', 1), ('kill', 1), ('predicte', 1), ('situations', 1), ('loosing', 1), ('smaller', 1), ('capacity', 1), ('videos', 1), ('shsex', 1), ('netun', 1), ('fgkslpopw', 1), ('fgkslpo', 1), ('0871277810710p', 1), ('defer', 1), ('admission', 1), ('checkmate', 1), ('chess', 1), ('persian', 1), ('phrase', 1), ('shah', 1), ('maat', 1), ('rats', 1), ('themes', 1), ('photoshop', 1), ('manageable', 1), ('08715203652', 1), ('42810', 1), ('shoppin', 2), ('ashley', 1), ('increase', 1), ('north', 1), ('carolina', 1), ('texas', 1), ('gre', 1), ('bomb', 1), ('breathing', 1), ('powerful', 1), ('weapon', 1), (\"'heart'\", 1), ('lovly', 1), ('msgrcvd', 1), ('customercare', 1), ('08718726270', 2), ('clas', 1), ('lit', 1), ('loooooool', 1), ('couch', 1), ('celebration', 2), ('rents', 1), ('swashbuckling', 1), ('terror', 1), ('cruel', 1), ('decent', 1), ('joker', 1), (\"dip's\", 1), ('gek1510', 1), ('nuther', 2), ('lyricalladie', 1), ('910', 2), ('hmmross', 1), (\"world's\", 1), ('happiest', 1), ('characters', 1), ('differences', 1), ('lists', 1), (\"tyler's\", 1), ('antibiotic', 1), ('abdomen', 1), ('gynae', 1), ('infections', 2), ('6times', 1), ('exposed', 1), ('chastity', 1), ('device', 1), ('beatings', 1), ('uses', 1), ('gut', 1), ('wrenching', 1), (\"fuck's\", 1), ('tallahassee', 1), ('ou', 1), ('taka', 1), ('pobox202', 1), ('nr31', 1), ('7zs', 1), ('450pw', 1), ('ritten', 1), ('fold', 1), ('warner', 3), ('83118', 1), ('colin', 1), ('farrell', 1), ('swat', 1), ('kiosk', 2), ('mre', 1), ('solihull', 1), ('nhs', 1), ('2b', 1), ('terminated', 1), ('inconvenience', 1), ('dentists', 1), ('henry', 2), ('yards', 1), ('bergkamp', 1), ('margin', 1), ('78', 1), ('parent', 2), (\"it'snot\", 1), (\"child's\", 1), ('unintentional', 1), ('nonetheless', 1), ('hooch', 1), ('toaday', 1), ('splat', 1), ('grazed', 1), ('knees', 1), ('deny', 1), ('hearin', 1), ('yah', 1), ('torture', 1), ('hopeing', 1), ('wasn\\x89û÷t', 1), ('sisters', 1), ('sexychat', 1), ('lips', 1), ('congratulation', 1), ('court', 1), ('chapel', 1), ('frontierville', 1), ('mountain', 1), ('deer', 1), ('mailed', 1), ('varma', 1), ('secure', 1), ('parties', 1), ('farting', 1), ('ortxt', 1), ('select', 2), ('trained', 1), ('advisors', 1), ('dialling', 1), ('402', 1), ('woot', 2), ('stuffing', 1), ('ahhhh', 1), ('dining', 2), ('experiencehttp', 1), ('vouch4me', 1), ('etlp', 1), ('kaila', 1), ('09058094507', 1), ('donate', 2), (\"unicef's\", 1), ('asian', 1), ('tsunami', 1), ('disaster', 1), ('fund', 1), ('864233', 1), ('cme', 2), ('hos', 1), ('parking', 2), ('collapsed', 1), ('cumming', 1), ('jade', 1), ('paul', 1), ('barmed', 1), ('thinkthis', 1), ('dangerous', 1), ('goldviking', 2), ('762', 2), ('rushing', 1), ('coulda', 1), ('phony', 1), ('okday', 1), ('hmph', 1), ('baller', 1), ('punto', 1), ('ayo', 1), ('travelled', 1), ('å£125', 1), ('freeentry', 1), ('xt', 1), ('toyota', 1), ('camry', 1), (\"olayiwola's\", 1), ('mileage', 1), ('landing', 1), ('clover', 1), ('achan', 1), ('amma', 1), (\"'rencontre'\", 1), ('mountains', 1), ('08714712412', 1), ('nìâte', 1), ('puppy', 1), ('noise', 1), ('sarasota', 2), ('meg', 1), ('08715203685', 1), ('4xx26', 1), ('13', 2), ('crossing', 1), ('deepest', 1), ('darkest', 1), ('09094646631', 1), ('inconvenient', 1), ('adsense', 1), ('approved', 1), ('dudette', 1), ('perumbavoor', 1), ('stage', 1), ('cherish', 2), ('clarify', 1), ('preponed', 1), ('natalie', 1), ('165', 2), ('natalie2k9', 1), ('younger', 1), ('wallpaper', 3), ('08701213186', 1), ('liver', 1), ('opener', 1), ('guides', 1), ('watched', 1), ('loneliness', 1), ('skyving', 1), (\"dad's\", 1), ('onwords', 1), ('mtnl', 1), ('mumbai', 1), ('83039', 1), ('62735', 1), ('å£450', 1), ('accommodationvouchers', 1), ('mustprovide', 1), ('15541', 1), ('rajitha', 1), ('ranju', 1), ('styles', 1), ('tscs08714740323', 1), ('1winawk', 1), ('50perweeksub', 1), ('slp', 1), ('muah', 1), ('09066361921', 1), ('disagreeable', 1), ('afterwards', 1), ('uawake', 1), ('feellikw', 1), ('justfound', 1), ('aletter', 1), ('thatmum', 1), ('gotmarried', 1), ('4thnov', 1), ('ourbacks', 1), ('fuckinnice', 1), ('rearrange', 1), ('dormitory', 1), ('astronomer', 1), ('starer', 1), ('election', 1), ('recount', 1), ('hitler', 1), ('eleven', 1), ('worms', 1), ('suffering', 1), ('dysentry', 1), ('andre', 1), (\"virgil's\", 1), ('gokila', 1), ('shanil', 1), ('exchanged', 1), ('uncut', 1), ('diamond', 1), ('dino', 1), ('kotees', 1), ('panther', 1), ('sugababes', 1), ('zebra', 1), ('animation', 1), ('badass', 1), ('hoody', 1), ('resent', 1), ('queries', 1), ('customersqueries', 1), ('netvision', 1), ('hassling', 1), ('andres', 1), ('haughaighgtujhyguj', 1), ('fassyole', 1), ('blacko', 1), ('londn', 1), ('4eva', 2), ('responsibilities', 1), ('08715205273', 1), ('vco', 1), ('humanities', 1), ('reassurance', 1), ('aslamalaikkum', 1), ('tohar', 1), ('beeen', 1), ('muht', 1), ('albi', 1), ('mufti', 1), ('mahfuuz', 1), ('078', 1), ('enufcredeit', 1), ('tocall', 1), ('ileave', 1), ('treats', 1), ('okors', 1), ('ibored', 1), ('adding', 1), ('zeros', 1), ('savings', 1), ('goigng', 1), ('perfume', 1), ('sday', 1), ('grocers', 1), ('pubs', 1), ('frankie', 1), ('bennys', 1), ('changing', 1), ('diapers', 1), ('owed', 1), ('unlike', 1), ('patients', 1), ('turkeys', 1), ('helens', 1), ('princes', 1), ('unintentionally', 1), ('garden', 1), ('bulbs', 1), ('seeds', 1), ('scotsman', 1), ('go2', 1), ('notxt', 1), ('wenever', 1), ('stability', 1), ('tranquility', 1), ('vibrant', 1), ('colourful', 1), ('bawling', 1), ('failure', 1), ('failing', 1), ('velusamy', 1), (\"sir's\", 1), ('facilities', 1), ('karnan', 1), ('bluray', 1), ('i\\x89û÷ve', 1), ('salt', 1), ('wounds', 1), ('logging', 1), ('geoenvironmental', 1), ('implications', 1), ('fuuuuck', 1), ('salmon', 1), ('uploaded', 1), ('wrkin', 1), ('ree', 1), ('compensation', 1), ('awkward', 1), ('splash', 1), ('leg', 1), ('musta', 1), ('overdid', 1), ('telediscount', 1), ('gastroenteritis', 1), ('replace', 1), ('reduce', 1), ('limiting', 1), ('illness', 1), ('foned', 1), ('chuck', 1), ('port', 1), ('step', 4), ('stuffs', 1), ('juswoke', 1), ('boatin', 1), ('docks', 1), ('spinout', 1), ('08715203656', 1), ('42049', 1), ('uworld', 1), ('qbank', 1), ('assessment', 1), ('someonone', 1), ('09064015307', 1), ('tke', 1), ('temales', 1), ('finishd', 1), ('09061213237', 2), ('177', 2), ('m227xy', 2), ('dull', 1), ('studies', 1), ('anyones', 1), ('treadmill', 1), ('craigslist', 1), ('absolutely', 1), ('swan', 1), ('lamp', 1), ('foward', 1), ('09061790126', 1), ('misundrstud', 1), ('2u2', 1), ('genes', 1), ('com1win150ppmx3age16subscription', 1), ('resuming', 1), ('reapply', 1), (\"treatin'\", 1), ('treacle', 1), ('mumhas', 1), ('beendropping', 1), ('theplace', 1), ('adress', 1), ('favorite', 2), ('oyster', 1), ('sashimi', 1), ('rumbling', 1), ('marandratha', 1), ('correctly', 1), ('alaikkum', 1), ('pride', 2), ('respectful', 2), ('heaven', 1), ('pisces', 1), ('aquarius', 1), ('2yrs', 1), ('steyn', 1), ('wicket', 1), ('sterm', 1), ('resolved', 1), ('jam', 1), ('hannaford', 1), ('wheat', 1), ('chex', 1), ('grownup', 1), ('costume', 1), ('jerk', 1), ('stink', 1), ('follows', 1), ('subsequent', 1), ('openings', 1), ('upcharge', 1), ('guai', 1), ('bottle', 3), ('amused', 2), ('astrology', 1), (\"ryan's\", 1), ('slacking', 1), ('mentor', 1), ('percent', 1), ('09095350301', 1), ('erotic', 1), ('ecstacy', 1), ('dept', 1), ('08717507382', 1), ('coincidence', 1), ('sane', 1), ('helping', 1), ('leading', 1), ('151', 1), ('pause', 1), ('gr8prizes', 2), ('8800', 1), ('psp', 1), ('spacebucks', 1), (\"weather's\", 1), ('083', 1), ('6089', 1), ('squeezed', 1), ('maintaining', 1), ('dreading', 1), ('thou', 1), ('suggestion', 1), ('lands', 1), ('helps', 1), ('forgt', 1), ('ajith', 1), ('ooooooh', 1), ('yoville', 1), ('mega', 2), ('asda', 1), ('counts', 1), ('officer', 1), ('bffs', 1), ('carly', 1), ('seperated', 1), ('\\x8eö´\\x89ó', 1), ('\\x8bû¬ud', 1), ('brolly', 1), ('franxx', 1), ('prometazine', 1), ('syrup', 1), ('5mls', 1), ('feed', 1), ('shu', 2), ('singapore', 1), ('victoria', 1), ('island', 2), ('pocay', 1), ('wocay', 1), ('2morrowxxxx', 1), ('broth', 1), ('ramen', 1), ('fowler', 1), ('tats', 1), ('flew', 1), ('09058094583', 1), ('attention', 1), ('tix', 1), (\"biola's\", 1), ('fne', 1), ('youdoing', 1), ('worc', 1), ('foregate', 1), ('shrub', 1), ('get4an18th', 1), ('32000', 1), ('legitimat', 1), ('efreefone', 1), ('receipts', 1), ('pendent', 1), ('toilet', 1), ('stolen', 1), ('cops', 1), ('hu', 1), ('navigate', 1), ('choosing', 1), ('require', 1), ('guidance', 1), ('chick', 1), ('boobs', 1), ('revealing', 1), ('sparkling', 1), ('breaks', 1), ('45', 1), ('0121', 1), ('2025050', 1), ('shortbreaks', 1), ('org', 1), ('gyno', 1), ('belong', 1), ('gamb', 1), ('treasure', 1), ('820554ad0a1705572711', 1), ('trueåác', 1), ('ringtoneåá', 1), ('09050000332', 1), (\"mummy's\", 1), ('positive', 1), ('negative', 1), ('hmmmm', 1), ('command', 1), ('stressful', 1), ('holby', 1), ('09064017295', 1), ('li', 1), ('lecturer', 1), ('repeating', 1), ('yeovil', 1), ('motor', 1), ('max', 1), ('rhode', 1), ('bong', 1), ('ofcourse', 1), ('2p', 2), ('08448350055', 1), ('planettalkinstant', 1), ('marvel', 1), ('ultimate', 1), ('spider', 2), ('83338', 1), ('8ball', 1), ('tamilnadu', 1), ('tip', 1), ('07808247860', 1), ('08719899229', 1), ('40411', 1), ('identification', 1), ('limit', 1), ('boundaries', 1), ('endless', 1), ('reassuring', 1), ('young', 1), ('referin', 1), (\"mei's\", 1), ('saibaba', 1), ('colany', 1), ('chic', 1), ('declare', 1), ('49557', 1), ('disappointment', 1), ('irritation', 1), (\"tantrum's\", 1), ('compliments', 1), ('adventuring', 1), ('chief', 1), ('gsex', 1), ('2667', 1), ('wc1n', 1), ('3xx', 1), ('3mobile', 1), ('chatlines', 1), ('inclu', 1), ('servs', 1), ('l8er', 1), ('bailiff', 1), ('mouse', 1), ('desk', 1), ('childporn', 1), ('jumpers', 1), ('hat', 1), ('belt', 1), ('cribbs', 1), ('spiritual', 1), ('barring', 1), ('sudden', 1), ('influx', 1), ('kane', 1), ('shud', 1), ('pshew', 1), ('units', 1), ('accent', 1), ('4years', 1), ('dental', 1), ('nmde', 1), ('dump', 1), ('heap', 1), ('lowes', 1), ('salesman', 1), ('å£750', 1), ('087187272008', 1), ('now1', 1), ('pity', 1), ('suggestions', 1), ('bitching', 1)])"
      ]
     },
     "execution_count": 30,
     "metadata": {},
     "output_type": "execute_result"
    }
   ],
   "source": [
    "# 빈도수도 확인할 수 있습니다.\n",
    "tokenizer.word_counts.items()"
   ]
  },
  {
   "cell_type": "markdown",
   "metadata": {},
   "source": [
    "빈도수가 낮은 단어들이 훈련 데이터에서 얼만큼의 비중을 차지하는지 확인할 수 있습니다."
   ]
  },
  {
   "cell_type": "code",
   "execution_count": 31,
   "metadata": {},
   "outputs": [],
   "source": [
    "threshold = 2\n",
    "total_cnt = len(word_to_index) # 단어의 수\n",
    "rare_cnt = 0 # 등장 빈도가 threshold보다 작은 단어의 개수를 카운트\n",
    "total_freq = 0 # 훈련 데이터의 전체 단어 빈도수 총 합\n",
    "rare_freq = 0 # 등장 빈도수가 threshold보다 작은 단어의 등장 빈도수의 총 합\n",
    "\n",
    "# 단어와 빈도수의 쌍을 key와 value로 받는다.\n",
    "for key, value in tokenizer.word_counts.items():\n",
    "    total_freq = total_freq + value # 단어 전체 빈도수 총합을 쌓아주고\n",
    "    \n",
    "    # 단어의 등장 빈도수가 threshold보다 작으면\n",
    "    if(value < threshold):\n",
    "        rare_cnt +=1 # 레어 단어 수를 카운트 올리고\n",
    "        rare_freq += value # 레어 총 빈도 수를 올린다."
   ]
  },
  {
   "cell_type": "code",
   "execution_count": 34,
   "metadata": {},
   "outputs": [
    {
     "name": "stdout",
     "output_type": "stream",
     "text": [
      "등장 빈도가 1번 이하인 희귀 단어의 수: 4908\n",
      "단어 집합(vocabulary)에서 희귀 단어의 비율: 55.02  %\n",
      "전체 등장 빈도에서 희귀 단어 등장 빈도 비율: 6.08  %\n"
     ]
    }
   ],
   "source": [
    "print('등장 빈도가 %s번 이하인 희귀 단어의 수: %s'%(threshold - 1, rare_cnt))\n",
    "print(\"단어 집합(vocabulary)에서 희귀 단어의 비율:\", round((rare_cnt / total_cnt)*100, 2), \" %\")\n",
    "print(\"전체 등장 빈도에서 희귀 단어 등장 빈도 비율:\", round((rare_freq / total_freq)*100, 2), \" %\")"
   ]
  },
  {
   "cell_type": "markdown",
   "metadata": {},
   "source": [
    "등장 빈도가 1번 이하인 희귀 단어의 수가 매우 많지만 빈도 비율은 6% 밖에 되지 않습니다.\n",
    "\n",
    "혹시나 등장 빈도가 낮은 단어를 제외하고 싶다면 케라스 토크나이저 선언시 조건을 주면 됩니다.\n",
    "\n",
    "- tokenizer = Tokenizer(num_words = total_cnt - rare_cnt + 1)"
   ]
  },
  {
   "cell_type": "markdown",
   "metadata": {},
   "source": [
    "이제 단어 집합의 크기를 vocab_size에 저장하겠습니다. 주의할 점은 패딩을 위한 토큰인 0번 단어를 고려하며 +1을 해서 저장해주어야 한다는 점입니다."
   ]
  },
  {
   "cell_type": "code",
   "execution_count": 35,
   "metadata": {},
   "outputs": [
    {
     "data": {
      "text/plain": [
       "8921"
      ]
     },
     "execution_count": 35,
     "metadata": {},
     "output_type": "execute_result"
    }
   ],
   "source": [
    "vocab_size = len(word_to_index) + 1\n",
    "vocab_size"
   ]
  },
  {
   "cell_type": "code",
   "execution_count": 36,
   "metadata": {},
   "outputs": [
    {
     "data": {
      "text/plain": [
       "(4135, 1034)"
      ]
     },
     "execution_count": 36,
     "metadata": {},
     "output_type": "execute_result"
    }
   ],
   "source": [
    "# 트레인 테스트 데이터 비율 정하기\n",
    "\n",
    "n_train = int(len(sequences) * 0.8)\n",
    "n_test = int(len(sequences) - n_train)\n",
    "\n",
    "n_train, n_test"
   ]
  },
  {
   "cell_type": "markdown",
   "metadata": {},
   "source": [
    "데이터 분포를 확인하고 패딩을 하겠습니다."
   ]
  },
  {
   "cell_type": "code",
   "execution_count": 37,
   "metadata": {},
   "outputs": [
    {
     "name": "stdout",
     "output_type": "stream",
     "text": [
      "max length : 189\n",
      "avg length : 15.610370\n"
     ]
    }
   ],
   "source": [
    "X_data = sequences # 토큰화 및 인덱싱 된 피쳐를 때려박아 줍니다.\n",
    "\n",
    "print(\"max length : %d\" % max(len(l) for l in X_data))\n",
    "print(\"avg length : %f\" % (sum(map(len, X_data))/len(X_data)))"
   ]
  },
  {
   "cell_type": "code",
   "execution_count": 38,
   "metadata": {},
   "outputs": [
    {
     "data": {
      "image/png": "[encoded data removed]",
      "text/plain": [
       "<Figure size 432x288 with 1 Axes>"
      ]
     },
     "metadata": {
      "needs_background": "light"
     },
     "output_type": "display_data"
    }
   ],
   "source": [
    "plt.hist([len(s) for s in X_data], bins=50)\n",
    "plt.xlabel(\"length\")\n",
    "plt.ylabel('number')\n",
    "plt.show()"
   ]
  },
  {
   "cell_type": "code",
   "execution_count": 39,
   "metadata": {},
   "outputs": [
    {
     "data": {
      "text/plain": [
       "(5169, 189)"
      ]
     },
     "execution_count": 39,
     "metadata": {},
     "output_type": "execute_result"
    }
   ],
   "source": [
    "max_len = 189\n",
    "# 전체 데이터셋의 길이는 max_len으로 맞춥니다.\n",
    "\n",
    "# 패딩을 해줍니다.\n",
    "data = pad_sequences(X_data, maxlen=max_len)\n",
    "data.shape"
   ]
  },
  {
   "cell_type": "code",
   "execution_count": 43,
   "metadata": {},
   "outputs": [
    {
     "data": {
      "text/plain": [
       "array([[   0,    0,    0,    0,    0,    0,    0,    0,    0,    0,    0,\n",
       "           0,    0,    0,    0,    0,    0,    0,    0,    0,    0,    0,\n",
       "           0,    0,    0,    0,    0,    0,    0,    0,    0,    0,    0,\n",
       "           0,    0,    0,    0,    0,    0,    0,    0,    0,    0,    0,\n",
       "           0,    0,    0,    0,    0,    0,    0,    0,    0,    0,    0,\n",
       "           0,    0,    0,    0,    0,    0,    0,    0,    0,    0,    0,\n",
       "           0,    0,    0,    0,    0,    0,    0,    0,    0,    0,    0,\n",
       "           0,    0,    0,    0,    0,    0,    0,    0,    0,    0,    0,\n",
       "           0,    0,    0,    0,    0,    0,    0,    0,    0,    0,    0,\n",
       "           0,    0,    0,    0,    0,    0,    0,    0,    0,    0,    0,\n",
       "           0,    0,    0,    0,    0,    0,    0,    0,    0,    0,    0,\n",
       "           0,    0,    0,    0,    0,    0,    0,    0,    0,    0,    0,\n",
       "           0,    0,    0,    0,    0,    0,    0,    0,    0,    0,    0,\n",
       "           0,    0,    0,    0,    0,    0,    0,    0,    0,    0,    0,\n",
       "           0,    0,    0,    0,    0,    0,    0,    0,    0,    0,    0,\n",
       "           0,    0,    0,    0,   47,  433, 4013,  780,  705,  662,   64,\n",
       "           8, 1202,   94,  121,  434, 1203,  142, 2712, 1204,   68,   57,\n",
       "        4014,  137]])"
      ]
     },
     "execution_count": 43,
     "metadata": {},
     "output_type": "execute_result"
    }
   ],
   "source": [
    "data[:1]"
   ]
  },
  {
   "cell_type": "code",
   "execution_count": 44,
   "metadata": {},
   "outputs": [],
   "source": [
    "# train_test_split\n",
    "\n",
    "X_test = data[n_train:]\n",
    "y_test = np.array(y_data[n_train:])\n",
    "X_train = data[:n_train]\n",
    "y_train = np.array(y_data[:n_train])"
   ]
  },
  {
   "cell_type": "markdown",
   "metadata": {},
   "source": [
    "### 11.2.3. Modeling"
   ]
  },
  {
   "cell_type": "markdown",
   "metadata": {},
   "source": [
    "이제 바닐라RNN을 이용해서 스팸메일 분류기를 만들어보도록 하겠습니다."
   ]
  },
  {
   "cell_type": "code",
   "execution_count": 45,
   "metadata": {},
   "outputs": [],
   "source": [
    "from keras.layers import SimpleRNN, Embedding, Dense\n",
    "from keras.models import Sequential"
   ]
  },
  {
   "cell_type": "code",
   "execution_count": 46,
   "metadata": {},
   "outputs": [],
   "source": [
    "model = Sequential()"
   ]
  },
  {
   "cell_type": "code",
   "execution_count": 47,
   "metadata": {},
   "outputs": [],
   "source": [
    "model.add(Embedding(vocab_size, 32)) # 임베딩 벡터는 32차원\n",
    "model.add(SimpleRNN(32))\n",
    "model.add(Dense(1, activation='sigmoid'))"
   ]
  },
  {
   "cell_type": "code",
   "execution_count": 48,
   "metadata": {},
   "outputs": [],
   "source": [
    "model.compile(optimizer='rmsprop',\n",
    "             loss = 'binary_crossentropy',\n",
    "             metrics=['acc'])"
   ]
  },
  {
   "cell_type": "code",
   "execution_count": 49,
   "metadata": {},
   "outputs": [
    {
     "name": "stderr",
     "output_type": "stream",
     "text": [
      "C:\\Users\\thinp\\anaconda3\\envs\\Wyatt37\\lib\\site-packages\\tensorflow\\python\\framework\\indexed_slices.py:434: UserWarning: Converting sparse IndexedSlices to a dense Tensor of unknown shape. This may consume a large amount of memory.\n",
      "  \"Converting sparse IndexedSlices to a dense Tensor of unknown shape. \"\n"
     ]
    },
    {
     "name": "stdout",
     "output_type": "stream",
     "text": [
      "Train on 3308 samples, validate on 827 samples\n",
      "Epoch 1/4\n",
      "3308/3308 [==============================] - 3s 797us/step - loss: 0.5023 - acc: 0.8038 - val_loss: 0.3636 - val_acc: 0.8730\n",
      "Epoch 2/4\n",
      "3308/3308 [==============================] - 2s 683us/step - loss: 0.2366 - acc: 0.9181 - val_loss: 0.1032 - val_acc: 0.9734\n",
      "Epoch 3/4\n",
      "3308/3308 [==============================] - 2s 671us/step - loss: 0.0658 - acc: 0.9849 - val_loss: 0.0617 - val_acc: 0.9794\n",
      "Epoch 4/4\n",
      "3308/3308 [==============================] - 2s 718us/step - loss: 0.0399 - acc: 0.9897 - val_loss: 0.0586 - val_acc: 0.9794\n"
     ]
    }
   ],
   "source": [
    "history = model.fit(X_train,\n",
    "                    y_train,\n",
    "                    epochs=4,\n",
    "                    batch_size=64,\n",
    "                    validation_split=0.2) # 훈련 데이터의 20%를 검증 데이터로 나눕니다."
   ]
  },
  {
   "cell_type": "code",
   "execution_count": 50,
   "metadata": {},
   "outputs": [
    {
     "name": "stdout",
     "output_type": "stream",
     "text": [
      "1034/1034 [==============================] - 0s 265us/step\n",
      "0.9854932427406311\n"
     ]
    }
   ],
   "source": [
    "print(model.evaluate(X_test, y_test)[1])"
   ]
  },
  {
   "cell_type": "markdown",
   "metadata": {},
   "source": [
    "98% 가 나왔습니다."
   ]
  },
  {
   "cell_type": "markdown",
   "metadata": {},
   "source": [
    "시각화를 해보겠습니다."
   ]
  },
  {
   "cell_type": "code",
   "execution_count": 51,
   "metadata": {},
   "outputs": [
    {
     "data": {
      "image/png": "[encoded data removed]",
      "text/plain": [
       "<Figure size 432x288 with 1 Axes>"
      ]
     },
     "metadata": {
      "needs_background": "light"
     },
     "output_type": "display_data"
    }
   ],
   "source": [
    "epochs = range(1, len(history.history['acc']) + 1)\n",
    "\n",
    "plt.plot(epochs, history.history['loss'])\n",
    "plt.plot(epochs, history.history['val_loss'])\n",
    "plt.title('model loss')\n",
    "plt.ylabel('loss')\n",
    "plt.xlabel('epoch')\n",
    "plt.legend(['train', 'val'], loc='upper left')\n",
    "plt.show()"
   ]
  },
  {
   "cell_type": "markdown",
   "metadata": {},
   "source": [
    "크로스 포인트가 에포크 3 ~ 3.5 사이에서 일어나는 것을 알 수 있습니다. 그 이상은 오버피팅이 됩니다."
   ]
  },
  {
   "cell_type": "markdown",
   "metadata": {},
   "source": [
    "## 11.3. 로이터 뉴스 분류하기"
   ]
  },
  {
   "cell_type": "markdown",
   "metadata": {},
   "source": [
    "이번 챕터에서는 케라스에서 제공하는 로이터 뉴스 데이터를 LSTM을 이용하여 텍스트 분류를 진행해보도록 하겠습니다."
   ]
  },
  {
   "cell_type": "markdown",
   "metadata": {},
   "source": [
    "### 11.3.1. 로이터 뉴스 데이터에 대한 이해"
   ]
  },
  {
   "cell_type": "code",
   "execution_count": 4,
   "metadata": {},
   "outputs": [
    {
     "name": "stderr",
     "output_type": "stream",
     "text": [
      "Using TensorFlow backend.\n"
     ]
    }
   ],
   "source": [
    "from keras.datasets import reuters"
   ]
  },
  {
   "cell_type": "code",
   "execution_count": 6,
   "metadata": {},
   "outputs": [],
   "source": [
    "(X_train, y_train), (X_test, y_test)=reuters.load_data(num_words=None,\n",
    "                                                        test_split=0.2)"
   ]
  },
  {
   "cell_type": "markdown",
   "metadata": {},
   "source": [
    "num_words는 이 데이터에서 등장 빈도 순위로 몇 번째에 해당하는 단어까지만 사용할 것인지 조절합니다. 예를 들어 100이란 값을 넣으면, 등장 빈도 순위가 1~100에 해당하는 단어만 사용하게 됩니다."
   ]
  },
  {
   "cell_type": "code",
   "execution_count": 7,
   "metadata": {},
   "outputs": [
    {
     "name": "stdout",
     "output_type": "stream",
     "text": [
      "훈련용 뉴스 기사 : 8982\n",
      "테스트용 뉴스 기사 : 2246\n",
      "카테고리 : 46\n"
     ]
    }
   ],
   "source": [
    "print('훈련용 뉴스 기사 : {}'.format(len(X_train)))\n",
    "print('테스트용 뉴스 기사 : {}'.format(len(X_test)))\n",
    "num_classes = max(y_train) + 1\n",
    "print('카테고리 : {}'.format(num_classes))"
   ]
  },
  {
   "cell_type": "code",
   "execution_count": 8,
   "metadata": {},
   "outputs": [
    {
     "name": "stdout",
     "output_type": "stream",
     "text": [
      "[1, 27595, 28842, 8, 43, 10, 447, 5, 25, 207, 270, 5, 3095, 111, 16, 369, 186, 90, 67, 7, 89, 5, 19, 102, 6, 19, 124, 15, 90, 67, 84, 22, 482, 26, 7, 48, 4, 49, 8, 864, 39, 209, 154, 6, 151, 6, 83, 11, 15, 22, 155, 11, 15, 7, 48, 9, 4579, 1005, 504, 6, 258, 6, 272, 11, 15, 22, 134, 44, 11, 15, 16, 8, 197, 1245, 90, 67, 52, 29, 209, 30, 32, 132, 6, 109, 15, 17, 12]\n",
      "3\n"
     ]
    }
   ],
   "source": [
    "print(X_train[0]) # 첫번째 훈련용 뉴스 기사\n",
    "print(y_train[0]) # 첫번째 훈련용 뉴스 기사의 레이블"
   ]
  },
  {
   "cell_type": "markdown",
   "metadata": {},
   "source": [
    "토큰화와 정수화가 끝난 상태입니다."
   ]
  },
  {
   "cell_type": "code",
   "execution_count": 9,
   "metadata": {},
   "outputs": [
    {
     "name": "stdout",
     "output_type": "stream",
     "text": [
      "뉴스 기사의 최대 길이: 2376\n",
      "뉴스 기사의 평균 길이: 145.5398574927633\n"
     ]
    },
    {
     "data": {
      "image/png": "[encoded data removed]",
      "text/plain": [
       "<Figure size 432x288 with 1 Axes>"
      ]
     },
     "metadata": {
      "needs_background": "light"
     },
     "output_type": "display_data"
    }
   ],
   "source": [
    "print('뉴스 기사의 최대 길이: {}'.format(max(len(l) for l in X_train)))\n",
    "print('뉴스 기사의 평균 길이: {}'.format(sum(map(len, X_train))/len(X_train)))\n",
    "\n",
    "plt.hist([len(s) for s in X_train], bins=50)\n",
    "plt.xlabel('length')\n",
    "plt.ylabel('number')\n",
    "plt.show()"
   ]
  },
  {
   "cell_type": "markdown",
   "metadata": {},
   "source": [
    "대체적으로 대부분의 뉴스는 100~200 사이의 길이를 가지는 것으로 알 수 있습니다.\n",
    "\n",
    "이제 각 뉴스가 어떤 종류의 뉴스에 속하는지 기재되어있는 레이블 값의 분포를 살펴보겠습니다."
   ]
  },
  {
   "cell_type": "code",
   "execution_count": 13,
   "metadata": {},
   "outputs": [
    {
     "data": {
      "image/png": "[encoded data removed]",
      "text/plain": [
       "<Figure size 864x360 with 1 Axes>"
      ]
     },
     "metadata": {
      "needs_background": "light"
     },
     "output_type": "display_data"
    }
   ],
   "source": [
    "fig, axe = plt.subplots(ncols=1)\n",
    "fig.set_size_inches(12, 5)\n",
    "sns.countplot(y_train)\n",
    "plt.show()"
   ]
  },
  {
   "cell_type": "markdown",
   "metadata": {},
   "source": [
    "3번과 4번이 가장 많습니다. 19번과 16번, 1번, 11번도 적당히 있습니다."
   ]
  },
  {
   "cell_type": "code",
   "execution_count": 14,
   "metadata": {},
   "outputs": [
    {
     "name": "stdout",
     "output_type": "stream",
     "text": [
      "각 레이블에 대한 빈도수:\n",
      "[[   0    1    2    3    4    5    6    7    8    9   10   11   12   13\n",
      "    14   15   16   17   18   19   20   21   22   23   24   25   26   27\n",
      "    28   29   30   31   32   33   34   35   36   37   38   39   40   41\n",
      "    42   43   44   45]\n",
      " [  55  432   74 3159 1949   17   48   16  139  101  124  390   49  172\n",
      "    26   20  444   39   66  549  269  100   15   41   62   92   24   15\n",
      "    48   19   45   39   32   11   50   10   49   19   19   24   36   30\n",
      "    13   21   12   18]]\n"
     ]
    }
   ],
   "source": [
    "unique_elements, counts_elements = np.unique(y_train, return_counts=True)\n",
    "# 이렇게 하면 유니크 값과 빈도 수를 받는 구나. 오호 유레카.\n",
    "print(\"각 레이블에 대한 빈도수:\")\n",
    "print(np.asarray((unique_elements, counts_elements)))"
   ]
  },
  {
   "cell_type": "markdown",
   "metadata": {},
   "source": [
    "### 11.3.2. LSTM으로 로이터 뉴스 분류하기"
   ]
  },
  {
   "cell_type": "code",
   "execution_count": 15,
   "metadata": {},
   "outputs": [],
   "source": [
    "from keras.datasets import reuters\n",
    "from keras.models import Sequential\n",
    "from keras.layers import Dense, LSTM, Embedding\n",
    "from keras.preprocessing.sequence import pad_sequences\n",
    "from keras.utils import to_categorical\n",
    "from keras.callbacks import EarlyStopping, ModelCheckpoint\n",
    "from keras.models import load_model"
   ]
  },
  {
   "cell_type": "markdown",
   "metadata": {},
   "source": [
    "학습에는 등장 빈도 순서가 가장 많은 1 ~ 1,000번째인 단어들만 사용하겠습니다."
   ]
  },
  {
   "cell_type": "code",
   "execution_count": 16,
   "metadata": {},
   "outputs": [],
   "source": [
    "(X_train, y_train), (X_test, y_test) = reuters.load_data(num_words=1000,\n",
    "                                                        test_split=0.2)"
   ]
  },
  {
   "cell_type": "code",
   "execution_count": 22,
   "metadata": {},
   "outputs": [],
   "source": [
    "# 평균 길이는 145였으나 100으로 패딩을 하겠습니다.\n",
    "\n",
    "max_len = 100\n",
    "X_train = pad_sequences(X_train, maxlen=max_len)\n",
    "X_test = pad_sequences(X_test, maxlen=max_len)"
   ]
  },
  {
   "cell_type": "code",
   "execution_count": 24,
   "metadata": {},
   "outputs": [],
   "source": [
    "# 그 다음 레이블 데이터에 원핫인코딩을 해줍니다.\n",
    "# 원래 레이블은 46개 클래스였습니다.\n",
    "\n",
    "y_train = to_categorical(y_train)\n",
    "y_test = to_categorical(y_test)"
   ]
  },
  {
   "cell_type": "markdown",
   "metadata": {},
   "source": [
    "모델링 하겠습니다."
   ]
  },
  {
   "cell_type": "code",
   "execution_count": 26,
   "metadata": {},
   "outputs": [],
   "source": [
    "model = Sequential()"
   ]
  },
  {
   "cell_type": "code",
   "execution_count": 27,
   "metadata": {},
   "outputs": [],
   "source": [
    "# Embedding 레이어의 인자는 vocab_size와 Embedding Dimension 입니다.\n",
    "# vocab_size는 상위 1,000개만 받아왔으니 당연히 1,000개입니다.\n",
    "# 임베딩 벡터 차원은 120개로 가겠습니다.\n",
    "\n",
    "# Dense 레이어는 46개의 클래스를 분류해야 하므로 46의 차원을 인풋합니다.\n",
    "# 또한 softmax로 다중클래스 분류 확률 분포를 뽑아냅니다.\n",
    "model.add(Embedding(1000,120))\n",
    "model.add(LSTM(120))\n",
    "model.add(Dense(46, activation='softmax'))"
   ]
  },
  {
   "cell_type": "code",
   "execution_count": 28,
   "metadata": {},
   "outputs": [],
   "source": [
    "# val_data의 loss가 증가하면 과적합 징후이므로, 4회 증가할 경우 Early Stopping 시키겠습니다.\n",
    "# 또한 model checkpoint를 사용하여 val_data의 정확도val_acc가 이전보다 좋아질 경우에만 모델을 저장합니다.\n",
    "\n",
    "es = EarlyStopping(monitor='val_loss',\n",
    "                  mode='min',\n",
    "                  verbose=1,\n",
    "                  patience=4)\n",
    "\n",
    "mc = ModelCheckpoint('best_model.h5',\n",
    "                    monitor='val_acc',\n",
    "                    mode='max',\n",
    "                    verbose=1,\n",
    "                    save_best_only=True)"
   ]
  },
  {
   "cell_type": "code",
   "execution_count": 29,
   "metadata": {},
   "outputs": [],
   "source": [
    "# compile 하겠습니다.\n",
    "\n",
    "model.compile(loss='categorical_crossentropy', optimizer='adam', metrics=['acc'])"
   ]
  },
  {
   "cell_type": "code",
   "execution_count": 30,
   "metadata": {},
   "outputs": [
    {
     "name": "stdout",
     "output_type": "stream",
     "text": [
      "Model: \"sequential_1\"\n",
      "_________________________________________________________________\n",
      "Layer (type)                 Output Shape              Param #   \n",
      "=================================================================\n",
      "embedding_1 (Embedding)      (None, None, 120)         120000    \n",
      "_________________________________________________________________\n",
      "lstm_1 (LSTM)                (None, 120)               115680    \n",
      "_________________________________________________________________\n",
      "dense_1 (Dense)              (None, 46)                5566      \n",
      "=================================================================\n",
      "Total params: 241,246\n",
      "Trainable params: 241,246\n",
      "Non-trainable params: 0\n",
      "_________________________________________________________________\n"
     ]
    }
   ],
   "source": [
    "model.summary()"
   ]
  },
  {
   "cell_type": "code",
   "execution_count": 31,
   "metadata": {},
   "outputs": [
    {
     "name": "stderr",
     "output_type": "stream",
     "text": [
      "C:\\Users\\thinp\\anaconda3\\envs\\Wyatt37\\lib\\site-packages\\tensorflow\\python\\framework\\indexed_slices.py:434: UserWarning: Converting sparse IndexedSlices to a dense Tensor of unknown shape. This may consume a large amount of memory.\n",
      "  \"Converting sparse IndexedSlices to a dense Tensor of unknown shape. \"\n"
     ]
    },
    {
     "name": "stdout",
     "output_type": "stream",
     "text": [
      "Train on 8982 samples, validate on 2246 samples\n",
      "Epoch 1/30\n",
      "8982/8982 [==============================] - 34s 4ms/step - loss: 2.6361 - acc: 0.3305 - val_loss: 2.3971 - val_acc: 0.3620\n",
      "\n",
      "Epoch 00001: val_acc improved from -inf to 0.36198, saving model to best_model.h5\n",
      "Epoch 2/30\n",
      "8982/8982 [==============================] - 34s 4ms/step - loss: 2.1600 - acc: 0.4216 - val_loss: 1.8912 - val_acc: 0.5116\n",
      "\n",
      "Epoch 00002: val_acc improved from 0.36198 to 0.51158, saving model to best_model.h5\n",
      "Epoch 3/30\n",
      "8982/8982 [==============================] - 33s 4ms/step - loss: 1.8323 - acc: 0.5210 - val_loss: 1.7582 - val_acc: 0.5521\n",
      "\n",
      "Epoch 00003: val_acc improved from 0.51158 to 0.55209, saving model to best_model.h5\n",
      "Epoch 4/30\n",
      "8982/8982 [==============================] - 32s 4ms/step - loss: 1.6878 - acc: 0.5612 - val_loss: 1.7077 - val_acc: 0.5779\n",
      "\n",
      "Epoch 00004: val_acc improved from 0.55209 to 0.57792, saving model to best_model.h5\n",
      "Epoch 5/30\n",
      "8982/8982 [==============================] - 32s 4ms/step - loss: 1.5887 - acc: 0.5942 - val_loss: 1.6111 - val_acc: 0.5922\n",
      "\n",
      "Epoch 00005: val_acc improved from 0.57792 to 0.59216, saving model to best_model.h5\n",
      "Epoch 6/30\n",
      "8982/8982 [==============================] - 26s 3ms/step - loss: 1.5027 - acc: 0.6187 - val_loss: 1.5870 - val_acc: 0.6069\n",
      "\n",
      "Epoch 00006: val_acc improved from 0.59216 to 0.60686, saving model to best_model.h5\n",
      "Epoch 7/30\n",
      "8982/8982 [==============================] - 31s 3ms/step - loss: 1.5185 - acc: 0.6002 - val_loss: 1.5520 - val_acc: 0.5913\n",
      "\n",
      "Epoch 00007: val_acc did not improve from 0.60686\n",
      "Epoch 8/30\n",
      "8982/8982 [==============================] - 29s 3ms/step - loss: 1.3874 - acc: 0.6365 - val_loss: 1.4388 - val_acc: 0.6376\n",
      "\n",
      "Epoch 00008: val_acc improved from 0.60686 to 0.63758, saving model to best_model.h5\n",
      "Epoch 9/30\n",
      "8982/8982 [==============================] - 30s 3ms/step - loss: 1.3169 - acc: 0.6573 - val_loss: 1.4588 - val_acc: 0.6260\n",
      "\n",
      "Epoch 00009: val_acc did not improve from 0.63758\n",
      "Epoch 10/30\n",
      "8982/8982 [==============================] - 29s 3ms/step - loss: 1.2659 - acc: 0.6696 - val_loss: 1.3764 - val_acc: 0.6456\n",
      "\n",
      "Epoch 00010: val_acc improved from 0.63758 to 0.64559, saving model to best_model.h5\n",
      "Epoch 11/30\n",
      "8982/8982 [==============================] - 32s 4ms/step - loss: 1.2097 - acc: 0.6828 - val_loss: 1.3872 - val_acc: 0.6420\n",
      "\n",
      "Epoch 00011: val_acc did not improve from 0.64559\n",
      "Epoch 12/30\n",
      "8982/8982 [==============================] - 29s 3ms/step - loss: 1.1762 - acc: 0.6925 - val_loss: 1.3274 - val_acc: 0.6638\n",
      "\n",
      "Epoch 00012: val_acc improved from 0.64559 to 0.66385, saving model to best_model.h5\n",
      "Epoch 13/30\n",
      "8982/8982 [==============================] - 32s 4ms/step - loss: 1.1352 - acc: 0.7081 - val_loss: 1.3253 - val_acc: 0.6692\n",
      "\n",
      "Epoch 00013: val_acc improved from 0.66385 to 0.66919, saving model to best_model.h5\n",
      "Epoch 14/30\n",
      "8982/8982 [==============================] - 36s 4ms/step - loss: 1.0860 - acc: 0.7223 - val_loss: 1.2840 - val_acc: 0.6817\n",
      "\n",
      "Epoch 00014: val_acc improved from 0.66919 to 0.68166, saving model to best_model.h5\n",
      "Epoch 15/30\n",
      "8982/8982 [==============================] - 35s 4ms/step - loss: 1.0285 - acc: 0.7339 - val_loss: 1.2753 - val_acc: 0.6852\n",
      "\n",
      "Epoch 00015: val_acc improved from 0.68166 to 0.68522, saving model to best_model.h5\n",
      "Epoch 16/30\n",
      "8982/8982 [==============================] - 33s 4ms/step - loss: 1.0035 - acc: 0.7438 - val_loss: 1.2625 - val_acc: 0.6803\n",
      "\n",
      "Epoch 00016: val_acc did not improve from 0.68522\n",
      "Epoch 17/30\n",
      "8982/8982 [==============================] - 32s 4ms/step - loss: 0.9797 - acc: 0.7487 - val_loss: 1.2542 - val_acc: 0.6941\n",
      "\n",
      "Epoch 00017: val_acc improved from 0.68522 to 0.69412, saving model to best_model.h5\n",
      "Epoch 18/30\n",
      "8982/8982 [==============================] - 33s 4ms/step - loss: 0.9317 - acc: 0.7665 - val_loss: 1.2406 - val_acc: 0.6959\n",
      "\n",
      "Epoch 00018: val_acc improved from 0.69412 to 0.69590, saving model to best_model.h5\n",
      "Epoch 19/30\n",
      "8982/8982 [==============================] - 32s 4ms/step - loss: 0.9148 - acc: 0.7691 - val_loss: 1.2441 - val_acc: 0.6963\n",
      "\n",
      "Epoch 00019: val_acc improved from 0.69590 to 0.69635, saving model to best_model.h5\n",
      "Epoch 20/30\n",
      "8982/8982 [==============================] - 32s 4ms/step - loss: 0.8815 - acc: 0.7760 - val_loss: 1.2225 - val_acc: 0.7012\n",
      "\n",
      "Epoch 00020: val_acc improved from 0.69635 to 0.70125, saving model to best_model.h5\n",
      "Epoch 21/30\n",
      "8982/8982 [==============================] - 33s 4ms/step - loss: 0.8339 - acc: 0.7887 - val_loss: 1.2141 - val_acc: 0.7070\n",
      "\n",
      "Epoch 00021: val_acc improved from 0.70125 to 0.70703, saving model to best_model.h5\n",
      "Epoch 22/30\n",
      "8982/8982 [==============================] - 32s 4ms/step - loss: 0.8232 - acc: 0.7908 - val_loss: 1.2493 - val_acc: 0.6968\n",
      "\n",
      "Epoch 00022: val_acc did not improve from 0.70703\n",
      "Epoch 23/30\n",
      "8982/8982 [==============================] - 35s 4ms/step - loss: 0.8210 - acc: 0.7898 - val_loss: 1.1962 - val_acc: 0.7106\n",
      "\n",
      "Epoch 00023: val_acc improved from 0.70703 to 0.71060, saving model to best_model.h5\n",
      "Epoch 24/30\n",
      "8982/8982 [==============================] - 34s 4ms/step - loss: 0.7610 - acc: 0.8056 - val_loss: 1.1962 - val_acc: 0.7110\n",
      "\n",
      "Epoch 00024: val_acc improved from 0.71060 to 0.71104, saving model to best_model.h5\n",
      "Epoch 25/30\n",
      "8982/8982 [==============================] - 34s 4ms/step - loss: 0.7282 - acc: 0.8160 - val_loss: 1.2522 - val_acc: 0.6955\n",
      "\n",
      "Epoch 00025: val_acc did not improve from 0.71104\n",
      "Epoch 26/30\n",
      "8982/8982 [==============================] - 36s 4ms/step - loss: 0.7237 - acc: 0.8174 - val_loss: 1.2112 - val_acc: 0.7102\n",
      "\n",
      "Epoch 00026: val_acc did not improve from 0.71104\n",
      "Epoch 27/30\n",
      "8982/8982 [==============================] - 33s 4ms/step - loss: 0.6793 - acc: 0.8257 - val_loss: 1.2148 - val_acc: 0.7119\n",
      "\n",
      "Epoch 00027: val_acc improved from 0.71104 to 0.71193, saving model to best_model.h5\n",
      "Epoch 28/30\n",
      "8982/8982 [==============================] - 33s 4ms/step - loss: 0.6540 - acc: 0.8353 - val_loss: 1.2340 - val_acc: 0.7155\n",
      "\n",
      "Epoch 00028: val_acc improved from 0.71193 to 0.71549, saving model to best_model.h5\n",
      "Epoch 00028: early stopping\n"
     ]
    }
   ],
   "source": [
    "# train 합니다. val_data로 X_test, y_test 를 사용합니다.\n",
    "# val_loss가 증가하는 상황이 오면 overfitting으로 판단하기 위함입니다.\n",
    "\n",
    "history = model.fit(X_train,\n",
    "                    y_train,\n",
    "                    batch_size=128,\n",
    "                   epochs=30,\n",
    "                   callbacks=[es, mc],\n",
    "                   validation_data=(X_test, y_test))"
   ]
  },
  {
   "cell_type": "markdown",
   "metadata": {},
   "source": [
    "훈련이 다 되었다면 베스트 모델을 로드하고 성능을 평가합니다."
   ]
  },
  {
   "cell_type": "code",
   "execution_count": 32,
   "metadata": {},
   "outputs": [
    {
     "name": "stdout",
     "output_type": "stream",
     "text": [
      "2246/2246 [==============================] - 3s 1ms/step\n",
      "\n",
      " 테스트 정확도: 0.7155\n"
     ]
    }
   ],
   "source": [
    "loaded_model = load_model('best_model.h5')\n",
    "print(\"\\n 테스트 정확도: %.4f\" % (loaded_model.evaluate(X_test, y_test)[1]))"
   ]
  },
  {
   "cell_type": "markdown",
   "metadata": {},
   "source": [
    "model.fit()에서 val_data는 실제 기계가 훈련하지는 않고 정확도와 loss를 판단하기 위한 용도로만 사용합니다. 그래서 model.evaluate()에서 다시 사용해도 문제가 없습니다. 물론 데이터가 많다면 다른 데이터셋으로 하는 게 좋긴 합ㄴ디ㅏ."
   ]
  },
  {
   "cell_type": "code",
   "execution_count": 33,
   "metadata": {},
   "outputs": [
    {
     "data": {
      "image/png": "[encoded data removed]",
      "text/plain": [
       "<Figure size 432x288 with 1 Axes>"
      ]
     },
     "metadata": {
      "needs_background": "light"
     },
     "output_type": "display_data"
    }
   ],
   "source": [
    "# 에포크마다 변화하는 훈련데이터와 검증데이터의 손실을 시각화해보겠습니다.\n",
    "\n",
    "epochs = range(1, len(history.history['acc'])+1)\n",
    "plt.plot(epochs, history.history['loss'])\n",
    "plt.plot(epochs, history.history['val_loss'])\n",
    "plt.title('model loss')\n",
    "plt.xlabel('epochs')\n",
    "plt.ylabel('loss')\n",
    "plt.legend(['train', 'test'], loc='upper left')\n",
    "plt.show()"
   ]
  },
  {
   "cell_type": "markdown",
   "metadata": {},
   "source": [
    "test 데이터가  val_data인데, epochs가 20을 넘어가지 왔다리 갔다리 하죠? overfitting 신호입니다."
   ]
  },
  {
   "cell_type": "markdown",
   "metadata": {},
   "source": [
    "## 11.4. IMDB 리뷰 감성 분류하기(IMDB Movie Review Sentiment Analysis)"
   ]
  },
  {
   "cell_type": "markdown",
   "metadata": {},
   "source": [
    "머신러닝에서 텍스트 분류, 그 중에서도 특히, 감성 분류를 연습하기 위해 자주 사용하는 데이터는 영화 사이트 IMDB의 리뷰 데이터입니다. 해당 리뷰가 긍정일 경우 1, 부정일 경우 0으로 표시한 레이블로 구성된 데이터입니다."
   ]
  },
  {
   "cell_type": "markdown",
   "metadata": {},
   "source": [
    "### 11.4.1. Data Understading"
   ]
  },
  {
   "cell_type": "code",
   "execution_count": 3,
   "metadata": {},
   "outputs": [],
   "source": [
    "from keras.datasets import imdb\n",
    "%matplotlib inline\n",
    "import matplotlib.pyplot as plt\n",
    "import numpy as np"
   ]
  },
  {
   "cell_type": "code",
   "execution_count": 4,
   "metadata": {},
   "outputs": [],
   "source": [
    "# 데이터 로드\n",
    "\n",
    "(X_train, y_train), (X_test, y_test) = imdb.load_data() # num_words 인자를 넣어주면 해당 빈도 수만큼만"
   ]
  },
  {
   "cell_type": "code",
   "execution_count": 5,
   "metadata": {},
   "outputs": [
    {
     "name": "stdout",
     "output_type": "stream",
     "text": [
      "25000\n",
      "25000\n",
      "2\n"
     ]
    }
   ],
   "source": [
    "# 데이터 확인\n",
    "\n",
    "print(len(X_train))\n",
    "print(len(X_test))\n",
    "num_classes = max(y_train) +1\n",
    "print(num_classes)"
   ]
  },
  {
   "cell_type": "code",
   "execution_count": 6,
   "metadata": {},
   "outputs": [
    {
     "name": "stdout",
     "output_type": "stream",
     "text": [
      "[1, 14, 22, 16, 43, 530, 973, 1622, 1385, 65, 458, 4468, 66, 3941, 4, 173, 36, 256, 5, 25, 100, 43, 838, 112, 50, 670, 22665, 9, 35, 480, 284, 5, 150, 4, 172, 112, 167, 21631, 336, 385, 39, 4, 172, 4536, 1111, 17, 546, 38, 13, 447, 4, 192, 50, 16, 6, 147, 2025, 19, 14, 22, 4, 1920, 4613, 469, 4, 22, 71, 87, 12, 16, 43, 530, 38, 76, 15, 13, 1247, 4, 22, 17, 515, 17, 12, 16, 626, 18, 19193, 5, 62, 386, 12, 8, 316, 8, 106, 5, 4, 2223, 5244, 16, 480, 66, 3785, 33, 4, 130, 12, 16, 38, 619, 5, 25, 124, 51, 36, 135, 48, 25, 1415, 33, 6, 22, 12, 215, 28, 77, 52, 5, 14, 407, 16, 82, 10311, 8, 4, 107, 117, 5952, 15, 256, 4, 31050, 7, 3766, 5, 723, 36, 71, 43, 530, 476, 26, 400, 317, 46, 7, 4, 12118, 1029, 13, 104, 88, 4, 381, 15, 297, 98, 32, 2071, 56, 26, 141, 6, 194, 7486, 18, 4, 226, 22, 21, 134, 476, 26, 480, 5, 144, 30, 5535, 18, 51, 36, 28, 224, 92, 25, 104, 4, 226, 65, 16, 38, 1334, 88, 12, 16, 283, 5, 16, 4472, 113, 103, 32, 15, 16, 5345, 19, 178, 32]\n",
      "1\n"
     ]
    }
   ],
   "source": [
    "print(X_train[0])\n",
    "print(y_train[0])"
   ]
  },
  {
   "cell_type": "markdown",
   "metadata": {},
   "source": [
    "데이터가 토큰화, 정수화가 끝나 있습니다. 레이블은 1과 0으로 되어 있습니다.\n",
    "\n",
    "참고로 IMDB 데이터는 빈도 순위로 인덱싱을 해주었습니다. 1은 가장 많은 빈도를 가진 단어입니다.\n",
    "\n",
    "언제나 그렇듯이 리뷰의 길이 분포도를 살펴보겠습니다."
   ]
  },
  {
   "cell_type": "code",
   "execution_count": 7,
   "metadata": {},
   "outputs": [
    {
     "name": "stdout",
     "output_type": "stream",
     "text": [
      "2494\n",
      "238.71364\n"
     ]
    }
   ],
   "source": [
    "len_result = [len(s) for s in X_train]\n",
    "\n",
    "print(np.max(len_result))\n",
    "print(np.mean(len_result))"
   ]
  },
  {
   "cell_type": "code",
   "execution_count": 9,
   "metadata": {},
   "outputs": [
    {
     "data": {
      "image/png": "[encoded data removed]",
      "text/plain": [
       "<Figure size 432x288 with 2 Axes>"
      ]
     },
     "metadata": {
      "needs_background": "light"
     },
     "output_type": "display_data"
    }
   ],
   "source": [
    "plt.subplot(1, 2, 1)\n",
    "plt.boxplot(len_result)\n",
    "plt.subplot(1, 2, 2)\n",
    "plt.hist(len_result, bins=50)\n",
    "plt.show()"
   ]
  },
  {
   "cell_type": "code",
   "execution_count": 10,
   "metadata": {},
   "outputs": [
    {
     "name": "stdout",
     "output_type": "stream",
     "text": [
      "[[    0     1]\n",
      " [12500 12500]]\n"
     ]
    }
   ],
   "source": [
    "unique_elements, counts_elements = np.unique(y_train, return_counts=True)\n",
    "print(np.asarray((unique_elements, counts_elements)))"
   ]
  },
  {
   "cell_type": "code",
   "execution_count": 11,
   "metadata": {},
   "outputs": [],
   "source": [
    "# 워드 인덱스 확인\n",
    "\n",
    "word_to_index = imdb.get_word_index()\n",
    "index_to_word = {}\n",
    "for key, value in word_to_index.items():\n",
    "    index_to_word[value] = key"
   ]
  },
  {
   "cell_type": "code",
   "execution_count": 14,
   "metadata": {},
   "outputs": [
    {
     "name": "stdout",
     "output_type": "stream",
     "text": [
      "빈도 수 상위 1위 단어: the\n"
     ]
    }
   ],
   "source": [
    "print('빈도 수 상위 1위 단어: {}'.format(index_to_word[1]))"
   ]
  },
  {
   "cell_type": "code",
   "execution_count": 15,
   "metadata": {},
   "outputs": [
    {
     "name": "stdout",
     "output_type": "stream",
     "text": [
      "빈도 수 상위 357위 단어: rest\n"
     ]
    }
   ],
   "source": [
    "print('빈도 수 상위 357위 단어: {}'.format(index_to_word[357]))"
   ]
  },
  {
   "cell_type": "code",
   "execution_count": 17,
   "metadata": {},
   "outputs": [
    {
     "name": "stdout",
     "output_type": "stream",
     "text": [
      "<sos> as you with out themselves powerful lets loves their becomes reaching had journalist of lot from anyone to have after out atmosphere never more room titillate it so heart shows to years of every never going villaronga help moments or of every chest visual movie except her was several of enough more with is now current film as you of mine potentially unfortunately of you than him that with out themselves her get for was camp of you movie sometimes movie that with scary but pratfalls to story wonderful that in seeing in character to of 70s musicians with heart had shadows they of here that with her serious to have does when from why what have critics they is you that isn't one will very to as itself with other tricky in of seen over landed for anyone of gilmore's br show's to whether from than out themselves history he name half some br of 'n odd was two most of mean for 1 any an boat she he should is thought frog but of script you not while history he heart to real at barrel but when from one bit then have two of script their with her nobody most that with wasn't to with armed acting watch an for with heartfelt film want an\n"
     ]
    }
   ],
   "source": [
    "# 디토큰화 확인하기\n",
    "\n",
    "for index, token in enumerate((\"<pad>\", \"<sos>\", \"unk\")):\n",
    "    index_to_word[index] = token\n",
    "    \n",
    "print(' '.join([index_to_word[index] for index in X_train[0]]))"
   ]
  },
  {
   "cell_type": "markdown",
   "metadata": {},
   "source": [
    "### 11.4.2. LSTM으로 IMDB 리뷰 감성 분류하기"
   ]
  },
  {
   "cell_type": "code",
   "execution_count": 18,
   "metadata": {},
   "outputs": [],
   "source": [
    "from keras.preprocessing.sequence import pad_sequences\n",
    "from keras.models import Sequential\n",
    "from keras.layers import Dense, LSTM, Embedding\n",
    "from keras.callbacks import EarlyStopping, ModelCheckpoint"
   ]
  },
  {
   "cell_type": "code",
   "execution_count": 19,
   "metadata": {},
   "outputs": [],
   "source": [
    "# 이번에는 작은 단위의 데이터를 가져옵니다.\n",
    "\n",
    "(X_train, y_train), (X_test, y_test) = imdb.load_data(num_words=5000)"
   ]
  },
  {
   "cell_type": "code",
   "execution_count": 20,
   "metadata": {},
   "outputs": [],
   "source": [
    "# 패딩\n",
    "\n",
    "max_len = 500\n",
    "X_train = pad_sequences(X_train, maxlen=max_len)\n",
    "X_test = pad_sequences(X_test, maxlen=max_len)"
   ]
  },
  {
   "cell_type": "code",
   "execution_count": 21,
   "metadata": {},
   "outputs": [],
   "source": [
    "# 모델 아키텍트\n",
    "\n",
    "model = Sequential()"
   ]
  },
  {
   "cell_type": "code",
   "execution_count": 22,
   "metadata": {},
   "outputs": [],
   "source": [
    "model.add(Embedding(5000, 120)) # vocab_size = 5,000 이고 Embedding Dimension은 120차원\n",
    "model.add(LSTM(120))\n",
    "model.add(Dense(1, activation='sigmoid')) # 1과 0을 분류하기 때문에 sigmoid"
   ]
  },
  {
   "cell_type": "code",
   "execution_count": 23,
   "metadata": {},
   "outputs": [],
   "source": [
    "es = EarlyStopping(monitor='val_loss', # validate loss로\n",
    "                  mode = 'min', # 최소기준\n",
    "                  verbose=1, \n",
    "                  patience=3) # 세번 참아라.\n",
    "\n",
    "mc = ModelCheckpoint('best_model.h5', # 베스트 모델\n",
    "                    monitor='val_loss', # validate loss로\n",
    "                    mode='max', # 최대 기준\n",
    "                    verbose=1, \n",
    "                    save_best_only=True) # 베스트 모델만 찾아라."
   ]
  },
  {
   "cell_type": "code",
   "execution_count": 24,
   "metadata": {},
   "outputs": [],
   "source": [
    "model.compile(loss='binary_crossentropy', # 이진분류 바이너리, 로스는 크로스엔트로피.\n",
    "             optimizer='adam',\n",
    "             metrics=['acc'])"
   ]
  },
  {
   "cell_type": "code",
   "execution_count": 25,
   "metadata": {},
   "outputs": [
    {
     "name": "stdout",
     "output_type": "stream",
     "text": [
      "Model: \"sequential_1\"\n",
      "_________________________________________________________________\n",
      "Layer (type)                 Output Shape              Param #   \n",
      "=================================================================\n",
      "embedding_1 (Embedding)      (None, None, 120)         600000    \n",
      "_________________________________________________________________\n",
      "lstm_1 (LSTM)                (None, 120)               115680    \n",
      "_________________________________________________________________\n",
      "dense_1 (Dense)              (None, 1)                 121       \n",
      "=================================================================\n",
      "Total params: 715,801\n",
      "Trainable params: 715,801\n",
      "Non-trainable params: 0\n",
      "_________________________________________________________________\n"
     ]
    }
   ],
   "source": [
    "model.summary()"
   ]
  },
  {
   "cell_type": "code",
   "execution_count": 26,
   "metadata": {
    "collapsed": true,
    "jupyter": {
     "outputs_hidden": true
    }
   },
   "outputs": [
    {
     "name": "stderr",
     "output_type": "stream",
     "text": [
      "C:\\Users\\thinp\\anaconda3\\envs\\Wyatt37\\lib\\site-packages\\tensorflow\\python\\framework\\indexed_slices.py:434: UserWarning: Converting sparse IndexedSlices to a dense Tensor of unknown shape. This may consume a large amount of memory.\n",
      "  \"Converting sparse IndexedSlices to a dense Tensor of unknown shape. \"\n"
     ]
    },
    {
     "name": "stdout",
     "output_type": "stream",
     "text": [
      "Train on 25000 samples, validate on 25000 samples\n",
      "Epoch 1/10\n",
      "24960/25000 [============================>.] - ETA: 0s - loss: 0.4366 - acc: 0.7899"
     ]
    },
    {
     "ename": "KeyboardInterrupt",
     "evalue": "",
     "output_type": "error",
     "traceback": [
      "\u001b[1;31m---------------------------------------------------------------------------\u001b[0m",
      "\u001b[1;31mKeyboardInterrupt\u001b[0m                         Traceback (most recent call last)",
      "\u001b[1;32m<ipython-input-26-4834f51a175d>\u001b[0m in \u001b[0;36m<module>\u001b[1;34m\u001b[0m\n\u001b[0;32m      4\u001b[0m          \u001b[0mepochs\u001b[0m\u001b[1;33m=\u001b[0m\u001b[1;36m10\u001b[0m\u001b[1;33m,\u001b[0m\u001b[1;33m\u001b[0m\u001b[1;33m\u001b[0m\u001b[0m\n\u001b[0;32m      5\u001b[0m          \u001b[0mbatch_size\u001b[0m\u001b[1;33m=\u001b[0m\u001b[1;36m64\u001b[0m\u001b[1;33m,\u001b[0m\u001b[1;33m\u001b[0m\u001b[1;33m\u001b[0m\u001b[0m\n\u001b[1;32m----> 6\u001b[1;33m          callbacks=[es, mc])\n\u001b[0m",
      "\u001b[1;32m~\\anaconda3\\envs\\Wyatt37\\lib\\site-packages\\keras\\engine\\training.py\u001b[0m in \u001b[0;36mfit\u001b[1;34m(self, x, y, batch_size, epochs, verbose, callbacks, validation_split, validation_data, shuffle, class_weight, sample_weight, initial_epoch, steps_per_epoch, validation_steps, validation_freq, max_queue_size, workers, use_multiprocessing, **kwargs)\u001b[0m\n\u001b[0;32m   1237\u001b[0m                                         \u001b[0msteps_per_epoch\u001b[0m\u001b[1;33m=\u001b[0m\u001b[0msteps_per_epoch\u001b[0m\u001b[1;33m,\u001b[0m\u001b[1;33m\u001b[0m\u001b[1;33m\u001b[0m\u001b[0m\n\u001b[0;32m   1238\u001b[0m                                         \u001b[0mvalidation_steps\u001b[0m\u001b[1;33m=\u001b[0m\u001b[0mvalidation_steps\u001b[0m\u001b[1;33m,\u001b[0m\u001b[1;33m\u001b[0m\u001b[1;33m\u001b[0m\u001b[0m\n\u001b[1;32m-> 1239\u001b[1;33m                                         validation_freq=validation_freq)\n\u001b[0m\u001b[0;32m   1240\u001b[0m \u001b[1;33m\u001b[0m\u001b[0m\n\u001b[0;32m   1241\u001b[0m     def evaluate(self,\n",
      "\u001b[1;32m~\\anaconda3\\envs\\Wyatt37\\lib\\site-packages\\keras\\engine\\training_arrays.py\u001b[0m in \u001b[0;36mfit_loop\u001b[1;34m(model, fit_function, fit_inputs, out_labels, batch_size, epochs, verbose, callbacks, val_function, val_inputs, shuffle, initial_epoch, steps_per_epoch, validation_steps, validation_freq)\u001b[0m\n\u001b[0;32m    208\u001b[0m                                          \u001b[0mbatch_size\u001b[0m\u001b[1;33m=\u001b[0m\u001b[0mbatch_size\u001b[0m\u001b[1;33m,\u001b[0m\u001b[1;33m\u001b[0m\u001b[1;33m\u001b[0m\u001b[0m\n\u001b[0;32m    209\u001b[0m                                          \u001b[0mcallbacks\u001b[0m\u001b[1;33m=\u001b[0m\u001b[0mcallbacks\u001b[0m\u001b[1;33m,\u001b[0m\u001b[1;33m\u001b[0m\u001b[1;33m\u001b[0m\u001b[0m\n\u001b[1;32m--> 210\u001b[1;33m                                          verbose=0)\n\u001b[0m\u001b[0;32m    211\u001b[0m                     \u001b[0mval_outs\u001b[0m \u001b[1;33m=\u001b[0m \u001b[0mto_list\u001b[0m\u001b[1;33m(\u001b[0m\u001b[0mval_outs\u001b[0m\u001b[1;33m)\u001b[0m\u001b[1;33m\u001b[0m\u001b[1;33m\u001b[0m\u001b[0m\n\u001b[0;32m    212\u001b[0m                     \u001b[1;31m# Same labels assumed.\u001b[0m\u001b[1;33m\u001b[0m\u001b[1;33m\u001b[0m\u001b[1;33m\u001b[0m\u001b[0m\n",
      "\u001b[1;32m~\\anaconda3\\envs\\Wyatt37\\lib\\site-packages\\keras\\engine\\training_arrays.py\u001b[0m in \u001b[0;36mtest_loop\u001b[1;34m(model, f, ins, batch_size, verbose, steps, callbacks)\u001b[0m\n\u001b[0;32m    447\u001b[0m             \u001b[0mbatch_logs\u001b[0m \u001b[1;33m=\u001b[0m \u001b[1;33m{\u001b[0m\u001b[1;34m'batch'\u001b[0m\u001b[1;33m:\u001b[0m \u001b[0mbatch_index\u001b[0m\u001b[1;33m,\u001b[0m \u001b[1;34m'size'\u001b[0m\u001b[1;33m:\u001b[0m \u001b[0mlen\u001b[0m\u001b[1;33m(\u001b[0m\u001b[0mbatch_ids\u001b[0m\u001b[1;33m)\u001b[0m\u001b[1;33m}\u001b[0m\u001b[1;33m\u001b[0m\u001b[1;33m\u001b[0m\u001b[0m\n\u001b[0;32m    448\u001b[0m             \u001b[0mcallbacks\u001b[0m\u001b[1;33m.\u001b[0m\u001b[0m_call_batch_hook\u001b[0m\u001b[1;33m(\u001b[0m\u001b[1;34m'test'\u001b[0m\u001b[1;33m,\u001b[0m \u001b[1;34m'begin'\u001b[0m\u001b[1;33m,\u001b[0m \u001b[0mbatch_index\u001b[0m\u001b[1;33m,\u001b[0m \u001b[0mbatch_logs\u001b[0m\u001b[1;33m)\u001b[0m\u001b[1;33m\u001b[0m\u001b[1;33m\u001b[0m\u001b[0m\n\u001b[1;32m--> 449\u001b[1;33m             \u001b[0mbatch_outs\u001b[0m \u001b[1;33m=\u001b[0m \u001b[0mf\u001b[0m\u001b[1;33m(\u001b[0m\u001b[0mins_batch\u001b[0m\u001b[1;33m)\u001b[0m\u001b[1;33m\u001b[0m\u001b[1;33m\u001b[0m\u001b[0m\n\u001b[0m\u001b[0;32m    450\u001b[0m             \u001b[1;32mif\u001b[0m \u001b[0misinstance\u001b[0m\u001b[1;33m(\u001b[0m\u001b[0mbatch_outs\u001b[0m\u001b[1;33m,\u001b[0m \u001b[0mlist\u001b[0m\u001b[1;33m)\u001b[0m\u001b[1;33m:\u001b[0m\u001b[1;33m\u001b[0m\u001b[1;33m\u001b[0m\u001b[0m\n\u001b[0;32m    451\u001b[0m                 \u001b[1;32mif\u001b[0m \u001b[0mbatch_index\u001b[0m \u001b[1;33m==\u001b[0m \u001b[1;36m0\u001b[0m\u001b[1;33m:\u001b[0m\u001b[1;33m\u001b[0m\u001b[1;33m\u001b[0m\u001b[0m\n",
      "\u001b[1;32m~\\anaconda3\\envs\\Wyatt37\\lib\\site-packages\\tensorflow\\python\\keras\\backend.py\u001b[0m in \u001b[0;36m__call__\u001b[1;34m(self, inputs)\u001b[0m\n\u001b[0;32m   3790\u001b[0m         \u001b[0mvalue\u001b[0m \u001b[1;33m=\u001b[0m \u001b[0mmath_ops\u001b[0m\u001b[1;33m.\u001b[0m\u001b[0mcast\u001b[0m\u001b[1;33m(\u001b[0m\u001b[0mvalue\u001b[0m\u001b[1;33m,\u001b[0m \u001b[0mtensor\u001b[0m\u001b[1;33m.\u001b[0m\u001b[0mdtype\u001b[0m\u001b[1;33m)\u001b[0m\u001b[1;33m\u001b[0m\u001b[1;33m\u001b[0m\u001b[0m\n\u001b[0;32m   3791\u001b[0m       \u001b[0mconverted_inputs\u001b[0m\u001b[1;33m.\u001b[0m\u001b[0mappend\u001b[0m\u001b[1;33m(\u001b[0m\u001b[0mvalue\u001b[0m\u001b[1;33m)\u001b[0m\u001b[1;33m\u001b[0m\u001b[1;33m\u001b[0m\u001b[0m\n\u001b[1;32m-> 3792\u001b[1;33m     \u001b[0moutputs\u001b[0m \u001b[1;33m=\u001b[0m \u001b[0mself\u001b[0m\u001b[1;33m.\u001b[0m\u001b[0m_graph_fn\u001b[0m\u001b[1;33m(\u001b[0m\u001b[1;33m*\u001b[0m\u001b[0mconverted_inputs\u001b[0m\u001b[1;33m)\u001b[0m\u001b[1;33m\u001b[0m\u001b[1;33m\u001b[0m\u001b[0m\n\u001b[0m\u001b[0;32m   3793\u001b[0m \u001b[1;33m\u001b[0m\u001b[0m\n\u001b[0;32m   3794\u001b[0m     \u001b[1;31m# EagerTensor.numpy() will often make a copy to ensure memory safety.\u001b[0m\u001b[1;33m\u001b[0m\u001b[1;33m\u001b[0m\u001b[1;33m\u001b[0m\u001b[0m\n",
      "\u001b[1;32m~\\anaconda3\\envs\\Wyatt37\\lib\\site-packages\\tensorflow\\python\\eager\\function.py\u001b[0m in \u001b[0;36m__call__\u001b[1;34m(self, *args, **kwargs)\u001b[0m\n\u001b[0;32m   1603\u001b[0m       \u001b[0mTypeError\u001b[0m\u001b[1;33m:\u001b[0m \u001b[0mFor\u001b[0m \u001b[0minvalid\u001b[0m \u001b[0mpositional\u001b[0m\u001b[1;33m/\u001b[0m\u001b[0mkeyword\u001b[0m \u001b[0margument\u001b[0m \u001b[0mcombinations\u001b[0m\u001b[1;33m.\u001b[0m\u001b[1;33m\u001b[0m\u001b[1;33m\u001b[0m\u001b[0m\n\u001b[0;32m   1604\u001b[0m     \"\"\"\n\u001b[1;32m-> 1605\u001b[1;33m     \u001b[1;32mreturn\u001b[0m \u001b[0mself\u001b[0m\u001b[1;33m.\u001b[0m\u001b[0m_call_impl\u001b[0m\u001b[1;33m(\u001b[0m\u001b[0margs\u001b[0m\u001b[1;33m,\u001b[0m \u001b[0mkwargs\u001b[0m\u001b[1;33m)\u001b[0m\u001b[1;33m\u001b[0m\u001b[1;33m\u001b[0m\u001b[0m\n\u001b[0m\u001b[0;32m   1606\u001b[0m \u001b[1;33m\u001b[0m\u001b[0m\n\u001b[0;32m   1607\u001b[0m   \u001b[1;32mdef\u001b[0m \u001b[0m_call_impl\u001b[0m\u001b[1;33m(\u001b[0m\u001b[0mself\u001b[0m\u001b[1;33m,\u001b[0m \u001b[0margs\u001b[0m\u001b[1;33m,\u001b[0m \u001b[0mkwargs\u001b[0m\u001b[1;33m,\u001b[0m \u001b[0mcancellation_manager\u001b[0m\u001b[1;33m=\u001b[0m\u001b[1;32mNone\u001b[0m\u001b[1;33m)\u001b[0m\u001b[1;33m:\u001b[0m\u001b[1;33m\u001b[0m\u001b[1;33m\u001b[0m\u001b[0m\n",
      "\u001b[1;32m~\\anaconda3\\envs\\Wyatt37\\lib\\site-packages\\tensorflow\\python\\eager\\function.py\u001b[0m in \u001b[0;36m_call_impl\u001b[1;34m(self, args, kwargs, cancellation_manager)\u001b[0m\n\u001b[0;32m   1643\u001b[0m       raise TypeError(\"Keyword arguments {} unknown. Expected {}.\".format(\n\u001b[0;32m   1644\u001b[0m           list(kwargs.keys()), list(self._arg_keywords)))\n\u001b[1;32m-> 1645\u001b[1;33m     \u001b[1;32mreturn\u001b[0m \u001b[0mself\u001b[0m\u001b[1;33m.\u001b[0m\u001b[0m_call_flat\u001b[0m\u001b[1;33m(\u001b[0m\u001b[0margs\u001b[0m\u001b[1;33m,\u001b[0m \u001b[0mself\u001b[0m\u001b[1;33m.\u001b[0m\u001b[0mcaptured_inputs\u001b[0m\u001b[1;33m,\u001b[0m \u001b[0mcancellation_manager\u001b[0m\u001b[1;33m)\u001b[0m\u001b[1;33m\u001b[0m\u001b[1;33m\u001b[0m\u001b[0m\n\u001b[0m\u001b[0;32m   1646\u001b[0m \u001b[1;33m\u001b[0m\u001b[0m\n\u001b[0;32m   1647\u001b[0m   \u001b[1;32mdef\u001b[0m \u001b[0m_filtered_call\u001b[0m\u001b[1;33m(\u001b[0m\u001b[0mself\u001b[0m\u001b[1;33m,\u001b[0m \u001b[0margs\u001b[0m\u001b[1;33m,\u001b[0m \u001b[0mkwargs\u001b[0m\u001b[1;33m)\u001b[0m\u001b[1;33m:\u001b[0m\u001b[1;33m\u001b[0m\u001b[1;33m\u001b[0m\u001b[0m\n",
      "\u001b[1;32m~\\anaconda3\\envs\\Wyatt37\\lib\\site-packages\\tensorflow\\python\\eager\\function.py\u001b[0m in \u001b[0;36m_call_flat\u001b[1;34m(self, args, captured_inputs, cancellation_manager)\u001b[0m\n\u001b[0;32m   1744\u001b[0m       \u001b[1;31m# No tape is watching; skip to running the function.\u001b[0m\u001b[1;33m\u001b[0m\u001b[1;33m\u001b[0m\u001b[1;33m\u001b[0m\u001b[0m\n\u001b[0;32m   1745\u001b[0m       return self._build_call_outputs(self._inference_function.call(\n\u001b[1;32m-> 1746\u001b[1;33m           ctx, args, cancellation_manager=cancellation_manager))\n\u001b[0m\u001b[0;32m   1747\u001b[0m     forward_backward = self._select_forward_and_backward_functions(\n\u001b[0;32m   1748\u001b[0m         \u001b[0margs\u001b[0m\u001b[1;33m,\u001b[0m\u001b[1;33m\u001b[0m\u001b[1;33m\u001b[0m\u001b[0m\n",
      "\u001b[1;32m~\\anaconda3\\envs\\Wyatt37\\lib\\site-packages\\tensorflow\\python\\eager\\function.py\u001b[0m in \u001b[0;36mcall\u001b[1;34m(self, ctx, args, cancellation_manager)\u001b[0m\n\u001b[0;32m    596\u001b[0m               \u001b[0minputs\u001b[0m\u001b[1;33m=\u001b[0m\u001b[0margs\u001b[0m\u001b[1;33m,\u001b[0m\u001b[1;33m\u001b[0m\u001b[1;33m\u001b[0m\u001b[0m\n\u001b[0;32m    597\u001b[0m               \u001b[0mattrs\u001b[0m\u001b[1;33m=\u001b[0m\u001b[0mattrs\u001b[0m\u001b[1;33m,\u001b[0m\u001b[1;33m\u001b[0m\u001b[1;33m\u001b[0m\u001b[0m\n\u001b[1;32m--> 598\u001b[1;33m               ctx=ctx)\n\u001b[0m\u001b[0;32m    599\u001b[0m         \u001b[1;32melse\u001b[0m\u001b[1;33m:\u001b[0m\u001b[1;33m\u001b[0m\u001b[1;33m\u001b[0m\u001b[0m\n\u001b[0;32m    600\u001b[0m           outputs = execute.execute_with_cancellation(\n",
      "\u001b[1;32m~\\anaconda3\\envs\\Wyatt37\\lib\\site-packages\\tensorflow\\python\\eager\\execute.py\u001b[0m in \u001b[0;36mquick_execute\u001b[1;34m(op_name, num_outputs, inputs, attrs, ctx, name)\u001b[0m\n\u001b[0;32m     58\u001b[0m     \u001b[0mctx\u001b[0m\u001b[1;33m.\u001b[0m\u001b[0mensure_initialized\u001b[0m\u001b[1;33m(\u001b[0m\u001b[1;33m)\u001b[0m\u001b[1;33m\u001b[0m\u001b[1;33m\u001b[0m\u001b[0m\n\u001b[0;32m     59\u001b[0m     tensors = pywrap_tfe.TFE_Py_Execute(ctx._handle, device_name, op_name,\n\u001b[1;32m---> 60\u001b[1;33m                                         inputs, attrs, num_outputs)\n\u001b[0m\u001b[0;32m     61\u001b[0m   \u001b[1;32mexcept\u001b[0m \u001b[0mcore\u001b[0m\u001b[1;33m.\u001b[0m\u001b[0m_NotOkStatusException\u001b[0m \u001b[1;32mas\u001b[0m \u001b[0me\u001b[0m\u001b[1;33m:\u001b[0m\u001b[1;33m\u001b[0m\u001b[1;33m\u001b[0m\u001b[0m\n\u001b[0;32m     62\u001b[0m     \u001b[1;32mif\u001b[0m \u001b[0mname\u001b[0m \u001b[1;32mis\u001b[0m \u001b[1;32mnot\u001b[0m \u001b[1;32mNone\u001b[0m\u001b[1;33m:\u001b[0m\u001b[1;33m\u001b[0m\u001b[1;33m\u001b[0m\u001b[0m\n",
      "\u001b[1;31mKeyboardInterrupt\u001b[0m: "
     ]
    }
   ],
   "source": [
    "model.fit(X_train,\n",
    "         y_train,\n",
    "         validation_data=(X_test, y_test),\n",
    "         epochs=10,\n",
    "         batch_size=64,\n",
    "         callbacks=[es, mc])"
   ]
  },
  {
   "cell_type": "code",
   "execution_count": null,
   "metadata": {},
   "outputs": [],
   "source": [
    "# 또 오지게 걸리는군요.\n",
    "\n",
    "loaded_model = load_model('best_model.h5')\n",
    "print(\"\\n 테스트 정확도: %.4f\" % (loaded_model.evaluate(X_test, y_test)[1]))"
   ]
  },
  {
   "cell_type": "markdown",
   "metadata": {},
   "source": [
    "## 11.5. 나이브 베이즈 분류기(Naive Bayes Classifier)"
   ]
  },
  {
   "cell_type": "markdown",
   "metadata": {},
   "source": [
    "나이브 베이즈에 대한 정리는 본문을 참고하시기 바랍니다. 조건부 확률 필수!"
   ]
  },
  {
   "cell_type": "markdown",
   "metadata": {},
   "source": [
    "### 11.5.3. 뉴스그룹 데이터 분류하기"
   ]
  },
  {
   "cell_type": "markdown",
   "metadata": {},
   "source": [
    "사이킷런에서 제공하는 텍스트 분류의 고전, 뉴스그룹 데이터입니다."
   ]
  },
  {
   "cell_type": "code",
   "execution_count": 2,
   "metadata": {},
   "outputs": [],
   "source": [
    "import sklearn"
   ]
  },
  {
   "cell_type": "code",
   "execution_count": 3,
   "metadata": {},
   "outputs": [],
   "source": [
    "from sklearn.datasets import fetch_20newsgroups"
   ]
  },
  {
   "cell_type": "code",
   "execution_count": 27,
   "metadata": {},
   "outputs": [
    {
     "name": "stdout",
     "output_type": "stream",
     "text": [
      "dict_keys(['data', 'filenames', 'target_names', 'target', 'DESCR'])\n"
     ]
    }
   ],
   "source": [
    "newsdata = fetch_20newsgroups(subset='train')\n",
    "# subset 인자에 all을 넣으면 전체 데이터 다운로드\n",
    "# train을 받으면 train만\n",
    "# test를 받으면 test만\n",
    "print(newsdata.keys())"
   ]
  },
  {
   "cell_type": "code",
   "execution_count": 6,
   "metadata": {},
   "outputs": [
    {
     "name": "stdout",
     "output_type": "stream",
     "text": [
      "11314 11314 20 11314\n"
     ]
    }
   ],
   "source": [
    "print(len(newsdata.data), len(newsdata.filenames), len(newsdata.target_names), len(newsdata.target))"
   ]
  },
  {
   "cell_type": "code",
   "execution_count": 7,
   "metadata": {},
   "outputs": [
    {
     "name": "stdout",
     "output_type": "stream",
     "text": [
      "['alt.atheism', 'comp.graphics', 'comp.os.ms-windows.misc', 'comp.sys.ibm.pc.hardware', 'comp.sys.mac.hardware', 'comp.windows.x', 'misc.forsale', 'rec.autos', 'rec.motorcycles', 'rec.sport.baseball', 'rec.sport.hockey', 'sci.crypt', 'sci.electronics', 'sci.med', 'sci.space', 'soc.religion.christian', 'talk.politics.guns', 'talk.politics.mideast', 'talk.politics.misc', 'talk.religion.misc']\n"
     ]
    }
   ],
   "source": [
    "print(newsdata.target_names)"
   ]
  },
  {
   "cell_type": "code",
   "execution_count": 8,
   "metadata": {},
   "outputs": [
    {
     "name": "stdout",
     "output_type": "stream",
     "text": [
      "4\n"
     ]
    }
   ],
   "source": [
    "print(newsdata.target[9])"
   ]
  },
  {
   "cell_type": "code",
   "execution_count": 9,
   "metadata": {},
   "outputs": [
    {
     "name": "stdout",
     "output_type": "stream",
     "text": [
      "From: lerxst@wam.umd.edu (where's my thing)\n",
      "Subject: WHAT car is this!?\n",
      "Nntp-Posting-Host: rac3.wam.umd.edu\n",
      "Organization: University of Maryland, College Park\n",
      "Lines: 15\n",
      "\n",
      " I was wondering if anyone out there could enlighten me on this car I saw\n",
      "the other day. It was a 2-door sports car, looked to be from the late 60s/\n",
      "early 70s. It was called a Bricklin. The doors were really small. In addition,\n",
      "the front bumper was separate from the rest of the body. This is \n",
      "all I know. If anyone can tellme a model name, engine specs, years\n",
      "of production, where this car is made, history, or whatever info you\n",
      "have on this funky looking car, please e-mail.\n",
      "\n",
      "Thanks,\n",
      "- IL\n",
      "   ---- brought to you by your neighborhood Lerxst ----\n",
      "\n",
      "\n",
      "\n",
      "\n",
      "\n"
     ]
    }
   ],
   "source": [
    "print(newsdata.data[0])"
   ]
  },
  {
   "cell_type": "markdown",
   "metadata": {},
   "source": [
    "이제 전처리를 진행해보겠습니다. 나이브 베이즈 분류를 위해서는 BoW로 만들어줄 필요가 있습니다."
   ]
  },
  {
   "cell_type": "code",
   "execution_count": 10,
   "metadata": {},
   "outputs": [],
   "source": [
    "from sklearn.feature_extraction.text import CountVectorizer\n",
    "from sklearn.feature_extraction.text import TfidfTransformer\n",
    "from sklearn.naive_bayes import MultinomialNB\n",
    "from sklearn.metrics import accuracy_score"
   ]
  },
  {
   "cell_type": "code",
   "execution_count": 28,
   "metadata": {},
   "outputs": [
    {
     "name": "stdout",
     "output_type": "stream",
     "text": [
      "(11314, 130107)\n"
     ]
    }
   ],
   "source": [
    "dtmvector = CountVectorizer()\n",
    "X_train_dtm = dtmvector.fit_transform(newsdata.data)\n",
    "print(X_train_dtm.shape)"
   ]
  },
  {
   "cell_type": "code",
   "execution_count": 29,
   "metadata": {},
   "outputs": [
    {
     "name": "stdout",
     "output_type": "stream",
     "text": [
      "(11314, 130107)\n"
     ]
    }
   ],
   "source": [
    "tfidf_transformer = TfidfTransformer()\n",
    "tfidfv = tfidf_transformer.fit_transform(X_train_dtm)\n",
    "print(tfidfv.shape)"
   ]
  },
  {
   "cell_type": "code",
   "execution_count": 30,
   "metadata": {},
   "outputs": [
    {
     "data": {
      "text/plain": [
       "MultinomialNB()"
      ]
     },
     "execution_count": 30,
     "metadata": {},
     "output_type": "execute_result"
    }
   ],
   "source": [
    "mod = MultinomialNB()\n",
    "mod.fit(tfidfv, newsdata.target)"
   ]
  },
  {
   "cell_type": "code",
   "execution_count": 31,
   "metadata": {},
   "outputs": [],
   "source": [
    "newsdata_test = fetch_20newsgroups(subset='test', shuffle=True)\n",
    "X_test_dtm = dtmvector.transform(newsdata_test.data)\n",
    "tfidfv_test = tfidf_transformer.transform(X_test_dtm)\n",
    "\n",
    "predicted = mod.predict(tfidfv_test)"
   ]
  },
  {
   "cell_type": "code",
   "execution_count": 32,
   "metadata": {},
   "outputs": [
    {
     "name": "stdout",
     "output_type": "stream",
     "text": [
      "0.7738980350504514\n"
     ]
    }
   ],
   "source": [
    "print(accuracy_score(newsdata_test.target, predicted))"
   ]
  },
  {
   "cell_type": "markdown",
   "metadata": {},
   "source": [
    "## 11.6. 네이버 영화 리뷰 감성 분류하기(Naver Movie Review Sentiment Analysis)"
   ]
  },
  {
   "cell_type": "markdown",
   "metadata": {},
   "source": [
    "이번 챕터에서는 한국어/한글 데이터에 대해서 텍스트 분류를 수행해보겠습니다."
   ]
  },
  {
   "cell_type": "markdown",
   "metadata": {},
   "source": [
    "한국어 데이터는 토큰화를 할 때 형태소 분석기를 사용한다는 점이 다릅니다."
   ]
  },
  {
   "cell_type": "markdown",
   "metadata": {},
   "source": [
    "### 11.6.1. 전처리"
   ]
  },
  {
   "cell_type": "code",
   "execution_count": 2,
   "metadata": {},
   "outputs": [],
   "source": [
    "import pandas as pd\n",
    "import urllib.request\n",
    "%matplotlib inline\n",
    "import matplotlib.pyplot as plt\n",
    "import re\n",
    "from konlpy.tag import Okt\n",
    "from keras.preprocessing.text import Tokenizer\n",
    "import numpy as np\n",
    "from keras.preprocessing.sequence import pad_sequences"
   ]
  },
  {
   "cell_type": "code",
   "execution_count": 3,
   "metadata": {},
   "outputs": [
    {
     "data": {
      "text/plain": [
       "('ratings_test.txt', <http.client.HTTPMessage at 0x1d84bd8d7f0>)"
      ]
     },
     "execution_count": 3,
     "metadata": {},
     "output_type": "execute_result"
    }
   ],
   "source": [
    "urllib.request.urlretrieve(\"https://raw.githubusercontent.com/e9t/nsmc/master/ratings_train.txt\",\n",
    "                           filename=\"ratings_train.txt\")\n",
    "urllib.request.urlretrieve(\"https://raw.githubusercontent.com/e9t/nsmc/master/ratings_test.txt\",\n",
    "                           filename=\"ratings_test.txt\")"
   ]
  },
  {
   "cell_type": "code",
   "execution_count": 4,
   "metadata": {},
   "outputs": [],
   "source": [
    "train_data = pd.read_table('ratings_train.txt')\n",
    "test_data = pd.read_table('ratings_test.txt')"
   ]
  },
  {
   "cell_type": "code",
   "execution_count": 5,
   "metadata": {},
   "outputs": [
    {
     "name": "stdout",
     "output_type": "stream",
     "text": [
      "훈련용 리뷰 개수:  150000\n"
     ]
    }
   ],
   "source": [
    "print('훈련용 리뷰 개수: ', len(train_data))"
   ]
  },
  {
   "cell_type": "code",
   "execution_count": 6,
   "metadata": {},
   "outputs": [
    {
     "data": {
      "text/html": [
       "<div>\n",
       "<style scoped>\n",
       "    .dataframe tbody tr th:only-of-type {\n",
       "        vertical-align: middle;\n",
       "    }\n",
       "\n",
       "    .dataframe tbody tr th {\n",
       "        vertical-align: top;\n",
       "    }\n",
       "\n",
       "    .dataframe thead th {\n",
       "        text-align: right;\n",
       "    }\n",
       "</style>\n",
       "<table border=\"1\" class=\"dataframe\">\n",
       "  <thead>\n",
       "    <tr style=\"text-align: right;\">\n",
       "      <th></th>\n",
       "      <th>id</th>\n",
       "      <th>document</th>\n",
       "      <th>label</th>\n",
       "    </tr>\n",
       "  </thead>\n",
       "  <tbody>\n",
       "    <tr>\n",
       "      <th>0</th>\n",
       "      <td>9976970</td>\n",
       "      <td>아 더빙.. 진짜 짜증나네요 목소리</td>\n",
       "      <td>0</td>\n",
       "    </tr>\n",
       "    <tr>\n",
       "      <th>1</th>\n",
       "      <td>3819312</td>\n",
       "      <td>흠...포스터보고 초딩영화줄....오버연기조차 가볍지 않구나</td>\n",
       "      <td>1</td>\n",
       "    </tr>\n",
       "    <tr>\n",
       "      <th>2</th>\n",
       "      <td>10265843</td>\n",
       "      <td>너무재밓었다그래서보는것을추천한다</td>\n",
       "      <td>0</td>\n",
       "    </tr>\n",
       "    <tr>\n",
       "      <th>3</th>\n",
       "      <td>9045019</td>\n",
       "      <td>교도소 이야기구먼 ..솔직히 재미는 없다..평점 조정</td>\n",
       "      <td>0</td>\n",
       "    </tr>\n",
       "    <tr>\n",
       "      <th>4</th>\n",
       "      <td>6483659</td>\n",
       "      <td>사이몬페그의 익살스런 연기가 돋보였던 영화!스파이더맨에서 늙어보이기만 했던 커스틴 ...</td>\n",
       "      <td>1</td>\n",
       "    </tr>\n",
       "  </tbody>\n",
       "</table>\n",
       "</div>"
      ],
      "text/plain": [
       "         id                                           document  label\n",
       "0   9976970                                아 더빙.. 진짜 짜증나네요 목소리      0\n",
       "1   3819312                  흠...포스터보고 초딩영화줄....오버연기조차 가볍지 않구나      1\n",
       "2  10265843                                  너무재밓었다그래서보는것을추천한다      0\n",
       "3   9045019                      교도소 이야기구먼 ..솔직히 재미는 없다..평점 조정      0\n",
       "4   6483659  사이몬페그의 익살스런 연기가 돋보였던 영화!스파이더맨에서 늙어보이기만 했던 커스틴 ...      1"
      ]
     },
     "execution_count": 6,
     "metadata": {},
     "output_type": "execute_result"
    }
   ],
   "source": [
    "train_data[:5]"
   ]
  },
  {
   "cell_type": "code",
   "execution_count": 7,
   "metadata": {},
   "outputs": [
    {
     "name": "stdout",
     "output_type": "stream",
     "text": [
      "테스트용 리뷰 개수:  50000\n"
     ]
    }
   ],
   "source": [
    "print('테스트용 리뷰 개수: ', len(test_data))"
   ]
  },
  {
   "cell_type": "code",
   "execution_count": 8,
   "metadata": {},
   "outputs": [
    {
     "data": {
      "text/html": [
       "<div>\n",
       "<style scoped>\n",
       "    .dataframe tbody tr th:only-of-type {\n",
       "        vertical-align: middle;\n",
       "    }\n",
       "\n",
       "    .dataframe tbody tr th {\n",
       "        vertical-align: top;\n",
       "    }\n",
       "\n",
       "    .dataframe thead th {\n",
       "        text-align: right;\n",
       "    }\n",
       "</style>\n",
       "<table border=\"1\" class=\"dataframe\">\n",
       "  <thead>\n",
       "    <tr style=\"text-align: right;\">\n",
       "      <th></th>\n",
       "      <th>id</th>\n",
       "      <th>document</th>\n",
       "      <th>label</th>\n",
       "    </tr>\n",
       "  </thead>\n",
       "  <tbody>\n",
       "    <tr>\n",
       "      <th>0</th>\n",
       "      <td>6270596</td>\n",
       "      <td>굳 ㅋ</td>\n",
       "      <td>1</td>\n",
       "    </tr>\n",
       "    <tr>\n",
       "      <th>1</th>\n",
       "      <td>9274899</td>\n",
       "      <td>GDNTOPCLASSINTHECLUB</td>\n",
       "      <td>0</td>\n",
       "    </tr>\n",
       "    <tr>\n",
       "      <th>2</th>\n",
       "      <td>8544678</td>\n",
       "      <td>뭐야 이 평점들은.... 나쁘진 않지만 10점 짜리는 더더욱 아니잖아</td>\n",
       "      <td>0</td>\n",
       "    </tr>\n",
       "    <tr>\n",
       "      <th>3</th>\n",
       "      <td>6825595</td>\n",
       "      <td>지루하지는 않은데 완전 막장임... 돈주고 보기에는....</td>\n",
       "      <td>0</td>\n",
       "    </tr>\n",
       "    <tr>\n",
       "      <th>4</th>\n",
       "      <td>6723715</td>\n",
       "      <td>3D만 아니었어도 별 다섯 개 줬을텐데.. 왜 3D로 나와서 제 심기를 불편하게 하죠??</td>\n",
       "      <td>0</td>\n",
       "    </tr>\n",
       "  </tbody>\n",
       "</table>\n",
       "</div>"
      ],
      "text/plain": [
       "        id                                           document  label\n",
       "0  6270596                                                굳 ㅋ      1\n",
       "1  9274899                               GDNTOPCLASSINTHECLUB      0\n",
       "2  8544678             뭐야 이 평점들은.... 나쁘진 않지만 10점 짜리는 더더욱 아니잖아      0\n",
       "3  6825595                   지루하지는 않은데 완전 막장임... 돈주고 보기에는....      0\n",
       "4  6723715  3D만 아니었어도 별 다섯 개 줬을텐데.. 왜 3D로 나와서 제 심기를 불편하게 하죠??      0"
      ]
     },
     "execution_count": 8,
     "metadata": {},
     "output_type": "execute_result"
    }
   ],
   "source": [
    "test_data[:5]"
   ]
  },
  {
   "cell_type": "markdown",
   "metadata": {},
   "source": [
    "### 11.6.2. 데이터 정제하기"
   ]
  },
  {
   "cell_type": "code",
   "execution_count": 9,
   "metadata": {},
   "outputs": [
    {
     "data": {
      "text/plain": [
       "(146182, 2)"
      ]
     },
     "execution_count": 9,
     "metadata": {},
     "output_type": "execute_result"
    }
   ],
   "source": [
    "# 중복샘플 확인\n",
    "\n",
    "train_data['document'].nunique(), train_data['label'].nunique()"
   ]
  },
  {
   "cell_type": "code",
   "execution_count": 10,
   "metadata": {},
   "outputs": [],
   "source": [
    "train_data.drop_duplicates(subset=['document'], inplace=True)"
   ]
  },
  {
   "cell_type": "code",
   "execution_count": 11,
   "metadata": {},
   "outputs": [
    {
     "name": "stdout",
     "output_type": "stream",
     "text": [
      "146183\n"
     ]
    }
   ],
   "source": [
    "print(len(train_data))"
   ]
  },
  {
   "cell_type": "code",
   "execution_count": 12,
   "metadata": {},
   "outputs": [
    {
     "data": {
      "image/png": "[encoded data removed]",
      "text/plain": [
       "<Figure size 432x288 with 1 Axes>"
      ]
     },
     "metadata": {
      "needs_background": "light"
     },
     "output_type": "display_data"
    }
   ],
   "source": [
    "train_data['label'].value_counts().plot(kind='bar')\n",
    "plt.show()"
   ]
  },
  {
   "cell_type": "code",
   "execution_count": 13,
   "metadata": {},
   "outputs": [
    {
     "name": "stdout",
     "output_type": "stream",
     "text": [
      "   label  count\n",
      "0      0  73342\n",
      "1      1  72841\n"
     ]
    }
   ],
   "source": [
    "print(train_data.groupby('label').size().reset_index(name = 'count'))"
   ]
  },
  {
   "cell_type": "code",
   "execution_count": 14,
   "metadata": {},
   "outputs": [
    {
     "name": "stdout",
     "output_type": "stream",
     "text": [
      "True\n"
     ]
    }
   ],
   "source": [
    "print(train_data.isnull().values.any())"
   ]
  },
  {
   "cell_type": "code",
   "execution_count": 15,
   "metadata": {},
   "outputs": [
    {
     "name": "stdout",
     "output_type": "stream",
     "text": [
      "id          0\n",
      "document    1\n",
      "label       0\n",
      "dtype: int64\n"
     ]
    }
   ],
   "source": [
    "print(train_data.isnull().sum())"
   ]
  },
  {
   "cell_type": "code",
   "execution_count": 16,
   "metadata": {},
   "outputs": [
    {
     "data": {
      "text/html": [
       "<div>\n",
       "<style scoped>\n",
       "    .dataframe tbody tr th:only-of-type {\n",
       "        vertical-align: middle;\n",
       "    }\n",
       "\n",
       "    .dataframe tbody tr th {\n",
       "        vertical-align: top;\n",
       "    }\n",
       "\n",
       "    .dataframe thead th {\n",
       "        text-align: right;\n",
       "    }\n",
       "</style>\n",
       "<table border=\"1\" class=\"dataframe\">\n",
       "  <thead>\n",
       "    <tr style=\"text-align: right;\">\n",
       "      <th></th>\n",
       "      <th>id</th>\n",
       "      <th>document</th>\n",
       "      <th>label</th>\n",
       "    </tr>\n",
       "  </thead>\n",
       "  <tbody>\n",
       "    <tr>\n",
       "      <th>25857</th>\n",
       "      <td>2172111</td>\n",
       "      <td>NaN</td>\n",
       "      <td>1</td>\n",
       "    </tr>\n",
       "  </tbody>\n",
       "</table>\n",
       "</div>"
      ],
      "text/plain": [
       "            id document  label\n",
       "25857  2172111      NaN      1"
      ]
     },
     "execution_count": 16,
     "metadata": {},
     "output_type": "execute_result"
    }
   ],
   "source": [
    "train_data.loc[train_data.document.isnull()]"
   ]
  },
  {
   "cell_type": "code",
   "execution_count": 17,
   "metadata": {},
   "outputs": [
    {
     "name": "stdout",
     "output_type": "stream",
     "text": [
      "False\n"
     ]
    }
   ],
   "source": [
    "train_data = train_data.dropna(how='any')\n",
    "print(train_data.isnull().values.any())"
   ]
  },
  {
   "cell_type": "markdown",
   "metadata": {},
   "source": [
    "이제 데이터의 전처리를 수행해보겠습니다. 정규표현식을 통해서 특수문자를 제거해보겠습니다."
   ]
  },
  {
   "cell_type": "code",
   "execution_count": 18,
   "metadata": {},
   "outputs": [
    {
     "data": {
      "text/html": [
       "<div>\n",
       "<style scoped>\n",
       "    .dataframe tbody tr th:only-of-type {\n",
       "        vertical-align: middle;\n",
       "    }\n",
       "\n",
       "    .dataframe tbody tr th {\n",
       "        vertical-align: top;\n",
       "    }\n",
       "\n",
       "    .dataframe thead th {\n",
       "        text-align: right;\n",
       "    }\n",
       "</style>\n",
       "<table border=\"1\" class=\"dataframe\">\n",
       "  <thead>\n",
       "    <tr style=\"text-align: right;\">\n",
       "      <th></th>\n",
       "      <th>id</th>\n",
       "      <th>document</th>\n",
       "      <th>label</th>\n",
       "    </tr>\n",
       "  </thead>\n",
       "  <tbody>\n",
       "    <tr>\n",
       "      <th>0</th>\n",
       "      <td>9976970</td>\n",
       "      <td>아 더빙 진짜 짜증나네요 목소리</td>\n",
       "      <td>0</td>\n",
       "    </tr>\n",
       "    <tr>\n",
       "      <th>1</th>\n",
       "      <td>3819312</td>\n",
       "      <td>흠포스터보고 초딩영화줄오버연기조차 가볍지 않구나</td>\n",
       "      <td>1</td>\n",
       "    </tr>\n",
       "    <tr>\n",
       "      <th>2</th>\n",
       "      <td>10265843</td>\n",
       "      <td>너무재밓었다그래서보는것을추천한다</td>\n",
       "      <td>0</td>\n",
       "    </tr>\n",
       "    <tr>\n",
       "      <th>3</th>\n",
       "      <td>9045019</td>\n",
       "      <td>교도소 이야기구먼 솔직히 재미는 없다평점 조정</td>\n",
       "      <td>0</td>\n",
       "    </tr>\n",
       "    <tr>\n",
       "      <th>4</th>\n",
       "      <td>6483659</td>\n",
       "      <td>사이몬페그의 익살스런 연기가 돋보였던 영화스파이더맨에서 늙어보이기만 했던 커스틴 던...</td>\n",
       "      <td>1</td>\n",
       "    </tr>\n",
       "  </tbody>\n",
       "</table>\n",
       "</div>"
      ],
      "text/plain": [
       "         id                                           document  label\n",
       "0   9976970                                  아 더빙 진짜 짜증나네요 목소리      0\n",
       "1   3819312                         흠포스터보고 초딩영화줄오버연기조차 가볍지 않구나      1\n",
       "2  10265843                                  너무재밓었다그래서보는것을추천한다      0\n",
       "3   9045019                          교도소 이야기구먼 솔직히 재미는 없다평점 조정      0\n",
       "4   6483659  사이몬페그의 익살스런 연기가 돋보였던 영화스파이더맨에서 늙어보이기만 했던 커스틴 던...      1"
      ]
     },
     "execution_count": 18,
     "metadata": {},
     "output_type": "execute_result"
    }
   ],
   "source": [
    "train_data['document'] = train_data['document'].str.replace(\"[^ㄱ-ㅎㅏ-ㅣ가-힣 ]\",\"\")\n",
    "# 한글과 공백을 제외하고 모두 제거\n",
    "train_data[:5]"
   ]
  },
  {
   "cell_type": "code",
   "execution_count": 19,
   "metadata": {},
   "outputs": [
    {
     "name": "stdout",
     "output_type": "stream",
     "text": [
      "id            0\n",
      "document    391\n",
      "label         0\n",
      "dtype: int64\n"
     ]
    }
   ],
   "source": [
    "# 정규표현식 처리로 인해서 빈 값이 생길 수 있습니다.\n",
    "train_data['document'].replace('', np.nan, inplace=True)\n",
    "print(train_data.isnull().sum())"
   ]
  },
  {
   "cell_type": "code",
   "execution_count": 20,
   "metadata": {},
   "outputs": [
    {
     "name": "stdout",
     "output_type": "stream",
     "text": [
      "145791\n"
     ]
    }
   ],
   "source": [
    "train_data = train_data.dropna(how = 'any')\n",
    "print(len(train_data))"
   ]
  },
  {
   "cell_type": "code",
   "execution_count": 21,
   "metadata": {},
   "outputs": [
    {
     "name": "stdout",
     "output_type": "stream",
     "text": [
      "48995\n"
     ]
    }
   ],
   "source": [
    "# 테스트 데이터도 동일한 전처리 진행\n",
    "\n",
    "test_data = test_data.drop_duplicates(subset=['document'])\n",
    "test_data['document'] = test_data['document'].str.replace(\"[^ㄱ-ㅎㅏ-ㅣ가-힣 ]\",\"\")\n",
    "test_data['document'] = test_data['document'].replace('', np.nan)\n",
    "test_data = test_data.dropna(how = 'any')\n",
    "\n",
    "print(len(test_data))"
   ]
  },
  {
   "cell_type": "markdown",
   "metadata": {},
   "source": [
    "### 11.6.3. 토큰화"
   ]
  },
  {
   "cell_type": "markdown",
   "metadata": {},
   "source": [
    "토큰화를 진행하겠습니다.\n",
    "\n",
    "기존의 불용어 사전을 사용하지 않고 간단하게 기본적인 것만 쓰겠습니다."
   ]
  },
  {
   "cell_type": "code",
   "execution_count": 22,
   "metadata": {},
   "outputs": [],
   "source": [
    "stopwords = ['의','가','이','은','들','는','좀','잘','걍','과','도','를','으로','자','에','와','한','하다']"
   ]
  },
  {
   "cell_type": "markdown",
   "metadata": {},
   "source": [
    "형태소 분석기는 KoNLPy의 Okt를 사용합니다."
   ]
  },
  {
   "cell_type": "code",
   "execution_count": 23,
   "metadata": {},
   "outputs": [
    {
     "data": {
      "text/plain": [
       "['오다', '이렇다', '것', '도', '영화', '라고', '차라리', '뮤직비디오', '를', '만들다', '게', '나다', '뻔']"
      ]
     },
     "execution_count": 23,
     "metadata": {},
     "output_type": "execute_result"
    }
   ],
   "source": [
    "# Okt 복습해봅시다.\n",
    "okt = Okt()\n",
    "okt.morphs('와 이런 것도 영화라고 차라리 뮤직비디오를 만드는 게 나을 뻔',\n",
    "           stem = True) # stem=True 옵션은 일종의 정규화입니다. '이런'을 '이렇다' 로 바꿔줍니다."
   ]
  },
  {
   "cell_type": "code",
   "execution_count": 24,
   "metadata": {},
   "outputs": [],
   "source": [
    "# train_data에 형태소 분석기를 사용해서 토큰화를 하면서 불용어를 제거합니다.\n",
    "X_train = []\n",
    "for sentence in train_data['document']:\n",
    "    temp_X = []\n",
    "    temp_X = okt.morphs(sentence, stem=True) # 토큰화\n",
    "    temp_X = [word for word in temp_X if not word in stopwords] # 불용어 제거\n",
    "    X_train.append(temp_X)"
   ]
  },
  {
   "cell_type": "code",
   "execution_count": 25,
   "metadata": {},
   "outputs": [
    {
     "name": "stdout",
     "output_type": "stream",
     "text": [
      "[['아', '더빙', '진짜', '짜증나다', '목소리'], ['흠', '포스터', '보고', '초딩', '영화', '줄', '오버', '연기', '조차', '가볍다', '않다'], ['너', '무재', '밓었', '다그', '래서', '보다', '추천', '다']]\n"
     ]
    }
   ],
   "source": [
    "print(X_train[:3])"
   ]
  },
  {
   "cell_type": "code",
   "execution_count": 26,
   "metadata": {},
   "outputs": [],
   "source": [
    "# test 데이터에도Tokenizer작업\n",
    "\n",
    "X_test = []\n",
    "for sentence in test_data['document']:\n",
    "    temp_X = []\n",
    "    temp_X = okt.morphs(sentence, stem=True) # 토큰화\n",
    "    temp_X = [word for word in temp_X if not word in stopwords] # 불용어 제거\n",
    "    X_test.append(temp_X)"
   ]
  },
  {
   "cell_type": "markdown",
   "metadata": {},
   "source": [
    "### 11.6.4. 정수 인코딩"
   ]
  },
  {
   "cell_type": "markdown",
   "metadata": {},
   "source": [
    "이제 정수 인코딩을 해보겠습니다."
   ]
  },
  {
   "cell_type": "code",
   "execution_count": 27,
   "metadata": {},
   "outputs": [],
   "source": [
    "tokenizer = Tokenizer()\n",
    "tokenizer.fit_on_texts(X_train)"
   ]
  },
  {
   "cell_type": "code",
   "execution_count": 29,
   "metadata": {},
   "outputs": [
    {
     "name": "stdout",
     "output_type": "stream",
     "text": [
      "단어 집합(vocabulary)의 크기 : 43752\n",
      "등장 빈도가 2번 이하인 희귀 단어의 수: 24337\n",
      "단어 집합에서 희귀 단어의 비율: 55.62488571950996\n",
      "전체 등장 빈도에서 희귀 단어 등장 빈도 비율: 1.8715872104872904\n"
     ]
    }
   ],
   "source": [
    "threshold = 3\n",
    "total_cnt = len(tokenizer.word_index) # 단어의 수\n",
    "rare_cnt = 0 # 등장 빈도수가 threshold 보다 작은 단어의 개수를 카운트\n",
    "total_freq = 0 # 훈련 데이터의 전체 단어 빈도수 총 합\n",
    "rare_freq = 0 # 등장 빈도수가 threshold 보다 작은 단어의 등장 빈도수의 총 합\n",
    "\n",
    "# 단어 빈도수의 쌍(pair)을 key와 value 로 받는다.\n",
    "for key, value in tokenizer.word_counts.items():\n",
    "    total_freq += value\n",
    "    \n",
    "    # 단어의 등장 빈도수가 threshold 보다 작으면\n",
    "    if (value < threshold):\n",
    "        rare_cnt +=1\n",
    "        rare_freq += value\n",
    "        \n",
    "print('단어 집합(vocabulary)의 크기 :',total_cnt)\n",
    "print('등장 빈도가 %s번 이하인 희귀 단어의 수: %s'%(threshold - 1, rare_cnt))\n",
    "print(\"단어 집합에서 희귀 단어의 비율:\", (rare_cnt / total_cnt)*100)\n",
    "print(\"전체 등장 빈도에서 희귀 단어 등장 빈도 비율:\", (rare_freq / total_freq)*100)"
   ]
  },
  {
   "cell_type": "markdown",
   "metadata": {},
   "source": [
    "희귀 단어 비율이 55% 나 되지만, 등장 빈도 비율은 1.87%이므로 비중이 크지 않다. 전부 삭제"
   ]
  },
  {
   "cell_type": "code",
   "execution_count": 30,
   "metadata": {},
   "outputs": [
    {
     "name": "stdout",
     "output_type": "stream",
     "text": [
      "19417\n"
     ]
    }
   ],
   "source": [
    "# 0번 패딩 토큰과 1번 OOV 토큰을 고려하여 +2\n",
    "\n",
    "vocab_size = total_cnt - rare_cnt + 2\n",
    "print(vocab_size)"
   ]
  },
  {
   "cell_type": "code",
   "execution_count": 31,
   "metadata": {},
   "outputs": [],
   "source": [
    "# 텍스트 시퀀스를 숫자 시퀀스로 변환합니다.\n",
    "# 정수 인코딩 과정에서 이보다 큰 숫자가 부여된 단어들은 OOV로 변환\n",
    "\n",
    "tokenizer = Tokenizer(vocab_size, oov_token = 'OOV')\n",
    "tokenizer.fit_on_texts(X_train)\n",
    "X_train = tokenizer.texts_to_sequences(X_train)\n",
    "X_test = tokenizer.texts_to_sequences(X_test)"
   ]
  },
  {
   "cell_type": "code",
   "execution_count": 32,
   "metadata": {},
   "outputs": [
    {
     "name": "stdout",
     "output_type": "stream",
     "text": [
      "[[51, 455, 17, 261, 660], [934, 458, 42, 603, 2, 215, 1450, 25, 962, 676, 20], [387, 2445, 1, 2316, 5672, 3, 223, 10]]\n"
     ]
    }
   ],
   "source": [
    "print(X_train[:3])"
   ]
  },
  {
   "cell_type": "code",
   "execution_count": 33,
   "metadata": {},
   "outputs": [],
   "source": [
    "y_train = np.array(train_data['label'])\n",
    "y_test = np.array(test_data['label'])"
   ]
  },
  {
   "cell_type": "markdown",
   "metadata": {},
   "source": [
    "### 11.6.5. 빈 샘플 제거"
   ]
  },
  {
   "cell_type": "code",
   "execution_count": 34,
   "metadata": {},
   "outputs": [],
   "source": [
    "drop_train = [index for index, sentence in enumerate(X_train) if len(sentence) < 1]"
   ]
  },
  {
   "cell_type": "code",
   "execution_count": 35,
   "metadata": {},
   "outputs": [
    {
     "name": "stdout",
     "output_type": "stream",
     "text": [
      "145380\n",
      "145380\n"
     ]
    }
   ],
   "source": [
    "X_train = np.delete(X_train, drop_train, axis=0)\n",
    "y_train = np.delete(y_train, drop_train, axis=0)\n",
    "print(len(X_train))\n",
    "print(len(y_train))"
   ]
  },
  {
   "cell_type": "markdown",
   "metadata": {},
   "source": [
    "### 11.6.6. 패딩"
   ]
  },
  {
   "cell_type": "code",
   "execution_count": 36,
   "metadata": {},
   "outputs": [
    {
     "name": "stdout",
     "output_type": "stream",
     "text": [
      "72\n",
      "11.002187371027652\n"
     ]
    },
    {
     "data": {
      "image/png": "[encoded data removed]",
      "text/plain": [
       "<Figure size 432x288 with 1 Axes>"
      ]
     },
     "metadata": {
      "needs_background": "light"
     },
     "output_type": "display_data"
    }
   ],
   "source": [
    "print(max(len(l) for l in X_train))\n",
    "print(sum(map(len, X_train))/len(X_train))\n",
    "plt.hist([len(s) for s in X_train], bins=50)\n",
    "plt.xlabel('length')\n",
    "plt.ylabel('number')\n",
    "plt.show()"
   ]
  },
  {
   "cell_type": "code",
   "execution_count": 37,
   "metadata": {},
   "outputs": [],
   "source": [
    "max_len = 30\n",
    "X_train = pad_sequences(X_train, maxlen = max_len)\n",
    "X_test = pad_sequences(X_test, maxlen = max_len)"
   ]
  },
  {
   "cell_type": "markdown",
   "metadata": {},
   "source": [
    "### 11.6.7. 모델링"
   ]
  },
  {
   "cell_type": "code",
   "execution_count": 38,
   "metadata": {},
   "outputs": [],
   "source": [
    "from keras.layers import Embedding, Dense, LSTM\n",
    "from keras.models import Sequential, load_model\n",
    "from keras.callbacks import EarlyStopping, ModelCheckpoint"
   ]
  },
  {
   "cell_type": "code",
   "execution_count": 39,
   "metadata": {},
   "outputs": [],
   "source": [
    "model = Sequential()"
   ]
  },
  {
   "cell_type": "code",
   "execution_count": 40,
   "metadata": {},
   "outputs": [],
   "source": [
    "model.add(Embedding(vocab_size, 100))\n",
    "model.add(LSTM(128))\n",
    "model.add(Dense(1, activation='sigmoid'))"
   ]
  },
  {
   "cell_type": "code",
   "execution_count": 41,
   "metadata": {},
   "outputs": [],
   "source": [
    "es = EarlyStopping(monitor='val_loss',\n",
    "                  mode='min',\n",
    "                  verbose=1,\n",
    "                  patience=4)\n",
    "\n",
    "mc = ModelCheckpoint('best_model.h5',\n",
    "                    monitor='val_acc',\n",
    "                    mode='max',\n",
    "                    verbose=1,\n",
    "                    save_best_only=True)"
   ]
  },
  {
   "cell_type": "code",
   "execution_count": 42,
   "metadata": {},
   "outputs": [],
   "source": [
    "model.compile(loss='binary_crossentropy',\n",
    "             optimizer='rmsprop',\n",
    "             metrics=['acc'])"
   ]
  },
  {
   "cell_type": "code",
   "execution_count": 43,
   "metadata": {},
   "outputs": [
    {
     "name": "stdout",
     "output_type": "stream",
     "text": [
      "Model: \"sequential_1\"\n",
      "_________________________________________________________________\n",
      "Layer (type)                 Output Shape              Param #   \n",
      "=================================================================\n",
      "embedding_1 (Embedding)      (None, None, 100)         1941700   \n",
      "_________________________________________________________________\n",
      "lstm_1 (LSTM)                (None, 128)               117248    \n",
      "_________________________________________________________________\n",
      "dense_1 (Dense)              (None, 1)                 129       \n",
      "=================================================================\n",
      "Total params: 2,059,077\n",
      "Trainable params: 2,059,077\n",
      "Non-trainable params: 0\n",
      "_________________________________________________________________\n"
     ]
    }
   ],
   "source": [
    "model.summary()"
   ]
  },
  {
   "cell_type": "code",
   "execution_count": 44,
   "metadata": {},
   "outputs": [
    {
     "name": "stderr",
     "output_type": "stream",
     "text": [
      "C:\\Users\\thinp\\anaconda3\\envs\\Wyatt37\\lib\\site-packages\\tensorflow\\python\\framework\\indexed_slices.py:434: UserWarning: Converting sparse IndexedSlices to a dense Tensor of unknown shape. This may consume a large amount of memory.\n",
      "  \"Converting sparse IndexedSlices to a dense Tensor of unknown shape. \"\n"
     ]
    },
    {
     "name": "stdout",
     "output_type": "stream",
     "text": [
      "Train on 116304 samples, validate on 29076 samples\n",
      "Epoch 1/15\n",
      "116304/116304 [==============================] - 185s 2ms/step - loss: 0.3899 - acc: 0.8226 - val_loss: 0.3511 - val_acc: 0.8443\n",
      "\n",
      "Epoch 00001: val_acc improved from -inf to 0.84427, saving model to best_model.h5\n",
      "Epoch 2/15\n",
      "116304/116304 [==============================] - 198s 2ms/step - loss: 0.3281 - acc: 0.8561 - val_loss: 0.3358 - val_acc: 0.8556\n",
      "\n",
      "Epoch 00002: val_acc improved from 0.84427 to 0.85562, saving model to best_model.h5\n",
      "Epoch 3/15\n",
      "116304/116304 [==============================] - 178s 2ms/step - loss: 0.3018 - acc: 0.8722 - val_loss: 0.3291 - val_acc: 0.8574 loss: 0.3017 - acc: 0.87\n",
      "\n",
      "Epoch 00003: val_acc improved from 0.85562 to 0.85737, saving model to best_model.h5\n",
      "Epoch 4/15\n",
      "116304/116304 [==============================] - 178s 2ms/step - loss: 0.2829 - acc: 0.8819 - val_loss: 0.3271 - val_acc: 0.8617\n",
      "\n",
      "Epoch 00004: val_acc improved from 0.85737 to 0.86167, saving model to best_model.h5\n",
      "Epoch 5/15\n",
      "116304/116304 [==============================] - 393s 3ms/step - loss: 0.2663 - acc: 0.8907 - val_loss: 0.3278 - val_acc: 0.8610\n",
      "\n",
      "Epoch 00005: val_acc did not improve from 0.86167\n",
      "Epoch 6/15\n",
      "116304/116304 [==============================] - 178s 2ms/step - loss: 0.2508 - acc: 0.8981 - val_loss: 0.3400 - val_acc: 0.8561\n",
      "\n",
      "Epoch 00006: val_acc did not improve from 0.86167\n",
      "Epoch 7/15\n",
      "116304/116304 [==============================] - 188s 2ms/step - loss: 0.2354 - acc: 0.9052 - val_loss: 0.3408 - val_acc: 0.8560\n",
      "\n",
      "Epoch 00007: val_acc did not improve from 0.86167\n",
      "Epoch 8/15\n",
      "116304/116304 [==============================] - 228s 2ms/step - loss: 0.2206 - acc: 0.9121 - val_loss: 0.3557 - val_acc: 0.8524\n",
      "\n",
      "Epoch 00008: val_acc did not improve from 0.86167\n",
      "Epoch 00008: early stopping\n"
     ]
    }
   ],
   "source": [
    "history = model.fit(X_train, y_train,\n",
    "                   epochs=15,\n",
    "                   callbacks=[es, mc],\n",
    "                   batch_size=60,\n",
    "                   validation_split=0.2)"
   ]
  },
  {
   "cell_type": "code",
   "execution_count": 45,
   "metadata": {},
   "outputs": [
    {
     "name": "stderr",
     "output_type": "stream",
     "text": [
      "C:\\Users\\thinp\\anaconda3\\envs\\Wyatt37\\lib\\site-packages\\tensorflow\\python\\framework\\indexed_slices.py:434: UserWarning: Converting sparse IndexedSlices to a dense Tensor of unknown shape. This may consume a large amount of memory.\n",
      "  \"Converting sparse IndexedSlices to a dense Tensor of unknown shape. \"\n"
     ]
    },
    {
     "name": "stdout",
     "output_type": "stream",
     "text": [
      "48995/48995 [==============================] - 12s 247us/step\n",
      "0.8554137945175171\n"
     ]
    }
   ],
   "source": [
    "loaded_model = load_model('best_model.h5')\n",
    "print(loaded_model.evaluate(X_test, y_test)[1])"
   ]
  },
  {
   "cell_type": "markdown",
   "metadata": {},
   "source": [
    "### 11.6.8. Evaluate"
   ]
  },
  {
   "cell_type": "markdown",
   "metadata": {},
   "source": [
    "이제 직접 작성한 리뷰에 대해서 예측하는 함수를 만들어보겠습니다."
   ]
  },
  {
   "cell_type": "code",
   "execution_count": 51,
   "metadata": {},
   "outputs": [],
   "source": [
    "def sentiment_predict(new_sentence):\n",
    "    new_sentence = okt.morphs(new_sentence, stem=True) # 토큰화\n",
    "    new_sentence = [word for word in new_sentence if not word in stopwords] # 불용어 제거\n",
    "    encoded = tokenizer.texts_to_sequences([new_sentence]) # 정수 인코딩\n",
    "    pad_new = pad_sequences(encoded, maxlen=max_len) # 패딩\n",
    "    score = float(loaded_model.predict(pad_new)) # 예측\n",
    "    if(score > 0.5):\n",
    "        print(\"{:.2f}% 확률로 긍정 리뷰입니다.\\n\".format(score * 100))\n",
    "    else:\n",
    "        print(\"{:.2f}% 확률로 부정 리뷰입니다.\\n\".format((1 - score) * 100))"
   ]
  },
  {
   "cell_type": "code",
   "execution_count": 52,
   "metadata": {},
   "outputs": [
    {
     "name": "stdout",
     "output_type": "stream",
     "text": [
      "92.65% 확률로 긍정 리뷰입니다.\n",
      "\n"
     ]
    }
   ],
   "source": [
    "sentiment_predict('이 영화 개꿀잼 ㅋㅋㅋ')"
   ]
  },
  {
   "cell_type": "code",
   "execution_count": 53,
   "metadata": {},
   "outputs": [
    {
     "name": "stdout",
     "output_type": "stream",
     "text": [
      "98.96% 확률로 부정 리뷰입니다.\n",
      "\n"
     ]
    }
   ],
   "source": [
    "sentiment_predict('이 영화 핵노잼 ㅠㅠ')"
   ]
  },
  {
   "cell_type": "code",
   "execution_count": 54,
   "metadata": {},
   "outputs": [
    {
     "name": "stdout",
     "output_type": "stream",
     "text": [
      "99.86% 확률로 부정 리뷰입니다.\n",
      "\n"
     ]
    }
   ],
   "source": [
    "sentiment_predict('이딴게 영화냐 ㅉㅉ')"
   ]
  },
  {
   "cell_type": "code",
   "execution_count": 55,
   "metadata": {},
   "outputs": [
    {
     "name": "stdout",
     "output_type": "stream",
     "text": [
      "98.61% 확률로 부정 리뷰입니다.\n",
      "\n"
     ]
    }
   ],
   "source": [
    "sentiment_predict('감독 뭐하는 놈이냐?')"
   ]
  },
  {
   "cell_type": "code",
   "execution_count": 56,
   "metadata": {},
   "outputs": [
    {
     "name": "stdout",
     "output_type": "stream",
     "text": [
      "67.37% 확률로 긍정 리뷰입니다.\n",
      "\n"
     ]
    }
   ],
   "source": [
    "sentiment_predict('와 개쩐다 정말 세계관 최강자들의 영화다')"
   ]
  },
  {
   "cell_type": "code",
   "execution_count": null,
   "metadata": {},
   "outputs": [],
   "source": []
  }
 ],
 "metadata": {
  "kernelspec": {
   "display_name": "Python 3",
   "language": "python",
   "name": "python3"
  },
  "language_info": {
   "codemirror_mode": {
    "name": "ipython",
    "version": 3
   },
   "file_extension": ".py",
   "mimetype": "text/x-python",
   "name": "python",
   "nbconvert_exporter": "python",
   "pygments_lexer": "ipython3",
   "version": "3.7.1"
  }
 },
 "nbformat": 4,
 "nbformat_minor": 4
}
