{
 "cells": [
  {
   "cell_type": "markdown",
   "metadata": {},
   "source": [
    "# t-academy-pytorch-lecture2"
   ]
  },
  {
   "cell_type": "markdown",
   "metadata": {},
   "source": [
    "# Variable & Automatic Gradient"
   ]
  },
  {
   "cell_type": "markdown",
   "metadata": {},
   "source": [
    "## 1. Import Required Libraries"
   ]
  },
  {
   "cell_type": "code",
   "execution_count": 1,
   "metadata": {},
   "outputs": [],
   "source": [
    "import torch\n",
    "from torch.autograd import Variable"
   ]
  },
  {
   "cell_type": "markdown",
   "metadata": {},
   "source": [
    "## 2. Tensor vs Variable"
   ]
  },
  {
   "cell_type": "markdown",
   "metadata": {},
   "source": [
    "### 1) Declaration"
   ]
  },
  {
   "cell_type": "code",
   "execution_count": 2,
   "metadata": {},
   "outputs": [
    {
     "data": {
      "text/plain": [
       "tensor([[0., 0., 0., 0.],\n",
       "        [0., 0., 0., 0.],\n",
       "        [0., 0., 0., 0.]])"
      ]
     },
     "execution_count": 2,
     "metadata": {},
     "output_type": "execute_result"
    }
   ],
   "source": [
    "x_tensor = torch.Tensor(3, 4)\n",
    "x_tensor"
   ]
  },
  {
   "cell_type": "code",
   "execution_count": 3,
   "metadata": {},
   "outputs": [
    {
     "data": {
      "text/plain": [
       "tensor([[0., 0., 0., 0.],\n",
       "        [0., 0., 0., 0.],\n",
       "        [0., 0., 0., 0.]])"
      ]
     },
     "execution_count": 3,
     "metadata": {},
     "output_type": "execute_result"
    }
   ],
   "source": [
    "x_variable = Variable(x_tensor)\n",
    "x_variable"
   ]
  },
  {
   "cell_type": "markdown",
   "metadata": {},
   "source": [
    "### 2) Variables of a Variable"
   ]
  },
  {
   "cell_type": "code",
   "execution_count": 4,
   "metadata": {},
   "outputs": [
    {
     "data": {
      "text/plain": [
       "tensor([[0., 0., 0., 0.],\n",
       "        [0., 0., 0., 0.],\n",
       "        [0., 0., 0., 0.]])"
      ]
     },
     "execution_count": 4,
     "metadata": {},
     "output_type": "execute_result"
    }
   ],
   "source": [
    "# .data -> wrapped tensor\n",
    "x_variable.data"
   ]
  },
  {
   "cell_type": "code",
   "execution_count": 6,
   "metadata": {},
   "outputs": [
    {
     "name": "stdout",
     "output_type": "stream",
     "text": [
      "None\n"
     ]
    }
   ],
   "source": [
    "# .grad -> gradient of the variable\n",
    "print(x_variable.grad) # 그라디언트 값이 없으니 None"
   ]
  },
  {
   "cell_type": "code",
   "execution_count": 8,
   "metadata": {},
   "outputs": [
    {
     "name": "stdout",
     "output_type": "stream",
     "text": [
      "False\n"
     ]
    },
    {
     "data": {
      "text/plain": [
       "True"
      ]
     },
     "execution_count": 8,
     "metadata": {},
     "output_type": "execute_result"
    }
   ],
   "source": [
    "# .requires_grad -> whether variable requires gradient\n",
    "print(x_variable.requires_grad)\n",
    "\n",
    "x_variable = Variable(x_tensor, requires_grad=True) # 그래디언트 계산 하라는 명령\n",
    "x_variable.requires_grad"
   ]
  },
  {
   "cell_type": "code",
   "execution_count": 10,
   "metadata": {},
   "outputs": [
    {
     "name": "stderr",
     "output_type": "stream",
     "text": [
      "C:\\Users\\Wyatt\\anaconda3\\envs\\wyatt_torch\\lib\\site-packages\\ipykernel_launcher.py:4: UserWarning: volatile was removed and now has no effect. Use `with torch.no_grad():` instead.\n",
      "  after removing the cwd from sys.path.\n",
      "C:\\Users\\Wyatt\\anaconda3\\envs\\wyatt_torch\\lib\\site-packages\\ipykernel_launcher.py:5: UserWarning: volatile was removed (Variable.volatile is always False)\n",
      "  \"\"\"\n"
     ]
    },
    {
     "data": {
      "text/plain": [
       "(None, False, False)"
      ]
     },
     "execution_count": 10,
     "metadata": {},
     "output_type": "execute_result"
    }
   ],
   "source": [
    "# .volatile -> inference mode with minimal memory usage\n",
    "# sinlge voltile variable makes whole graph not requiring gradient\n",
    "\n",
    "x_variable = Variable(x_tensor, volatile=True)\n",
    "x_variable.grad, x_variable.requires_grad, x_variable.volatile # volatile 없어졌대요... 아래 워닝 읽어봐요."
   ]
  },
  {
   "cell_type": "markdown",
   "metadata": {},
   "source": [
    "## 3. Graph & Variables"
   ]
  },
  {
   "cell_type": "code",
   "execution_count": 14,
   "metadata": {},
   "outputs": [
    {
     "data": {
      "text/plain": [
       "(True, True, True)"
      ]
     },
     "execution_count": 14,
     "metadata": {},
     "output_type": "execute_result"
    }
   ],
   "source": [
    "# create graph\n",
    "\n",
    "x = Variable(torch.FloatTensor(3, 4), requires_grad=True)\n",
    "y = x**2 + 4*x\n",
    "z = 2*y + 3\n",
    "\n",
    "x.requires_grad, y.requires_grad, z.requires_grad"
   ]
  },
  {
   "cell_type": "code",
   "execution_count": 15,
   "metadata": {},
   "outputs": [
    {
     "name": "stdout",
     "output_type": "stream",
     "text": [
      "tensor([[0., 0., 0., 0.],\n",
      "        [0., 0., 0., 0.],\n",
      "        [0., 0., 0., 0.]])\n"
     ]
    },
    {
     "name": "stderr",
     "output_type": "stream",
     "text": [
      "C:\\Users\\Wyatt\\anaconda3\\envs\\wyatt_torch\\lib\\site-packages\\ipykernel_launcher.py:8: UserWarning: The .grad attribute of a Tensor that is not a leaf Tensor is being accessed. Its .grad attribute won't be populated during autograd.backward(). If you indeed want the gradient for a non-leaf Tensor, use .retain_grad() on the non-leaf Tensor. If you access the non-leaf Tensor by mistake, make sure you access the leaf Tensor instead. See github.com/pytorch/pytorch/pull/30531 for more informations.\n",
      "  \n"
     ]
    },
    {
     "data": {
      "text/plain": [
       "(None, None)"
      ]
     },
     "execution_count": 15,
     "metadata": {},
     "output_type": "execute_result"
    }
   ],
   "source": [
    "# .backward(gradient, retain_graph, create_graph, retain_variables)\n",
    "# compute gradient of current variable w, r, t graph leaves\n",
    "\n",
    "loss = torch.FloatTensor(3, 4)\n",
    "z.backward(loss)\n",
    "\n",
    "print(x.grad)\n",
    "y.grad, z.grad"
   ]
  },
  {
   "cell_type": "markdown",
   "metadata": {},
   "source": [
    "# Linear Regression vs Neural Quadratic"
   ]
  },
  {
   "cell_type": "code",
   "execution_count": 16,
   "metadata": {},
   "outputs": [],
   "source": [
    "import numpy as np\n",
    "import torch.nn as nn\n",
    "import torch.optim as optim\n",
    "import torch.nn.init as init"
   ]
  },
  {
   "cell_type": "markdown",
   "metadata": {},
   "source": [
    "### 2.Generate Data"
   ]
  },
  {
   "cell_type": "code",
   "execution_count": 17,
   "metadata": {},
   "outputs": [
    {
     "name": "stderr",
     "output_type": "stream",
     "text": [
      "C:\\Users\\Wyatt\\anaconda3\\envs\\wyatt_torch\\lib\\site-packages\\ipykernel_launcher.py:4: UserWarning: nn.init.normal is now deprecated in favor of nn.init.normal_.\n",
      "  after removing the cwd from sys.path.\n",
      "C:\\Users\\Wyatt\\anaconda3\\envs\\wyatt_torch\\lib\\site-packages\\ipykernel_launcher.py:5: UserWarning: nn.init.uniform is now deprecated in favor of nn.init.uniform_.\n",
      "  \"\"\"\n"
     ]
    }
   ],
   "source": [
    "num_data = 1000\n",
    "num_epoch = 1000\n",
    "\n",
    "noise = init.normal(torch.FloatTensor(num_data, 1), std=1)\n",
    "x = init.uniform(torch.Tensor(num_data, 1), -10, 10)\n",
    "\n",
    "y = 2*x + 3\n",
    "y_noise = y+noise"
   ]
  },
  {
   "cell_type": "markdown",
   "metadata": {},
   "source": [
    "### 3. Model & Optimizer"
   ]
  },
  {
   "cell_type": "code",
   "execution_count": 28,
   "metadata": {},
   "outputs": [],
   "source": [
    "# Linear model\n",
    "model = nn.Linear(1, 1)\n",
    "output = model(Variable(x))\n",
    "\n",
    "loss_func = nn.MSELoss()\n",
    "optimizer = optim.SGD(model.parameters(), lr=0.01)"
   ]
  },
  {
   "cell_type": "code",
   "execution_count": 34,
   "metadata": {},
   "outputs": [],
   "source": [
    "# fully connected model with 4 hidden layer\n",
    "\n",
    "model = nn.Sequential(\n",
    "        nn.Linear(1, 6),\n",
    "        nn.ReLU(),\n",
    "        nn.Linear(6, 10),\n",
    "        nn.ReLU(),\n",
    "        nn.Linear(10, 6),\n",
    "        nn.ReLU(),\n",
    "        nn.Linear(6, 1),\n",
    "        )\n",
    "\n",
    "loss_func = nn.L1Loss()\n",
    "optimizer = optim.SGD(model.parameters(), lr=0.003)"
   ]
  },
  {
   "cell_type": "markdown",
   "metadata": {},
   "source": [
    "### 4. Train"
   ]
  },
  {
   "cell_type": "code",
   "execution_count": 35,
   "metadata": {},
   "outputs": [
    {
     "name": "stdout",
     "output_type": "stream",
     "text": [
      "tensor(10.2469, grad_fn=<L1LossBackward>)\n",
      "tensor(10.2336, grad_fn=<L1LossBackward>)\n",
      "tensor(10.2215, grad_fn=<L1LossBackward>)\n",
      "tensor(10.2103, grad_fn=<L1LossBackward>)\n",
      "tensor(10.2001, grad_fn=<L1LossBackward>)\n",
      "tensor(10.1907, grad_fn=<L1LossBackward>)\n",
      "tensor(10.1820, grad_fn=<L1LossBackward>)\n",
      "tensor(10.1738, grad_fn=<L1LossBackward>)\n",
      "tensor(10.1661, grad_fn=<L1LossBackward>)\n",
      "tensor(10.1589, grad_fn=<L1LossBackward>)\n",
      "tensor(10.1520, grad_fn=<L1LossBackward>)\n",
      "tensor(10.1455, grad_fn=<L1LossBackward>)\n",
      "tensor(10.1392, grad_fn=<L1LossBackward>)\n",
      "tensor(10.1331, grad_fn=<L1LossBackward>)\n",
      "tensor(10.1278, grad_fn=<L1LossBackward>)\n",
      "tensor(10.1230, grad_fn=<L1LossBackward>)\n",
      "tensor(10.1186, grad_fn=<L1LossBackward>)\n",
      "tensor(10.1144, grad_fn=<L1LossBackward>)\n",
      "tensor(10.1104, grad_fn=<L1LossBackward>)\n",
      "tensor(10.1064, grad_fn=<L1LossBackward>)\n",
      "tensor(10.1024, grad_fn=<L1LossBackward>)\n",
      "tensor(10.0984, grad_fn=<L1LossBackward>)\n",
      "tensor(10.0944, grad_fn=<L1LossBackward>)\n",
      "tensor(10.0904, grad_fn=<L1LossBackward>)\n",
      "tensor(10.0862, grad_fn=<L1LossBackward>)\n",
      "tensor(10.0818, grad_fn=<L1LossBackward>)\n",
      "tensor(10.0771, grad_fn=<L1LossBackward>)\n",
      "tensor(10.0720, grad_fn=<L1LossBackward>)\n",
      "tensor(10.0661, grad_fn=<L1LossBackward>)\n",
      "tensor(10.0589, grad_fn=<L1LossBackward>)\n",
      "tensor(10.0513, grad_fn=<L1LossBackward>)\n",
      "tensor(10.0434, grad_fn=<L1LossBackward>)\n",
      "tensor(10.0352, grad_fn=<L1LossBackward>)\n",
      "tensor(10.0265, grad_fn=<L1LossBackward>)\n",
      "tensor(10.0173, grad_fn=<L1LossBackward>)\n",
      "tensor(10.0075, grad_fn=<L1LossBackward>)\n",
      "tensor(9.9971, grad_fn=<L1LossBackward>)\n",
      "tensor(9.9859, grad_fn=<L1LossBackward>)\n",
      "tensor(9.9741, grad_fn=<L1LossBackward>)\n",
      "tensor(9.9614, grad_fn=<L1LossBackward>)\n",
      "tensor(9.9479, grad_fn=<L1LossBackward>)\n",
      "tensor(9.9334, grad_fn=<L1LossBackward>)\n",
      "tensor(9.9177, grad_fn=<L1LossBackward>)\n",
      "tensor(9.9008, grad_fn=<L1LossBackward>)\n",
      "tensor(9.8823, grad_fn=<L1LossBackward>)\n",
      "tensor(9.8620, grad_fn=<L1LossBackward>)\n",
      "tensor(9.8398, grad_fn=<L1LossBackward>)\n",
      "tensor(9.8152, grad_fn=<L1LossBackward>)\n",
      "tensor(9.7879, grad_fn=<L1LossBackward>)\n",
      "tensor(9.7574, grad_fn=<L1LossBackward>)\n",
      "tensor(9.7232, grad_fn=<L1LossBackward>)\n",
      "tensor(9.6843, grad_fn=<L1LossBackward>)\n",
      "tensor(9.6399, grad_fn=<L1LossBackward>)\n",
      "tensor(9.5887, grad_fn=<L1LossBackward>)\n",
      "tensor(9.5293, grad_fn=<L1LossBackward>)\n",
      "tensor(9.4597, grad_fn=<L1LossBackward>)\n",
      "tensor(9.3771, grad_fn=<L1LossBackward>)\n",
      "tensor(9.2779, grad_fn=<L1LossBackward>)\n",
      "tensor(9.1573, grad_fn=<L1LossBackward>)\n",
      "tensor(9.0077, grad_fn=<L1LossBackward>)\n",
      "tensor(8.8194, grad_fn=<L1LossBackward>)\n",
      "tensor(8.5784, grad_fn=<L1LossBackward>)\n",
      "tensor(8.2655, grad_fn=<L1LossBackward>)\n",
      "tensor(7.8507, grad_fn=<L1LossBackward>)\n",
      "tensor(7.3001, grad_fn=<L1LossBackward>)\n",
      "tensor(6.6206, grad_fn=<L1LossBackward>)\n",
      "tensor(6.0976, grad_fn=<L1LossBackward>)\n",
      "tensor(5.9151, grad_fn=<L1LossBackward>)\n",
      "tensor(5.7515, grad_fn=<L1LossBackward>)\n",
      "tensor(5.5501, grad_fn=<L1LossBackward>)\n",
      "tensor(5.3170, grad_fn=<L1LossBackward>)\n",
      "tensor(5.0419, grad_fn=<L1LossBackward>)\n",
      "tensor(4.6794, grad_fn=<L1LossBackward>)\n",
      "tensor(4.1805, grad_fn=<L1LossBackward>)\n",
      "tensor(3.4587, grad_fn=<L1LossBackward>)\n",
      "tensor(2.3457, grad_fn=<L1LossBackward>)\n",
      "tensor(0.8797, grad_fn=<L1LossBackward>)\n",
      "tensor(0.8566, grad_fn=<L1LossBackward>)\n",
      "tensor(0.8483, grad_fn=<L1LossBackward>)\n",
      "tensor(0.8414, grad_fn=<L1LossBackward>)\n",
      "tensor(0.8354, grad_fn=<L1LossBackward>)\n",
      "tensor(0.8300, grad_fn=<L1LossBackward>)\n",
      "tensor(0.8256, grad_fn=<L1LossBackward>)\n",
      "tensor(0.8218, grad_fn=<L1LossBackward>)\n",
      "tensor(0.8188, grad_fn=<L1LossBackward>)\n",
      "tensor(0.8165, grad_fn=<L1LossBackward>)\n",
      "tensor(0.8145, grad_fn=<L1LossBackward>)\n",
      "tensor(0.8127, grad_fn=<L1LossBackward>)\n",
      "tensor(0.8110, grad_fn=<L1LossBackward>)\n",
      "tensor(0.8093, grad_fn=<L1LossBackward>)\n",
      "tensor(0.8078, grad_fn=<L1LossBackward>)\n",
      "tensor(0.8065, grad_fn=<L1LossBackward>)\n",
      "tensor(0.8053, grad_fn=<L1LossBackward>)\n",
      "tensor(0.8040, grad_fn=<L1LossBackward>)\n",
      "tensor(0.8030, grad_fn=<L1LossBackward>)\n",
      "tensor(0.8021, grad_fn=<L1LossBackward>)\n",
      "tensor(0.8014, grad_fn=<L1LossBackward>)\n",
      "tensor(0.8006, grad_fn=<L1LossBackward>)\n",
      "tensor(0.7999, grad_fn=<L1LossBackward>)\n",
      "tensor(0.7992, grad_fn=<L1LossBackward>)\n"
     ]
    }
   ],
   "source": [
    "# train\n",
    "loss_arr = []\n",
    "\n",
    "label = Variable(y_noise)\n",
    "for i in range(num_epoch):\n",
    "    optimizer.zero_grad()\n",
    "    output = model(Variable(x))\n",
    "    \n",
    "    loss = loss_func(output, label)\n",
    "    loss.backward()\n",
    "    optimizer.step()\n",
    "    \n",
    "    if i % 10 == 0:\n",
    "        print(loss)\n",
    "        \n",
    "    loss_arr.append(loss.data.numpy())"
   ]
  },
  {
   "cell_type": "markdown",
   "metadata": {},
   "source": [
    "### 5. Check Trained Parameters"
   ]
  },
  {
   "cell_type": "code",
   "execution_count": 27,
   "metadata": {},
   "outputs": [
    {
     "name": "stdout",
     "output_type": "stream",
     "text": [
      "tensor([[2.0038]]) tensor([3.0359])\n"
     ]
    }
   ],
   "source": [
    "param_list = list(model.parameters())\n",
    "print(param_list[0].data, param_list[1].data)"
   ]
  },
  {
   "cell_type": "code",
   "execution_count": null,
   "metadata": {},
   "outputs": [],
   "source": [
    " "
   ]
  }
 ],
 "metadata": {
  "kernelspec": {
   "display_name": "Python 3",
   "language": "python",
   "name": "python3"
  },
  "language_info": {
   "codemirror_mode": {
    "name": "ipython",
    "version": 3
   },
   "file_extension": ".py",
   "mimetype": "text/x-python",
   "name": "python",
   "nbconvert_exporter": "python",
   "pygments_lexer": "ipython3",
   "version": "3.8.0"
  }
 },
 "nbformat": 4,
 "nbformat_minor": 4
}
