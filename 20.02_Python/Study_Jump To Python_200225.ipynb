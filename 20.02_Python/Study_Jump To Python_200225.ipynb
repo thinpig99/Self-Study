{
 "cells": [
  {
   "cell_type": "markdown",
   "metadata": {},
   "source": [
    "# Jump To Python"
   ]
  },
  {
   "cell_type": "markdown",
   "metadata": {},
   "source": [
    "오늘부터 점프 투 파이썬을 제대로 해보고자 한다. 책을 거의 정독하다시피 읽으면서 코드를 써 볼 것이며, 이 한 권 쯤이야 가볍게 마스터 하는 것을 목표로 하자. 일단 1~2장은 패스하고 3장부터 공부해보도록 하자."
   ]
  },
  {
   "cell_type": "markdown",
   "metadata": {},
   "source": [
    "## 3장 프로그램의 구조를 쌓는다! 제어문"
   ]
  },
  {
   "cell_type": "markdown",
   "metadata": {},
   "source": [
    "### 03-1 if문"
   ]
  },
  {
   "cell_type": "markdown",
   "metadata": {},
   "source": [
    "돈이 있으면 택시를 타고, 돈이 없으면 걸어 간다. 를 코드로 쳐보자"
   ]
  },
  {
   "cell_type": "code",
   "execution_count": null,
   "metadata": {},
   "outputs": [],
   "source": [
    "money = 1\n",
    "\n",
    "if money:\n",
    "    print(\"택시\")\n",
    "else:\n",
    "    print(\"걸어가\")\n",
    "    \n",
    "    \n",
    "# if 문의 핵심은 참과 거짓을 분별하여 식을 전개시킨다는 것이다. 참 거짓.\n",
    "# 위 예제를 보면\n",
    "# if, 만약에\n",
    "# money 가 참이면\n",
    "# : 콜론 다음 식을 진행하라\n",
    "# 근데 그 다음 식이 print(\"택시\") 이니 택시를 선언한 것이고,\n",
    "# 만약 if money: 이게 거짓이라면\n",
    "# else: 값이 선언이 되었겠지."
   ]
  },
  {
   "cell_type": "markdown",
   "metadata": {},
   "source": [
    "#### 비교연산자"
   ]
  },
  {
   "cell_type": "code",
   "execution_count": null,
   "metadata": {},
   "outputs": [],
   "source": [
    "# 조건문에는 자료형보다는 비교연산자를 많이 사용한다.\n",
    "# <, >, ==, !=, >=, <= 등이 있다.\n",
    "\n",
    "x = 3\n",
    "y = 2\n",
    "x >y\n",
    "# x는 y보다 실제로 크니까 True"
   ]
  },
  {
   "cell_type": "code",
   "execution_count": null,
   "metadata": {},
   "outputs": [],
   "source": [
    "x<y\n",
    "# 틀렸으니까 False"
   ]
  },
  {
   "cell_type": "code",
   "execution_count": null,
   "metadata": {},
   "outputs": [],
   "source": [
    "x==y\n",
    "# 얘도 틀렸으니까 False"
   ]
  },
  {
   "cell_type": "code",
   "execution_count": null,
   "metadata": {},
   "outputs": [],
   "source": [
    "x!=y\n",
    "# 얘는 틀렸다는 게 참이니까 True"
   ]
  },
  {
   "cell_type": "markdown",
   "metadata": {},
   "source": [
    "만약 3,000원을 가지고 있으면 택시를 타고 그렇지 않으면 걸어 가라!"
   ]
  },
  {
   "cell_type": "code",
   "execution_count": null,
   "metadata": {},
   "outputs": [],
   "source": [
    "# 코드를 쳐보자.\n",
    "# 일단 money 변수를 할당해주자.\n",
    "\n",
    "money = 2000\n",
    "# 2천원 밖에 없다. 가난한 대학생이니까.\n",
    "\n",
    "if money >= 3000:\n",
    "    print(\"좋아 오늘은 택시다.\")\n",
    "else:\n",
    "    print(\"학생은 버스지..\")\n",
    "    \n",
    "# if 조건문이 False 이기 때문에 else: 조건문을 수행한다. 자, 버스 타고 가자."
   ]
  },
  {
   "cell_type": "markdown",
   "metadata": {},
   "source": [
    "#### and, or, not"
   ]
  },
  {
   "cell_type": "markdown",
   "metadata": {},
   "source": [
    "조건을 판단하기 위해서는 and, or, not 도 있다."
   ]
  },
  {
   "cell_type": "code",
   "execution_count": null,
   "metadata": {},
   "outputs": [],
   "source": [
    "# x or y = x와 y 둘 중에 하나만 참이어도 참이다.\n",
    "# x and y = x와 y 둘 모두 참이어야 참이다.\n",
    "# not x = x 가 거짓이면 참이다.\n",
    "# 이걸 굳이 설명을 해야 하나."
   ]
  },
  {
   "cell_type": "markdown",
   "metadata": {},
   "source": [
    "\"돈이 3,000원 이상 있거나 카드가 있다면 택시를 타고, 그렇지 않으면 걸어 가라\""
   ]
  },
  {
   "cell_type": "code",
   "execution_count": null,
   "metadata": {},
   "outputs": [],
   "source": [
    "#자, 코드를 쳐보자. 일단 돈과 카드라는 변수가 나왔다. 할당해주자.\n",
    "\n",
    "money = 2000\n",
    "card = 1 # 1은 True니까 1이 있는 것이고, 0은 없는 것이라는 개념으로 값을 주었다.\n",
    "\n",
    "if money >=3000 or card:\n",
    "    print(\"돈 많네? 카카오 불러\")\n",
    "else:\n",
    "    print(\"가진 건 튼튼한 다리뿐\")\n",
    "    \n",
    "# 카드가 있기 때문에 택시를 탈 수 있었다. 여기서 or 를 and 나 not으로도 바꿀 수 있다.\n",
    "# 이건 코드를 쳐보니까 아는 건데, 여기서 card=1 이라는 코드는 틀렸다고 뜬다.\n",
    "# 그 이유를 알았다. 너무 기초적인 실수다.\n",
    "# = 등호는 변수를 할당하는 명령문이기 때문에 if 조건문에 들어갈 수 없다. 참 거짓을 알아내는 코드가 아니라는 것이다.\n",
    "# 이런 경우에는 그냥 card 를 쓰거나, card ==1 이라고 등호를 두개 써서 비교연산자를 써야 한다.\n",
    "# 비교연산자와 변수 할당 명령문을 헷갈리지 말자."
   ]
  },
  {
   "cell_type": "markdown",
   "metadata": {},
   "source": [
    "#### x in s, x not in s"
   ]
  },
  {
   "cell_type": "markdown",
   "metadata": {},
   "source": [
    "파이썬은 다른 프로그래밍 언어에서 쉽게 볼 수 없는 조건문들을 제공한다. 이놈들인데, 자바로 시작한 나는 이게 진짜 이해가 안간다."
   ]
  },
  {
   "cell_type": "code",
   "execution_count": null,
   "metadata": {},
   "outputs": [],
   "source": [
    "# x in [] , x not in []\n",
    "# x in (), x not in ()\n",
    "# x in \"\", x not in \"\"\n",
    "\n",
    "# 아무튼 리스트나 튜플, 문자열 안에 x 가 할당되어 있는지 확인하고 참 거짓을 분별하는 건데, 그냥 다음 코드를 보자\n",
    "\n",
    "1 in [1,2,3] # 1이 [1,2,3] 안에 있나요? True"
   ]
  },
  {
   "cell_type": "code",
   "execution_count": null,
   "metadata": {},
   "outputs": [],
   "source": [
    "1 not in [1,2,3] # 1이 [1,2,3] 안에 없나요? False 있음."
   ]
  },
  {
   "cell_type": "code",
   "execution_count": null,
   "metadata": {},
   "outputs": [],
   "source": [
    "# 튜플과 문자열에도 적용을 해보자.\n",
    "\n",
    "'a' in ('a', 'b','c')"
   ]
  },
  {
   "cell_type": "code",
   "execution_count": null,
   "metadata": {},
   "outputs": [],
   "source": [
    "'j' not in 'python'"
   ]
  },
  {
   "cell_type": "markdown",
   "metadata": {},
   "source": [
    "\"만약 주머니에 돈이 있으면 택시를 타고, 없으면 걸어 가라\""
   ]
  },
  {
   "cell_type": "code",
   "execution_count": null,
   "metadata": {},
   "outputs": [],
   "source": [
    "# pocket 이라는 리스트를 선언하자. 그 안에는 종이, 휴대폰, 돈이 있다.\n",
    "\n",
    "pocket = ['paper', 'cellphone', 'money']\n",
    "if 'money' in pocket:\n",
    "    print(\"좋아 택시다!\")\n",
    "else:\n",
    "    print(\"허허..주머니에 든 기 없노\")"
   ]
  },
  {
   "cell_type": "code",
   "execution_count": null,
   "metadata": {},
   "outputs": [],
   "source": [
    "# 조건문에서 아무 일도 일어나지 않게 하는 방법도 있다. pass 를 해버리자.\n",
    "\n",
    "# \"주머니에 돈이 없으면 가만히 있고, 돈이 있으면 상납을 해라\"\n",
    "\n",
    "pocket = ['ring', 'gum', 'cellphone']\n",
    "if 'money' not in pocket:\n",
    "    pass\n",
    "else:\n",
    "    print(\"목숨만은 살려 주세요ㅠㅠ\")\n",
    "    \n",
    "# pass 를 선언해서 아무 일도 일어나지 않는다."
   ]
  },
  {
   "cell_type": "markdown",
   "metadata": {},
   "source": [
    "#### 다양한 조건을 판단하는 elif"
   ]
  },
  {
   "cell_type": "markdown",
   "metadata": {},
   "source": [
    "자, if 와 else 가 있지마 세상엔 더 다양한 조건들이 있다. elif 를 통해서 조건 무한 증식을 해보자."
   ]
  },
  {
   "cell_type": "markdown",
   "metadata": {},
   "source": [
    "\"주머니에 돈이 있으면 택시를 타고, 주머니에 돈은 없지만 카드가 있으면 버스를 타고, 돈도 없고 카드도 없으면 걸어 가라\""
   ]
  },
  {
   "cell_type": "code",
   "execution_count": null,
   "metadata": {},
   "outputs": [],
   "source": [
    "# 그러니까 조건이 세개인 조건문이다.\n",
    "\n",
    "pocket = ['card', 'cellphone', 'book']\n",
    "\n",
    "if 'money' in pocket:\n",
    "    print(\"택시로 가즈아!!!\")\n",
    "elif 'card' in pocket:\n",
    "    print(\"버스도 훌륭하지\")\n",
    "else:\n",
    "    print(\"건강해지자.\")\n",
    "    \n",
    "# 위는 elif 를 한 번만 썼는데, 무한으로 쓸 수 있다. 물론 그렇게 하면 코드가 예쁘지는 않겠지.\n",
    "# 아무튼 이런식으로 if, elif, else를 통해서 조건문을 완성할 수 있다."
   ]
  },
  {
   "cell_type": "markdown",
   "metadata": {},
   "source": [
    "### 03-2 while 문"
   ]
  },
  {
   "cell_type": "markdown",
   "metadata": {},
   "source": [
    "반복해서 문장을 수행해야 할 경우에 while 문을 쓴다. while 의 뜻은 '동안에'. 즉 조건이 성립되는 동안에는 반복하라는 뜻이다."
   ]
  },
  {
   "cell_type": "code",
   "execution_count": null,
   "metadata": {},
   "outputs": [],
   "source": [
    "# 바로 코드를 통해서 확인해보자.\n",
    "\n",
    "treehit = 0 #treehit 변수에 0을 할당해주자.\n",
    "while treehit <10: # 수식을 해석하면 treehit 변수가 10보다 작으면 반복하라\n",
    "    treehit = treehit +1 # 안으로 들어가서 10보다 작을 때 수행되는 코드인데, treehit 변수에 +1 을 더해서 할당한다.\n",
    "    print(\"나무를 %d번 찍었습니다.\" %treehit) # 그리고 treehit 변수만큼 찍었다고 출력해주고\n",
    "    if treehit == 10: # 만약에 treehit 이 10이 되면\n",
    "        print(\"나무 넘어갑니다.\") # 나무 넘어간다고 출력해준다.\n",
    "        \n",
    "# 그리고 while 조건문의 조건이 treehit 이 10보다 작으면 반복수행인데, 마침내 10이 되어서 더 큰 값이 되었으니 while 문은 멈춘다."
   ]
  },
  {
   "cell_type": "markdown",
   "metadata": {},
   "source": [
    "#### while 문 직접 만들기"
   ]
  },
  {
   "cell_type": "code",
   "execution_count": null,
   "metadata": {},
   "outputs": [],
   "source": [
    "prompt = \"\"\"\n",
    "1. Add\n",
    "2. Del\n",
    "3. List\n",
    "4. Quit\n",
    "\n",
    "Enter number:\"\"\"\n",
    "\n",
    "# prompt 라는 변수에 문자열을 할당해주자. 근데 여러줄로 할당을 하려고 하니 \"\"\"큰 따옴표 3개를 썼다.\"\"\" 이해가 안가면 문자열 다시 보자."
   ]
  },
  {
   "cell_type": "code",
   "execution_count": null,
   "metadata": {},
   "outputs": [],
   "source": [
    "number = 0 # number 라는 변수에 0을 할당해주고,\n",
    "while number !=4: # while로 반복 조건을 줘보자. number 가 4가 아니면 반복하라고 한다.\n",
    "    print(prompt) # prompt 변수를 출력하라고 한다. \n",
    "    number = int(input()) # number 변수는 int(input()) 정수형이며, 입력 함수를 통해서 할당 시킨다.\n",
    "    \n",
    "# 이렇게 하면 4번을 입력하기 전까지는 계속 반복된다. 이런 간단한 4줄의 코드를 통해서 나중에 프로그래밍이 가능하다!!!!"
   ]
  },
  {
   "cell_type": "markdown",
   "metadata": {},
   "source": [
    "#### while문 강제로 빠져나가기"
   ]
  },
  {
   "cell_type": "markdown",
   "metadata": {},
   "source": [
    "while문의 특징은 조건이 참이면 무한 반복이라는 것인데, 강제로 빠져나가게 하는 방법이 있다. 바로 break문이다."
   ]
  },
  {
   "cell_type": "code",
   "execution_count": null,
   "metadata": {},
   "outputs": [],
   "source": [
    "# 다음 코드는 커피 자판기 작동 식이다. 살펴보자\n",
    "\n",
    "coffee = 10 # 남은 커피의 개수를 할당하자.\n",
    "money = 300 # 돈도 할당하자. 참의 값으로.\n",
    "while money: # 돈이 있으니 참으로 인식하고, while 문으로 무한 반복 시킨다.\n",
    "    print(\"돈을 받았으니 커피를 내린다.\") \n",
    "    coffee = coffee -1 # 한 번 반복할 때마다 커피는 하나씩 줄어든다.\n",
    "    print(\"남은 커피의 양은 %d 개 입니다.\" % coffee) # 남은 커피의 양도 출력해준다.\n",
    "    if not coffee: # 커피값이 False이면, if not 이니 False를 받아서 True가 되겠지? 어쨋든 커피가 없으면 다음 조건을 선언한다.\n",
    "        print(\"커피 오리이이이잉~~\")\n",
    "        break # 그리고 위 while 문을 멈춘다. break.\n",
    "\n",
    "# 여기서 break 가 없으면 어떻게 되는지는 상상에 맡기겠다. 멈추지 않는다. 왜냐. coffee 가 음수로 무한대 줄어들기 때문이다.\n",
    "# 컴퓨터는 음수라고 해서 멈춰도 된다는 명령을 받은 적이 없다. 음수여도 coffee 라는 변수는 True 이기 때문에 남은 커피는 -87832개입니다.\n",
    "# 라면서 계속 커피를 뿜어낼 것이다. 있지도 않은 커피를 말이다. 왜냐 돈이 안 떨어지니까....\n",
    "# 여기서 break를 굳이 쓰지 않으려면 while 조건문 안에 money를 줄이는 조건을 집어 넣자.\n"
   ]
  },
  {
   "cell_type": "markdown",
   "metadata": {},
   "source": [
    "#### Break 문을 이용해 자판기 작동 과정 만들기"
   ]
  },
  {
   "cell_type": "markdown",
   "metadata": {},
   "source": [
    "위의 예시는 간단하게 만들어 본 거라고 한다. 최대한 비슷하게 만든 코드라고 한다. 아니 왜 일을 두번 해?!"
   ]
  },
  {
   "cell_type": "code",
   "execution_count": null,
   "metadata": {},
   "outputs": [],
   "source": [
    "coffee = 10\n",
    "while True:\n",
    "    money = int(input(\"돈 내놔!: \"))\n",
    "    if money == 300:\n",
    "        print(\"옛다 믹스커피\")\n",
    "        coffee = coffee -1\n",
    "    elif money > 300:\n",
    "        print(\"내가 먹고 싶지만 남겨주마, 옛다 %d 원 이랑 커피\" %(money -300))\n",
    "        coffee = coffee -1\n",
    "    else:\n",
    "        print(\"거지야?! 이걸론 커피 한 잔 못 사!\")\n",
    "        print(\"커피는 줄어들지 않아서 %d 잔 남음\" % coffee)\n",
    "    if not coffee:\n",
    "        print(\"오늘 커피는 완판, 나는 뿌듯\")\n",
    "        break"
   ]
  },
  {
   "cell_type": "markdown",
   "metadata": {},
   "source": [
    "#### 조건에 맞지 않는 경우 맨 처음으로 돌아가기"
   ]
  },
  {
   "cell_type": "markdown",
   "metadata": {},
   "source": [
    "while 문을 쓰다보면 (지금은 기초 단계라 조건도 코드도 짧지만) while 문의 처음으로 복귀시키고 싶을 때가 있다. 예를 들면 중간까지만 돌리고 처음으로 복귀 시킨다거나 뭐 이런거. 그럴땐 continue를 쓴다."
   ]
  },
  {
   "cell_type": "code",
   "execution_count": null,
   "metadata": {},
   "outputs": [],
   "source": [
    "a = 0 # a 라는 변수에 0 을 할당해주고.\n",
    "while a < 10: # a 가 10보다 작으면 반복하자.\n",
    "    a = a+1 # 일단 들어가자 마자 a 에 1 더해주고,\n",
    "    if a % 2 == 0 : continue # 만약 a 를 2로 나눠서 나머지가 0이면 바로 처음으로 돌아가서 반복,\n",
    "    print(a) # 나머지가 0이 아니면 continue 에서 멈추지 않고 여기까지 내려와서 a 를 프린트."
   ]
  },
  {
   "cell_type": "markdown",
   "metadata": {},
   "source": [
    "#### 무한 루프"
   ]
  },
  {
   "cell_type": "code",
   "execution_count": null,
   "metadata": {},
   "outputs": [],
   "source": [
    "# 이거 별거 없다. 아까 위에서 한 번 했다.\n",
    "\n",
    "while True: # 조건이 참이면 반복하는데 True 값을 줘버리면 계속 참이지. 그래서 무한 반복.\n",
    "    print(\"Ctrl + C 를 누르면 멈춘다.\")\n",
    "    \n",
    "# 안 멈춘다. 그냥 위에 정지 버튼 누르자...."
   ]
  },
  {
   "cell_type": "markdown",
   "metadata": {},
   "source": [
    "### 03-3 for문"
   ]
  },
  {
   "cell_type": "markdown",
   "metadata": {},
   "source": [
    "while문과 비슷하게 for문이라는 반복 제어문이 있다."
   ]
  },
  {
   "cell_type": "markdown",
   "metadata": {},
   "source": [
    "#### for문의 기본 구조"
   ]
  },
  {
   "cell_type": "code",
   "execution_count": null,
   "metadata": {},
   "outputs": [],
   "source": [
    "# for문의 기본 구조는 다음과 같다.\n",
    "# for 변수 in 리스트(또는 튜플, 또는 문자열):\n",
    "# 수행할 문장"
   ]
  },
  {
   "cell_type": "code",
   "execution_count": null,
   "metadata": {},
   "outputs": [],
   "source": [
    "#예제를 해보자\n",
    "\n",
    "test_list = ['one', 'two', 'three']\n",
    "for i in test_list: # 이 문장은 i 라는 변수에 test_list 의 요소가 순서대로 할당 된다는 뜻이다.\n",
    "    print(i) # 그렇기 때문에 0번째 요소인 one 이 처음 i변수에 할당되어 one이 출력되고, 그 다음, 그 다음이 되는 것이다."
   ]
  },
  {
   "cell_type": "code",
   "execution_count": null,
   "metadata": {},
   "outputs": [],
   "source": [
    "# 조금 다양하게 써보자\n",
    "\n",
    "a = [(1,2),(3,4),(5,6)]\n",
    "for (first, last) in a:\n",
    "    print(first + last)\n",
    "    \n",
    "# a 리스트의 요소가 튜플이기 때문에 각각의 요소들이 자동으로 (first, last) 라는 변수에 할당된다."
   ]
  },
  {
   "cell_type": "code",
   "execution_count": null,
   "metadata": {},
   "outputs": [],
   "source": [
    "# 응용해보자.\n",
    "# \"총 5명의 학생이 시험을 보았는데, 시험 점수가 60점이 넘으면 합격, 그렇지 않으면 불합격. 합불합 결과를 보여주시오.\"\n",
    "\n",
    "# 5명의 시험 점수를 리스트로 먼저 할당하자.\n",
    "\n",
    "score = [90, 25, 67, 45, 80]\n",
    "number = 0\n",
    "for i in score:\n",
    "    number = number + 1\n",
    "    if i >= 60:\n",
    "        print(\"열공 했네 %d 번 학생, 합격!!!\" %number)\n",
    "    else:\n",
    "        print(\"마 %d 번 학생! 이 점수에 잠이 오나!! 불합격!!!\" %number)"
   ]
  },
  {
   "cell_type": "markdown",
   "metadata": {},
   "source": [
    "#### for문과 continue"
   ]
  },
  {
   "cell_type": "markdown",
   "metadata": {},
   "source": [
    "continue를 for문에도 쓸 수 있다."
   ]
  },
  {
   "cell_type": "code",
   "execution_count": null,
   "metadata": {},
   "outputs": [],
   "source": [
    "score = [90, 25, 67, 45, 80]\n",
    "number = 0\n",
    "for i in score:\n",
    "    number = number + 1\n",
    "    if i < 60: continue\n",
    "    print(\"열공 했네 %d 번 학생, 합격!!!\" %number)\n",
    "    \n",
    "# 60점 미만인 학생은 점수를 알려주지 않고 위로 올라간다.\n",
    "# 여기서 중요한 점은, print문이 if문 안에 있는 명령문이 아니기 때문에 들여쓰기를 하면 오류가 뜬다.\n",
    "# for문 밑에 있는 명령어이기 때문에 for문 안에서 들여쓰기를 한다. if문은 continue로 끝났다."
   ]
  },
  {
   "cell_type": "markdown",
   "metadata": {},
   "source": [
    "#### for와 함께 자주 사용하는 range 함수"
   ]
  },
  {
   "cell_type": "markdown",
   "metadata": {},
   "source": [
    "for문은 숫자 리스트를 자동으로 만들어주는 range 라는 함수와 함께 사용되는 경우가 많다."
   ]
  },
  {
   "cell_type": "code",
   "execution_count": null,
   "metadata": {},
   "outputs": [],
   "source": [
    "a = range(10) # 10개의 숫자를 할당하라는 명령. 중요한 건 파이썬은 언제나 0부터이다. 0~9\n",
    "a"
   ]
  },
  {
   "cell_type": "code",
   "execution_count": null,
   "metadata": {},
   "outputs": [],
   "source": [
    "#시작 숫자와 끝 숫자를 지정하려면 range(시작숫자, 끝 숫자) 로 지정해주면 되는데, 끝 숫자는 비포함이라고 한다.\n",
    "\n",
    "a = range(1, 11)\n",
    "a"
   ]
  },
  {
   "cell_type": "code",
   "execution_count": null,
   "metadata": {},
   "outputs": [],
   "source": [
    "# 대충 이렇게 쓴다고 보면 된다.\n",
    "# 1부터 10까지의 합을 구한다고 할 때\n",
    "\n",
    "sum = 0 #sum이라는 변수를 일단 할당해주고,\n",
    "for i in range(1, 11): #1~10까지의 range를 선언하고 for문으로 돌린다.\n",
    "    sum = sum + i #섬은 1~10까지 계속 더하겠지?\n",
    "\n",
    "print(sum)"
   ]
  },
  {
   "cell_type": "code",
   "execution_count": null,
   "metadata": {},
   "outputs": [],
   "source": [
    "# 점수 출력하던 코드도 range 함수로 바꿔보자.\n",
    "\n",
    "score = [90, 25, 67, 45, 80]\n",
    "for i in range(len(score)): #여기서 len은 길이를 찾아주는 함수인데, score 라는 리스트는 요소가 5개 이므로 range(5) 라고 보면 된다.\n",
    "    if score[i] < 60: continue # 그래서 0~ 4까지 돌아가면서 보는건데,\n",
    "    print(\"%d 번 학생 축하합니다. 합격!\" %(i+1)) # i+1 이라고 되어있으니, 0~4가 아니라 1~5번 학생이 되는 것이다."
   ]
  },
  {
   "cell_type": "code",
   "execution_count": null,
   "metadata": {},
   "outputs": [],
   "source": [
    "#for 와 range를 이용해서 구구단을 외워보자.\n",
    "\n",
    "for i in range(2,10): #i 변수에 2부터 9까지 넣어준다.\n",
    "    for j in range(1,10): # i=2일 때, j변수에 1부터 9까지 넣어서 반복 돌린다. 그럼 2단을 일단 출력하겠지.\n",
    "        print(i*j, end=\" \") #end=\"\" 함수는 줄을 내리지 않고 옆으로 반복하라는 것이다. 공백을 넣어야 띄어쓰기를 한다.\n",
    "    print('') #1차 for문은 마지막에 줄 넘김을 하게 된다."
   ]
  },
  {
   "cell_type": "markdown",
   "metadata": {},
   "source": [
    "#### 리스트 안에 for문 포함하기"
   ]
  },
  {
   "cell_type": "markdown",
   "metadata": {},
   "source": [
    "리스트 안에 for문을 포함하는 리스트 내포(List comprehension)으로 좀 더 편리하고 객관적인 아무튼. 활용도 높아 보인다."
   ]
  },
  {
   "cell_type": "code",
   "execution_count": null,
   "metadata": {},
   "outputs": [],
   "source": [
    "a = [1, 2, 3, 4]\n",
    "result = []\n",
    "for i in a:\n",
    "    result.append(i*3)\n",
    "    \n",
    "print(result)\n",
    "\n",
    "#자 이렇게 생긴 for문을"
   ]
  },
  {
   "cell_type": "code",
   "execution_count": null,
   "metadata": {},
   "outputs": [],
   "source": [
    "#다음과 같이 바꿔보겠다.\n",
    "\n",
    "result = [i*3 for i in a]\n",
    "result"
   ]
  },
  {
   "cell_type": "code",
   "execution_count": null,
   "metadata": {},
   "outputs": [],
   "source": [
    "result = [i*3 for i in a if i % 2 == 0]\n",
    "result"
   ]
  },
  {
   "cell_type": "markdown",
   "metadata": {},
   "source": [
    "아주 미쳤다. [표현식 for 항목 in 반복 가능 객체 if 조건]"
   ]
  },
  {
   "cell_type": "markdown",
   "metadata": {},
   "source": [
    "for 문을 2개 쓰는 것도 가능하다고 한다. [표현식 for 항목 1 in 반복가능객체1 if 조건1 for 항목2 in 반복가능객체2 if 조건2]"
   ]
  },
  {
   "cell_type": "code",
   "execution_count": null,
   "metadata": {},
   "outputs": [],
   "source": [
    "result = [x*y for x in range(2,10) for y in range(1,10)]\n",
    "result"
   ]
  },
  {
   "cell_type": "markdown",
   "metadata": {},
   "source": [
    "## 4장 프로그램의 입력과 출력은 어떻게 해야 할까?"
   ]
  },
  {
   "cell_type": "markdown",
   "metadata": {},
   "source": [
    "### 04-1 함수"
   ]
  },
  {
   "cell_type": "markdown",
   "metadata": {},
   "source": [
    "함수가 뭔가? 어떤 함이 있는데 x를 넣었을 때, y라는 결과값이 나오는 것이다. 그 함을 만들어두고 반복적으로 쓰는 것이다."
   ]
  },
  {
   "cell_type": "code",
   "execution_count": null,
   "metadata": {},
   "outputs": [],
   "source": [
    "# 함수의 구조는 다음과 같다.\n",
    "\n",
    "def sum(a, b):\n",
    "    return a + b\n",
    "\n",
    "a = 3\n",
    "b = 4\n",
    "c = sum(a,b)\n",
    "print(c)\n",
    "\n",
    "# 설명하겠다. def는 함수를 만들라는 예약어다. sum이라는 함수를 만들고, 입력 인수는 (a, b) 이다.\n",
    "# return은 다음 값을 반환하라는 것인데, a + b 라는 식을 반환하라는 것이다.\n",
    "# c = sum(a,b) 를 통해서 sum 함수를 사용하여 c라는 변수에 값을 할당하였다."
   ]
  },
  {
   "cell_type": "code",
   "execution_count": null,
   "metadata": {},
   "outputs": [],
   "source": [
    "# 조금 더 일반적인 함수의 예를 알아보자.\n",
    "\n",
    "def sum (a,b): # 위와 똑같이 sum이라는 함수와 입력 인수를 선언해준다.\n",
    "    result = a+b # sum이라는 함수에서 수행 할 문장을 써 준다. result 라는 변수에 a+b를 할당하라.\n",
    "    return result # 결과값으로 result 라는 변수를 반환하라.\n",
    "\n",
    "a = sum(3,4)\n",
    "print(a)"
   ]
  },
  {
   "cell_type": "markdown",
   "metadata": {},
   "source": [
    "#### 입력값이 없는 함수"
   ]
  },
  {
   "cell_type": "code",
   "execution_count": null,
   "metadata": {},
   "outputs": [],
   "source": [
    "def say():\n",
    "    return(\"Hi\")\n",
    "\n",
    "a = say()\n",
    "print(a)\n",
    "\n",
    "# 이 함수는 입력인수에 아무 값도 없다. 즉, 3번째 줄 코드처럼 say()로 할당하면 \"Hi\"를 할당하게 된다."
   ]
  },
  {
   "cell_type": "markdown",
   "metadata": {},
   "source": [
    "#### 결과값이 없는 함수"
   ]
  },
  {
   "cell_type": "code",
   "execution_count": null,
   "metadata": {},
   "outputs": [],
   "source": [
    "def sum(a,b):\n",
    "    print(\"%d, %d의 합은 %d입니다.\" %(a, b, a+b))\n",
    "    \n",
    "sum(3,4)\n",
    "\n",
    "# 해당 함수는 return 값이 없다. 좀 다르게 활용된다."
   ]
  },
  {
   "cell_type": "code",
   "execution_count": null,
   "metadata": {},
   "outputs": [],
   "source": [
    "a = sum(3,4)\n",
    "print(a)\n",
    "\n",
    "# sum(3,4) 는 그저 print 하라는 명령만 수행할 뿐이다.\n",
    "# a 를 print() 하면 반환된 값이 없기 때문에 None 을 반환한다."
   ]
  },
  {
   "cell_type": "markdown",
   "metadata": {},
   "source": [
    "#### 입력값도 결과값도 없는 함수"
   ]
  },
  {
   "cell_type": "code",
   "execution_count": null,
   "metadata": {},
   "outputs": [],
   "source": [
    "def say():\n",
    "    print('Hi')\n",
    "    \n",
    "say()\n",
    "\n",
    "# 입력인자도 없고, 리턴값도 없다."
   ]
  },
  {
   "cell_type": "markdown",
   "metadata": {},
   "source": [
    "#### 여러 개의 입력값을 받는 함수"
   ]
  },
  {
   "cell_type": "code",
   "execution_count": null,
   "metadata": {},
   "outputs": [],
   "source": [
    "# 여러 개의 입력값을 모두 더하는 함수를 직접 만들어보자.\n",
    "# sum_many(1,2)이면 3을, sum_many(1,2,3)이면 6을, sum_many(1,2,3,4,5,6,7,8,9,10)이면 55를 돌려주는 함수를 만들어 보자.\n",
    "\n",
    "def sum_many(*args): #args는 그냥 관례적으로 쓰는 arguments의 약자이며 중요치 않고, *가 중요하다. 아래 설명 이어간다.\n",
    "    sum = 0  # *를 쓰고 입력변수를 쓰면 입력 값들을 전부 모아서 튜플로 만들어 준다.\n",
    "    for i in args:\n",
    "        sum += i\n",
    "    return sum\n",
    "\n",
    "result = sum_many(1,2,3) # 그래서 여기에 입력변수 3개를 넣어주어도 되고, 아래 코드처럼 10개를 넣어도 된다.\n",
    "print(result)"
   ]
  },
  {
   "cell_type": "code",
   "execution_count": null,
   "metadata": {},
   "outputs": [],
   "source": [
    "result = sum_many(1,2,3,4,5,6,7,8,9,10)\n",
    "print(result)"
   ]
  },
  {
   "cell_type": "code",
   "execution_count": null,
   "metadata": {},
   "outputs": [],
   "source": [
    "# 또 다른 것도 있다고 한다.\n",
    "\n",
    "def sum_mul(choice, *args): # 입력인수로 일반 변수 하나와, 다중변수를 넣어주었다.\n",
    "    if choice == \"sum\":\n",
    "        result = 0\n",
    "        for i in args:\n",
    "            result += i\n",
    "    elif choice == \"mul\":\n",
    "        result = 1\n",
    "        for i in args:\n",
    "            result *= i\n",
    "    return result"
   ]
  },
  {
   "cell_type": "code",
   "execution_count": null,
   "metadata": {},
   "outputs": [],
   "source": [
    "result = sum_mul('sum', 1,2,3,4,5)\n",
    "print(result)"
   ]
  },
  {
   "cell_type": "code",
   "execution_count": null,
   "metadata": {},
   "outputs": [],
   "source": [
    "result = sum_mul('mul', 1,2,3,4,5)\n",
    "print(result)"
   ]
  },
  {
   "cell_type": "markdown",
   "metadata": {},
   "source": [
    "#### 함수의 결과값은 언제나 하나이다."
   ]
  },
  {
   "cell_type": "code",
   "execution_count": null,
   "metadata": {},
   "outputs": [],
   "source": [
    "def sum_and_mul(a,b):\n",
    "    return a+b, a*b"
   ]
  },
  {
   "cell_type": "code",
   "execution_count": null,
   "metadata": {},
   "outputs": [],
   "source": [
    "result = sum_and_mul(3,4)\n",
    "print(result)\n",
    "\n",
    "# 함수의 값은 (7,12) 라는 튜플값을 갖게 된다. 그러니 하나의 값을 반환하는 개념이다. 두개 아니다."
   ]
  },
  {
   "cell_type": "code",
   "execution_count": null,
   "metadata": {},
   "outputs": [],
   "source": [
    "# 혹시나 return 을 두 번 쓰는 경우는 어떨까 생각할 수 있지만, 컴퓨터를 이해한다면 이건 틀렸다는 것을 알 수 있다.\n",
    "\n",
    "def sum_and_mul(a,b):\n",
    "    return a+b # 여기서 이미 값을 반환하고 이 함수는 끝이난다.\n",
    "    return a*b # 여기까지 내려오지 않는다는 것이다.\n",
    "\n",
    "result = sum_and_mul(3,4)\n",
    "print(result)"
   ]
  },
  {
   "cell_type": "markdown",
   "metadata": {},
   "source": [
    "return을 활용해서 함수를 빠져나갈 수 있다고 한다."
   ]
  },
  {
   "cell_type": "code",
   "execution_count": null,
   "metadata": {},
   "outputs": [],
   "source": [
    "def say_nick(nick):\n",
    "    if nick == \"바보\": # 만약에 nick이 \"바보면\"\n",
    "        return # return값을 반환한다. 그런데 반환값이 없네?! 밑으로 내려가지 않고 빠져 나간다.\n",
    "    print(\"나의 별명은 %s 입니다.\" % nick) # 근데 if문에 False면 빠져나가고 def함수의 print()를 출력한다."
   ]
  },
  {
   "cell_type": "code",
   "execution_count": null,
   "metadata": {},
   "outputs": [],
   "source": [
    "say_nick('야호')"
   ]
  },
  {
   "cell_type": "code",
   "execution_count": null,
   "metadata": {},
   "outputs": [],
   "source": [
    "say_nick('바보')"
   ]
  },
  {
   "cell_type": "markdown",
   "metadata": {},
   "source": [
    "#### 입력 인수에 초깃값 미리 설정하기"
   ]
  },
  {
   "cell_type": "code",
   "execution_count": null,
   "metadata": {},
   "outputs": [],
   "source": [
    "# 입력 인수에 초깃값을 미리 설정할 수 있다고 한다.\n",
    "\n",
    "def say_myself(name, old, man=True): # man이라는 입력 인수에 True 값을 미리 넣어준다. 그렇다면 이걸 건들지 않는 이상은 이 값이 유지다.\n",
    "    print(\"나의 이름은 %s 입니다.\" %name)\n",
    "    print(\"나이는 %d 입니다.\" % old)\n",
    "    if man:\n",
    "        print(\"남자입니다.\")\n",
    "    else:\n",
    "        print(\"여자입니다.\")"
   ]
  },
  {
   "cell_type": "code",
   "execution_count": null,
   "metadata": {},
   "outputs": [],
   "source": [
    "say_myself(\"박응용\",27) # 세번째 입력 인수를 따로 건들지 않아도 초기값이 True로 할당되어 있기 때문에 다음과 같이 출력한다."
   ]
  },
  {
   "cell_type": "code",
   "execution_count": null,
   "metadata": {},
   "outputs": [],
   "source": [
    "say_myself(\"박응용\",27, True) # 물론 건드려도 상관없다."
   ]
  },
  {
   "cell_type": "code",
   "execution_count": null,
   "metadata": {},
   "outputs": [],
   "source": [
    "say_myself(\"박응선\", 27, False) # 값을 바꾸려면 다른 값을 넣으면 되고."
   ]
  },
  {
   "cell_type": "markdown",
   "metadata": {},
   "source": [
    "함수 입력 인수에 초깃값을 설정할 때 주의할 사항"
   ]
  },
  {
   "cell_type": "code",
   "execution_count": null,
   "metadata": {},
   "outputs": [],
   "source": [
    "def say_myself(name, man=True, old): # 이렇게 넣으면 문제가 생긴다. 책에서는 함수 선언이 되는데 여기서는 안되네. 밑에 오류가 뜬다.\n",
    "    print(\"나의 이름은 %s 입니다.\" %name)\n",
    "    print(\"나이는 %d 입니다.\" % old)\n",
    "    if man:\n",
    "        print(\"남자입니다.\")\n",
    "    else:\n",
    "        print(\"여자입니다.\")\n",
    "        \n",
    "# 넌 디폴트 어규먼트는 팔로우 디폴트 어규먼트."
   ]
  },
  {
   "cell_type": "markdown",
   "metadata": {},
   "source": [
    "#### 함수 안에서 선언된 변수의 효력 범위"
   ]
  },
  {
   "cell_type": "code",
   "execution_count": null,
   "metadata": {},
   "outputs": [],
   "source": [
    "a = 1\n",
    "\n",
    "def vartest(a):\n",
    "    a +=1\n",
    "    \n",
    "vartest(a)\n",
    "print(a)\n",
    "\n",
    "# 원래대로라면 a=1 이니까 함수 안에 들어갔다 나오면 2가 되어야 하는데 값은 1이다.\n",
    "# 함수 안의 a라는 변수는 함수 안에서의 변수이지 함수 밖의 변수 a랑은 별개라는 뜻이다."
   ]
  },
  {
   "cell_type": "code",
   "execution_count": null,
   "metadata": {},
   "outputs": [],
   "source": [
    "def varest(a):\n",
    "    a +=i\n",
    "    \n",
    "vartest(3)\n",
    "print(a)\n",
    "\n",
    "# 저 위에 a=1 이라고 변수를 할당해줘서 1이라고 뜨는데, 원래는 error 가 떠야 맞다. 왜냐면 이 코드 안에는 a를 선언한 적이 없기 때문이다."
   ]
  },
  {
   "cell_type": "markdown",
   "metadata": {},
   "source": [
    "#### 함수 안에서 함수 밖의 변수를 변경하는 방법"
   ]
  },
  {
   "cell_type": "markdown",
   "metadata": {},
   "source": [
    "1. return 이용하기 "
   ]
  },
  {
   "cell_type": "code",
   "execution_count": null,
   "metadata": {},
   "outputs": [],
   "source": [
    "a = 1\n",
    "def vartest(a):\n",
    "    a +=1\n",
    "    return a # return을 사용해서 vartest라는 함수안의 변수a 값을 받아준다.\n",
    "\n",
    "a = vartest(a) #a라는 외부 변수에 vartest함수의 (a) 내부변수를 할당해주면,\n",
    "print(a) # 2가 된다.\n",
    "\n",
    "#여기서 vartest(a)의 a는 함수 내부 변수, 밖에 선언한 a 변수는 외부변수, 즉 둘이 다르다."
   ]
  },
  {
   "cell_type": "markdown",
   "metadata": {},
   "source": [
    "2. global 명령어 이용하기"
   ]
  },
  {
   "cell_type": "code",
   "execution_count": null,
   "metadata": {},
   "outputs": [],
   "source": [
    "a = 1\n",
    "def vartest():\n",
    "    global a # global 변수는 외부의 변수를 직접 사용하겠다는 뜻이다. 외부의 a를 함수의 a로 쓰겠다는 것이다.\n",
    "    a +=1\n",
    "    \n",
    "vartest()\n",
    "print(a)\n",
    "\n",
    "# 그렇지만 이렇게 되면 독립변수가 흔들리게 되므로, 안 쓰는 편이 좋다. 이러면 긴 코드에서 값이 꼬일 가능성이 높다. 그냥 return 써라."
   ]
  },
  {
   "cell_type": "markdown",
   "metadata": {},
   "source": [
    "### 04-2 사용자 입력과 출력"
   ]
  },
  {
   "cell_type": "code",
   "execution_count": null,
   "metadata": {},
   "outputs": [],
   "source": [
    "# 출력은 뭐 다 배웠고, 입력도 이미 써봤고.\n",
    "# 프로세스는 다음과 같다.\n",
    "# 사용자 입력 -> 처리(프로그램, 함수 등) -> 출력"
   ]
  },
  {
   "cell_type": "markdown",
   "metadata": {},
   "source": [
    "#### 사용자 입력"
   ]
  },
  {
   "cell_type": "markdown",
   "metadata": {},
   "source": [
    "input 의 사용"
   ]
  },
  {
   "cell_type": "code",
   "execution_count": null,
   "metadata": {},
   "outputs": [],
   "source": [
    "a = input() # a 라는 변수에 input() 으로 입력되는 값을 할당해주겠다는 것이다."
   ]
  },
  {
   "cell_type": "code",
   "execution_count": null,
   "metadata": {},
   "outputs": [],
   "source": [
    "a # a를 출력하면 입력한 값이 뜬다."
   ]
  },
  {
   "cell_type": "markdown",
   "metadata": {},
   "source": [
    "프롬프트를 띄워서 사용자 입력 받기"
   ]
  },
  {
   "cell_type": "code",
   "execution_count": null,
   "metadata": {},
   "outputs": [],
   "source": [
    "# 입력을 받을 때, 안내 문구나 아무튼 뭔 문장을 띄우고 싶을 때는 다음과 같다.\n",
    "\n",
    "number = input(\"숫자를 입력하세요: \")"
   ]
  },
  {
   "cell_type": "code",
   "execution_count": null,
   "metadata": {},
   "outputs": [],
   "source": [
    "print(number)"
   ]
  },
  {
   "cell_type": "markdown",
   "metadata": {},
   "source": [
    "print문 자세히 알기"
   ]
  },
  {
   "cell_type": "code",
   "execution_count": null,
   "metadata": {},
   "outputs": [],
   "source": [
    "a = 123\n",
    "print(a) # 숫자 출력하기\n",
    "\n",
    "b = \"python\"\n",
    "print(b) # 문자열 출력하기\n",
    "\n",
    "c = [1,2,3]\n",
    "print(c) # 리스트 출력하기"
   ]
  },
  {
   "cell_type": "code",
   "execution_count": null,
   "metadata": {},
   "outputs": [],
   "source": [
    "# 큰따옴표로 둘러싸인 문자열은 + 연산과 동일하다.\n",
    "\n",
    "print(\"life \"\"is \"\"too short\")\n",
    "print(\"life \"+\"is \"+\"too short\")"
   ]
  },
  {
   "cell_type": "code",
   "execution_count": null,
   "metadata": {},
   "outputs": [],
   "source": [
    "# 문자열 띄어쓰기는 콤마로 한다.\n",
    "\n",
    "print(\"life\",\"is\",\"too short\")"
   ]
  },
  {
   "cell_type": "code",
   "execution_count": null,
   "metadata": {},
   "outputs": [],
   "source": [
    "# 한 줄에 결과값 출력하기\n",
    "\n",
    "for i in range(10):\n",
    "    print(i, end=' ') # end를 쓰면 한 줄에 쭉 출력할 수 있다."
   ]
  },
  {
   "cell_type": "markdown",
   "metadata": {},
   "source": [
    "### 04-3 파일 읽고 쓰기"
   ]
  },
  {
   "cell_type": "markdown",
   "metadata": {},
   "source": [
    "#### 파일 생성하기"
   ]
  },
  {
   "cell_type": "code",
   "execution_count": null,
   "metadata": {},
   "outputs": [],
   "source": [
    "%pwd"
   ]
  },
  {
   "cell_type": "code",
   "execution_count": null,
   "metadata": {},
   "outputs": [],
   "source": [
    "f = open(\"newfile.txt\",'w')\n",
    "f.close()\n",
    "\n",
    "# r 은 읽기 모드\n",
    "# w 는 쓰기 모드\n",
    "# a 는 추가 모드, 파일의 마지막에 새로운 내용을 추가할 때 사용"
   ]
  },
  {
   "cell_type": "markdown",
   "metadata": {},
   "source": [
    "#### 파일을 쓰기 모드로 열어 출력값 적기"
   ]
  },
  {
   "cell_type": "code",
   "execution_count": null,
   "metadata": {},
   "outputs": [],
   "source": [
    "f = open(\"newfile.txt\",'w')\n",
    "for i in range(1, 11):\n",
    "    data = \"%d 번째 줄입니다.\\n\" %i\n",
    "    f.write(data)\n",
    "f.close()"
   ]
  },
  {
   "cell_type": "markdown",
   "metadata": {},
   "source": [
    "#### 프로그램의 외부에 저장된 파일을 읽는 여러 가지 방법"
   ]
  },
  {
   "cell_type": "markdown",
   "metadata": {},
   "source": [
    "readline() 함수 이용하기"
   ]
  },
  {
   "cell_type": "code",
   "execution_count": null,
   "metadata": {},
   "outputs": [],
   "source": [
    "f = open(\"newfile.txt\",'r')\n",
    "line = f.readline()\n",
    "print(line)\n",
    "f.close()"
   ]
  },
  {
   "cell_type": "code",
   "execution_count": null,
   "metadata": {},
   "outputs": [],
   "source": [
    "f = open(\"newfile.txt\",'r')\n",
    "while True:\n",
    "    line = f.readline()\n",
    "    if not line:break\n",
    "    print(line)\n",
    "f.close()"
   ]
  },
  {
   "cell_type": "markdown",
   "metadata": {},
   "source": [
    "readlines() 함수 이용하기"
   ]
  },
  {
   "cell_type": "code",
   "execution_count": null,
   "metadata": {},
   "outputs": [],
   "source": [
    "# readline() 과 다르게 readlines() 는 모든 라인을 읽어서 각각의 라인을 요소로 갖는 리스트를 리턴한다.\n",
    "\n",
    "f = open(\"newfile.txt\",'r')\n",
    "lines = f.readlines()\n",
    "for line in lines:\n",
    "    print(line)\n",
    "f.close()"
   ]
  },
  {
   "cell_type": "markdown",
   "metadata": {},
   "source": [
    "read() 함수 이용하기"
   ]
  },
  {
   "cell_type": "code",
   "execution_count": null,
   "metadata": {},
   "outputs": [],
   "source": [
    "# read는 파일의 내용 전체를 문자열로 리턴한다. \n",
    "\n",
    "f = open(\"newfile.txt\",'r')\n",
    "data = f.read()\n",
    "print(data)\n",
    "f.close()"
   ]
  },
  {
   "cell_type": "markdown",
   "metadata": {},
   "source": [
    "#### 파일에 새로운 내용 추가하기"
   ]
  },
  {
   "cell_type": "code",
   "execution_count": null,
   "metadata": {},
   "outputs": [],
   "source": [
    "# 쓰기모드('w')로 파일을 열 때는 이미 존재하는 파일일 경우, 그 파일의 내용이 모두 사라진다.\n",
    "# 원래 값을 유지하면서 새로운 값을 추가 하려면 'a' 로 열자.\n",
    "\n",
    "f = open(\"newfile.txt\",'a')\n",
    "for i in range(11,20):\n",
    "    data = \"%d 번째 줄입니다.\\n\" %i\n",
    "    f.write(data)\n",
    "f.close()"
   ]
  },
  {
   "cell_type": "markdown",
   "metadata": {},
   "source": [
    "#### with문과 함께 사용하기"
   ]
  },
  {
   "cell_type": "code",
   "execution_count": null,
   "metadata": {},
   "outputs": [],
   "source": [
    "# 항상 파일을 open 하면 close() 해주어야 하는데 그게 귀찮다면 with와 함께 쓰면된다.\n",
    "\n",
    "with open(\"newfile.txt\",'a') as f:\n",
    "    f.write(\"life is too short\")\n",
    "    \n",
    "# close() 로 닫지 않더라도 with 블록을 벗어나면 자동으로 파일이 닫힌다."
   ]
  },
  {
   "cell_type": "code",
   "execution_count": null,
   "metadata": {},
   "outputs": [],
   "source": []
  },
  {
   "cell_type": "markdown",
   "metadata": {},
   "source": [
    "## 05 파이썬 날개 달기"
   ]
  },
  {
   "cell_type": "markdown",
   "metadata": {},
   "source": [
    "### 05-1 파이썬 프로그래밍의 핵심, 클래스"
   ]
  },
  {
   "cell_type": "markdown",
   "metadata": {},
   "source": [
    "클래스는 쉽지 않다. 개념을 정확히 알고 가는 것이 중요하다."
   ]
  },
  {
   "cell_type": "code",
   "execution_count": 2,
   "metadata": {},
   "outputs": [],
   "source": [
    "# 계산기를 통해서 클래스의 존재 이유를 알아보자.\n",
    "\n",
    "result1 = 0\n",
    "result2 = 0\n",
    "\n",
    "def adder1(num):\n",
    "    global result1\n",
    "    result1 += num\n",
    "    return result1\n",
    "def adder2(num):\n",
    "    global result2\n",
    "    result2 += num\n",
    "    return result2"
   ]
  },
  {
   "cell_type": "code",
   "execution_count": 3,
   "metadata": {},
   "outputs": [
    {
     "name": "stdout",
     "output_type": "stream",
     "text": [
      "3\n",
      "7\n",
      "3\n",
      "10\n"
     ]
    }
   ],
   "source": [
    "print(adder1(3))\n",
    "print(adder1(4))\n",
    "print(adder2(3))\n",
    "print(adder2(7))"
   ]
  },
  {
   "cell_type": "code",
   "execution_count": 5,
   "metadata": {},
   "outputs": [],
   "source": [
    "# 자 계산기를 두개 만든다고 했을 때 위와 같이 함수 두개를 만들어주었다.\n",
    "# 기존의 계산 값을 저장해줘야 하기 때문에, 전역변수(global)로 변수를 선언하고 이어갔다.\n",
    "# 그런데, 계산기가 2개가 아니라 100개라면? adder100 까지 만들어야 하나?\n",
    "# 이럴때 쓰기 위해서 클래스를 쓴다. 함수의 상위호환 개념이다.\n",
    "\n",
    "class Cal:\n",
    "    def __init__(self):\n",
    "        self.result = 0\n",
    "        \n",
    "    def adder(self,num):\n",
    "        self.result += num\n",
    "        return self.result"
   ]
  },
  {
   "cell_type": "code",
   "execution_count": 6,
   "metadata": {},
   "outputs": [],
   "source": [
    "cal1 = Cal()\n",
    "cal2 = Cal()"
   ]
  },
  {
   "cell_type": "code",
   "execution_count": 7,
   "metadata": {},
   "outputs": [
    {
     "name": "stdout",
     "output_type": "stream",
     "text": [
      "3\n",
      "7\n",
      "3\n",
      "10\n"
     ]
    }
   ],
   "source": [
    "print(cal1.adder(3))\n",
    "print(cal1.adder(4))\n",
    "print(cal2.adder(3))\n",
    "print(cal2.adder(7))"
   ]
  },
  {
   "cell_type": "code",
   "execution_count": 8,
   "metadata": {},
   "outputs": [],
   "source": [
    "# 본격적으로 클래스에 대해서 알아보자.\n",
    "\n",
    "class Simple:\n",
    "    pass\n",
    "\n",
    "#가장 기본적인 껍데기 뿐인 클래스다.\n",
    "\n",
    "a = Simple() #a 라는 변수는 객체인 동시에 Simple이라는 클래스의 인스턴스이다.\n",
    "# 이 클래스는 아무런 서비스가 들어있지 않다. 그래서 아무일도 일어나지 않는다."
   ]
  },
  {
   "cell_type": "code",
   "execution_count": 9,
   "metadata": {},
   "outputs": [],
   "source": [
    "# 책에서 하는 것처럼 이야기 형식으로 살펴보자. 훨씬 이해하기 쉽다.\n",
    "\n",
    "class Service:\n",
    "    secret = \"영구는 없다.\""
   ]
  },
  {
   "cell_type": "code",
   "execution_count": 10,
   "metadata": {},
   "outputs": [
    {
     "data": {
      "text/plain": [
       "'영구는 없다.'"
      ]
     },
     "execution_count": 10,
     "metadata": {},
     "output_type": "execute_result"
    }
   ],
   "source": [
    "# 위에 Service 라는 클래스를 만들었다. 클래스를 하나의 회사라고 생각하자. 어떤 서비스를 제공하는지를 보자.\n",
    "\n",
    "pay = Service()\n",
    "\n",
    "#pay라는 사람이 이 회사의 서비스에 가입했다.\n",
    "\n",
    "pay.secret"
   ]
  },
  {
   "cell_type": "code",
   "execution_count": 11,
   "metadata": {},
   "outputs": [],
   "source": [
    "# pay 라는 사람이 Service라는 회사에 가입했고, secret이라는 서비스를 받고 싶어서 사용하니, \"영구는 없다.\" 라는 서비스를 받았다.\n",
    "# 이제 더하기를 제공해주는 서비스를 시작하기로 했다. 클래스 함수이다. 다른말로 클래스 함수를 메서드(method) 라고 한다.\n",
    "\n",
    "class Service:\n",
    "    secret = \"영구는 배꼽이 두 개\"\n",
    "    def sum(self, a, b): # Service라는 회사에서 제공하는 서비스 sum이다. self 값으로 가입정보를 받고, a,b 인수를 받아 값을 반환해준다.\n",
    "        result = a + b\n",
    "        print(\"%s + %s = %s 입니다.\"%(a, b, result))"
   ]
  },
  {
   "cell_type": "code",
   "execution_count": 12,
   "metadata": {},
   "outputs": [
    {
     "name": "stdout",
     "output_type": "stream",
     "text": [
      "3 + 4 = 7 입니다.\n"
     ]
    }
   ],
   "source": [
    "pay = Service() #가입해서 인스턴스 만들고\n",
    "pay.sum(3,4) # 서비스 불러와서 값 받고."
   ]
  },
  {
   "cell_type": "code",
   "execution_count": 13,
   "metadata": {},
   "outputs": [],
   "source": [
    "# 이제 이 회사가 고객의 이름까지 반환한다고 한다.\n",
    "# 어떻게 하는지 살펴보자.\n",
    "\n",
    "class Service:\n",
    "    def setname(self, name):\n",
    "        self.name = name\n",
    "    def sum(self, a, b):\n",
    "        result = a + b\n",
    "        print(\"%s 님 %s + %s = %s 입니다.\"%(self.name, a,b,result))\n",
    "        \n",
    "# 여기엔 이런 프로세스가 숨어 있다.\n",
    "# shin.setname(\"왕구\") 라고 함수에 입력해주면,\n",
    "# self.name = name 인데 여기서 name은 \"왕구\" 를 받았고, self는 shin을 받았다.\n",
    "# shin.name = \"왕구\" 로 치환된다.\n",
    "# 그래서 맨 아래 프린트로 출력되는 것이다."
   ]
  },
  {
   "cell_type": "code",
   "execution_count": 14,
   "metadata": {},
   "outputs": [
    {
     "name": "stdout",
     "output_type": "stream",
     "text": [
      "왕구 님 1 + 3 = 4 입니다.\n"
     ]
    }
   ],
   "source": [
    "shin = Service() # 가입을 하고\n",
    "shin.setname(\"왕구\") #이름 알려주고\n",
    "shin.sum(1,3) #sum 서비스를 사용하면"
   ]
  },
  {
   "cell_type": "code",
   "execution_count": 15,
   "metadata": {},
   "outputs": [
    {
     "ename": "AttributeError",
     "evalue": "'Service' object has no attribute 'name'",
     "output_type": "error",
     "traceback": [
      "\u001b[1;31m---------------------------------------------------------------------------\u001b[0m",
      "\u001b[1;31mAttributeError\u001b[0m                            Traceback (most recent call last)",
      "\u001b[1;32m<ipython-input-15-8cec0156fb68>\u001b[0m in \u001b[0;36m<module>\u001b[1;34m\u001b[0m\n\u001b[0;32m      2\u001b[0m \u001b[1;33m\u001b[0m\u001b[0m\n\u001b[0;32m      3\u001b[0m \u001b[0mwang\u001b[0m \u001b[1;33m=\u001b[0m \u001b[0mService\u001b[0m\u001b[1;33m(\u001b[0m\u001b[1;33m)\u001b[0m\u001b[1;33m\u001b[0m\u001b[1;33m\u001b[0m\u001b[0m\n\u001b[1;32m----> 4\u001b[1;33m \u001b[0mwang\u001b[0m\u001b[1;33m.\u001b[0m\u001b[0msum\u001b[0m\u001b[1;33m(\u001b[0m\u001b[1;36m1\u001b[0m\u001b[1;33m,\u001b[0m\u001b[1;36m3\u001b[0m\u001b[1;33m)\u001b[0m\u001b[1;33m\u001b[0m\u001b[1;33m\u001b[0m\u001b[0m\n\u001b[0m\u001b[0;32m      5\u001b[0m \u001b[1;33m\u001b[0m\u001b[0m\n\u001b[0;32m      6\u001b[0m \u001b[1;31m# 아래 오류 코드를 보면 Service라는 오브젝트에 name 이라는 값을 가지고 있지 않다고 한다. 그래서 출력값을 가지지 못한다.\u001b[0m\u001b[1;33m\u001b[0m\u001b[1;33m\u001b[0m\u001b[1;33m\u001b[0m\u001b[0m\n",
      "\u001b[1;32m<ipython-input-13-ebf2917414e4>\u001b[0m in \u001b[0;36msum\u001b[1;34m(self, a, b)\u001b[0m\n\u001b[0;32m      7\u001b[0m     \u001b[1;32mdef\u001b[0m \u001b[0msum\u001b[0m\u001b[1;33m(\u001b[0m\u001b[0mself\u001b[0m\u001b[1;33m,\u001b[0m \u001b[0ma\u001b[0m\u001b[1;33m,\u001b[0m \u001b[0mb\u001b[0m\u001b[1;33m)\u001b[0m\u001b[1;33m:\u001b[0m\u001b[1;33m\u001b[0m\u001b[1;33m\u001b[0m\u001b[0m\n\u001b[0;32m      8\u001b[0m         \u001b[0mresult\u001b[0m \u001b[1;33m=\u001b[0m \u001b[0ma\u001b[0m \u001b[1;33m+\u001b[0m \u001b[0mb\u001b[0m\u001b[1;33m\u001b[0m\u001b[1;33m\u001b[0m\u001b[0m\n\u001b[1;32m----> 9\u001b[1;33m         \u001b[0mprint\u001b[0m\u001b[1;33m(\u001b[0m\u001b[1;34m\"%s 님 %s + %s = %s 입니다.\"\u001b[0m\u001b[1;33m%\u001b[0m\u001b[1;33m(\u001b[0m\u001b[0mself\u001b[0m\u001b[1;33m.\u001b[0m\u001b[0mname\u001b[0m\u001b[1;33m,\u001b[0m \u001b[0ma\u001b[0m\u001b[1;33m,\u001b[0m\u001b[0mb\u001b[0m\u001b[1;33m,\u001b[0m\u001b[0mresult\u001b[0m\u001b[1;33m)\u001b[0m\u001b[1;33m)\u001b[0m\u001b[1;33m\u001b[0m\u001b[1;33m\u001b[0m\u001b[0m\n\u001b[0m\u001b[0;32m     10\u001b[0m \u001b[1;33m\u001b[0m\u001b[0m\n\u001b[0;32m     11\u001b[0m \u001b[1;31m# 여기엔 이런 프로세스가 숨어 있다.\u001b[0m\u001b[1;33m\u001b[0m\u001b[1;33m\u001b[0m\u001b[1;33m\u001b[0m\u001b[0m\n",
      "\u001b[1;31mAttributeError\u001b[0m: 'Service' object has no attribute 'name'"
     ]
    }
   ],
   "source": [
    "# 그런데 이제 문제는 이것이다.\n",
    "\n",
    "wang = Service()\n",
    "wang.sum(1,3)\n",
    "\n",
    "# 아래 오류 코드를 보면 Service라는 오브젝트에 name 이라는 값을 가지고 있지 않다고 한다. 그래서 출력값을 가지지 못한다.\n",
    "# 무조건 이름을 입력해야 하는 것이다."
   ]
  },
  {
   "cell_type": "code",
   "execution_count": 16,
   "metadata": {},
   "outputs": [],
   "source": [
    "# 그래서 __init__ 이라는 함수가 생기게 되었다.\n",
    "# __init__ 함수의 의미는 이렇다.\n",
    "# 인스턴스를 만들 때 항상 실행된다.\n",
    "\n",
    "class Service:\n",
    "    def __init__(self, name):\n",
    "        self.name = name\n",
    "    def sum(self, a, b):\n",
    "        result = a + b\n",
    "        print(\"%s 님 %s + %s = %s 입니다.\"%(self.name, a,b,result))"
   ]
  },
  {
   "cell_type": "code",
   "execution_count": 17,
   "metadata": {},
   "outputs": [
    {
     "ename": "TypeError",
     "evalue": "__init__() missing 1 required positional argument: 'name'",
     "output_type": "error",
     "traceback": [
      "\u001b[1;31m---------------------------------------------------------------------------\u001b[0m",
      "\u001b[1;31mTypeError\u001b[0m                                 Traceback (most recent call last)",
      "\u001b[1;32m<ipython-input-17-ce3f02c97ae6>\u001b[0m in \u001b[0;36m<module>\u001b[1;34m\u001b[0m\n\u001b[1;32m----> 1\u001b[1;33m \u001b[0mshin\u001b[0m \u001b[1;33m=\u001b[0m \u001b[0mService\u001b[0m\u001b[1;33m(\u001b[0m\u001b[1;33m)\u001b[0m\u001b[1;33m\u001b[0m\u001b[1;33m\u001b[0m\u001b[0m\n\u001b[0m\u001b[0;32m      2\u001b[0m \u001b[1;33m\u001b[0m\u001b[0m\n\u001b[0;32m      3\u001b[0m \u001b[1;31m#평소대로 가입을 하면 아래와 같이 오류가 뜬다.\u001b[0m\u001b[1;33m\u001b[0m\u001b[1;33m\u001b[0m\u001b[1;33m\u001b[0m\u001b[0m\n\u001b[0;32m      4\u001b[0m \u001b[1;31m# __init__ 이 name 이라는 어규먼트를 찾는데 없다는 것이다.\u001b[0m\u001b[1;33m\u001b[0m\u001b[1;33m\u001b[0m\u001b[1;33m\u001b[0m\u001b[0m\n",
      "\u001b[1;31mTypeError\u001b[0m: __init__() missing 1 required positional argument: 'name'"
     ]
    }
   ],
   "source": [
    "shin = Service()\n",
    "\n",
    "#평소대로 가입을 하면 아래와 같이 오류가 뜬다.\n",
    "# __init__ 이 name 이라는 어규먼트를 찾는데 없다는 것이다."
   ]
  },
  {
   "cell_type": "code",
   "execution_count": 18,
   "metadata": {},
   "outputs": [],
   "source": [
    "shin = Service(\"왕구\") # 이렇게 가입할 때, 이름을 넣어주어야 한다. 강제로"
   ]
  },
  {
   "cell_type": "code",
   "execution_count": 19,
   "metadata": {},
   "outputs": [
    {
     "name": "stdout",
     "output_type": "stream",
     "text": [
      "왕구 님 3 + 4 = 7 입니다.\n"
     ]
    }
   ],
   "source": [
    "shin.sum(3,4)"
   ]
  },
  {
   "cell_type": "markdown",
   "metadata": {},
   "source": [
    "#### 사칙연산 클래스 만들기"
   ]
  },
  {
   "cell_type": "code",
   "execution_count": 20,
   "metadata": {},
   "outputs": [],
   "source": [
    "# 자 지금까지 배운 것으로 본격적인 클래스 만들기 실습을 해보겠다.\n",
    "# 숫자 두개를 받아서 사칙연산을 해주는 회사를 만들어보자.\n",
    "\n",
    "class FourCal: # 일단 회사(class)를 만들자.\n",
    "    def setdata(self, a, b): #가장 먼저 두 숫자를 받는 메서드를 만들자. self값을 주어서 가입여부 확인하고, 두 수를 입력인자로 받는다.\n",
    "        self.a = a\n",
    "        self.b = b\n",
    "        \n",
    "    def sum(self): # 다음으로 sum 메서드를 만드는데, 앞서 입력받았던 입력인자 두개를 통해서 자동으로 반환하도록 한다. 따로 안 받는다.\n",
    "        result = self.a + self.b\n",
    "        return result\n",
    "    \n",
    "    def sub(self): # 마찬가지이다.\n",
    "        result = self.a - self.b\n",
    "        return result\n",
    "    \n",
    "    def mul(self):\n",
    "        result = self.a * self.b\n",
    "        return result\n",
    "    \n",
    "    def div(self):\n",
    "        result = self.a / self.b\n",
    "        return result"
   ]
  },
  {
   "cell_type": "code",
   "execution_count": 21,
   "metadata": {},
   "outputs": [],
   "source": [
    "shin = FourCal()"
   ]
  },
  {
   "cell_type": "code",
   "execution_count": 22,
   "metadata": {},
   "outputs": [],
   "source": [
    "shin.setdata(3,4)"
   ]
  },
  {
   "cell_type": "code",
   "execution_count": 23,
   "metadata": {},
   "outputs": [
    {
     "data": {
      "text/plain": [
       "7"
      ]
     },
     "execution_count": 23,
     "metadata": {},
     "output_type": "execute_result"
    }
   ],
   "source": [
    "shin.sum()"
   ]
  },
  {
   "cell_type": "code",
   "execution_count": 24,
   "metadata": {},
   "outputs": [
    {
     "data": {
      "text/plain": [
       "12"
      ]
     },
     "execution_count": 24,
     "metadata": {},
     "output_type": "execute_result"
    }
   ],
   "source": [
    "shin.mul()"
   ]
  },
  {
   "cell_type": "code",
   "execution_count": 25,
   "metadata": {},
   "outputs": [
    {
     "data": {
      "text/plain": [
       "0.75"
      ]
     },
     "execution_count": 25,
     "metadata": {},
     "output_type": "execute_result"
    }
   ],
   "source": [
    "shin.div()"
   ]
  },
  {
   "cell_type": "code",
   "execution_count": 26,
   "metadata": {},
   "outputs": [
    {
     "data": {
      "text/plain": [
       "-1"
      ]
     },
     "execution_count": 26,
     "metadata": {},
     "output_type": "execute_result"
    }
   ],
   "source": [
    "shin.sub()"
   ]
  },
  {
   "cell_type": "markdown",
   "metadata": {},
   "source": [
    "#### 박씨네 집 클래스 만들기"
   ]
  },
  {
   "cell_type": "code",
   "execution_count": 27,
   "metadata": {},
   "outputs": [],
   "source": [
    "# HousePark 이라는 회사를 만들고,\n",
    "# lastname 이라는 메서드를 만들고,\n",
    "# fullname 이라는 메서드도 있고,\n",
    "# travel 이라는 메서드도 만들어보자.\n",
    "\n",
    "class HousePark:\n",
    "    lastname = \"박\"\n",
    "    def __init__ (self, name):\n",
    "        self.fullname = self.lastname + name\n",
    "        \n",
    "    def travel(self, where):\n",
    "        print(\"%s, %s여행을 가다.\" %(self.fullname, where))"
   ]
  },
  {
   "cell_type": "code",
   "execution_count": 28,
   "metadata": {},
   "outputs": [],
   "source": [
    "shin = HousePark(\"왕수\")"
   ]
  },
  {
   "cell_type": "code",
   "execution_count": 29,
   "metadata": {},
   "outputs": [
    {
     "name": "stdout",
     "output_type": "stream",
     "text": [
      "박왕수\n"
     ]
    }
   ],
   "source": [
    "print(shin.fullname)"
   ]
  },
  {
   "cell_type": "code",
   "execution_count": 30,
   "metadata": {},
   "outputs": [
    {
     "name": "stdout",
     "output_type": "stream",
     "text": [
      "박왕수, 부산여행을 가다.\n"
     ]
    }
   ],
   "source": [
    "shin.travel(\"부산\")"
   ]
  },
  {
   "cell_type": "markdown",
   "metadata": {},
   "source": [
    "#### 클래스의 상속 "
   ]
  },
  {
   "cell_type": "code",
   "execution_count": 32,
   "metadata": {},
   "outputs": [],
   "source": [
    "# 프로그래밍 언어에는 상속이라는 개념이 있다. 말 그대로 상속 받는 것이다. (inheritance)\n",
    "# 기존에 우리가 만들어 뒀던 HousePark 이라는 클래스와 똑같이 HouseKim 이라는 클래스를 만든다고 할 때,\n",
    "# 모든 코드를 다시 칠 필요없이 상속을 통해서 HouseKim 을 HousePark 의 기능처럼 똑같이 구현 할 수 있다.\n",
    "# 뭐랄까, 똑같은 핸드폰 대리점을 여러개 만든다고 보면 된다.\n",
    "\n",
    "class HouseKim(HousePark):\n",
    "    lastname = \"김\""
   ]
  },
  {
   "cell_type": "code",
   "execution_count": 33,
   "metadata": {},
   "outputs": [],
   "source": [
    "shin = HouseKim(\"왕수\")"
   ]
  },
  {
   "cell_type": "code",
   "execution_count": 34,
   "metadata": {},
   "outputs": [
    {
     "name": "stdout",
     "output_type": "stream",
     "text": [
      "김왕수\n"
     ]
    }
   ],
   "source": [
    "print(shin.fullname)"
   ]
  },
  {
   "cell_type": "code",
   "execution_count": 35,
   "metadata": {},
   "outputs": [
    {
     "name": "stdout",
     "output_type": "stream",
     "text": [
      "김왕수, 순천여행을 가다.\n"
     ]
    }
   ],
   "source": [
    "shin.travel(\"순천\")"
   ]
  },
  {
   "cell_type": "markdown",
   "metadata": {},
   "source": [
    "메서드 오버라이딩"
   ]
  },
  {
   "cell_type": "code",
   "execution_count": 36,
   "metadata": {},
   "outputs": [],
   "source": [
    "# 상속의 개념 중, 메서드 오버라이딩이라는 개념이 있다.\n",
    "# 상속을 받긴 받았는데, 메서드의 기능을 조금 다르게 하고 싶을 때, 쓰는 것이다. 아주 좋다.\n",
    "\n",
    "class HouseShin(HousePark):\n",
    "    lastname = \"신\"\n",
    "    def travel(self, where, days): # 이렇게 바꾸고 싶은 메서드만 불러와서 다시 덮어씌우기만 하면 된다.\n",
    "        print(\"%s , %s 여행, %s 일 가네\" %(self.fullname, where, days))"
   ]
  },
  {
   "cell_type": "code",
   "execution_count": 37,
   "metadata": {},
   "outputs": [
    {
     "name": "stdout",
     "output_type": "stream",
     "text": [
      "신왕수 , 부산 여행, 5 일 가네\n"
     ]
    }
   ],
   "source": [
    "shin = HouseShin(\"왕수\")\n",
    "shin.travel(\"부산\", 5)"
   ]
  },
  {
   "cell_type": "markdown",
   "metadata": {},
   "source": [
    "#### 연산자 오버로딩 "
   ]
  },
  {
   "cell_type": "code",
   "execution_count": 38,
   "metadata": {},
   "outputs": [],
   "source": [
    "# 연산자(+ - * /) 를 객체끼리 사용할 수 이게 만든 기법이다\n",
    "# 다음과 같은 코드로 구현한다.\n",
    "\n",
    "class HousePark:\n",
    "    lastname = \"박\"\n",
    "    def __init__ (self, name):\n",
    "        self.fullname = self.lastname + name\n",
    "        \n",
    "    def travel(self, where):\n",
    "        print(\"%s, %s여행을 가다.\" %(self.fullname, where))\n",
    "        \n",
    "    def love(self, other):\n",
    "        print(\"%s, %s 사랑에 빠졌네\" %(self.fullname, other.fullname))\n",
    "        \n",
    "    def fight(self, other):\n",
    "        print(\"%s, %s 사랑 싸움하네\" %(self.fullname, other.fullname))\n",
    "        \n",
    "    def __add__(self, other): # 이것이 바로 연산자 오버로딩이다.\n",
    "        print(\"%s, %s 결혼했네\" %(self.fullname, other.fullname))\n",
    "        \n",
    "class HouseShin(HousePark):\n",
    "    lastname = \"신\"\n",
    "    def travel(self, where, days): # 이렇게 바꾸고 싶은 메서드만 불러와서 다시 덮어씌우기만 하면 된다.\n",
    "        print(\"%s , %s 여행, %s 일 가네\" %(self.fullname, where, days))"
   ]
  },
  {
   "cell_type": "code",
   "execution_count": 39,
   "metadata": {},
   "outputs": [],
   "source": [
    "shin = HouseShin(\"왕수\")\n",
    "park = HousePark(\"보영\")"
   ]
  },
  {
   "cell_type": "code",
   "execution_count": 40,
   "metadata": {},
   "outputs": [
    {
     "name": "stdout",
     "output_type": "stream",
     "text": [
      "신왕수, 박보영 사랑에 빠졌네\n"
     ]
    }
   ],
   "source": [
    "shin.love(park)"
   ]
  },
  {
   "cell_type": "code",
   "execution_count": 41,
   "metadata": {},
   "outputs": [
    {
     "name": "stdout",
     "output_type": "stream",
     "text": [
      "신왕수, 박보영 사랑 싸움하네\n"
     ]
    }
   ],
   "source": [
    "shin.fight(park)"
   ]
  },
  {
   "cell_type": "code",
   "execution_count": 42,
   "metadata": {},
   "outputs": [
    {
     "name": "stdout",
     "output_type": "stream",
     "text": [
      "신왕수, 박보영 결혼했네\n"
     ]
    }
   ],
   "source": [
    "shin+park"
   ]
  },
  {
   "cell_type": "markdown",
   "metadata": {},
   "source": [
    "### 05-2 모듈"
   ]
  },
  {
   "cell_type": "markdown",
   "metadata": {},
   "source": [
    "모듈이란 함수나 변수, 클래스 들을 모아 놓은 파일이다. 다른 파이썬 프로그램에서 불러와 사용할 수 있게끔 만들어진 파이썬 파일이다."
   ]
  },
  {
   "cell_type": "code",
   "execution_count": null,
   "metadata": {},
   "outputs": [],
   "source": [
    "# mod1 의 실습은 다른 쥬피터와 cmd 에서 진행된다."
   ]
  },
  {
   "cell_type": "code",
   "execution_count": 43,
   "metadata": {},
   "outputs": [],
   "source": [
    "# mod1.py\n",
    "\n",
    "def sum(a, b):\n",
    "    return a+b"
   ]
  },
  {
   "cell_type": "code",
   "execution_count": 44,
   "metadata": {},
   "outputs": [
    {
     "name": "stdout",
     "output_type": "stream",
     "text": [
      "5\n"
     ]
    }
   ],
   "source": [
    "print(sum(2,3))"
   ]
  },
  {
   "cell_type": "code",
   "execution_count": 45,
   "metadata": {},
   "outputs": [],
   "source": [
    "def safe_sum(a, b):\n",
    "    if type(a)!=type(b):\n",
    "        print(\"더할 수 있는 것이 아닙니다.\")\n",
    "        return\n",
    "    else:\n",
    "        result = sum(a,b)\n",
    "    return result\n"
   ]
  },
  {
   "cell_type": "code",
   "execution_count": 46,
   "metadata": {},
   "outputs": [
    {
     "name": "stdout",
     "output_type": "stream",
     "text": [
      "더할 수 있는 것이 아닙니다.\n",
      "None\n"
     ]
    }
   ],
   "source": [
    "print(safe_sum(\"r\",8))"
   ]
  },
  {
   "cell_type": "markdown",
   "metadata": {},
   "source": [
    "모듈 함수를 사용하는 또 다른 방법"
   ]
  },
  {
   "cell_type": "code",
   "execution_count": 47,
   "metadata": {},
   "outputs": [
    {
     "ename": "ModuleNotFoundError",
     "evalue": "No module named 'mod1'",
     "output_type": "error",
     "traceback": [
      "\u001b[1;31m---------------------------------------------------------------------------\u001b[0m",
      "\u001b[1;31mModuleNotFoundError\u001b[0m                       Traceback (most recent call last)",
      "\u001b[1;32m<ipython-input-47-8cb0f46b9f5a>\u001b[0m in \u001b[0;36m<module>\u001b[1;34m\u001b[0m\n\u001b[0;32m      2\u001b[0m \u001b[1;31m# from 모듈 import 모듈함수\u001b[0m\u001b[1;33m\u001b[0m\u001b[1;33m\u001b[0m\u001b[1;33m\u001b[0m\u001b[0m\n\u001b[0;32m      3\u001b[0m \u001b[1;33m\u001b[0m\u001b[0m\n\u001b[1;32m----> 4\u001b[1;33m \u001b[1;32mfrom\u001b[0m \u001b[0mmod1\u001b[0m \u001b[1;32mimport\u001b[0m \u001b[0msum\u001b[0m\u001b[1;33m\u001b[0m\u001b[1;33m\u001b[0m\u001b[0m\n\u001b[0m\u001b[0;32m      5\u001b[0m \u001b[1;33m\u001b[0m\u001b[0m\n\u001b[0;32m      6\u001b[0m \u001b[1;31m# from 모듈 import 모듈함수1, 모듈함수2\u001b[0m\u001b[1;33m\u001b[0m\u001b[1;33m\u001b[0m\u001b[1;33m\u001b[0m\u001b[0m\n",
      "\u001b[1;31mModuleNotFoundError\u001b[0m: No module named 'mod1'"
     ]
    }
   ],
   "source": [
    "# 파이썬 라이브러리를 땡겨다 쓰는 것처럼 하면 된다.\n",
    "# from 모듈 import 모듈함수\n",
    "\n",
    "from mod1 import sum\n",
    "\n",
    "# from 모듈 import 모듈함수1, 모듈함수2\n",
    "\n",
    "from mod1 import sum, safe_sum\n",
    "\n",
    "# from 모듈 import * / 이거는 전체를 다 부르는 것\n",
    "\n",
    "from mod1 import*"
   ]
  },
  {
   "cell_type": "markdown",
   "metadata": {},
   "source": [
    "#### if__name__==\"__main__\":의 의미"
   ]
  },
  {
   "cell_type": "code",
   "execution_count": 48,
   "metadata": {},
   "outputs": [
    {
     "name": "stdout",
     "output_type": "stream",
     "text": [
      "더할 수 있는 것이 아닙니다.\n",
      "None\n",
      "5\n",
      "20.4\n"
     ]
    }
   ],
   "source": [
    "#mod1_1.py\n",
    "\n",
    "def sum(a,b):\n",
    "    return a+b\n",
    "\n",
    "def safe_sum(a, b):\n",
    "    if type(a)!=type(b):\n",
    "        print(\"더할 수 있는 것이 아닙니다.\")\n",
    "        return\n",
    "    else:\n",
    "        result = sum(a,b)\n",
    "    return result\n",
    "\n",
    "print(safe_sum('a', 1))\n",
    "print(safe_sum(1, 4))\n",
    "print(sum(10, 10.4))"
   ]
  },
  {
   "cell_type": "code",
   "execution_count": 49,
   "metadata": {},
   "outputs": [],
   "source": [
    "# cmd 에서 실행하면 mod1 을 임포트 하자마자 모든 코드가 실행이 되어버린다.\n",
    "# 이러한 문제를 방지하기 위해서 이프 네임을 쓴다."
   ]
  },
  {
   "cell_type": "code",
   "execution_count": 50,
   "metadata": {},
   "outputs": [
    {
     "name": "stdout",
     "output_type": "stream",
     "text": [
      "더할 수 있는 것이 아닙니다.\n",
      "None\n",
      "5\n",
      "20.4\n"
     ]
    }
   ],
   "source": [
    "#mod1.py\n",
    "\n",
    "def sum(a,b):\n",
    "    return a+b\n",
    "\n",
    "def safe_sum(a, b):\n",
    "    if type(a)!=type(b):\n",
    "        print(\"더할 수 있는 것이 아닙니다.\")\n",
    "        return\n",
    "    else:\n",
    "        result = sum(a,b)\n",
    "    return result\n",
    "\n",
    "if __name__==\"__main__\":\n",
    "    print(safe_sum('a', 1))\n",
    "    print(safe_sum(1, 4))\n",
    "    print(sum(10, 10.4))"
   ]
  },
  {
   "cell_type": "markdown",
   "metadata": {},
   "source": [
    "#### 클래스나 변수를 포함한 모듈"
   ]
  },
  {
   "cell_type": "code",
   "execution_count": null,
   "metadata": {},
   "outputs": [],
   "source": [
    "PI = 3.141592\n",
    "\n",
    "class Math:\n",
    "    def solv(self, r):\n",
    "        return PI*(r**2)\n",
    "    def sum(self, a, b):\n",
    "        return a + b\n",
    "\n",
    "if __name__==\"__main__\":\n",
    "    print(PI)\n",
    "    a = Math()\n",
    "    print(a.solv(2))\n",
    "    print(sum(PI, 4.4))\n"
   ]
  },
  {
   "cell_type": "markdown",
   "metadata": {},
   "source": [
    "#### 새 파일 안에서 이전에 만든 모듈 불러오기"
   ]
  },
  {
   "cell_type": "code",
   "execution_count": 51,
   "metadata": {},
   "outputs": [],
   "source": [
    "# sys 모듈을 통해서 불러와보자. 일단 임포트 시키고.\n",
    "\n",
    "import sys"
   ]
  },
  {
   "cell_type": "code",
   "execution_count": 52,
   "metadata": {},
   "outputs": [
    {
     "data": {
      "text/plain": [
       "['C:\\\\Users\\\\thinp',\n",
       " 'C:\\\\Users\\\\thinp\\\\Anaconda3\\\\python37.zip',\n",
       " 'C:\\\\Users\\\\thinp\\\\Anaconda3\\\\DLLs',\n",
       " 'C:\\\\Users\\\\thinp\\\\Anaconda3\\\\lib',\n",
       " 'C:\\\\Users\\\\thinp\\\\Anaconda3',\n",
       " '',\n",
       " 'C:\\\\Users\\\\thinp\\\\AppData\\\\Roaming\\\\Python\\\\Python37\\\\site-packages',\n",
       " 'C:\\\\Users\\\\thinp\\\\Anaconda3\\\\lib\\\\site-packages',\n",
       " 'C:\\\\Users\\\\thinp\\\\Anaconda3\\\\lib\\\\site-packages\\\\win32',\n",
       " 'C:\\\\Users\\\\thinp\\\\Anaconda3\\\\lib\\\\site-packages\\\\win32\\\\lib',\n",
       " 'C:\\\\Users\\\\thinp\\\\Anaconda3\\\\lib\\\\site-packages\\\\Pythonwin',\n",
       " 'C:\\\\Users\\\\thinp\\\\Anaconda3\\\\lib\\\\site-packages\\\\IPython\\\\extensions',\n",
       " 'C:\\\\Users\\\\thinp\\\\.ipython']"
      ]
     },
     "execution_count": 52,
     "metadata": {},
     "output_type": "execute_result"
    }
   ],
   "source": [
    "# sys.path 는 파이썬 라이브러리들이 설치되어 있는 디렉토리를 보여준다. 파이썬 모듈이 해당 디렉토리에 있다면, 바로 불러올 수 있다.\n",
    "\n",
    "sys.path"
   ]
  },
  {
   "cell_type": "code",
   "execution_count": 53,
   "metadata": {},
   "outputs": [],
   "source": [
    "# 그렇다면 이 리스트에 append를 사용해서 우리가 만들었던 모듈이 있는 디렉토리를 저장해주자.\n",
    "\n",
    "sys.path.append(\"C:\\\\Users\\\\thinp\\\\python\")"
   ]
  },
  {
   "cell_type": "code",
   "execution_count": 54,
   "metadata": {},
   "outputs": [],
   "source": [
    "import mod2"
   ]
  },
  {
   "cell_type": "code",
   "execution_count": 55,
   "metadata": {},
   "outputs": [
    {
     "name": "stdout",
     "output_type": "stream",
     "text": [
      "7\n"
     ]
    }
   ],
   "source": [
    "# 아주 잘 굴러간다.\n",
    "\n",
    "a = mod2.Math()\n",
    "print(a.sum(3,4))"
   ]
  },
  {
   "cell_type": "markdown",
   "metadata": {},
   "source": [
    "### 05-3 패키지"
   ]
  },
  {
   "cell_type": "code",
   "execution_count": null,
   "metadata": {},
   "outputs": [],
   "source": [
    "# 패키지는 디렉토리와 파이썬 모듈로 이루어지며 구조는 책을 참고하시오.\n",
    "\n",
    "# 패키지 또한 밖에서 진행합니다."
   ]
  },
  {
   "cell_type": "markdown",
   "metadata": {},
   "source": [
    "#### __init__.py 의 용도"
   ]
  },
  {
   "cell_type": "code",
   "execution_count": null,
   "metadata": {},
   "outputs": [],
   "source": [
    "# 이게 없으면 디렉토리가 패키지의 일부라고 인식을 못함.ㅇㅇ"
   ]
  },
  {
   "cell_type": "markdown",
   "metadata": {},
   "source": [
    "#### __all__의 용도"
   ]
  },
  {
   "cell_type": "code",
   "execution_count": null,
   "metadata": {},
   "outputs": [],
   "source": [
    "# 패키지의 모든 것을 임포트 하고 싶을 때,\n",
    "# import* 이거 쓰고 싶을 때 쓴다.\n",
    "\n",
    "# sound 디렉토리에 예시를 만들어 두었다."
   ]
  },
  {
   "cell_type": "markdown",
   "metadata": {},
   "source": [
    "#### realative 패키지"
   ]
  },
  {
   "cell_type": "code",
   "execution_count": null,
   "metadata": {},
   "outputs": [],
   "source": [
    "# 렐러티브 패키지는 동일한 디렉토리에서 다른 모듈을 같이 사용하고 싶을 때 쓴다.\n",
    "\n",
    "# 렌더 모듈에 예시를 만들어 두었다."
   ]
  },
  {
   "cell_type": "markdown",
   "metadata": {},
   "source": [
    "### 05-4 예외 처리"
   ]
  },
  {
   "cell_type": "markdown",
   "metadata": {},
   "source": [
    "try, except 문"
   ]
  },
  {
   "cell_type": "code",
   "execution_count": 56,
   "metadata": {},
   "outputs": [],
   "source": [
    "# 시스템은 다음과 같다. try 블록을 수행하던 중 오류가 발생하면 except 블록이 수행된다. 아니면 반대다.\n",
    "\n",
    "# try: ...\n",
    "# except [발생 오류[as 오류 메시지 변수]]:..."
   ]
  },
  {
   "cell_type": "code",
   "execution_count": 57,
   "metadata": {},
   "outputs": [
    {
     "name": "stdout",
     "output_type": "stream",
     "text": [
      "division by zero\n"
     ]
    }
   ],
   "source": [
    "try: 4/0\n",
    "except ZeroDivisionError as e:\n",
    "        print(e)"
   ]
  },
  {
   "cell_type": "markdown",
   "metadata": {},
   "source": [
    "try .. else 문"
   ]
  },
  {
   "cell_type": "code",
   "execution_count": 58,
   "metadata": {},
   "outputs": [],
   "source": [
    "# else절은 예외가 발생하지 않은 경우에 실행되며 반드시 except 절 바로 다음에 위치해야 한다.\n",
    "\n",
    "try:\n",
    "    f = open('foo.txt', 'r')\n",
    "except FileNotFoundError as e:\n",
    "    print(str(e))\n",
    "else:\n",
    "    data = f.read()\n",
    "    f.close()"
   ]
  },
  {
   "cell_type": "markdown",
   "metadata": {},
   "source": [
    "try ..finally 문"
   ]
  },
  {
   "cell_type": "code",
   "execution_count": 60,
   "metadata": {},
   "outputs": [
    {
     "ename": "IndentationError",
     "evalue": "expected an indented block (<ipython-input-60-f578989c4f0c>, line 7)",
     "output_type": "error",
     "traceback": [
      "\u001b[1;36m  File \u001b[1;32m\"<ipython-input-60-f578989c4f0c>\"\u001b[1;36m, line \u001b[1;32m7\u001b[0m\n\u001b[1;33m    finally:\u001b[0m\n\u001b[1;37m          ^\u001b[0m\n\u001b[1;31mIndentationError\u001b[0m\u001b[1;31m:\u001b[0m expected an indented block\n"
     ]
    }
   ],
   "source": [
    "# finally절은 try문 수행 도중 예외 발생 여부에 상관없이 항상 수행된다.\n",
    "# 보통 finally절은 사용한 리소스를 close 해야 할 경우에 많이 사용된다. 다음의 예를 보자.\n",
    "\n",
    "f = open('foo.txt','w')\n",
    "try:\n",
    "    # 무언가를 수행한다.\n",
    "finally:\n",
    "    f.close()"
   ]
  },
  {
   "cell_type": "markdown",
   "metadata": {},
   "source": [
    "#### 오류 회피하기"
   ]
  },
  {
   "cell_type": "code",
   "execution_count": 61,
   "metadata": {},
   "outputs": [],
   "source": [
    "# 특정 오류가 발생할 경우 그냥 통과시켜야 할 때가 있다.\n",
    "\n",
    "try:\n",
    "    f = open(\"나없는파일\",'r')\n",
    "except FileNotFoundError: #파일이 없더라도 오류 발생시키지 않고 통과한다.\n",
    "    pass"
   ]
  },
  {
   "cell_type": "markdown",
   "metadata": {},
   "source": [
    "#### 오류 일부러 발생시키기"
   ]
  },
  {
   "cell_type": "code",
   "execution_count": 62,
   "metadata": {},
   "outputs": [],
   "source": [
    "# 일부러 오류를 발생시켜야 할 때가 있다고 한다. 그런줄로 알자.\n",
    "# raise 문을 쓴다.\n",
    "\n",
    "class Bird:\n",
    "    def fly(self):\n",
    "        raise NotImplementedError"
   ]
  },
  {
   "cell_type": "code",
   "execution_count": 63,
   "metadata": {},
   "outputs": [
    {
     "ename": "NotImplementedError",
     "evalue": "",
     "output_type": "error",
     "traceback": [
      "\u001b[1;31m---------------------------------------------------------------------------\u001b[0m",
      "\u001b[1;31mNotImplementedError\u001b[0m                       Traceback (most recent call last)",
      "\u001b[1;32m<ipython-input-63-01256a26320c>\u001b[0m in \u001b[0;36m<module>\u001b[1;34m\u001b[0m\n\u001b[0;32m      3\u001b[0m \u001b[1;33m\u001b[0m\u001b[0m\n\u001b[0;32m      4\u001b[0m \u001b[0meagle\u001b[0m \u001b[1;33m=\u001b[0m \u001b[0mEagle\u001b[0m\u001b[1;33m(\u001b[0m\u001b[1;33m)\u001b[0m\u001b[1;33m\u001b[0m\u001b[1;33m\u001b[0m\u001b[0m\n\u001b[1;32m----> 5\u001b[1;33m \u001b[0meagle\u001b[0m\u001b[1;33m.\u001b[0m\u001b[0mfly\u001b[0m\u001b[1;33m(\u001b[0m\u001b[1;33m)\u001b[0m\u001b[1;33m\u001b[0m\u001b[1;33m\u001b[0m\u001b[0m\n\u001b[0m",
      "\u001b[1;32m<ipython-input-62-12cb437c9ae0>\u001b[0m in \u001b[0;36mfly\u001b[1;34m(self)\u001b[0m\n\u001b[0;32m      4\u001b[0m \u001b[1;32mclass\u001b[0m \u001b[0mBird\u001b[0m\u001b[1;33m:\u001b[0m\u001b[1;33m\u001b[0m\u001b[1;33m\u001b[0m\u001b[0m\n\u001b[0;32m      5\u001b[0m     \u001b[1;32mdef\u001b[0m \u001b[0mfly\u001b[0m\u001b[1;33m(\u001b[0m\u001b[0mself\u001b[0m\u001b[1;33m)\u001b[0m\u001b[1;33m:\u001b[0m\u001b[1;33m\u001b[0m\u001b[1;33m\u001b[0m\u001b[0m\n\u001b[1;32m----> 6\u001b[1;33m         \u001b[1;32mraise\u001b[0m \u001b[0mNotImplementedError\u001b[0m\u001b[1;33m\u001b[0m\u001b[1;33m\u001b[0m\u001b[0m\n\u001b[0m",
      "\u001b[1;31mNotImplementedError\u001b[0m: "
     ]
    }
   ],
   "source": [
    "class Eagle(Bird):\n",
    "    pass\n",
    "\n",
    "eagle = Eagle()\n",
    "eagle.fly()"
   ]
  },
  {
   "cell_type": "code",
   "execution_count": 64,
   "metadata": {},
   "outputs": [
    {
     "name": "stdout",
     "output_type": "stream",
     "text": [
      "very fast\n"
     ]
    }
   ],
   "source": [
    "class Eagle(Bird):\n",
    "    def fly(self):\n",
    "        print(\"very fast\")\n",
    "\n",
    "eagle = Eagle()\n",
    "eagle.fly()"
   ]
  },
  {
   "cell_type": "markdown",
   "metadata": {},
   "source": [
    "### 05-5 내장 함수"
   ]
  },
  {
   "cell_type": "markdown",
   "metadata": {},
   "source": [
    "abs"
   ]
  },
  {
   "cell_type": "code",
   "execution_count": null,
   "metadata": {},
   "outputs": [],
   "source": [
    "# abs(x)는 어떤 숫자를 입력으로 받았을 때, 그 숫자의 절대값을 돌려준다.\n",
    "\n",
    "abs(-1.2)"
   ]
  },
  {
   "cell_type": "markdown",
   "metadata": {},
   "source": [
    "all"
   ]
  },
  {
   "cell_type": "code",
   "execution_count": null,
   "metadata": {},
   "outputs": [],
   "source": [
    "# all(x)는 반복 가능한(iterable) 자료형 x를 입력 인수로 받으며,\n",
    "# 이 인수가 모두 참이면 True, 거짓이 하나라도 있으면 False를 리턴한다.\n",
    "\n",
    "print(all([1,2,3]))\n",
    "print(all([1,2,3,0]))"
   ]
  },
  {
   "cell_type": "markdown",
   "metadata": {},
   "source": [
    "any"
   ]
  },
  {
   "cell_type": "code",
   "execution_count": null,
   "metadata": {},
   "outputs": [],
   "source": [
    "# any(x) 는 x중 하나라도 참이 있을 경우 True를 리턴하고\n",
    "# x가 모두 거짓일 경우에만 False를 리턴한다. all(x) 의 반대 경우라고 할 수 있다.\n",
    "\n",
    "print(any([1,2,3,0]))\n",
    "print(any([0,\"\"]))"
   ]
  },
  {
   "cell_type": "markdown",
   "metadata": {},
   "source": [
    "chr"
   ]
  },
  {
   "cell_type": "code",
   "execution_count": null,
   "metadata": {},
   "outputs": [],
   "source": [
    "# chr(i)는 아스키(ASCII) 코드값을 입력으로 받아 그 코드에 해당하는 문자를 출력하는 함수다.\n",
    "\n",
    "print(chr(97)) # 아스키 코드 97은 소문자 a\n",
    "print(chr(48)) # 아스키 코드 48은 숫자 0"
   ]
  },
  {
   "cell_type": "markdown",
   "metadata": {},
   "source": [
    "dir"
   ]
  },
  {
   "cell_type": "code",
   "execution_count": 65,
   "metadata": {},
   "outputs": [
    {
     "name": "stdout",
     "output_type": "stream",
     "text": [
      "['__add__', '__class__', '__contains__', '__delattr__', '__delitem__', '__dir__', '__doc__', '__eq__', '__format__', '__ge__', '__getattribute__', '__getitem__', '__gt__', '__hash__', '__iadd__', '__imul__', '__init__', '__init_subclass__', '__iter__', '__le__', '__len__', '__lt__', '__mul__', '__ne__', '__new__', '__reduce__', '__reduce_ex__', '__repr__', '__reversed__', '__rmul__', '__setattr__', '__setitem__', '__sizeof__', '__str__', '__subclasshook__', 'append', 'clear', 'copy', 'count', 'extend', 'index', 'insert', 'pop', 'remove', 'reverse', 'sort']\n",
      "['__class__', '__contains__', '__delattr__', '__delitem__', '__dir__', '__doc__', '__eq__', '__format__', '__ge__', '__getattribute__', '__getitem__', '__gt__', '__hash__', '__init__', '__init_subclass__', '__iter__', '__le__', '__len__', '__lt__', '__ne__', '__new__', '__reduce__', '__reduce_ex__', '__repr__', '__setattr__', '__setitem__', '__sizeof__', '__str__', '__subclasshook__', 'clear', 'copy', 'fromkeys', 'get', 'items', 'keys', 'pop', 'popitem', 'setdefault', 'update', 'values']\n"
     ]
    }
   ],
   "source": [
    "# dir 은 객체가 자체적으로 가지고 있는 변수나 함수를 보여 준다.\n",
    "\n",
    "print(dir([1,2,3]))\n",
    "print(dir({'1':'a'}))"
   ]
  },
  {
   "cell_type": "markdown",
   "metadata": {},
   "source": [
    "divmod"
   ]
  },
  {
   "cell_type": "code",
   "execution_count": 66,
   "metadata": {},
   "outputs": [
    {
     "name": "stdout",
     "output_type": "stream",
     "text": [
      "(2, 1)\n",
      "(6.0, 0.09999999999999998)\n"
     ]
    }
   ],
   "source": [
    "# divmod(a, b) 는 2개의 숫자를 입력으로 받는다. 그리고 a를 b로 나눈 몫과 나머지를 튜플 형태로 리턴한다.\n",
    "\n",
    "print(divmod(7,3))\n",
    "print(divmod(1.3, 0.2))"
   ]
  },
  {
   "cell_type": "markdown",
   "metadata": {},
   "source": [
    "enumerate"
   ]
  },
  {
   "cell_type": "code",
   "execution_count": 67,
   "metadata": {},
   "outputs": [
    {
     "name": "stdout",
     "output_type": "stream",
     "text": [
      "0 body\n",
      "1 foo\n",
      "2 bar\n"
     ]
    }
   ],
   "source": [
    "# 열거하다 라는 뜻의 함수는 순서가 있는 자료형을 입력으로 받아 인덱스 값을 포함하는 enumerate 객체를 리턴한다.\n",
    "# 그냥 예시를 보자.\n",
    "\n",
    "for i, name in enumerate(['body', 'foo', 'bar']):\n",
    "    print(i, name)\n",
    "    \n",
    "# 보통 for문과 함께 사용되며, 순서와 값을 쉽게 알 수 있다."
   ]
  },
  {
   "cell_type": "markdown",
   "metadata": {},
   "source": [
    "eval"
   ]
  },
  {
   "cell_type": "code",
   "execution_count": 68,
   "metadata": {},
   "outputs": [
    {
     "name": "stdout",
     "output_type": "stream",
     "text": [
      "3\n",
      "hia\n",
      "(1, 1)\n"
     ]
    }
   ],
   "source": [
    "# eval(expression)은 실행 가능한 문자열을 입력으로 받아 문자열을 실행한 결과값을 리턴하는 함수이다.\n",
    "\n",
    "print(eval('1+2'))\n",
    "print(eval(\"'hi'+'a'\"))\n",
    "print(eval('divmod(4,3)'))"
   ]
  },
  {
   "cell_type": "markdown",
   "metadata": {},
   "source": [
    "filter"
   ]
  },
  {
   "cell_type": "code",
   "execution_count": 69,
   "metadata": {},
   "outputs": [
    {
     "name": "stdout",
     "output_type": "stream",
     "text": [
      "[1, 2, 6]\n"
     ]
    }
   ],
   "source": [
    "# filter 란 무언가를 걸러낸다는 뜻으로, 첫 번째 인수로 함수 이름을,\n",
    "# 두 번째 인수로 그 함수에 차례로 들어갈 반복 가능한 자료형을 받는다.\n",
    "# 그리고 두 번째 인수인 반복 가능한 자료형 요소들이 첫번째 인수인 함수에 입력되었을 때\n",
    "# 리턴값이 참인 것만 묶어서 돌려준다.\n",
    "# 너무 길다. 예시로 학습하자.\n",
    "\n",
    "#positive.py\n",
    "\n",
    "def positive(numberList):\n",
    "    result = []\n",
    "    for num in numberList:\n",
    "        if num > 0:\n",
    "            result.append(num)\n",
    "    return result\n",
    "\n",
    "print(positive([1, -3, 2, 0, -5, 6]))\n",
    "\n",
    "# 자 이렇게 귀찮은 코드를."
   ]
  },
  {
   "cell_type": "code",
   "execution_count": 70,
   "metadata": {},
   "outputs": [
    {
     "name": "stdout",
     "output_type": "stream",
     "text": [
      "[1, 2, 6]\n",
      "[1, 2, 6]\n"
     ]
    }
   ],
   "source": [
    "# filter1.py\n",
    "\n",
    "def positive(x):\n",
    "    return x > 0\n",
    "\n",
    "print(list(filter(positive, [1, -3, 2, 0, -5, 6])))\n",
    "# 두 번째 인수인 리스트의 요소들이\n",
    "# 첫 번째 요소인 함수에 입력되었을 때,\n",
    "# 리턴 값이 참인 것만 묶어서 돌려준다.\n",
    "\n",
    "# 참고로 lambda 함수를 쓰면 더 쉽다.\n",
    "print(list(filter(lambda x: x>0, [1, -3, 2, 0, -5, 6])))"
   ]
  },
  {
   "cell_type": "markdown",
   "metadata": {},
   "source": [
    "hex"
   ]
  },
  {
   "cell_type": "code",
   "execution_count": null,
   "metadata": {},
   "outputs": [],
   "source": [
    "# hex(x) 는 정수값을 입력받아 16진수로 변환한다는데 이게 필요가 있을까?\n",
    "\n",
    "hex(234)"
   ]
  },
  {
   "cell_type": "markdown",
   "metadata": {},
   "source": [
    "id"
   ]
  },
  {
   "cell_type": "code",
   "execution_count": null,
   "metadata": {},
   "outputs": [],
   "source": [
    "# id(object) 는 객체를 입력받아 객체의 고유 주소값(레퍼런스)를 리턴하는 함수이다.\n",
    "\n",
    "a = 3\n",
    "print(id(3))\n",
    "print(id(a))"
   ]
  },
  {
   "cell_type": "markdown",
   "metadata": {},
   "source": [
    "input"
   ]
  },
  {
   "cell_type": "code",
   "execution_count": 71,
   "metadata": {},
   "outputs": [
    {
     "name": "stdout",
     "output_type": "stream",
     "text": [
      "뭐라고요?: \n"
     ]
    }
   ],
   "source": [
    "# input([prompt]) 은 잘 알다시피 사용자 입력을 받는 함수다.\n",
    "\n",
    "a = input(\"뭐라고요?: \")"
   ]
  },
  {
   "cell_type": "markdown",
   "metadata": {},
   "source": [
    "int"
   ]
  },
  {
   "cell_type": "code",
   "execution_count": 72,
   "metadata": {},
   "outputs": [
    {
     "name": "stdout",
     "output_type": "stream",
     "text": [
      "3\n",
      "3\n",
      "3\n",
      "26\n"
     ]
    }
   ],
   "source": [
    "# int(x) 는 무자열 형태의 숫자나 소수점이 있는 숫자 등을 정수 형태로 리턴하는 함수로\n",
    "# 정수를 입력으로 받으면 그대로 리턴한다.\n",
    "\n",
    "print(int('3')) # 문자열 형태 '3'\n",
    "print(int(3.4)) # 소수점이 이는 숫자 3.4\n",
    "print(int('11',2)) # 2진수로 표현된 '11' 의 10진수 값은 다음과 같이 구한다.\n",
    "print(int('1A',16)) # 16진수로 표현된 '1A'의 10진수 값은 다음과 같이 구한다."
   ]
  },
  {
   "cell_type": "markdown",
   "metadata": {},
   "source": [
    "isinstance"
   ]
  },
  {
   "cell_type": "code",
   "execution_count": 73,
   "metadata": {},
   "outputs": [
    {
     "data": {
      "text/plain": [
       "True"
      ]
     },
     "execution_count": 73,
     "metadata": {},
     "output_type": "execute_result"
    }
   ],
   "source": [
    "# isinstance(object, class) 는 첫 번째 인수로 인스턴스\n",
    "# 두 번째 인수로 클래스 이름을 받는다.\n",
    "# 입력으로 받은 인스턴스가 그 클래스의 인스턴스인지를 판단하여 참이면 True, 거짓이면 False\n",
    "\n",
    "class Person: pass # 아무 기능이 없는  Person 클래스 생성\n",
    "\n",
    "a = Person() # Person 클래스의 인스턴스 a 생성\n",
    "isinstance(a, Person) # a가 Person 클래스의 인스턴스인지 확인"
   ]
  },
  {
   "cell_type": "code",
   "execution_count": 74,
   "metadata": {},
   "outputs": [
    {
     "data": {
      "text/plain": [
       "False"
      ]
     },
     "execution_count": 74,
     "metadata": {},
     "output_type": "execute_result"
    }
   ],
   "source": [
    "b = 3\n",
    "isinstance(b, Person)"
   ]
  },
  {
   "cell_type": "markdown",
   "metadata": {},
   "source": [
    "lambda"
   ]
  },
  {
   "cell_type": "code",
   "execution_count": 75,
   "metadata": {},
   "outputs": [
    {
     "data": {
      "text/plain": [
       "7"
      ]
     },
     "execution_count": 75,
     "metadata": {},
     "output_type": "execute_result"
    }
   ],
   "source": [
    "# lambda 는 함수를 생성할 때 사용하는 예약어로, def 와 동일한 역할을 한다.\n",
    "# 보통 한 줄로 간결하게 만들 때 사용하며, '람다' 라고 읽는다.\n",
    "# lambda 인수1, 인수2, ... : 인수를 이용한 표현식\n",
    "\n",
    "sum = lambda a, b: a+b\n",
    "sum(3, 4)"
   ]
  },
  {
   "cell_type": "code",
   "execution_count": 77,
   "metadata": {},
   "outputs": [
    {
     "data": {
      "text/plain": [
       "[<function __main__.<lambda>(a, b)>, <function __main__.<lambda>(a, b)>]"
      ]
     },
     "execution_count": 77,
     "metadata": {},
     "output_type": "execute_result"
    }
   ],
   "source": [
    "myList = [lambda a,b:a+b, lambda a,b:a*b]\n",
    "myList"
   ]
  },
  {
   "cell_type": "code",
   "execution_count": 78,
   "metadata": {},
   "outputs": [
    {
     "data": {
      "text/plain": [
       "<function __main__.<lambda>(a, b)>"
      ]
     },
     "execution_count": 78,
     "metadata": {},
     "output_type": "execute_result"
    }
   ],
   "source": [
    "myList[0]"
   ]
  },
  {
   "cell_type": "code",
   "execution_count": 79,
   "metadata": {},
   "outputs": [
    {
     "data": {
      "text/plain": [
       "7"
      ]
     },
     "execution_count": 79,
     "metadata": {},
     "output_type": "execute_result"
    }
   ],
   "source": [
    "myList[0](3,4)"
   ]
  },
  {
   "cell_type": "code",
   "execution_count": 80,
   "metadata": {},
   "outputs": [
    {
     "data": {
      "text/plain": [
       "12"
      ]
     },
     "execution_count": 80,
     "metadata": {},
     "output_type": "execute_result"
    }
   ],
   "source": [
    "myList[1](3,4)"
   ]
  },
  {
   "cell_type": "markdown",
   "metadata": {},
   "source": [
    "len"
   ]
  },
  {
   "cell_type": "code",
   "execution_count": 81,
   "metadata": {},
   "outputs": [
    {
     "name": "stdout",
     "output_type": "stream",
     "text": [
      "6\n",
      "3\n",
      "2\n"
     ]
    }
   ],
   "source": [
    "# len(s)는 입력값 s의 길이를 리턴하는 함수이다.\n",
    "\n",
    "print(len(\"python\"))\n",
    "print(len([1,2,3]))\n",
    "print(len((1,'a')))"
   ]
  },
  {
   "cell_type": "markdown",
   "metadata": {},
   "source": [
    "list"
   ]
  },
  {
   "cell_type": "code",
   "execution_count": 82,
   "metadata": {},
   "outputs": [
    {
     "name": "stdout",
     "output_type": "stream",
     "text": [
      "['p', 'y', 't', 'h', 'o', 'n']\n",
      "[1, 2, 3]\n"
     ]
    }
   ],
   "source": [
    "# list(s) 는 반복 가능한 자료형 s를 입력받아 리스트로 만들어 리턴하는 함수이다.\n",
    "\n",
    "print(list(\"python\"))\n",
    "print(list((1,2,3)))"
   ]
  },
  {
   "cell_type": "code",
   "execution_count": 83,
   "metadata": {},
   "outputs": [
    {
     "data": {
      "text/plain": [
       "[1, 2, 3]"
      ]
     },
     "execution_count": 83,
     "metadata": {},
     "output_type": "execute_result"
    }
   ],
   "source": [
    "# list함수에 리스트를 입력으로 주면 똑같은 리스트를 복사하여 돌려준다.\n",
    "\n",
    "a = [1,2,3]\n",
    "b = list(a)\n",
    "b"
   ]
  },
  {
   "cell_type": "markdown",
   "metadata": {},
   "source": [
    "map"
   ]
  },
  {
   "cell_type": "code",
   "execution_count": 84,
   "metadata": {},
   "outputs": [
    {
     "name": "stdout",
     "output_type": "stream",
     "text": [
      "[2, 4, 6, 8]\n"
     ]
    }
   ],
   "source": [
    "# map(f, iterable)은 함수 (f) 와 반복 가능한 자료형을 입력으로 받는다.\n",
    "# map은 입력 받은 자료형의 각 요소가 함수 f에 의해 수행된 결과를 묶어서 리턴하는 함수이다.\n",
    "\n",
    "def two_times(numberList):\n",
    "    result = []\n",
    "    for number in numberList:\n",
    "        result.append(number*2)\n",
    "    return result\n",
    "\n",
    "result = two_times([1,2,3,4])\n",
    "print(result)"
   ]
  },
  {
   "cell_type": "code",
   "execution_count": 85,
   "metadata": {},
   "outputs": [
    {
     "data": {
      "text/plain": [
       "[2, 4, 6, 8]"
      ]
     },
     "execution_count": 85,
     "metadata": {},
     "output_type": "execute_result"
    }
   ],
   "source": [
    "# 위의 함수를 map 함수를 이용하면 다음처럼 바꿀 수 있다.\n",
    "\n",
    "def two_time(x): return x*2\n",
    "\n",
    "list(map(two_time, [1,2,3,4]))"
   ]
  },
  {
   "cell_type": "code",
   "execution_count": 86,
   "metadata": {},
   "outputs": [
    {
     "data": {
      "text/plain": [
       "[2, 4, 6, 8]"
      ]
     },
     "execution_count": 86,
     "metadata": {},
     "output_type": "execute_result"
    }
   ],
   "source": [
    "# lambda를 쓰면 더 간략하다.\n",
    "\n",
    "list(map(lambda a: a*2, [1,2,3,4]))"
   ]
  },
  {
   "cell_type": "code",
   "execution_count": 87,
   "metadata": {},
   "outputs": [
    {
     "name": "stdout",
     "output_type": "stream",
     "text": [
      "[2, 3, 4, 5, 6]\n"
     ]
    }
   ],
   "source": [
    "# 예를 하나 더 살펴보자.\n",
    "\n",
    "def plus_one(x):\n",
    "    return x+1\n",
    "print(list(map(plus_one, [1,2,3,4,5])))"
   ]
  },
  {
   "cell_type": "markdown",
   "metadata": {},
   "source": [
    "max"
   ]
  },
  {
   "cell_type": "code",
   "execution_count": 88,
   "metadata": {},
   "outputs": [
    {
     "name": "stdout",
     "output_type": "stream",
     "text": [
      "3\n",
      "y\n"
     ]
    }
   ],
   "source": [
    "# max(iterable)은 인수로 반복 가능한 자료형을 입력받아 그 최대밗을 리턴하는 함수이다.\n",
    "\n",
    "print(max([1,2,3]))\n",
    "print(max(\"python\"))\n"
   ]
  },
  {
   "cell_type": "markdown",
   "metadata": {},
   "source": [
    "min"
   ]
  },
  {
   "cell_type": "code",
   "execution_count": 89,
   "metadata": {},
   "outputs": [
    {
     "name": "stdout",
     "output_type": "stream",
     "text": [
      "1\n",
      "h\n"
     ]
    }
   ],
   "source": [
    "# min(iterable) 은 max함수와 반대로 반복 가능한 자료형을 입력받아 그 최소값을 리턴\n",
    "\n",
    "print(min([1,2,3]))\n",
    "print(min(\"python\"))"
   ]
  },
  {
   "cell_type": "markdown",
   "metadata": {},
   "source": [
    "oct"
   ]
  },
  {
   "cell_type": "code",
   "execution_count": 90,
   "metadata": {},
   "outputs": [
    {
     "data": {
      "text/plain": [
       "'0o42'"
      ]
     },
     "execution_count": 90,
     "metadata": {},
     "output_type": "execute_result"
    }
   ],
   "source": [
    "# oct(x)는 정수 형태의 숫자를 8진수 문자열로 바꾸어 리턴.\n",
    "\n",
    "oct(34)"
   ]
  },
  {
   "cell_type": "markdown",
   "metadata": {},
   "source": [
    "open"
   ]
  },
  {
   "cell_type": "code",
   "execution_count": null,
   "metadata": {},
   "outputs": [],
   "source": [
    "# open(filename, [mode]) 는 '파일 이름'과 '읽기 방법' 을 입력 받아 파일 객체를 리턴하는 함수.\n",
    "# 읽기 방법이 생략되면 기본값인 읽기 전용 모드(r)로 파일 객체를 만들어 리턴한다.\n",
    "# w = 쓰기, r= 읽기, a= 추가, b= 바이너리 모드는 wra 와 같이 사용\n",
    "\n",
    "f =open(\"binay\",\"rb\")"
   ]
  },
  {
   "cell_type": "markdown",
   "metadata": {},
   "source": [
    "ord"
   ]
  },
  {
   "cell_type": "code",
   "execution_count": null,
   "metadata": {},
   "outputs": [],
   "source": [
    "# ord(c)는 문자의 아스키 코드값을 리턴하는 함수이다.\n",
    "\n",
    "ord('a')"
   ]
  },
  {
   "cell_type": "markdown",
   "metadata": {},
   "source": [
    "pow"
   ]
  },
  {
   "cell_type": "code",
   "execution_count": 91,
   "metadata": {},
   "outputs": [
    {
     "data": {
      "text/plain": [
       "16"
      ]
     },
     "execution_count": 91,
     "metadata": {},
     "output_type": "execute_result"
    }
   ],
   "source": [
    "# pow(x, y) 는 x의 y 제곱한 결과값을 리턴하는 함수이다.\n",
    "\n",
    "pow(2, 4)"
   ]
  },
  {
   "cell_type": "markdown",
   "metadata": {},
   "source": [
    "range"
   ]
  },
  {
   "cell_type": "code",
   "execution_count": 92,
   "metadata": {},
   "outputs": [
    {
     "name": "stdout",
     "output_type": "stream",
     "text": [
      "[0, 1, 2, 3, 4]\n",
      "[5, 6, 7, 8, 9]\n",
      "[1, 3, 5, 7, 9]\n"
     ]
    }
   ],
   "source": [
    "# range([start,] stop [, step]) 은 for문과 함께 자주 사용되는 함수이다.\n",
    "\n",
    "# 인수가 하나일 경우\n",
    "print(list(range(5))) # 0부터 5 앞까지\n",
    "\n",
    "# 인수가 2개일 경우\n",
    "print(list(range(5,10))) # 5부터 10 앞까지\n",
    "\n",
    "# 인수가 3개인 경우\n",
    "print(list(range(1, 10, 2))) # 1부터 10 앞까지 2 간격으로"
   ]
  },
  {
   "cell_type": "markdown",
   "metadata": {},
   "source": [
    "sorted"
   ]
  },
  {
   "cell_type": "code",
   "execution_count": 93,
   "metadata": {},
   "outputs": [
    {
     "name": "stdout",
     "output_type": "stream",
     "text": [
      "[1, 2, 3]\n",
      "['h', 'n', 'o', 'p', 't', 'y']\n"
     ]
    }
   ],
   "source": [
    "# sorted(iterble) 은 입력값을 정렬한 후 그 결과를 리스트로 리턴하는 함수\n",
    "\n",
    "print(sorted([3,1,2]))\n",
    "print(sorted(\"python\"))"
   ]
  },
  {
   "cell_type": "code",
   "execution_count": 94,
   "metadata": {},
   "outputs": [
    {
     "name": "stdout",
     "output_type": "stream",
     "text": [
      "None\n",
      "[1, 2, 3]\n"
     ]
    }
   ],
   "source": [
    "# sorted 함수와 리스트 자료형의 sort 함수의 차이점을 확인해 보자.\n",
    "\n",
    "a = [3,1,2]\n",
    "result = a.sort()\n",
    "print(result) # 리턴값이 없기 때문에 None 이 출력\n",
    "print(a)"
   ]
  },
  {
   "cell_type": "markdown",
   "metadata": {},
   "source": [
    "str"
   ]
  },
  {
   "cell_type": "code",
   "execution_count": null,
   "metadata": {},
   "outputs": [],
   "source": [
    "# str(object) 는 문자열 형태로 객체를 변환하여 리턴하는 함수이다.\n",
    "\n",
    "print(str(3))\n",
    "print(str('hi'))\n",
    "print(str('hi'.upper()))"
   ]
  },
  {
   "cell_type": "markdown",
   "metadata": {},
   "source": [
    "tuple"
   ]
  },
  {
   "cell_type": "code",
   "execution_count": null,
   "metadata": {},
   "outputs": [],
   "source": [
    "# tuple(iterable) 은 반복 가능한 자료형을 입력받아 튜플 형태로 바꾸어 리턴하는 함수이다.\n",
    "# 만약 튜플이 입력으로 들어오면 그대로 리턴한다.\n",
    "\n",
    "print(tuple(\"abc\"))\n",
    "print(tuple([1,2,3]))\n",
    "print(tuple((1,2,3)))"
   ]
  },
  {
   "cell_type": "markdown",
   "metadata": {},
   "source": [
    "type"
   ]
  },
  {
   "cell_type": "code",
   "execution_count": 95,
   "metadata": {},
   "outputs": [
    {
     "name": "stdout",
     "output_type": "stream",
     "text": [
      "<class 'str'>\n",
      "<class 'list'>\n",
      "<class '_io.TextIOWrapper'>\n"
     ]
    }
   ],
   "source": [
    "# type(object) 는 입력값의 자료형이 무엇인지 알려주는 함수이다.\n",
    "\n",
    "print(type(\"abc\"))\n",
    "print(type([]))\n",
    "print(type(open(\"test\",'w')))"
   ]
  },
  {
   "cell_type": "markdown",
   "metadata": {},
   "source": [
    "zip"
   ]
  },
  {
   "cell_type": "code",
   "execution_count": 96,
   "metadata": {},
   "outputs": [
    {
     "name": "stdout",
     "output_type": "stream",
     "text": [
      "[(1, 4), (2, 5), (3, 6)]\n",
      "[(1, 4, 7), (2, 5, 8), (3, 6, 9)]\n",
      "[('a', 'd'), ('b', 'e'), ('c', 'f')]\n"
     ]
    }
   ],
   "source": [
    "# zip(iterable*) 은 동일한 개수로 이루어진 자료형을 묶어 주는 역할을 하는 함수이다.\n",
    "\n",
    "print(list(zip([1,2,3], [4,5,6])))\n",
    "print(list(zip([1,2,3], [4,5,6], [7,8,9]))) # 3개의 인수를 받으니까 3개로 나누고, 각 인수의 순서대로 뽑아줌\n",
    "print(list(zip(\"abc\", \"def\")))"
   ]
  },
  {
   "cell_type": "markdown",
   "metadata": {},
   "source": [
    "### 05-6 외장 함수"
   ]
  },
  {
   "cell_type": "markdown",
   "metadata": {},
   "source": [
    "sys"
   ]
  },
  {
   "cell_type": "code",
   "execution_count": null,
   "metadata": {},
   "outputs": [],
   "source": [
    "# sys 모듈은 파이썬 인터프리터가 제공하는 변수들과 함수들을 직접 제어할 수 있게 해주는 모듈이다."
   ]
  },
  {
   "cell_type": "markdown",
   "metadata": {},
   "source": [
    "time"
   ]
  },
  {
   "cell_type": "code",
   "execution_count": 97,
   "metadata": {},
   "outputs": [
    {
     "data": {
      "text/plain": [
       "1583472194.4330082"
      ]
     },
     "execution_count": 97,
     "metadata": {},
     "output_type": "execute_result"
    }
   ],
   "source": [
    "# time.time\n",
    "# UTC(협정 세계 표준시)를 이용하여 현재 시간 실수 형태로 리턴.\n",
    "# 1970년 1월 1일 0시 0분 0초를 기준으로 지난 시간을 초 단위로 리턴.\n",
    "\n",
    "import time\n",
    "time.time()"
   ]
  },
  {
   "cell_type": "code",
   "execution_count": 98,
   "metadata": {},
   "outputs": [
    {
     "data": {
      "text/plain": [
       "time.struct_time(tm_year=2020, tm_mon=3, tm_mday=6, tm_hour=14, tm_min=23, tm_sec=16, tm_wday=4, tm_yday=66, tm_isdst=0)"
      ]
     },
     "execution_count": 98,
     "metadata": {},
     "output_type": "execute_result"
    }
   ],
   "source": [
    "# time.localtime\n",
    "# time.time()에 의해서 반환된 실수값을 이용해서 년, 월, 시, 분, 초 의 형태로 바꿔줌.\n",
    "\n",
    "time.localtime(time.time())"
   ]
  },
  {
   "cell_type": "code",
   "execution_count": 99,
   "metadata": {},
   "outputs": [
    {
     "data": {
      "text/plain": [
       "'Fri Mar  6 14:23:17 2020'"
      ]
     },
     "execution_count": 99,
     "metadata": {},
     "output_type": "execute_result"
    }
   ],
   "source": [
    "# time.asctime\n",
    "# 튜플 형태의 값을 인수로 받아서 날짜와 시간을 보기 좋은 형태로 리턴.\n",
    "\n",
    "time.asctime(time.localtime(time.time()))"
   ]
  },
  {
   "cell_type": "code",
   "execution_count": 100,
   "metadata": {},
   "outputs": [
    {
     "data": {
      "text/plain": [
       "'Fri Mar  6 14:23:18 2020'"
      ]
     },
     "execution_count": 100,
     "metadata": {},
     "output_type": "execute_result"
    }
   ],
   "source": [
    "# time.ctime\n",
    "# 위의 복잡한 코드를 쉽게 한 것. 다만 현재 시간만을 리턴.\n",
    "\n",
    "time.ctime()"
   ]
  },
  {
   "cell_type": "code",
   "execution_count": 102,
   "metadata": {},
   "outputs": [
    {
     "name": "stdout",
     "output_type": "stream",
     "text": [
      "0\n",
      "1\n",
      "2\n",
      "3\n",
      "4\n",
      "5\n",
      "6\n",
      "7\n",
      "8\n",
      "9\n"
     ]
    }
   ],
   "source": [
    "# time.sleep\n",
    "# 루프 안에서 주로 활용되며, 일정한 시간 간격을 두고 코드를 실행시키는 함수.\n",
    "\n",
    "for i in range(10):\n",
    "    print(i)\n",
    "    time.sleep(1)"
   ]
  },
  {
   "cell_type": "markdown",
   "metadata": {},
   "source": [
    "calendar"
   ]
  },
  {
   "cell_type": "code",
   "execution_count": 103,
   "metadata": {},
   "outputs": [
    {
     "name": "stdout",
     "output_type": "stream",
     "text": [
      "                                  2020\n",
      "\n",
      "      January                   February                   March\n",
      "Mo Tu We Th Fr Sa Su      Mo Tu We Th Fr Sa Su      Mo Tu We Th Fr Sa Su\n",
      "       1  2  3  4  5                      1  2                         1\n",
      " 6  7  8  9 10 11 12       3  4  5  6  7  8  9       2  3  4  5  6  7  8\n",
      "13 14 15 16 17 18 19      10 11 12 13 14 15 16       9 10 11 12 13 14 15\n",
      "20 21 22 23 24 25 26      17 18 19 20 21 22 23      16 17 18 19 20 21 22\n",
      "27 28 29 30 31            24 25 26 27 28 29         23 24 25 26 27 28 29\n",
      "                                                    30 31\n",
      "\n",
      "       April                      May                       June\n",
      "Mo Tu We Th Fr Sa Su      Mo Tu We Th Fr Sa Su      Mo Tu We Th Fr Sa Su\n",
      "       1  2  3  4  5                   1  2  3       1  2  3  4  5  6  7\n",
      " 6  7  8  9 10 11 12       4  5  6  7  8  9 10       8  9 10 11 12 13 14\n",
      "13 14 15 16 17 18 19      11 12 13 14 15 16 17      15 16 17 18 19 20 21\n",
      "20 21 22 23 24 25 26      18 19 20 21 22 23 24      22 23 24 25 26 27 28\n",
      "27 28 29 30               25 26 27 28 29 30 31      29 30\n",
      "\n",
      "        July                     August                  September\n",
      "Mo Tu We Th Fr Sa Su      Mo Tu We Th Fr Sa Su      Mo Tu We Th Fr Sa Su\n",
      "       1  2  3  4  5                      1  2          1  2  3  4  5  6\n",
      " 6  7  8  9 10 11 12       3  4  5  6  7  8  9       7  8  9 10 11 12 13\n",
      "13 14 15 16 17 18 19      10 11 12 13 14 15 16      14 15 16 17 18 19 20\n",
      "20 21 22 23 24 25 26      17 18 19 20 21 22 23      21 22 23 24 25 26 27\n",
      "27 28 29 30 31            24 25 26 27 28 29 30      28 29 30\n",
      "                          31\n",
      "\n",
      "      October                   November                  December\n",
      "Mo Tu We Th Fr Sa Su      Mo Tu We Th Fr Sa Su      Mo Tu We Th Fr Sa Su\n",
      "          1  2  3  4                         1          1  2  3  4  5  6\n",
      " 5  6  7  8  9 10 11       2  3  4  5  6  7  8       7  8  9 10 11 12 13\n",
      "12 13 14 15 16 17 18       9 10 11 12 13 14 15      14 15 16 17 18 19 20\n",
      "19 20 21 22 23 24 25      16 17 18 19 20 21 22      21 22 23 24 25 26 27\n",
      "26 27 28 29 30 31         23 24 25 26 27 28 29      28 29 30 31\n",
      "                          30\n",
      "\n"
     ]
    }
   ],
   "source": [
    "# 달력을 보여주는 모듈.\n",
    "\n",
    "import calendar\n",
    "print(calendar.calendar(2020))"
   ]
  },
  {
   "cell_type": "code",
   "execution_count": 104,
   "metadata": {},
   "outputs": [
    {
     "name": "stdout",
     "output_type": "stream",
     "text": [
      "                                  2020\n",
      "\n",
      "      January                   February                   March\n",
      "Mo Tu We Th Fr Sa Su      Mo Tu We Th Fr Sa Su      Mo Tu We Th Fr Sa Su\n",
      "       1  2  3  4  5                      1  2                         1\n",
      " 6  7  8  9 10 11 12       3  4  5  6  7  8  9       2  3  4  5  6  7  8\n",
      "13 14 15 16 17 18 19      10 11 12 13 14 15 16       9 10 11 12 13 14 15\n",
      "20 21 22 23 24 25 26      17 18 19 20 21 22 23      16 17 18 19 20 21 22\n",
      "27 28 29 30 31            24 25 26 27 28 29         23 24 25 26 27 28 29\n",
      "                                                    30 31\n",
      "\n",
      "       April                      May                       June\n",
      "Mo Tu We Th Fr Sa Su      Mo Tu We Th Fr Sa Su      Mo Tu We Th Fr Sa Su\n",
      "       1  2  3  4  5                   1  2  3       1  2  3  4  5  6  7\n",
      " 6  7  8  9 10 11 12       4  5  6  7  8  9 10       8  9 10 11 12 13 14\n",
      "13 14 15 16 17 18 19      11 12 13 14 15 16 17      15 16 17 18 19 20 21\n",
      "20 21 22 23 24 25 26      18 19 20 21 22 23 24      22 23 24 25 26 27 28\n",
      "27 28 29 30               25 26 27 28 29 30 31      29 30\n",
      "\n",
      "        July                     August                  September\n",
      "Mo Tu We Th Fr Sa Su      Mo Tu We Th Fr Sa Su      Mo Tu We Th Fr Sa Su\n",
      "       1  2  3  4  5                      1  2          1  2  3  4  5  6\n",
      " 6  7  8  9 10 11 12       3  4  5  6  7  8  9       7  8  9 10 11 12 13\n",
      "13 14 15 16 17 18 19      10 11 12 13 14 15 16      14 15 16 17 18 19 20\n",
      "20 21 22 23 24 25 26      17 18 19 20 21 22 23      21 22 23 24 25 26 27\n",
      "27 28 29 30 31            24 25 26 27 28 29 30      28 29 30\n",
      "                          31\n",
      "\n",
      "      October                   November                  December\n",
      "Mo Tu We Th Fr Sa Su      Mo Tu We Th Fr Sa Su      Mo Tu We Th Fr Sa Su\n",
      "          1  2  3  4                         1          1  2  3  4  5  6\n",
      " 5  6  7  8  9 10 11       2  3  4  5  6  7  8       7  8  9 10 11 12 13\n",
      "12 13 14 15 16 17 18       9 10 11 12 13 14 15      14 15 16 17 18 19 20\n",
      "19 20 21 22 23 24 25      16 17 18 19 20 21 22      21 22 23 24 25 26 27\n",
      "26 27 28 29 30 31         23 24 25 26 27 28 29      28 29 30 31\n",
      "                          30\n"
     ]
    }
   ],
   "source": [
    "# 이렇게도 볼 수 있다.\n",
    "\n",
    "calendar.prcal(2020)"
   ]
  },
  {
   "cell_type": "code",
   "execution_count": 105,
   "metadata": {},
   "outputs": [
    {
     "name": "stdout",
     "output_type": "stream",
     "text": [
      "     March 2020\n",
      "Mo Tu We Th Fr Sa Su\n",
      "                   1\n",
      " 2  3  4  5  6  7  8\n",
      " 9 10 11 12 13 14 15\n",
      "16 17 18 19 20 21 22\n",
      "23 24 25 26 27 28 29\n",
      "30 31\n"
     ]
    }
   ],
   "source": [
    "# 1달만 콕 찝어서 보기\n",
    "\n",
    "calendar.prmonth(2020,3)"
   ]
  },
  {
   "cell_type": "code",
   "execution_count": 106,
   "metadata": {},
   "outputs": [
    {
     "data": {
      "text/plain": [
       "2"
      ]
     },
     "execution_count": 106,
     "metadata": {},
     "output_type": "execute_result"
    }
   ],
   "source": [
    "# 요일을 보여주는 함수\n",
    "\n",
    "calendar.weekday(2020,3,4)"
   ]
  },
  {
   "cell_type": "code",
   "execution_count": 107,
   "metadata": {},
   "outputs": [
    {
     "data": {
      "text/plain": [
       "(5, 29)"
      ]
     },
     "execution_count": 107,
     "metadata": {},
     "output_type": "execute_result"
    }
   ],
   "source": [
    "# 한달이 며칠까지 있는지 알려주는 함수\n",
    "\n",
    "calendar.monthrange(2020, 2)"
   ]
  },
  {
   "cell_type": "markdown",
   "metadata": {},
   "source": [
    "random"
   ]
  },
  {
   "cell_type": "code",
   "execution_count": 108,
   "metadata": {},
   "outputs": [
    {
     "data": {
      "text/plain": [
       "0.48011347276001115"
      ]
     },
     "execution_count": 108,
     "metadata": {},
     "output_type": "execute_result"
    }
   ],
   "source": [
    "# 난수를 발생시키는 모듈\n",
    "\n",
    "import random\n",
    "\n",
    "random.random()"
   ]
  },
  {
   "cell_type": "code",
   "execution_count": 109,
   "metadata": {},
   "outputs": [
    {
     "data": {
      "text/plain": [
       "2"
      ]
     },
     "execution_count": 109,
     "metadata": {},
     "output_type": "execute_result"
    }
   ],
   "source": [
    "random.randint(1, 10)"
   ]
  },
  {
   "cell_type": "markdown",
   "metadata": {},
   "source": [
    "연습 문제"
   ]
  },
  {
   "cell_type": "code",
   "execution_count": 110,
   "metadata": {},
   "outputs": [],
   "source": [
    "class Calculator:\n",
    "    def __init__(self,num):\n",
    "        self.num =num\n",
    "        \n",
    "    def sum(self):\n",
    "        result = 0\n",
    "        for i in self.num:\n",
    "            result+=i\n",
    "        return result\n",
    "    \n",
    "    def avg(self):\n",
    "        total = self.sum()\n",
    "        return total/len(self.num)\n",
    "    "
   ]
  },
  {
   "cell_type": "code",
   "execution_count": 111,
   "metadata": {},
   "outputs": [],
   "source": [
    "a = Calculator([1,2,3,4,5])"
   ]
  },
  {
   "cell_type": "code",
   "execution_count": 112,
   "metadata": {},
   "outputs": [
    {
     "data": {
      "text/plain": [
       "15"
      ]
     },
     "execution_count": 112,
     "metadata": {},
     "output_type": "execute_result"
    }
   ],
   "source": [
    "a.sum()"
   ]
  },
  {
   "cell_type": "code",
   "execution_count": 113,
   "metadata": {},
   "outputs": [
    {
     "data": {
      "text/plain": [
       "3.0"
      ]
     },
     "execution_count": 113,
     "metadata": {},
     "output_type": "execute_result"
    }
   ],
   "source": [
    "a.avg()"
   ]
  },
  {
   "cell_type": "markdown",
   "metadata": {},
   "source": [
    "## 7장 파이썬 정규 표현식과 XML"
   ]
  },
  {
   "cell_type": "code",
   "execution_count": null,
   "metadata": {},
   "outputs": [],
   "source": []
  }
 ],
 "metadata": {
  "kernelspec": {
   "display_name": "Python 3",
   "language": "python",
   "name": "python3"
  },
  "language_info": {
   "codemirror_mode": {
    "name": "ipython",
    "version": 3
   },
   "file_extension": ".py",
   "mimetype": "text/x-python",
   "name": "python",
   "nbconvert_exporter": "python",
   "pygments_lexer": "ipython3",
   "version": "3.7.3"
  }
 },
 "nbformat": 4,
 "nbformat_minor": 2
}
