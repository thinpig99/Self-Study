{
 "cells": [
  {
   "cell_type": "markdown",
   "metadata": {},
   "source": [
    "# 2. Diabetes Prediction with MLP"
   ]
  },
  {
   "cell_type": "markdown",
   "metadata": {},
   "source": [
    "## 2.1 Basic Library"
   ]
  },
  {
   "cell_type": "code",
   "execution_count": 1,
   "metadata": {},
   "outputs": [],
   "source": [
    "import numpy as np\n",
    "import pandas as pd\n",
    "import matplotlib.pyplot as plt\n",
    "import seaborn as sns\n",
    "\n",
    "# keras와 sklearn은 나중에 따로 임포트"
   ]
  },
  {
   "cell_type": "markdown",
   "metadata": {},
   "source": [
    "## 2.2 Business Understanding"
   ]
  },
  {
   "cell_type": "markdown",
   "metadata": {},
   "source": [
    "당뇨병은 신체 혈당 수치가 상승해 나타나는 만성 질환이며, 심혈관 질환과 뇌졸증, 신장 손상, 신체 말단 손상을 초래함.\n",
    "\n",
    "전 세계 약 4억명 이상이 당뇨병을 앓고 있으며, 매년 최대 500만명이 당뇨 관련 합병증으로 사망한다.\n",
    "\n",
    "인슐린 생산 부족으로 인한 제1형 당뇨는 예방하기 어렵고 치료하기도 어렵지만, 인슐린 저항 때문에 생기는 제2형 당뇨는 예방이 가능하다.\n",
    "\n",
    "제2형 당뇨는 과체중, 운동 부족, 잘못된 식습관 등이 주요 원인이다. 그러나 초기에는 별 증상이 없어 예측이 매우 어려운 실정이다.\n",
    "\n",
    "이러한 문제를 머신러닝을 통해서 예측해보자."
   ]
  },
  {
   "cell_type": "markdown",
   "metadata": {},
   "source": [
    "## 2.4 Dataset"
   ]
  },
  {
   "cell_type": "markdown",
   "metadata": {},
   "source": [
    "Pima Indians 당뇨 데이터셋이며, 미국 국립보건원 산하의 당뇨 소화 신장 질병 센터가 제공하고 케글을 통해 공개하였다.\n",
    "\n",
    "https://www.kaggle.com/uciml/pima-indians-diabetes-database"
   ]
  },
  {
   "cell_type": "markdown",
   "metadata": {},
   "source": [
    "## 2.5 EDA"
   ]
  },
  {
   "cell_type": "code",
   "execution_count": 42,
   "metadata": {},
   "outputs": [
    {
     "name": "stdout",
     "output_type": "stream",
     "text": [
      "(768, 9)\n"
     ]
    },
    {
     "data": {
      "text/html": [
       "<div>\n",
       "<style scoped>\n",
       "    .dataframe tbody tr th:only-of-type {\n",
       "        vertical-align: middle;\n",
       "    }\n",
       "\n",
       "    .dataframe tbody tr th {\n",
       "        vertical-align: top;\n",
       "    }\n",
       "\n",
       "    .dataframe thead th {\n",
       "        text-align: right;\n",
       "    }\n",
       "</style>\n",
       "<table border=\"1\" class=\"dataframe\">\n",
       "  <thead>\n",
       "    <tr style=\"text-align: right;\">\n",
       "      <th></th>\n",
       "      <th>Pregnancies</th>\n",
       "      <th>Glucose</th>\n",
       "      <th>BloodPressure</th>\n",
       "      <th>SkinThickness</th>\n",
       "      <th>Insulin</th>\n",
       "      <th>BMI</th>\n",
       "      <th>DiabetesPedigreeFunction</th>\n",
       "      <th>Age</th>\n",
       "      <th>Outcome</th>\n",
       "    </tr>\n",
       "  </thead>\n",
       "  <tbody>\n",
       "    <tr>\n",
       "      <th>0</th>\n",
       "      <td>6</td>\n",
       "      <td>148</td>\n",
       "      <td>72</td>\n",
       "      <td>35</td>\n",
       "      <td>0</td>\n",
       "      <td>33.6</td>\n",
       "      <td>0.627</td>\n",
       "      <td>50</td>\n",
       "      <td>1</td>\n",
       "    </tr>\n",
       "    <tr>\n",
       "      <th>1</th>\n",
       "      <td>1</td>\n",
       "      <td>85</td>\n",
       "      <td>66</td>\n",
       "      <td>29</td>\n",
       "      <td>0</td>\n",
       "      <td>26.6</td>\n",
       "      <td>0.351</td>\n",
       "      <td>31</td>\n",
       "      <td>0</td>\n",
       "    </tr>\n",
       "    <tr>\n",
       "      <th>2</th>\n",
       "      <td>8</td>\n",
       "      <td>183</td>\n",
       "      <td>64</td>\n",
       "      <td>0</td>\n",
       "      <td>0</td>\n",
       "      <td>23.3</td>\n",
       "      <td>0.672</td>\n",
       "      <td>32</td>\n",
       "      <td>1</td>\n",
       "    </tr>\n",
       "    <tr>\n",
       "      <th>3</th>\n",
       "      <td>1</td>\n",
       "      <td>89</td>\n",
       "      <td>66</td>\n",
       "      <td>23</td>\n",
       "      <td>94</td>\n",
       "      <td>28.1</td>\n",
       "      <td>0.167</td>\n",
       "      <td>21</td>\n",
       "      <td>0</td>\n",
       "    </tr>\n",
       "    <tr>\n",
       "      <th>4</th>\n",
       "      <td>0</td>\n",
       "      <td>137</td>\n",
       "      <td>40</td>\n",
       "      <td>35</td>\n",
       "      <td>168</td>\n",
       "      <td>43.1</td>\n",
       "      <td>2.288</td>\n",
       "      <td>33</td>\n",
       "      <td>1</td>\n",
       "    </tr>\n",
       "  </tbody>\n",
       "</table>\n",
       "</div>"
      ],
      "text/plain": [
       "   Pregnancies  Glucose  BloodPressure  SkinThickness  Insulin   BMI  \\\n",
       "0            6      148             72             35        0  33.6   \n",
       "1            1       85             66             29        0  26.6   \n",
       "2            8      183             64              0        0  23.3   \n",
       "3            1       89             66             23       94  28.1   \n",
       "4            0      137             40             35      168  43.1   \n",
       "\n",
       "   DiabetesPedigreeFunction  Age  Outcome  \n",
       "0                     0.627   50        1  \n",
       "1                     0.351   31        0  \n",
       "2                     0.672   32        1  \n",
       "3                     0.167   21        0  \n",
       "4                     2.288   33        1  "
      ]
     },
     "execution_count": 42,
     "metadata": {},
     "output_type": "execute_result"
    }
   ],
   "source": [
    "df = pd.read_csv(\"diabetes.csv\")\n",
    "print(df.shape)\n",
    "df.head()"
   ]
  },
  {
   "cell_type": "markdown",
   "metadata": {},
   "source": [
    "Columns Describtion\n",
    "\n",
    "- Pregnancies : 과거 임신 횟수\n",
    "- Glucose : 혈장 혈당\n",
    "- BloodPressure : 이완기 혈압\n",
    "- SkinThickness : 삼두근에서 측정한 피부두겹두께\n",
    "- Insulin : 혈청 인슐린 농도\n",
    "- BMI : 체질량 지수\n",
    "- DiabetesPedigreeFunction : 환자의 당뇨 가족력을 바탕으로 당뇨 취약 요약 점수\n",
    "- Age : 나이\n",
    "- Outcome : 예측 변수, 최초 측정 이후 5년 내 당뇨가 발병하면 값이 1"
   ]
  },
  {
   "cell_type": "code",
   "execution_count": 43,
   "metadata": {},
   "outputs": [
    {
     "data": {
      "image/png": "[encoded data removed]",
      "text/plain": [
       "<Figure size 432x288 with 9 Axes>"
      ]
     },
     "metadata": {
      "needs_background": "light"
     },
     "output_type": "display_data"
    }
   ],
   "source": [
    "# 각 변수의 분포표를 살펴보자.\n",
    "\n",
    "df.hist()\n",
    "plt.tight_layout()\n",
    "plt.show()"
   ]
  },
  {
   "cell_type": "code",
   "execution_count": 44,
   "metadata": {},
   "outputs": [
    {
     "data": {
      "image/png": "[encoded data removed]",
      "text/plain": [
       "<Figure size 720x720 with 9 Axes>"
      ]
     },
     "metadata": {
      "needs_background": "light"
     },
     "output_type": "display_data"
    }
   ],
   "source": [
    "# 각 변수의 밀도표를 살펴보자.\n",
    "\n",
    "plt.subplots(3,3,figsize=(10,10))\n",
    "\n",
    "for idx, col in enumerate(df.columns[:-1]):\n",
    "    ax = plt.subplot(3,3, idx+1)\n",
    "    ax.yaxis.set_ticklabels([])\n",
    "    sns.distplot(df.loc[df.Outcome ==0][col], hist=False, axlabel=False,\n",
    "                kde_kws={'linestyle':'-', 'color':'black', 'label':\"No Diabetes\"})\n",
    "    sns.distplot(df.loc[df.Outcome ==1][col], hist=False, axlabel=False,\n",
    "                kde_kws={'linestyle':'--', 'color':'black', 'label':\"Diabetes\"})\n",
    "    ax.set_title(col)\n",
    "    \n",
    "plt.subplot(3,3,9).set_visible(False)\n",
    "plt.tight_layout()\n",
    "plt.show()"
   ]
  },
  {
   "cell_type": "markdown",
   "metadata": {},
   "source": [
    "## 2.6 Preprocessing"
   ]
  },
  {
   "cell_type": "markdown",
   "metadata": {},
   "source": [
    "### 2.6.1 Missing Values"
   ]
  },
  {
   "cell_type": "code",
   "execution_count": 45,
   "metadata": {},
   "outputs": [
    {
     "data": {
      "text/html": [
       "<div>\n",
       "<style scoped>\n",
       "    .dataframe tbody tr th:only-of-type {\n",
       "        vertical-align: middle;\n",
       "    }\n",
       "\n",
       "    .dataframe tbody tr th {\n",
       "        vertical-align: top;\n",
       "    }\n",
       "\n",
       "    .dataframe thead th {\n",
       "        text-align: right;\n",
       "    }\n",
       "</style>\n",
       "<table border=\"1\" class=\"dataframe\">\n",
       "  <thead>\n",
       "    <tr style=\"text-align: right;\">\n",
       "      <th></th>\n",
       "      <th>Pregnancies</th>\n",
       "      <th>Glucose</th>\n",
       "      <th>BloodPressure</th>\n",
       "      <th>SkinThickness</th>\n",
       "      <th>Insulin</th>\n",
       "      <th>BMI</th>\n",
       "      <th>DiabetesPedigreeFunction</th>\n",
       "      <th>Age</th>\n",
       "      <th>Outcome</th>\n",
       "    </tr>\n",
       "  </thead>\n",
       "  <tbody>\n",
       "    <tr>\n",
       "      <th>count</th>\n",
       "      <td>768.000000</td>\n",
       "      <td>768.000000</td>\n",
       "      <td>768.000000</td>\n",
       "      <td>768.000000</td>\n",
       "      <td>768.000000</td>\n",
       "      <td>768.000000</td>\n",
       "      <td>768.000000</td>\n",
       "      <td>768.000000</td>\n",
       "      <td>768.000000</td>\n",
       "    </tr>\n",
       "    <tr>\n",
       "      <th>mean</th>\n",
       "      <td>3.845052</td>\n",
       "      <td>120.894531</td>\n",
       "      <td>69.105469</td>\n",
       "      <td>20.536458</td>\n",
       "      <td>79.799479</td>\n",
       "      <td>31.992578</td>\n",
       "      <td>0.471876</td>\n",
       "      <td>33.240885</td>\n",
       "      <td>0.348958</td>\n",
       "    </tr>\n",
       "    <tr>\n",
       "      <th>std</th>\n",
       "      <td>3.369578</td>\n",
       "      <td>31.972618</td>\n",
       "      <td>19.355807</td>\n",
       "      <td>15.952218</td>\n",
       "      <td>115.244002</td>\n",
       "      <td>7.884160</td>\n",
       "      <td>0.331329</td>\n",
       "      <td>11.760232</td>\n",
       "      <td>0.476951</td>\n",
       "    </tr>\n",
       "    <tr>\n",
       "      <th>min</th>\n",
       "      <td>0.000000</td>\n",
       "      <td>0.000000</td>\n",
       "      <td>0.000000</td>\n",
       "      <td>0.000000</td>\n",
       "      <td>0.000000</td>\n",
       "      <td>0.000000</td>\n",
       "      <td>0.078000</td>\n",
       "      <td>21.000000</td>\n",
       "      <td>0.000000</td>\n",
       "    </tr>\n",
       "    <tr>\n",
       "      <th>25%</th>\n",
       "      <td>1.000000</td>\n",
       "      <td>99.000000</td>\n",
       "      <td>62.000000</td>\n",
       "      <td>0.000000</td>\n",
       "      <td>0.000000</td>\n",
       "      <td>27.300000</td>\n",
       "      <td>0.243750</td>\n",
       "      <td>24.000000</td>\n",
       "      <td>0.000000</td>\n",
       "    </tr>\n",
       "    <tr>\n",
       "      <th>50%</th>\n",
       "      <td>3.000000</td>\n",
       "      <td>117.000000</td>\n",
       "      <td>72.000000</td>\n",
       "      <td>23.000000</td>\n",
       "      <td>30.500000</td>\n",
       "      <td>32.000000</td>\n",
       "      <td>0.372500</td>\n",
       "      <td>29.000000</td>\n",
       "      <td>0.000000</td>\n",
       "    </tr>\n",
       "    <tr>\n",
       "      <th>75%</th>\n",
       "      <td>6.000000</td>\n",
       "      <td>140.250000</td>\n",
       "      <td>80.000000</td>\n",
       "      <td>32.000000</td>\n",
       "      <td>127.250000</td>\n",
       "      <td>36.600000</td>\n",
       "      <td>0.626250</td>\n",
       "      <td>41.000000</td>\n",
       "      <td>1.000000</td>\n",
       "    </tr>\n",
       "    <tr>\n",
       "      <th>max</th>\n",
       "      <td>17.000000</td>\n",
       "      <td>199.000000</td>\n",
       "      <td>122.000000</td>\n",
       "      <td>99.000000</td>\n",
       "      <td>846.000000</td>\n",
       "      <td>67.100000</td>\n",
       "      <td>2.420000</td>\n",
       "      <td>81.000000</td>\n",
       "      <td>1.000000</td>\n",
       "    </tr>\n",
       "  </tbody>\n",
       "</table>\n",
       "</div>"
      ],
      "text/plain": [
       "       Pregnancies     Glucose  BloodPressure  SkinThickness     Insulin  \\\n",
       "count   768.000000  768.000000     768.000000     768.000000  768.000000   \n",
       "mean      3.845052  120.894531      69.105469      20.536458   79.799479   \n",
       "std       3.369578   31.972618      19.355807      15.952218  115.244002   \n",
       "min       0.000000    0.000000       0.000000       0.000000    0.000000   \n",
       "25%       1.000000   99.000000      62.000000       0.000000    0.000000   \n",
       "50%       3.000000  117.000000      72.000000      23.000000   30.500000   \n",
       "75%       6.000000  140.250000      80.000000      32.000000  127.250000   \n",
       "max      17.000000  199.000000     122.000000      99.000000  846.000000   \n",
       "\n",
       "              BMI  DiabetesPedigreeFunction         Age     Outcome  \n",
       "count  768.000000                768.000000  768.000000  768.000000  \n",
       "mean    31.992578                  0.471876   33.240885    0.348958  \n",
       "std      7.884160                  0.331329   11.760232    0.476951  \n",
       "min      0.000000                  0.078000   21.000000    0.000000  \n",
       "25%     27.300000                  0.243750   24.000000    0.000000  \n",
       "50%     32.000000                  0.372500   29.000000    0.000000  \n",
       "75%     36.600000                  0.626250   41.000000    1.000000  \n",
       "max     67.100000                  2.420000   81.000000    1.000000  "
      ]
     },
     "execution_count": 45,
     "metadata": {},
     "output_type": "execute_result"
    }
   ],
   "source": [
    "df.describe()"
   ]
  },
  {
   "cell_type": "markdown",
   "metadata": {},
   "source": [
    "일부 column에서 최소값이 0이 발견되는데, 0이 애초에 나올 수 없는 column들이 있다.(혈압이라든지..)\n",
    "\n",
    "즉 0 자체가 결측값이라고 볼 수 있으므로 전처리 해주겠다."
   ]
  },
  {
   "cell_type": "code",
   "execution_count": 46,
   "metadata": {},
   "outputs": [
    {
     "name": "stdout",
     "output_type": "stream",
     "text": [
      "Pregnancies: 111\n",
      "Glucose: 5\n",
      "BloodPressure: 35\n",
      "SkinThickness: 227\n",
      "Insulin: 374\n",
      "BMI: 11\n",
      "DiabetesPedigreeFunction: 0\n",
      "Age: 0\n",
      "Outcome: 500\n"
     ]
    }
   ],
   "source": [
    "# 일단 0이 몇개씩이나 있는지 살펴보자.\n",
    "\n",
    "for col in df.columns:\n",
    "    zero = df.loc[df[col]==0].shape[0]\n",
    "    print(col + \": \" +str(zero))"
   ]
  },
  {
   "cell_type": "code",
   "execution_count": 47,
   "metadata": {},
   "outputs": [],
   "source": [
    "# 0을 NaN으로 바꿔서 판다스가 결측값을 인식하게 만든다.\n",
    "zero_col = [\"Glucose\", \"BloodPressure\", \"SkinThickness\", \"Insulin\", \"BMI\"]\n",
    "\n",
    "for col in zero_col:\n",
    "    df[col] = df[col].replace(0, np.nan)"
   ]
  },
  {
   "cell_type": "code",
   "execution_count": 48,
   "metadata": {},
   "outputs": [
    {
     "name": "stdout",
     "output_type": "stream",
     "text": [
      "Pregnancies: 111\n",
      "Glucose: 0\n",
      "BloodPressure: 0\n",
      "SkinThickness: 0\n",
      "Insulin: 0\n",
      "BMI: 0\n",
      "DiabetesPedigreeFunction: 0\n",
      "Age: 0\n",
      "Outcome: 500\n"
     ]
    }
   ],
   "source": [
    "# 다시 0이 몇개인지 확인합니다.\n",
    "\n",
    "for col in df.columns:\n",
    "    zero = df.loc[df[col]==0].shape[0]\n",
    "    print(col + \": \" +str(zero))"
   ]
  },
  {
   "cell_type": "code",
   "execution_count": 49,
   "metadata": {},
   "outputs": [],
   "source": [
    "# 이제 각 칼럼의 평균값으로 결측치를 대체합니다.\n",
    "\n",
    "for col in zero_col:\n",
    "    df[col] = df[col].fillna(df[col].mean())"
   ]
  },
  {
   "cell_type": "code",
   "execution_count": 50,
   "metadata": {},
   "outputs": [
    {
     "data": {
      "text/html": [
       "<div>\n",
       "<style scoped>\n",
       "    .dataframe tbody tr th:only-of-type {\n",
       "        vertical-align: middle;\n",
       "    }\n",
       "\n",
       "    .dataframe tbody tr th {\n",
       "        vertical-align: top;\n",
       "    }\n",
       "\n",
       "    .dataframe thead th {\n",
       "        text-align: right;\n",
       "    }\n",
       "</style>\n",
       "<table border=\"1\" class=\"dataframe\">\n",
       "  <thead>\n",
       "    <tr style=\"text-align: right;\">\n",
       "      <th></th>\n",
       "      <th>Pregnancies</th>\n",
       "      <th>Glucose</th>\n",
       "      <th>BloodPressure</th>\n",
       "      <th>SkinThickness</th>\n",
       "      <th>Insulin</th>\n",
       "      <th>BMI</th>\n",
       "      <th>DiabetesPedigreeFunction</th>\n",
       "      <th>Age</th>\n",
       "      <th>Outcome</th>\n",
       "    </tr>\n",
       "  </thead>\n",
       "  <tbody>\n",
       "    <tr>\n",
       "      <th>count</th>\n",
       "      <td>768.000000</td>\n",
       "      <td>768.000000</td>\n",
       "      <td>768.000000</td>\n",
       "      <td>768.000000</td>\n",
       "      <td>768.000000</td>\n",
       "      <td>768.000000</td>\n",
       "      <td>768.000000</td>\n",
       "      <td>768.000000</td>\n",
       "      <td>768.000000</td>\n",
       "    </tr>\n",
       "    <tr>\n",
       "      <th>mean</th>\n",
       "      <td>3.845052</td>\n",
       "      <td>121.686763</td>\n",
       "      <td>72.405184</td>\n",
       "      <td>29.153420</td>\n",
       "      <td>155.548223</td>\n",
       "      <td>32.457464</td>\n",
       "      <td>0.471876</td>\n",
       "      <td>33.240885</td>\n",
       "      <td>0.348958</td>\n",
       "    </tr>\n",
       "    <tr>\n",
       "      <th>std</th>\n",
       "      <td>3.369578</td>\n",
       "      <td>30.435949</td>\n",
       "      <td>12.096346</td>\n",
       "      <td>8.790942</td>\n",
       "      <td>85.021108</td>\n",
       "      <td>6.875151</td>\n",
       "      <td>0.331329</td>\n",
       "      <td>11.760232</td>\n",
       "      <td>0.476951</td>\n",
       "    </tr>\n",
       "    <tr>\n",
       "      <th>min</th>\n",
       "      <td>0.000000</td>\n",
       "      <td>44.000000</td>\n",
       "      <td>24.000000</td>\n",
       "      <td>7.000000</td>\n",
       "      <td>14.000000</td>\n",
       "      <td>18.200000</td>\n",
       "      <td>0.078000</td>\n",
       "      <td>21.000000</td>\n",
       "      <td>0.000000</td>\n",
       "    </tr>\n",
       "    <tr>\n",
       "      <th>25%</th>\n",
       "      <td>1.000000</td>\n",
       "      <td>99.750000</td>\n",
       "      <td>64.000000</td>\n",
       "      <td>25.000000</td>\n",
       "      <td>121.500000</td>\n",
       "      <td>27.500000</td>\n",
       "      <td>0.243750</td>\n",
       "      <td>24.000000</td>\n",
       "      <td>0.000000</td>\n",
       "    </tr>\n",
       "    <tr>\n",
       "      <th>50%</th>\n",
       "      <td>3.000000</td>\n",
       "      <td>117.000000</td>\n",
       "      <td>72.202592</td>\n",
       "      <td>29.153420</td>\n",
       "      <td>155.548223</td>\n",
       "      <td>32.400000</td>\n",
       "      <td>0.372500</td>\n",
       "      <td>29.000000</td>\n",
       "      <td>0.000000</td>\n",
       "    </tr>\n",
       "    <tr>\n",
       "      <th>75%</th>\n",
       "      <td>6.000000</td>\n",
       "      <td>140.250000</td>\n",
       "      <td>80.000000</td>\n",
       "      <td>32.000000</td>\n",
       "      <td>155.548223</td>\n",
       "      <td>36.600000</td>\n",
       "      <td>0.626250</td>\n",
       "      <td>41.000000</td>\n",
       "      <td>1.000000</td>\n",
       "    </tr>\n",
       "    <tr>\n",
       "      <th>max</th>\n",
       "      <td>17.000000</td>\n",
       "      <td>199.000000</td>\n",
       "      <td>122.000000</td>\n",
       "      <td>99.000000</td>\n",
       "      <td>846.000000</td>\n",
       "      <td>67.100000</td>\n",
       "      <td>2.420000</td>\n",
       "      <td>81.000000</td>\n",
       "      <td>1.000000</td>\n",
       "    </tr>\n",
       "  </tbody>\n",
       "</table>\n",
       "</div>"
      ],
      "text/plain": [
       "       Pregnancies     Glucose  BloodPressure  SkinThickness     Insulin  \\\n",
       "count   768.000000  768.000000     768.000000     768.000000  768.000000   \n",
       "mean      3.845052  121.686763      72.405184      29.153420  155.548223   \n",
       "std       3.369578   30.435949      12.096346       8.790942   85.021108   \n",
       "min       0.000000   44.000000      24.000000       7.000000   14.000000   \n",
       "25%       1.000000   99.750000      64.000000      25.000000  121.500000   \n",
       "50%       3.000000  117.000000      72.202592      29.153420  155.548223   \n",
       "75%       6.000000  140.250000      80.000000      32.000000  155.548223   \n",
       "max      17.000000  199.000000     122.000000      99.000000  846.000000   \n",
       "\n",
       "              BMI  DiabetesPedigreeFunction         Age     Outcome  \n",
       "count  768.000000                768.000000  768.000000  768.000000  \n",
       "mean    32.457464                  0.471876   33.240885    0.348958  \n",
       "std      6.875151                  0.331329   11.760232    0.476951  \n",
       "min     18.200000                  0.078000   21.000000    0.000000  \n",
       "25%     27.500000                  0.243750   24.000000    0.000000  \n",
       "50%     32.400000                  0.372500   29.000000    0.000000  \n",
       "75%     36.600000                  0.626250   41.000000    1.000000  \n",
       "max     67.100000                  2.420000   81.000000    1.000000  "
      ]
     },
     "execution_count": 50,
     "metadata": {},
     "output_type": "execute_result"
    }
   ],
   "source": [
    "df.describe()"
   ]
  },
  {
   "cell_type": "markdown",
   "metadata": {},
   "source": [
    "### 2.6.2 Scaling"
   ]
  },
  {
   "cell_type": "markdown",
   "metadata": {},
   "source": [
    "이 부분은 책과는 다릅니다."
   ]
  },
  {
   "cell_type": "code",
   "execution_count": 51,
   "metadata": {},
   "outputs": [],
   "source": [
    "# 변수 간의 범위가 너무 크면 모델에 영향력이 다르게 간다.\n",
    "# 따라서 수치형 변수들을 스케일링 해주는 것이 중요하다.\n",
    "\n",
    "# 개인적으로 좋아하는 표준화 식은 10배수 MinMaxScaler 다.\n",
    "\n",
    "def tenMinMaxScaler(df, columns):\n",
    "    for col in columns:\n",
    "        col_min = df[col].min()\n",
    "        col_max = df[col].max()\n",
    "        df[col] = df[col].apply(lambda x: 10 * (x-col_min) / (col_max - col_min))\n",
    "    return df"
   ]
  },
  {
   "cell_type": "code",
   "execution_count": 52,
   "metadata": {},
   "outputs": [
    {
     "data": {
      "text/plain": [
       "Index(['Pregnancies', 'Glucose', 'BloodPressure', 'SkinThickness', 'Insulin',\n",
       "       'BMI', 'DiabetesPedigreeFunction', 'Age', 'Outcome'],\n",
       "      dtype='object')"
      ]
     },
     "execution_count": 52,
     "metadata": {},
     "output_type": "execute_result"
    }
   ],
   "source": [
    "df.columns # columns 리스트 나열"
   ]
  },
  {
   "cell_type": "code",
   "execution_count": 53,
   "metadata": {},
   "outputs": [],
   "source": [
    "# Outcome 만 빼고 columns 리스트로 선언\n",
    "columns = ['Pregnancies', 'Glucose', 'BloodPressure', 'SkinThickness', 'Insulin',\n",
    "       'BMI', 'DiabetesPedigreeFunction', 'Age']\n",
    "\n",
    "# 함수로 돌려줍니다.\n",
    "df = tenMinMaxScaler(df, columns)"
   ]
  },
  {
   "cell_type": "code",
   "execution_count": 54,
   "metadata": {},
   "outputs": [
    {
     "data": {
      "text/html": [
       "<div>\n",
       "<style scoped>\n",
       "    .dataframe tbody tr th:only-of-type {\n",
       "        vertical-align: middle;\n",
       "    }\n",
       "\n",
       "    .dataframe tbody tr th {\n",
       "        vertical-align: top;\n",
       "    }\n",
       "\n",
       "    .dataframe thead th {\n",
       "        text-align: right;\n",
       "    }\n",
       "</style>\n",
       "<table border=\"1\" class=\"dataframe\">\n",
       "  <thead>\n",
       "    <tr style=\"text-align: right;\">\n",
       "      <th></th>\n",
       "      <th>Pregnancies</th>\n",
       "      <th>Glucose</th>\n",
       "      <th>BloodPressure</th>\n",
       "      <th>SkinThickness</th>\n",
       "      <th>Insulin</th>\n",
       "      <th>BMI</th>\n",
       "      <th>DiabetesPedigreeFunction</th>\n",
       "      <th>Age</th>\n",
       "      <th>Outcome</th>\n",
       "    </tr>\n",
       "  </thead>\n",
       "  <tbody>\n",
       "    <tr>\n",
       "      <th>0</th>\n",
       "      <td>3.529412</td>\n",
       "      <td>6.709677</td>\n",
       "      <td>4.897959</td>\n",
       "      <td>3.043478</td>\n",
       "      <td>1.701301</td>\n",
       "      <td>3.149284</td>\n",
       "      <td>2.344150</td>\n",
       "      <td>4.833333</td>\n",
       "      <td>1</td>\n",
       "    </tr>\n",
       "    <tr>\n",
       "      <th>1</th>\n",
       "      <td>0.588235</td>\n",
       "      <td>2.645161</td>\n",
       "      <td>4.285714</td>\n",
       "      <td>2.391304</td>\n",
       "      <td>1.701301</td>\n",
       "      <td>1.717791</td>\n",
       "      <td>1.165670</td>\n",
       "      <td>1.666667</td>\n",
       "      <td>0</td>\n",
       "    </tr>\n",
       "    <tr>\n",
       "      <th>2</th>\n",
       "      <td>4.705882</td>\n",
       "      <td>8.967742</td>\n",
       "      <td>4.081633</td>\n",
       "      <td>2.407980</td>\n",
       "      <td>1.701301</td>\n",
       "      <td>1.042945</td>\n",
       "      <td>2.536294</td>\n",
       "      <td>1.833333</td>\n",
       "      <td>1</td>\n",
       "    </tr>\n",
       "    <tr>\n",
       "      <th>3</th>\n",
       "      <td>0.588235</td>\n",
       "      <td>2.903226</td>\n",
       "      <td>4.285714</td>\n",
       "      <td>1.739130</td>\n",
       "      <td>0.961538</td>\n",
       "      <td>2.024540</td>\n",
       "      <td>0.380017</td>\n",
       "      <td>0.000000</td>\n",
       "      <td>0</td>\n",
       "    </tr>\n",
       "    <tr>\n",
       "      <th>4</th>\n",
       "      <td>0.000000</td>\n",
       "      <td>6.000000</td>\n",
       "      <td>1.632653</td>\n",
       "      <td>3.043478</td>\n",
       "      <td>1.850962</td>\n",
       "      <td>5.092025</td>\n",
       "      <td>9.436379</td>\n",
       "      <td>2.000000</td>\n",
       "      <td>1</td>\n",
       "    </tr>\n",
       "  </tbody>\n",
       "</table>\n",
       "</div>"
      ],
      "text/plain": [
       "   Pregnancies   Glucose  BloodPressure  SkinThickness   Insulin       BMI  \\\n",
       "0     3.529412  6.709677       4.897959       3.043478  1.701301  3.149284   \n",
       "1     0.588235  2.645161       4.285714       2.391304  1.701301  1.717791   \n",
       "2     4.705882  8.967742       4.081633       2.407980  1.701301  1.042945   \n",
       "3     0.588235  2.903226       4.285714       1.739130  0.961538  2.024540   \n",
       "4     0.000000  6.000000       1.632653       3.043478  1.850962  5.092025   \n",
       "\n",
       "   DiabetesPedigreeFunction       Age  Outcome  \n",
       "0                  2.344150  4.833333        1  \n",
       "1                  1.165670  1.666667        0  \n",
       "2                  2.536294  1.833333        1  \n",
       "3                  0.380017  0.000000        0  \n",
       "4                  9.436379  2.000000        1  "
      ]
     },
     "execution_count": 54,
     "metadata": {},
     "output_type": "execute_result"
    }
   ],
   "source": [
    "df.head()"
   ]
  },
  {
   "cell_type": "code",
   "execution_count": 55,
   "metadata": {},
   "outputs": [
    {
     "data": {
      "text/html": [
       "<div>\n",
       "<style scoped>\n",
       "    .dataframe tbody tr th:only-of-type {\n",
       "        vertical-align: middle;\n",
       "    }\n",
       "\n",
       "    .dataframe tbody tr th {\n",
       "        vertical-align: top;\n",
       "    }\n",
       "\n",
       "    .dataframe thead th {\n",
       "        text-align: right;\n",
       "    }\n",
       "</style>\n",
       "<table border=\"1\" class=\"dataframe\">\n",
       "  <thead>\n",
       "    <tr style=\"text-align: right;\">\n",
       "      <th></th>\n",
       "      <th>Pregnancies</th>\n",
       "      <th>Glucose</th>\n",
       "      <th>BloodPressure</th>\n",
       "      <th>SkinThickness</th>\n",
       "      <th>Insulin</th>\n",
       "      <th>BMI</th>\n",
       "      <th>DiabetesPedigreeFunction</th>\n",
       "      <th>Age</th>\n",
       "      <th>Outcome</th>\n",
       "    </tr>\n",
       "  </thead>\n",
       "  <tbody>\n",
       "    <tr>\n",
       "      <th>count</th>\n",
       "      <td>768.000000</td>\n",
       "      <td>768.000000</td>\n",
       "      <td>768.000000</td>\n",
       "      <td>768.000000</td>\n",
       "      <td>768.000000</td>\n",
       "      <td>768.000000</td>\n",
       "      <td>768.000000</td>\n",
       "      <td>768.000000</td>\n",
       "      <td>768.000000</td>\n",
       "    </tr>\n",
       "    <tr>\n",
       "      <th>mean</th>\n",
       "      <td>2.261795</td>\n",
       "      <td>5.012049</td>\n",
       "      <td>4.939305</td>\n",
       "      <td>2.407980</td>\n",
       "      <td>1.701301</td>\n",
       "      <td>2.915637</td>\n",
       "      <td>1.681795</td>\n",
       "      <td>2.040148</td>\n",
       "      <td>0.348958</td>\n",
       "    </tr>\n",
       "    <tr>\n",
       "      <th>std</th>\n",
       "      <td>1.982105</td>\n",
       "      <td>1.963610</td>\n",
       "      <td>1.234321</td>\n",
       "      <td>0.955537</td>\n",
       "      <td>1.021888</td>\n",
       "      <td>1.405961</td>\n",
       "      <td>1.414725</td>\n",
       "      <td>1.960039</td>\n",
       "      <td>0.476951</td>\n",
       "    </tr>\n",
       "    <tr>\n",
       "      <th>min</th>\n",
       "      <td>0.000000</td>\n",
       "      <td>0.000000</td>\n",
       "      <td>0.000000</td>\n",
       "      <td>0.000000</td>\n",
       "      <td>0.000000</td>\n",
       "      <td>0.000000</td>\n",
       "      <td>0.000000</td>\n",
       "      <td>0.000000</td>\n",
       "      <td>0.000000</td>\n",
       "    </tr>\n",
       "    <tr>\n",
       "      <th>25%</th>\n",
       "      <td>0.588235</td>\n",
       "      <td>3.596774</td>\n",
       "      <td>4.081633</td>\n",
       "      <td>1.956522</td>\n",
       "      <td>1.292067</td>\n",
       "      <td>1.901840</td>\n",
       "      <td>0.707728</td>\n",
       "      <td>0.500000</td>\n",
       "      <td>0.000000</td>\n",
       "    </tr>\n",
       "    <tr>\n",
       "      <th>50%</th>\n",
       "      <td>1.764706</td>\n",
       "      <td>4.709677</td>\n",
       "      <td>4.918632</td>\n",
       "      <td>2.407980</td>\n",
       "      <td>1.701301</td>\n",
       "      <td>2.903885</td>\n",
       "      <td>1.257472</td>\n",
       "      <td>1.333333</td>\n",
       "      <td>0.000000</td>\n",
       "    </tr>\n",
       "    <tr>\n",
       "      <th>75%</th>\n",
       "      <td>3.529412</td>\n",
       "      <td>6.209677</td>\n",
       "      <td>5.714286</td>\n",
       "      <td>2.717391</td>\n",
       "      <td>1.701301</td>\n",
       "      <td>3.762781</td>\n",
       "      <td>2.340948</td>\n",
       "      <td>3.333333</td>\n",
       "      <td>1.000000</td>\n",
       "    </tr>\n",
       "    <tr>\n",
       "      <th>max</th>\n",
       "      <td>10.000000</td>\n",
       "      <td>10.000000</td>\n",
       "      <td>10.000000</td>\n",
       "      <td>10.000000</td>\n",
       "      <td>10.000000</td>\n",
       "      <td>10.000000</td>\n",
       "      <td>10.000000</td>\n",
       "      <td>10.000000</td>\n",
       "      <td>1.000000</td>\n",
       "    </tr>\n",
       "  </tbody>\n",
       "</table>\n",
       "</div>"
      ],
      "text/plain": [
       "       Pregnancies     Glucose  BloodPressure  SkinThickness     Insulin  \\\n",
       "count   768.000000  768.000000     768.000000     768.000000  768.000000   \n",
       "mean      2.261795    5.012049       4.939305       2.407980    1.701301   \n",
       "std       1.982105    1.963610       1.234321       0.955537    1.021888   \n",
       "min       0.000000    0.000000       0.000000       0.000000    0.000000   \n",
       "25%       0.588235    3.596774       4.081633       1.956522    1.292067   \n",
       "50%       1.764706    4.709677       4.918632       2.407980    1.701301   \n",
       "75%       3.529412    6.209677       5.714286       2.717391    1.701301   \n",
       "max      10.000000   10.000000      10.000000      10.000000   10.000000   \n",
       "\n",
       "              BMI  DiabetesPedigreeFunction         Age     Outcome  \n",
       "count  768.000000                768.000000  768.000000  768.000000  \n",
       "mean     2.915637                  1.681795    2.040148    0.348958  \n",
       "std      1.405961                  1.414725    1.960039    0.476951  \n",
       "min      0.000000                  0.000000    0.000000    0.000000  \n",
       "25%      1.901840                  0.707728    0.500000    0.000000  \n",
       "50%      2.903885                  1.257472    1.333333    0.000000  \n",
       "75%      3.762781                  2.340948    3.333333    1.000000  \n",
       "max     10.000000                 10.000000   10.000000    1.000000  "
      ]
     },
     "execution_count": 55,
     "metadata": {},
     "output_type": "execute_result"
    }
   ],
   "source": [
    "df.describe()"
   ]
  },
  {
   "cell_type": "markdown",
   "metadata": {},
   "source": [
    "### 2.6.3 Split Dataset"
   ]
  },
  {
   "cell_type": "code",
   "execution_count": 56,
   "metadata": {},
   "outputs": [],
   "source": [
    "from sklearn.model_selection import train_test_split"
   ]
  },
  {
   "cell_type": "code",
   "execution_count": 57,
   "metadata": {},
   "outputs": [],
   "source": [
    "# 독립변수들로만 구성된 x와 라벨값인 y를 만들어줍니다.\n",
    "\n",
    "x = df.loc[:, df.columns !='Outcome']\n",
    "y = df.loc[:, 'Outcome']"
   ]
  },
  {
   "cell_type": "code",
   "execution_count": 58,
   "metadata": {},
   "outputs": [
    {
     "data": {
      "text/plain": [
       "((614, 8), (154, 8), (614,), (154,))"
      ]
     },
     "execution_count": 58,
     "metadata": {},
     "output_type": "execute_result"
    }
   ],
   "source": [
    "# 테스트 셋과 트래인 셋을 나눕니다.\n",
    "\n",
    "X_train, X_test, y_train, y_test = train_test_split(x, y, test_size=0.2)\n",
    "\n",
    "X_train.shape, X_test.shape, y_train.shape, y_test.shape"
   ]
  },
  {
   "cell_type": "code",
   "execution_count": 59,
   "metadata": {},
   "outputs": [
    {
     "data": {
      "text/plain": [
       "((491, 8), (123, 8), (491,), (123,))"
      ]
     },
     "execution_count": 59,
     "metadata": {},
     "output_type": "execute_result"
    }
   ],
   "source": [
    "# 테스트 셋에서 검증 셋으로 또 나눕니다.\n",
    "\n",
    "X_train, X_val, y_train, y_val = train_test_split(X_train, y_train, test_size=0.2)\n",
    "\n",
    "X_train.shape, X_val.shape, y_train.shape, y_val.shape"
   ]
  },
  {
   "cell_type": "markdown",
   "metadata": {},
   "source": [
    "## 2.7 MLP"
   ]
  },
  {
   "cell_type": "markdown",
   "metadata": {},
   "source": [
    "#### 히든 레이어는 2개로 하겠다. 활성함수는 ReLU와 Sigmoid를 쓰겠다."
   ]
  },
  {
   "cell_type": "markdown",
   "metadata": {},
   "source": [
    "## 2.8 Modeling with Keras"
   ]
  },
  {
   "cell_type": "markdown",
   "metadata": {},
   "source": [
    "### 2.8.1 Model Organizing"
   ]
  },
  {
   "cell_type": "code",
   "execution_count": 60,
   "metadata": {},
   "outputs": [],
   "source": [
    "# 먼저 케라스의 Sequential 클래스를 통해 골격을 만들어준다.\n",
    "\n",
    "from keras.models import Sequential"
   ]
  },
  {
   "cell_type": "code",
   "execution_count": 61,
   "metadata": {},
   "outputs": [],
   "source": [
    "model = Sequential()"
   ]
  },
  {
   "cell_type": "code",
   "execution_count": 62,
   "metadata": {},
   "outputs": [],
   "source": [
    "# 첫 번째 은닉 레이어를 쌓는다. 노드는 32개, 입력 차원은 8개다.\n",
    "# 노드는 임의로 정한 것이고, 입력 차원은 변수가 8개라 8개.\n",
    "# 이어지는 다른 은닉 레이어의 크기는 케라스가 자동으로 계산한다.\n",
    "\n",
    "from keras.layers import Dense"
   ]
  },
  {
   "cell_type": "code",
   "execution_count": 63,
   "metadata": {},
   "outputs": [],
   "source": [
    "# 첫 번째 은닉 레이어 추가.\n",
    "model.add(Dense(32, activation='relu', input_dim=8))\n",
    "# 두 번째 은닉 레이어 추가.\n",
    "model.add(Dense(16, activation='relu'))\n",
    "# 마지막으로 출력 레이어 추가. 출력 레이어는 이진분류 결과를 출력하므로 노드는 1개, 출력값을 0과 1로 압축하는 시그모이드 사용\n",
    "model.add(Dense(1, activation='sigmoid'))"
   ]
  },
  {
   "cell_type": "markdown",
   "metadata": {},
   "source": [
    "### 2.8.2 Model Compile"
   ]
  },
  {
   "cell_type": "markdown",
   "metadata": {},
   "source": [
    "모델을 훈련시키기 전에 훈련 과정에 필요한 매개변수를 정의한다.\n",
    "\n",
    "훈련 매개변수는 compile 메서드에 전달하며, MLP의 훈련과정에 필요한 매개변수는 다음과 같다.\n",
    "\n",
    "- Optimizer(옵티마이저) : adam옵티마이저 사용.\n",
    "- Loss Function(손실 함수) : 이진 분류 문제이므로 binary_crossentropy 사용\n",
    "- Metrics(평가 지표) : accuracy 사용"
   ]
  },
  {
   "cell_type": "code",
   "execution_count": 64,
   "metadata": {},
   "outputs": [],
   "source": [
    "model.compile(optimizer='adam', loss='binary_crossentropy', metrics=['accuracy'])"
   ]
  },
  {
   "cell_type": "markdown",
   "metadata": {},
   "source": [
    "### 2.8.3 Model Training"
   ]
  },
  {
   "cell_type": "code",
   "execution_count": 65,
   "metadata": {},
   "outputs": [
    {
     "name": "stdout",
     "output_type": "stream",
     "text": [
      "Epoch 1/200\n",
      "491/491 [==============================] - 0s 775us/step - loss: 1.6148 - accuracy: 0.3422\n",
      "Epoch 2/200\n",
      "491/491 [==============================] - 0s 62us/step - loss: 0.8898 - accuracy: 0.3585\n",
      "Epoch 3/200\n",
      "491/491 [==============================] - 0s 72us/step - loss: 0.7185 - accuracy: 0.5397\n",
      "Epoch 4/200\n",
      "491/491 [==============================] - 0s 99us/step - loss: 0.6764 - accuracy: 0.6008\n",
      "Epoch 5/200\n",
      "491/491 [==============================] - 0s 58us/step - loss: 0.6559 - accuracy: 0.6415\n",
      "Epoch 6/200\n",
      "491/491 [==============================] - 0s 66us/step - loss: 0.6362 - accuracy: 0.6578\n",
      "Epoch 7/200\n",
      "491/491 [==============================] - 0s 66us/step - loss: 0.6130 - accuracy: 0.6701\n",
      "Epoch 8/200\n",
      "491/491 [==============================] - 0s 76us/step - loss: 0.5939 - accuracy: 0.7047\n",
      "Epoch 9/200\n",
      "491/491 [==============================] - 0s 51us/step - loss: 0.5782 - accuracy: 0.7454\n",
      "Epoch 10/200\n",
      "491/491 [==============================] - 0s 87us/step - loss: 0.5656 - accuracy: 0.7475\n",
      "Epoch 11/200\n",
      "491/491 [==============================] - 0s 53us/step - loss: 0.5547 - accuracy: 0.7454\n",
      "Epoch 12/200\n",
      "491/491 [==============================] - 0s 67us/step - loss: 0.5465 - accuracy: 0.7434\n",
      "Epoch 13/200\n",
      "491/491 [==============================] - 0s 50us/step - loss: 0.5385 - accuracy: 0.7434\n",
      "Epoch 14/200\n",
      "491/491 [==============================] - 0s 53us/step - loss: 0.5317 - accuracy: 0.7413\n",
      "Epoch 15/200\n",
      "491/491 [==============================] - 0s 62us/step - loss: 0.5261 - accuracy: 0.7454\n",
      "Epoch 16/200\n",
      "491/491 [==============================] - 0s 58us/step - loss: 0.5213 - accuracy: 0.7413\n",
      "Epoch 17/200\n",
      "491/491 [==============================] - 0s 63us/step - loss: 0.5189 - accuracy: 0.7454\n",
      "Epoch 18/200\n",
      "491/491 [==============================] - 0s 72us/step - loss: 0.5138 - accuracy: 0.7393\n",
      "Epoch 19/200\n",
      "491/491 [==============================] - 0s 77us/step - loss: 0.5077 - accuracy: 0.7475\n",
      "Epoch 20/200\n",
      "491/491 [==============================] - 0s 71us/step - loss: 0.5067 - accuracy: 0.7475\n",
      "Epoch 21/200\n",
      "491/491 [==============================] - 0s 75us/step - loss: 0.5005 - accuracy: 0.7556\n",
      "Epoch 22/200\n",
      "491/491 [==============================] - 0s 59us/step - loss: 0.4979 - accuracy: 0.7515\n",
      "Epoch 23/200\n",
      "491/491 [==============================] - 0s 77us/step - loss: 0.4973 - accuracy: 0.7556\n",
      "Epoch 24/200\n",
      "491/491 [==============================] - 0s 68us/step - loss: 0.4969 - accuracy: 0.7536\n",
      "Epoch 25/200\n",
      "491/491 [==============================] - 0s 56us/step - loss: 0.4908 - accuracy: 0.7556\n",
      "Epoch 26/200\n",
      "491/491 [==============================] - 0s 54us/step - loss: 0.4881 - accuracy: 0.7556\n",
      "Epoch 27/200\n",
      "491/491 [==============================] - 0s 48us/step - loss: 0.4865 - accuracy: 0.7536\n",
      "Epoch 28/200\n",
      "491/491 [==============================] - 0s 83us/step - loss: 0.4826 - accuracy: 0.7637\n",
      "Epoch 29/200\n",
      "491/491 [==============================] - 0s 84us/step - loss: 0.4816 - accuracy: 0.7536\n",
      "Epoch 30/200\n",
      "491/491 [==============================] - 0s 91us/step - loss: 0.4801 - accuracy: 0.7658\n",
      "Epoch 31/200\n",
      "491/491 [==============================] - 0s 59us/step - loss: 0.4796 - accuracy: 0.7780\n",
      "Epoch 32/200\n",
      "491/491 [==============================] - 0s 66us/step - loss: 0.4742 - accuracy: 0.7760\n",
      "Epoch 33/200\n",
      "491/491 [==============================] - 0s 60us/step - loss: 0.4757 - accuracy: 0.7780\n",
      "Epoch 34/200\n",
      "491/491 [==============================] - 0s 68us/step - loss: 0.4719 - accuracy: 0.7699\n",
      "Epoch 35/200\n",
      "491/491 [==============================] - 0s 81us/step - loss: 0.4780 - accuracy: 0.7637\n",
      "Epoch 36/200\n",
      "491/491 [==============================] - 0s 89us/step - loss: 0.4731 - accuracy: 0.7678\n",
      "Epoch 37/200\n",
      "491/491 [==============================] - 0s 82us/step - loss: 0.4690 - accuracy: 0.7678\n",
      "Epoch 38/200\n",
      "491/491 [==============================] - 0s 64us/step - loss: 0.4689 - accuracy: 0.7678\n",
      "Epoch 39/200\n",
      "491/491 [==============================] - 0s 74us/step - loss: 0.4630 - accuracy: 0.7617\n",
      "Epoch 40/200\n",
      "491/491 [==============================] - 0s 72us/step - loss: 0.4637 - accuracy: 0.7719\n",
      "Epoch 41/200\n",
      "491/491 [==============================] - 0s 54us/step - loss: 0.4610 - accuracy: 0.7719\n",
      "Epoch 42/200\n",
      "491/491 [==============================] - 0s 51us/step - loss: 0.4662 - accuracy: 0.7719\n",
      "Epoch 43/200\n",
      "491/491 [==============================] - 0s 83us/step - loss: 0.4610 - accuracy: 0.7780\n",
      "Epoch 44/200\n",
      "491/491 [==============================] - 0s 55us/step - loss: 0.4594 - accuracy: 0.7780\n",
      "Epoch 45/200\n",
      "491/491 [==============================] - ETA: 0s - loss: 0.3183 - accuracy: 0.87 - 0s 91us/step - loss: 0.4539 - accuracy: 0.7862\n",
      "Epoch 46/200\n",
      "491/491 [==============================] - 0s 90us/step - loss: 0.4570 - accuracy: 0.7821\n",
      "Epoch 47/200\n",
      "491/491 [==============================] - 0s 48us/step - loss: 0.4537 - accuracy: 0.7841\n",
      "Epoch 48/200\n",
      "491/491 [==============================] - 0s 53us/step - loss: 0.4534 - accuracy: 0.7760\n",
      "Epoch 49/200\n",
      "491/491 [==============================] - 0s 63us/step - loss: 0.4533 - accuracy: 0.7841\n",
      "Epoch 50/200\n",
      "491/491 [==============================] - 0s 78us/step - loss: 0.4530 - accuracy: 0.7821\n",
      "Epoch 51/200\n",
      "491/491 [==============================] - 0s 54us/step - loss: 0.4508 - accuracy: 0.7862\n",
      "Epoch 52/200\n",
      "491/491 [==============================] - 0s 51us/step - loss: 0.4492 - accuracy: 0.7821\n",
      "Epoch 53/200\n",
      "491/491 [==============================] - 0s 64us/step - loss: 0.4458 - accuracy: 0.7882\n",
      "Epoch 54/200\n",
      "491/491 [==============================] - 0s 51us/step - loss: 0.4443 - accuracy: 0.7882\n",
      "Epoch 55/200\n",
      "491/491 [==============================] - 0s 51us/step - loss: 0.4446 - accuracy: 0.7882\n",
      "Epoch 56/200\n",
      "491/491 [==============================] - 0s 50us/step - loss: 0.4456 - accuracy: 0.7882\n",
      "Epoch 57/200\n",
      "491/491 [==============================] - 0s 63us/step - loss: 0.4422 - accuracy: 0.7943\n",
      "Epoch 58/200\n",
      "491/491 [==============================] - 0s 74us/step - loss: 0.4406 - accuracy: 0.7902\n",
      "Epoch 59/200\n",
      "491/491 [==============================] - 0s 53us/step - loss: 0.4398 - accuracy: 0.7902\n",
      "Epoch 60/200\n",
      "491/491 [==============================] - 0s 51us/step - loss: 0.4403 - accuracy: 0.8024\n",
      "Epoch 61/200\n",
      "491/491 [==============================] - 0s 62us/step - loss: 0.4372 - accuracy: 0.8024\n",
      "Epoch 62/200\n",
      "491/491 [==============================] - 0s 75us/step - loss: 0.4381 - accuracy: 0.8004\n",
      "Epoch 63/200\n",
      "491/491 [==============================] - 0s 65us/step - loss: 0.4374 - accuracy: 0.7984\n",
      "Epoch 64/200\n",
      "491/491 [==============================] - 0s 74us/step - loss: 0.4376 - accuracy: 0.7943\n",
      "Epoch 65/200\n",
      "491/491 [==============================] - 0s 66us/step - loss: 0.4524 - accuracy: 0.7862\n",
      "Epoch 66/200\n",
      "491/491 [==============================] - 0s 57us/step - loss: 0.4313 - accuracy: 0.8004\n",
      "Epoch 67/200\n",
      "491/491 [==============================] - 0s 61us/step - loss: 0.4341 - accuracy: 0.7923\n",
      "Epoch 68/200\n",
      "491/491 [==============================] - 0s 49us/step - loss: 0.4310 - accuracy: 0.8024\n",
      "Epoch 69/200\n",
      "491/491 [==============================] - 0s 51us/step - loss: 0.4340 - accuracy: 0.7984\n",
      "Epoch 70/200\n",
      "491/491 [==============================] - 0s 65us/step - loss: 0.4289 - accuracy: 0.7943\n",
      "Epoch 71/200\n",
      "491/491 [==============================] - 0s 66us/step - loss: 0.4272 - accuracy: 0.7963\n",
      "Epoch 72/200\n",
      "491/491 [==============================] - 0s 58us/step - loss: 0.4297 - accuracy: 0.7943\n",
      "Epoch 73/200\n",
      "491/491 [==============================] - 0s 98us/step - loss: 0.4263 - accuracy: 0.8065\n",
      "Epoch 74/200\n",
      "491/491 [==============================] - 0s 77us/step - loss: 0.4343 - accuracy: 0.7923\n",
      "Epoch 75/200\n",
      "491/491 [==============================] - 0s 79us/step - loss: 0.4364 - accuracy: 0.7923\n",
      "Epoch 76/200\n",
      "491/491 [==============================] - 0s 77us/step - loss: 0.4259 - accuracy: 0.8065\n",
      "Epoch 77/200\n",
      "491/491 [==============================] - 0s 62us/step - loss: 0.4270 - accuracy: 0.8024\n",
      "Epoch 78/200\n",
      "491/491 [==============================] - 0s 67us/step - loss: 0.4215 - accuracy: 0.8004\n",
      "Epoch 79/200\n",
      "491/491 [==============================] - 0s 54us/step - loss: 0.4199 - accuracy: 0.8065\n",
      "Epoch 80/200\n"
     ]
    },
    {
     "name": "stdout",
     "output_type": "stream",
     "text": [
      "491/491 [==============================] - 0s 55us/step - loss: 0.4227 - accuracy: 0.7963\n",
      "Epoch 81/200\n",
      "491/491 [==============================] - 0s 66us/step - loss: 0.4219 - accuracy: 0.8004\n",
      "Epoch 82/200\n",
      "491/491 [==============================] - 0s 63us/step - loss: 0.4167 - accuracy: 0.7984\n",
      "Epoch 83/200\n",
      "491/491 [==============================] - 0s 59us/step - loss: 0.4202 - accuracy: 0.7963\n",
      "Epoch 84/200\n",
      "491/491 [==============================] - 0s 73us/step - loss: 0.4155 - accuracy: 0.8106\n",
      "Epoch 85/200\n",
      "491/491 [==============================] - 0s 71us/step - loss: 0.4370 - accuracy: 0.7963\n",
      "Epoch 86/200\n",
      "491/491 [==============================] - 0s 72us/step - loss: 0.4208 - accuracy: 0.7963\n",
      "Epoch 87/200\n",
      "491/491 [==============================] - 0s 61us/step - loss: 0.4211 - accuracy: 0.8045\n",
      "Epoch 88/200\n",
      "491/491 [==============================] - 0s 59us/step - loss: 0.4153 - accuracy: 0.8004\n",
      "Epoch 89/200\n",
      "491/491 [==============================] - 0s 57us/step - loss: 0.4152 - accuracy: 0.8106\n",
      "Epoch 90/200\n",
      "491/491 [==============================] - 0s 78us/step - loss: 0.4126 - accuracy: 0.8065\n",
      "Epoch 91/200\n",
      "491/491 [==============================] - 0s 97us/step - loss: 0.4152 - accuracy: 0.8086\n",
      "Epoch 92/200\n",
      "491/491 [==============================] - 0s 61us/step - loss: 0.4167 - accuracy: 0.8106\n",
      "Epoch 93/200\n",
      "491/491 [==============================] - 0s 54us/step - loss: 0.4167 - accuracy: 0.8004\n",
      "Epoch 94/200\n",
      "491/491 [==============================] - 0s 50us/step - loss: 0.4121 - accuracy: 0.8065\n",
      "Epoch 95/200\n",
      "491/491 [==============================] - 0s 68us/step - loss: 0.4104 - accuracy: 0.8086\n",
      "Epoch 96/200\n",
      "491/491 [==============================] - 0s 81us/step - loss: 0.4103 - accuracy: 0.8086\n",
      "Epoch 97/200\n",
      "491/491 [==============================] - 0s 52us/step - loss: 0.4089 - accuracy: 0.8045\n",
      "Epoch 98/200\n",
      "491/491 [==============================] - 0s 66us/step - loss: 0.4102 - accuracy: 0.8004\n",
      "Epoch 99/200\n",
      "491/491 [==============================] - 0s 58us/step - loss: 0.4075 - accuracy: 0.8086\n",
      "Epoch 100/200\n",
      "491/491 [==============================] - 0s 59us/step - loss: 0.4064 - accuracy: 0.8086\n",
      "Epoch 101/200\n",
      "491/491 [==============================] - 0s 55us/step - loss: 0.4077 - accuracy: 0.8086\n",
      "Epoch 102/200\n",
      "491/491 [==============================] - 0s 50us/step - loss: 0.4128 - accuracy: 0.8004\n",
      "Epoch 103/200\n",
      "491/491 [==============================] - 0s 61us/step - loss: 0.4059 - accuracy: 0.8147\n",
      "Epoch 104/200\n",
      "491/491 [==============================] - 0s 48us/step - loss: 0.4064 - accuracy: 0.8004\n",
      "Epoch 105/200\n",
      "491/491 [==============================] - 0s 54us/step - loss: 0.4043 - accuracy: 0.8024\n",
      "Epoch 106/200\n",
      "491/491 [==============================] - 0s 72us/step - loss: 0.4037 - accuracy: 0.8024\n",
      "Epoch 107/200\n",
      "491/491 [==============================] - 0s 58us/step - loss: 0.4043 - accuracy: 0.8086\n",
      "Epoch 108/200\n",
      "491/491 [==============================] - 0s 79us/step - loss: 0.4018 - accuracy: 0.8086\n",
      "Epoch 109/200\n",
      "491/491 [==============================] - 0s 58us/step - loss: 0.4102 - accuracy: 0.8126\n",
      "Epoch 110/200\n",
      "491/491 [==============================] - 0s 56us/step - loss: 0.4042 - accuracy: 0.8004\n",
      "Epoch 111/200\n",
      "491/491 [==============================] - 0s 57us/step - loss: 0.4030 - accuracy: 0.8086\n",
      "Epoch 112/200\n",
      "491/491 [==============================] - 0s 81us/step - loss: 0.4036 - accuracy: 0.8187\n",
      "Epoch 113/200\n",
      "491/491 [==============================] - 0s 71us/step - loss: 0.4065 - accuracy: 0.8065\n",
      "Epoch 114/200\n",
      "491/491 [==============================] - 0s 70us/step - loss: 0.3989 - accuracy: 0.8045\n",
      "Epoch 115/200\n",
      "491/491 [==============================] - 0s 100us/step - loss: 0.3981 - accuracy: 0.8024\n",
      "Epoch 116/200\n",
      "491/491 [==============================] - 0s 70us/step - loss: 0.3993 - accuracy: 0.8086\n",
      "Epoch 117/200\n",
      "491/491 [==============================] - 0s 112us/step - loss: 0.3997 - accuracy: 0.8208\n",
      "Epoch 118/200\n",
      "491/491 [==============================] - 0s 107us/step - loss: 0.4045 - accuracy: 0.7963\n",
      "Epoch 119/200\n",
      "491/491 [==============================] - 0s 100us/step - loss: 0.4000 - accuracy: 0.8289\n",
      "Epoch 120/200\n",
      "491/491 [==============================] - 0s 83us/step - loss: 0.3990 - accuracy: 0.8045\n",
      "Epoch 121/200\n",
      "491/491 [==============================] - 0s 74us/step - loss: 0.3983 - accuracy: 0.8106\n",
      "Epoch 122/200\n",
      "491/491 [==============================] - 0s 79us/step - loss: 0.4093 - accuracy: 0.8147\n",
      "Epoch 123/200\n",
      "491/491 [==============================] - 0s 106us/step - loss: 0.4098 - accuracy: 0.8147\n",
      "Epoch 124/200\n",
      "491/491 [==============================] - 0s 82us/step - loss: 0.4071 - accuracy: 0.8045\n",
      "Epoch 125/200\n",
      "491/491 [==============================] - 0s 78us/step - loss: 0.3943 - accuracy: 0.8126\n",
      "Epoch 126/200\n",
      "491/491 [==============================] - 0s 102us/step - loss: 0.3945 - accuracy: 0.8126\n",
      "Epoch 127/200\n",
      "491/491 [==============================] - 0s 71us/step - loss: 0.3938 - accuracy: 0.8106\n",
      "Epoch 128/200\n",
      "491/491 [==============================] - 0s 97us/step - loss: 0.3942 - accuracy: 0.8106\n",
      "Epoch 129/200\n",
      "491/491 [==============================] - 0s 76us/step - loss: 0.3949 - accuracy: 0.8167\n",
      "Epoch 130/200\n",
      "491/491 [==============================] - 0s 66us/step - loss: 0.4006 - accuracy: 0.8024\n",
      "Epoch 131/200\n",
      "491/491 [==============================] - 0s 85us/step - loss: 0.4043 - accuracy: 0.8106\n",
      "Epoch 132/200\n",
      "491/491 [==============================] - 0s 78us/step - loss: 0.3887 - accuracy: 0.8248\n",
      "Epoch 133/200\n",
      "491/491 [==============================] - 0s 67us/step - loss: 0.3935 - accuracy: 0.8106\n",
      "Epoch 134/200\n",
      "491/491 [==============================] - 0s 91us/step - loss: 0.3927 - accuracy: 0.8228\n",
      "Epoch 135/200\n",
      "491/491 [==============================] - 0s 70us/step - loss: 0.3922 - accuracy: 0.8065\n",
      "Epoch 136/200\n",
      "491/491 [==============================] - 0s 77us/step - loss: 0.3926 - accuracy: 0.8208\n",
      "Epoch 137/200\n",
      "491/491 [==============================] - 0s 111us/step - loss: 0.3953 - accuracy: 0.7984\n",
      "Epoch 138/200\n",
      "491/491 [==============================] - 0s 69us/step - loss: 0.4004 - accuracy: 0.8086\n",
      "Epoch 139/200\n",
      "491/491 [==============================] - 0s 95us/step - loss: 0.3919 - accuracy: 0.8208\n",
      "Epoch 140/200\n",
      "491/491 [==============================] - 0s 125us/step - loss: 0.3928 - accuracy: 0.8086\n",
      "Epoch 141/200\n",
      "491/491 [==============================] - 0s 84us/step - loss: 0.3928 - accuracy: 0.8147\n",
      "Epoch 142/200\n",
      "491/491 [==============================] - 0s 72us/step - loss: 0.3942 - accuracy: 0.8147\n",
      "Epoch 143/200\n",
      "491/491 [==============================] - 0s 89us/step - loss: 0.3890 - accuracy: 0.8086\n",
      "Epoch 144/200\n",
      "491/491 [==============================] - 0s 106us/step - loss: 0.3899 - accuracy: 0.8086\n",
      "Epoch 145/200\n",
      "491/491 [==============================] - 0s 102us/step - loss: 0.3965 - accuracy: 0.8126\n",
      "Epoch 146/200\n",
      "491/491 [==============================] - 0s 86us/step - loss: 0.3907 - accuracy: 0.8147\n",
      "Epoch 147/200\n",
      "491/491 [==============================] - 0s 144us/step - loss: 0.3971 - accuracy: 0.8065\n",
      "Epoch 148/200\n",
      "491/491 [==============================] - 0s 93us/step - loss: 0.3877 - accuracy: 0.8208\n",
      "Epoch 149/200\n",
      "491/491 [==============================] - 0s 86us/step - loss: 0.3894 - accuracy: 0.8187\n",
      "Epoch 150/200\n",
      "491/491 [==============================] - 0s 93us/step - loss: 0.3856 - accuracy: 0.8147\n",
      "Epoch 151/200\n",
      "491/491 [==============================] - 0s 78us/step - loss: 0.3859 - accuracy: 0.8147\n",
      "Epoch 152/200\n",
      "491/491 [==============================] - 0s 79us/step - loss: 0.3860 - accuracy: 0.8126\n",
      "Epoch 153/200\n",
      "491/491 [==============================] - 0s 94us/step - loss: 0.3837 - accuracy: 0.8208\n",
      "Epoch 154/200\n",
      "491/491 [==============================] - 0s 65us/step - loss: 0.3874 - accuracy: 0.8126\n",
      "Epoch 155/200\n",
      "491/491 [==============================] - ETA: 0s - loss: 0.3094 - accuracy: 0.84 - 0s 75us/step - loss: 0.3845 - accuracy: 0.8147\n",
      "Epoch 156/200\n",
      "491/491 [==============================] - 0s 94us/step - loss: 0.3858 - accuracy: 0.8167\n",
      "Epoch 157/200\n",
      "491/491 [==============================] - 0s 82us/step - loss: 0.3843 - accuracy: 0.8126\n",
      "Epoch 158/200\n"
     ]
    },
    {
     "name": "stdout",
     "output_type": "stream",
     "text": [
      "491/491 [==============================] - 0s 72us/step - loss: 0.3815 - accuracy: 0.8167\n",
      "Epoch 159/200\n",
      "491/491 [==============================] - 0s 65us/step - loss: 0.3839 - accuracy: 0.8147\n",
      "Epoch 160/200\n",
      "491/491 [==============================] - 0s 61us/step - loss: 0.3804 - accuracy: 0.8167\n",
      "Epoch 161/200\n",
      "491/491 [==============================] - 0s 77us/step - loss: 0.3815 - accuracy: 0.8187\n",
      "Epoch 162/200\n",
      "491/491 [==============================] - 0s 75us/step - loss: 0.3804 - accuracy: 0.8310\n",
      "Epoch 163/200\n",
      "491/491 [==============================] - 0s 60us/step - loss: 0.3839 - accuracy: 0.8228\n",
      "Epoch 164/200\n",
      "491/491 [==============================] - 0s 64us/step - loss: 0.3860 - accuracy: 0.8248\n",
      "Epoch 165/200\n",
      "491/491 [==============================] - 0s 61us/step - loss: 0.3893 - accuracy: 0.8289\n",
      "Epoch 166/200\n",
      "491/491 [==============================] - 0s 52us/step - loss: 0.3878 - accuracy: 0.8167\n",
      "Epoch 167/200\n",
      "491/491 [==============================] - 0s 58us/step - loss: 0.3836 - accuracy: 0.8065\n",
      "Epoch 168/200\n",
      "491/491 [==============================] - 0s 60us/step - loss: 0.3880 - accuracy: 0.8167\n",
      "Epoch 169/200\n",
      "491/491 [==============================] - 0s 51us/step - loss: 0.3851 - accuracy: 0.8228\n",
      "Epoch 170/200\n",
      "491/491 [==============================] - 0s 58us/step - loss: 0.3950 - accuracy: 0.8126\n",
      "Epoch 171/200\n",
      "491/491 [==============================] - 0s 64us/step - loss: 0.3959 - accuracy: 0.8187\n",
      "Epoch 172/200\n",
      "491/491 [==============================] - 0s 79us/step - loss: 0.3773 - accuracy: 0.8086\n",
      "Epoch 173/200\n",
      "491/491 [==============================] - 0s 70us/step - loss: 0.3828 - accuracy: 0.8187\n",
      "Epoch 174/200\n",
      "491/491 [==============================] - 0s 79us/step - loss: 0.3791 - accuracy: 0.8248\n",
      "Epoch 175/200\n",
      "491/491 [==============================] - 0s 56us/step - loss: 0.3805 - accuracy: 0.8269\n",
      "Epoch 176/200\n",
      "491/491 [==============================] - 0s 60us/step - loss: 0.3814 - accuracy: 0.8228\n",
      "Epoch 177/200\n",
      "491/491 [==============================] - 0s 62us/step - loss: 0.3779 - accuracy: 0.8228\n",
      "Epoch 178/200\n",
      "491/491 [==============================] - 0s 82us/step - loss: 0.3795 - accuracy: 0.8228\n",
      "Epoch 179/200\n",
      "491/491 [==============================] - 0s 58us/step - loss: 0.3762 - accuracy: 0.8208\n",
      "Epoch 180/200\n",
      "491/491 [==============================] - 0s 58us/step - loss: 0.3757 - accuracy: 0.8208\n",
      "Epoch 181/200\n",
      "491/491 [==============================] - 0s 51us/step - loss: 0.3759 - accuracy: 0.8208\n",
      "Epoch 182/200\n",
      "491/491 [==============================] - 0s 52us/step - loss: 0.3733 - accuracy: 0.8289\n",
      "Epoch 183/200\n",
      "491/491 [==============================] - 0s 63us/step - loss: 0.3785 - accuracy: 0.8228\n",
      "Epoch 184/200\n",
      "491/491 [==============================] - 0s 51us/step - loss: 0.3788 - accuracy: 0.8269\n",
      "Epoch 185/200\n",
      "491/491 [==============================] - 0s 50us/step - loss: 0.3759 - accuracy: 0.8228\n",
      "Epoch 186/200\n",
      "491/491 [==============================] - 0s 90us/step - loss: 0.3747 - accuracy: 0.8228\n",
      "Epoch 187/200\n",
      "491/491 [==============================] - 0s 78us/step - loss: 0.3743 - accuracy: 0.8187\n",
      "Epoch 188/200\n",
      "491/491 [==============================] - 0s 77us/step - loss: 0.3772 - accuracy: 0.8248\n",
      "Epoch 189/200\n",
      "491/491 [==============================] - 0s 53us/step - loss: 0.3747 - accuracy: 0.8269\n",
      "Epoch 190/200\n",
      "491/491 [==============================] - 0s 52us/step - loss: 0.3742 - accuracy: 0.8310\n",
      "Epoch 191/200\n",
      "491/491 [==============================] - 0s 52us/step - loss: 0.3768 - accuracy: 0.8147\n",
      "Epoch 192/200\n",
      "491/491 [==============================] - 0s 66us/step - loss: 0.3687 - accuracy: 0.8310\n",
      "Epoch 193/200\n",
      "491/491 [==============================] - 0s 68us/step - loss: 0.3728 - accuracy: 0.8269\n",
      "Epoch 194/200\n",
      "491/491 [==============================] - 0s 53us/step - loss: 0.3732 - accuracy: 0.8167\n",
      "Epoch 195/200\n",
      "491/491 [==============================] - 0s 50us/step - loss: 0.3812 - accuracy: 0.8147\n",
      "Epoch 196/200\n",
      "491/491 [==============================] - 0s 67us/step - loss: 0.3686 - accuracy: 0.8310\n",
      "Epoch 197/200\n",
      "491/491 [==============================] - 0s 50us/step - loss: 0.3706 - accuracy: 0.8269\n",
      "Epoch 198/200\n",
      "491/491 [==============================] - 0s 57us/step - loss: 0.3748 - accuracy: 0.8147\n",
      "Epoch 199/200\n",
      "491/491 [==============================] - 0s 55us/step - loss: 0.3721 - accuracy: 0.8208\n",
      "Epoch 200/200\n",
      "491/491 [==============================] - 0s 81us/step - loss: 0.3692 - accuracy: 0.8350\n"
     ]
    },
    {
     "data": {
      "text/plain": [
       "<keras.callbacks.callbacks.History at 0x1d0d63e9c88>"
      ]
     },
     "execution_count": 65,
     "metadata": {},
     "output_type": "execute_result"
    }
   ],
   "source": [
    "# fit 함수를 통해 훈련시킨다. epochs 는 동일한 데이터를 몇 번 반복시켜서 훈련 시킬 것이느냐다.\n",
    "\n",
    "model.fit(X_train, y_train, epochs=200)"
   ]
  },
  {
   "cell_type": "markdown",
   "metadata": {},
   "source": [
    "책에서는 최대 90% 까지 정확도를 냈지만, 여기선 83% 가 최선이다. 표준화 방법이 달라서 그렇다."
   ]
  },
  {
   "cell_type": "markdown",
   "metadata": {},
   "source": [
    "## 2.9 Evaluation"
   ]
  },
  {
   "cell_type": "markdown",
   "metadata": {},
   "source": [
    "### 2.9.1 Test Accuracy"
   ]
  },
  {
   "cell_type": "code",
   "execution_count": 66,
   "metadata": {},
   "outputs": [
    {
     "name": "stdout",
     "output_type": "stream",
     "text": [
      "491/491 [==============================] - 0s 88us/step\n",
      "[0.3649964273097316, 0.8350305557250977]\n",
      "154/154 [==============================] - 0s 70us/step\n",
      "[0.5151532493628465, 0.7467532753944397]\n"
     ]
    }
   ],
   "source": [
    "# 모델 성능은 evaluate() 함수가 있다고 한다.\n",
    "\n",
    "scores = model.evaluate(X_train, y_train)\n",
    "print(scores)\n",
    "\n",
    "scores2 = model.evaluate(X_test, y_test)\n",
    "print(scores2)"
   ]
  },
  {
   "cell_type": "markdown",
   "metadata": {},
   "source": [
    "뒤에 있는 게 정확도이며, 트래인 셋은 83%, 테스트 셋은 74% 책보다 약 4% 낮다."
   ]
  },
  {
   "cell_type": "markdown",
   "metadata": {},
   "source": [
    "### 2.9.2 Confusion Matrix"
   ]
  },
  {
   "cell_type": "markdown",
   "metadata": {},
   "source": [
    "Confusion Matrix는 이미 알고 있으니 따로 여기에 이론을 적진 않겠다. 확인만 하자."
   ]
  },
  {
   "cell_type": "code",
   "execution_count": 75,
   "metadata": {},
   "outputs": [],
   "source": [
    "from sklearn.metrics import confusion_matrix\n",
    "from sklearn.metrics import precision_score, recall_score, f1_score, accuracy_score"
   ]
  },
  {
   "cell_type": "code",
   "execution_count": 69,
   "metadata": {},
   "outputs": [
    {
     "data": {
      "image/png": "[encoded data removed]",
      "text/plain": [
       "<Figure size 432x288 with 1 Axes>"
      ]
     },
     "metadata": {
      "needs_background": "light"
     },
     "output_type": "display_data"
    },
    {
     "data": {
      "text/plain": [
       "<Figure size 432x288 with 0 Axes>"
      ]
     },
     "metadata": {},
     "output_type": "display_data"
    }
   ],
   "source": [
    "y_test_pred = model.predict_classes(X_test) # 예측 값을 할당해주고,\n",
    "c_matrix = confusion_matrix(y_test, y_test_pred) # cm을 행렬로 할당해주고.\n",
    "\n",
    "ax = sns.heatmap(c_matrix, annot=True, # 그걸로 시각화 해줍니다.\n",
    "                xticklabels=['No Diabetes', 'Diabetes'],\n",
    "                yticklabels=['No Diabetes', 'Diabetes'],\n",
    "                cbar=False, cmap='Blues')\n",
    "ax.set_xlabel(\"Prediction\")\n",
    "ax.set_ylabel(\"Actual\")\n",
    "plt.show()\n",
    "plt.clf()"
   ]
  },
  {
   "cell_type": "code",
   "execution_count": 76,
   "metadata": {},
   "outputs": [
    {
     "name": "stdout",
     "output_type": "stream",
     "text": [
      "0.7467532467532467\n",
      "0.6382978723404256\n",
      "0.5769230769230769\n",
      "0.6060606060606061\n"
     ]
    }
   ],
   "source": [
    "print(accuracy_score(y_test, y_test_pred))\n",
    "print(precision_score(y_test, y_test_pred))\n",
    "print(recall_score(y_test, y_test_pred))\n",
    "print(f1_score(y_test, y_test_pred))"
   ]
  },
  {
   "cell_type": "markdown",
   "metadata": {},
   "source": [
    "### 2.9.3 ROC Curve"
   ]
  },
  {
   "cell_type": "markdown",
   "metadata": {},
   "source": [
    "ROC curve와 AUC도 이미 알고 있으니 수치만 확인하겠다."
   ]
  },
  {
   "cell_type": "code",
   "execution_count": 77,
   "metadata": {},
   "outputs": [],
   "source": [
    "from sklearn.metrics import roc_curve, roc_auc_score"
   ]
  },
  {
   "cell_type": "code",
   "execution_count": 78,
   "metadata": {},
   "outputs": [],
   "source": [
    "# predict() 함수를 사용해 각 클래스의 확률 예측값을 계산한다.\n",
    "\n",
    "y_test_pred_probs = model.predict(X_test)"
   ]
  },
  {
   "cell_type": "code",
   "execution_count": 79,
   "metadata": {},
   "outputs": [],
   "source": [
    "# roc_curve 함수를 호출해 roc곡선에 필요한 FPR, TPR을 가져온다.\n",
    "\n",
    "FPR, TPR, _ = roc_curve(y_test, y_test_pred_probs)"
   ]
  },
  {
   "cell_type": "code",
   "execution_count": 81,
   "metadata": {},
   "outputs": [
    {
     "data": {
      "image/png": "[encoded data removed]",
      "text/plain": [
       "<Figure size 432x288 with 1 Axes>"
      ]
     },
     "metadata": {
      "needs_background": "light"
     },
     "output_type": "display_data"
    },
    {
     "data": {
      "text/plain": [
       "<Figure size 432x288 with 0 Axes>"
      ]
     },
     "metadata": {},
     "output_type": "display_data"
    }
   ],
   "source": [
    "plt.plot(FPR, TPR)\n",
    "plt.plot([0,1], [0,1], '--', color='black') # 기준 대각선 그린다.\n",
    "plt.title('ROC Curve')\n",
    "plt.xlabel('False Positive Rate')\n",
    "plt.ylabel('True Positive Rate')\n",
    "plt.show()\n",
    "plt.clf()"
   ]
  },
  {
   "cell_type": "markdown",
   "metadata": {},
   "source": [
    "#### Feature Engineering 을 통한 모델 개선은 생략한다."
   ]
  }
 ],
 "metadata": {
  "kernelspec": {
   "display_name": "Python 3",
   "language": "python",
   "name": "python3"
  },
  "language_info": {
   "codemirror_mode": {
    "name": "ipython",
    "version": 3
   },
   "file_extension": ".py",
   "mimetype": "text/x-python",
   "name": "python",
   "nbconvert_exporter": "python",
   "pygments_lexer": "ipython3",
   "version": "3.7.7"
  }
 },
 "nbformat": 4,
 "nbformat_minor": 4
}
