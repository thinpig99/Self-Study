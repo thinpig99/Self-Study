{
 "cells": [
  {
   "cell_type": "code",
   "execution_count": 1,
   "metadata": {},
   "outputs": [],
   "source": [
    "def solution(number, k):\n",
    "    \n",
    "    from random import sample \n",
    "    \n",
    "    return sample(number, k)"
   ]
  },
  {
   "cell_type": "code",
   "execution_count": 24,
   "metadata": {},
   "outputs": [],
   "source": [
    "import numpy as np"
   ]
  },
  {
   "cell_type": "code",
   "execution_count": 2,
   "metadata": {},
   "outputs": [],
   "source": [
    "from random import sample"
   ]
  },
  {
   "cell_type": "code",
   "execution_count": 7,
   "metadata": {},
   "outputs": [
    {
     "data": {
      "text/plain": [
       "['4', '3']"
      ]
     },
     "execution_count": 7,
     "metadata": {},
     "output_type": "execute_result"
    }
   ],
   "source": [
    "sample('1234', 2)"
   ]
  },
  {
   "cell_type": "code",
   "execution_count": 40,
   "metadata": {},
   "outputs": [],
   "source": [
    "number = '19624'\n",
    "\n",
    "k = 3"
   ]
  },
  {
   "cell_type": "code",
   "execution_count": 41,
   "metadata": {},
   "outputs": [],
   "source": [
    "list_ = np.array([int(char) for char in number])"
   ]
  },
  {
   "cell_type": "code",
   "execution_count": 42,
   "metadata": {},
   "outputs": [
    {
     "data": {
      "text/plain": [
       "array([1, 9, 6, 2, 4])"
      ]
     },
     "execution_count": 42,
     "metadata": {},
     "output_type": "execute_result"
    }
   ],
   "source": [
    "list_"
   ]
  },
  {
   "cell_type": "code",
   "execution_count": 107,
   "metadata": {},
   "outputs": [],
   "source": [
    "diction = {}\n",
    "\n",
    "for i, h in enumerate(list_):\n",
    "    diction[h] = i"
   ]
  },
  {
   "cell_type": "code",
   "execution_count": 108,
   "metadata": {},
   "outputs": [
    {
     "data": {
      "text/plain": [
       "{1: 0, 9: 1, 6: 2, 2: 3, 4: 4}"
      ]
     },
     "execution_count": 108,
     "metadata": {},
     "output_type": "execute_result"
    }
   ],
   "source": [
    "diction"
   ]
  },
  {
   "cell_type": "code",
   "execution_count": 109,
   "metadata": {},
   "outputs": [
    {
     "data": {
      "text/plain": [
       "{1: 0, 9: 1, 6: 2, 2: 3, 4: 4}"
      ]
     },
     "execution_count": 109,
     "metadata": {},
     "output_type": "execute_result"
    }
   ],
   "source": [
    "diction"
   ]
  },
  {
   "cell_type": "code",
   "execution_count": 110,
   "metadata": {},
   "outputs": [],
   "source": [
    "dict_list = [value for value in diction.keys()]"
   ]
  },
  {
   "cell_type": "code",
   "execution_count": 111,
   "metadata": {},
   "outputs": [
    {
     "data": {
      "text/plain": [
       "[1, 9, 6, 2, 4]"
      ]
     },
     "execution_count": 111,
     "metadata": {},
     "output_type": "execute_result"
    }
   ],
   "source": [
    "dict_list"
   ]
  },
  {
   "cell_type": "code",
   "execution_count": 105,
   "metadata": {},
   "outputs": [
    {
     "data": {
      "text/plain": [
       "3"
      ]
     },
     "execution_count": 105,
     "metadata": {},
     "output_type": "execute_result"
    }
   ],
   "source": [
    "diction[2]"
   ]
  },
  {
   "cell_type": "code",
   "execution_count": 117,
   "metadata": {},
   "outputs": [
    {
     "data": {
      "text/plain": [
       "9"
      ]
     },
     "execution_count": 117,
     "metadata": {},
     "output_type": "execute_result"
    }
   ],
   "source": [
    "first = max(dict_list[:-k+1])\n",
    "max(dict_list[:-k+1])"
   ]
  },
  {
   "cell_type": "code",
   "execution_count": 120,
   "metadata": {},
   "outputs": [],
   "source": [
    "dict_list_2 = dict_list[diction[first]+1:]"
   ]
  },
  {
   "cell_type": "code",
   "execution_count": 122,
   "metadata": {},
   "outputs": [
    {
     "data": {
      "text/plain": [
       "6"
      ]
     },
     "execution_count": 122,
     "metadata": {},
     "output_type": "execute_result"
    }
   ],
   "source": [
    "second = max(dict_list_2[:-k+1])\n",
    "max(dict_list_2[:-k+1])"
   ]
  },
  {
   "cell_type": "code",
   "execution_count": 123,
   "metadata": {},
   "outputs": [],
   "source": [
    "dict_list_3 = dict_list[diction[second]+1:]"
   ]
  },
  {
   "cell_type": "code",
   "execution_count": 128,
   "metadata": {},
   "outputs": [
    {
     "data": {
      "text/plain": [
       "4"
      ]
     },
     "execution_count": 128,
     "metadata": {},
     "output_type": "execute_result"
    }
   ],
   "source": [
    "third = max(dict_list_3)\n",
    "max(dict_list_3)"
   ]
  },
  {
   "cell_type": "code",
   "execution_count": 223,
   "metadata": {},
   "outputs": [],
   "source": [
    "number = '19624'\n",
    "\n",
    "k = 3"
   ]
  },
  {
   "cell_type": "code",
   "execution_count": 239,
   "metadata": {},
   "outputs": [],
   "source": [
    "def solution(number, k):\n",
    "    \n",
    "    number_list = np.array([int(char) for char in number])\n",
    "\n",
    "    iter_number_list = number_list.copy()\n",
    "    output = []\n",
    "    for i in range(len(number_list)- k):\n",
    "        print(i)\n",
    "        try: # 마지막 넘버만 빼고 진행됩니다.\n",
    "            number, iter_number_list = make_max_others(iter_number_list, number_list)\n",
    "            output.append(number)\n",
    "            print(output)\n",
    "            print(iter_number_list)\n",
    "        except: # 마지막 넘버는 에러가 뜹니다.\n",
    "            output.append(max(iter_number_list))\n",
    "\n",
    "    final = ''.join(str(e) for e in output)\n",
    "    print(final)\n",
    "    return final"
   ]
  },
  {
   "cell_type": "code",
   "execution_count": 240,
   "metadata": {},
   "outputs": [
    {
     "name": "stdout",
     "output_type": "stream",
     "text": [
      "0\n",
      "[9]\n",
      "[3, 8, 2]\n",
      "9\n"
     ]
    },
    {
     "data": {
      "text/plain": [
       "'9'"
      ]
     },
     "execution_count": 240,
     "metadata": {},
     "output_type": "execute_result"
    }
   ],
   "source": [
    "solution('193823', 4)"
   ]
  },
  {
   "cell_type": "code",
   "execution_count": 265,
   "metadata": {},
   "outputs": [],
   "source": [
    "def make_max_others(number_list, origin_number_list):\n",
    "    number = max(number_list[:-(len(number_list) - k) + 1])\n",
    "    number_list = origin_dict_list[:-(len(number_list) - k) + 1]\n",
    "    \n",
    "    return number, number_list"
   ]
  },
  {
   "cell_type": "code",
   "execution_count": 470,
   "metadata": {},
   "outputs": [],
   "source": [
    "number = '4177252841'\n",
    "k = 4"
   ]
  },
  {
   "cell_type": "code",
   "execution_count": 471,
   "metadata": {},
   "outputs": [],
   "source": [
    "number_list = np.array([int(char) for char in number])"
   ]
  },
  {
   "cell_type": "code",
   "execution_count": 472,
   "metadata": {},
   "outputs": [],
   "source": [
    "def make_new_number_list(list_, idx_list):\n",
    "    for i in idx_list:\n",
    "        list_ = list_[i+1:]\n",
    "        \n",
    "    return list_"
   ]
  },
  {
   "cell_type": "code",
   "execution_count": 494,
   "metadata": {},
   "outputs": [],
   "source": [
    "def solution(number, k):\n",
    "\n",
    "    number_list = np.array([int(char) for char in number])\n",
    "\n",
    "    idx_list = []\n",
    "    value_list = []\n",
    "    idx=0\n",
    "\n",
    "    for i in range(len(number_list) - k):\n",
    "        if i == 0: # 첫번째 엘리먼트\n",
    "            new_number_list = number_list[:k+1]\n",
    "            idx = np.argmax(new_number_list)\n",
    "            value = np.max(new_number_list)\n",
    "            idx_list.append(idx)\n",
    "            value_list.append(value)\n",
    "\n",
    "        elif i == 1: #두번째 엘리먼트\n",
    "            new_number_list = number_list[idx+1:k+i+1]\n",
    "            idx = np.argmax(new_number_list)\n",
    "            value = np.max(new_number_list)\n",
    "            idx_list.append(idx)\n",
    "            value_list.append(value)\n",
    "\n",
    "        else: # 중간 엘리먼트\n",
    "            new_number_list = make_new_number_list(number_list, idx_list)\n",
    "            new_number_list = new_number_list[:-(k)+i-1]\n",
    "            try:\n",
    "                idx = np.argmax(new_number_list)\n",
    "                value = np.max(new_number_list)\n",
    "\n",
    "                idx_list.append(idx)\n",
    "                value_list.append(value)\n",
    "            except:\n",
    "                new_number_list = make_new_number_list(number_list, idx_list)\n",
    "                for i in new_number_list:\n",
    "                    value_list.append(i)\n",
    "                break\n",
    "\n",
    "    final = ''.join(str(e) for e in value_list)\n",
    "    return final"
   ]
  },
  {
   "cell_type": "code",
   "execution_count": 495,
   "metadata": {},
   "outputs": [
    {
     "data": {
      "text/plain": [
       "'775841'"
      ]
     },
     "execution_count": 495,
     "metadata": {},
     "output_type": "execute_result"
    }
   ],
   "source": [
    "solution('4177252841', 4)"
   ]
  },
  {
   "cell_type": "code",
   "execution_count": 496,
   "metadata": {},
   "outputs": [
    {
     "data": {
      "text/plain": [
       "'3234'"
      ]
     },
     "execution_count": 496,
     "metadata": {},
     "output_type": "execute_result"
    }
   ],
   "source": [
    "solution('1231234', 3)"
   ]
  },
  {
   "cell_type": "code",
   "execution_count": 497,
   "metadata": {},
   "outputs": [
    {
     "data": {
      "text/plain": [
       "'94'"
      ]
     },
     "execution_count": 497,
     "metadata": {},
     "output_type": "execute_result"
    }
   ],
   "source": [
    "solution('1924', 2)"
   ]
  },
  {
   "cell_type": "code",
   "execution_count": 485,
   "metadata": {},
   "outputs": [
    {
     "data": {
      "text/plain": [
       "array([4, 1, 7, 7, 2, 5, 2, 8, 4, 1])"
      ]
     },
     "execution_count": 485,
     "metadata": {},
     "output_type": "execute_result"
    }
   ],
   "source": [
    "number_list"
   ]
  },
  {
   "cell_type": "code",
   "execution_count": null,
   "metadata": {},
   "outputs": [],
   "source": []
  }
 ],
 "metadata": {
  "kernelspec": {
   "display_name": "Python 3",
   "language": "python",
   "name": "python3"
  },
  "language_info": {
   "codemirror_mode": {
    "name": "ipython",
    "version": 3
   },
   "file_extension": ".py",
   "mimetype": "text/x-python",
   "name": "python",
   "nbconvert_exporter": "python",
   "pygments_lexer": "ipython3",
   "version": "3.7.7"
  }
 },
 "nbformat": 4,
 "nbformat_minor": 4
}
