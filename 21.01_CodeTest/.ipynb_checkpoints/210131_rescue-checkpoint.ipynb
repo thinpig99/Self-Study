{
 "cells": [
  {
   "cell_type": "code",
   "execution_count": 34,
   "metadata": {},
   "outputs": [],
   "source": [
    "import numpy as np\n",
    "import math"
   ]
  },
  {
   "cell_type": "code",
   "execution_count": 1,
   "metadata": {},
   "outputs": [],
   "source": [
    "def solution(people, limit):\n",
    "    answer = 0\n",
    "    return answer"
   ]
  },
  {
   "cell_type": "code",
   "execution_count": 50,
   "metadata": {},
   "outputs": [],
   "source": [
    "people = [40, 40, 40, 40]\n",
    "limit = 200"
   ]
  },
  {
   "cell_type": "markdown",
   "metadata": {},
   "source": [
    "1. limit의 절반으로 나눈 값이 1개 뿐이거나 or 없다면, 모든 사람의 수가 보트의 횟수가 된다.\n",
    "2. limit의 절반 미만의 값이 있다면 모든 합을 limit로 나눈 몫의 올림이다."
   ]
  },
  {
   "cell_type": "code",
   "execution_count": 58,
   "metadata": {},
   "outputs": [
    {
     "name": "stdout",
     "output_type": "stream",
     "text": [
      "here\n"
     ]
    }
   ],
   "source": [
    "people_ = np.array(people)\n",
    "\n",
    "if len(np.where(people_ <= limit/2)[0]) <= 1:\n",
    "    answer = len(people)\n",
    "else:\n",
    "    if np.sum(people_)/limit < 1:\n",
    "        print('here')\n",
    "        answer = math.ceil(len(people_)/2)\n",
    "    else:\n",
    "        answer = math.ceil(np.sum(people_)/limit)"
   ]
  },
  {
   "cell_type": "code",
   "execution_count": 59,
   "metadata": {},
   "outputs": [
    {
     "data": {
      "text/plain": [
       "2"
      ]
     },
     "execution_count": 59,
     "metadata": {},
     "output_type": "execute_result"
    }
   ],
   "source": [
    "answer"
   ]
  }
 ],
 "metadata": {
  "kernelspec": {
   "display_name": "Python 3",
   "language": "python",
   "name": "python3"
  },
  "language_info": {
   "codemirror_mode": {
    "name": "ipython",
    "version": 3
   },
   "file_extension": ".py",
   "mimetype": "text/x-python",
   "name": "python",
   "nbconvert_exporter": "python",
   "pygments_lexer": "ipython3",
   "version": "3.7.7"
  }
 },
 "nbformat": 4,
 "nbformat_minor": 4
}
