{
 "cells": [
  {
   "cell_type": "markdown",
   "metadata": {},
   "source": [
    "# Chapter_01_EDA"
   ]
  },
  {
   "cell_type": "markdown",
   "metadata": {},
   "source": [
    "## 1.1 EDA Process"
   ]
  },
  {
   "cell_type": "markdown",
   "metadata": {},
   "source": [
    "EDA에 대한 간략한 과정을 설명하도록 하겠다.\n",
    "\n",
    "- 일단 데이터의 출처와 주제에 대해 이해한다.( 가장 중요하다. 긴 시간이 걸려도 좋다.)\n",
    "- 데이터의 크기를 알아본다.\n",
    "- 데이터의 구성요소를 알아본다.\n",
    "\n",
    "- feature의 속성 탐색\n",
    "- feature간의 상관관계 탐색\n",
    "\n",
    "- 데이터의 시각화\n",
    "\n",
    "보통 이정도로 이루어진다고 보면 된다."
   ]
  },
  {
   "cell_type": "markdown",
   "metadata": {},
   "source": [
    "## 1.2 멕시코풍 프랜차이즈 chipotle의 주문 데이터 분석하기"
   ]
  },
  {
   "cell_type": "markdown",
   "metadata": {},
   "source": [
    "가장 먼저 이 데이터로부터 얻고자 하는 goal 을 확립한다.\n",
    "\n",
    "- 가장 많이 판매된 메뉴 top10 은 무엇일까?\n",
    "- 메뉴별 판매량은 얼마나 될까?\n",
    "- 메뉴별 가격대는 얼마일까?"
   ]
  },
  {
   "cell_type": "markdown",
   "metadata": {},
   "source": [
    "### 1.2.1 데이터의 기초 정보 살펴보기"
   ]
  },
  {
   "cell_type": "code",
   "execution_count": 2,
   "metadata": {},
   "outputs": [],
   "source": [
    "# 분석에 사용할 기본적인 라이브러리를 임포트 해준다.\n",
    "# 넘파이, 판다스, 맷플롭립이다.\n",
    "\n",
    "import numpy as np\n",
    "import pandas as pd\n",
    "%matplotlib inline\n",
    "import matplotlib.pyplot as plt"
   ]
  },
  {
   "cell_type": "code",
   "execution_count": 2,
   "metadata": {},
   "outputs": [],
   "source": [
    "# 파일을 불러와준다. \n",
    "\n",
    "file_path = (r\"C:\\users\\thinp\\data\\chipotle.tsv\")\n",
    "chipo = pd.read_csv(file_path, sep = '\\t')"
   ]
  },
  {
   "cell_type": "code",
   "execution_count": 3,
   "metadata": {},
   "outputs": [
    {
     "data": {
      "text/plain": [
       "(4622, 5)"
      ]
     },
     "execution_count": 3,
     "metadata": {},
     "output_type": "execute_result"
    }
   ],
   "source": [
    "# 가장 먼저 데이터셋의 크기를 알아본다.\n",
    "\n",
    "chipo.shape"
   ]
  },
  {
   "cell_type": "code",
   "execution_count": 4,
   "metadata": {},
   "outputs": [
    {
     "name": "stdout",
     "output_type": "stream",
     "text": [
      "<class 'pandas.core.frame.DataFrame'>\n",
      "RangeIndex: 4622 entries, 0 to 4621\n",
      "Data columns (total 5 columns):\n",
      "order_id              4622 non-null int64\n",
      "quantity              4622 non-null int64\n",
      "item_name             4622 non-null object\n",
      "choice_description    3376 non-null object\n",
      "item_price            4622 non-null object\n",
      "dtypes: int64(2), object(3)\n",
      "memory usage: 180.6+ KB\n"
     ]
    }
   ],
   "source": [
    "# 데이터 타입에 대해서 알아보자.\n",
    "\n",
    "chipo.info()"
   ]
  },
  {
   "cell_type": "code",
   "execution_count": 5,
   "metadata": {},
   "outputs": [
    {
     "data": {
      "text/html": [
       "<div>\n",
       "<style scoped>\n",
       "    .dataframe tbody tr th:only-of-type {\n",
       "        vertical-align: middle;\n",
       "    }\n",
       "\n",
       "    .dataframe tbody tr th {\n",
       "        vertical-align: top;\n",
       "    }\n",
       "\n",
       "    .dataframe thead th {\n",
       "        text-align: right;\n",
       "    }\n",
       "</style>\n",
       "<table border=\"1\" class=\"dataframe\">\n",
       "  <thead>\n",
       "    <tr style=\"text-align: right;\">\n",
       "      <th></th>\n",
       "      <th>order_id</th>\n",
       "      <th>quantity</th>\n",
       "      <th>item_name</th>\n",
       "      <th>choice_description</th>\n",
       "      <th>item_price</th>\n",
       "    </tr>\n",
       "  </thead>\n",
       "  <tbody>\n",
       "    <tr>\n",
       "      <th>0</th>\n",
       "      <td>1</td>\n",
       "      <td>1</td>\n",
       "      <td>Chips and Fresh Tomato Salsa</td>\n",
       "      <td>NaN</td>\n",
       "      <td>$2.39</td>\n",
       "    </tr>\n",
       "    <tr>\n",
       "      <th>1</th>\n",
       "      <td>1</td>\n",
       "      <td>1</td>\n",
       "      <td>Izze</td>\n",
       "      <td>[Clementine]</td>\n",
       "      <td>$3.39</td>\n",
       "    </tr>\n",
       "    <tr>\n",
       "      <th>2</th>\n",
       "      <td>1</td>\n",
       "      <td>1</td>\n",
       "      <td>Nantucket Nectar</td>\n",
       "      <td>[Apple]</td>\n",
       "      <td>$3.39</td>\n",
       "    </tr>\n",
       "    <tr>\n",
       "      <th>3</th>\n",
       "      <td>1</td>\n",
       "      <td>1</td>\n",
       "      <td>Chips and Tomatillo-Green Chili Salsa</td>\n",
       "      <td>NaN</td>\n",
       "      <td>$2.39</td>\n",
       "    </tr>\n",
       "    <tr>\n",
       "      <th>4</th>\n",
       "      <td>2</td>\n",
       "      <td>2</td>\n",
       "      <td>Chicken Bowl</td>\n",
       "      <td>[Tomatillo-Red Chili Salsa (Hot), [Black Beans...</td>\n",
       "      <td>$16.98</td>\n",
       "    </tr>\n",
       "    <tr>\n",
       "      <th>5</th>\n",
       "      <td>3</td>\n",
       "      <td>1</td>\n",
       "      <td>Chicken Bowl</td>\n",
       "      <td>[Fresh Tomato Salsa (Mild), [Rice, Cheese, Sou...</td>\n",
       "      <td>$10.98</td>\n",
       "    </tr>\n",
       "    <tr>\n",
       "      <th>6</th>\n",
       "      <td>3</td>\n",
       "      <td>1</td>\n",
       "      <td>Side of Chips</td>\n",
       "      <td>NaN</td>\n",
       "      <td>$1.69</td>\n",
       "    </tr>\n",
       "    <tr>\n",
       "      <th>7</th>\n",
       "      <td>4</td>\n",
       "      <td>1</td>\n",
       "      <td>Steak Burrito</td>\n",
       "      <td>[Tomatillo Red Chili Salsa, [Fajita Vegetables...</td>\n",
       "      <td>$11.75</td>\n",
       "    </tr>\n",
       "    <tr>\n",
       "      <th>8</th>\n",
       "      <td>4</td>\n",
       "      <td>1</td>\n",
       "      <td>Steak Soft Tacos</td>\n",
       "      <td>[Tomatillo Green Chili Salsa, [Pinto Beans, Ch...</td>\n",
       "      <td>$9.25</td>\n",
       "    </tr>\n",
       "    <tr>\n",
       "      <th>9</th>\n",
       "      <td>5</td>\n",
       "      <td>1</td>\n",
       "      <td>Steak Burrito</td>\n",
       "      <td>[Fresh Tomato Salsa, [Rice, Black Beans, Pinto...</td>\n",
       "      <td>$9.25</td>\n",
       "    </tr>\n",
       "    <tr>\n",
       "      <th>10</th>\n",
       "      <td>5</td>\n",
       "      <td>1</td>\n",
       "      <td>Chips and Guacamole</td>\n",
       "      <td>NaN</td>\n",
       "      <td>$4.45</td>\n",
       "    </tr>\n",
       "    <tr>\n",
       "      <th>11</th>\n",
       "      <td>6</td>\n",
       "      <td>1</td>\n",
       "      <td>Chicken Crispy Tacos</td>\n",
       "      <td>[Roasted Chili Corn Salsa, [Fajita Vegetables,...</td>\n",
       "      <td>$8.75</td>\n",
       "    </tr>\n",
       "    <tr>\n",
       "      <th>12</th>\n",
       "      <td>6</td>\n",
       "      <td>1</td>\n",
       "      <td>Chicken Soft Tacos</td>\n",
       "      <td>[Roasted Chili Corn Salsa, [Rice, Black Beans,...</td>\n",
       "      <td>$8.75</td>\n",
       "    </tr>\n",
       "    <tr>\n",
       "      <th>13</th>\n",
       "      <td>7</td>\n",
       "      <td>1</td>\n",
       "      <td>Chicken Bowl</td>\n",
       "      <td>[Fresh Tomato Salsa, [Fajita Vegetables, Rice,...</td>\n",
       "      <td>$11.25</td>\n",
       "    </tr>\n",
       "    <tr>\n",
       "      <th>14</th>\n",
       "      <td>7</td>\n",
       "      <td>1</td>\n",
       "      <td>Chips and Guacamole</td>\n",
       "      <td>NaN</td>\n",
       "      <td>$4.45</td>\n",
       "    </tr>\n",
       "    <tr>\n",
       "      <th>15</th>\n",
       "      <td>8</td>\n",
       "      <td>1</td>\n",
       "      <td>Chips and Tomatillo-Green Chili Salsa</td>\n",
       "      <td>NaN</td>\n",
       "      <td>$2.39</td>\n",
       "    </tr>\n",
       "    <tr>\n",
       "      <th>16</th>\n",
       "      <td>8</td>\n",
       "      <td>1</td>\n",
       "      <td>Chicken Burrito</td>\n",
       "      <td>[Tomatillo-Green Chili Salsa (Medium), [Pinto ...</td>\n",
       "      <td>$8.49</td>\n",
       "    </tr>\n",
       "    <tr>\n",
       "      <th>17</th>\n",
       "      <td>9</td>\n",
       "      <td>1</td>\n",
       "      <td>Chicken Burrito</td>\n",
       "      <td>[Fresh Tomato Salsa (Mild), [Black Beans, Rice...</td>\n",
       "      <td>$8.49</td>\n",
       "    </tr>\n",
       "    <tr>\n",
       "      <th>18</th>\n",
       "      <td>9</td>\n",
       "      <td>2</td>\n",
       "      <td>Canned Soda</td>\n",
       "      <td>[Sprite]</td>\n",
       "      <td>$2.18</td>\n",
       "    </tr>\n",
       "    <tr>\n",
       "      <th>19</th>\n",
       "      <td>10</td>\n",
       "      <td>1</td>\n",
       "      <td>Chicken Bowl</td>\n",
       "      <td>[Tomatillo Red Chili Salsa, [Fajita Vegetables...</td>\n",
       "      <td>$8.75</td>\n",
       "    </tr>\n",
       "  </tbody>\n",
       "</table>\n",
       "</div>"
      ],
      "text/plain": [
       "    order_id  quantity                              item_name  \\\n",
       "0          1         1           Chips and Fresh Tomato Salsa   \n",
       "1          1         1                                   Izze   \n",
       "2          1         1                       Nantucket Nectar   \n",
       "3          1         1  Chips and Tomatillo-Green Chili Salsa   \n",
       "4          2         2                           Chicken Bowl   \n",
       "5          3         1                           Chicken Bowl   \n",
       "6          3         1                          Side of Chips   \n",
       "7          4         1                          Steak Burrito   \n",
       "8          4         1                       Steak Soft Tacos   \n",
       "9          5         1                          Steak Burrito   \n",
       "10         5         1                    Chips and Guacamole   \n",
       "11         6         1                   Chicken Crispy Tacos   \n",
       "12         6         1                     Chicken Soft Tacos   \n",
       "13         7         1                           Chicken Bowl   \n",
       "14         7         1                    Chips and Guacamole   \n",
       "15         8         1  Chips and Tomatillo-Green Chili Salsa   \n",
       "16         8         1                        Chicken Burrito   \n",
       "17         9         1                        Chicken Burrito   \n",
       "18         9         2                            Canned Soda   \n",
       "19        10         1                           Chicken Bowl   \n",
       "\n",
       "                                   choice_description item_price  \n",
       "0                                                 NaN     $2.39   \n",
       "1                                        [Clementine]     $3.39   \n",
       "2                                             [Apple]     $3.39   \n",
       "3                                                 NaN     $2.39   \n",
       "4   [Tomatillo-Red Chili Salsa (Hot), [Black Beans...    $16.98   \n",
       "5   [Fresh Tomato Salsa (Mild), [Rice, Cheese, Sou...    $10.98   \n",
       "6                                                 NaN     $1.69   \n",
       "7   [Tomatillo Red Chili Salsa, [Fajita Vegetables...    $11.75   \n",
       "8   [Tomatillo Green Chili Salsa, [Pinto Beans, Ch...     $9.25   \n",
       "9   [Fresh Tomato Salsa, [Rice, Black Beans, Pinto...     $9.25   \n",
       "10                                                NaN     $4.45   \n",
       "11  [Roasted Chili Corn Salsa, [Fajita Vegetables,...     $8.75   \n",
       "12  [Roasted Chili Corn Salsa, [Rice, Black Beans,...     $8.75   \n",
       "13  [Fresh Tomato Salsa, [Fajita Vegetables, Rice,...    $11.25   \n",
       "14                                                NaN     $4.45   \n",
       "15                                                NaN     $2.39   \n",
       "16  [Tomatillo-Green Chili Salsa (Medium), [Pinto ...     $8.49   \n",
       "17  [Fresh Tomato Salsa (Mild), [Black Beans, Rice...     $8.49   \n",
       "18                                           [Sprite]     $2.18   \n",
       "19  [Tomatillo Red Chili Salsa, [Fajita Vegetables...     $8.75   "
      ]
     },
     "execution_count": 5,
     "metadata": {},
     "output_type": "execute_result"
    }
   ],
   "source": [
    "# 데이터 포인트들이 어떻게 생겼는지 알아보자.\n",
    "\n",
    "chipo.head(20)"
   ]
  },
  {
   "cell_type": "markdown",
   "metadata": {},
   "source": [
    ".head()로 살펴본 해당 데이터셋의 feature 들의 의미는 다음과 같다.\n",
    "\n",
    "- order_id : 주문 번호\n",
    "- quantity : item의 주문량\n",
    "- item_name : 주문한 item의 이름\n",
    "- choice_description : 주문한 item의 상세 옵션\n",
    "- item_price : 주문한 item의 가격"
   ]
  },
  {
   "cell_type": "code",
   "execution_count": 6,
   "metadata": {},
   "outputs": [
    {
     "name": "stdout",
     "output_type": "stream",
     "text": [
      "          quantity\n",
      "count  4622.000000\n",
      "mean      1.075725\n",
      "std       0.410186\n",
      "min       1.000000\n",
      "25%       1.000000\n",
      "50%       1.000000\n",
      "75%       1.000000\n",
      "max      15.000000\n"
     ]
    }
   ],
   "source": [
    "# descriebe() 함수로 기초 통계량을 알아보자.\n",
    "# 수치형 feature는 'quantity' 뿐이기 때문에 이것만 알아보자.\n",
    "\n",
    "# order_id는 숫자의 의미를 가지지 않기 때문에 str로 형변환 해준다.\n",
    "chipo['order_id'] = chipo['order_id'].astype(str)\n",
    "print(chipo.describe())"
   ]
  },
  {
   "cell_type": "code",
   "execution_count": 7,
   "metadata": {},
   "outputs": [
    {
     "name": "stdout",
     "output_type": "stream",
     "text": [
      "1834\n",
      "50\n"
     ]
    }
   ],
   "source": [
    "# 범주형 feature 인 'order_id' 와 'item_name' 은 unique() 함수를 통해서 개수를 파악한다.\n",
    "\n",
    "print(len(chipo['order_id'].unique()))\n",
    "print(len(chipo['item_name'].unique()))"
   ]
  },
  {
   "cell_type": "markdown",
   "metadata": {},
   "source": [
    "### 1.2.2 인사이트의 발견: 탐색과 시각화하기"
   ]
  },
  {
   "cell_type": "markdown",
   "metadata": {},
   "source": [
    "가장 많이 주문한 아이템 Top10"
   ]
  },
  {
   "cell_type": "code",
   "execution_count": 8,
   "metadata": {},
   "outputs": [
    {
     "name": "stdout",
     "output_type": "stream",
     "text": [
      "top 1 : Chicken Bowl 726\n",
      "top 2 : Chicken Burrito 553\n",
      "top 3 : Chips and Guacamole 479\n",
      "top 4 : Steak Burrito 368\n",
      "top 5 : Canned Soft Drink 301\n",
      "top 6 : Steak Bowl 211\n",
      "top 7 : Chips 211\n",
      "top 8 : Bottled Water 162\n",
      "top 9 : Chicken Soft Tacos 115\n",
      "top 10 : Chips and Fresh Tomato Salsa 110\n"
     ]
    }
   ],
   "source": [
    "# DataFrame['column'] 의 형태에 value_counts() 함수를 적용하는 방식을 사용한다.\n",
    "# DataFrame['column'] 는 Series라는 객체를 반환하는데, value_counts() 함수는 오직 Series 객체에만 적용되기 때문이다.\n",
    "\n",
    "item_count = chipo['item_name'].value_counts()[:10]\n",
    "for idx, (val, cnt) in enumerate(item_count.iteritems(),1): # 인수가 두개일 때는 뒤에 인수는 1부터 시작하라는 뜻이다.\n",
    "    print(\"top\", idx, \":\", val, cnt)"
   ]
  },
  {
   "cell_type": "markdown",
   "metadata": {},
   "source": [
    "아이템별 주문 개수와 총량"
   ]
  },
  {
   "cell_type": "code",
   "execution_count": 9,
   "metadata": {},
   "outputs": [
    {
     "data": {
      "text/plain": [
       "item_name\n",
       "6 Pack Soft Drink         54\n",
       "Barbacoa Bowl             66\n",
       "Barbacoa Burrito          91\n",
       "Barbacoa Crispy Tacos     11\n",
       "Barbacoa Salad Bowl       10\n",
       "Barbacoa Soft Tacos       25\n",
       "Bottled Water            162\n",
       "Bowl                       2\n",
       "Burrito                    6\n",
       "Canned Soda              104\n",
       "Name: order_id, dtype: int64"
      ]
     },
     "execution_count": 9,
     "metadata": {},
     "output_type": "execute_result"
    }
   ],
   "source": [
    "# groupby() 함수를 사용해보겠다.\n",
    "# 먼저 아이템별 주문 개수\n",
    "\n",
    "order_count = chipo.groupby('item_name')['order_id'].count()\n",
    "order_count[:10]"
   ]
  },
  {
   "cell_type": "code",
   "execution_count": 10,
   "metadata": {},
   "outputs": [
    {
     "data": {
      "text/plain": [
       "item_name\n",
       "6 Pack Soft Drink         55\n",
       "Barbacoa Bowl             66\n",
       "Barbacoa Burrito          91\n",
       "Barbacoa Crispy Tacos     12\n",
       "Barbacoa Salad Bowl       10\n",
       "Barbacoa Soft Tacos       25\n",
       "Bottled Water            211\n",
       "Bowl                       4\n",
       "Burrito                    6\n",
       "Canned Soda              126\n",
       "Name: quantity, dtype: int64"
      ]
     },
     "execution_count": 10,
     "metadata": {},
     "output_type": "execute_result"
    }
   ],
   "source": [
    "# 아이템별 주문 총량\n",
    "\n",
    "item_quantity = chipo.groupby('item_name')['quantity'].sum()\n",
    "item_quantity[:10]"
   ]
  },
  {
   "cell_type": "markdown",
   "metadata": {},
   "source": [
    "시각화"
   ]
  },
  {
   "cell_type": "code",
   "execution_count": 11,
   "metadata": {},
   "outputs": [
    {
     "data": {
      "image/png": "[encoded data removed]",
      "text/plain": [
       "<Figure size 432x288 with 1 Axes>"
      ]
     },
     "metadata": {
      "needs_background": "light"
     },
     "output_type": "display_data"
    }
   ],
   "source": [
    "# tolist()  와 넘파이의 arrange() 함수를 이용해 x_pos 를 선언,\n",
    "# y값에는 주문 총량에 해당하는 값인 item_quantity.values.tolist()를 넣는다.\n",
    "\n",
    "item_name_list = item_quantity.index.tolist()\n",
    "x_pos = np.arange(len(item_name_list))\n",
    "order_cnt = item_quantity.values.tolist()\n",
    "\n",
    "plt.bar(x_pos, order_cnt, align = 'center')\n",
    "plt.ylabel('ordered_item_count')\n",
    "plt.title('Distribution of all orderd item')\n",
    "\n",
    "plt.show()"
   ]
  },
  {
   "cell_type": "markdown",
   "metadata": {},
   "source": [
    "### 1.2.3 데이터 전처리: 전처리 함수 사용하기"
   ]
  },
  {
   "cell_type": "markdown",
   "metadata": {},
   "source": [
    "item_price 의 수치적 특징을 탐색하는 과정에서 우리는 item_price 의 요약 통계를 구할 수 없었다.\n",
    "\n",
    "이러한 문자열 타입에 대한 전처리를 실시해보겠다."
   ]
  },
  {
   "cell_type": "code",
   "execution_count": 12,
   "metadata": {},
   "outputs": [
    {
     "name": "stdout",
     "output_type": "stream",
     "text": [
      "<class 'pandas.core.frame.DataFrame'>\n",
      "RangeIndex: 4622 entries, 0 to 4621\n",
      "Data columns (total 5 columns):\n",
      "order_id              4622 non-null object\n",
      "quantity              4622 non-null int64\n",
      "item_name             4622 non-null object\n",
      "choice_description    3376 non-null object\n",
      "item_price            4622 non-null object\n",
      "dtypes: int64(1), object(4)\n",
      "memory usage: 180.6+ KB\n",
      "None\n"
     ]
    },
    {
     "data": {
      "text/plain": [
       "0     $2.39 \n",
       "1     $3.39 \n",
       "2     $3.39 \n",
       "3     $2.39 \n",
       "4    $16.98 \n",
       "Name: item_price, dtype: object"
      ]
     },
     "execution_count": 12,
     "metadata": {},
     "output_type": "execute_result"
    }
   ],
   "source": [
    "print(chipo.info())\n",
    "chipo['item_price'].head()"
   ]
  },
  {
   "cell_type": "code",
   "execution_count": 13,
   "metadata": {},
   "outputs": [
    {
     "data": {
      "text/html": [
       "<div>\n",
       "<style scoped>\n",
       "    .dataframe tbody tr th:only-of-type {\n",
       "        vertical-align: middle;\n",
       "    }\n",
       "\n",
       "    .dataframe tbody tr th {\n",
       "        vertical-align: top;\n",
       "    }\n",
       "\n",
       "    .dataframe thead th {\n",
       "        text-align: right;\n",
       "    }\n",
       "</style>\n",
       "<table border=\"1\" class=\"dataframe\">\n",
       "  <thead>\n",
       "    <tr style=\"text-align: right;\">\n",
       "      <th></th>\n",
       "      <th>quantity</th>\n",
       "      <th>item_price</th>\n",
       "    </tr>\n",
       "  </thead>\n",
       "  <tbody>\n",
       "    <tr>\n",
       "      <th>count</th>\n",
       "      <td>4622.000000</td>\n",
       "      <td>4622.000000</td>\n",
       "    </tr>\n",
       "    <tr>\n",
       "      <th>mean</th>\n",
       "      <td>1.075725</td>\n",
       "      <td>7.464336</td>\n",
       "    </tr>\n",
       "    <tr>\n",
       "      <th>std</th>\n",
       "      <td>0.410186</td>\n",
       "      <td>4.245557</td>\n",
       "    </tr>\n",
       "    <tr>\n",
       "      <th>min</th>\n",
       "      <td>1.000000</td>\n",
       "      <td>1.090000</td>\n",
       "    </tr>\n",
       "    <tr>\n",
       "      <th>25%</th>\n",
       "      <td>1.000000</td>\n",
       "      <td>3.390000</td>\n",
       "    </tr>\n",
       "    <tr>\n",
       "      <th>50%</th>\n",
       "      <td>1.000000</td>\n",
       "      <td>8.750000</td>\n",
       "    </tr>\n",
       "    <tr>\n",
       "      <th>75%</th>\n",
       "      <td>1.000000</td>\n",
       "      <td>9.250000</td>\n",
       "    </tr>\n",
       "    <tr>\n",
       "      <th>max</th>\n",
       "      <td>15.000000</td>\n",
       "      <td>44.250000</td>\n",
       "    </tr>\n",
       "  </tbody>\n",
       "</table>\n",
       "</div>"
      ],
      "text/plain": [
       "          quantity   item_price\n",
       "count  4622.000000  4622.000000\n",
       "mean      1.075725     7.464336\n",
       "std       0.410186     4.245557\n",
       "min       1.000000     1.090000\n",
       "25%       1.000000     3.390000\n",
       "50%       1.000000     8.750000\n",
       "75%       1.000000     9.250000\n",
       "max      15.000000    44.250000"
      ]
     },
     "execution_count": 13,
     "metadata": {},
     "output_type": "execute_result"
    }
   ],
   "source": [
    "# 가격에 $ 표시가 붙어 있다. 이걸 제거해서 수치형으로 바꿔 주겠다.\n",
    "\n",
    "chipo['item_price'] = chipo['item_price'].apply(lambda x : float(x[1:]))\n",
    "chipo.describe()"
   ]
  },
  {
   "cell_type": "markdown",
   "metadata": {},
   "source": [
    "### 1.2.4 탐색적 분석: 스무고개로 개념적 탐색 분석하기"
   ]
  },
  {
   "cell_type": "markdown",
   "metadata": {},
   "source": [
    "주문당 평균 계산금액 출력하기"
   ]
  },
  {
   "cell_type": "code",
   "execution_count": 14,
   "metadata": {},
   "outputs": [
    {
     "data": {
      "text/plain": [
       "18.811428571428717"
      ]
     },
     "execution_count": 14,
     "metadata": {},
     "output_type": "execute_result"
    }
   ],
   "source": [
    "chipo.groupby('order_id')['item_price'].sum().mean()"
   ]
  },
  {
   "cell_type": "markdown",
   "metadata": {},
   "source": [
    "한 주문에 10달러 이상 지불한 주문 번호(id) 출력하기"
   ]
  },
  {
   "cell_type": "code",
   "execution_count": 15,
   "metadata": {},
   "outputs": [
    {
     "name": "stdout",
     "output_type": "stream",
     "text": [
      "          quantity  item_price\n",
      "order_id                      \n",
      "1                4       11.56\n",
      "10               2       13.20\n",
      "100              2       10.08\n",
      "1000             2       20.50\n",
      "1001             2       10.08\n",
      "1002             2       10.68\n",
      "1003             2       13.00\n",
      "1004             2       21.96\n",
      "1005             3       12.15\n",
      "1006             8       71.40\n",
      "['1' '10' '100' ... '997' '998' '999']\n"
     ]
    }
   ],
   "source": [
    "chipo_orderid_group = chipo.groupby('order_id').sum()\n",
    "results = chipo_orderid_group[chipo_orderid_group.item_price >= 10]\n",
    "\n",
    "print(results[:10])\n",
    "print(results.index.values)"
   ]
  },
  {
   "cell_type": "markdown",
   "metadata": {},
   "source": [
    "각 아이템의 가격 구하기"
   ]
  },
  {
   "cell_type": "code",
   "execution_count": 16,
   "metadata": {},
   "outputs": [
    {
     "data": {
      "text/html": [
       "<div>\n",
       "<style scoped>\n",
       "    .dataframe tbody tr th:only-of-type {\n",
       "        vertical-align: middle;\n",
       "    }\n",
       "\n",
       "    .dataframe tbody tr th {\n",
       "        vertical-align: top;\n",
       "    }\n",
       "\n",
       "    .dataframe thead th {\n",
       "        text-align: right;\n",
       "    }\n",
       "</style>\n",
       "<table border=\"1\" class=\"dataframe\">\n",
       "  <thead>\n",
       "    <tr style=\"text-align: right;\">\n",
       "      <th></th>\n",
       "      <th>order_id</th>\n",
       "      <th>quantity</th>\n",
       "      <th>choice_description</th>\n",
       "      <th>item_price</th>\n",
       "    </tr>\n",
       "    <tr>\n",
       "      <th>item_name</th>\n",
       "      <th></th>\n",
       "      <th></th>\n",
       "      <th></th>\n",
       "      <th></th>\n",
       "    </tr>\n",
       "  </thead>\n",
       "  <tbody>\n",
       "    <tr>\n",
       "      <th>Steak Salad Bowl</th>\n",
       "      <td>1032</td>\n",
       "      <td>1</td>\n",
       "      <td>[Fresh Tomato Salsa, Lettuce]</td>\n",
       "      <td>9.39</td>\n",
       "    </tr>\n",
       "    <tr>\n",
       "      <th>Barbacoa Salad Bowl</th>\n",
       "      <td>1283</td>\n",
       "      <td>1</td>\n",
       "      <td>[Fresh Tomato Salsa, Guacamole]</td>\n",
       "      <td>9.39</td>\n",
       "    </tr>\n",
       "    <tr>\n",
       "      <th>Carnitas Salad Bowl</th>\n",
       "      <td>1035</td>\n",
       "      <td>1</td>\n",
       "      <td>[Fresh Tomato Salsa, [Rice, Black Beans, Chees...</td>\n",
       "      <td>9.39</td>\n",
       "    </tr>\n",
       "    <tr>\n",
       "      <th>Carnitas Soft Tacos</th>\n",
       "      <td>1011</td>\n",
       "      <td>1</td>\n",
       "      <td>[Fresh Tomato Salsa (Mild), [Black Beans, Rice...</td>\n",
       "      <td>8.99</td>\n",
       "    </tr>\n",
       "    <tr>\n",
       "      <th>Carnitas Crispy Tacos</th>\n",
       "      <td>1774</td>\n",
       "      <td>1</td>\n",
       "      <td>[Fresh Tomato Salsa, [Fajita Vegetables, Rice,...</td>\n",
       "      <td>8.99</td>\n",
       "    </tr>\n",
       "    <tr>\n",
       "      <th>Steak Soft Tacos</th>\n",
       "      <td>1054</td>\n",
       "      <td>1</td>\n",
       "      <td>[Fresh Tomato Salsa (Mild), [Cheese, Sour Cream]]</td>\n",
       "      <td>8.99</td>\n",
       "    </tr>\n",
       "    <tr>\n",
       "      <th>Carnitas Salad</th>\n",
       "      <td>1500</td>\n",
       "      <td>1</td>\n",
       "      <td>[[Fresh Tomato Salsa (Mild), Roasted Chili Cor...</td>\n",
       "      <td>8.99</td>\n",
       "    </tr>\n",
       "    <tr>\n",
       "      <th>Carnitas Bowl</th>\n",
       "      <td>1007</td>\n",
       "      <td>1</td>\n",
       "      <td>[Fresh Tomato (Mild), [Guacamole, Lettuce, Ric...</td>\n",
       "      <td>8.99</td>\n",
       "    </tr>\n",
       "    <tr>\n",
       "      <th>Barbacoa Soft Tacos</th>\n",
       "      <td>1103</td>\n",
       "      <td>1</td>\n",
       "      <td>[Fresh Tomato Salsa, [Black Beans, Cheese, Let...</td>\n",
       "      <td>8.99</td>\n",
       "    </tr>\n",
       "    <tr>\n",
       "      <th>Barbacoa Crispy Tacos</th>\n",
       "      <td>110</td>\n",
       "      <td>1</td>\n",
       "      <td>[Fresh Tomato Salsa, Guacamole]</td>\n",
       "      <td>8.99</td>\n",
       "    </tr>\n",
       "  </tbody>\n",
       "</table>\n",
       "</div>"
      ],
      "text/plain": [
       "                      order_id  quantity  \\\n",
       "item_name                                  \n",
       "Steak Salad Bowl          1032         1   \n",
       "Barbacoa Salad Bowl       1283         1   \n",
       "Carnitas Salad Bowl       1035         1   \n",
       "Carnitas Soft Tacos       1011         1   \n",
       "Carnitas Crispy Tacos     1774         1   \n",
       "Steak Soft Tacos          1054         1   \n",
       "Carnitas Salad            1500         1   \n",
       "Carnitas Bowl             1007         1   \n",
       "Barbacoa Soft Tacos       1103         1   \n",
       "Barbacoa Crispy Tacos      110         1   \n",
       "\n",
       "                                                      choice_description  \\\n",
       "item_name                                                                  \n",
       "Steak Salad Bowl                           [Fresh Tomato Salsa, Lettuce]   \n",
       "Barbacoa Salad Bowl                      [Fresh Tomato Salsa, Guacamole]   \n",
       "Carnitas Salad Bowl    [Fresh Tomato Salsa, [Rice, Black Beans, Chees...   \n",
       "Carnitas Soft Tacos    [Fresh Tomato Salsa (Mild), [Black Beans, Rice...   \n",
       "Carnitas Crispy Tacos  [Fresh Tomato Salsa, [Fajita Vegetables, Rice,...   \n",
       "Steak Soft Tacos       [Fresh Tomato Salsa (Mild), [Cheese, Sour Cream]]   \n",
       "Carnitas Salad         [[Fresh Tomato Salsa (Mild), Roasted Chili Cor...   \n",
       "Carnitas Bowl          [Fresh Tomato (Mild), [Guacamole, Lettuce, Ric...   \n",
       "Barbacoa Soft Tacos    [Fresh Tomato Salsa, [Black Beans, Cheese, Let...   \n",
       "Barbacoa Crispy Tacos                    [Fresh Tomato Salsa, Guacamole]   \n",
       "\n",
       "                       item_price  \n",
       "item_name                          \n",
       "Steak Salad Bowl             9.39  \n",
       "Barbacoa Salad Bowl          9.39  \n",
       "Carnitas Salad Bowl          9.39  \n",
       "Carnitas Soft Tacos          8.99  \n",
       "Carnitas Crispy Tacos        8.99  \n",
       "Steak Soft Tacos             8.99  \n",
       "Carnitas Salad               8.99  \n",
       "Carnitas Bowl                8.99  \n",
       "Barbacoa Soft Tacos          8.99  \n",
       "Barbacoa Crispy Tacos        8.99  "
      ]
     },
     "execution_count": 16,
     "metadata": {},
     "output_type": "execute_result"
    }
   ],
   "source": [
    "chipo_one_item = chipo[chipo.quantity ==1]\n",
    "price_per_item = chipo_one_item.groupby('item_name').min()\n",
    "price_per_item.sort_values(by = \"item_price\", ascending = False)[:10]"
   ]
  },
  {
   "cell_type": "code",
   "execution_count": 17,
   "metadata": {},
   "outputs": [
    {
     "data": {
      "image/png": "[encoded data removed]",
      "text/plain": [
       "<Figure size 432x288 with 1 Axes>"
      ]
     },
     "metadata": {
      "needs_background": "light"
     },
     "output_type": "display_data"
    },
    {
     "data": {
      "image/png": "[encoded data removed]",
      "text/plain": [
       "<Figure size 432x288 with 1 Axes>"
      ]
     },
     "metadata": {
      "needs_background": "light"
     },
     "output_type": "display_data"
    }
   ],
   "source": [
    "item_name_list = price_per_item.index.tolist()\n",
    "x_pos = np.arange(len(item_name_list))\n",
    "item_price = price_per_item['item_price'].tolist()\n",
    "\n",
    "plt.bar(x_pos, item_price, align = 'center')\n",
    "plt.ylabel('item price($)')\n",
    "plt.title('Distribution of item price')\n",
    "plt.show()\n",
    "\n",
    "plt.hist(item_price)\n",
    "plt.ylabel('counts')\n",
    "plt.title('Histogram of item price')\n",
    "plt.show()"
   ]
  },
  {
   "cell_type": "markdown",
   "metadata": {},
   "source": [
    "가장 비싼 주문에서 아이템이 총 몇개 팔렸는지 구하기"
   ]
  },
  {
   "cell_type": "code",
   "execution_count": 18,
   "metadata": {},
   "outputs": [
    {
     "data": {
      "text/html": [
       "<div>\n",
       "<style scoped>\n",
       "    .dataframe tbody tr th:only-of-type {\n",
       "        vertical-align: middle;\n",
       "    }\n",
       "\n",
       "    .dataframe tbody tr th {\n",
       "        vertical-align: top;\n",
       "    }\n",
       "\n",
       "    .dataframe thead th {\n",
       "        text-align: right;\n",
       "    }\n",
       "</style>\n",
       "<table border=\"1\" class=\"dataframe\">\n",
       "  <thead>\n",
       "    <tr style=\"text-align: right;\">\n",
       "      <th></th>\n",
       "      <th>quantity</th>\n",
       "      <th>item_price</th>\n",
       "    </tr>\n",
       "    <tr>\n",
       "      <th>order_id</th>\n",
       "      <th></th>\n",
       "      <th></th>\n",
       "    </tr>\n",
       "  </thead>\n",
       "  <tbody>\n",
       "    <tr>\n",
       "      <th>926</th>\n",
       "      <td>23</td>\n",
       "      <td>205.25</td>\n",
       "    </tr>\n",
       "    <tr>\n",
       "      <th>1443</th>\n",
       "      <td>35</td>\n",
       "      <td>160.74</td>\n",
       "    </tr>\n",
       "    <tr>\n",
       "      <th>1483</th>\n",
       "      <td>14</td>\n",
       "      <td>139.00</td>\n",
       "    </tr>\n",
       "    <tr>\n",
       "      <th>691</th>\n",
       "      <td>11</td>\n",
       "      <td>118.25</td>\n",
       "    </tr>\n",
       "    <tr>\n",
       "      <th>1786</th>\n",
       "      <td>20</td>\n",
       "      <td>114.30</td>\n",
       "    </tr>\n",
       "  </tbody>\n",
       "</table>\n",
       "</div>"
      ],
      "text/plain": [
       "          quantity  item_price\n",
       "order_id                      \n",
       "926             23      205.25\n",
       "1443            35      160.74\n",
       "1483            14      139.00\n",
       "691             11      118.25\n",
       "1786            20      114.30"
      ]
     },
     "execution_count": 18,
     "metadata": {},
     "output_type": "execute_result"
    }
   ],
   "source": [
    "# order_id에 그룹별 합계 연산을 적용하고,\n",
    "# sort_values를 반환한다.\n",
    "\n",
    "chipo.groupby('order_id').sum().sort_values(by = 'item_price', ascending = False)[:5]"
   ]
  },
  {
   "cell_type": "markdown",
   "metadata": {},
   "source": [
    "'Veggie Salad Bowl' 이 몇 번 주문되었는지 구하기"
   ]
  },
  {
   "cell_type": "code",
   "execution_count": 19,
   "metadata": {},
   "outputs": [
    {
     "name": "stdout",
     "output_type": "stream",
     "text": [
      "18\n"
     ]
    },
    {
     "data": {
      "text/html": [
       "<div>\n",
       "<style scoped>\n",
       "    .dataframe tbody tr th:only-of-type {\n",
       "        vertical-align: middle;\n",
       "    }\n",
       "\n",
       "    .dataframe tbody tr th {\n",
       "        vertical-align: top;\n",
       "    }\n",
       "\n",
       "    .dataframe thead th {\n",
       "        text-align: right;\n",
       "    }\n",
       "</style>\n",
       "<table border=\"1\" class=\"dataframe\">\n",
       "  <thead>\n",
       "    <tr style=\"text-align: right;\">\n",
       "      <th></th>\n",
       "      <th>order_id</th>\n",
       "      <th>quantity</th>\n",
       "      <th>item_name</th>\n",
       "      <th>choice_description</th>\n",
       "      <th>item_price</th>\n",
       "    </tr>\n",
       "  </thead>\n",
       "  <tbody>\n",
       "    <tr>\n",
       "      <th>186</th>\n",
       "      <td>83</td>\n",
       "      <td>1</td>\n",
       "      <td>Veggie Salad Bowl</td>\n",
       "      <td>[Fresh Tomato Salsa, [Fajita Vegetables, Rice,...</td>\n",
       "      <td>11.25</td>\n",
       "    </tr>\n",
       "    <tr>\n",
       "      <th>295</th>\n",
       "      <td>128</td>\n",
       "      <td>1</td>\n",
       "      <td>Veggie Salad Bowl</td>\n",
       "      <td>[Fresh Tomato Salsa, [Fajita Vegetables, Lettu...</td>\n",
       "      <td>11.25</td>\n",
       "    </tr>\n",
       "    <tr>\n",
       "      <th>455</th>\n",
       "      <td>195</td>\n",
       "      <td>1</td>\n",
       "      <td>Veggie Salad Bowl</td>\n",
       "      <td>[Fresh Tomato Salsa, [Fajita Vegetables, Rice,...</td>\n",
       "      <td>11.25</td>\n",
       "    </tr>\n",
       "    <tr>\n",
       "      <th>496</th>\n",
       "      <td>207</td>\n",
       "      <td>1</td>\n",
       "      <td>Veggie Salad Bowl</td>\n",
       "      <td>[Fresh Tomato Salsa, [Rice, Lettuce, Guacamole...</td>\n",
       "      <td>11.25</td>\n",
       "    </tr>\n",
       "    <tr>\n",
       "      <th>960</th>\n",
       "      <td>394</td>\n",
       "      <td>1</td>\n",
       "      <td>Veggie Salad Bowl</td>\n",
       "      <td>[Fresh Tomato Salsa, [Fajita Vegetables, Lettu...</td>\n",
       "      <td>8.75</td>\n",
       "    </tr>\n",
       "  </tbody>\n",
       "</table>\n",
       "</div>"
      ],
      "text/plain": [
       "    order_id  quantity          item_name  \\\n",
       "186       83         1  Veggie Salad Bowl   \n",
       "295      128         1  Veggie Salad Bowl   \n",
       "455      195         1  Veggie Salad Bowl   \n",
       "496      207         1  Veggie Salad Bowl   \n",
       "960      394         1  Veggie Salad Bowl   \n",
       "\n",
       "                                    choice_description  item_price  \n",
       "186  [Fresh Tomato Salsa, [Fajita Vegetables, Rice,...       11.25  \n",
       "295  [Fresh Tomato Salsa, [Fajita Vegetables, Lettu...       11.25  \n",
       "455  [Fresh Tomato Salsa, [Fajita Vegetables, Rice,...       11.25  \n",
       "496  [Fresh Tomato Salsa, [Rice, Lettuce, Guacamole...       11.25  \n",
       "960  [Fresh Tomato Salsa, [Fajita Vegetables, Lettu...        8.75  "
      ]
     },
     "execution_count": 19,
     "metadata": {},
     "output_type": "execute_result"
    }
   ],
   "source": [
    "# Veggie Salad Bowl 이 몇 번 주문되었는지 구한다.\n",
    "chipo_salad = chipo[chipo['item_name'] == \"Veggie Salad Bowl\"]\n",
    "\n",
    "# 한 주문 내에서 중복 집계된 item_name 을 제거합니다.\n",
    "chipo_salad = chipo_salad.drop_duplicates(['item_name', 'order_id'])\n",
    "\n",
    "print(len(chipo_salad))\n",
    "chipo_salad.head(5)"
   ]
  },
  {
   "cell_type": "markdown",
   "metadata": {},
   "source": [
    "'Chicken Bowl'을 2개 이상 주문한 주문 횟수 구하기"
   ]
  },
  {
   "cell_type": "code",
   "execution_count": 20,
   "metadata": {},
   "outputs": [
    {
     "name": "stdout",
     "output_type": "stream",
     "text": [
      "114\n"
     ]
    },
    {
     "data": {
      "text/plain": [
       "order_id\n",
       "1004    2\n",
       "1023    2\n",
       "1072    2\n",
       "1078    2\n",
       "1091    2\n",
       "Name: quantity, dtype: int64"
      ]
     },
     "execution_count": 20,
     "metadata": {},
     "output_type": "execute_result"
    }
   ],
   "source": [
    "# 'Chicken Bowl' 을 2개 이상 주문한 주문 횟수를 구합니다.\n",
    "\n",
    "chipo_chicken = chipo[chipo['item_name'] == \"Chicken Bowl\"]\n",
    "chipo_chicken_ordersum = chipo_chicken.groupby('order_id').sum()['quantity']\n",
    "chipo_chicken_result = chipo_chicken_ordersum[chipo_chicken_ordersum >=2]\n",
    "\n",
    "print(len(chipo_chicken_result))\n",
    "chipo_chicken_result.head(5)"
   ]
  },
  {
   "cell_type": "markdown",
   "metadata": {},
   "source": [
    "## 1.3 국가별 음주 데이터 분석하기"
   ]
  },
  {
   "cell_type": "markdown",
   "metadata": {},
   "source": [
    "### 1.3.1 탐색 : 데이터의 기초 정보 살펴보기"
   ]
  },
  {
   "cell_type": "code",
   "execution_count": 21,
   "metadata": {},
   "outputs": [],
   "source": [
    "file_path = (r\"C:\\users\\thinp\\data\\drinks.csv\")\n",
    "drinks = pd.read_csv(file_path)"
   ]
  },
  {
   "cell_type": "code",
   "execution_count": 22,
   "metadata": {},
   "outputs": [
    {
     "data": {
      "text/html": [
       "<div>\n",
       "<style scoped>\n",
       "    .dataframe tbody tr th:only-of-type {\n",
       "        vertical-align: middle;\n",
       "    }\n",
       "\n",
       "    .dataframe tbody tr th {\n",
       "        vertical-align: top;\n",
       "    }\n",
       "\n",
       "    .dataframe thead th {\n",
       "        text-align: right;\n",
       "    }\n",
       "</style>\n",
       "<table border=\"1\" class=\"dataframe\">\n",
       "  <thead>\n",
       "    <tr style=\"text-align: right;\">\n",
       "      <th></th>\n",
       "      <th>country</th>\n",
       "      <th>beer_servings</th>\n",
       "      <th>spirit_servings</th>\n",
       "      <th>wine_servings</th>\n",
       "      <th>total_litres_of_pure_alcohol</th>\n",
       "      <th>continent</th>\n",
       "    </tr>\n",
       "  </thead>\n",
       "  <tbody>\n",
       "    <tr>\n",
       "      <th>0</th>\n",
       "      <td>Afghanistan</td>\n",
       "      <td>0</td>\n",
       "      <td>0</td>\n",
       "      <td>0</td>\n",
       "      <td>0.0</td>\n",
       "      <td>AS</td>\n",
       "    </tr>\n",
       "    <tr>\n",
       "      <th>1</th>\n",
       "      <td>Albania</td>\n",
       "      <td>89</td>\n",
       "      <td>132</td>\n",
       "      <td>54</td>\n",
       "      <td>4.9</td>\n",
       "      <td>EU</td>\n",
       "    </tr>\n",
       "    <tr>\n",
       "      <th>2</th>\n",
       "      <td>Algeria</td>\n",
       "      <td>25</td>\n",
       "      <td>0</td>\n",
       "      <td>14</td>\n",
       "      <td>0.7</td>\n",
       "      <td>AF</td>\n",
       "    </tr>\n",
       "    <tr>\n",
       "      <th>3</th>\n",
       "      <td>Andorra</td>\n",
       "      <td>245</td>\n",
       "      <td>138</td>\n",
       "      <td>312</td>\n",
       "      <td>12.4</td>\n",
       "      <td>EU</td>\n",
       "    </tr>\n",
       "    <tr>\n",
       "      <th>4</th>\n",
       "      <td>Angola</td>\n",
       "      <td>217</td>\n",
       "      <td>57</td>\n",
       "      <td>45</td>\n",
       "      <td>5.9</td>\n",
       "      <td>AF</td>\n",
       "    </tr>\n",
       "    <tr>\n",
       "      <th>5</th>\n",
       "      <td>Antigua &amp; Barbuda</td>\n",
       "      <td>102</td>\n",
       "      <td>128</td>\n",
       "      <td>45</td>\n",
       "      <td>4.9</td>\n",
       "      <td>NaN</td>\n",
       "    </tr>\n",
       "    <tr>\n",
       "      <th>6</th>\n",
       "      <td>Argentina</td>\n",
       "      <td>193</td>\n",
       "      <td>25</td>\n",
       "      <td>221</td>\n",
       "      <td>8.3</td>\n",
       "      <td>SA</td>\n",
       "    </tr>\n",
       "    <tr>\n",
       "      <th>7</th>\n",
       "      <td>Armenia</td>\n",
       "      <td>21</td>\n",
       "      <td>179</td>\n",
       "      <td>11</td>\n",
       "      <td>3.8</td>\n",
       "      <td>EU</td>\n",
       "    </tr>\n",
       "    <tr>\n",
       "      <th>8</th>\n",
       "      <td>Australia</td>\n",
       "      <td>261</td>\n",
       "      <td>72</td>\n",
       "      <td>212</td>\n",
       "      <td>10.4</td>\n",
       "      <td>OC</td>\n",
       "    </tr>\n",
       "    <tr>\n",
       "      <th>9</th>\n",
       "      <td>Austria</td>\n",
       "      <td>279</td>\n",
       "      <td>75</td>\n",
       "      <td>191</td>\n",
       "      <td>9.7</td>\n",
       "      <td>EU</td>\n",
       "    </tr>\n",
       "  </tbody>\n",
       "</table>\n",
       "</div>"
      ],
      "text/plain": [
       "             country  beer_servings  spirit_servings  wine_servings  \\\n",
       "0        Afghanistan              0                0              0   \n",
       "1            Albania             89              132             54   \n",
       "2            Algeria             25                0             14   \n",
       "3            Andorra            245              138            312   \n",
       "4             Angola            217               57             45   \n",
       "5  Antigua & Barbuda            102              128             45   \n",
       "6          Argentina            193               25            221   \n",
       "7            Armenia             21              179             11   \n",
       "8          Australia            261               72            212   \n",
       "9            Austria            279               75            191   \n",
       "\n",
       "   total_litres_of_pure_alcohol continent  \n",
       "0                           0.0        AS  \n",
       "1                           4.9        EU  \n",
       "2                           0.7        AF  \n",
       "3                          12.4        EU  \n",
       "4                           5.9        AF  \n",
       "5                           4.9       NaN  \n",
       "6                           8.3        SA  \n",
       "7                           3.8        EU  \n",
       "8                          10.4        OC  \n",
       "9                           9.7        EU  "
      ]
     },
     "execution_count": 22,
     "metadata": {},
     "output_type": "execute_result"
    }
   ],
   "source": [
    "drinks.head(10)"
   ]
  },
  {
   "cell_type": "code",
   "execution_count": 23,
   "metadata": {},
   "outputs": [
    {
     "data": {
      "text/plain": [
       "(193, 6)"
      ]
     },
     "execution_count": 23,
     "metadata": {},
     "output_type": "execute_result"
    }
   ],
   "source": [
    "drinks.shape"
   ]
  },
  {
   "cell_type": "code",
   "execution_count": 24,
   "metadata": {
    "scrolled": true
   },
   "outputs": [
    {
     "name": "stdout",
     "output_type": "stream",
     "text": [
      "<class 'pandas.core.frame.DataFrame'>\n",
      "RangeIndex: 193 entries, 0 to 192\n",
      "Data columns (total 6 columns):\n",
      "country                         193 non-null object\n",
      "beer_servings                   193 non-null int64\n",
      "spirit_servings                 193 non-null int64\n",
      "wine_servings                   193 non-null int64\n",
      "total_litres_of_pure_alcohol    193 non-null float64\n",
      "continent                       170 non-null object\n",
      "dtypes: float64(1), int64(3), object(2)\n",
      "memory usage: 9.1+ KB\n",
      "----------------------------------------------------------\n"
     ]
    }
   ],
   "source": [
    "drinks.info()\n",
    "print(\"----------------------------------------------------------\")"
   ]
  },
  {
   "cell_type": "markdown",
   "metadata": {},
   "source": [
    "대충 데이터를 살펴보니 해당 데이터셋의 특징은 다음과 같습니다.\n",
    "\n",
    "- 총 193개의 row와 6개의 feature가 있습니다. 이는 193개국에 대한 6개의 feature 값의 DataFrame 입니다.\n",
    "\n",
    "feature 값은 총 6개인데, 다음과 같습니다.\n",
    "\n",
    "- country : 국가명\n",
    "- beer : 맥주 소비량\n",
    "- spirit : 증류주 소비량(소주, 보드카 등)\n",
    "- wine : 와인 소비량\n",
    "- total : 총 알콜 소비량\n",
    "- continent : 해당 국가의 소속 대륙\n",
    "\n",
    "기본적으로 국가와 대륙값은 obj로 되어있고, 소비량은 int값으로 되어있다. total 만 float(실수)로 되어있다.\n",
    "\n",
    "특이점으로는 대륙값만 결측값이 있다."
   ]
  },
  {
   "cell_type": "code",
   "execution_count": 25,
   "metadata": {},
   "outputs": [
    {
     "data": {
      "text/html": [
       "<div>\n",
       "<style scoped>\n",
       "    .dataframe tbody tr th:only-of-type {\n",
       "        vertical-align: middle;\n",
       "    }\n",
       "\n",
       "    .dataframe tbody tr th {\n",
       "        vertical-align: top;\n",
       "    }\n",
       "\n",
       "    .dataframe thead th {\n",
       "        text-align: right;\n",
       "    }\n",
       "</style>\n",
       "<table border=\"1\" class=\"dataframe\">\n",
       "  <thead>\n",
       "    <tr style=\"text-align: right;\">\n",
       "      <th></th>\n",
       "      <th>beer_servings</th>\n",
       "      <th>spirit_servings</th>\n",
       "      <th>wine_servings</th>\n",
       "      <th>total_litres_of_pure_alcohol</th>\n",
       "    </tr>\n",
       "  </thead>\n",
       "  <tbody>\n",
       "    <tr>\n",
       "      <th>count</th>\n",
       "      <td>193.000000</td>\n",
       "      <td>193.000000</td>\n",
       "      <td>193.000000</td>\n",
       "      <td>193.000000</td>\n",
       "    </tr>\n",
       "    <tr>\n",
       "      <th>mean</th>\n",
       "      <td>106.160622</td>\n",
       "      <td>80.994819</td>\n",
       "      <td>49.450777</td>\n",
       "      <td>4.717098</td>\n",
       "    </tr>\n",
       "    <tr>\n",
       "      <th>std</th>\n",
       "      <td>101.143103</td>\n",
       "      <td>88.284312</td>\n",
       "      <td>79.697598</td>\n",
       "      <td>3.773298</td>\n",
       "    </tr>\n",
       "    <tr>\n",
       "      <th>min</th>\n",
       "      <td>0.000000</td>\n",
       "      <td>0.000000</td>\n",
       "      <td>0.000000</td>\n",
       "      <td>0.000000</td>\n",
       "    </tr>\n",
       "    <tr>\n",
       "      <th>25%</th>\n",
       "      <td>20.000000</td>\n",
       "      <td>4.000000</td>\n",
       "      <td>1.000000</td>\n",
       "      <td>1.300000</td>\n",
       "    </tr>\n",
       "    <tr>\n",
       "      <th>50%</th>\n",
       "      <td>76.000000</td>\n",
       "      <td>56.000000</td>\n",
       "      <td>8.000000</td>\n",
       "      <td>4.200000</td>\n",
       "    </tr>\n",
       "    <tr>\n",
       "      <th>75%</th>\n",
       "      <td>188.000000</td>\n",
       "      <td>128.000000</td>\n",
       "      <td>59.000000</td>\n",
       "      <td>7.200000</td>\n",
       "    </tr>\n",
       "    <tr>\n",
       "      <th>max</th>\n",
       "      <td>376.000000</td>\n",
       "      <td>438.000000</td>\n",
       "      <td>370.000000</td>\n",
       "      <td>14.400000</td>\n",
       "    </tr>\n",
       "  </tbody>\n",
       "</table>\n",
       "</div>"
      ],
      "text/plain": [
       "       beer_servings  spirit_servings  wine_servings  \\\n",
       "count     193.000000       193.000000     193.000000   \n",
       "mean      106.160622        80.994819      49.450777   \n",
       "std       101.143103        88.284312      79.697598   \n",
       "min         0.000000         0.000000       0.000000   \n",
       "25%        20.000000         4.000000       1.000000   \n",
       "50%        76.000000        56.000000       8.000000   \n",
       "75%       188.000000       128.000000      59.000000   \n",
       "max       376.000000       438.000000     370.000000   \n",
       "\n",
       "       total_litres_of_pure_alcohol  \n",
       "count                    193.000000  \n",
       "mean                       4.717098  \n",
       "std                        3.773298  \n",
       "min                        0.000000  \n",
       "25%                        1.300000  \n",
       "50%                        4.200000  \n",
       "75%                        7.200000  \n",
       "max                       14.400000  "
      ]
     },
     "execution_count": 25,
     "metadata": {},
     "output_type": "execute_result"
    }
   ],
   "source": [
    "drinks.describe()\n",
    "\n",
    "# 중간값과 평균값이 매우 유의미한 차이를 보인다.\n",
    "# 최소값과 최대값도 매우 큰 폭의 편차를 보인다."
   ]
  },
  {
   "cell_type": "code",
   "execution_count": 26,
   "metadata": {},
   "outputs": [],
   "source": [
    "# 근데 column 명이 너무 다들 길고 치기 귀찮으니까 좀 간결하게 처리해주자.\n",
    "\n",
    "drinks.rename(columns={'beer_servings':'beer', 'spirit_servings':'spirit',\n",
    "                                 'wine_servings':'wine','total_litres_of_pure_alcohol':'total'}, inplace=True)\n",
    "\n",
    "\n",
    "\n",
    "#[출처] DS:데이터 사이언스:컬럼명, 인덱스 바꾸기|작성자 curious Jaeger"
   ]
  },
  {
   "cell_type": "code",
   "execution_count": 27,
   "metadata": {},
   "outputs": [
    {
     "data": {
      "text/html": [
       "<div>\n",
       "<style scoped>\n",
       "    .dataframe tbody tr th:only-of-type {\n",
       "        vertical-align: middle;\n",
       "    }\n",
       "\n",
       "    .dataframe tbody tr th {\n",
       "        vertical-align: top;\n",
       "    }\n",
       "\n",
       "    .dataframe thead th {\n",
       "        text-align: right;\n",
       "    }\n",
       "</style>\n",
       "<table border=\"1\" class=\"dataframe\">\n",
       "  <thead>\n",
       "    <tr style=\"text-align: right;\">\n",
       "      <th></th>\n",
       "      <th>country</th>\n",
       "      <th>beer</th>\n",
       "      <th>spirit</th>\n",
       "      <th>wine</th>\n",
       "      <th>total</th>\n",
       "      <th>continent</th>\n",
       "    </tr>\n",
       "  </thead>\n",
       "  <tbody>\n",
       "    <tr>\n",
       "      <th>0</th>\n",
       "      <td>Afghanistan</td>\n",
       "      <td>0</td>\n",
       "      <td>0</td>\n",
       "      <td>0</td>\n",
       "      <td>0.0</td>\n",
       "      <td>AS</td>\n",
       "    </tr>\n",
       "    <tr>\n",
       "      <th>1</th>\n",
       "      <td>Albania</td>\n",
       "      <td>89</td>\n",
       "      <td>132</td>\n",
       "      <td>54</td>\n",
       "      <td>4.9</td>\n",
       "      <td>EU</td>\n",
       "    </tr>\n",
       "    <tr>\n",
       "      <th>2</th>\n",
       "      <td>Algeria</td>\n",
       "      <td>25</td>\n",
       "      <td>0</td>\n",
       "      <td>14</td>\n",
       "      <td>0.7</td>\n",
       "      <td>AF</td>\n",
       "    </tr>\n",
       "  </tbody>\n",
       "</table>\n",
       "</div>"
      ],
      "text/plain": [
       "       country  beer  spirit  wine  total continent\n",
       "0  Afghanistan     0       0     0    0.0        AS\n",
       "1      Albania    89     132    54    4.9        EU\n",
       "2      Algeria    25       0    14    0.7        AF"
      ]
     },
     "execution_count": 27,
     "metadata": {},
     "output_type": "execute_result"
    }
   ],
   "source": [
    "drinks.head(3)\n",
    "# 아주 깔끔하다."
   ]
  },
  {
   "cell_type": "markdown",
   "metadata": {},
   "source": [
    "### 1.3.2 인사이트의 발견: 탐색과 시각화하기"
   ]
  },
  {
   "cell_type": "markdown",
   "metadata": {},
   "source": [
    "feature 간의 상관관계를 살펴보겠습니다. 상관계수라는 개념을 먼저 알아야 합니다. 이것은 다른 책에서 공부합시다."
   ]
  },
  {
   "cell_type": "code",
   "execution_count": 28,
   "metadata": {},
   "outputs": [
    {
     "name": "stdout",
     "output_type": "stream",
     "text": [
      "          beer      wine\n",
      "beer  1.000000  0.527172\n",
      "wine  0.527172  1.000000\n"
     ]
    }
   ],
   "source": [
    "# beer와 wine 의 상관관계부터 살펴보자.\n",
    "# pearson 상관계수를 사용해보겠다.\n",
    "\n",
    "corr = drinks[['beer', 'wine']].corr(method = 'pearson')\n",
    "print(corr)"
   ]
  },
  {
   "cell_type": "code",
   "execution_count": 29,
   "metadata": {},
   "outputs": [
    {
     "name": "stdout",
     "output_type": "stream",
     "text": [
      "            beer    spirit      wine     total\n",
      "beer    1.000000  0.458819  0.527172  0.835839\n",
      "spirit  0.458819  1.000000  0.194797  0.654968\n",
      "wine    0.527172  0.194797  1.000000  0.667598\n",
      "total   0.835839  0.654968  0.667598  1.000000\n"
     ]
    }
   ],
   "source": [
    "# 보통 0.7이 넘어가야 유의미하다고 볼 수 있다. 그래도 양의 상관관계를 가지고 있구만.\n",
    "# 다른 것들도 교차로 봐보자.\n",
    "\n",
    "cols = ['beer', 'spirit', 'wine', 'total']\n",
    "corr = drinks[cols].corr(method = 'pearson')\n",
    "print(corr)"
   ]
  },
  {
   "cell_type": "code",
   "execution_count": 30,
   "metadata": {},
   "outputs": [
    {
     "data": {
      "image/png": "[encoded data removed]",
      "text/plain": [
       "<Figure size 432x288 with 2 Axes>"
      ]
     },
     "metadata": {},
     "output_type": "display_data"
    },
    {
     "data": {
      "image/png": "[encoded data removed]",
      "text/plain": [
       "<Figure size 432x432 with 20 Axes>"
      ]
     },
     "metadata": {},
     "output_type": "display_data"
    }
   ],
   "source": [
    "# seaborn 을 통해서 시각화를 해봅시다.\n",
    "\n",
    "import seaborn as sns\n",
    "\n",
    "cols_view = ['beer', 'spirit', 'wine', 'alcohol']\n",
    "sns.set(font_scale = 1.5)\n",
    "hm = sns.heatmap(corr.values,\n",
    "                cbar = True,\n",
    "                annot = True,\n",
    "                square = True,\n",
    "                fmt = '.2f',\n",
    "                annot_kws = {'size':15},\n",
    "                yticklabels = cols_view,\n",
    "                xticklabels = cols_view)\n",
    "\n",
    "plt.tight_layout()\n",
    "plt.show()\n",
    "\n",
    "# 시각화 라이브러리를 이용한 feature 간의 산점도 그래프를 출력합니다.\n",
    "\n",
    "sns.set(style = 'whitegrid', context= 'notebook')\n",
    "sns.pairplot(drinks[['beer', 'spirit', 'wine', 'total']], height = 1.5)\n",
    "\n",
    "plt.show()"
   ]
  },
  {
   "cell_type": "markdown",
   "metadata": {},
   "source": [
    "전체적으로 모든 종류의 술 소비량과 전체 소비량은 양의 상관관계를 보이고 있습니다.\n",
    "\n",
    "특히나 맥주 소비량이 많은 국가에서 전체 소비량이 강한 상관관계를 나타내는 것으로 나타납니다.\n",
    "\n",
    "증류주와 와인은 0.19라는 매우 낮은 상관관계를 가지는 것으로 봐서 상관관계가 있다고 보기는 어려운 것 같습니다."
   ]
  },
  {
   "cell_type": "markdown",
   "metadata": {},
   "source": [
    "### 1.3.3 탐색적 분석 : 스무고개로 개념적 탐색 분석하기"
   ]
  },
  {
   "cell_type": "code",
   "execution_count": 31,
   "metadata": {},
   "outputs": [
    {
     "data": {
      "text/html": [
       "<div>\n",
       "<style scoped>\n",
       "    .dataframe tbody tr th:only-of-type {\n",
       "        vertical-align: middle;\n",
       "    }\n",
       "\n",
       "    .dataframe tbody tr th {\n",
       "        vertical-align: top;\n",
       "    }\n",
       "\n",
       "    .dataframe thead th {\n",
       "        text-align: right;\n",
       "    }\n",
       "</style>\n",
       "<table border=\"1\" class=\"dataframe\">\n",
       "  <thead>\n",
       "    <tr style=\"text-align: right;\">\n",
       "      <th></th>\n",
       "      <th>country</th>\n",
       "      <th>beer</th>\n",
       "      <th>spirit</th>\n",
       "      <th>wine</th>\n",
       "      <th>total</th>\n",
       "      <th>continent</th>\n",
       "    </tr>\n",
       "  </thead>\n",
       "  <tbody>\n",
       "    <tr>\n",
       "      <th>0</th>\n",
       "      <td>Afghanistan</td>\n",
       "      <td>0</td>\n",
       "      <td>0</td>\n",
       "      <td>0</td>\n",
       "      <td>0.0</td>\n",
       "      <td>AS</td>\n",
       "    </tr>\n",
       "    <tr>\n",
       "      <th>1</th>\n",
       "      <td>Albania</td>\n",
       "      <td>89</td>\n",
       "      <td>132</td>\n",
       "      <td>54</td>\n",
       "      <td>4.9</td>\n",
       "      <td>EU</td>\n",
       "    </tr>\n",
       "    <tr>\n",
       "      <th>2</th>\n",
       "      <td>Algeria</td>\n",
       "      <td>25</td>\n",
       "      <td>0</td>\n",
       "      <td>14</td>\n",
       "      <td>0.7</td>\n",
       "      <td>AF</td>\n",
       "    </tr>\n",
       "    <tr>\n",
       "      <th>3</th>\n",
       "      <td>Andorra</td>\n",
       "      <td>245</td>\n",
       "      <td>138</td>\n",
       "      <td>312</td>\n",
       "      <td>12.4</td>\n",
       "      <td>EU</td>\n",
       "    </tr>\n",
       "    <tr>\n",
       "      <th>4</th>\n",
       "      <td>Angola</td>\n",
       "      <td>217</td>\n",
       "      <td>57</td>\n",
       "      <td>45</td>\n",
       "      <td>5.9</td>\n",
       "      <td>AF</td>\n",
       "    </tr>\n",
       "    <tr>\n",
       "      <th>5</th>\n",
       "      <td>Antigua &amp; Barbuda</td>\n",
       "      <td>102</td>\n",
       "      <td>128</td>\n",
       "      <td>45</td>\n",
       "      <td>4.9</td>\n",
       "      <td>OT</td>\n",
       "    </tr>\n",
       "    <tr>\n",
       "      <th>6</th>\n",
       "      <td>Argentina</td>\n",
       "      <td>193</td>\n",
       "      <td>25</td>\n",
       "      <td>221</td>\n",
       "      <td>8.3</td>\n",
       "      <td>SA</td>\n",
       "    </tr>\n",
       "    <tr>\n",
       "      <th>7</th>\n",
       "      <td>Armenia</td>\n",
       "      <td>21</td>\n",
       "      <td>179</td>\n",
       "      <td>11</td>\n",
       "      <td>3.8</td>\n",
       "      <td>EU</td>\n",
       "    </tr>\n",
       "    <tr>\n",
       "      <th>8</th>\n",
       "      <td>Australia</td>\n",
       "      <td>261</td>\n",
       "      <td>72</td>\n",
       "      <td>212</td>\n",
       "      <td>10.4</td>\n",
       "      <td>OC</td>\n",
       "    </tr>\n",
       "    <tr>\n",
       "      <th>9</th>\n",
       "      <td>Austria</td>\n",
       "      <td>279</td>\n",
       "      <td>75</td>\n",
       "      <td>191</td>\n",
       "      <td>9.7</td>\n",
       "      <td>EU</td>\n",
       "    </tr>\n",
       "  </tbody>\n",
       "</table>\n",
       "</div>"
      ],
      "text/plain": [
       "             country  beer  spirit  wine  total continent\n",
       "0        Afghanistan     0       0     0    0.0        AS\n",
       "1            Albania    89     132    54    4.9        EU\n",
       "2            Algeria    25       0    14    0.7        AF\n",
       "3            Andorra   245     138   312   12.4        EU\n",
       "4             Angola   217      57    45    5.9        AF\n",
       "5  Antigua & Barbuda   102     128    45    4.9        OT\n",
       "6          Argentina   193      25   221    8.3        SA\n",
       "7            Armenia    21     179    11    3.8        EU\n",
       "8          Australia   261      72   212   10.4        OC\n",
       "9            Austria   279      75   191    9.7        EU"
      ]
     },
     "execution_count": 31,
     "metadata": {},
     "output_type": "execute_result"
    }
   ],
   "source": [
    "# 아까 대륙값에 결측값이 있었습니다.\n",
    "# 결측값을 others, OT 라고 채워주려 합니다.\n",
    "\n",
    "drinks['continent'] = drinks['continent'].fillna('OT')\n",
    "drinks.head(10)"
   ]
  },
  {
   "cell_type": "code",
   "execution_count": 32,
   "metadata": {},
   "outputs": [
    {
     "data": {
      "image/png": "[encoded data removed]",
      "text/plain": [
       "<Figure size 432x288 with 1 Axes>"
      ]
     },
     "metadata": {},
     "output_type": "display_data"
    }
   ],
   "source": [
    "# OT 가 차지하는 비율을 파이차트로 알아봅시다.\n",
    "\n",
    "labels = drinks['continent'].value_counts().index.tolist()\n",
    "fracs1 = drinks['continent'].value_counts().values.tolist()\n",
    "explode = (0,0,0,0.2,0,0)\n",
    "\n",
    "plt.pie(fracs1, explode = explode, labels= labels, autopct= '%.0f%%', shadow=True)\n",
    "plt.title('null data to \\'OT\\'')\n",
    "plt.show()"
   ]
  },
  {
   "cell_type": "code",
   "execution_count": 33,
   "metadata": {},
   "outputs": [],
   "source": [
    "# drinks['continent'].value_counts().index.tolist()"
   ]
  },
  {
   "cell_type": "code",
   "execution_count": 34,
   "metadata": {},
   "outputs": [],
   "source": [
    "# drinks['continent'].value_counts().values.tolist()"
   ]
  },
  {
   "cell_type": "markdown",
   "metadata": {},
   "source": [
    "#### 대륙별 spirit 의 통계적 정보는 어느 정도일까?"
   ]
  },
  {
   "cell_type": "markdown",
   "metadata": {},
   "source": [
    "agg() 함수는 apply() 함수와 비슷하지만, 그룹에 대한 여러 가지 연산 결과를 동시에 얻을 수 있는 함수이다."
   ]
  },
  {
   "cell_type": "code",
   "execution_count": 35,
   "metadata": {},
   "outputs": [
    {
     "data": {
      "text/html": [
       "<div>\n",
       "<style scoped>\n",
       "    .dataframe tbody tr th:only-of-type {\n",
       "        vertical-align: middle;\n",
       "    }\n",
       "\n",
       "    .dataframe tbody tr th {\n",
       "        vertical-align: top;\n",
       "    }\n",
       "\n",
       "    .dataframe thead th {\n",
       "        text-align: right;\n",
       "    }\n",
       "</style>\n",
       "<table border=\"1\" class=\"dataframe\">\n",
       "  <thead>\n",
       "    <tr style=\"text-align: right;\">\n",
       "      <th></th>\n",
       "      <th>mean</th>\n",
       "      <th>min</th>\n",
       "      <th>max</th>\n",
       "      <th>sum</th>\n",
       "    </tr>\n",
       "    <tr>\n",
       "      <th>continent</th>\n",
       "      <th></th>\n",
       "      <th></th>\n",
       "      <th></th>\n",
       "      <th></th>\n",
       "    </tr>\n",
       "  </thead>\n",
       "  <tbody>\n",
       "    <tr>\n",
       "      <th>AF</th>\n",
       "      <td>16.339623</td>\n",
       "      <td>0</td>\n",
       "      <td>152</td>\n",
       "      <td>866</td>\n",
       "    </tr>\n",
       "    <tr>\n",
       "      <th>AS</th>\n",
       "      <td>60.840909</td>\n",
       "      <td>0</td>\n",
       "      <td>326</td>\n",
       "      <td>2677</td>\n",
       "    </tr>\n",
       "    <tr>\n",
       "      <th>EU</th>\n",
       "      <td>132.555556</td>\n",
       "      <td>0</td>\n",
       "      <td>373</td>\n",
       "      <td>5965</td>\n",
       "    </tr>\n",
       "    <tr>\n",
       "      <th>OC</th>\n",
       "      <td>58.437500</td>\n",
       "      <td>0</td>\n",
       "      <td>254</td>\n",
       "      <td>935</td>\n",
       "    </tr>\n",
       "    <tr>\n",
       "      <th>OT</th>\n",
       "      <td>165.739130</td>\n",
       "      <td>68</td>\n",
       "      <td>438</td>\n",
       "      <td>3812</td>\n",
       "    </tr>\n",
       "  </tbody>\n",
       "</table>\n",
       "</div>"
      ],
      "text/plain": [
       "                 mean  min  max   sum\n",
       "continent                            \n",
       "AF          16.339623    0  152   866\n",
       "AS          60.840909    0  326  2677\n",
       "EU         132.555556    0  373  5965\n",
       "OC          58.437500    0  254   935\n",
       "OT         165.739130   68  438  3812"
      ]
     },
     "execution_count": 35,
     "metadata": {},
     "output_type": "execute_result"
    }
   ],
   "source": [
    "# 대륙별 spirit 의 평균 최소 최대 합계를 계산해보자.\n",
    "\n",
    "result = drinks.groupby('continent').spirit.agg(['mean', 'min', 'max', 'sum'])\n",
    "result.head()"
   ]
  },
  {
   "cell_type": "markdown",
   "metadata": {},
   "source": [
    "#### 전체 평균보다 많은 알콜을 섭취하는 대륙은 어디일까?"
   ]
  },
  {
   "cell_type": "markdown",
   "metadata": {},
   "source": [
    "agg() 나 apply() 없이도 mean() 으로 탐색할 수 있다."
   ]
  },
  {
   "cell_type": "code",
   "execution_count": 36,
   "metadata": {},
   "outputs": [
    {
     "name": "stdout",
     "output_type": "stream",
     "text": [
      "continent\n",
      "EU    8.617778\n",
      "OT    5.995652\n",
      "SA    6.308333\n",
      "Name: total, dtype: float64\n"
     ]
    }
   ],
   "source": [
    "total_mean = drinks.total.mean()\n",
    "continent_mean = drinks.groupby('continent')['total'].mean()\n",
    "continent_over_mean = continent_mean[continent_mean >= total_mean]\n",
    "print(continent_over_mean)"
   ]
  },
  {
   "cell_type": "markdown",
   "metadata": {},
   "source": [
    "#### 평균 beer 소비량이 가장 높은 대륙은 어디일까?"
   ]
  },
  {
   "cell_type": "markdown",
   "metadata": {},
   "source": [
    "mean() 함수만을 이용한 탐색에 idxmax() 함수를 적용하면 쉽게 찾을 수 있다. idxmax()는 시리즈 객체에서 값이 가장 큰 index를 반환한다."
   ]
  },
  {
   "cell_type": "code",
   "execution_count": 37,
   "metadata": {},
   "outputs": [
    {
     "name": "stdout",
     "output_type": "stream",
     "text": [
      "EU\n"
     ]
    }
   ],
   "source": [
    "beer_continent = drinks.groupby('continent').beer.mean().idxmax()\n",
    "print(beer_continent)"
   ]
  },
  {
   "cell_type": "markdown",
   "metadata": {},
   "source": [
    "#### 시각화"
   ]
  },
  {
   "cell_type": "code",
   "execution_count": 38,
   "metadata": {},
   "outputs": [
    {
     "data": {
      "image/png": "[encoded data removed]",
      "text/plain": [
       "<Figure size 432x288 with 1 Axes>"
      ]
     },
     "metadata": {},
     "output_type": "display_data"
    }
   ],
   "source": [
    "# 대륙별 spirit 의 평균, 최소, 최대, 합계를 시각화합니다.\n",
    "\n",
    "n_groups = len(result.index)\n",
    "means = result['mean'].tolist()\n",
    "mins = result['min'].tolist()\n",
    "maxs = result['max'].tolist()\n",
    "sums = result['sum'].tolist()\n",
    "\n",
    "index = np.arange(n_groups)\n",
    "bar_width = 0.1\n",
    "\n",
    "rects1 = plt.bar(index, means, bar_width, color= 'r', label = 'Mean')\n",
    "rects2 = plt.bar(index+ bar_width, mins, bar_width, color= 'g', label = 'Min')\n",
    "rects3 = plt.bar(index+ bar_width *2, maxs, bar_width, color= 'b', label = 'Max')\n",
    "rects4 = plt.bar(index+ bar_width *3, sums, bar_width, color= 'y', label = 'Sum')\n",
    "\n",
    "plt.xticks(index, result.index.tolist())\n",
    "plt.legend()\n",
    "plt.show()"
   ]
  },
  {
   "cell_type": "code",
   "execution_count": 39,
   "metadata": {},
   "outputs": [
    {
     "data": {
      "image/png": "[encoded data removed]",
      "text/plain": [
       "<Figure size 432x288 with 1 Axes>"
      ]
     },
     "metadata": {},
     "output_type": "display_data"
    }
   ],
   "source": [
    "# 대륙별 total 을 시각화합니다.\n",
    "\n",
    "continents = continent_mean.index.tolist()\n",
    "continents.append('mean')\n",
    "x_pos = np.arange(len(continents))\n",
    "alcohol = continent_mean.tolist()\n",
    "alcohol.append(total_mean)\n",
    "\n",
    "bar_list = plt.bar(x_pos, alcohol, align= 'center', alpha = 0.5)\n",
    "bar_list[len(continents) - 1].set_color('r')\n",
    "plt.plot([0, 6], [total_mean, total_mean], \"k--\")\n",
    "plt.xticks(x_pos, continents)\n",
    "\n",
    "plt.ylabel('total')\n",
    "plt.title('total by Continents')\n",
    "\n",
    "plt.show()"
   ]
  },
  {
   "cell_type": "code",
   "execution_count": 40,
   "metadata": {},
   "outputs": [
    {
     "data": {
      "image/png": "[encoded data removed]",
      "text/plain": [
       "<Figure size 432x288 with 1 Axes>"
      ]
     },
     "metadata": {},
     "output_type": "display_data"
    }
   ],
   "source": [
    "# 대륙별 beer 를 시각화 합니다.\n",
    "\n",
    "beer_group = drinks.groupby('continent')['beer'].sum()\n",
    "continents = beer_group.index.tolist()\n",
    "y_pos = np.arange(len(continents))\n",
    "alcohol = beer_group.tolist()\n",
    "\n",
    "bar_list = plt.bar(y_pos, alcohol, align = 'center', alpha = 0.5)\n",
    "bar_list[continents.index(\"EU\")].set_color('r')\n",
    "plt.xticks(y_pos, continents)\n",
    "plt.ylabel('beer')\n",
    "plt.title('beer by Continents')\n",
    "\n",
    "plt.show()"
   ]
  },
  {
   "cell_type": "code",
   "execution_count": 41,
   "metadata": {},
   "outputs": [
    {
     "name": "stdout",
     "output_type": "stream",
     "text": [
      "[16.339622641509433, 60.84090909090909, 132.55555555555554, 58.4375, 165.7391304347826, 114.75]\n",
      "[0, 0, 0, 0, 68, 25]\n",
      "[152, 326, 373, 254, 438, 302]\n",
      "[866, 2677, 5965, 935, 3812, 1377]\n"
     ]
    }
   ],
   "source": [
    "# 미니퀴즈 해보자. 1-3\n",
    "\n",
    "means = result['mean'].tolist()\n",
    "mins = result['min'].tolist()\n",
    "maxs = result['max'].tolist()\n",
    "sums = result['sum'].tolist()\n",
    "\n",
    "print(means)\n",
    "print(mins)\n",
    "print(maxs)\n",
    "print(sums)"
   ]
  },
  {
   "cell_type": "code",
   "execution_count": 42,
   "metadata": {},
   "outputs": [
    {
     "data": {
      "text/html": [
       "<div>\n",
       "<style scoped>\n",
       "    .dataframe tbody tr th:only-of-type {\n",
       "        vertical-align: middle;\n",
       "    }\n",
       "\n",
       "    .dataframe tbody tr th {\n",
       "        vertical-align: top;\n",
       "    }\n",
       "\n",
       "    .dataframe thead th {\n",
       "        text-align: right;\n",
       "    }\n",
       "</style>\n",
       "<table border=\"1\" class=\"dataframe\">\n",
       "  <thead>\n",
       "    <tr style=\"text-align: right;\">\n",
       "      <th></th>\n",
       "      <th>mean</th>\n",
       "      <th>min</th>\n",
       "      <th>max</th>\n",
       "      <th>sum</th>\n",
       "    </tr>\n",
       "    <tr>\n",
       "      <th>continent</th>\n",
       "      <th></th>\n",
       "      <th></th>\n",
       "      <th></th>\n",
       "      <th></th>\n",
       "    </tr>\n",
       "  </thead>\n",
       "  <tbody>\n",
       "    <tr>\n",
       "      <th>AF</th>\n",
       "      <td>16.339623</td>\n",
       "      <td>0</td>\n",
       "      <td>152</td>\n",
       "      <td>866</td>\n",
       "    </tr>\n",
       "    <tr>\n",
       "      <th>AS</th>\n",
       "      <td>60.840909</td>\n",
       "      <td>0</td>\n",
       "      <td>326</td>\n",
       "      <td>2677</td>\n",
       "    </tr>\n",
       "    <tr>\n",
       "      <th>EU</th>\n",
       "      <td>132.555556</td>\n",
       "      <td>0</td>\n",
       "      <td>373</td>\n",
       "      <td>5965</td>\n",
       "    </tr>\n",
       "    <tr>\n",
       "      <th>OC</th>\n",
       "      <td>58.437500</td>\n",
       "      <td>0</td>\n",
       "      <td>254</td>\n",
       "      <td>935</td>\n",
       "    </tr>\n",
       "    <tr>\n",
       "      <th>OT</th>\n",
       "      <td>165.739130</td>\n",
       "      <td>68</td>\n",
       "      <td>438</td>\n",
       "      <td>3812</td>\n",
       "    </tr>\n",
       "  </tbody>\n",
       "</table>\n",
       "</div>"
      ],
      "text/plain": [
       "                 mean  min  max   sum\n",
       "continent                            \n",
       "AF          16.339623    0  152   866\n",
       "AS          60.840909    0  326  2677\n",
       "EU         132.555556    0  373  5965\n",
       "OC          58.437500    0  254   935\n",
       "OT         165.739130   68  438  3812"
      ]
     },
     "execution_count": 42,
     "metadata": {},
     "output_type": "execute_result"
    }
   ],
   "source": [
    "result.head()"
   ]
  },
  {
   "cell_type": "markdown",
   "metadata": {},
   "source": [
    "### 1.3.4 통계적 분석 : 분석 대상 간의 통계적 차이 검정하기"
   ]
  },
  {
   "cell_type": "markdown",
   "metadata": {},
   "source": [
    "지금까지 상관관계를 살펴보았으나, 이러한 분석은 주관적이므로 타당성을 부여해주어야 한다.\n",
    "\n",
    "가장 기본적인 t 검정을 해보자."
   ]
  },
  {
   "cell_type": "code",
   "execution_count": 43,
   "metadata": {},
   "outputs": [
    {
     "name": "stdout",
     "output_type": "stream",
     "text": [
      "The t-statistic and p-value assuming equal variances is -7.268 and 0.000\n",
      "The t-statistic and p-value not assuming equal variances is -7.144 and 0.000\n"
     ]
    }
   ],
   "source": [
    "# 파이썬에는 scipy 라이브러리에서 t-test를 제공한다.\n",
    "\n",
    "# 아프리카와 유럽 간의 맥주 소비량 차이를 검정합니다.\n",
    "africa = drinks.loc[drinks['continent']=='AF']\n",
    "europe = drinks.loc[drinks['continent']=='EU']\n",
    "\n",
    "from scipy import stats\n",
    "tTestResult = stats.ttest_ind(africa['beer'], europe['beer'])\n",
    "tTestResultDiffVar = stats.ttest_ind(africa['beer'], europe['beer'], equal_var = False)\n",
    "\n",
    "print(\"The t-statistic and p-value assuming equal variances is %.3f and %.3f\" %tTestResult)\n",
    "print(\"The t-statistic and p-value not assuming equal variances is %.3f and %.3f\" %tTestResultDiffVar)"
   ]
  },
  {
   "cell_type": "markdown",
   "metadata": {},
   "source": [
    "#### 대한민국은 얼마나 술을 독하게 마시는 나라일까?"
   ]
  },
  {
   "cell_type": "code",
   "execution_count": 44,
   "metadata": {},
   "outputs": [
    {
     "data": {
      "text/html": [
       "<div>\n",
       "<style scoped>\n",
       "    .dataframe tbody tr th:only-of-type {\n",
       "        vertical-align: middle;\n",
       "    }\n",
       "\n",
       "    .dataframe tbody tr th {\n",
       "        vertical-align: top;\n",
       "    }\n",
       "\n",
       "    .dataframe thead th {\n",
       "        text-align: right;\n",
       "    }\n",
       "</style>\n",
       "<table border=\"1\" class=\"dataframe\">\n",
       "  <thead>\n",
       "    <tr style=\"text-align: right;\">\n",
       "      <th></th>\n",
       "      <th>country</th>\n",
       "      <th>alcohol_rate</th>\n",
       "    </tr>\n",
       "  </thead>\n",
       "  <tbody>\n",
       "    <tr>\n",
       "      <th>63</th>\n",
       "      <td>Gambia</td>\n",
       "      <td>0.266667</td>\n",
       "    </tr>\n",
       "    <tr>\n",
       "      <th>153</th>\n",
       "      <td>Sierra Leone</td>\n",
       "      <td>0.223333</td>\n",
       "    </tr>\n",
       "    <tr>\n",
       "      <th>124</th>\n",
       "      <td>Nigeria</td>\n",
       "      <td>0.185714</td>\n",
       "    </tr>\n",
       "    <tr>\n",
       "      <th>179</th>\n",
       "      <td>Uganda</td>\n",
       "      <td>0.153704</td>\n",
       "    </tr>\n",
       "    <tr>\n",
       "      <th>142</th>\n",
       "      <td>Rwanda</td>\n",
       "      <td>0.151111</td>\n",
       "    </tr>\n",
       "  </tbody>\n",
       "</table>\n",
       "</div>"
      ],
      "text/plain": [
       "          country  alcohol_rate\n",
       "63         Gambia      0.266667\n",
       "153  Sierra Leone      0.223333\n",
       "124       Nigeria      0.185714\n",
       "179        Uganda      0.153704\n",
       "142        Rwanda      0.151111"
      ]
     },
     "execution_count": 44,
     "metadata": {},
     "output_type": "execute_result"
    }
   ],
   "source": [
    "# total_servings feature 를 생성한다.\n",
    "\n",
    "drinks['total_servings'] = drinks['beer'] + drinks['wine'] + drinks['spirit']\n",
    "\n",
    "# 술 소비량 대비 알코올 비율 feature를 생성한다.\n",
    "\n",
    "drinks['alcohol_rate'] = drinks['total'] / drinks['total_servings']\n",
    "drinks['alcohol_rate'] = drinks['alcohol_rate'].fillna(0)\n",
    "\n",
    "# 순위 정보를 생성합니다.\n",
    "\n",
    "country_with_rank = drinks[['country', 'alcohol_rate']]\n",
    "country_with_rank = country_with_rank.sort_values(by = ['alcohol_rate'], ascending=0)\n",
    "country_with_rank.head(5)"
   ]
  },
  {
   "cell_type": "markdown",
   "metadata": {},
   "source": [
    "#### 국가별 순위 정보를 시각화하기"
   ]
  },
  {
   "cell_type": "code",
   "execution_count": 45,
   "metadata": {},
   "outputs": [
    {
     "data": {
      "image/png": "[encoded data removed]",
      "text/plain": [
       "<Figure size 432x288 with 1 Axes>"
      ]
     },
     "metadata": {},
     "output_type": "display_data"
    }
   ],
   "source": [
    "country_list = country_with_rank.country.tolist()\n",
    "x_pos = np.arange(len(country_list))\n",
    "rank = country_with_rank.alcohol_rate.tolist()\n",
    "\n",
    "bar_list = plt.bar(x_pos, rank)\n",
    "bar_list[country_list.index(\"South Korea\")].set_color('r')\n",
    "plt.ylabel('alcohol rate')\n",
    "plt.title('liquor drink rank by country')\n",
    "plt.axis([0, 200, 0, 0.3])\n",
    "\n",
    "korea_rank = country_list.index(\"South Korea\")\n",
    "korea_alc_rate = country_with_rank[country_with_rank['country'] == 'South Korea']['alcohol_rate'].values[0]\n",
    "plt.annotate('South Korea : ' + str(korea_rank - 1),\n",
    "            xy = (korea_rank, korea_alc_rate),\n",
    "            xytext = (korea_rank +10, korea_alc_rate + 0.05),\n",
    "            arrowprops=dict(facecolor='red', shrink=0.05))\n",
    "\n",
    "plt.show()"
   ]
  },
  {
   "cell_type": "markdown",
   "metadata": {},
   "source": [
    "## 1.4 연습문제"
   ]
  },
  {
   "cell_type": "markdown",
   "metadata": {},
   "source": [
    "두 번째 예제인 국가별 음주 데이터를 통해서 다음과 같은 문제를 해결해보자.\n",
    "\n",
    "- 1. 대륙별 wine 을 탐색한다.\n",
    "- 2. 국가별 모든 servings 의 합을 계산한 total_servings 라는 feature를 생성한다.\n",
    "- 3. 전체 평균보다 적은 알코올을 마시는 대륙 중, spirit을 가장 많이 마시는 국가를 찾아본다.\n",
    "- 4. 술 소비량 대비 알코올 비율을 구해본다.\n",
    "- 5. 대륙별로 술 소비량 대비 알코올 비율을 계산해보자."
   ]
  },
  {
   "cell_type": "markdown",
   "metadata": {},
   "source": [
    "# Chapter2 Text Mining"
   ]
  },
  {
   "cell_type": "markdown",
   "metadata": {},
   "source": [
    "## 2.1 웹 크롤링으로 기초 데이터 수집하기"
   ]
  },
  {
   "cell_type": "code",
   "execution_count": 1,
   "metadata": {},
   "outputs": [
    {
     "name": "stdout",
     "output_type": "stream",
     "text": [
      "Requirement already satisfied: lxml in c:\\users\\thinp\\anaconda3\\lib\\site-packages (4.3.2)\n",
      "Requirement already satisfied: beautifulsoup4 in c:\\users\\thinp\\anaconda3\\lib\\site-packages (4.7.1)\n",
      "Requirement already satisfied: requests in c:\\users\\thinp\\anaconda3\\lib\\site-packages (2.21.0)\n",
      "Requirement already satisfied: soupsieve>=1.2 in c:\\users\\thinp\\anaconda3\\lib\\site-packages (from beautifulsoup4) (1.8)\n",
      "Requirement already satisfied: chardet<3.1.0,>=3.0.2 in c:\\users\\thinp\\anaconda3\\lib\\site-packages (from requests) (3.0.4)\n",
      "Requirement already satisfied: certifi>=2017.4.17 in c:\\users\\thinp\\anaconda3\\lib\\site-packages (from requests) (2019.11.28)\n",
      "Requirement already satisfied: urllib3<1.25,>=1.21.1 in c:\\users\\thinp\\anaconda3\\lib\\site-packages (from requests) (1.24.1)\n",
      "Requirement already satisfied: idna<2.9,>=2.5 in c:\\users\\thinp\\anaconda3\\lib\\site-packages (from requests) (2.8)\n",
      "Note: you may need to restart the kernel to use updated packages.\n"
     ]
    }
   ],
   "source": [
    "pip install lxml beautifulsoup4 requests"
   ]
  },
  {
   "cell_type": "markdown",
   "metadata": {},
   "source": [
    "#### 웹 크롤링 라이브러리 사용하기"
   ]
  },
  {
   "cell_type": "code",
   "execution_count": 3,
   "metadata": {},
   "outputs": [],
   "source": [
    "import requests\n",
    "from bs4 import BeautifulSoup\n",
    "import re"
   ]
  },
  {
   "cell_type": "code",
   "execution_count": 4,
   "metadata": {},
   "outputs": [
    {
     "name": "stdout",
     "output_type": "stream",
     "text": [
      "https://namu.wiki/w/%EA%B8%89%EC%8B%9D%EC%99%95%26%EA%B8%89%EC%8B%9D%EA%B1%B8%EC%A6%88/%EB%93%B1%EC%9E%A5%EC%9D%B8%EB%AC%BC\n",
      "https://namu.wiki/w/%ED%94%8C%EB%A1%9C%EB%A6%AC%EB%82%98%20%EB%B9%84%EC%B9%98\n",
      "https://namu.wiki/w/%EC%95%84%EB%9D%BC(%EB%B9%A0%EC%83%A4%EB%A9%94%EC%B9%B4%EB%93%9C)\n",
      "https://namu.wiki/w/%EC%82%AC%EC%9D%BC%EB%9F%B0%ED%8A%B8%20%ED%9E%90:%20%EB%8B%A4%EC%9A%B4%ED%8F%AC%EC%96%B4\n",
      "https://namu.wiki/w/%ED%98%B8%EC%95%84%ED%82%A8%20%EC%95%84%EB%A5%B4%EC%B9%98%EB%B0%9C%EB%8F%84%20%EA%B5%AC%EC%8A%A4%EB%A7%8C%20%EB%A1%9C%EC%97%90%EB%9D%BC\n"
     ]
    }
   ],
   "source": [
    "# 크롤링할 사이트 주소를 정의합니다.\n",
    "source_url = \"https://namu.wiki/RecentChanges\"\n",
    "\n",
    "# 사이트의 HTML 구조에 기반하여 크롤링을 수행합니다.\n",
    "req = requests.get(source_url)\n",
    "html = req.content\n",
    "soup = BeautifulSoup(html, 'lxml')\n",
    "contents_table = soup.find(name=\"table\")\n",
    "table_body = contents_table.find(name=\"tbody\")\n",
    "table_rows = table_body.find_all(name=\"tr\")\n",
    "\n",
    "# a 태그의 href 속성을 리스트로 추출하여 크롤링할 페이지 리스트를 생성합니다.\n",
    "page_url_base = \"https://namu.wiki\"\n",
    "page_urls = []\n",
    "for index in range(0, len(table_rows)):\n",
    "    first_td = table_rows[index].find_all('td')[0]\n",
    "    td_url = first_td.find_all('a')\n",
    "    if len(td_url) > 0:\n",
    "        page_url = page_url_base + td_url[0].get('href')\n",
    "        if 'png' not in page_url:\n",
    "            page_urls.append(page_url)\n",
    "        \n",
    "# 중복 url을 제거합니다.\n",
    "page_urls = list(set(page_urls))\n",
    "for page in page_urls[:5]:\n",
    "    print(page)"
   ]
  },
  {
   "cell_type": "markdown",
   "metadata": {},
   "source": [
    "#### 텍스트 정보 수집하기"
   ]
  },
  {
   "cell_type": "code",
   "execution_count": 5,
   "metadata": {
    "scrolled": true
   },
   "outputs": [
    {
     "name": "stdout",
     "output_type": "stream",
     "text": [
      "급식왕&급식걸즈/등장인물 \n",
      "\n",
      "\n",
      "급식왕&급식걸즈\n",
      "\n",
      "\n",
      "   상위 문서: 급식왕&급식걸즈   관련 문서: 급식왕&급식걸즈/사건사고   하위 문서: 알렉스 재단1. 등장인물 일람1.1.  급식왕 학교 학생들과 선생님들1.2. 조연1.2.1. 손가락쌤1.2.2. 광자&데이지 엄마1.2.2.1. 대표 대사1.2.3. 두더지 엄마1.2.3.1. 대표 대사1.2.4. 뽀글이 아줌마1.2.5. 방구 아저씨1.2.6. 흥구기 1.2.6.1. 대표 대사1.2.7. 티라노1.2.7.1. 대표 대사1.2.8. 야반장1.2.8.1. 대표 대사1.2.9. 최실장1.2.9.1. 대표 대사1.2.10. 하마형1.2.11. 단추 아저씨1.2.12. 쭈뇽이1.2.13. 이지영1.2.14. 조각쌤1.2.15. 염라대왕1.2.15.1. 대표 대사1.2.16. 저승사자1.2.17. 캐디1.2.18. 아리(구미호)1.2.19. 바가지 아주머니1.2.20. 충섭이1.2.21. 방종원1.2.22. 얌첸(얌谦)1.2.23. 레온1.2.24. 두꺼비 아저씨1.3. 빌런1.3.1. 알렉스 재단1.3.2. 메기1.3.3. 할리퀸1.3.4. 박공주1.3.4.1. 대표 대사1.3.5. 장첸(张谦)1.3.5.1. 대표 대사1.3.6. 입술괴물1.3.6.1. 대표 대사1.3.7. 미래 두더지1.3.7.1. 대표 대사1.3.8. 연쇄살인범1.3.9. 건달1.3.10. 비실이 기자1.4. 하차한 배우1.4.1. 정광진 1.4.2. 문민정1.4.3. 김기쁨1.4.4. 조은쌤1.5. 단역1.5.1. 이슬 보건쌤1.5.1.1. 기타 단역급식왕 학교 교직원&학생두더지징징이데이지머머리 교장쌤김그라쌤발가락쌤구구쌤(원더구구)깝숙이 방울이 티라노 광자 엄마 두더지 엄마두더지 아빠온달쌤아리(구미호)얌생이이계인감재바우주연 멤버는 급식왕 학교 문서에 거의 수록되어 있다.각 등장인물의 대표 대사는 2번 이상 말하면 수록하도록한 등장인물이 2개월 동안 안나오면 문서 옆에 휴먼 상태라 서술하시오.새로운 등장인물은 밑에서부터 기재해주십시오. 급식왕 등장인물 틀에 링크가 맞지 않아져서 일일이 수정하기 곤란합니다. 자세한 내용은 급식왕 학교 문서를 참고하십시오.발가락쌤의 학창시절 친구이며 피아노 학원과 미술학원을 운영한다.손으로 하는건 뭐든지 다 잘한다고 한다.배우: 박은영집 안의 절대 권력자 1일명: 데프콘 아줌마. 엄마한테 안혼나는 꿀팁편에서 첫등장. 엄청 힘이 세다. 그야말로 집안의 절대 권력자[1]광자와 데이지의 엄마이다.[2]광자가 학원에 빠지고 두더지랑 같이 PC방에 가거나 게임할 때 무섭게 변한다. 그리고 지구 끝까지 쫒아가서 혼낸다. 심지어 데이지의 경우 전국1등을 놓치기만 해도 분노한다.현직 군인이라서 그런지 데이지에게 공부를 시킬때 군대식으로 시키기도 하였으며, 눈알마녀나 얌생이한테 미사일 지원사격을 퍼붓기도 하였다.뚜루빡라는 유튜브 채널도 운영 중이다.지금까지 두더지, 덩어리, 얌생이는 만났지만, 방울이, 깝숙이, 징징이, 두순이는 만나지 못했다.실제로 개그우먼 눈알마녀 김정현과 친구이고 91년생 동갑내기로 항상 같이 다니곤 한다.그리고 현재 경인방송 라디오에서 '조수연의 뿜뿜라디오' 의 MC로 김정현(눈알마녀)와 같이 출연하고 있다.배우: 조수연두더지: 알랄랄랄랄라 알랄랄랄랄라 데프콘 엄마:내가 그거 하지말라고 몇번을 말했냐하나, 둘, 둘 반, 둘 반에 반, 둘 반에 반에 반! 셋!광자:일어났다! 늦었다! 늦었다!여기는 알파! 여기는 알파! 브라보 나와라 브라보! (미사일 발사할 때)좌표 0-0! (예로 들면 3-2) 목표물 0000발견! (등장인물 중 하나)스탠바이! 미사일 발사!(미사일 발사할 때)데프콘 발령!!집 안의 절대 권력자 2일명: 눈알마녀. 엄마몰래 몰컴하는 꿀팁에 첫 등장하였다.권투를 좋아하고 집에서도 권투 장갑을 끼고있다. 집안일을 하거나, 집에서 권투 연습을 하며 요즘 노래를 부르는데, 가사가 엉터리가 되거나, 노래 부르다가 갑자기 어떤 음식이 먹고 싶어진다고 한다. 그리고 눈알마녀는 실제로 권투선수였다고 한다.두더지에게 협박도 자주 한다.그리고 두더지가 게임하거나 PC방에 가거나 시험점수 평균 20점을 넘지 못하면 권투를 하고 두더지를 때린다. 법정 제재 받을듯..특히나 눈알이 튀어나올것 같은 힘을 가지며 권투 챔피언이다.두더지 이계인 이별하다 편에서 이계인을 쫓아냈다.[3] 이 편에서는 냉혹한 모습을 보여주었다.아니, 그럼 왜 사귀라고 하냐고?지금까지 광자, 얌생이, 두순이, 징징이는 만났지만, 방울이랑 깝숙이, 덩어리는 만나지 못했다.참고로 데프콘엄마와 '조수연의 뿜뿜라디오' 의 게스트 등으로 출연하고는 한다. 상술했듯이 실제 둘이 91년생 친구이고 자주 같이 다닌다.인싸정현이라는 유튜브 채널도 운영 중이다.최근 출산을 했다. 아기의 이름은 '두루미'.이 집안은 두 씨가문 인가보다.배우: 김정현두더지! 너 또 (19점 이하 점수)를 맞아?!?!(라고 한 후 때린다)파일:뽀글이 아줌마.png'미용실 유형'에서 첫 등장 징징이의 엄마이다배우: 고은영문방구 사장님이며 맨날 방귀를 뀐다.발가락쌤이 문방구에서 진상짓을 해서 발가락쌤한테 방귀를 뀌자, 발가락쌤한테 발냄새로 응징당하기도 했다.배우 : 박가브리엘두더지 아빠로 출현하고 있다. 아들과 함께 눈알마녀한테 맞고 다닌다술을 좋아하는 듯 하다. 그래서인지 눈알마녀가 복숭아 술을 만들때, 흥구기가 다 먹어 치우는거 아닐까 하는 걱정을 하였다.데프콘과 눈알마녀의 싸움, 강함에 대해 잘 아는 인물이다. 데프콘과 눈알마녀가 싸울때, 국가에서 무려 군대를 투입해 사태를 해결하려다 포기했다고 밝혔다.배우:서기원으하~들이대~겨울방학 보내는 유형에서 나왔으며게임 하는 유형 에서도 나왔다 발가락 쌤과 함께 동네바보이다.출연했을 때 맛집탐방형, 수술 하는 형에 나왔으며 있는 처음 출연했을때 오뎅을 다 먹을려 했지만 돈이 없어서 못먹었다.[4] 발가락 쌤과 친하다.[5]그리고 두개골이 남들보다 두꺼워서 총상을 맞았는데 총알이 튕겨 살았다. 의사선생은 의사경력 20년만에 이런 사람 처음봤다고 한다.출연하다 발가락쌤 절친설정으로 친해져서 그 이후 등장이 늘어났다.가족관계로 숨겨진 재벌 형과 누나가 있다. 사촌관계로는 레온이 있다.[6] 허나 레온은 티라노보다 멍청하다.개인 채널인 킹클럽을 운영 중이다.[7]배우 : 박동건제가 바본줄 알아요!? 저 바보 아니거든요?옛말에 이런말 몰라요?[8] 그런 말이 있어?[9]헉! 착한 사람이다쏘옥쏙쏙~ 방울 빙글빙글 열혈형사야반장 캐릭터 소개\"야~\", \"요~\" 거리는 급식왕 학교 동네의 형사이다.알렉스를 퇴치하기 위해 나왔지만 알렉스에게 살해당한다.[스포일러]여담으로, 강자로 꼽히는 인물 중 하나인데, 발가락쌤과 급식왕 학교 학생들[11]이 힘을 모아서 겨우겨우 쓰러트린 최실장을 1대1로 싸워서 이길 정도이다. 배우: 손민혁○○이야~!!!○○이에요~!!!알렉스 드라마 시즌1의 분기별 보스이며, 알렉스와 티라노의 비서다. 급식왕 내에서 싸움을 잘 한다고 꼽힌다.[12]알렉스 시즌 1 & 2편에 처음 나왔고 알렉스 시즌 2 3화에서 야반장과 대결하다가 야반장에게 패배한 뒤, 등장이 없었으나 알렉스 시즌 3에서 대표가 된 티라노의 비서가 되는 것과 동시에 개과천선하면서 재등장한다.감방 간 거 아니었어?[13] 시즌3 2화부터 알렉스를 배신한다.[14] 이후, 시즌3 3화에서 헤라를 쓰러트리러 갔다가 마뚱석이랑 대결하게 되는데 마뚱석의 엄청난 맷집과 힘에 결국 패배하고 만다. 그 이후로는 미등장 중. 시즌 4에서 활약을 할지는 불명이다.[15]급식왕에서 최초로 갱생한 캐릭터이다.여담으로, 등장할 때마다 헤어스타일이 많이 바뀌는 캐릭터이기도 하다.배우: 주성중최실장입니다[16]배달 음식 받는 유형ㅋㅋㅋㅋㅋ, 싸우는 유형 ㅋㅋㅋㅋ 싸울때 꼭 이런 친구 있음에 나온다.  두더지한테 돈을 뺏고 폭력했으나, 모띠(광자)에게 참변됐다.그후 중국집 배달원으로 일하고 있다. 중국집 직원이 돼서 외계로 배달갔을땐 뚜띠모띠에게 엄청빨리 맛있는 짬뽕 짜장면을 배달 해 줄 정도로 수준급의 솜씨다.[17]]감재바우 사장님한테 맨날 구박받는다.배우: 이병선미용실 주인이며 미용실 유형에서 나왔다.배우: 김일희태권도관장으로 발가락쌤과 학창시절 친구이며 허세왕으로 유명하고[18] 깝숙이의 외삼촌이다.쭈뇽이는 실제로 태권도하는 지도진이고 레드불킥잇의 MC이며YJY도장의 대표이다 유튜브에 쭈뇽이TV로 활동중이다.주로 발차기, 격파영상. 위주로올린다.[19]먹는걸 좋아하는지 자면서도 먹는다.[20]뚜띠모띠 여자때려주는남자 혼내주기태권도하는유형엄마VS재벌 태권도관장VS발가락쌤편급식걸즈 추석유형에서 등장한다.배우:여준용태권도하는유형에서 흰띠로 두더지와 겨루기를하는편. 호신술유형, 여자때려주는남자 혼내주기에서 등장한다.현재 쭈뇽이와 같이 쭈뇽이TV에서활동중이다.이지영선수는 실제로는 검은띠 자유품새선수와 코치를겸하고있고 쭈뇽이의제자+여친이다배우:이지영급식걸즈에선 조연인데 급식왕에서 '이계인 새로운 사랑에 빠지다?'편에 처음으로 등장을했다. 그전에 급식왕에서는 발가락쌤과 구구쌤 결혼하는 에피소드에서 카메오로선행출연했다. 바퀴벌레를 아주 무서워한다.배우: 김건영(1등 미디어의 배그 1등)하늘나라의 왕이자 저승사자의 형. 판관바우가 목소리를 올리면 화를 내기도 한다.배우: 박성호화가 난다!! 화가나!@@!!!@![21]수고 했어. 브라더~죽은 사람들을 데리러 가는 역할이자, 염라대왕의 동생. 염라대왕 처럼 성격이 엄격한 편.[22]여담으로 염라대왕의 수염과 같다.[23]배우: 박성호급식왕 어드벤쳐에서 요정을 맡고있는 배우. 두더지를 도와준다배우: 전수희구미호아리 캐릭터 소개정식 이름은 '아리'다.우리집에 귀신이 산다...(feat.구미호)편에서 첫 등장.징징이랑 취향이 비슷해서 금방 친해졌다. 얼마나 친해졌으면 아리를 업을 정도.방울이도 놓쳤는데 그냥 아리랑 사귀자 징징아얌생이가 아줌마라고 부르는 걸 싫어한다.배우: 박소영깝숙이 엄마 겸 급식왕 학교 화장실 청소부.배우: 윤효동얌생이의 3명밖에 없는 친구 중 3명앞으로 더 나와서 활약했으면... 여담으로 떡볶이 먹는 유형에 잠깐 나왔다배우: 심충섭급식걸즈에만 나와서 여러 가지 신박한 음식들을 리뷰하는 인물이다. 충청도 방언을 쓴다. 모티브는 이 분인 것 같다.배우:손별이파일:얌첸.jpg얌생이 사촌형이다. 소매치기를 저지른 범죄자로서 3년 동안 감옥에 갇혀있다가 출소했다. 그후 원더구구 2편에 나왔다.배우: 남태령티라노•알렉스 형제의 사촌 형이다. 티라노보다 멍청하다고 한다이 집안 혈통 상태가코브라 박사의 명령대로 급식왕을 처단하기 위해 움직이다가 이해력이 안돼서 전체 다 실패하고 만다.두더지네 먼 사촌 수정구슬을 찾아주기 위해 급식왕 학교로 왔다.그리고 특별한 능력이 있다.능력은 투시한 능력.하지만 별 활약을 하진 못했다.배우: 이상준현재 퇴장한 인물은 헤라와 마뚱석, 장첸, 박공주, 미래두더지 연쇄살인범뿐이다.이들뿐만아니고 또다른 빌런들도 많이 숨겨져있다.이것은 하나의 인물이 아니라 기업으로 위장한 거대한 범죄조직이다. 두목은 알렉스이다. 자세한 내용은 문서 참조.알렉스가 급식왕을 죽이기 위해 부른 킬러로 킬러가 학교에 온다면에서 첫 등장. 급식왕 멤버들에게 참변 당했다.[24]알렉스 시리즈 3편에 다시 등장한다. 이후, 시즌 4에서 등장할 가능성이 생겼다.그리고 3편에 발가락쌤에게 복수를 성공하였다.이상준은 한동안 안나오다 두꺼비 아저씨로 다시 돌아왔다.배우 : 이상준알렉스가 감옥에서 만난 여성으로, 헤라에 이어서 두 번째로 등장한 여성 빌런이다.[25] 그런데 왜 이 '구역의 돌+1'지 첫 등장했을 때 탈옥하고 나서 야구 배트를 들고 흥구기와 대결하는데, 흥구기에게 여러 번 맞았는데 이상하게 웃는다. 결국 패배한 흥구기를 야구 배트로 계속 후려쳐서 쓰러트린 이후, 행방이 묘연했으나, 시즌3 2화에서 최실장의 언급에 따르면 흥구기를 감금하고 나서 사라졌다고 한다.대체 어디로 사라진 거지?현재까지 퇴장하지 않은 유일한 여성 빌런이기도 하다.그런데 재등장했을 때 과연 누가 어떻게 쓰러트릴지?[26]배우: 김승혜스승의 날 선생님 감동시키는 유형 때 발가락쌤에게 고백한 여자로 나왔는데 사실 빌런이다. 발가락쌤을 장난감대하듯 학대를하듯이 대했다. 너무 힘이 세서 결국 헤어졌다고 한다. 근데 발가락쌤 스토커로 재등장해서 발가락쌤을 차지할려고 학생들을 폭행까지 했다. 게다가 발가락쌤을 납치까지 했다. 이 때 쭈뇽이가 발가락쌤을 구해주러 왔지만 박공주한테 져서 발가락쌤이 동료들의 발가락 힘을 받아서 박공주를 물리쳤다. 근데 손가락이 움직인걸보아 죽지는 않은듯 하다.만약 박공주가 알렉스를 만난다면 알렉스를 가만두지 않을 가능성이 높은데, 박공주가 그렇게 좋아하는 발가락쌤을 알렉스가 죽이려고 한다는 것을 알게 된다면 당연히 알렉스를 공격할 가능성이 높다. 그래도 알렉스가 더 최강일수도 있어서[27] 박공주가 이길 확률이 적다.[28] 뭐, 둘이 만날 일은 없겠지만........대신 힘이 너무 강해서 급식왕의 모든 등장인물들 중 최강이 아니냐는 말도 들린다. 걷는것 만으로 주변에 지진을 일으키며, 상상을 초월하는 괴력과 맷집을 고려한다면...데프콘이나 덩어리하고 싸우면 어떻게 될지는 모른다방종원처럼 충청도 방언을 쓴다.배우: 박진아가락씨~!급식왕 학교 근처 골목의 조폭으로 부하 두 명과는 단 한 번 나왔다. 현재는 출연하지 않지만 얌첸이 비슷한 캐릭터로 나온다. 원작과 달리 수염이 없다. 급식왕이 아동용 채널인지라 원작의 욕설을 줄줄이 내뱉는 부분은 순화되었다.배우:정광진니 내 누군지 모르니? 나 하얼빈의 장첸이야!!!(발음:니 내 눈지 모르니? 나 하얼빈의 장췌이야!)파일:입술괴물.jpg남자들의 진정한 빌런입술이 빨개서 기분이 좋거나 발정이 나면 남자들한테 뽀뽀를 막하고 그런다.최근 여학생의 몸에 잠식을 한 것으로 보아 인간이 아닌 악령으로 밝혀졌다.그리고 남자를 엄청 좋아해서 남자가 막 도망가고 이러면 지구 끝가지 쫓아간다. 피해자는 1번 광자 2번 발가락쌤 3번 하마 4번 티라노 5번 방구 아저씨 6번 두꺼비아저씨 7번 판관바우등 이다.무섭다 .만약에 입술괴물한테 발견되면 엄청 큰일날듯.근데 어떻게 탄생한거야?배우 : 박강균오, 오, 오 오~빠~아계인이를 죽이러 온 미래의 두더지다.사실은 외계인들이 지구인들을 습격하고있어서 계인이가 말리고있었는데 미래의 두더지가 여친도 외계인이랑 같은파인줄알고 과거로가서 계인이를 암살할려고했다.미래의 두더지라서그런지 현재 두계커플이 숨어도 어디에있는지 다 알아서 금방 찾아내기도했다. 그리고 발가락쌤까지 기절시켜버렸다.계인이를 죽일집념이 얼마나강했으면.. [29]배우: 정승환요~! 물! 오빠를 들었다! 놨다! 들었다! 놨다! 요~! 물!여기 있잖소~참고로 개콘코너의 대사를 그대로 가져왔다.히어로구구쌤1,2편에 나온다.급식왕학생들을 납치해서 총으로 쏴 죽일려고했으나 원더구구로 변신한 구구쌤이와서 구해준다.배우 : 감재바우(이선우)히어로구구쌤3편에 등장한다.배우 : 추가바람히어로구구쌤4,5편에 등장한다.말 그래도 화가나는분.기자이며 원더구구를 납치하고 이계인이 외계인인줄 알게되서 아주 악랄한 생각을 하는등.아주 나쁜 놈이다.인성쓰레기배우 : 추가바람대부분의 사람들이 하차 멤버들이 급식왕을 하차한 줄 모른다.현재 하차한 세 멤버는 급식왕 멤버들과 연락하고 지낸다고 한다. 각 캐릭터 문단의 배우 중에 이 멤버들의 이름이 있으면 현재 거의 나오지 않는 캐릭터다.광자 역을 맡았었으며 개인 채널인 절대광자 채널을 운영 중이다.(급식왕 설정 상)어머니인 데프콘의 언급으로는 미국으로 유학을 갔다고 한다. 2019년 10월 19일 자신의 채널인 절대광자 채널에 영상에 언급하면 자신의 부모님이 사고 나고 아프는 등 본인은 슬픔이 쌓여서 출연과 자신의 채널에 영상을 올리지 못했다.부모님이 사고로 아프실때 하차하였고 사정이 괜찮아져도 개인채널만 운영하는걸로 보아 그 기간에 멤버들간의 싸움이 있었을 것으로 추측된다. (ex. 광자의 개인사정을 고려하지 않은 출연요구)그러나 구독자의 응원으로 다시 절대광자 채널에서 새로운 이야기로 활동을 재개하겠다고 말했다.이후엔 쌍둥이 여동생 데이지가 등장했다. 광자의 빈 자리와 캐릭터를 사용하려는 의도로 보임데이지가 출연이후 하차하였다... 하차 이후 급식왕 관련 댓글에 답변을 주지 않는다. 자신의 발언이 급식왕측에 피해가 갈까 말을 아까는듯 하다이젠 광자 대신 얌생이가 두더지 라이벌이 된다.웃음소리가 아주 특이하다크아↗️↗️↗️하하하하하하하하하하하하하하하하~ 이 영상 댓글에 \"왜 광자 급식왕 안나와요?\"라는 댓글이 달렸는데 김기쁨(덩어리)가 이제 안나갈거라고 답글을 남겼다.복귀는 글렀네덩어리 두순이 광자는 절대광자 채널에서 새로운 컨텐츠를 만들고있다.급식왕에 복귀하지 않고 따로 나와 영상을 만드는걸 보면 싸움이 있었던 것 같다두순이 역을 맡았던 사람.두더지와 커플이였지만 지금은 두더지가 계인이랑 커플이다. 축구를 잘한다. 그래서 별명이 호날두순[30]지금은 날강두순?개인 채널 약속해 TV를 운영중이다.현재 체력장 유형 편 이후로 출연하고 있지 않다. 최근 약속해TV에서 징징이와 만났을 때 징징이가 \"민정아\"라고 부르는 것으로 보아 아마도 더 이상 두순이로 출연하지는 않을 것으로 보인다.[31]여담이지만 제주도 출신이다.절대광자 채널에서 실종자 덩어리, 광자와 함께 가끔 모습을 보인다학교 안의 절대 권력자2(?)이자 끝판왕이던 덩어리 역할을 맡았던 인물[32][33]주로 먹보 역을 맡는다.김뚠땐보라는 채널도 운영중이다.[34]광자를 짝사랑한다.여담이지만, 기막힌 이야기 실제상황 316회에 잠깐 출연했다.현재 급식왕에서 하차 이후 출연하고 있지 않다. 최근에 약속해TV에서 두순이와 같이 나왔을 때 두순이가 덩어리에게 덩어리라고 안 부르고, 기쁨이라고 부르는 것으로 보아 아마도 더 이상 덩어리라는 캐릭터로 출연할 생각은 없는 것으로 보인다. 그리고 김기쁨의 지구젤리 먹는 유형 편에서 한 시청자가 급식왕에 출연하지 않는 이유를 댓글로 물어본 적이 있었지만, 김기쁨은 답변으로 이제 안 나간다고 하였다. 그래도 급식왕 멤버들하고는 연락하고 지낸다고 한다.급식왕의 출연료는 1회에 10만원이다. 급식왕이 성공하고 한달에 1억5천만원 이상의 수익을 올리는 상황에도 초기멤버들의 출연료를 인상시키지 않고 그대로 유지해서 초기멤버 두순이와 함께 탈퇴했다는 찌라시가 있다좋은쌤이라고도 한다.급식왕에 좋은쌤 vs 나쁜쌤에 나왔으며 발가락쌤(나쁜쌤)이 교사가 아닌 좋은쌤이 교사가 되었다.위에서도 언급했듯이 반대로 발가락쌤은 \"나쁜쌤\"이라고도 한다.참고로 발가락쌤과 반대로 친절하고 두더지가 거짓말을 해도 봐준다.지금은 출연하지 않고 구구쌤이 대신 나온다.배우:이슬 보건쌤은 수업시간 보건실 가는 꿀팁 ㅋㅋㅋㅋ에 보건선생님으로 나온 적 있다. 정말로 예쁘고 성격이 착하시다.[35]징징이가 짝사랑하는 쌤이다. 근데 방울이를 짝사랑하고있다.참이슬로 스트레스를 푼다.배우: 배은우[36]김수영'생일날 재밌게 보내는 꿀팁' 편에 나온다. 광자와 두더지의 친구로 나온다.김대범광자가 다니는 학원쌤 역할.배우:김대범김무송반장 선거 유형에 나왔다.김연경반장선거에거 나왔으며 욕을 많이 한다.대왕모기 한테도 욕했다.배우: 정광진문후보반장 선거 유형에 반장 후보로 나왔다.배우:박근액반장 선거 유형에 나왔다.배우:안칠수반장 선거 유형에 반장 후보로 나왔다.배우:이명백반장 선거 유형에 나왔다.배우:1등 미디어준비물 안가져 왔을 때 유형, 새학기 친구 유형, 교실먹방 21편에서 출연했다.흔한남매쉬는 시간 재밌게 노는 꿀팁에서 출연했다.엔조이커플고백받는 꿀팁에서 출연했다.두더지 할머니이름이 광머니다.  발가락쌤을 박근혜쌤이라고 부른다. 그리고 두더지에게 키 커야 한답시고 밥을 아주 많이 주고[37] 밥을 먹지 않으면 밥 먹일 때까지 지구 끝까지 쫓아간다.배우: 정광진도티청소 유형에서 출연했다. 이 후 급식게임즈 채널에서 도티쳐로 출연했었다.유재필학교에서 인싸되는 꿀팁에서 출연했다.거북이 할아버지두더지의 할아버지이자 광머니의 남편. 행동 하나하나 할때마다 아주 느리게 움직인다. 광머니와 결혼식 때도 느리게 와서 광머니 혼자 했다고[38]만두 먹는 유형과 고기먹는 유형에서 출연했다배우: 주성중일반 학생'비오는 날 재밌게 노는 꿀팁' 편에 나온다. 안경과 모자를 썼다.호빵이학예회 유형에서 출연했다.배우: 박지현도널드 트럼프배우:절대광자김정은급식걸즈 돈까스 먹는 유형에서 한반 등장하였다.舊 배우: 박병규新 배우: 안정빈정글 부족민배달 유형에서 등장뚜띠 & 모띠띠띠행성에서 지구로 온 외계인. 급식왕 옛 시절때 주연이었다. 현재 작중행적을 보면 다시 띠띠행성으로 돌아간 듯 하다.이름의 유래는 뚜띠는 뚜띠뚜, 모띠는 기모띠(...)배우: 뚜띠=박강균, 모띠=정광진빠게띠뚜띠와 모띠가 사는 띠띠행성의 대장.배우: 박병규징띠눈알띠바우띠얌띠아쿠아맨발가락쌤이 아주 더러워서 물로 발가락쌤을 씻겨주었다.배우: 정광진진지충 기자새해 맞이 유형부터 나온다.말 그대로 언제나 진지한 기자이다.그리고 고추도사도 맡는다.배우: 최충호김뽀샵사진사로 나왔다.배우: 손민혁놀부형딸국도사프링글스맨프링글스 먹는 유형에서 등장한다.배우:박병규엘사 & 안나처음에 엘사는 두더지 안나는 광자로 출연했다.  그 이후로는 두더지와 이계인을 미행하기 위해 엘사 얌생이 안나 데이지로 출연했다.광자가 출연하지 않아서舊 배우:정광진, 박강균新 배우:이혜지, 남태령Beaber티라노가 미국으로 유학을 갔을 때 만난 두더지를 닮은 학생Beaber=두더지배우: 박강균빠다정배우: 정광진Crazy Boy티라노가 미국으로 유학을 갔을 때 만난 광자를 닮은 학생Crazy Boy=狂者=광자배우: 정광진Crying Crying티라노가 미국으로 유학을 갔을 때 만난 징징이를 닮은 학생Crying Crying=운다 운다=징징배우: 이영석징지니비행기에서 절대 하면 안되는 짓 (알렉스 4편)에 승무원으로 출연했다징징이의 사촌누나라고 한다배우: 이영석손석 아나운서급식왕과 급식걸즈에 급식뉴스 앵커로 나왔다. 백지 아나운서와 항상 티격태격 싸운다. 광자 하차 이후 나오지 않고 있다.배우: 정광진백지 아나운서손석과 같은 급식뉴스 앵커로 이 사람 역시 손석과 항상 다툰다.배우: 손별이방울이 엄마방울이의 엄마로 급식걸즈 지각 유형편과 방울이tv에 출연. 목소리만 나온다.배우성우라고 해야되지 않나: 손별이(추정)고릴라 요원이계인 연구집단인 CIA의 요원 중 한 명 고릴라랑 닮았다[스포일러2]배우: 이재형블랙낫 아저씨김준호급식왕 2019년 연말시상식에 구구쌤과함께 사회를 보았다. 구구쌤을 짬으로 눌렀다.배우:김준호\n"
     ]
    }
   ],
   "source": [
    "# 최근 변경된 문서 하나를 크롤링합니다.\n",
    "\n",
    "req = requests.get(page_urls[0])\n",
    "html = req.content\n",
    "soup = BeautifulSoup(html, 'lxml')\n",
    "\n",
    "contents_table = soup.find(name=\"article\")\n",
    "title = contents_table.find_all('h1')[0]\n",
    "category= contents_table.find_all('ul')[0]\n",
    "content_paragraphs = contents_table.find_all(name = \"div\", attrs = {\"class\":\"wiki-paragraph\"})\n",
    "content_corpus_list = []\n",
    "\n",
    "for paragraphs in content_paragraphs:\n",
    "    content_corpus_list.append(paragraphs.text)\n",
    "\n",
    "content_corpus = \"\".join(content_corpus_list)\n",
    "\n",
    "print(title.text)\n",
    "print(\"\\n\")\n",
    "print(category.text)\n",
    "print(\"\\n\")\n",
    "print(content_corpus)"
   ]
  },
  {
   "cell_type": "code",
   "execution_count": 6,
   "metadata": {},
   "outputs": [
    {
     "name": "stdout",
     "output_type": "stream",
     "text": [
      "[' \\xa0 상위 문서: 급식왕&급식걸즈', ' \\xa0 관련 문서: 급식왕&급식걸즈/사건사고', ' \\xa0 하위 문서: 알렉스 재단', '1. 등장인물 일람1.1.  급식왕 학교 학생들과 선생님들1.2. 조연1.2.1. 손가락쌤1.2.2. 광자&데이지 엄마1.2.2.1. 대표 대사1.2.3. 두더지 엄마1.2.3.1. 대표 대사1.2.4. 뽀글이 아줌마1.2.5. 방구 아저씨1.2.6. 흥구기 1.2.6.1. 대표 대사1.2.7. 티라노1.2.7.1. 대표 대사1.2.8. 야반장1.2.8.1. 대표 대사1.2.9. 최실장1.2.9.1. 대표 대사1.2.10. 하마형1.2.11. 단추 아저씨1.2.12. 쭈뇽이1.2.13. 이지영1.2.14. 조각쌤1.2.15. 염라대왕1.2.15.1. 대표 대사1.2.16. 저승사자1.2.17. 캐디1.2.18. 아리(구미호)1.2.19. 바가지 아주머니1.2.20. 충섭이1.2.21. 방종원1.2.22. 얌첸(얌谦)1.2.23. 레온1.2.24. 두꺼비 아저씨1.3. 빌런1.3.1. 알렉스 재단1.3.2. 메기1.3.3. 할리퀸1.3.4. 박공주1.3.4.1. 대표 대사1.3.5. 장첸(张谦)1.3.5.1. 대표 대사1.3.6. 입술괴물1.3.6.1. 대표 대사1.3.7. 미래 두더지1.3.7.1. 대표 대사1.3.8. 연쇄살인범1.3.9. 건달1.3.10. 비실이 기자1.4. 하차한 배우1.4.1. 정광진 1.4.2. 문민정1.4.3. 김기쁨1.4.4. 조은쌤1.5. 단역1.5.1. 이슬 보건쌤1.5.1.1. 기타 단역', '급식왕 학교 교직원&학생', '두더지', '징징이', '데이지', '머머리 교장쌤', '김그라쌤', '발가락쌤', '구구쌤(원더구구)', '깝숙이', ' 방울이 ', '티라노', ' 광자 엄마 ', '두더지 엄마', '두더지 아빠', '온달쌤', '아리(구미호)', '얌생이', '이계인', '감재바우', '주연 멤버는 급식왕 학교 문서에 거의 수록되어 있다.각 등장인물의 대표 대사는 2번 이상 말하면 수록하도록한 등장인물이 2개월 동안 안나오면 문서 옆에 휴먼 상태라 서술하시오.새로운 등장인물은 밑에서부터 기재해주십시오. 급식왕 등장인물 틀에 링크가 맞지 않아져서 일일이 수정하기 곤란합니다.', '\\xa0자세한 내용은 급식왕 학교 문서를 참고하십시오.', '', '발가락쌤의 학창시절 친구이며 피아노 학원과 미술학원을 운영한다.손으로 하는건 뭐든지 다 잘한다고 한다.배우: 박은영', \"집 안의 절대 권력자 1일명: 데프콘 아줌마. 엄마한테 안혼나는 꿀팁편에서 첫등장. 엄청 힘이 세다. 그야말로 집안의 절대 권력자[1]광자와 데이지의 엄마이다.[2]광자가 학원에 빠지고 두더지랑 같이 PC방에 가거나 게임할 때 무섭게 변한다. 그리고 지구 끝까지 쫒아가서 혼낸다. 심지어 데이지의 경우 전국1등을 놓치기만 해도 분노한다.현직 군인이라서 그런지 데이지에게 공부를 시킬때 군대식으로 시키기도 하였으며, 눈알마녀나 얌생이한테 미사일 지원사격을 퍼붓기도 하였다.뚜루빡라는 유튜브 채널도 운영 중이다.지금까지 두더지, 덩어리, 얌생이는 만났지만, 방울이, 깝숙이, 징징이, 두순이는 만나지 못했다.실제로 개그우먼 눈알마녀 김정현과 친구이고 91년생 동갑내기로 항상 같이 다니곤 한다.그리고 현재 경인방송 라디오에서 '조수연의 뿜뿜라디오' 의 MC로 김정현(눈알마녀)와 같이 출연하고 있다.배우: 조수연\", '두더지: 알랄랄랄랄라 알랄랄랄랄라 데프콘 엄마:내가 그거 하지말라고 몇번을 말했냐', '', '하나, 둘, 둘 반, 둘 반에 반, 둘 반에 반에 반! 셋!광자:일어났다! 늦었다! 늦었다!', '', '여기는 알파! 여기는 알파! 브라보 나와라 브라보! (미사일 발사할 때)좌표 0-0! (예로 들면 3-2) 목표물 0000발견! (등장인물 중 하나)스탠바이! 미사일 발사!(미사일 발사할 때)', '', '데프콘 발령!!', \"집 안의 절대 권력자 2일명: 눈알마녀. 엄마몰래 몰컴하는 꿀팁에 첫 등장하였다.권투를 좋아하고 집에서도 권투 장갑을 끼고있다. 집안일을 하거나, 집에서 권투 연습을 하며 요즘 노래를 부르는데, 가사가 엉터리가 되거나, 노래 부르다가 갑자기 어떤 음식이 먹고 싶어진다고 한다. 그리고 눈알마녀는 실제로 권투선수였다고 한다.두더지에게 협박도 자주 한다.그리고 두더지가 게임하거나 PC방에 가거나 시험점수 평균 20점을 넘지 못하면 권투를 하고 두더지를 때린다. 법정 제재 받을듯..특히나 눈알이 튀어나올것 같은 힘을 가지며 권투 챔피언이다.두더지 이계인 이별하다 편에서 이계인을 쫓아냈다.[3] 이 편에서는 냉혹한 모습을 보여주었다.아니, 그럼 왜 사귀라고 하냐고?지금까지 광자, 얌생이, 두순이, 징징이는 만났지만, 방울이랑 깝숙이, 덩어리는 만나지 못했다.참고로 데프콘엄마와 '조수연의 뿜뿜라디오' 의 게스트 등으로 출연하고는 한다. 상술했듯이 실제 둘이 91년생 친구이고 자주 같이 다닌다.인싸정현이라는 유튜브 채널도 운영 중이다.최근 출산을 했다. 아기의 이름은 '두루미'.이 집안은 두 씨가문 인가보다.배우: 김정현\", '두더지! 너 또 (19점 이하 점수)를 맞아?!?!(라고 한 후 때린다)', \"파일:뽀글이 아줌마.png'미용실 유형'에서 첫 등장 징징이의 엄마이다배우: 고은영\", '문방구 사장님이며 맨날 방귀를 뀐다.발가락쌤이 문방구에서 진상짓을 해서 발가락쌤한테 방귀를 뀌자, 발가락쌤한테 발냄새로 응징당하기도 했다.배우 : 박가브리엘', '두더지 아빠로 출현하고 있다. 아들과 함께 눈알마녀한테 맞고 다닌다술을 좋아하는 듯 하다. 그래서인지 눈알마녀가 복숭아 술을 만들때, 흥구기가 다 먹어 치우는거 아닐까 하는 걱정을 하였다.데프콘과 눈알마녀의 싸움, 강함에 대해 잘 아는 인물이다. 데프콘과 눈알마녀가 싸울때, 국가에서 무려 군대를 투입해 사태를 해결하려다 포기했다고 밝혔다.배우:서기원', '으하~들이대~', '겨울방학 보내는 유형에서 나왔으며게임 하는 유형 에서도 나왔다 발가락 쌤과 함께 동네바보이다.출연했을 때 맛집탐방형, 수술 하는 형에 나왔으며 있는 처음 출연했을때 오뎅을 다 먹을려 했지만 돈이 없어서 못먹었다.[4] 발가락 쌤과 친하다.[5]그리고 두개골이 남들보다 두꺼워서 총상을 맞았는데 총알이 튕겨 살았다. 의사선생은 의사경력 20년만에 이런 사람 처음봤다고 한다.출연하다 발가락쌤 절친설정으로 친해져서 그 이후 등장이 늘어났다.가족관계로 숨겨진 재벌 형과 누나가 있다. 사촌관계로는 레온이 있다.[6] 허나 레온은 티라노보다 멍청하다.개인 채널인 킹클럽을 운영 중이다.[7]배우 : 박동건', '제가 바본줄 알아요!? ', '', '저 바보 아니거든요?', '', '옛말에 이런말 몰라요?[8] 그런 말이 있어?[9]', '', '헉! 착한 사람이다', '', '쏘옥쏙쏙~ 방울 빙글빙글', ' ', '열혈형사', '야반장 캐릭터 소개', '\"야~\", \"요~\" 거리는 급식왕 학교 동네의 형사이다.알렉스를 퇴치하기 위해 나왔지만 알렉스에게 살해당한다.[스포일러]여담으로, 강자로 꼽히는 인물 중 하나인데, 발가락쌤과 급식왕 학교 학생들[11]이 힘을 모아서 겨우겨우 쓰러트린 최실장을 1대1로 싸워서 이길 정도이다. 배우: 손민혁', '○○이야~!!!', '', '○○이에요~!!!', '알렉스 드라마 시즌1의 분기별 보스이며, 알렉스와 티라노의 비서다. 급식왕 내에서 싸움을 잘 한다고 꼽힌다.[12]알렉스 시즌 1 & 2편에 처음 나왔고 알렉스 시즌 2 3화에서 야반장과 대결하다가 야반장에게 패배한 뒤, 등장이 없었으나 알렉스 시즌 3에서 대표가 된 티라노의 비서가 되는 것과 동시에 개과천선하면서 재등장한다.감방 간 거 아니었어?[13] 시즌3 2화부터 알렉스를 배신한다.[14] 이후, 시즌3 3화에서 헤라를 쓰러트리러 갔다가 마뚱석이랑 대결하게 되는데 마뚱석의 엄청난 맷집과 힘에 결국 패배하고 만다. 그 이후로는 미등장 중. 시즌 4에서 활약을 할지는 불명이다.[15]급식왕에서 최초로 갱생한 캐릭터이다.여담으로, 등장할 때마다 헤어스타일이 많이 바뀌는 캐릭터이기도 하다.배우: 주성중', '최실장입니다[16]', '배달 음식 받는 유형ㅋㅋㅋㅋㅋ, 싸우는 유형 ㅋㅋㅋㅋ 싸울때 꼭 이런 친구 있음에 나온다.  두더지한테 돈을 뺏고 폭력했으나, 모띠(광자)에게 참변됐다.그후 중국집 배달원으로 일하고 있다. 중국집 직원이 돼서 외계로 배달갔을땐 뚜띠모띠에게 엄청빨리 맛있는 짬뽕 짜장면을 배달 해 줄 정도로 수준급의 솜씨다.[17]]감재바우 사장님한테 맨날 구박받는다.배우: 이병선', '미용실 주인이며 미용실 유형에서 나왔다.배우: 김일희', '태권도관장으로 발가락쌤과 학창시절 친구이며 허세왕으로 유명하고[18] 깝숙이의 외삼촌이다.쭈뇽이는 실제로 태권도하는 지도진이고 레드불킥잇의 MC이며YJY도장의 대표이다 유튜브에 쭈뇽이TV로 활동중이다.주로 발차기, 격파영상. 위주로올린다.[19]먹는걸 좋아하는지 자면서도 먹는다.[20]뚜띠모띠 여자때려주는남자 혼내주기태권도하는유형엄마VS재벌 태권도관장VS발가락쌤편급식걸즈 추석유형에서 등장한다.배우:여준용', '태권도하는유형에서 흰띠로 두더지와 겨루기를하는편. 호신술유형, 여자때려주는남자 혼내주기에서 등장한다.현재 쭈뇽이와 같이 쭈뇽이TV에서활동중이다.이지영선수는 실제로는 검은띠 자유품새선수와 코치를겸하고있고 쭈뇽이의제자+여친이다배우:이지영', \"급식걸즈에선 조연인데 급식왕에서 '이계인 새로운 사랑에 빠지다?'편에 처음으로 등장을했다. 그전에 급식왕에서는 발가락쌤과 구구쌤 결혼하는 에피소드에서 카메오로선행출연했다. 바퀴벌레를 아주 무서워한다.배우: 김건영(1등 미디어의 배그 1등)\", '하늘나라의 왕이자 저승사자의 형. 판관바우가 목소리를 올리면 화를 내기도 한다.배우: 박성호', '화가 난다!! 화가나!@@!!!@![21]', '', '수고 했어. 브라더~', '죽은 사람들을 데리러 가는 역할이자, 염라대왕의 동생. 염라대왕 처럼 성격이 엄격한 편.[22]여담으로 염라대왕의 수염과 같다.[23]배우: 박성호', '급식왕 어드벤쳐에서 요정을 맡고있는 배우. 두더지를 도와준다배우: 전수희', '', '구미호', '아리 캐릭터 소개', \"정식 이름은 '아리'다.우리집에 귀신이 산다...(feat.구미호)편에서 첫 등장.징징이랑 취향이 비슷해서 금방 친해졌다. 얼마나 친해졌으면 아리를 업을 정도.방울이도 놓쳤는데 그냥 아리랑 사귀자 징징아얌생이가 아줌마라고 부르는 걸 싫어한다.배우: 박소영\", '깝숙이 엄마 겸 급식왕 학교 화장실 청소부.', '배우: 윤효동', '얌생이의 3명밖에 없는 친구 중 3명앞으로 더 나와서 활약했으면... 여담으로 떡볶이 먹는 유형에 잠깐 나왔다', '배우: 심충섭', '급식걸즈에만 나와서 여러 가지 신박한 음식들을 리뷰하는 인물이다. 충청도 방언을 쓴다. 모티브는 이 분인 것 같다.배우:손별이', '파일:얌첸.jpg얌생이 사촌형이다. 소매치기를 저지른 범죄자로서 3년 동안 감옥에 갇혀있다가 출소했다. 그후 원더구구 2편에 나왔다.배우: 남태령', '티라노•알렉스 형제의 사촌 형이다. 티라노보다 멍청하다고 한다이 집안 혈통 상태가코브라 박사의 명령대로 급식왕을 처단하기 위해 움직이다가 이해력이 안돼서 전체 다 실패하고 만다.', '두더지네 먼 사촌 수정구슬을 찾아주기 위해 급식왕 학교로 왔다.그리고 특별한 능력이 있다.능력은 투시한 능력.하지만 별 활약을 하진 못했다.배우: 이상준', '현재 퇴장한 인물은 헤라와 마뚱석, 장첸, 박공주, 미래두더지 연쇄살인범뿐이다.이들뿐만아니고 또다른 빌런들도 많이 숨겨져있다.', '이것은 하나의 인물이 아니라 기업으로 위장한 거대한 범죄조직이다. 두목은 알렉스이다. 자세한 내용은 문서 참조.', '알렉스가 급식왕을 죽이기 위해 부른 킬러로 킬러가 학교에 온다면에서 첫 등장. 급식왕 멤버들에게 참변 당했다.[24]알렉스 시리즈 3편에 다시 등장한다. 이후, 시즌 4에서 등장할 가능성이 생겼다.그리고 3편에 발가락쌤에게 복수를 성공하였다.이상준은 한동안 안나오다 두꺼비 아저씨로 다시 돌아왔다.배우 : 이상준', \"알렉스가 감옥에서 만난 여성으로, 헤라에 이어서 두 번째로 등장한 여성 빌런이다.[25] 그런데 왜 이 '구역의 돌+1'지 첫 등장했을 때 탈옥하고 나서 야구 배트를 들고 흥구기와 대결하는데, 흥구기에게 여러 번 맞았는데 이상하게 웃는다. 결국 패배한 흥구기를 야구 배트로 계속 후려쳐서 쓰러트린 이후, 행방이 묘연했으나, 시즌3 2화에서 최실장의 언급에 따르면 흥구기를 감금하고 나서 사라졌다고 한다.대체 어디로 사라진 거지?현재까지 퇴장하지 않은 유일한 여성 빌런이기도 하다.그런데 재등장했을 때 과연 누가 어떻게 쓰러트릴지?[26]배우: 김승혜\", '스승의 날 선생님 감동시키는 유형 때 발가락쌤에게 고백한 여자로 나왔는데 사실 빌런이다. 발가락쌤을 장난감대하듯 학대를하듯이 대했다. 너무 힘이 세서 결국 헤어졌다고 한다. 근데 발가락쌤 스토커로 재등장해서 발가락쌤을 차지할려고 학생들을 폭행까지 했다. 게다가 발가락쌤을 납치까지 했다. 이 때 쭈뇽이가 발가락쌤을 구해주러 왔지만 박공주한테 져서 발가락쌤이 동료들의 발가락 힘을 받아서 박공주를 물리쳤다. 근데 손가락이 움직인걸보아 죽지는 않은듯 하다.만약 박공주가 알렉스를 만난다면 알렉스를 가만두지 않을 가능성이 높은데, 박공주가 그렇게 좋아하는 발가락쌤을 알렉스가 죽이려고 한다는 것을 알게 된다면 당연히 알렉스를 공격할 가능성이 높다. 그래도 알렉스가 더 최강일수도 있어서[27] 박공주가 이길 확률이 적다.[28] 뭐, 둘이 만날 일은 없겠지만........대신 힘이 너무 강해서 급식왕의 모든 등장인물들 중 최강이 아니냐는 말도 들린다. 걷는것 만으로 주변에 지진을 일으키며, 상상을 초월하는 괴력과 맷집을 고려한다면...데프콘이나 덩어리하고 싸우면 어떻게 될지는 모른다방종원처럼 충청도 방언을 쓴다.배우: 박진아', '가락씨~!', '급식왕 학교 근처 골목의 조폭으로 부하 두 명과는 단 한 번 나왔다. 현재는 출연하지 않지만 얌첸이 비슷한 캐릭터로 나온다. 원작과 달리 수염이 없다. 급식왕이 아동용 채널인지라 원작의 욕설을 줄줄이 내뱉는 부분은 순화되었다.배우:정광진', '니 내 누군지 모르니? 나 하얼빈의 장첸이야!!!(발음:니 내 눈지 모르니? 나 하얼빈의 장췌이야!)', '파일:입술괴물.jpg남자들의 진정한 빌런입술이 빨개서 기분이 좋거나 발정이 나면 남자들한테 뽀뽀를 막하고 그런다.최근 여학생의 몸에 잠식을 한 것으로 보아 인간이 아닌 악령으로 밝혀졌다.그리고 남자를 엄청 좋아해서 남자가 막 도망가고 이러면 지구 끝가지 쫓아간다. 피해자는 1번 광자 2번 발가락쌤 3번 하마 4번 티라노 5번 방구 아저씨 6번 두꺼비아저씨 7번 판관바우등 이다.무섭다 .만약에 입술괴물한테 발견되면 엄청 큰일날듯.근데 어떻게 탄생한거야?배우 : 박강균', '오, 오, 오 오~빠~아', '계인이를 죽이러 온 미래의 두더지다.사실은 외계인들이 지구인들을 습격하고있어서 계인이가 말리고있었는데 미래의 두더지가 여친도 외계인이랑 같은파인줄알고 과거로가서 계인이를 암살할려고했다.미래의 두더지라서그런지 현재 두계커플이 숨어도 어디에있는지 다 알아서 금방 찾아내기도했다. 그리고 발가락쌤까지 기절시켜버렸다.계인이를 죽일집념이 얼마나강했으면.. [29]배우: 정승환', '요~! 물! 오빠를 들었다! 놨다! 들었다! 놨다! 요~! 물!', '', '여기 있잖소~', '참고로 개콘코너의 대사를 그대로 가져왔다.', '히어로구구쌤1,2편에 나온다.급식왕학생들을 납치해서 총으로 쏴 죽일려고했으나 원더구구로 변신한 구구쌤이와서 구해준다.배우 : 감재바우(이선우)', '히어로구구쌤3편에 등장한다.배우 : 추가바람', '히어로구구쌤4,5편에 등장한다.말 그래도 화가나는분.기자이며 원더구구를 납치하고 이계인이 외계인인줄 알게되서 아주 악랄한 생각을 하는등.아주 나쁜 놈이다.인성쓰레기배우 : 추가바람', '대부분의 사람들이 하차 멤버들이 급식왕을 하차한 줄 모른다.현재 하차한 세 멤버는 급식왕 멤버들과 연락하고 지낸다고 한다. 각 캐릭터 문단의 배우 중에 이 멤버들의 이름이 있으면 현재 거의 나오지 않는 캐릭터다.', '광자 역을 맡았었으며 개인 채널인 절대광자 채널을 운영 중이다.(급식왕 설정 상)어머니인 데프콘의 언급으로는 미국으로 유학을 갔다고 한다. 2019년 10월 19일 자신의 채널인 절대광자 채널에 영상에 언급하면 자신의 부모님이 사고 나고 아프는 등 본인은 슬픔이 쌓여서 출연과 자신의 채널에 영상을 올리지 못했다.부모님이 사고로 아프실때 하차하였고 사정이 괜찮아져도 개인채널만 운영하는걸로 보아 그 기간에 멤버들간의 싸움이 있었을 것으로 추측된다. (ex. 광자의 개인사정을 고려하지 않은 출연요구)그러나 구독자의 응원으로 다시 절대광자 채널에서 새로운 이야기로 활동을 재개하겠다고 말했다.이후엔 쌍둥이 여동생 데이지가 등장했다. 광자의 빈 자리와 캐릭터를 사용하려는 의도로 보임데이지가 출연이후 하차하였다... 하차 이후 급식왕 관련 댓글에 답변을 주지 않는다. 자신의 발언이 급식왕측에 피해가 갈까 말을 아까는듯 하다이젠 광자 대신 얌생이가 두더지 라이벌이 된다.웃음소리가 아주 특이하다크아↗️↗️↗️하하하하하하하하하하하하하하하하~ 이 영상 댓글에 \"왜 광자 급식왕 안나와요?\"라는 댓글이 달렸는데 김기쁨(덩어리)가 이제 안나갈거라고 답글을 남겼다.복귀는 글렀네덩어리 두순이 광자는 절대광자 채널에서 새로운 컨텐츠를 만들고있다.급식왕에 복귀하지 않고 따로 나와 영상을 만드는걸 보면 싸움이 있었던 것 같다', '두순이 역을 맡았던 사람.두더지와 커플이였지만 지금은 두더지가 계인이랑 커플이다. 축구를 잘한다. 그래서 별명이 호날두순[30]지금은 날강두순?개인 채널 약속해 TV를 운영중이다.현재 체력장 유형 편 이후로 출연하고 있지 않다. 최근 약속해TV에서 징징이와 만났을 때 징징이가 \"민정아\"라고 부르는 것으로 보아 아마도 더 이상 두순이로 출연하지는 않을 것으로 보인다.[31]여담이지만 제주도 출신이다.절대광자 채널에서 실종자 덩어리, 광자와 함께 가끔 모습을 보인다', '학교 안의 절대 권력자2(?)이자 끝판왕이던 덩어리 역할을 맡았던 인물[32][33]주로 먹보 역을 맡는다.김뚠땐보라는 채널도 운영중이다.[34]광자를 짝사랑한다.여담이지만, 기막힌 이야기 실제상황 316회에 잠깐 출연했다.현재 급식왕에서 하차 이후 출연하고 있지 않다. 최근에 약속해TV에서 두순이와 같이 나왔을 때 두순이가 덩어리에게 덩어리라고 안 부르고, 기쁨이라고 부르는 것으로 보아 아마도 더 이상 덩어리라는 캐릭터로 출연할 생각은 없는 것으로 보인다. 그리고 김기쁨의 지구젤리 먹는 유형 편에서 한 시청자가 급식왕에 출연하지 않는 이유를 댓글로 물어본 적이 있었지만, 김기쁨은 답변으로 이제 안 나간다고 하였다. 그래도 급식왕 멤버들하고는 연락하고 지낸다고 한다.급식왕의 출연료는 1회에 10만원이다. 급식왕이 성공하고 한달에 1억5천만원 이상의 수익을 올리는 상황에도 초기멤버들의 출연료를 인상시키지 않고 그대로 유지해서 초기멤버 두순이와 함께 탈퇴했다는 찌라시가 있다', '좋은쌤이라고도 한다.급식왕에 좋은쌤 vs 나쁜쌤에 나왔으며 발가락쌤(나쁜쌤)이 교사가 아닌 좋은쌤이 교사가 되었다.위에서도 언급했듯이 반대로 발가락쌤은 \"나쁜쌤\"이라고도 한다.참고로 발가락쌤과 반대로 친절하고 두더지가 거짓말을 해도 봐준다.지금은 출연하지 않고 구구쌤이 대신 나온다.배우:', '', '이슬 보건쌤은 수업시간 보건실 가는 꿀팁 ㅋㅋㅋㅋ에 보건선생님으로 나온 적 있다. 정말로 예쁘고 성격이 착하시다.[35]징징이가 짝사랑하는 쌤이다. 근데 방울이를 짝사랑하고있다.참이슬로 스트레스를 푼다.배우: 배은우[36]', '김수영', \"'생일날 재밌게 보내는 꿀팁' 편에 나온다. 광자와 두더지의 친구로 나온다.\", '김대범', '광자가 다니는 학원쌤 역할.배우:김대범', '김무송', '반장 선거 유형에 나왔다.', '김연경', '반장선거에거 나왔으며 욕을 많이 한다.대왕모기 한테도 욕했다.배우: 정광진', '문후보', '반장 선거 유형에 반장 후보로 나왔다.배우:', '박근액', '반장 선거 유형에 나왔다.배우:', '안칠수', '반장 선거 유형에 반장 후보로 나왔다.배우:', '이명백', '반장 선거 유형에 나왔다.배우:', '1등 미디어', '준비물 안가져 왔을 때 유형, 새학기 친구 유형, 교실먹방 21편에서 출연했다.', '흔한남매', '쉬는 시간 재밌게 노는 꿀팁에서 출연했다.', '엔조이커플', '고백받는 꿀팁에서 출연했다.', '두더지 할머니', '이름이 광머니다.  발가락쌤을 박근혜쌤이라고 부른다. 그리고 두더지에게 키 커야 한답시고 밥을 아주 많이 주고[37] 밥을 먹지 않으면 밥 먹일 때까지 지구 끝까지 쫓아간다.배우: 정광진', '도티', '청소 유형에서 출연했다. 이 후 급식게임즈 채널에서 도티쳐로 출연했었다.', '유재필', '학교에서 인싸되는 꿀팁에서 출연했다.', '거북이 할아버지', '두더지의 할아버지이자 광머니의 남편. 행동 하나하나 할때마다 아주 느리게 움직인다. 광머니와 결혼식 때도 느리게 와서 광머니 혼자 했다고[38]만두 먹는 유형과 고기먹는 유형에서 출연했다배우: 주성중', '일반 학생', \"'비오는 날 재밌게 노는 꿀팁' 편에 나온다. 안경과 모자를 썼다.\", '호빵이', '학예회 유형에서 출연했다.배우: 박지현', '도널드 트럼프', '배우:절대광자', '김정은', '급식걸즈 돈까스 먹는 유형에서 한반 등장하였다.舊 배우: 박병규新 배우: 안정빈', '정글 부족민', '배달 유형에서 등장', '뚜띠 & 모띠', '띠띠행성에서 지구로 온 외계인. 급식왕 옛 시절때 주연이었다. 현재 작중행적을 보면 다시 띠띠행성으로 돌아간 듯 하다.이름의 유래는 뚜띠는 뚜띠뚜, 모띠는 기모띠(...)배우: 뚜띠=박강균, 모띠=정광진', '빠게띠', '뚜띠와 모띠가 사는 띠띠행성의 대장.배우: 박병규', '징띠', '', '눈알띠', '', '바우띠', '', '얌띠', '', '아쿠아맨', '발가락쌤이 아주 더러워서 물로 발가락쌤을 씻겨주었다.배우: 정광진', '진지충 기자', '새해 맞이 유형부터 나온다.말 그대로 언제나 진지한 기자이다.그리고 고추도사도 맡는다.배우: 최충호', '김뽀샵', '사진사로 나왔다.배우: 손민혁', '놀부형', '', '딸국도사', '', '프링글스맨', '프링글스 먹는 유형에서 등장한다.배우:박병규', '엘사 & 안나', '처음에 엘사는 두더지 안나는 광자로 출연했다.  그 이후로는 두더지와 이계인을 미행하기 위해 엘사 얌생이 안나 데이지로 출연했다.광자가 출연하지 않아서舊 배우:정광진, 박강균新 배우:이혜지, 남태령', 'Beaber', '티라노가 미국으로 유학을 갔을 때 만난 두더지를 닮은 학생Beaber=두더지배우: 박강균', '빠다정', '배우: 정광진', 'Crazy Boy', '티라노가 미국으로 유학을 갔을 때 만난 광자를 닮은 학생Crazy Boy=狂者=광자배우: 정광진', 'Crying Crying티라노가 미국으로 유학을 갔을 때 만난 징징이를 닮은 학생', 'Crying Crying=운다 운다=징징', '배우: 이영석', '', '징지니비행기에서 절대 하면 안되는 짓 (알렉스 4편)에 승무원으로 출연했다징징이의 사촌누나라고 한다배우: 이영석', '', '손석 아나운서', '급식왕과 급식걸즈에 급식뉴스 앵커로 나왔다. 백지 아나운서와 항상 티격태격 싸운다. 광자 하차 이후 나오지 않고 있다.', '배우: 정광진', '', '백지 아나운서', '손석과 같은 급식뉴스 앵커로 이 사람 역시 손석과 항상 다툰다.', '배우: 손별이', '', '방울이 엄마방울이의 엄마로 급식걸즈 지각 유형편과 방울이tv에 출연. 목소리만 나온다.배우성우라고 해야되지 않나: 손별이(추정)', '', '고릴라 요원이계인 연구집단인 CIA의 요원 중 한 명 고릴라랑 닮았다[스포일러2]배우: 이재형', '', '블랙낫 아저씨', '', '김준호급식왕 2019년 연말시상식에 구구쌤과함께 사회를 보았다. 구구쌤을 짬으로 눌렀다.배우:김준호', '']\n"
     ]
    }
   ],
   "source": [
    "# 최근 변경된 문서 하나를 크롤링합니다.\n",
    "\n",
    "req = requests.get(page_urls[0])\n",
    "html = req.content\n",
    "soup = BeautifulSoup(html, 'lxml')\n",
    "\n",
    "contents_table = soup.find(name=\"article\")\n",
    "title = contents_table.find_all('h1')[0]\n",
    "category= contents_table.find_all('ul')[0]\n",
    "content_paragraphs = contents_table.find_all(name = \"div\", attrs = {\"class\":\"wiki-paragraph\"})\n",
    "content_corpus_list = []\n",
    "\n",
    "for paragraphs in content_paragraphs:\n",
    "    content_corpus_list.append(paragraphs.text)\n",
    "    \n",
    "print(content_corpus_list)"
   ]
  },
  {
   "cell_type": "markdown",
   "metadata": {},
   "source": [
    "## 2.2 나무위키 최근 변경 페이지 키워드 분석하기"
   ]
  },
  {
   "cell_type": "markdown",
   "metadata": {},
   "source": [
    "### 2.2.1 크롤링 : 웹 데이터 가져오기"
   ]
  },
  {
   "cell_type": "code",
   "execution_count": 7,
   "metadata": {},
   "outputs": [],
   "source": [
    "%matplotlib inline\n",
    "\n",
    "import pandas as pd\n",
    "import numpy as np\n",
    "import matplotlib.pyplot as plt\n",
    "import requests\n",
    "from bs4 import BeautifulSoup\n",
    "import re"
   ]
  },
  {
   "cell_type": "code",
   "execution_count": 8,
   "metadata": {},
   "outputs": [
    {
     "name": "stdout",
     "output_type": "stream",
     "text": [
      "https://namu.wiki/w/A%20Bizarre%20Day\n",
      "https://namu.wiki/w/%EC%B9%A0%EB%A6%AC%EB%A7%9B%20%EC%BF%A0%ED%82%A4\n",
      "https://namu.wiki/w/%EC%84%9C%EC%9C%A4(%EC%B9%B4%EC%9A%B4%ED%84%B0%EC%82%AC%EC%9D%B4%EB%93%9C)\n",
      "https://namu.wiki/w/%EC%86%8C%EC%9A%B8(%EC%95%A0%EB%8B%88%EB%A9%94%EC%9D%B4%EC%85%98)\n",
      "https://namu.wiki/w/%EC%A0%95%ED%98%9C%EB%A6%AC\n"
     ]
    }
   ],
   "source": [
    "# 크롤링할 사이트 주소를 정의합니다.\n",
    "source_url = \"https://namu.wiki/RecentChanges\"\n",
    "\n",
    "# 사이트의 HTML 구조에 기반하여 크롤링을 수행합니다.\n",
    "req = requests.get(source_url)\n",
    "html = req.content\n",
    "soup = BeautifulSoup(html, 'lxml')\n",
    "contents_table = soup.find(name=\"table\")\n",
    "table_body = contents_table.find(name=\"tbody\")\n",
    "table_rows = table_body.find_all(name=\"tr\")\n",
    "\n",
    "# a 태그의 href 속성을 리스트로 추출하여 크롤링할 페이지 리스트를 생성합니다.\n",
    "page_url_base = \"https://namu.wiki\"\n",
    "page_urls = []\n",
    "for index in range(0, len(table_rows)):\n",
    "    first_td = table_rows[index].find_all('td')[0]\n",
    "    td_url = first_td.find_all('a')\n",
    "    if len(td_url) > 0:\n",
    "        page_url = page_url_base + td_url[0].get('href')\n",
    "        page_urls.append(page_url)\n",
    "        \n",
    "# 중복 url을 제거합니다.\n",
    "page_urls = list(set(page_urls))\n",
    "for page in page_urls[:5]:\n",
    "    print(page)"
   ]
  },
  {
   "cell_type": "markdown",
   "metadata": {},
   "source": [
    "이제 이 주소들에 다시 한 번 접근하여 문서의 본문과 제목, 그리고 카테고리에 등장하는 텍스트 데이터를 가져와봅시다."
   ]
  },
  {
   "cell_type": "code",
   "execution_count": 12,
   "metadata": {},
   "outputs": [
    {
     "data": {
      "text/html": [
       "<div>\n",
       "<style scoped>\n",
       "    .dataframe tbody tr th:only-of-type {\n",
       "        vertical-align: middle;\n",
       "    }\n",
       "\n",
       "    .dataframe tbody tr th {\n",
       "        vertical-align: top;\n",
       "    }\n",
       "\n",
       "    .dataframe thead th {\n",
       "        text-align: right;\n",
       "    }\n",
       "</style>\n",
       "<table border=\"1\" class=\"dataframe\">\n",
       "  <thead>\n",
       "    <tr style=\"text-align: right;\">\n",
       "      <th></th>\n",
       "      <th>title</th>\n",
       "      <th>category</th>\n",
       "      <th>content_text</th>\n",
       "    </tr>\n",
       "  </thead>\n",
       "  <tbody>\n",
       "    <tr>\n",
       "      <th>0</th>\n",
       "      <td>A Bizarre Day</td>\n",
       "      <td>Roblox/게임</td>\n",
       "      <td>A Bizarre Day제작사Paradoxum Games개발 완료 날짜2019년 6...</td>\n",
       "    </tr>\n",
       "    <tr>\n",
       "      <th>1</th>\n",
       "      <td>칠리맛 쿠키</td>\n",
       "      <td>쿠키런: 오븐브레이크/쿠키도적 캐릭터</td>\n",
       "      <td>체리맛 쿠키와 혼동하지 말 것.쿠키런: 오븐브레이크의 등장 쿠키들 [ 펼치기 · 접...</td>\n",
       "    </tr>\n",
       "    <tr>\n",
       "      <th>2</th>\n",
       "      <td>서윤(카운터사이드)</td>\n",
       "      <td>카운터사이드/사원</td>\n",
       "      <td>SEO YOON서윤(CV. 우정신)\"알트 소대의 리더 서윤이에요. 그나저나, 제게 ...</td>\n",
       "    </tr>\n",
       "    <tr>\n",
       "      <th>3</th>\n",
       "      <td>소울(애니메이션)</td>\n",
       "      <td>픽사 애니메이션 스튜디오미국 영화미국 애니메이션애니메이션 영화2020년 영화</td>\n",
       "      <td>[ 펼치기 · 접기 ]   토이 스토리 · 토이 스토리 2 · 토이 스토리 3...</td>\n",
       "    </tr>\n",
       "    <tr>\n",
       "      <th>4</th>\n",
       "      <td>정혜리</td>\n",
       "      <td>징벌 소녀마법소녀 캐릭터웹툰 빌런학교폭력 가해자 캐릭터</td>\n",
       "      <td>평화시 마법소녀일루미나티 뷰티정혜리아쿠아 프러시안이수진 코일 골드송치영캄파뉼라 플라...</td>\n",
       "    </tr>\n",
       "  </tbody>\n",
       "</table>\n",
       "</div>"
      ],
      "text/plain": [
       "            title                                    category  \\\n",
       "0  A Bizarre Day                                    Roblox/게임   \n",
       "1         칠리맛 쿠키                         쿠키런: 오븐브레이크/쿠키도적 캐릭터   \n",
       "2     서윤(카운터사이드)                                    카운터사이드/사원   \n",
       "3      소울(애니메이션)   픽사 애니메이션 스튜디오미국 영화미국 애니메이션애니메이션 영화2020년 영화   \n",
       "4            정혜리               징벌 소녀마법소녀 캐릭터웹툰 빌런학교폭력 가해자 캐릭터   \n",
       "\n",
       "                                        content_text  \n",
       "0  A Bizarre Day제작사Paradoxum Games개발 완료 날짜2019년 6...  \n",
       "1  체리맛 쿠키와 혼동하지 말 것.쿠키런: 오븐브레이크의 등장 쿠키들 [ 펼치기 · 접...  \n",
       "2  SEO YOON서윤(CV. 우정신)\"알트 소대의 리더 서윤이에요. 그나저나, 제게 ...  \n",
       "3     [ 펼치기 · 접기 ]   토이 스토리 · 토이 스토리 2 · 토이 스토리 3...  \n",
       "4  평화시 마법소녀일루미나티 뷰티정혜리아쿠아 프러시안이수진 코일 골드송치영캄파뉼라 플라...  "
      ]
     },
     "execution_count": 12,
     "metadata": {},
     "output_type": "execute_result"
    }
   ],
   "source": [
    "# 크롤링한 데이터를 데이터 프레임으로 만들기 위해 준비합니다.\n",
    "\n",
    "columns = ['title', 'category', 'content_text']\n",
    "df = pd.DataFrame(columns = columns)\n",
    "\n",
    "# 각 페이지별 제목, 카테고리, 본문 정보를 데이터 프레임으로 만듭니다.\n",
    "\n",
    "for page_url in page_urls:\n",
    "    \n",
    "    # 사이트의 HTML 구조에 깁나하여 크롤링을 수행합니다.\n",
    "    req = requests.get(page_url)\n",
    "    html = req.content\n",
    "    soup = BeautifulSoup(html, 'lxml')\n",
    "    contents_table = soup.find(name = \"article\")\n",
    "   \n",
    "    title = contents_table.find_all('h1')[0]\n",
    "    category = contents_table.find_all('ul')[0]\n",
    "    content_paragraphs = contents_table.find_all(name=\"div\", attrs = {\"class\":\"wiki-paragraph\"})\n",
    "    \n",
    "    content_corpus_list = []\n",
    "    \n",
    "    # 페이지 내 제목 정보에서 개행 문자를 제거한 뒤 추출합니다.\n",
    "    # 만약 없는 경우, 빈 문자열로 대체합니다.\n",
    "    if title is not None:\n",
    "        row_title = title.text.replace(\"\\n\", \" \")\n",
    "    else:\n",
    "        row_title = \"\"\n",
    "        \n",
    "    # 페이지 내 본문 정보에서 개행 문자를 제거한 뒤 추출합니다.\n",
    "    # 만약 없는 경우, 빈 문자열로 대체합ㄴ디ㅏ.\n",
    "    if content_paragraphs is not None:\n",
    "        for paragraphs in content_paragraphs:\n",
    "            if paragraphs is not None:\n",
    "                content_corpus_list.append(paragraphs.text.replace(\"\\n\", \" \"))\n",
    "            else:\n",
    "                content_corpus_list.append(\" \")\n",
    "    else:\n",
    "        content_corpus_list.append(\"\")\n",
    "        \n",
    "    # 페이지 내 카테고리 정보에서 \"분류\"라는 단어와 개행 문자를 제거한 뒤 추출합니다.\n",
    "    # 만약 없는 경우, 빈 문자열로 대체합ㄴ디ㅏ.\n",
    "    if category is not None:\n",
    "        row_category = category.text.replace(\"\\n\", \" \").replace(\"분류\", \"\")\n",
    "    else:\n",
    "        row_category = \"\" \n",
    "    \n",
    "    # 모든 정보를 하나의 데이터 프레임에 저장합니다.\n",
    "    row = [row_title, row_category, \"\".join(content_corpus_list)]\n",
    "    series = pd.Series(row, index=df.columns)\n",
    "    df = df.append(series, ignore_index=True)\n",
    "    \n",
    "df.head(5)"
   ]
  },
  {
   "cell_type": "code",
   "execution_count": 13,
   "metadata": {},
   "outputs": [
    {
     "data": {
      "text/plain": [
       "(77, 3)"
      ]
     },
     "execution_count": 13,
     "metadata": {},
     "output_type": "execute_result"
    }
   ],
   "source": [
    "df.shape"
   ]
  },
  {
   "cell_type": "code",
   "execution_count": null,
   "metadata": {},
   "outputs": [],
   "source": []
  }
 ],
 "metadata": {
  "kernelspec": {
   "display_name": "Python 3",
   "language": "python",
   "name": "python3"
  },
  "language_info": {
   "codemirror_mode": {
    "name": "ipython",
    "version": 3
   },
   "file_extension": ".py",
   "mimetype": "text/x-python",
   "name": "python",
   "nbconvert_exporter": "python",
   "pygments_lexer": "ipython3",
   "version": "3.7.3"
  }
 },
 "nbformat": 4,
 "nbformat_minor": 2
}
