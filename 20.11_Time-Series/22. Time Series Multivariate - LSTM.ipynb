{
 "cells": [
  {
   "cell_type": "markdown",
   "metadata": {},
   "source": [
    "https://www.kaggle.com/vaibhavsxn/time-series-multivariate-lstm"
   ]
  },
  {
   "cell_type": "code",
   "execution_count": 7,
   "metadata": {},
   "outputs": [],
   "source": [
    "import numpy as np\n",
    "import pandas as pd\n",
    "import matplotlib.pyplot as plt"
   ]
  },
  {
   "cell_type": "code",
   "execution_count": 3,
   "metadata": {},
   "outputs": [],
   "source": [
    "# load_dtypes()\n",
    "# DF 불러올 때부터 축소해서 가져오는 함수.\n",
    "\n",
    "def load_dtypes(file_path):\n",
    "    print(file_path)\n",
    "    tmp = pd.read_csv(file_path, nrows=0) # 애초에 파일을 불러올 때\n",
    "    col_dtypes= {}\n",
    "    for col in tmp.columns:\n",
    "        df = pd.read_csv(file_path, usecols=[col]) # 애초에 파일을 불러올 때\n",
    "        \n",
    "        dtype = df[col].dtype\n",
    "        \n",
    "        if (dtype == 'int8' or dtype == 'int16' or dtype == 'int32' or dtype == 'int64'):\n",
    "            c_min = df[col].min()\n",
    "            c_max = df[col].max()\n",
    "            dtype = 'int'\n",
    "            \n",
    "        elif dtype == 'float32' or dtype == 'float64':\n",
    "            c_min = df[col].min()\n",
    "            c_max = df[col].max()\n",
    "            dtype = 'float'\n",
    "            \n",
    "        elif dtype == 'object':\n",
    "            n_unique = df[col].nunique()\n",
    "            threshold = n_unique / df.shape[0]\n",
    "            \n",
    "        if dtype == 'int':\n",
    "            if c_min > np.iinfo(np.int8).min and c_max < np.iinfo(np.int8).max:\n",
    "                col_dtype = 'int8'\n",
    "            elif c_min > np.iinfo(np.uint8).min and c_max < np.iinfo(np.uint8).max:\n",
    "                col_dtype = 'uint8'\n",
    "            elif c_min > np.iinfo(np.int16).min and c_max < np.iinfo(np.int16).max:\n",
    "                col_dtype = 'int16'\n",
    "            elif c_min > np.iinfo(np.uint16).min and c_max < np.iinfo(np.uint16).max:\n",
    "                col_dtype = 'uint16'\n",
    "            elif c_min > np.iinfo(np.int32).min and c_max < np.iinfo(np.int32).max:\n",
    "                col_dtype = 'int32'\n",
    "            elif c_min > np.iinfo(np.uint32).min and c_max < np.iinfo(np.uint32).max:\n",
    "                col_dtype = 'uint32'\n",
    "            elif c_min > np.iinfo(np.int64).min and c_max < np.iinfo(np.int64).max:\n",
    "                col_dtype = 'int64'\n",
    "            elif c_min > np.iinfo(np.uint64).min and c_max < np.iinfo(np.uint64).max:\n",
    "                col_dtype = 'uint64'\n",
    "                \n",
    "        elif dtype == 'float':\n",
    "            if c_min > np.finfo(np.float32).min and c_max < np.finfo(np.float32).max:\n",
    "                col_dtype = 'float32'\n",
    "            else:\n",
    "                col_dtype = 'float64'\n",
    "                \n",
    "        elif dtype == 'object':\n",
    "            if threshold > 0.7:\n",
    "                col_dtype = 'object'\n",
    "            else:\n",
    "                col_dtype = 'category'\n",
    "                \n",
    "        col_dtypes[col] = col_dtype\n",
    "        \n",
    "\n",
    "    df = pd.read_csv(file_path, dtype=col_dtypes)\n",
    "    \n",
    "    return df"
   ]
  },
  {
   "cell_type": "code",
   "execution_count": 2,
   "metadata": {},
   "outputs": [],
   "source": [
    "TRAIN_PATH = r'C:\\Users\\Wyatt\\wyatt37\\Data\\solarpanel\\train\\train.csv'\n",
    "TEST_PATH = r'C:\\Users\\Wyatt\\wyatt37\\Data\\solarpanel\\test'\n",
    "SUBMISSION_PATH = r'C:\\Users\\Wyatt\\wyatt37\\Data\\solarpanel\\sample_submission.csv'"
   ]
  },
  {
   "cell_type": "code",
   "execution_count": 4,
   "metadata": {},
   "outputs": [
    {
     "name": "stdout",
     "output_type": "stream",
     "text": [
      "C:\\Users\\Wyatt\\wyatt37\\Data\\solarpanel\\train\\train.csv\n",
      "<class 'pandas.core.frame.DataFrame'>\n",
      "RangeIndex: 52560 entries, 0 to 52559\n",
      "Data columns (total 9 columns):\n",
      " #   Column  Non-Null Count  Dtype  \n",
      "---  ------  --------------  -----  \n",
      " 0   Day     52560 non-null  int16  \n",
      " 1   Hour    52560 non-null  int8   \n",
      " 2   Minute  52560 non-null  int8   \n",
      " 3   DHI     52560 non-null  int16  \n",
      " 4   DNI     52560 non-null  int16  \n",
      " 5   WS      52560 non-null  float32\n",
      " 6   RH      52560 non-null  float32\n",
      " 7   T       52560 non-null  int8   \n",
      " 8   TARGET  52560 non-null  float32\n",
      "dtypes: float32(3), int16(3), int8(3)\n",
      "memory usage: 1.1 MB\n"
     ]
    }
   ],
   "source": [
    "train = load_dtypes(TRAIN_PATH)\n",
    "train.info()"
   ]
  },
  {
   "cell_type": "code",
   "execution_count": 5,
   "metadata": {},
   "outputs": [
    {
     "data": {
      "text/html": [
       "<div>\n",
       "<style scoped>\n",
       "    .dataframe tbody tr th:only-of-type {\n",
       "        vertical-align: middle;\n",
       "    }\n",
       "\n",
       "    .dataframe tbody tr th {\n",
       "        vertical-align: top;\n",
       "    }\n",
       "\n",
       "    .dataframe thead th {\n",
       "        text-align: right;\n",
       "    }\n",
       "</style>\n",
       "<table border=\"1\" class=\"dataframe\">\n",
       "  <thead>\n",
       "    <tr style=\"text-align: right;\">\n",
       "      <th></th>\n",
       "      <th>Day</th>\n",
       "      <th>Hour</th>\n",
       "      <th>Minute</th>\n",
       "      <th>DHI</th>\n",
       "      <th>DNI</th>\n",
       "      <th>WS</th>\n",
       "      <th>RH</th>\n",
       "      <th>T</th>\n",
       "      <th>TARGET</th>\n",
       "    </tr>\n",
       "  </thead>\n",
       "  <tbody>\n",
       "    <tr>\n",
       "      <th>0</th>\n",
       "      <td>0</td>\n",
       "      <td>0</td>\n",
       "      <td>0</td>\n",
       "      <td>0</td>\n",
       "      <td>0</td>\n",
       "      <td>1.5</td>\n",
       "      <td>69.080002</td>\n",
       "      <td>-12</td>\n",
       "      <td>0.0</td>\n",
       "    </tr>\n",
       "    <tr>\n",
       "      <th>1</th>\n",
       "      <td>0</td>\n",
       "      <td>0</td>\n",
       "      <td>30</td>\n",
       "      <td>0</td>\n",
       "      <td>0</td>\n",
       "      <td>1.5</td>\n",
       "      <td>69.059998</td>\n",
       "      <td>-12</td>\n",
       "      <td>0.0</td>\n",
       "    </tr>\n",
       "    <tr>\n",
       "      <th>2</th>\n",
       "      <td>0</td>\n",
       "      <td>1</td>\n",
       "      <td>0</td>\n",
       "      <td>0</td>\n",
       "      <td>0</td>\n",
       "      <td>1.6</td>\n",
       "      <td>71.779999</td>\n",
       "      <td>-12</td>\n",
       "      <td>0.0</td>\n",
       "    </tr>\n",
       "    <tr>\n",
       "      <th>3</th>\n",
       "      <td>0</td>\n",
       "      <td>1</td>\n",
       "      <td>30</td>\n",
       "      <td>0</td>\n",
       "      <td>0</td>\n",
       "      <td>1.6</td>\n",
       "      <td>71.750000</td>\n",
       "      <td>-12</td>\n",
       "      <td>0.0</td>\n",
       "    </tr>\n",
       "    <tr>\n",
       "      <th>4</th>\n",
       "      <td>0</td>\n",
       "      <td>2</td>\n",
       "      <td>0</td>\n",
       "      <td>0</td>\n",
       "      <td>0</td>\n",
       "      <td>1.6</td>\n",
       "      <td>75.199997</td>\n",
       "      <td>-12</td>\n",
       "      <td>0.0</td>\n",
       "    </tr>\n",
       "  </tbody>\n",
       "</table>\n",
       "</div>"
      ],
      "text/plain": [
       "   Day  Hour  Minute  DHI  DNI   WS         RH   T  TARGET\n",
       "0    0     0       0    0    0  1.5  69.080002 -12     0.0\n",
       "1    0     0      30    0    0  1.5  69.059998 -12     0.0\n",
       "2    0     1       0    0    0  1.6  71.779999 -12     0.0\n",
       "3    0     1      30    0    0  1.6  71.750000 -12     0.0\n",
       "4    0     2       0    0    0  1.6  75.199997 -12     0.0"
      ]
     },
     "execution_count": 5,
     "metadata": {},
     "output_type": "execute_result"
    }
   ],
   "source": [
    "train.head()"
   ]
  },
  {
   "cell_type": "code",
   "execution_count": 58,
   "metadata": {},
   "outputs": [],
   "source": [
    "train = train.loc[:4800, ['Hour', 'DHI', 'DNI', 'WS', 'RH', 'T', 'TARGET']]"
   ]
  },
  {
   "cell_type": "code",
   "execution_count": 59,
   "metadata": {},
   "outputs": [
    {
     "data": {
      "text/html": [
       "<div>\n",
       "<style scoped>\n",
       "    .dataframe tbody tr th:only-of-type {\n",
       "        vertical-align: middle;\n",
       "    }\n",
       "\n",
       "    .dataframe tbody tr th {\n",
       "        vertical-align: top;\n",
       "    }\n",
       "\n",
       "    .dataframe thead th {\n",
       "        text-align: right;\n",
       "    }\n",
       "</style>\n",
       "<table border=\"1\" class=\"dataframe\">\n",
       "  <thead>\n",
       "    <tr style=\"text-align: right;\">\n",
       "      <th></th>\n",
       "      <th>Hour</th>\n",
       "      <th>DHI</th>\n",
       "      <th>DNI</th>\n",
       "      <th>WS</th>\n",
       "      <th>RH</th>\n",
       "      <th>T</th>\n",
       "      <th>TARGET</th>\n",
       "    </tr>\n",
       "  </thead>\n",
       "  <tbody>\n",
       "    <tr>\n",
       "      <th>0</th>\n",
       "      <td>0</td>\n",
       "      <td>0</td>\n",
       "      <td>0</td>\n",
       "      <td>1.5</td>\n",
       "      <td>69.080002</td>\n",
       "      <td>-12</td>\n",
       "      <td>0.0</td>\n",
       "    </tr>\n",
       "    <tr>\n",
       "      <th>1</th>\n",
       "      <td>0</td>\n",
       "      <td>0</td>\n",
       "      <td>0</td>\n",
       "      <td>1.5</td>\n",
       "      <td>69.059998</td>\n",
       "      <td>-12</td>\n",
       "      <td>0.0</td>\n",
       "    </tr>\n",
       "    <tr>\n",
       "      <th>2</th>\n",
       "      <td>1</td>\n",
       "      <td>0</td>\n",
       "      <td>0</td>\n",
       "      <td>1.6</td>\n",
       "      <td>71.779999</td>\n",
       "      <td>-12</td>\n",
       "      <td>0.0</td>\n",
       "    </tr>\n",
       "    <tr>\n",
       "      <th>3</th>\n",
       "      <td>1</td>\n",
       "      <td>0</td>\n",
       "      <td>0</td>\n",
       "      <td>1.6</td>\n",
       "      <td>71.750000</td>\n",
       "      <td>-12</td>\n",
       "      <td>0.0</td>\n",
       "    </tr>\n",
       "    <tr>\n",
       "      <th>4</th>\n",
       "      <td>2</td>\n",
       "      <td>0</td>\n",
       "      <td>0</td>\n",
       "      <td>1.6</td>\n",
       "      <td>75.199997</td>\n",
       "      <td>-12</td>\n",
       "      <td>0.0</td>\n",
       "    </tr>\n",
       "    <tr>\n",
       "      <th>...</th>\n",
       "      <td>...</td>\n",
       "      <td>...</td>\n",
       "      <td>...</td>\n",
       "      <td>...</td>\n",
       "      <td>...</td>\n",
       "      <td>...</td>\n",
       "      <td>...</td>\n",
       "    </tr>\n",
       "    <tr>\n",
       "      <th>4795</th>\n",
       "      <td>21</td>\n",
       "      <td>0</td>\n",
       "      <td>0</td>\n",
       "      <td>1.5</td>\n",
       "      <td>68.779999</td>\n",
       "      <td>3</td>\n",
       "      <td>0.0</td>\n",
       "    </tr>\n",
       "    <tr>\n",
       "      <th>4796</th>\n",
       "      <td>22</td>\n",
       "      <td>0</td>\n",
       "      <td>0</td>\n",
       "      <td>1.6</td>\n",
       "      <td>64.470001</td>\n",
       "      <td>3</td>\n",
       "      <td>0.0</td>\n",
       "    </tr>\n",
       "    <tr>\n",
       "      <th>4797</th>\n",
       "      <td>22</td>\n",
       "      <td>0</td>\n",
       "      <td>0</td>\n",
       "      <td>1.6</td>\n",
       "      <td>69.290001</td>\n",
       "      <td>2</td>\n",
       "      <td>0.0</td>\n",
       "    </tr>\n",
       "    <tr>\n",
       "      <th>4798</th>\n",
       "      <td>23</td>\n",
       "      <td>0</td>\n",
       "      <td>0</td>\n",
       "      <td>1.7</td>\n",
       "      <td>64.849998</td>\n",
       "      <td>2</td>\n",
       "      <td>0.0</td>\n",
       "    </tr>\n",
       "    <tr>\n",
       "      <th>4799</th>\n",
       "      <td>23</td>\n",
       "      <td>0</td>\n",
       "      <td>0</td>\n",
       "      <td>1.8</td>\n",
       "      <td>64.830002</td>\n",
       "      <td>2</td>\n",
       "      <td>0.0</td>\n",
       "    </tr>\n",
       "  </tbody>\n",
       "</table>\n",
       "<p>4800 rows × 7 columns</p>\n",
       "</div>"
      ],
      "text/plain": [
       "      Hour  DHI  DNI   WS         RH   T  TARGET\n",
       "0        0    0    0  1.5  69.080002 -12     0.0\n",
       "1        0    0    0  1.5  69.059998 -12     0.0\n",
       "2        1    0    0  1.6  71.779999 -12     0.0\n",
       "3        1    0    0  1.6  71.750000 -12     0.0\n",
       "4        2    0    0  1.6  75.199997 -12     0.0\n",
       "...    ...  ...  ...  ...        ...  ..     ...\n",
       "4795    21    0    0  1.5  68.779999   3     0.0\n",
       "4796    22    0    0  1.6  64.470001   3     0.0\n",
       "4797    22    0    0  1.6  69.290001   2     0.0\n",
       "4798    23    0    0  1.7  64.849998   2     0.0\n",
       "4799    23    0    0  1.8  64.830002   2     0.0\n",
       "\n",
       "[4800 rows x 7 columns]"
      ]
     },
     "execution_count": 59,
     "metadata": {},
     "output_type": "execute_result"
    }
   ],
   "source": [
    "train"
   ]
  },
  {
   "cell_type": "code",
   "execution_count": 121,
   "metadata": {},
   "outputs": [],
   "source": [
    "train['target_1'] = train.TARGET.shift(48)\n",
    "train['target_2'] = train.target_1.shift(48)"
   ]
  },
  {
   "cell_type": "code",
   "execution_count": 130,
   "metadata": {},
   "outputs": [
    {
     "data": {
      "text/plain": [
       "(4704, 9)"
      ]
     },
     "execution_count": 130,
     "metadata": {},
     "output_type": "execute_result"
    }
   ],
   "source": [
    "train = train.dropna()\n",
    "train.shape"
   ]
  },
  {
   "cell_type": "code",
   "execution_count": 129,
   "metadata": {},
   "outputs": [
    {
     "data": {
      "text/plain": [
       "((4224, 9), (480, 9))"
      ]
     },
     "execution_count": 129,
     "metadata": {},
     "output_type": "execute_result"
    }
   ],
   "source": [
    "# 480개는 10일치입니다.\n",
    "X = train[:-480]\n",
    "y = train[-480:]\n",
    "X.shape, y.shape"
   ]
  },
  {
   "cell_type": "code",
   "execution_count": null,
   "metadata": {},
   "outputs": [],
   "source": []
  },
  {
   "cell_type": "code",
   "execution_count": 61,
   "metadata": {},
   "outputs": [],
   "source": [
    "# lstm에 넣기 위해 스케일링을 합니다.\n",
    "\n",
    "from sklearn.preprocessing import MinMaxScaler\n",
    "\n",
    "scaler = MinMaxScaler()"
   ]
  },
  {
   "cell_type": "code",
   "execution_count": 62,
   "metadata": {},
   "outputs": [],
   "source": [
    "scaled_X = scaler.fit_transform(X)\n",
    "scaled_y = scaler.fit_transform(y)"
   ]
  },
  {
   "cell_type": "code",
   "execution_count": 63,
   "metadata": {},
   "outputs": [],
   "source": [
    "# timeseriesGenerator를 씁니다.\n",
    "\n",
    "from tensorflow.keras.preprocessing.sequence import TimeseriesGenerator"
   ]
  },
  {
   "cell_type": "code",
   "execution_count": 64,
   "metadata": {},
   "outputs": [],
   "source": [
    "# define generator\n",
    "length = 96 # Length of the output sequences (in number of timesteps)\n",
    "batch_size = 1 #Number of timeseries samples in each batch\n",
    "generator = TimeseriesGenerator(scaled_X, # train\n",
    "                                scaled_X, # test\n",
    "                                length=length,\n",
    "                                batch_size=batch_size)"
   ]
  },
  {
   "cell_type": "code",
   "execution_count": 68,
   "metadata": {},
   "outputs": [
    {
     "data": {
      "text/plain": [
       "(4320, 4224)"
      ]
     },
     "execution_count": 68,
     "metadata": {},
     "output_type": "execute_result"
    }
   ],
   "source": [
    "# length 만큼 줄어든 것을 알 수 있습니다.\n",
    "\n",
    "len(scaled_X), len(generator)"
   ]
  },
  {
   "cell_type": "code",
   "execution_count": 69,
   "metadata": {},
   "outputs": [],
   "source": [
    "gen_X, gen_y = generator[0]"
   ]
  },
  {
   "cell_type": "code",
   "execution_count": 82,
   "metadata": {},
   "outputs": [
    {
     "data": {
      "text/plain": [
       "96.0"
      ]
     },
     "execution_count": 82,
     "metadata": {},
     "output_type": "execute_result"
    }
   ],
   "source": [
    "gen_X.size/7"
   ]
  },
  {
   "cell_type": "code",
   "execution_count": 81,
   "metadata": {},
   "outputs": [
    {
     "data": {
      "text/plain": [
       "7"
      ]
     },
     "execution_count": 81,
     "metadata": {},
     "output_type": "execute_result"
    }
   ],
   "source": [
    "gen_y.size"
   ]
  },
  {
   "cell_type": "code",
   "execution_count": 83,
   "metadata": {},
   "outputs": [],
   "source": [
    "from tensorflow.keras.models import Sequential\n",
    "from tensorflow.keras.layers import Dense,LSTM"
   ]
  },
  {
   "cell_type": "code",
   "execution_count": 88,
   "metadata": {},
   "outputs": [
    {
     "data": {
      "text/plain": [
       "(4320, 7)"
      ]
     },
     "execution_count": 88,
     "metadata": {},
     "output_type": "execute_result"
    }
   ],
   "source": [
    "scaled_X.shape"
   ]
  },
  {
   "cell_type": "code",
   "execution_count": 89,
   "metadata": {},
   "outputs": [],
   "source": [
    "# define model\n",
    "model = Sequential()\n",
    "\n",
    "# Simple RNN layer\n",
    "model.add(LSTM(64,input_shape=(length, # 96개로 들어갑니다.\n",
    "                                scaled_X.shape[1]))) # 7개의 feature로 들어갑니다.\n",
    "\n",
    "# Final Prediction (one neuron per feature)\n",
    "model.add(Dense(scaled_X.shape[1]))\n",
    "\n",
    "model.compile(optimizer='adam', loss='mse')"
   ]
  },
  {
   "cell_type": "code",
   "execution_count": 90,
   "metadata": {},
   "outputs": [
    {
     "name": "stdout",
     "output_type": "stream",
     "text": [
      "Model: \"sequential_1\"\n",
      "_________________________________________________________________\n",
      "Layer (type)                 Output Shape              Param #   \n",
      "=================================================================\n",
      "lstm_1 (LSTM)                (None, 64)                18432     \n",
      "_________________________________________________________________\n",
      "dense_1 (Dense)              (None, 7)                 455       \n",
      "=================================================================\n",
      "Total params: 18,887\n",
      "Trainable params: 18,887\n",
      "Non-trainable params: 0\n",
      "_________________________________________________________________\n"
     ]
    }
   ],
   "source": [
    "model.summary()"
   ]
  },
  {
   "cell_type": "code",
   "execution_count": 91,
   "metadata": {},
   "outputs": [],
   "source": [
    "from tensorflow.keras.callbacks import EarlyStopping\n",
    "\n",
    "early_stop = EarlyStopping(monitor='val_loss',\n",
    "                           patience=1)\n",
    "\n",
    "validation_generator = TimeseriesGenerator(scaled_y,\n",
    "                                           scaled_y, \n",
    "                                           length=length,\n",
    "                                           batch_size=batch_size)"
   ]
  },
  {
   "cell_type": "code",
   "execution_count": 97,
   "metadata": {},
   "outputs": [],
   "source": [
    "import tensorflow as tf"
   ]
  },
  {
   "cell_type": "code",
   "execution_count": 99,
   "metadata": {},
   "outputs": [
    {
     "name": "stdout",
     "output_type": "stream",
     "text": [
      "Epoch 1/10\n",
      "4222/4224 [============================>.] - ETA: 0s - loss: 0.0110WARNING:tensorflow:AutoGraph could not transform <function Model.make_test_function.<locals>.test_function at 0x000002ADD0CE45E8> and will run it as-is.\n",
      "Please report this to the TensorFlow team. When filing the bug, set the verbosity to 10 (on Linux, `export AUTOGRAPH_VERBOSITY=10`) and attach the full output.\n",
      "Cause: 'arguments' object has no attribute 'posonlyargs'\n",
      "To silence this warning, decorate the function with @tf.autograph.experimental.do_not_convert\n",
      "WARNING: AutoGraph could not transform <function Model.make_test_function.<locals>.test_function at 0x000002ADD0CE45E8> and will run it as-is.\n",
      "Please report this to the TensorFlow team. When filing the bug, set the verbosity to 10 (on Linux, `export AUTOGRAPH_VERBOSITY=10`) and attach the full output.\n",
      "Cause: 'arguments' object has no attribute 'posonlyargs'\n",
      "To silence this warning, decorate the function with @tf.autograph.experimental.do_not_convert\n",
      "4224/4224 [==============================] - 73s 17ms/step - loss: 0.0110 - val_loss: 0.0081\n",
      "Epoch 2/10\n",
      "4224/4224 [==============================] - 73s 17ms/step - loss: 0.0066 - val_loss: 0.0064\n",
      "Epoch 3/10\n",
      "4224/4224 [==============================] - 73s 17ms/step - loss: 0.0060 - val_loss: 0.0066\n"
     ]
    }
   ],
   "source": [
    "\n",
    "with tf.device('/cpu:0'):\n",
    "    model.fit_generator(generator,\n",
    "                        epochs=10,\n",
    "                        validation_data=validation_generator,\n",
    "                        callbacks=[early_stop])"
   ]
  },
  {
   "cell_type": "code",
   "execution_count": 100,
   "metadata": {},
   "outputs": [
    {
     "data": {
      "text/plain": [
       "dict_keys(['loss', 'val_loss'])"
      ]
     },
     "execution_count": 100,
     "metadata": {},
     "output_type": "execute_result"
    }
   ],
   "source": [
    "model.history.history.keys()"
   ]
  },
  {
   "cell_type": "code",
   "execution_count": 101,
   "metadata": {},
   "outputs": [
    {
     "data": {
      "text/plain": [
       "<matplotlib.axes._subplots.AxesSubplot at 0x2aded9533c8>"
      ]
     },
     "execution_count": 101,
     "metadata": {},
     "output_type": "execute_result"
    },
    {
     "data": {
      "image/png": "[encoded data removed]",
      "text/plain": [
       "<Figure size 432x288 with 1 Axes>"
      ]
     },
     "metadata": {
      "needs_background": "light"
     },
     "output_type": "display_data"
    }
   ],
   "source": [
    "losses = pd.DataFrame(model.history.history)\n",
    "losses.plot()"
   ]
  },
  {
   "cell_type": "code",
   "execution_count": 102,
   "metadata": {},
   "outputs": [],
   "source": [
    "first_eval_batch = scaled_X[-length:]"
   ]
  },
  {
   "cell_type": "code",
   "execution_count": 103,
   "metadata": {},
   "outputs": [],
   "source": [
    "first_eval_batch = first_eval_batch.reshape((1,\n",
    "                                             length,\n",
    "                                             scaled_X.shape[1]))"
   ]
  },
  {
   "cell_type": "code",
   "execution_count": 106,
   "metadata": {},
   "outputs": [],
   "source": [
    "with tf.device('/cpu:0'):\n",
    "    model.predict(first_eval_batch)"
   ]
  },
  {
   "cell_type": "code",
   "execution_count": 110,
   "metadata": {},
   "outputs": [],
   "source": [
    "n_features = scaled_X.shape[1]\n",
    "test_predictions = []\n",
    "\n",
    "first_eval_batch = scaled_X[-length:]\n",
    "current_batch = first_eval_batch.reshape((1, length, n_features))\n",
    "\n",
    "with tf.device('/cpu:0'):\n",
    "    for i in range(len(y)):\n",
    "\n",
    "        # get prediction 1 time stamp ahead ([0] is for grabbing just the number instead of [array])\n",
    "        current_pred = model.predict(current_batch)[0]\n",
    "\n",
    "        # store prediction\n",
    "        test_predictions.append(current_pred) \n",
    "\n",
    "        # update batch to now include prediction and drop first value\n",
    "        current_batch = np.append(current_batch[:,1:,:],[[current_pred]],axis=1)"
   ]
  },
  {
   "cell_type": "code",
   "execution_count": 111,
   "metadata": {},
   "outputs": [],
   "source": [
    "true_predictions = scaler.inverse_transform(test_predictions)"
   ]
  },
  {
   "cell_type": "code",
   "execution_count": 112,
   "metadata": {},
   "outputs": [
    {
     "data": {
      "text/plain": [
       "array([[ 1.56607719e+01, -9.32767600e+00, -1.93278893e+01, ...,\n",
       "         5.32713678e+01,  9.09416350e+00, -3.06830993e+00],\n",
       "       [ 9.47316480e+00, -1.55771325e+01, -3.43902736e+01, ...,\n",
       "         5.50537745e+01,  8.73660860e+00, -4.47456446e+00],\n",
       "       [ 5.60403191e+00, -2.16765454e+01, -5.21368117e+01, ...,\n",
       "         5.67132177e+01,  8.52225648e+00, -5.17636961e+00],\n",
       "       ...,\n",
       "       [-5.10201502e+01, -7.17591459e+01, -3.26787652e+03, ...,\n",
       "         1.93716837e+02,  8.48042832e+00, -1.51599940e+02],\n",
       "       [-5.10201502e+01, -7.17591123e+01, -3.26787628e+03, ...,\n",
       "         1.93716818e+02,  8.48042832e+00, -1.51599962e+02],\n",
       "       [-5.10201557e+01, -7.17591661e+01, -3.26787628e+03, ...,\n",
       "         1.93716818e+02,  8.48042975e+00, -1.51599962e+02]])"
      ]
     },
     "execution_count": 112,
     "metadata": {},
     "output_type": "execute_result"
    }
   ],
   "source": [
    "true_predictions"
   ]
  },
  {
   "cell_type": "code",
   "execution_count": 114,
   "metadata": {},
   "outputs": [
    {
     "data": {
      "text/html": [
       "<div>\n",
       "<style scoped>\n",
       "    .dataframe tbody tr th:only-of-type {\n",
       "        vertical-align: middle;\n",
       "    }\n",
       "\n",
       "    .dataframe tbody tr th {\n",
       "        vertical-align: top;\n",
       "    }\n",
       "\n",
       "    .dataframe thead th {\n",
       "        text-align: right;\n",
       "    }\n",
       "</style>\n",
       "<table border=\"1\" class=\"dataframe\">\n",
       "  <thead>\n",
       "    <tr style=\"text-align: right;\">\n",
       "      <th></th>\n",
       "      <th>Hour</th>\n",
       "      <th>DHI</th>\n",
       "      <th>DNI</th>\n",
       "      <th>WS</th>\n",
       "      <th>RH</th>\n",
       "      <th>T</th>\n",
       "      <th>TARGET</th>\n",
       "    </tr>\n",
       "  </thead>\n",
       "  <tbody>\n",
       "    <tr>\n",
       "      <th>0</th>\n",
       "      <td>15.660772</td>\n",
       "      <td>-9.327676</td>\n",
       "      <td>-19.327889</td>\n",
       "      <td>2.833969</td>\n",
       "      <td>53.271368</td>\n",
       "      <td>9.094164</td>\n",
       "      <td>-3.068310</td>\n",
       "    </tr>\n",
       "    <tr>\n",
       "      <th>1</th>\n",
       "      <td>9.473165</td>\n",
       "      <td>-15.577132</td>\n",
       "      <td>-34.390274</td>\n",
       "      <td>2.937602</td>\n",
       "      <td>55.053774</td>\n",
       "      <td>8.736609</td>\n",
       "      <td>-4.474564</td>\n",
       "    </tr>\n",
       "    <tr>\n",
       "      <th>2</th>\n",
       "      <td>5.604032</td>\n",
       "      <td>-21.676545</td>\n",
       "      <td>-52.136812</td>\n",
       "      <td>3.000543</td>\n",
       "      <td>56.713218</td>\n",
       "      <td>8.522256</td>\n",
       "      <td>-5.176370</td>\n",
       "    </tr>\n",
       "    <tr>\n",
       "      <th>3</th>\n",
       "      <td>3.379457</td>\n",
       "      <td>-24.916280</td>\n",
       "      <td>-71.471876</td>\n",
       "      <td>3.062750</td>\n",
       "      <td>58.126571</td>\n",
       "      <td>8.355334</td>\n",
       "      <td>-5.790529</td>\n",
       "    </tr>\n",
       "    <tr>\n",
       "      <th>4</th>\n",
       "      <td>2.176428</td>\n",
       "      <td>-25.604989</td>\n",
       "      <td>-91.939483</td>\n",
       "      <td>3.118528</td>\n",
       "      <td>59.403303</td>\n",
       "      <td>8.223463</td>\n",
       "      <td>-6.513682</td>\n",
       "    </tr>\n",
       "    <tr>\n",
       "      <th>...</th>\n",
       "      <td>...</td>\n",
       "      <td>...</td>\n",
       "      <td>...</td>\n",
       "      <td>...</td>\n",
       "      <td>...</td>\n",
       "      <td>...</td>\n",
       "      <td>...</td>\n",
       "    </tr>\n",
       "    <tr>\n",
       "      <th>475</th>\n",
       "      <td>-51.020156</td>\n",
       "      <td>-71.759220</td>\n",
       "      <td>-3267.876520</td>\n",
       "      <td>15.106905</td>\n",
       "      <td>193.716856</td>\n",
       "      <td>8.480425</td>\n",
       "      <td>-151.599973</td>\n",
       "    </tr>\n",
       "    <tr>\n",
       "      <th>476</th>\n",
       "      <td>-51.020145</td>\n",
       "      <td>-71.759179</td>\n",
       "      <td>-3267.876035</td>\n",
       "      <td>15.106905</td>\n",
       "      <td>193.716856</td>\n",
       "      <td>8.480431</td>\n",
       "      <td>-151.599973</td>\n",
       "    </tr>\n",
       "    <tr>\n",
       "      <th>477</th>\n",
       "      <td>-51.020150</td>\n",
       "      <td>-71.759146</td>\n",
       "      <td>-3267.876520</td>\n",
       "      <td>15.106903</td>\n",
       "      <td>193.716837</td>\n",
       "      <td>8.480428</td>\n",
       "      <td>-151.599940</td>\n",
       "    </tr>\n",
       "    <tr>\n",
       "      <th>478</th>\n",
       "      <td>-51.020150</td>\n",
       "      <td>-71.759112</td>\n",
       "      <td>-3267.876278</td>\n",
       "      <td>15.106905</td>\n",
       "      <td>193.716818</td>\n",
       "      <td>8.480428</td>\n",
       "      <td>-151.599962</td>\n",
       "    </tr>\n",
       "    <tr>\n",
       "      <th>479</th>\n",
       "      <td>-51.020156</td>\n",
       "      <td>-71.759166</td>\n",
       "      <td>-3267.876278</td>\n",
       "      <td>15.106903</td>\n",
       "      <td>193.716818</td>\n",
       "      <td>8.480430</td>\n",
       "      <td>-151.599962</td>\n",
       "    </tr>\n",
       "  </tbody>\n",
       "</table>\n",
       "<p>480 rows × 7 columns</p>\n",
       "</div>"
      ],
      "text/plain": [
       "          Hour        DHI          DNI         WS          RH         T  \\\n",
       "0    15.660772  -9.327676   -19.327889   2.833969   53.271368  9.094164   \n",
       "1     9.473165 -15.577132   -34.390274   2.937602   55.053774  8.736609   \n",
       "2     5.604032 -21.676545   -52.136812   3.000543   56.713218  8.522256   \n",
       "3     3.379457 -24.916280   -71.471876   3.062750   58.126571  8.355334   \n",
       "4     2.176428 -25.604989   -91.939483   3.118528   59.403303  8.223463   \n",
       "..         ...        ...          ...        ...         ...       ...   \n",
       "475 -51.020156 -71.759220 -3267.876520  15.106905  193.716856  8.480425   \n",
       "476 -51.020145 -71.759179 -3267.876035  15.106905  193.716856  8.480431   \n",
       "477 -51.020150 -71.759146 -3267.876520  15.106903  193.716837  8.480428   \n",
       "478 -51.020150 -71.759112 -3267.876278  15.106905  193.716818  8.480428   \n",
       "479 -51.020156 -71.759166 -3267.876278  15.106903  193.716818  8.480430   \n",
       "\n",
       "         TARGET  \n",
       "0     -3.068310  \n",
       "1     -4.474564  \n",
       "2     -5.176370  \n",
       "3     -5.790529  \n",
       "4     -6.513682  \n",
       "..          ...  \n",
       "475 -151.599973  \n",
       "476 -151.599973  \n",
       "477 -151.599940  \n",
       "478 -151.599962  \n",
       "479 -151.599962  \n",
       "\n",
       "[480 rows x 7 columns]"
      ]
     },
     "execution_count": 114,
     "metadata": {},
     "output_type": "execute_result"
    }
   ],
   "source": [
    "true_predictions = pd.DataFrame(data=true_predictions,columns=y.columns)\n",
    "true_predictions"
   ]
  },
  {
   "cell_type": "code",
   "execution_count": 115,
   "metadata": {},
   "outputs": [
    {
     "data": {
      "text/html": [
       "<div>\n",
       "<style scoped>\n",
       "    .dataframe tbody tr th:only-of-type {\n",
       "        vertical-align: middle;\n",
       "    }\n",
       "\n",
       "    .dataframe tbody tr th {\n",
       "        vertical-align: top;\n",
       "    }\n",
       "\n",
       "    .dataframe thead th {\n",
       "        text-align: right;\n",
       "    }\n",
       "</style>\n",
       "<table border=\"1\" class=\"dataframe\">\n",
       "  <thead>\n",
       "    <tr style=\"text-align: right;\">\n",
       "      <th></th>\n",
       "      <th>Hour</th>\n",
       "      <th>DHI</th>\n",
       "      <th>DNI</th>\n",
       "      <th>WS</th>\n",
       "      <th>RH</th>\n",
       "      <th>T</th>\n",
       "      <th>TARGET</th>\n",
       "    </tr>\n",
       "  </thead>\n",
       "  <tbody>\n",
       "    <tr>\n",
       "      <th>4320</th>\n",
       "      <td>0</td>\n",
       "      <td>0</td>\n",
       "      <td>0</td>\n",
       "      <td>2.9</td>\n",
       "      <td>52.779999</td>\n",
       "      <td>7</td>\n",
       "      <td>0.0</td>\n",
       "    </tr>\n",
       "    <tr>\n",
       "      <th>4321</th>\n",
       "      <td>0</td>\n",
       "      <td>0</td>\n",
       "      <td>0</td>\n",
       "      <td>3.0</td>\n",
       "      <td>56.549999</td>\n",
       "      <td>7</td>\n",
       "      <td>0.0</td>\n",
       "    </tr>\n",
       "    <tr>\n",
       "      <th>4322</th>\n",
       "      <td>1</td>\n",
       "      <td>0</td>\n",
       "      <td>0</td>\n",
       "      <td>3.1</td>\n",
       "      <td>54.430000</td>\n",
       "      <td>7</td>\n",
       "      <td>0.0</td>\n",
       "    </tr>\n",
       "    <tr>\n",
       "      <th>4323</th>\n",
       "      <td>1</td>\n",
       "      <td>0</td>\n",
       "      <td>0</td>\n",
       "      <td>3.0</td>\n",
       "      <td>54.410000</td>\n",
       "      <td>7</td>\n",
       "      <td>0.0</td>\n",
       "    </tr>\n",
       "    <tr>\n",
       "      <th>4324</th>\n",
       "      <td>2</td>\n",
       "      <td>0</td>\n",
       "      <td>0</td>\n",
       "      <td>2.9</td>\n",
       "      <td>54.130001</td>\n",
       "      <td>7</td>\n",
       "      <td>0.0</td>\n",
       "    </tr>\n",
       "    <tr>\n",
       "      <th>...</th>\n",
       "      <td>...</td>\n",
       "      <td>...</td>\n",
       "      <td>...</td>\n",
       "      <td>...</td>\n",
       "      <td>...</td>\n",
       "      <td>...</td>\n",
       "      <td>...</td>\n",
       "    </tr>\n",
       "    <tr>\n",
       "      <th>4795</th>\n",
       "      <td>21</td>\n",
       "      <td>0</td>\n",
       "      <td>0</td>\n",
       "      <td>1.5</td>\n",
       "      <td>68.779999</td>\n",
       "      <td>3</td>\n",
       "      <td>0.0</td>\n",
       "    </tr>\n",
       "    <tr>\n",
       "      <th>4796</th>\n",
       "      <td>22</td>\n",
       "      <td>0</td>\n",
       "      <td>0</td>\n",
       "      <td>1.6</td>\n",
       "      <td>64.470001</td>\n",
       "      <td>3</td>\n",
       "      <td>0.0</td>\n",
       "    </tr>\n",
       "    <tr>\n",
       "      <th>4797</th>\n",
       "      <td>22</td>\n",
       "      <td>0</td>\n",
       "      <td>0</td>\n",
       "      <td>1.6</td>\n",
       "      <td>69.290001</td>\n",
       "      <td>2</td>\n",
       "      <td>0.0</td>\n",
       "    </tr>\n",
       "    <tr>\n",
       "      <th>4798</th>\n",
       "      <td>23</td>\n",
       "      <td>0</td>\n",
       "      <td>0</td>\n",
       "      <td>1.7</td>\n",
       "      <td>64.849998</td>\n",
       "      <td>2</td>\n",
       "      <td>0.0</td>\n",
       "    </tr>\n",
       "    <tr>\n",
       "      <th>4799</th>\n",
       "      <td>23</td>\n",
       "      <td>0</td>\n",
       "      <td>0</td>\n",
       "      <td>1.8</td>\n",
       "      <td>64.830002</td>\n",
       "      <td>2</td>\n",
       "      <td>0.0</td>\n",
       "    </tr>\n",
       "  </tbody>\n",
       "</table>\n",
       "<p>480 rows × 7 columns</p>\n",
       "</div>"
      ],
      "text/plain": [
       "      Hour  DHI  DNI   WS         RH  T  TARGET\n",
       "4320     0    0    0  2.9  52.779999  7     0.0\n",
       "4321     0    0    0  3.0  56.549999  7     0.0\n",
       "4322     1    0    0  3.1  54.430000  7     0.0\n",
       "4323     1    0    0  3.0  54.410000  7     0.0\n",
       "4324     2    0    0  2.9  54.130001  7     0.0\n",
       "...    ...  ...  ...  ...        ... ..     ...\n",
       "4795    21    0    0  1.5  68.779999  3     0.0\n",
       "4796    22    0    0  1.6  64.470001  3     0.0\n",
       "4797    22    0    0  1.6  69.290001  2     0.0\n",
       "4798    23    0    0  1.7  64.849998  2     0.0\n",
       "4799    23    0    0  1.8  64.830002  2     0.0\n",
       "\n",
       "[480 rows x 7 columns]"
      ]
     },
     "execution_count": 115,
     "metadata": {},
     "output_type": "execute_result"
    }
   ],
   "source": [
    "y"
   ]
  },
  {
   "cell_type": "code",
   "execution_count": null,
   "metadata": {},
   "outputs": [],
   "source": []
  }
 ],
 "metadata": {
  "kernelspec": {
   "display_name": "Python 3",
   "language": "python",
   "name": "python3"
  },
  "language_info": {
   "codemirror_mode": {
    "name": "ipython",
    "version": 3
   },
   "file_extension": ".py",
   "mimetype": "text/x-python",
   "name": "python",
   "nbconvert_exporter": "python",
   "pygments_lexer": "ipython3",
   "version": "3.7.7"
  }
 },
 "nbformat": 4,
 "nbformat_minor": 4
}
