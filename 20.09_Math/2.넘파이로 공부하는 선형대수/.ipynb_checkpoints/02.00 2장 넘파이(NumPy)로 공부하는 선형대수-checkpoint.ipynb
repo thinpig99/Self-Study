{
 "cells": [
  {
   "cell_type": "markdown",
   "metadata": {
    "school_cell_uuid": "6d96c61c39d84a54be42721a93af37a7"
   },
   "source": [
    "# 2장 넘파이(NumPy)로 공부하는 선형대수"
   ]
  },
  {
   "cell_type": "markdown",
   "metadata": {
    "school_cell_uuid": "bb1c0e9961094e84ae10876e8b6e7beb"
   },
   "source": [
    "이 장에서는 데이터 분석을 시작하는 데 꼭 필요한 기초 선형대수를 공부한다. 선형대수는 데이터를 다루는 방법을 표시한 기호이자 언어다. 선형대수는 데이터를 다루는 법은 물론이고 연립방정식을 사용하여 미지수의 값을 구하는 법 등에 사용되는 데이터 분석의 기본적인 도구다. 따라서 선형대수에서 나오는 용어의 정의와 사용법에 익숙해져야 한다. "
   ]
  },
  {
   "cell_type": "markdown",
   "metadata": {
    "school_cell_uuid": "5802e9add583455c83f4df7f41a26949"
   },
   "source": [
    "## 학습 목표"
   ]
  },
  {
   "cell_type": "markdown",
   "metadata": {
    "school_cell_uuid": "40f198d9cdda47b780d807654b0ea11f"
   },
   "source": [
    "* 각종 데이터를 선형대수의 기호로 나타낼 수 있다.\n",
    "* 선형대수의 각종 연산 특히 행렬의 곱셈을 이용하여 데이터를 조작할 수 있다.\n",
    "* 역행렬과 연립방정식의 해를 구하고 이를 회귀분석과 예측 문제에 활용할 수 있다."
   ]
  }
 ],
 "metadata": {
  "kernelspec": {
   "display_name": "Python 3",
   "language": "python",
   "name": "python3"
  },
  "language_info": {
   "codemirror_mode": {
    "name": "ipython",
    "version": 3
   },
   "file_extension": ".py",
   "mimetype": "text/x-python",
   "name": "python",
   "nbconvert_exporter": "python",
   "pygments_lexer": "ipython3",
   "version": "3.7.0"
  }
 },
 "nbformat": 4,
 "nbformat_minor": 2
}