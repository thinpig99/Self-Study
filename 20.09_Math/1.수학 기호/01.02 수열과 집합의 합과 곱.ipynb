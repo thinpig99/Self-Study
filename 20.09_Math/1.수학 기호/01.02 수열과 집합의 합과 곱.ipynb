{
 "cells": [
  {
   "cell_type": "markdown",
   "metadata": {
    "school_cell_uuid": "f7c0c9c593e94d718080cbc9e2ecb38b"
   },
   "source": [
    "## 1.2 수열과 집합의 합과 곱"
   ]
  },
  {
   "cell_type": "markdown",
   "metadata": {
    "school_cell_uuid": "c7f6520deaf84e2ea777eccd496f87bb"
   },
   "source": [
    "데이터를 분석하기 위해서는 많은 숫자의 합이나 곱을 계산해야 한다. 따라서 숫자의 합과 곱을 나타내는 수학 기호에 익숙해지는 것은 데이터 분석의 첫걸음이다. 이 절에 나온 기호와 수식들은 앞으로 계속 반복하여 나오므로 반드시 외우고 손으로 여러 번 쓰기를 바란다. "
   ]
  },
  {
   "cell_type": "markdown",
   "metadata": {
    "school_cell_uuid": "f5fb8a4723524700a526b098ac3e8c79"
   },
   "source": [
    "### 수열"
   ]
  },
  {
   "cell_type": "markdown",
   "metadata": {
    "school_cell_uuid": "0f238280207f41048f969a6af09bebda"
   },
   "source": [
    "수열(sequence)은 $N$개 숫자 또는 변수가 순서대로 나열된 것이다. 다음은 수열의 예다.\n",
    "\n",
    "$$ \n",
    "\\begin{align}\n",
    "1, 2, 3, 4 \n",
    "\\tag{1.2.1}\n",
    "\\end{align}\n",
    "$$\n",
    "\n",
    "$$ \n",
    "\\begin{align}\n",
    "x_1, x_2, x_3, x_4, x_5, x_6\n",
    "\\tag{1.2.2}\n",
    "\\end{align}\n",
    "$$\n",
    "\n",
    "문자에 붙은 아래 첨자는 순서를 나타내는 숫자로서 인덱스(index)라고 부른다. \n",
    "\n",
    "수열이 아주 길거나 수열의 길이가 숫자가 아닌 문자인 경우에는 $\\ldots$(dots) 기호를 사용하여 다음처럼 가운데 부분을 생략할 수 있다.\n",
    "\n",
    "$$ \n",
    "\\begin{align}\n",
    "x_1, x_2, \\ldots, x_N \\tag{1.2.3}\n",
    "\\end{align}\n",
    "$$\n"
   ]
  },
  {
   "cell_type": "markdown",
   "metadata": {
    "school_cell_uuid": "9329da3b51804b598fbd889d3d36b350"
   },
   "source": [
    "### 집합"
   ]
  },
  {
   "cell_type": "markdown",
   "metadata": {
    "school_cell_uuid": "ff182159354544edbaebe464ad8a157d"
   },
   "source": [
    "순서가 중요하지 않은 숫자들은 집합(set)으로 표시한다.\n",
    "\n",
    "$$\n",
    "\\begin{align}\n",
    "\\{ 1, 2, 3, 4 \\}\n",
    "\\tag{1.2.4}\n",
    "\\end{align}\n",
    "$$\n",
    "\n",
    "$$\n",
    "\\begin{align}\n",
    "\\{ x_1, x_2, x_3, x_4, x_5, x_6 \\}\n",
    "\\tag{1.2.5}\n",
    "\\end{align}\n",
    "$$\n",
    "\n",
    "집합에서도 원소가 많으면 가운데를 생략할 수 있다.\n",
    "\n",
    "$$\n",
    "\\begin{align}\n",
    "\\{ x_1, x_2, \\ldots, x_N \\} \\tag{1.2.6}\n",
    "\\end{align}\n",
    "$$\n",
    "\n",
    "데이터 분석에서는 1부터 $N$까지의 수열 또는  집합이 자주 나오기 때문에 위에서 사용한 기호 대신 다음과 같이 더 간단한 기호를 쓰는 경우도 많다. \n",
    "\n",
    "$$\n",
    "\\begin{align}\n",
    "x_{1:N} \\tag{1.2.7}\n",
    "\\end{align}\n",
    "$$\n",
    "\n",
    "$$\n",
    "\\begin{align}\n",
    "\\{ x_i \\}_N \\tag{1.2.8}\n",
    "\\end{align}\n",
    "$$\n",
    "\n",
    "집합에 알파벳 대문자로 이름을 붙일 수도 있다. 데이터 분석에서 자주 나오는 집합 중의 하나는 1, -2, 3.14와 같은 실수(real number) 전체의 집합이다. 실수 집합은 $\\mathbf{R}$이라는 이름을 가진다. 어떤 숫자 $x$가 실수이면 집합 $\\mathbf{R}$에 포함되므로 다음과 같은 기호로 나타낸다.\n",
    "\n",
    "$$\n",
    "\\begin{align}\n",
    "x \\in \\mathbf{R} \\tag{1.2.9}\n",
    "\\end{align}\n",
    "$$\n",
    "\n",
    "만약 두 개의 숫자로 이루어진 숫자 쌍 $(x_1, x_2)$가 있고 각각의 숫자 $x_1$, $x_2$가 모두 실수라면 다음처럼 표시한다.\n",
    "\n",
    "$$\n",
    "\\begin{align}\n",
    "(x_1,x_2) \\in \\mathbf{R} \\times \\mathbf{R} \\tag{1.2.10}\n",
    "\\end{align}\n",
    "$$\n",
    "\n",
    "또는\n",
    "\n",
    "$$\n",
    "\\begin{align}\n",
    "(x_1,x_2) \\in \\mathbf{R}^2 \\tag{1.2.11}\n",
    "\\end{align}\n",
    "$$"
   ]
  },
  {
   "cell_type": "markdown",
   "metadata": {
    "school_cell_uuid": "e7e02d5b982b4ec681d6c5a47c0a1cbb"
   },
   "source": [
    "### 수열의 합과 곱"
   ]
  },
  {
   "cell_type": "markdown",
   "metadata": {
    "school_cell_uuid": "db1f746832084d94801f0703e689e6d6"
   },
   "source": [
    "다음 기호는 수열을 더하거나 곱하는 연산을 짧게 줄여 쓴 것이다. 그리스 문자의 시그마($\\Sigma$)와 파이($\\Pi$)를 본따서 만든 기호지만 시그마와 파이로 읽지 않고 영어로 썸(sum), 프로덕트(product)라고 읽는다. 합과 곱 기호 아래에는 인덱스의 시작값, 위에는 인덱스의 끝값을 표시한다. 곱셈은 알파벳 x와 혼동될 수 있기 때문에 $a \\times b$가 아니라 $a \\cdot b$와 같이 점(dot)으로 표시하거나 아예 생략한다. \n",
    "\n",
    "$$\n",
    "\\begin{align}\n",
    "\\sum_{i=1}^N x_i = x_1 + x_2 + \\ldots + x_N \\tag{1.2.12}\n",
    "\\end{align}\n",
    "$$\n",
    "\n",
    "$$\n",
    "\\begin{align}\n",
    "\\prod_{i=1}^N x_i = x_1 \\cdot x_2 \\cdot \\ldots \\cdot x_N \\tag{1.2.13}\n",
    "\\end{align}\n",
    "$$\n",
    "\n",
    "더하기나 곱하기를 반복해서 써야할 때는 합과 곱 기호를 사용하면 수식이 간결하고 명확해진다.  \n",
    "예를 들어 1부터 4까지 더해야 하는 경우에는 다음처럼 쓴다.\n",
    "\n",
    "$$\n",
    "\\begin{align}\n",
    "\\sum_{i=1}^4 i = 1 + 2 + 3 + 4\n",
    "\\tag{1.2.14}\n",
    "\\end{align}\n",
    "$$\n",
    "\n",
    "만약 10부터 90까지 10씩 증가하는 수열을 모두 더해야 한다면 다음처럼 쓴다.\n",
    "\n",
    "$$\n",
    "\\begin{align}\n",
    "\\sum_{k=1}^9 10k = 10\\cdot 1 + 10\\cdot 2 + \\cdots + 10\\cdot 9 = 10 + 20 + \\cdots + 90\n",
    "\\tag{1.2.15}\n",
    "\\end{align}\n",
    "$$\n",
    "\n",
    "곱셈도 마찬가지이다. 다음은 10부터 20까지의 수를 모두 곱하는 식이다.\n",
    "\n",
    "$$\n",
    "\\begin{align}\n",
    "\\prod_{i=10}^{20} i = (10) \\cdot (11) \\cdot \\cdots \\cdot (20)\n",
    "\\tag{1.2.16}\n",
    "\\end{align}\n",
    "$$\n",
    "\n",
    "합이나 곱을 중첩하여 여러 번 쓰는 경우도 있다. 합과 곱을 중첩하여 쓸 때는 다음처럼 괄호를 생략할 수 있다. 합이나 곱이 중첩된 경우에는 인덱스가 여러 개가 된다.\n",
    "\n",
    "$$\n",
    "\\begin{align}\n",
    "\\sum_{i=1}^N \\left( \\sum_{j=1}^M x_{ij} \\right) = \\sum_{i=1}^N \\sum_{j=1}^M x_{ij} \n",
    "\\tag{1.2.17}\n",
    "\\end{align}\n",
    "$$\n",
    "\n",
    "다음은 합과 곱을 중첩한 수식의 예이다.\n",
    "\n",
    "$$ \n",
    "\\begin{align}\n",
    "\\begin{aligned}\n",
    "\\sum_{i=1}^2 \\sum_{j=1}^3 ( i+j ) \n",
    "&= \\sum_{i=1}^2 \\left( \\sum_{j=1}^3 ( i+j ) \\right) \\\\\n",
    "&= \\sum_{i=1}^2 \\big( (i+1) + (i+2) + (i+3) \\big) \\\\\n",
    "&= \\big((1 + 1) + (1 + 2) + (1 + 3)\\big) + \\big((2 + 1) + (2 + 2) + (2 + 3)\\big)\n",
    "\\end{aligned}\n",
    "\\tag{1.2.18}\n",
    "\\end{align}\n",
    "$$\n",
    "\n",
    "$$ \n",
    "\\begin{align}\n",
    "\\begin{aligned}\n",
    "\\prod_{m=1}^3\\prod_{n=1}^2 (m + 2n) \n",
    "&= \\prod_{m=1}^3 \\left( \\prod_{n=1}^2 (m + 2n) \\right) \\\\\n",
    "&= \\prod_{m=1}^3 \\big( (m + 2 \\cdot 1) \\cdot (m + 2 \\cdot 2) \\big) \\\\\n",
    "&=\n",
    "\\big( (1 + 2 \\cdot 1) \\cdot (1 + 2 \\cdot 2) \\big) \\cdot \n",
    "\\big( (2 + 2 \\cdot 1) \\cdot (2 + 2 \\cdot 2) \\big) \\cdot \n",
    "\\big( (3 + 2 \\cdot 1) \\cdot (3 + 2 \\cdot 2) \\big) \n",
    "\\end{aligned}\n",
    "\\tag{1.2.19}\n",
    "\\end{align}\n",
    "$$\n",
    "\n",
    "거듭 강조하지만 수학 공부는 눈으로 읽기만 하고 손으로 쓰지 않으면 아무런 의미가 없다. 지금까지 나온 수식을 꼭 손으로 반복하여 쓰면서 의미를 익히기 바란다."
   ]
  },
  {
   "cell_type": "markdown",
   "metadata": {
    "bootstrap": {
     "panel": {
      "class": "panel-default"
     }
    },
    "school_cell_uuid": "ec886bfec10a46329a9cf9c6f28022f0"
   },
   "source": [
    "#### 연습 문제 1.2.1\n",
    "\n",
    "다음 수식을 풀어 써라. 이 수식들은 이후에 머신러닝 모형에 등장할 수식이다.\n",
    "\n",
    "(1) 이 식은 분류 모형 중의 하나인 서포트 벡터 머신(support vector machine) 모형에 나온다.\n",
    "$$\n",
    "\\begin{align}\n",
    "\\sum_{i=1}^3\\sum_{j=1}^3 a_i a_j y_i y_j x_i x_j\n",
    "\\tag{1.2.20}\n",
    "\\end{align}\n",
    "$$\n",
    "\n",
    "(2) 이 식은 특잇값 분해(singular value decomposition)에 나온다.\n",
    "$$\n",
    "\\begin{align}\n",
    "\\sum_{k=1}^3 \\sum_{i=1}^3 \\sigma^2_i (v_iw_k)^2\n",
    "\\tag{1.2.21}\n",
    "\\end{align}\n",
    "$$\n",
    "\n",
    "(3) 이 식은 카테고리 분포(categorical distribution)의 추정에 사용된다.\n",
    "$$ \n",
    "\\begin{align}\n",
    "\\prod_{i=1}^4 \\prod_{k=1}^4 \\theta_k^{x_{i,k}}\n",
    "\\tag{1.2.22}\n",
    "\\end{align}\n",
    "$$\n",
    "\n",
    "(4) 가우시안 혼합 모형(Gaussian mixture model)에 다음과 비슷한 수식이 나온다.\n",
    "$$ \n",
    "\\begin{align}\n",
    "\\prod_{i=1}^4 \\sum_{k=1}^2 \\pi_k x_i \\mu_k\n",
    "\\tag{1.2.23}\n",
    "\\end{align}\n",
    "$$\n"
   ]
  },
  {
   "cell_type": "markdown",
   "metadata": {
    "bootstrap": {
     "panel": {
      "class": "panel-default"
     }
    },
    "school_cell_uuid": "ec886bfec10a46329a9cf9c6f28022f0"
   },
   "source": [
    "#### 연습 문제 1.2.2\n",
    "\n",
    "수열의 곱은 여러개의 값 중 하나를 선택하는 경우에도 쓰일 수 있다. 수열 $x_i$가 다음과 같다고 하자.\n",
    "\n",
    "$$\n",
    "\\begin{align}\n",
    "x_i : x_1, x_2, x_3, x_4\n",
    "\\tag{1.2.24}\n",
    "\\end{align}\n",
    "$$\n",
    "\n",
    "이 값 중 하나만 선택하고 싶다면 다음처럼 모두 0이고 하나만 1인 수열 $y_i$를 사용하면 된다.\n",
    "\n",
    "$$\n",
    "\\begin{align}\n",
    "y_i : 0, 1, 0, 0\n",
    "\\tag{1.2.25}\n",
    "\\end{align}\n",
    "$$\n",
    "\n",
    "(1) $x_i$와 $y_i$가 위와 같을 때 다음 값을 계산하라.\n",
    "\n",
    "$$\n",
    "\\begin{align}\n",
    "\\prod_i x_i^{y_i}\n",
    "\\tag{1.2.26}\n",
    "\\end{align}\n",
    "$$\n",
    "\n",
    "(2) 만약 수열 $y_i$에서 $y_3=1$이고 나머지값이 0이라면 답이 어떻게 달라지는가?"
   ]
  },
  {
   "cell_type": "markdown",
   "metadata": {
    "school_cell_uuid": "d68356eaac09404fa03d1cf25164ee94"
   },
   "source": [
    "수열의 합과 곱 연산은 다음과 같은 성질을 가지고 있다.\n",
    "\n",
    "(1) 인덱스 문자가 바뀌어도 실제 수식은 달라지지 않는다.\n",
    "\n",
    "$$\n",
    "\\begin{align}\n",
    "\\sum_{i=1}^N x_i = \\sum_{j=1}^N x_j\n",
    "\\tag{1.2.27}\n",
    "\\end{align}\n",
    "$$\n",
    "\n",
    "\n",
    "(2) 상수 $c$를 곱한 후에 합을 한 결과는 먼저 합을 구하고 상수를 곱한 것과 같다.\n",
    "\n",
    "$$\n",
    "\\begin{align}\n",
    "\\sum_{i=1}^N cx_i = c\\sum_{i=1}^N x_i\n",
    "\\tag{1.2.28}\n",
    "\\end{align}\n",
    "$$\n",
    "\n",
    "\n",
    "(3) 더해야 하는 값들이 여러 항의 합으로 되어 있으면 각각의 합을 먼저 구한 후에 더해도 된다.\n",
    "\n",
    "$$\n",
    "\\begin{align}\n",
    "\\sum_{i=1}^N (x_i + y_i) = \\sum_{i=1}^N x_i + \\sum_{i=1}^N y_i\n",
    "\\tag{1.2.29}\n",
    "\\end{align}\n",
    "$$\n",
    "\n",
    "\n",
    "(4) 합이나 곱을 중첩하는 경우에는 중첩의 순서를 바꾸어도 결과가 같다.\n",
    "\n",
    "$$\n",
    "\\begin{align}\n",
    "\\sum_{i=1}^N \\sum_{j=1}^M = \\sum_{j=1}^M \\sum_{i=1}^N\n",
    "\\tag{1.2.30}\n",
    "\\end{align}\n",
    "$$\n",
    "\n",
    "$$\n",
    "\\begin{align}\n",
    "\\prod_{i=1}^N \\prod_{j=1}^M = \\prod_{j=1}^M \\prod_{i=1}^N\n",
    "\\tag{1.2.31}\n",
    "\\end{align}\n",
    "$$\n",
    "\n",
    "\n",
    "예를 들어 다음 두 식은 항들의 순서만 바뀌었고 그 합은 같다는 것을 알 수 있다.\n",
    "\n",
    "$$\n",
    "\\begin{align}\n",
    "\\sum_{i=1}^2 \\sum_{j=1}^3 x_{ij} = (x_{11} + x_{12} + x_{13}) + (x_{21} + x_{22} + x_{23})\n",
    "\\tag{1.2.32}\n",
    "\\end{align}\n",
    "$$\n",
    "\n",
    "$$\n",
    "\\begin{align}\n",
    "\\sum_{j=1}^3 \\sum_{i=1}^2 x_{ij} = (x_{11} + x_{21}) + (x_{12} + x_{22}) + (x_{13} + x_{23})\n",
    "\\tag{1.2.33}\n",
    "\\end{align}\n",
    "$$\n"
   ]
  },
  {
   "cell_type": "markdown",
   "metadata": {
    "bootstrap": {
     "panel": {
      "class": "panel-default"
     }
    },
    "school_cell_uuid": "ec886bfec10a46329a9cf9c6f28022f0"
   },
   "source": [
    "#### 연습 문제 1.2.3\n",
    "\n",
    "다음 두 식의 좌변과 우변이 같음을 증명하라. (힌트: 등호의 왼쪽과 오른쪽 각각의 식을 풀어서 같아짐을 보인다.) 이 수식들은 선형대수에서 벡터 및 행렬의 곱에 유용하게 사용된다.\n",
    "\n",
    "(1)\n",
    "\n",
    "$$\n",
    "\\begin{align}\n",
    "\\left( \\sum_{i=1}^3 x_i \\right)^2 = \\sum_{i=1}^3 \\sum_{j=1}^3 x_i x_j\n",
    "\\tag{1.2.34}\n",
    "\\end{align}\n",
    "$$\n",
    "\n",
    "\n",
    "(2)\n",
    "\n",
    "$$\n",
    "\\begin{align}\n",
    "\\sum_{i=1}^3 \\sum_{j=1}^3 x_i y_{ij} =  \\sum_{i=1}^3 \\left( x_i  \\sum_{j=1}^3 y_{ij} \\right)\n",
    "\\tag{1.2.35}\n",
    "\\end{align}\n",
    "$$"
   ]
  },
  {
   "cell_type": "markdown",
   "metadata": {
    "school_cell_uuid": "2d462bf88d1c453a8c2b7fccc4ea7df7"
   },
   "source": [
    "### 집합의 합과 곱"
   ]
  },
  {
   "cell_type": "markdown",
   "metadata": {
    "school_cell_uuid": "61acfae0cc6a425fb57f0aec183a92ed"
   },
   "source": [
    "수열이 아니라 집합의 원소들의 합과 곱을 구할 때는 인덱스 대신 집합 기호를 사용한다.\n",
    "\n",
    "만약 집합 $X$의 원소가 다음과 같다면,\n",
    "\n",
    "$$\n",
    "\\begin{align}\n",
    "X = \\{ x_1, x_2, x_3 \\}\n",
    "\\tag{1.2.36}\n",
    "\\end{align}\n",
    "$$\n",
    "\n",
    "이 집합의 원소의 합과 곱은 다음처럼 표시한다. 이 때는 합과 곱 기호 안에 인덱스가 없다.\n",
    "\n",
    "$$\n",
    "\\begin{align}\n",
    "\\sum_X x = x_1 + x_2 + x_3\n",
    "\\tag{1.2.37}\n",
    "\\end{align}\n",
    "$$\n",
    "\n",
    "$$\n",
    "\\begin{align}\n",
    "\\prod_X x = x_1 \\cdot x_2 \\cdot x_3 \n",
    "\\tag{1.2.38}\n",
    "\\end{align}\n",
    "$$\n",
    "\n",
    "원소 중에서 특정한 조건을 가진 원소만 포함시키거나 제외하여 합과 곱을 구하는 경우도 있다. 이 때는 인덱스 위치에 조건을 표시한다. 예를 들어 다음 식은 집합 $X$의 원소 중 0이 아닌 것만 곱한 값을 뜻한다.\n",
    "\n",
    "$$\n",
    "\\begin{align}\n",
    "\\prod_{x \\in X, x \\neq 0 } x\n",
    "\\tag{1.2.39}\n",
    "\\end{align}\n",
    "$$"
   ]
  },
  {
   "cell_type": "markdown",
   "metadata": {
    "bootstrap": {
     "panel": {
      "class": "panel-default"
     }
    },
    "school_cell_uuid": "ec886bfec10a46329a9cf9c6f28022f0"
   },
   "source": [
    "#### 연습 문제 1.2.4\n",
    "\n",
    "두 집합 $X_1, X_2$가 있고 $x_1$은 $X_1$의 원소들, $x_2$은 $X_2$의 원소들을 가리킬 때 다음 두 식의 좌변과 우변이 같음을 증명하라.\n",
    "문제를 간단하게 하기 위해 여기에서는 각각의 집합이 3개의 원소만 가지고 있다고 가정하자.\n",
    "이 식의 확장된 버전은 추후 베이지안 네트워크의 합-곱(sum-product) 알고리즘에 사용된다.\n",
    "\n",
    "$$ \n",
    "\\begin{align}\n",
    "\\prod_{i=1}^2 \\sum_{X_i} x_{i} =\n",
    "\\sum_{X_1 \\times X_2} \\prod_{i=1}^2 x_i\n",
    "\\tag{1.2.40}\n",
    "\\end{align}\n",
    "$$"
   ]
  }
 ],
 "metadata": {
  "celltoolbar": "Edit Metadata",
  "kernelspec": {
   "display_name": "Python 3",
   "language": "python",
   "name": "python3"
  },
  "language_info": {
   "codemirror_mode": {
    "name": "ipython",
    "version": 3
   },
   "file_extension": ".py",
   "mimetype": "text/x-python",
   "name": "python",
   "nbconvert_exporter": "python",
   "pygments_lexer": "ipython3",
   "version": "3.7.1"
  },
  "pycharm": {
   "stem_cell": {
    "cell_type": "raw",
    "metadata": {
     "collapsed": false
    },
    "source": []
   }
  },
  "toc": {
   "base_numbering": 1,
   "nav_menu": {},
   "number_sections": false,
   "sideBar": true,
   "skip_h1_title": false,
   "title_cell": "Table of Contents",
   "title_sidebar": "Contents",
   "toc_cell": false,
   "toc_position": {
    "height": "calc(100% - 180px)",
    "left": "10px",
    "top": "150px",
    "width": "288px"
   },
   "toc_section_display": true,
   "toc_window_display": false
  }
 },
 "nbformat": 4,
 "nbformat_minor": 4
}
