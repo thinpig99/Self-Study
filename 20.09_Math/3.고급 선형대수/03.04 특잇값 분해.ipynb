{
 "cells": [
  {
   "cell_type": "markdown",
   "metadata": {
    "school_cell_uuid": "e58c0a8141f840dfa138ad0e25b71e5e"
   },
   "source": [
    "## 3.4 특잇값 분해"
   ]
  },
  {
   "cell_type": "markdown",
   "metadata": {},
   "source": [
    "정방행렬은 고유분해로 고윳값과 고유벡터를 찾을 수 있었다. 정방행렬이 아닌 행렬은 고유분해가 불가능하다. 하지만 대신 고유분해와 비슷한 특이분해를 할 수 있다."
   ]
  },
  {
   "cell_type": "markdown",
   "metadata": {},
   "source": [
    "### 특잇값과 특이벡터"
   ]
  },
  {
   "cell_type": "markdown",
   "metadata": {
    "school_cell_uuid": "1028d2a499e54703b0ea9f21566b69d0"
   },
   "source": [
    "$N \\times M$ 크기의 행렬 $A$를 다음과 같은 3개의 행렬의 곱으로 나타내는 것을 **특이분해(singular-decomposition)** 또는 **특잇값 분해(singular value decomposition)**라고 한다.\n",
    "\n",
    "$$ \n",
    "\\begin{align}\n",
    "A = U\\Sigma V^T \n",
    "\\tag{3.4.1}\n",
    "\\end{align}\n",
    "$$\n",
    "\n",
    "여기에서 $U, \\Sigma, V$는 다음 조건을 만족해야 한다.\n",
    "\n",
    "* 대각성분이 양수인 대각행렬이어야 한다. 큰 수부터 작은 수 순서로 배열한다.\n",
    "\n",
    "$$\n",
    "\\begin{align}\n",
    "\\Sigma \\in \\mathbf{R}^{N \\times M}\n",
    "\\tag{3.4.2}\n",
    "\\end{align}\n",
    "$$\n",
    "\n",
    "* $U$는 $N$차원 정방행렬로 모든 열벡터가 단위벡터이고 서로 직교해야 한다. \n",
    "\n",
    "$$\n",
    "\\begin{align}\n",
    "U \\in \\mathbf{R}^{N \\times N}\n",
    "\\tag{3.4.3}\n",
    "\\end{align}\n",
    "$$\n",
    "\n",
    "* $V$는 $M$차원 정방행렬로 모든 열벡터가 단위벡터이고 서로 직교해야 한다. \n",
    "\n",
    "$$\n",
    "\\begin{align}\n",
    "V \\in \\mathbf{R}^{M \\times M}\n",
    "\\tag{3.4.4}\n",
    "\\end{align}\n",
    "$$\n",
    "\n",
    "위 조건을 만족하는 행렬 $\\Sigma$의 대각성분들을 **특잇값(singular value)**, 행렬 $U$의 열벡터들을 **왼쪽 특이벡터**(left singular vector), 행렬 $V$의 행벡터들을 **오른쪽 특이벡터**(right singular vector)라고 부른다.\n",
    "\n",
    "> **[정리] 특이분해는 모든 행렬에 대해 가능하다. 즉 어떤 행렬이 주어지더라도 위와 같이 특이분해할 수 있다.** \n",
    "\n",
    "증명은 이 책의 범위를 벗어나므로 생략한다."
   ]
  },
  {
   "cell_type": "markdown",
   "metadata": {},
   "source": [
    "### 특이값 분해 행렬의 크기"
   ]
  },
  {
   "cell_type": "markdown",
   "metadata": {
    "school_cell_uuid": "1028d2a499e54703b0ea9f21566b69d0"
   },
   "source": [
    "**특잇값의 개수는 행렬의 열과 행의 개수 중 작은 값과 같다.** 특이분해된 형태를 구체적으로 쓰면 다음과 같다.\n",
    "\n",
    "\n",
    "만약 $N > M$이면 $\\Sigma$ 행렬이 $M$개의 특잇값(대각성분)을 가지고 다음처럼 아랫 부분이 영행렬이 된다.\n",
    "\n",
    "$$ \n",
    "\\begin{align}\n",
    "A = \n",
    "\\begin{bmatrix}\n",
    "\\boxed{\\begin{matrix} \\\\ \\\\ \\\\ \\\\ \\\\ \\, u_1 \\, \\\\ \\\\ \\\\ \\\\ \\\\ \\\\ \\end{matrix}} \\!\\!\\!\\!& \n",
    "\\boxed{\\begin{matrix} \\\\ \\\\ \\\\ \\\\ \\\\ \\, u_2 \\, \\\\ \\\\ \\\\ \\\\ \\\\ \\\\ \\end{matrix}} \\!\\!\\!\\!& \n",
    "\\boxed{\\begin{matrix} \\\\ \\\\ \\\\ \\\\ \\\\ \\, u_3 \\, \\\\ \\\\ \\\\ \\\\ \\\\ \\\\ \\end{matrix}} \\!\\!\\!\\!& \n",
    "\\cdots \\!\\!\\!\\!& \n",
    "\\boxed{\\begin{matrix} \\\\ \\\\ \\\\ \\\\ \\\\  u_M  \\\\ \\\\ \\\\ \\\\ \\\\ \\\\ \\end{matrix}} \\!\\!\\!\\!&\n",
    "\\cdots \\!\\!\\!\\!& \n",
    "\\boxed{\\begin{matrix} \\\\ \\\\ \\\\ \\\\ \\\\ u_N \\\\ \\\\ \\\\ \\\\ \\\\ \\\\ \\end{matrix}} \n",
    "\\end{bmatrix}\n",
    "\\begin{bmatrix}\n",
    "\\boxed{\\sigma_1 \\phantom{\\dfrac{}{}} \\!\\!} & 0 & 0 & \\cdots & 0 \\\\\n",
    "0 & \\boxed{\\sigma_2 \\phantom{\\dfrac{}{}} \\!\\!} & 0 & \\cdots & 0 \\\\\n",
    "0 & 0 & \\boxed{\\sigma_3 \\phantom{\\dfrac{}{}} \\!\\!} & \\cdots & 0 \\\\\n",
    "\\vdots & \\vdots & \\vdots & \\ddots \\\\\n",
    "0 & 0 & 0 & \\cdots & \\boxed{\\sigma_M \\phantom{\\dfrac{}{}} \\!\\!} \\\\\n",
    "0 & 0 & 0 & \\cdots & 0 \\\\\n",
    "\\vdots & \\vdots & \\vdots &  & \\vdots \\\\\n",
    "0 & 0 & 0 & \\cdots & 0 \\\\\n",
    "\\end{bmatrix}\n",
    "\\begin{bmatrix}\n",
    "\\boxed{\\begin{matrix} & & & v_1^T & & & \\end{matrix}} \\\\ \n",
    "\\boxed{\\begin{matrix} & & & v_2^T & & & \\end{matrix}} \\\\ \n",
    "\\vdots \\\\ \n",
    "\\boxed{\\begin{matrix} & & & v_M^T & & & \\end{matrix}} \\\\ \n",
    "\\end{bmatrix}\n",
    "\\tag{3.4.5}\n",
    "\\end{align}\n",
    "$$\n",
    "\n",
    "반대로 $N < M$이면 $\\Sigma$ 행렬이 $N$개의 특잇값(대각성분)을 가지고 다음처럼 오른쪽 부분이 영행렬이 된다.\n",
    "\n",
    "$$ \n",
    "\\begin{align}\n",
    "A = \n",
    "\\begin{bmatrix}\n",
    "\\boxed{\\begin{matrix} \\\\ \\\\ \\\\ \\, u_1 \\, \\\\ \\\\ \\\\ \\\\ \\end{matrix}} \\!\\!\\!\\!& \n",
    "\\boxed{\\begin{matrix} \\\\ \\\\ \\\\ \\, u_2 \\, \\\\ \\\\ \\\\ \\\\ \\end{matrix}} \\!\\!\\!\\!& \n",
    "\\cdots \\!\\!\\!\\!& \n",
    "\\boxed{\\begin{matrix} \\\\ \\\\ \\\\ u_N \\\\ \\\\ \\\\ \\\\ \\end{matrix}} \n",
    "\\end{bmatrix}\n",
    "\\begin{bmatrix}\n",
    "\\boxed{\\sigma_1 \\phantom{\\dfrac{}{}} \\!\\!} & 0 & 0 & \\cdots & 0 & 0 & \\cdots & 0 \\\\\n",
    "0 & \\boxed{\\sigma_2 \\phantom{\\dfrac{}{}} \\!\\!} & 0 & \\cdots & 0 & 0 & \\cdots & 0 \\\\\n",
    "0 & 0 & \\boxed{\\sigma_3 \\phantom{\\dfrac{}{}} \\!\\!} & \\cdots & 0 & 0 & \\cdots & 0 \\\\\n",
    "\\vdots & \\vdots & \\vdots & \\ddots & \\vdots & \\vdots & & \\vdots \\\\\n",
    "0 & 0 & 0 & \\cdots & \\boxed{\\sigma_N \\phantom{\\dfrac{}{}} \\!\\!} & 0 & \\cdots & 0 \\\\\n",
    "\\end{bmatrix}\n",
    "\\begin{bmatrix}\n",
    "\\boxed{\\begin{matrix} \\quad & \\quad & \\quad & v_1^T & \\quad & \\quad & \\quad \\end{matrix}} \\\\ \n",
    "\\boxed{\\begin{matrix} \\quad & \\quad & \\quad & v_2^T & \\quad & \\quad & \\quad \\end{matrix}} \\\\ \n",
    "\\boxed{\\begin{matrix} \\quad & \\quad & \\quad & v_3^T & \\quad & \\quad & \\quad \\end{matrix}} \\\\ \n",
    "\\vdots \\\\ \n",
    "\\boxed{\\begin{matrix} \\quad & \\quad & \\quad & v_N^T & \\quad & \\quad & \\quad \\end{matrix}} \\\\ \n",
    "\\vdots \\\\ \n",
    "\\boxed{\\begin{matrix} \\quad & \\quad & \\quad & v_M^T & \\quad & \\quad & \\quad \\end{matrix}} \\\\ \n",
    "\\end{bmatrix}\n",
    "\\tag{3.4.6}\n",
    "\\end{align}\n",
    "$$"
   ]
  },
  {
   "cell_type": "markdown",
   "metadata": {},
   "source": [
    "행렬의 크기만 표시하면 다음과 같다.\n",
    "\n",
    "$$\n",
    "\\begin{align}\n",
    "N\\;\\left\\{\\phantom{\\begin{matrix} \\\\ \\\\ \\\\ \\\\ \\\\ \\end{matrix}}\\right.\\!\\!\n",
    "\\overbrace{\n",
    "\\boxed{\n",
    "\\begin{matrix}\n",
    "\\; &   & \\; \\\\\n",
    "\\; &   & \\; \\\\\n",
    "\\; & A & \\; \\\\\n",
    "\\; &   & \\; \\\\\n",
    "\\; &   & \\; \\\\\n",
    "\\end{matrix}\n",
    "}}^{\\large M}\n",
    "=\n",
    "N\\;\\left\\{\\phantom{\\begin{matrix} \\\\ \\\\ \\\\ \\\\ \\\\ \\end{matrix}}\\right.\\!\\!\n",
    "\\overbrace{\n",
    "\\boxed{\n",
    "\\begin{matrix}\n",
    "\\; & & & & \\quad \\\\\n",
    "\\; & & & & \\quad \\\\\n",
    "\\; & & \\; U & & \\quad \\\\\n",
    "\\; & & & & \\quad \\\\\n",
    "\\; & & & & \\quad \\\\\n",
    "\\end{matrix}\n",
    "}}^{\\large N}\n",
    "\\;\n",
    "\\overbrace{\n",
    "\\boxed{\n",
    "\\begin{matrix}\n",
    "& & \\\\\n",
    "& & \\\\\n",
    "& \\Sigma & \\\\\n",
    "& & \\\\\n",
    "& & \\\\\n",
    "\\end{matrix}\n",
    "}}^{\\large M}\n",
    "\\;\n",
    "\\overbrace{\n",
    "\\boxed{\n",
    "\\begin{matrix}\n",
    "\\; &   & \\; \\\\\n",
    "\\; & V^T & \\; \\\\\n",
    "\\; &   & \\; \\\\\n",
    "\\end{matrix}\n",
    "}}^{\\large M}\n",
    "\\!\\!\\left.\\phantom{\\begin{matrix} \\\\ \\\\ \\\\ \\end{matrix}}\\right\\}M\n",
    "\\tag{3.4.7}\n",
    "\\end{align}\n",
    "$$\n",
    "\n",
    "또는\n",
    "\n",
    "$$\n",
    "\\begin{align}\n",
    "N\\;\\left\\{\\phantom{\\begin{matrix} \\\\ \\\\ \\\\ \\end{matrix}}\\right.\\!\\!\n",
    "\\overbrace{\n",
    "\\boxed{\n",
    "\\begin{matrix}\n",
    "\\quad & &   & & \\quad \\\\\n",
    "\\quad & & A & & \\quad \\\\\n",
    "\\quad & &   & & \\quad \\\\\n",
    "\\end{matrix}\n",
    "}}^{\\large M}\n",
    "=\n",
    "N\\;\\left\\{\\phantom{\\begin{matrix} \\\\ \\\\ \\\\  \\end{matrix}}\\right.\\!\\!\n",
    "\\overbrace{\n",
    "\\boxed{\n",
    "\\begin{matrix}\n",
    "\\begin{matrix}\n",
    "\\, & & \\; \\\\\n",
    "\\, & U \\; \\\\\n",
    "\\, & & \\; \\\\\n",
    "\\end{matrix}\n",
    "\\end{matrix}\n",
    "}}^{\\large N}\n",
    "\\;\n",
    "\\overbrace{\n",
    "\\boxed{\n",
    "\\begin{matrix}\n",
    "\\quad & &   & & \\quad \\\\\n",
    "\\quad & & \\Sigma & & \\quad \\\\\n",
    "\\quad & &   & & \\quad \\\\\n",
    "\\end{matrix}\n",
    "}}^{\\large M}\n",
    "\\;\n",
    "\\overbrace{\n",
    "\\boxed{\n",
    "\\begin{matrix}\n",
    "\\; & & & & \\quad \\\\\n",
    "\\; & & & & \\quad \\\\\n",
    "\\; & & \\; V^T & & \\quad \\\\\n",
    "\\; & & & & \\quad \\\\\n",
    "\\; & & & & \\quad \\\\\n",
    "\\end{matrix}\n",
    "}}^{\\large M}\n",
    "\\!\\!\\left.\\phantom{\\begin{matrix} \\\\ \\\\ \\\\\\\\ \\\\ \\end{matrix}}\\right\\}M\n",
    "\\tag{3.4.8}\n",
    "\\end{align}\n",
    "$$\n"
   ]
  },
  {
   "cell_type": "markdown",
   "metadata": {
    "school_cell_uuid": "0c1831371c604374944d1f119d8fd06b"
   },
   "source": [
    "#### 예제\n",
    "\n",
    "행렬 $A$\n",
    "\n",
    "$$\n",
    "\\begin{align}\n",
    "A = \n",
    "\\begin{bmatrix}\n",
    "3 & -1 \\\\\n",
    "1 & 3 \\\\\n",
    "1 & 1\n",
    "\\end{bmatrix}\n",
    "\\tag{3.4.9}\n",
    "\\end{align}\n",
    "$$\n",
    "\n",
    "는 다음처럼 특이분해할 수 있다.\n",
    "\n",
    "$$\n",
    "\\begin{align}\n",
    "A = \n",
    "\\begin{bmatrix}\n",
    " -\\frac{1}{\\sqrt{6}} &  \\frac{2}{\\sqrt{5}} & -\\frac{1}{\\sqrt{6}} \\\\ \n",
    " -\\frac{2}{\\sqrt{6}} & -\\frac{1}{\\sqrt{5}} &  -\\frac{2}{\\sqrt{30}} \\\\ \n",
    " -\\frac{1}{\\sqrt{6}} & 0 &  \\frac{5}{\\sqrt{30}}\n",
    "\\end{bmatrix}\n",
    "\\begin{bmatrix}\n",
    "\\sqrt{12} & 0        \\\\\n",
    "       0  & \\sqrt{10} \\\\\n",
    "       0 & 0 \n",
    "\\end{bmatrix}\n",
    "\\begin{bmatrix}\n",
    "-\\frac{1}{\\sqrt{2}} & -\\frac{1}{\\sqrt{2}} \\\\\n",
    " \\frac{1}{\\sqrt{2}} & -\\frac{1}{\\sqrt{2}} \n",
    "\\end{bmatrix}\n",
    "\\tag{3.4.10}\n",
    "\\end{align}\n",
    "$$"
   ]
  },
  {
   "cell_type": "markdown",
   "metadata": {},
   "source": [
    "###  특잇값 분해의 축소형"
   ]
  },
  {
   "cell_type": "markdown",
   "metadata": {},
   "source": [
    "특잇값 대각행렬에서 0인 부분은 사실상 아무런 의미가 없기 때문에 대각행렬의 0 원소 부분과 이에 대응하는 왼쪽(혹은 오른쪽) 특이벡터들을 없애고 다음처럼 축소된 형태로 해도 마찬가지로 원래 행렬이 나온다.\n",
    "\n",
    "$N$이 $M$보다 큰 경우에는 왼쪽 특이벡터 중에서 $u_{M+1}, \\cdots, u_N$을 없앤다.\n",
    "\n",
    "$$ \n",
    "\\begin{align}\n",
    "A = \n",
    "\\begin{bmatrix}\n",
    "\\boxed{\\begin{matrix} \\\\ \\\\ \\\\ \\\\ \\\\ \\, u_1 \\, \\\\ \\\\ \\\\ \\\\ \\\\ \\\\ \\end{matrix}} \\!\\!\\!\\!& \n",
    "\\boxed{\\begin{matrix} \\\\ \\\\ \\\\ \\\\ \\\\ \\, u_2 \\, \\\\ \\\\ \\\\ \\\\ \\\\ \\\\ \\end{matrix}} \\!\\!\\!\\!& \n",
    "\\cdots \\!\\!\\!\\!& \n",
    "\\boxed{\\begin{matrix} \\\\ \\\\ \\\\ \\\\ \\\\  u_M  \\\\ \\\\ \\\\ \\\\ \\\\ \\\\ \\end{matrix}} \\!\\!\\!\\!&\n",
    "\\end{bmatrix}\n",
    "\\begin{bmatrix}\n",
    "\\boxed{\\sigma_1 \\phantom{\\dfrac{}{}} \\!\\!} & 0 & 0 & \\cdots & 0 \\\\\n",
    "0 & \\boxed{\\sigma_2 \\phantom{\\dfrac{}{}} \\!\\!} & 0 & \\cdots & 0 \\\\\n",
    "0 & 0 & \\boxed{\\sigma_3 \\phantom{\\dfrac{}{}} \\!\\!} & \\cdots & 0 \\\\\n",
    "\\vdots & \\vdots & \\vdots & \\ddots \\\\\n",
    "0 & 0 & 0 & \\cdots & \\boxed{\\sigma_M \\phantom{\\dfrac{}{}} \\!\\!} \\\\\n",
    "\\end{bmatrix}\n",
    "\\begin{bmatrix}\n",
    "\\boxed{\\begin{matrix} & & & v_1^T & & & \\end{matrix}} \\\\ \n",
    "\\boxed{\\begin{matrix} & & & v_2^T & & & \\end{matrix}} \\\\ \n",
    "\\vdots \\\\ \n",
    "\\boxed{\\begin{matrix} & & & v_M^T & & & \\end{matrix}} \\\\ \n",
    "\\end{bmatrix}\n",
    "\\tag{3.4.11}\n",
    "\\end{align}\n",
    "$$\n",
    "\n",
    "$N$이 $M$보다 작은 경우에는 오른쪽 특이벡터 중에서 $v_{N+1}, \\cdots, v_M$을 없앤다.\n",
    "\n",
    "$$ \n",
    "\\begin{align}\n",
    "A = \n",
    "\\begin{bmatrix}\n",
    "\\boxed{\\begin{matrix} \\\\ \\\\ \\\\ \\, u_1 \\, \\\\ \\\\ \\\\ \\\\ \\end{matrix}} \\!\\!\\!\\!& \n",
    "\\boxed{\\begin{matrix} \\\\ \\\\ \\\\ \\, u_2 \\, \\\\ \\\\ \\\\ \\\\ \\end{matrix}} \\!\\!\\!\\!& \n",
    "\\cdots \\!\\!\\!\\!& \n",
    "\\boxed{\\begin{matrix} \\\\ \\\\ \\\\ u_N \\\\ \\\\ \\\\ \\\\ \\end{matrix}} \n",
    "\\end{bmatrix}\n",
    "\\begin{bmatrix}\n",
    "\\boxed{\\sigma_1 \\phantom{\\dfrac{}{}} \\!\\!} & 0 & 0 & \\cdots & 0 \\\\\n",
    "0 & \\boxed{\\sigma_2 \\phantom{\\dfrac{}{}} \\!\\!} & 0 & \\cdots & 0  \\\\\n",
    "0 & 0 & \\boxed{\\sigma_3 \\phantom{\\dfrac{}{}} \\!\\!} & \\cdots & 0  \\\\\n",
    "\\vdots & \\vdots & \\vdots & \\ddots & \\vdots \\\\\n",
    "0 & 0 & 0 & \\cdots & \\boxed{\\sigma_N \\phantom{\\dfrac{}{}} \\!\\!}  \\\\\n",
    "\\end{bmatrix}\n",
    "\\begin{bmatrix}\n",
    "\\boxed{\\begin{matrix} \\quad & \\quad & \\quad & v_1^T & \\quad & \\quad & \\quad \\end{matrix}} \\\\ \n",
    "\\boxed{\\begin{matrix} \\quad & \\quad & \\quad & v_2^T & \\quad & \\quad & \\quad \\end{matrix}} \\\\ \n",
    "\\vdots \\\\ \n",
    "\\boxed{\\begin{matrix} \\quad & \\quad & \\quad & v_N^T & \\quad & \\quad & \\quad \\end{matrix}} \\\\ \n",
    "\\end{bmatrix}\n",
    "\\tag{3.4.12}\n",
    "\\end{align}\n",
    "$$"
   ]
  },
  {
   "cell_type": "markdown",
   "metadata": {},
   "source": [
    "축소형의 경우에도 행렬의 크기만 표시하면 다음과 같다.\n",
    "\n",
    "$$\n",
    "\\begin{align}\n",
    "N\\;\\left\\{\\phantom{\\begin{matrix} \\\\ \\\\ \\\\ \\\\ \\\\ \\end{matrix}}\\right.\\!\\!\n",
    "\\overbrace{\n",
    "\\boxed{\n",
    "\\begin{matrix}\n",
    "\\; &   & \\; \\\\\n",
    "\\; &   & \\; \\\\\n",
    "\\; & A & \\; \\\\\n",
    "\\; &   & \\; \\\\\n",
    "\\; &   & \\; \\\\\n",
    "\\end{matrix}\n",
    "}}^{\\large M}\n",
    "=\n",
    "N\\;\\left\\{\\phantom{\\begin{matrix} \\\\ \\\\ \\\\ \\\\ \\\\ \\end{matrix}}\\right.\\!\\!\n",
    "\\overbrace{\n",
    "\\boxed{\n",
    "\\begin{matrix}\n",
    "& & \\\\\n",
    "& & \\\\\n",
    "& U & \\\\\n",
    "& & \\\\\n",
    "& & \\\\\n",
    "\\end{matrix}\n",
    "}}^{\\large M}\n",
    "\\;\n",
    "\\overbrace{\n",
    "\\boxed{\n",
    "\\begin{matrix}\n",
    "\\; &   & \\; \\\\\n",
    "\\; & \\Sigma & \\; \\\\\n",
    "\\; &   & \\; \\\\\n",
    "\\end{matrix}\n",
    "}}^{\\large M}\n",
    "\\;\n",
    "\\overbrace{\n",
    "\\boxed{\n",
    "\\begin{matrix}\n",
    "\\; &   & \\; \\\\\n",
    "\\; & V^T & \\; \\\\\n",
    "\\; &   & \\; \\\\\n",
    "\\end{matrix}\n",
    "}}^{\\large M}\n",
    "\\!\\!\\left.\\phantom{\\begin{matrix} \\\\ \\\\ \\\\ \\end{matrix}}\\right\\}M\n",
    "\\tag{3.4.13}\n",
    "\\end{align}\n",
    "$$\n",
    "\n",
    "또는\n",
    "\n",
    "$$\n",
    "\\begin{align}\n",
    "N\\;\\left\\{\\phantom{\\begin{matrix} \\\\ \\\\ \\\\ \\end{matrix}}\\right.\\!\\!\n",
    "\\overbrace{\n",
    "\\boxed{\n",
    "\\begin{matrix}\n",
    "\\quad & &   & & \\quad \\\\\n",
    "\\quad & & A & & \\quad \\\\\n",
    "\\quad & &   & & \\quad \\\\\n",
    "\\end{matrix}\n",
    "}}^{\\large M}\n",
    "=\n",
    "N\\;\\left\\{\\phantom{\\begin{matrix} \\\\ \\\\ \\\\  \\end{matrix}}\\right.\\!\\!\n",
    "\\overbrace{\n",
    "\\boxed{\n",
    "\\begin{matrix}\n",
    "\\begin{matrix}\n",
    "\\, & & \\; \\\\\n",
    "\\, & U \\; \\\\\n",
    "\\, & & \\; \\\\\n",
    "\\end{matrix}\n",
    "\\end{matrix}\n",
    "}}^{\\large N}\n",
    "\\;\n",
    "\\overbrace{\n",
    "\\boxed{\n",
    "\\begin{matrix}\n",
    "\\, & & \\; \\\\\n",
    "\\, & \\Sigma \\; \\\\\n",
    "\\, & & \\; \\\\\n",
    "\\end{matrix}\n",
    "}}^{\\large N}\n",
    "\\;\n",
    "\\overbrace{\n",
    "\\boxed{\n",
    "\\begin{matrix}\n",
    "\\quad & &   & & \\quad \\\\\n",
    "\\quad & & V^T & & \\quad \\\\\n",
    "\\quad & &   & & \\quad \\\\\n",
    "\\end{matrix}\n",
    "}}^{\\large M}\n",
    "\\!\\!\\left.\\phantom{\\begin{matrix} \\\\ \\\\ \\\\ \\end{matrix}}\\right\\}N\n",
    "\\tag{3.4.14}\n",
    "\\end{align}\n",
    "$$\n"
   ]
  },
  {
   "cell_type": "markdown",
   "metadata": {
    "school_cell_uuid": "0c1831371c604374944d1f119d8fd06b"
   },
   "source": [
    "#### 예제\n",
    "\n",
    "행렬 $A$\n",
    "\n",
    "$$\n",
    "\\begin{align}\n",
    "A = \n",
    "\\begin{bmatrix}\n",
    "3 & -1 \\\\\n",
    "1 & 3 \\\\\n",
    "1 & 1\n",
    "\\end{bmatrix}\n",
    "\\tag{3.4.15}\n",
    "\\end{align}\n",
    "$$\n",
    "\n",
    "의 특이분해 축소형은 다음과 같다.\n",
    "\n",
    "$$\n",
    "\\begin{align}\n",
    "A = \n",
    "\\begin{bmatrix}\n",
    " -\\frac{1}{\\sqrt{6}} &  \\frac{2}{\\sqrt{5}} \\\\ \n",
    " -\\frac{2}{\\sqrt{6}} & -\\frac{1}{\\sqrt{5}} \\\\ \n",
    " -\\frac{1}{\\sqrt{6}} & 0 \n",
    "\\end{bmatrix}\n",
    "\\begin{bmatrix}\n",
    "\\sqrt{12} & 0        \\\\\n",
    "       0  & \\sqrt{10} \\\\\n",
    "\\end{bmatrix}\n",
    "\\begin{bmatrix}\n",
    "-\\frac{1}{\\sqrt{2}} & -\\frac{1}{\\sqrt{2}} \\\\\n",
    " \\frac{1}{\\sqrt{2}} & -\\frac{1}{\\sqrt{2}} \n",
    "\\end{bmatrix}\n",
    "\\tag{3.4.16}\n",
    "\\end{align}\n",
    "$$"
   ]
  },
  {
   "cell_type": "markdown",
   "metadata": {
    "school_cell_uuid": "9ca8942b9cbc47bf8f3b67a9d2be940b"
   },
   "source": [
    "### 파이썬을 사용한 특이분해"
   ]
  },
  {
   "cell_type": "markdown",
   "metadata": {
    "school_cell_uuid": "b1c7a32eae864ef39d985d3cdbf3899c"
   },
   "source": [
    "numpy.linalg 서브패키지와 scipy.linalg 서브패키지에서는 특이분해를 할 수 있는 `svd()` 명령을 제공한다. 오른쪽 특이행렬은 전치행렬로 출력된다는 점에 주의하라."
   ]
  },
  {
   "cell_type": "code",
   "execution_count": 1,
   "metadata": {
    "school_cell_uuid": "38037e2204714c758d1fc6f761600a77"
   },
   "outputs": [],
   "source": [
    "from numpy.linalg import svd\n",
    "\n",
    "A = np.array([[3, -1], [1, 3], [1, 1]])\n",
    "U, S, VT = svd(A)"
   ]
  },
  {
   "cell_type": "code",
   "execution_count": 2,
   "metadata": {
    "school_cell_uuid": "6c989ecf302e4b69a2d27cc9a7459b67"
   },
   "outputs": [
    {
     "data": {
      "text/plain": [
       "array([[-4.08248290e-01,  8.94427191e-01, -1.82574186e-01],\n",
       "       [-8.16496581e-01, -4.47213595e-01, -3.65148372e-01],\n",
       "       [-4.08248290e-01, -2.06937879e-16,  9.12870929e-01]])"
      ]
     },
     "execution_count": 2,
     "metadata": {},
     "output_type": "execute_result"
    }
   ],
   "source": [
    "U"
   ]
  },
  {
   "cell_type": "code",
   "execution_count": 3,
   "metadata": {
    "school_cell_uuid": "1252eb164607433f9a7a477d540ecbc1"
   },
   "outputs": [
    {
     "data": {
      "text/plain": [
       "array([3.46410162, 3.16227766])"
      ]
     },
     "execution_count": 3,
     "metadata": {},
     "output_type": "execute_result"
    }
   ],
   "source": [
    "S"
   ]
  },
  {
   "cell_type": "code",
   "execution_count": 4,
   "metadata": {},
   "outputs": [
    {
     "data": {
      "text/plain": [
       "array([[3.46410162, 0.        ],\n",
       "       [0.        , 3.16227766],\n",
       "       [0.        , 0.        ]])"
      ]
     },
     "execution_count": 4,
     "metadata": {},
     "output_type": "execute_result"
    }
   ],
   "source": [
    "np.diag(S, 1)[:, 1:]"
   ]
  },
  {
   "cell_type": "code",
   "execution_count": 5,
   "metadata": {},
   "outputs": [
    {
     "data": {
      "text/plain": [
       "array([[-0.70710678, -0.70710678],\n",
       "       [ 0.70710678, -0.70710678]])"
      ]
     },
     "execution_count": 5,
     "metadata": {},
     "output_type": "execute_result"
    }
   ],
   "source": [
    "VT"
   ]
  },
  {
   "cell_type": "code",
   "execution_count": 6,
   "metadata": {},
   "outputs": [
    {
     "data": {
      "text/plain": [
       "array([[ 3., -1.],\n",
       "       [ 1.,  3.],\n",
       "       [ 1.,  1.]])"
      ]
     },
     "execution_count": 6,
     "metadata": {},
     "output_type": "execute_result"
    }
   ],
   "source": [
    "U @ np.diag(S, 1)[:, 1:] @ VT"
   ]
  },
  {
   "cell_type": "markdown",
   "metadata": {},
   "source": [
    "축소형을 구하려면 인수 `full_matrices=False`로 지정한다."
   ]
  },
  {
   "cell_type": "code",
   "execution_count": 7,
   "metadata": {},
   "outputs": [],
   "source": [
    "U2, S2, VT2 = svd(A, full_matrices=False)"
   ]
  },
  {
   "cell_type": "code",
   "execution_count": 8,
   "metadata": {
    "school_cell_uuid": "6c989ecf302e4b69a2d27cc9a7459b67"
   },
   "outputs": [
    {
     "data": {
      "text/plain": [
       "array([[-4.08248290e-01,  8.94427191e-01],\n",
       "       [-8.16496581e-01, -4.47213595e-01],\n",
       "       [-4.08248290e-01, -2.06937879e-16]])"
      ]
     },
     "execution_count": 8,
     "metadata": {},
     "output_type": "execute_result"
    }
   ],
   "source": [
    "U2"
   ]
  },
  {
   "cell_type": "code",
   "execution_count": 9,
   "metadata": {
    "school_cell_uuid": "1252eb164607433f9a7a477d540ecbc1"
   },
   "outputs": [
    {
     "data": {
      "text/plain": [
       "array([3.46410162, 3.16227766])"
      ]
     },
     "execution_count": 9,
     "metadata": {},
     "output_type": "execute_result"
    }
   ],
   "source": [
    "S2"
   ]
  },
  {
   "cell_type": "code",
   "execution_count": 10,
   "metadata": {},
   "outputs": [
    {
     "data": {
      "text/plain": [
       "array([[-0.70710678, -0.70710678],\n",
       "       [ 0.70710678, -0.70710678]])"
      ]
     },
     "execution_count": 10,
     "metadata": {},
     "output_type": "execute_result"
    }
   ],
   "source": [
    "VT2"
   ]
  },
  {
   "cell_type": "code",
   "execution_count": 11,
   "metadata": {},
   "outputs": [
    {
     "data": {
      "text/plain": [
       "array([[ 3., -1.],\n",
       "       [ 1.,  3.],\n",
       "       [ 1.,  1.]])"
      ]
     },
     "execution_count": 11,
     "metadata": {},
     "output_type": "execute_result"
    }
   ],
   "source": [
    "U2 @ np.diag(S2) @ VT2"
   ]
  },
  {
   "cell_type": "markdown",
   "metadata": {
    "bootstrap": {
     "panel": {
      "class": "panel-default"
     }
    },
    "school_cell_uuid": "d0e0cffb46fe47e395c44c2d8b984de6"
   },
   "source": [
    "#### 연습 문제 3.4.1\n",
    "\n",
    "NumPy를 사용하여 다음 행렬을 특잇값 분해를 한다(축소형이 아닌 방법과 축소형 방법을 각각 사용한다). 또한 다시 곱해서 원래의 행렬이 나오는 것을 보여라.\n",
    "\n",
    "$$ \n",
    "\\begin{align}\n",
    "B =\n",
    "\\begin{bmatrix}\n",
    "3 & 2 & 2 \\\\\n",
    "2 & 3 & -2\n",
    "\\end{bmatrix}\n",
    "\\tag{3.4.17}\n",
    "\\end{align}\n",
    "$$\n",
    "\n",
    "$$ \n",
    "\\begin{align}\n",
    "C =\n",
    "\\begin{bmatrix}\n",
    "2 & 4 \\\\\n",
    "1 & 3 \\\\\n",
    "0 & 0 \\\\\n",
    "0 & 0 \\\\\n",
    "\\end{bmatrix}\n",
    "\\tag{3.4.18}\n",
    "\\end{align}\n",
    "$$\n"
   ]
  },
  {
   "cell_type": "markdown",
   "metadata": {},
   "source": [
    "### 특잇값과 특이벡터의 관계"
   ]
  },
  {
   "cell_type": "markdown",
   "metadata": {},
   "source": [
    "행렬 $V$는 정규직교(orthonormal)행렬이므로 전치행렬이 역행렬이다. \n",
    "\n",
    "$$\n",
    "\\begin{align}\n",
    "V^T = V^{-1}\n",
    "\\tag{3.4.19}\n",
    "\\end{align}\n",
    "$$\n",
    "\n",
    "특이분해된 등식의 양변에 $V$를 곱하면,\n",
    "\n",
    "$$ \n",
    "\\begin{align}\n",
    "AV = U\\Sigma V^TV = U\\Sigma\n",
    "\\tag{3.4.20}\n",
    "\\end{align}\n",
    "$$\n",
    "\n",
    "$$ \n",
    "\\begin{align}\n",
    "A \n",
    "\\begin{bmatrix}\n",
    "v_1 & v_2 & \\cdots & v_M\n",
    "\\end{bmatrix}\n",
    "= \n",
    "\\begin{bmatrix}\n",
    "u_1 & u_2 & \\cdots & u_N\n",
    "\\end{bmatrix}\n",
    "\\begin{bmatrix}\n",
    "\\sigma_1 & 0 & \\cdots \\\\\n",
    "0 & \\sigma_2 & \\cdots \\\\\n",
    "\\vdots & \\vdots & \\ddots \\\\\n",
    "\\end{bmatrix}\n",
    "\\tag{3.4.21}\n",
    "\\end{align}\n",
    "$$\n",
    "\n",
    "행렬 $A$를 곱하여 정리하면 $M$이 $N$보다 클 때는\n",
    "\n",
    "$$\n",
    "\\begin{align}\n",
    "\\begin{bmatrix}\n",
    "Av_1 & Av_2 & \\cdots & Av_N\n",
    "\\end{bmatrix}\n",
    "= \n",
    "\\begin{bmatrix}\n",
    "\\sigma_1u_1 & \\sigma_2u_2 & \\cdots & \\sigma_Nu_N\n",
    "\\end{bmatrix}\n",
    "\\tag{3.4.22}\n",
    "\\end{align}\n",
    "$$\n",
    "\n",
    "이 되고 $N$이 $M$보다 클 때는\n",
    "\n",
    "$$\n",
    "\\begin{align}\n",
    "\\begin{bmatrix}\n",
    "Av_1 & Av_2 & \\cdots & Av_M\n",
    "\\end{bmatrix}\n",
    "= \n",
    "\\begin{bmatrix}\n",
    "\\sigma_1u_1 & \\sigma_2u_2 & \\cdots & \\sigma_Mu_M\n",
    "\\end{bmatrix}\n",
    "\\tag{3.4.23}\n",
    "\\end{align}\n",
    "$$\n",
    "\n",
    "이 된다. \n",
    "\n",
    "\n",
    "즉, $i$번째 특잇값 $\\sigma_i$와 특이벡터 $u_i$, $v_i$는 다음과 같은 관계가 있다.\n",
    "\n",
    "$$\n",
    "\\begin{align}\n",
    "Av_i = \\sigma_i u_i \\;\\; (i=1, \\ldots, \\text{min}(M,N))\n",
    "\\tag{3.4.24}\n",
    "\\end{align}\n",
    "$$\n",
    "\n",
    "이 관계는 고유분해와 비슷하지만 고유분해와는 달리 좌변과 우변의 벡터가 다르다."
   ]
  },
  {
   "cell_type": "markdown",
   "metadata": {},
   "source": [
    "#### 예제 \n",
    "\n",
    "위에서 예로 들었던 행렬의 경우,\n",
    "\n",
    "$$\n",
    "\\begin{align}\n",
    "\\begin{bmatrix}\n",
    "3 & -1 \\\\\n",
    "1 & 3 \\\\\n",
    "1 & 1\n",
    "\\end{bmatrix}\n",
    "\\begin{bmatrix}\n",
    "-\\frac{1}{\\sqrt{2}} \\\\\n",
    "-\\frac{1}{\\sqrt{2}} \n",
    "\\end{bmatrix}\n",
    "=\n",
    "\\sqrt{12}\n",
    "\\begin{bmatrix}\n",
    "-\\frac{1}{\\sqrt{6}} \\\\ -\\frac{2}{\\sqrt{6}} \\\\ -\\frac{1}{\\sqrt{6}}\n",
    "\\end{bmatrix}\n",
    "\\tag{3.4.25}\n",
    "\\end{align}\n",
    "$$\n",
    "\n",
    "$$\n",
    "\\begin{align}\n",
    "\\begin{bmatrix}\n",
    "3 & -1 \\\\\n",
    "1 & 3 \\\\\n",
    "1 & 1\n",
    "\\end{bmatrix}\n",
    "\\begin{bmatrix}\n",
    " \\frac{1}{\\sqrt{2}} \\\\\n",
    "-\\frac{1}{\\sqrt{2}} \n",
    "\\end{bmatrix}\n",
    "=\n",
    "\\sqrt{10}\n",
    "\\begin{bmatrix}\n",
    " \\frac{2}{\\sqrt{5}} \\\\  \n",
    "-\\frac{1}{\\sqrt{5}} \\\\ \n",
    " 0 \\\\ \n",
    "\\end{bmatrix}\n",
    "\\tag{3.4.26}\n",
    "\\end{align}\n",
    "$$\n",
    "\n",
    "가 성립한다."
   ]
  },
  {
   "cell_type": "markdown",
   "metadata": {
    "bootstrap": {
     "panel": {
      "class": "panel-default"
     }
    },
    "school_cell_uuid": "d0e0cffb46fe47e395c44c2d8b984de6"
   },
   "source": [
    "#### 연습 문제 3.4.2\n",
    "\n",
    "NumPy를 사용하여 다음 행렬에 대해 \n",
    "\n",
    "$$\n",
    "\\begin{align}\n",
    "Av_i = \\sigma_i u_i\n",
    "\\tag{3.4.27}\n",
    "\\end{align}\n",
    "$$\n",
    "\n",
    "가 성립한다는 것을 계산으로 보여라.\n",
    "\n",
    "$$ \n",
    "\\begin{align}\n",
    "B =\n",
    "\\begin{bmatrix}\n",
    "3 & 2 & 2 \\\\\n",
    "2 & 3 & -2\n",
    "\\end{bmatrix}\n",
    "\\tag{3.4.28}\n",
    "\\end{align}\n",
    "$$\n",
    "\n",
    "$$ \n",
    "\\begin{align}\n",
    "C =\n",
    "\\begin{bmatrix}\n",
    "2 & 4 \\\\\n",
    "1 & 3 \\\\\n",
    "0 & 0 \\\\\n",
    "0 & 0 \\\\\n",
    "\\end{bmatrix}\n",
    "\\tag{3.4.29}\n",
    "\\end{align}\n",
    "$$\n"
   ]
  },
  {
   "cell_type": "markdown",
   "metadata": {},
   "source": [
    "### 특이분해와 고유분해의 관계"
   ]
  },
  {
   "cell_type": "markdown",
   "metadata": {},
   "source": [
    "행렬 $A$의 분산행렬 $A^TA^{}$는\n",
    "\n",
    "$$ \n",
    "\\begin{align}\n",
    "A^TA^{} \n",
    "= (V^{} \\Sigma^T U^T)( U^{}\\Sigma^{} V^T) \n",
    "= V^{} \\Lambda^{} V^T \n",
    "\\tag{3.4.30}\n",
    "\\end{align}\n",
    "$$\n",
    "\n",
    "가 되어 행렬 $A$의 특잇값의 제곱(과 0)이 분산행렬 $A^TA^{}$의 고유값, **행렬 $A$의 오른쪽 특이벡터가 분산행렬 $A^TA^{}$의 고유벡터**가 된다.\n",
    "\n",
    "위 식에서 $\\Lambda$은 $N$이 $M$보다 크면 \n",
    "\n",
    "$$\n",
    "\\begin{align}\n",
    "\\Lambda\n",
    "= \n",
    "\\begin{bmatrix}\n",
    "\\sigma_1^2 & 0 & \\cdots & 0 \\\\\n",
    "0 & \\sigma_2^2 & \\cdots & 0 \\\\\n",
    "\\vdots & \\vdots & \\ddots & \\vdots \\\\\n",
    "0 & 0 & \\cdots & \\sigma_M^2  \\\\\n",
    "\\end{bmatrix}\n",
    "\\tag{3.4.31}\n",
    "\\end{align}\n",
    "$$\n",
    "\n",
    "이고 $N$이 $M$보다 작으면 \n",
    "\n",
    "$$\n",
    "\\begin{align}\n",
    "\\Lambda\n",
    "= \n",
    "\\begin{bmatrix}\n",
    "\\sigma_1^2 & 0 & \\cdots & 0 & \\cdots & 0 \\\\\n",
    "0 & \\sigma_2^2 & \\cdots & 0 & \\cdots & 0 \\\\\n",
    "\\vdots & \\vdots & \\ddots & \\vdots & \\vdots & \\vdots \\\\\n",
    "0 & 0 & \\cdots & \\sigma_N^2 & \\cdots & 0 \\\\\n",
    "\\vdots & \\vdots & \\cdots & \\vdots & \\ddots & \\vdots \\\\\n",
    "0 & 0 & \\cdots & 0 & \\cdots & 0 \\\\\n",
    "\\end{bmatrix}\n",
    "= \\text{diag}(\\sigma_1^2, \\sigma_2^2, \\cdots, \\sigma_N^2, 0, \\cdots, 0)\n",
    "\\tag{3.4.32}\n",
    "\\end{align}\n",
    "$$\n",
    "\n",
    "이다.\n",
    "\n",
    "마찬가지 방법으로 **행렬 $A$의 왼쪽 특이벡터가 행렬 $AA^T$의 고유벡터**가 된다는 것을 증명할 수 있다."
   ]
  },
  {
   "cell_type": "code",
   "execution_count": 12,
   "metadata": {},
   "outputs": [],
   "source": [
    "w, V = np.linalg.eig(A.T @ A)"
   ]
  },
  {
   "cell_type": "code",
   "execution_count": 13,
   "metadata": {},
   "outputs": [
    {
     "data": {
      "text/plain": [
       "array([12., 10.])"
      ]
     },
     "execution_count": 13,
     "metadata": {},
     "output_type": "execute_result"
    }
   ],
   "source": [
    "w  # A.T A의 고윳값"
   ]
  },
  {
   "cell_type": "code",
   "execution_count": 14,
   "metadata": {},
   "outputs": [
    {
     "data": {
      "text/plain": [
       "array([12., 10.])"
      ]
     },
     "execution_count": 14,
     "metadata": {},
     "output_type": "execute_result"
    }
   ],
   "source": [
    "S ** 2  # A의 특잇값의 제곱"
   ]
  },
  {
   "cell_type": "code",
   "execution_count": 15,
   "metadata": {},
   "outputs": [
    {
     "data": {
      "text/plain": [
       "array([[ 0.70710678, -0.70710678],\n",
       "       [ 0.70710678,  0.70710678]])"
      ]
     },
     "execution_count": 15,
     "metadata": {},
     "output_type": "execute_result"
    }
   ],
   "source": [
    "V  # A.T A의 고유벡터"
   ]
  },
  {
   "cell_type": "code",
   "execution_count": 16,
   "metadata": {},
   "outputs": [
    {
     "data": {
      "text/plain": [
       "array([[-0.70710678,  0.70710678],\n",
       "       [-0.70710678, -0.70710678]])"
      ]
     },
     "execution_count": 16,
     "metadata": {},
     "output_type": "execute_result"
    }
   ],
   "source": [
    "VT.T  # A의 오른쪽 특이벡터"
   ]
  },
  {
   "cell_type": "markdown",
   "metadata": {
    "bootstrap": {
     "panel": {
      "class": "panel-default"
     }
    },
    "school_cell_uuid": "d0e0cffb46fe47e395c44c2d8b984de6"
   },
   "source": [
    "#### 연습 문제 3.4.3\n",
    "\n",
    "NumPy를 사용하여 행렬 $A$의 왼쪽 특이벡터가 행렬 $AA^T$의 고유벡터가 된다는 것을 보여라.\n",
    "\n",
    "$$\n",
    "\\begin{align}\n",
    "A = \n",
    "\\begin{bmatrix}\n",
    "3 & -1 \\\\\n",
    "1 & 3 \\\\\n",
    "1 & 1\n",
    "\\end{bmatrix}\n",
    "\\tag{3.4.33}\n",
    "\\end{align}\n",
    "$$"
   ]
  },
  {
   "cell_type": "markdown",
   "metadata": {},
   "source": [
    "### 1차원 근사"
   ]
  },
  {
   "cell_type": "markdown",
   "metadata": {},
   "source": [
    "2차원 평면 위에 3개의 2차원 벡터 $a_1, a_2, a_3$가 있다. 원점을 지나면서 모든 점들과 가능한 한 가까이 있는 직선을 만들고 싶다면 직선의 방향을 어떻게 해야 할까? 직선의 방향을 나타내는 단위 벡터를 $w$라고 하자. "
   ]
  },
  {
   "cell_type": "code",
   "execution_count": 17,
   "metadata": {},
   "outputs": [
    {
     "data": {
      "image/png": "[encoded data removed]",
      "text/plain": [
       "<Figure size 2700x1800 with 1 Axes>"
      ]
     },
     "metadata": {
      "needs_background": "light"
     },
     "output_type": "display_data"
    }
   ],
   "source": [
    "w = np.array([2, 1]) / np.sqrt(5)\n",
    "a1 = np.array([3, -1])\n",
    "a2 = np.array([1, 3])\n",
    "a3 = np.array([1, 1])\n",
    "\n",
    "black = {\"facecolor\": \"black\"}\n",
    "\n",
    "plt.figure(figsize=(9, 6))\n",
    "plt.plot(0, 0, 'kP', ms=10)\n",
    "plt.annotate('', xy=w, xytext=(0, 0), arrowprops=black)\n",
    "plt.plot([-2, 8], [-1, 4], 'b--', lw=2)\n",
    "plt.plot([a1[0], 2], [a1[1], 1], 'g:', lw=2)\n",
    "plt.plot([a2[0], 2], [a2[1], 1], 'g:', lw=2)\n",
    "plt.plot([a3[0], 1.2], [a3[1], 0.6], 'g:', lw=2)\n",
    "plt.plot(a1[0], a1[1], 'ro', ms=10)\n",
    "plt.plot(a2[0], a2[1], 'ro', ms=10)\n",
    "plt.plot(a3[0], a3[1], 'ro', ms=10)\n",
    "plt.text(0.1, 0.5, \"$w$\")\n",
    "plt.text(a1[0] + 0.2, a1[1] + 0.2, \"$a_1$\")\n",
    "plt.text(a2[0] + 0.2, a2[1] + 0.2, \"$a_2$\")\n",
    "plt.text(a3[0] - 0.3, a3[1] + 0.2, \"$a_3$\")\n",
    "plt.xticks(np.arange(-3, 15))\n",
    "plt.yticks(np.arange(-1, 5))\n",
    "plt.xlim(-3, 6)\n",
    "plt.ylim(-2, 4)\n",
    "plt.show()"
   ]
  },
  {
   "cell_type": "markdown",
   "metadata": {},
   "source": [
    "벡터 $w$와 점 $a_i$의 거리의 제곱은 다음처럼 계산할 수 있다.(연습 문제 3.1.9)\n",
    "\n",
    "$$\n",
    "\\begin{align}\n",
    "\\Vert a_i^{\\perp w}\\Vert^2 = \\Vert a_i\\Vert^2 - \\Vert a_i^{\\Vert w}\\Vert^2 = \\Vert a_i\\Vert^2 - (a_i^Tw)^2\n",
    "\\tag{3.4.34}\n",
    "\\end{align}\n",
    "$$ \n",
    "\n",
    "벡터 $a_1, a_2, a_3$를 행벡터로 가지는 행렬 $A$를 가정하면 \n",
    "\n",
    "$$ \n",
    "\\begin{align}\n",
    "A = \\begin{bmatrix} a_1^T \\\\ a_2^T \\\\ a_3^T \\end{bmatrix}\n",
    "\\tag{3.4.35}\n",
    "\\end{align}\n",
    "$$\n",
    "\n",
    "행벡터의 놈의 제곱의 합은 행렬의 놈이므로 모든 점들과의 거리의 제곱의 합은 행렬의 놈으로 계산된다. (연습 문제 2.3.2)\n",
    "\n",
    "$$ \n",
    "\\begin{align}\n",
    "\\begin{aligned}\n",
    "\\sum_{i=1}^3 \\Vert a_i^{\\perp w}\\Vert^2 \n",
    "&= \\sum_{i=1}^3 \\Vert a_i\\Vert^2 - \\sum_{i=1}^3  (a_i^Tw)^2 \\\\\n",
    "&= \\Vert A \\Vert^2 - \\Vert Aw\\Vert^2 \\\\\n",
    "\\end{aligned}\n",
    "\\tag{3.4.36}\n",
    "\\end{align}\n",
    "$$ \n",
    "\n",
    "점 $a_i$의 위치가 고정되어 있으므로 행렬 $A$의 놈 값은 고정되어 있다. 따라서 이 값이 가장 작아지려면 $\\Vert Aw\\Vert^2$의 값이 가장 크게 만드는 $w$를 찾아야 한다.이 문제는 다음처럼 수식으로 쓸 수 있다.\n",
    "\n",
    "$$ \n",
    "\\begin{align}\n",
    "\\arg\\max_w \\Vert Aw \\Vert^2 \n",
    "\\tag{3.4.37}\n",
    "\\end{align}\n",
    "$$"
   ]
  },
  {
   "cell_type": "markdown",
   "metadata": {},
   "source": [
    "### 1차원 근사의 풀이"
   ]
  },
  {
   "cell_type": "markdown",
   "metadata": {},
   "source": [
    "위에서 예로 든 행렬 $A \\in \\mathbf{R}^{3 \\times 2}$를 특이분해하면 2개의 특잇값, 왼쪽/오른쪽 특이벡터를 가진다. 이를 각각 다음처럼 이름붙인다.\n",
    "\n",
    "* 첫 번째 특잇값: $\\sigma_1$, 첫 번째 왼쪽 특이벡터 $u_1 \\in \\mathbf{R}^{3}$, 첫 번째 오른쪽 특이벡터 $v_1 \\in \\mathbf{R}^{2}$ \n",
    "* 두 번째 특잇값: $\\sigma_2$, 두 번째 왼쪽 특이벡터 $u_2 \\in \\mathbf{R}^{3}$, 두 번째 오른쪽 특이벡터 $v_2 \\in \\mathbf{R}^{2}$ \n",
    "\n",
    "첫 번째 특잇값 $\\sigma_1$은 두 번째 특잇값 $\\sigma_2$보다 같거나 크다.\n",
    "\n",
    "$$\n",
    "\\begin{align}\n",
    "\\sigma_1 \\geq \\sigma_2\n",
    "\\tag{3.4.38}\n",
    "\\end{align}\n",
    "$$\n",
    "\n",
    "또한 위에서 알아낸 것처럼 A에 오른쪽 특이벡터를 곱하면 왼쪽 특이벡터 방향이 된다.\n",
    "\n",
    "$$\n",
    "\\begin{align}\n",
    "A v_1 = \\sigma_1 u_1\n",
    "\\tag{3.4.39}\n",
    "\\end{align}\n",
    "$$\n",
    "\n",
    "\n",
    "$$\n",
    "\\begin{align}\n",
    "A v_2 = \\sigma_2 u_2\n",
    "\\tag{3.4.40}\n",
    "\\end{align}\n",
    "$$\n",
    "\n",
    "오른쪽 특이벡터 $v_1, v_2$는 서로 직교하므로 (같은 방향이 아니라서) 선형독립이고 2차원 평면공간의 기저벡터가 될 수 있다.\n",
    "\n",
    "우리는 $\\Vert Aw\\Vert$의 값이 가장 크게 만드는 $w$를 찾아야 하는데 $w$는 2차원 벡터이므로 2차원 평면공간의 기저벡터인 $v_1, v_2$의 선형조합으로 표현할 수 있다.\n",
    "\n",
    "$$\n",
    "\\begin{align}\n",
    "w = w_{1} v_1 + w_{2} v_2\n",
    "\\tag{3.4.41}\n",
    "\\end{align}\n",
    "$$\n",
    "\n",
    "단, $w$도 단위벡터이므로 $w_{1}, w_{2}$는 다음 조건을 만족해야 한다.\n",
    "\n",
    "$$\n",
    "\\begin{align}\n",
    "w_{1}^2 + w_{2}^2 = 1\n",
    "\\tag{3.4.42}\n",
    "\\end{align}\n",
    "$$\n",
    "\n",
    "이때 $\\Vert Aw\\Vert$의 값은\n",
    "\n",
    "$$ \n",
    "\\begin{align}\n",
    "\\begin{aligned}\n",
    "\\Vert Aw\\Vert^2 \n",
    "&= \\Vert A(w_{1} v_1 + w_{2} v_2)\\Vert^2 \\\\\n",
    "&= \\Vert w_{1}Av_1 + w_{2}Av_2 \\Vert^2 \\\\\n",
    "&= \\Vert w_{1} \\sigma_1 u_1 + w_{2} \\sigma_2 u_2 \\Vert^2 \\\\\n",
    "&= \\Vert w_{1} \\sigma_1 u_1 \\Vert^2 + \\Vert w_{2} \\sigma_2 u_2 \\Vert^2 \\;\\; \\text{(orthogonal)} \\\\\n",
    "&= w_{1}^2 \\sigma_1^2 \\Vert  u_1 \\Vert^2 + w_{2}^2 \\sigma_2^2 \\Vert  u_2 \\Vert^2 \\\\\n",
    "&= w_{1}^2 \\sigma_1^2 + w_{2}^2 \\sigma_2^2  \\;\\; \\text{(unit vector)}\\\\\n",
    "\\end{aligned}\n",
    "\\tag{3.4.43}\n",
    "\\end{align}\n",
    "$$\n",
    "\n",
    "$\\sigma_1 > \\sigma_2 > 0$ 이므로 $w_{1}^2 + w_{2}^2 = 1$라는 조건을 만족하면서 위 값을 가장 크게 하는 $w_{1}, w_{2}$값은\n",
    "\n",
    "$$\n",
    "\\begin{align}\n",
    "w_{1} = 1, w_{2} = 0\n",
    "\\tag{3.4.44}\n",
    "\\end{align}\n",
    "$$\n",
    "\n",
    "이다. 즉, 첫 번째 오른쪽 특이벡터 방향으로 하는 것이다.\n",
    "\n",
    "$$\n",
    "\\begin{align}\n",
    "w = v_1\n",
    "\\tag{3.4.45}\n",
    "\\end{align}\n",
    "$$\n",
    "\n",
    "이때 $\\Vert Aw\\Vert$는 첫 번째 특잇값이 된다.\n",
    "\n",
    "$$\n",
    "\\begin{align}\n",
    "\\Vert Aw\\Vert = \\Vert Av_1\\Vert = \\Vert \\sigma_1 u_1\\Vert = \\sigma_1 \\Vert u_1\\Vert = \\sigma_1\n",
    "\\tag{3.4.46}\n",
    "\\end{align}\n",
    "$$"
   ]
  },
  {
   "cell_type": "markdown",
   "metadata": {},
   "source": [
    "위에서 예로 들었던 행렬\n",
    "\n",
    "$$\n",
    "\\begin{align}\n",
    "A = \n",
    "\\begin{bmatrix}\n",
    "3 & -1 \\\\\n",
    "1 & 3 \\\\\n",
    "1 & 1\n",
    "\\end{bmatrix}\n",
    "\\tag{3.4.47}\n",
    "\\end{align}\n",
    "$$\n",
    "\n",
    "첫 번째 오른쪽 특이벡터\n",
    "\n",
    "$$\n",
    "\\begin{align}\n",
    "v_1 = \n",
    "\\begin{bmatrix}\n",
    "\\frac{\\sqrt{2}}{2} \\\\\n",
    "\\frac{\\sqrt{2}}{2} \\\\\n",
    "\\end{bmatrix}\n",
    "\\tag{3.4.48}\n",
    "\\end{align}\n",
    "$$\n",
    "\n",
    "가 가장 거리의 합이 작은 방향이 된다. 그리고 이때의 거리의 제곱의 합은 다음과 같다.\n",
    "\n",
    "$$\n",
    "\\begin{align}\n",
    "\\Vert A \\Vert^2 - \\Vert Aw\\Vert^2\n",
    "=\\Vert A \\Vert^2 - \\sigma_1^2\n",
    "\\tag{3.4.49}\n",
    "\\end{align}\n",
    "$$"
   ]
  },
  {
   "cell_type": "code",
   "execution_count": 18,
   "metadata": {},
   "outputs": [
    {
     "data": {
      "text/plain": [
       "9.999999999999998"
      ]
     },
     "execution_count": 18,
     "metadata": {},
     "output_type": "execute_result"
    }
   ],
   "source": [
    "np.linalg.norm(A)**2 - S[0]**2"
   ]
  },
  {
   "cell_type": "code",
   "execution_count": 19,
   "metadata": {},
   "outputs": [
    {
     "data": {
      "image/png": "[encoded data removed]",
      "text/plain": [
       "<Figure size 2700x1800 with 1 Axes>"
      ]
     },
     "metadata": {
      "needs_background": "light"
     },
     "output_type": "display_data"
    }
   ],
   "source": [
    "w = np.array([1, 1]) / np.sqrt(2)\n",
    "a1 = np.array([3, -1])\n",
    "a2 = np.array([1, 3])\n",
    "a3 = np.array([1, 1])\n",
    "\n",
    "black = {\"facecolor\": \"black\"}\n",
    "\n",
    "plt.figure(figsize=(9, 6))\n",
    "plt.plot(0, 0, 'kP', ms=10)\n",
    "plt.annotate('', xy=w, xytext=(0, 0), arrowprops=black)\n",
    "plt.plot([-2, 4], [-2, 4], 'b--', lw=2)\n",
    "plt.plot([a1[0], 1], [a1[1], 1], 'g:', lw=2)\n",
    "plt.plot([a2[0], 2], [a2[1], 2], 'g:', lw=2)\n",
    "plt.plot(a1[0], a1[1], 'ro', ms=10)\n",
    "plt.plot(a2[0], a2[1], 'ro', ms=10)\n",
    "plt.plot(a3[0], a3[1], 'ro', ms=10)\n",
    "plt.text(0.1, 0.5, \"$w$\")\n",
    "plt.text(a1[0] + 0.2, a1[1] + 0.2, \"$a_1$\")\n",
    "plt.text(a2[0] + 0.2, a2[1] + 0.2, \"$a_2$\")\n",
    "plt.text(a3[0] - 0.3, a3[1] + 0.2, \"$a_3$\")\n",
    "plt.xticks(np.arange(-3, 15))\n",
    "plt.yticks(np.arange(-1, 5))\n",
    "plt.xlim(-3, 6)\n",
    "plt.ylim(-2, 4)\n",
    "plt.show()"
   ]
  },
  {
   "cell_type": "markdown",
   "metadata": {},
   "source": [
    "### 일반적인 풀이"
   ]
  },
  {
   "cell_type": "markdown",
   "metadata": {},
   "source": [
    "만약 $N=3$이 아니라 일반적인 경우에는 다음처럼 풀 수 있다. \n",
    "\n",
    "$$\n",
    "\\begin{align}\n",
    "\\begin{aligned}\n",
    "\\Vert Aw \\Vert^2 \n",
    "&= \\sum_{i=1}^{N}  (a_i^Tw)^2 \\\\\n",
    "&= \\sum_{i=1}^{N}  (a_i^Tw)^T(a_i^Tw) \\\\\n",
    "&= \\sum_{i=1}^{N}  w^Ta_ia_i^Tw \\\\\n",
    "&= w^T \\left( \\sum_{i=1}^{N}  a_ia_i^T \\right) w \\\\\n",
    "&= w^T A^TA w \\\\\n",
    "\\end{aligned}\n",
    "\\tag{3.4.50}\n",
    "\\end{align}\n",
    "$$\n",
    "\n",
    "분산행렬의 고유분해 공식을 이용하면,\n",
    "\n",
    "$$\n",
    "\\begin{align}\n",
    "\\begin{aligned}\n",
    "w^T A^TA w \n",
    "&= w^T V \\Lambda V^T w \\\\\n",
    "&= w^T \\left( \\sum_{i=1}^{M}  \\sigma^2_iv_iv_i^T \\right) w \\\\\n",
    "&= \\sum_{i=1}^{M}\\sigma^2_i(w^Tv_i)(v_i^Tw) \\\\\n",
    "&= \\sum_{i=1}^{M}\\sigma^2_i\\Vert v_i^Tw\\Vert^2 \\\\\n",
    "\\end{aligned}\n",
    "\\tag{3.4.51}\n",
    "\\end{align}\n",
    "$$\n",
    "\n",
    "이 된다. 이 식에서 $M$은 0이 아닌 특잇값 개수다.\n",
    "\n",
    "즉, 우리가 풀어야 할 문제는 다음과 같다.\n",
    "\n",
    "$$ \n",
    "\\begin{align}\n",
    "\\arg\\max_w \\Vert Aw \\Vert^2 = \\arg\\max_w \\sum_{i=1}^{M}\\sigma^2_i\\Vert v_i^Tw\\Vert^2 \n",
    "\\tag{3.4.52}\n",
    "\\end{align}\n",
    "$$\n",
    "\n",
    "이 값을 가장 크게 하려면 $w$를 가장 큰 특잇값에 대응하는 오른쪽 고유벡터 $v_1$으로 해야 한다. "
   ]
  },
  {
   "cell_type": "markdown",
   "metadata": {},
   "source": [
    "### 랭크-1 근사문제"
   ]
  },
  {
   "cell_type": "markdown",
   "metadata": {},
   "source": [
    "또 $a_i$를 $w$에 투영한 벡터는\n",
    "\n",
    "$$\n",
    "\\begin{align}\n",
    "a^{\\Vert w}_i = (a_i^Tw)w\n",
    "\\tag{3.4.53}\n",
    "\\end{align}\n",
    "$$\n",
    "\n",
    "이므로 $w$ 벡터를 이용하면 $N$개의 $M$차원 벡터 $a_1, a_2, \\cdots, a_N\\;(a_i \\in \\mathbf{R}^M)$를 1차원으로 투영(projection)하여 가장 비슷한 $N$개의 1차원 벡터 $a^{\\Vert w}_1, a^{\\Vert w}_2, \\cdots, a^{\\Vert w}_N\\;(a^{\\Vert w}_i \\in \\mathbf{R}^1)$를 만들 수 있다. \n",
    "\n",
    "$$\n",
    "\\begin{align}\n",
    "A'=\n",
    "\\begin{bmatrix}\n",
    "\\left(a^{\\Vert w}_1\\right)^T \\\\\n",
    "\\left(a^{\\Vert w}_2\\right)^T \\\\\n",
    "\\vdots \\\\\n",
    "\\left(a^{\\Vert w}_N\\right)^T\n",
    "\\end{bmatrix}\n",
    "=\n",
    "\\begin{bmatrix}\n",
    "a_1^Tw^{}w^T \\\\\n",
    "a_2^Tw^{}w^T \\\\\n",
    "\\vdots \\\\\n",
    "a_N^Tw^{}w^T\n",
    "\\end{bmatrix}\n",
    "=\n",
    "\\begin{bmatrix}\n",
    "a_1^T \\\\\n",
    "a_2^T \\\\\n",
    "\\vdots \\\\\n",
    "a_N^T\n",
    "\\end{bmatrix}\n",
    "w^{}w^T\n",
    "=\n",
    "Aw^{}w^T\n",
    "\\tag{3.4.54}\n",
    "\\end{align}\n",
    "$$\n",
    "\n",
    "이 답은 원래 행렬 $A$에 랭크-1 행렬 $w^{}w^T$를 곱해서 원래의 행렬 $A$와 가장 비슷한 행렬 $A'$을 만드는 문제와 같다.\n",
    "\n",
    "$$ \n",
    "\\begin{align}\n",
    "\\arg\\min_w \\Vert A - A' \\Vert = \\arg\\min_w \\Vert A^{} - A^{}w^{}w^T \\Vert \n",
    "\\tag{3.4.55}\n",
    "\\end{align}\n",
    "$$\n",
    "\n",
    "따라서 문제를 **랭크-1 근사문제(rank-1 approximation problem)**라고도 한다."
   ]
  },
  {
   "cell_type": "markdown",
   "metadata": {},
   "source": [
    "### $K$차원 근사"
   ]
  },
  {
   "cell_type": "markdown",
   "metadata": {},
   "source": [
    "이번에는 $N$개의 $M$차원 벡터 $a_1, a_2, \\cdots, a_N\\;(a_i \\in \\mathbf{R}^M)$를 1차원이 아니라 정규직교인 기저벡터 $w_1, w_2, \\cdots, w_K$로 이루어진 $K$차원 벡터공간으로 투영하여 가장 비슷한 $N$개의 $K$차원 벡터 $a^{\\Vert w}_1, a^{\\Vert w}_2, \\cdots, a^{\\Vert w}_N\\;$를 만들기 위한 정규직교 기저벡터 $w_1, w_2, \\cdots, w_K$를 찾는 문제를 생각하자. 이 문제는 랭크-$K$ 근사문제라고 한다.\n",
    "\n",
    "기저벡터행렬을 $W$라고 하자.\n",
    "\n",
    "$$ \n",
    "\\begin{align}\n",
    "W = \\begin{bmatrix} w_1 & w_2 & \\cdots & w_K \\end{bmatrix}\n",
    "\\tag{3.4.56}\n",
    "\\end{align}\n",
    "$$\n",
    "\n",
    "정규직교 기저벡터에 대한 벡터 $a_i$의 투영 $a^{\\Vert w}_i$는 각 기저벡터에 대한 내적으로 만들 수 있다.\n",
    "\n",
    "$$\n",
    "\\begin{align}\n",
    "\\begin{aligned}\n",
    "a^{\\Vert w}_i \n",
    "&= \n",
    "(a_i^Tw_1)w_1 +\n",
    "(a_i^Tw_2)w_2 +\n",
    "\\cdots\n",
    "+ (a_i^Tw_K)w_K \\\\\n",
    "\\end{aligned}\n",
    "=\n",
    "\\sum_{k=1}^K (a_i^Tw_k)w_k\n",
    "\\tag{3.4.57}\n",
    "\\end{align}\n",
    "$$\n",
    "\n",
    "벡터 $a_1, a_2, \\cdots, a_N$를 행벡터로 가지는 행렬 $A$를 가정하면 \n",
    "\n",
    "$$ \n",
    "\\begin{align}\n",
    "A = \\begin{bmatrix} a_1^T \\\\ a_2^T \\\\ \\vdots \\\\ a_N^T \\end{bmatrix}\n",
    "\\tag{3.4.58}\n",
    "\\end{align}\n",
    "$$\n",
    "\n",
    "모든 점들과의 거리의 제곱의 합은 다음처럼 행렬의 놈으로 계산할 수 있다.\n",
    "\n",
    "$$ \n",
    "\\begin{align}\n",
    "\\begin{aligned}\n",
    "\\sum_{i=1}^N \\Vert a_i^{\\perp w}\\Vert^2 \n",
    "&= \\sum_{i=1}^N \\Vert a_i\\Vert^2 - \\sum_{i=1}^N \\Vert a^{\\Vert w}_i\\Vert^2 \\\\\n",
    "&= \\Vert A \\Vert^2 - \\sum_{i=1}^N \\Vert a^{\\Vert w}_i\\Vert^2 \\\\\n",
    "\\end{aligned}\n",
    "\\tag{3.4.59}\n",
    "\\end{align}\n",
    "$$ \n",
    "\n",
    "행렬 $A$는 이미 주어져있으므로 이 값을 가장 작게 하려면 두 번째 항의 값을 가장 크게 하면 된다.\n",
    "두 번째 항은 K=1일 때와 같은 방법으로 분산행렬 형태로 바꿀 수 있다.\n",
    "\n",
    "$$ \n",
    "\\begin{align}\n",
    "\\begin{aligned}\n",
    "\\sum_{i=1}^N \\Vert a^{\\Vert w}_i\\Vert^2 \n",
    "&= \\sum_{i=1}^N \\sum_{k=1}^K \\Vert (a_i^Tw_k)w_k \\Vert^2 \\\\\n",
    "&= \\sum_{i=1}^N \\sum_{k=1}^K \\Vert a_i^Tw_k \\Vert^2 \\\\\n",
    "&= \\sum_{k=1}^K w_k^T A^TA w_k \\\\\n",
    "\\end{aligned}\n",
    "\\tag{3.4.60}\n",
    "\\end{align}\n",
    "$$ \n",
    "\n",
    "분산행렬의 고유분해를 사용하면\n",
    "\n",
    "$$\n",
    "\\begin{align}\n",
    "\\begin{aligned}\n",
    "\\sum_{k=1}^K w_k^T A^TA w_k \n",
    "&= \\sum_{k=1}^K w_k^T V \\Lambda V^T w_k \\\\\n",
    "&= \\sum_{k=1}^K w_k^T \\left( \\sum_{i=1}^{M}  \\sigma^2_iv_iv_i^T \\right) w_k \\\\\n",
    "&= \\sum_{k=1}^K \\sum_{i=1}^{M}\\sigma^2_i\\Vert v_i^Tw_k\\Vert^2 \\\\\n",
    "\\end{aligned}\n",
    "\\tag{3.4.61}\n",
    "\\end{align}\n",
    "$$\n"
   ]
  },
  {
   "cell_type": "markdown",
   "metadata": {},
   "source": [
    "이 문제도 1차원 근사문제처럼 풀면 다음과 같은 답을 얻을 수 있다.\n",
    "\n",
    "> **가장 큰 $K$개의 특잇값에 대응하는 오른쪽 특이벡터가 기저벡터일 때 가장 값이 커진다.**"
   ]
  },
  {
   "cell_type": "markdown",
   "metadata": {},
   "source": [
    "### 랭크-K 근사문제"
   ]
  },
  {
   "cell_type": "markdown",
   "metadata": {},
   "source": [
    "우리가 찾아야 하는 것은 이 값을 가장 크게 하는 $K$개의 영벡터가 아닌 직교하는 단위벡터 $w_k$이다. 고유분해의 성질로부터 **오른쪽 기저벡터 중 가장 큰 $K$개의 특잇값에 대응하는 오른쪽 특이벡터가 우리가 찾는 기저벡터가 된다.**"
   ]
  },
  {
   "cell_type": "markdown",
   "metadata": {},
   "source": [
    "이 문제는 다음처럼 랭크-$K$ 근사문제의 형태로 만들 수도 있다.\n",
    "\n",
    "$$\n",
    "\\begin{align}\n",
    "\\begin{aligned}\n",
    "a^{\\Vert w}_i \n",
    "&= \n",
    "(a_i^Tw_1)w_1 +\n",
    "(a_i^Tw_2)w_2 +\n",
    "\\cdots\n",
    "+ (a_i^Tw_K)w_K \\\\\n",
    "&=\n",
    "\\begin{bmatrix} w_1 & w_2 & \\cdots & w_K \\end{bmatrix}\n",
    "\\begin{bmatrix} a_i^Tw_1 \\\\ a_i^Tw_2 \\\\ \\vdots \\\\ a_i^Tw_K \\end{bmatrix} \\\\\n",
    "&=\n",
    "\\begin{bmatrix} w_1 & w_2 & \\cdots & w_K \\end{bmatrix}\n",
    "\\begin{bmatrix} w_1^T \\\\ w_2^T \\\\ \\vdots \\\\ w_K^T \\end{bmatrix} a_i \\\\\n",
    "&=\n",
    "WW^Ta_i\n",
    "\\end{aligned}\n",
    "\\tag{3.4.62}\n",
    "\\end{align}\n",
    "$$\n",
    "\n",
    "이러한 투영벡터를 모아놓은 행렬 $A'$는\n",
    "\n",
    "$$\n",
    "\\begin{align}\n",
    "A'=\n",
    "\\begin{bmatrix}\n",
    "\\left(a^{\\Vert w}_1\\right)^T \\\\\n",
    "\\left(a^{\\Vert w}_2\\right)^T \\\\\n",
    "\\vdots \\\\\n",
    "\\left(a^{\\Vert w}_N\\right)^T\n",
    "\\end{bmatrix}\n",
    "=\n",
    "\\begin{bmatrix}\n",
    "a_1^TW^{}W^T \\\\\n",
    "a_2^TW^{}W^T\\\\\n",
    "\\vdots \\\\\n",
    "a_N^TW^{}W^T\n",
    "\\end{bmatrix}\n",
    "=\n",
    "\\begin{bmatrix}\n",
    "a_1^T \\\\\n",
    "a_2^T \\\\\n",
    "\\vdots \\\\\n",
    "a_N^T\n",
    "\\end{bmatrix}\n",
    "W^{}W^T\n",
    "=\n",
    "AW^{}W^T\n",
    "\\tag{3.4.63}\n",
    "\\end{align}\n",
    "$$\n",
    "\n",
    "따라서 이 문제는 원래 행렬 $A$에 랭크-K 행렬 $W_{}W^T$를 곱해서 원래의 행렬 $A$와 가장 비슷한 행렬 $A'$을 만드는 문제와 같다.\n",
    "\n",
    "$$ \n",
    "\\begin{align}\n",
    "\\arg\\min_{w_1,\\cdots,w_K} \\Vert A - AW^{}W^T \\Vert \n",
    "\\tag{3.4.64}\n",
    "\\end{align}\n",
    "$$"
   ]
  }
 ],
 "metadata": {
  "kernelspec": {
   "display_name": "Python 3",
   "language": "python",
   "name": "python3"
  },
  "language_info": {
   "codemirror_mode": {
    "name": "ipython",
    "version": 3
   },
   "file_extension": ".py",
   "mimetype": "text/x-python",
   "name": "python",
   "nbconvert_exporter": "python",
   "pygments_lexer": "ipython3",
   "version": "3.7.1"
  },
  "pycharm": {
   "stem_cell": {
    "cell_type": "raw",
    "metadata": {
     "collapsed": false
    },
    "source": []
   }
  },
  "toc": {
   "base_numbering": 1,
   "nav_menu": {},
   "number_sections": false,
   "sideBar": true,
   "skip_h1_title": false,
   "title_cell": "Table of Contents",
   "title_sidebar": "Contents",
   "toc_cell": false,
   "toc_position": {},
   "toc_section_display": true,
   "toc_window_display": false
  }
 },
 "nbformat": 4,
 "nbformat_minor": 1
}
